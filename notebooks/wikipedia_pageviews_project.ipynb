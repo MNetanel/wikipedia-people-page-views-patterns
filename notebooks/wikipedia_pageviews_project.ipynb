{
 "cells": [
  {
   "cell_type": "markdown",
   "metadata": {},
   "source": [
    "<div align='center'><strong>Wikipedia Pageviews Project</strong>\n",
    "<br />\n",
    "<i>Netanel Madmoni</i>\n",
    "</div>\n",
    "\n",
    "----------------"
   ]
  },
  {
   "cell_type": "markdown",
   "metadata": {},
   "source": [
    "# Introduction"
   ]
  },
  {
   "cell_type": "code",
   "execution_count": 1,
   "metadata": {},
   "outputs": [],
   "source": [
    "#imports\n",
    "import numpy as np\n",
    "import pandas as pd\n",
    "import polars as pl\n",
    "from pathlib import Path\n",
    "from tqdm import tqdm\n",
    "from functools import reduce\n",
    "from itertools import product\n",
    "import matplotlib.pyplot as plt\n",
    "from dotenv import load_dotenv\n",
    "import os\n",
    "import json\n",
    "import seaborn as sns\n",
    "from rich import print\n",
    "from IPython.display import Image\n",
    "\n",
    "load_dotenv()\n",
    "\n",
    "RAW_DATA_DIR = Path(os.getenv('RAW_DATA_DIR'))\n",
    "PROCESSED_DATA_DIR = Path(os.getenv('PROCESSED_DATA_DIR'))"
   ]
  },
  {
   "cell_type": "markdown",
   "metadata": {},
   "source": [
    "# Raw Data Acquisition"
   ]
  },
  {
   "cell_type": "markdown",
   "metadata": {},
   "source": [
    "1. Get List of people on Wikipedia\n",
    "```sql\n",
    "SELECT DISTINCT en_wiki -- page title name in english wikipedia\t\n",
    "FROM  `rising-theater-416315.wikipedia_pageviews.wikidata`,\n",
    "      UNNEST(instance_of) AS instance_of_struct\n",
    "\n",
    "    \n",
    "WHERE instance_of_struct.numeric_id = 5 -- instance_of = 5 => person\n",
    "```\n",
    "\n",
    "2. Get pagevoew data for those people\n",
    "\n",
    "      ```sql\n",
    "      SELECT title, DATETIME_TRUNC(datehour, MONTH) AS month, SUM(views) AS monthly_views\n",
    "\n",
    "                  \n",
    "      FROM  `rising-theater-416315.wikipedia_pageviews.pageviews_2023` a\n",
    "            JOIN `rising-theater-416315.data_for_project.distinct_people` b\n",
    "            ON a.title = b.en_wiki\n",
    "\n",
    "      \n",
    "      WHERE datehour IS NOT NULL\n",
    "      AND wiki = \"en\"\n",
    "\n",
    "      GROUP BY title, DATETIME_TRUNC(datehour, MONTH)\n",
    "      ```\n",
    "\n",
    "3. Get wikidata for those people\n",
    "      ```sql\n",
    "      SELECT *\t\n",
    "      FROM  `rising-theater-416315.wikipedia_pageviews.wikidata`,\n",
    "      UNNEST(instance_of) AS instance_of_struct\n",
    "\n",
    "    \n",
    "      WHERE instance_of_struct.numeric_id = 5\n",
    "      ```"
   ]
  },
  {
   "cell_type": "markdown",
   "metadata": {},
   "source": [
    "# Data transformation"
   ]
  },
  {
   "cell_type": "markdown",
   "metadata": {},
   "source": [
    "## Views Data"
   ]
  },
  {
   "cell_type": "markdown",
   "metadata": {},
   "source": [
    "Are organized in csv files, one per year."
   ]
  },
  {
   "cell_type": "code",
   "execution_count": 6,
   "metadata": {},
   "outputs": [
    {
     "name": "stdout",
     "output_type": "stream",
     "text": [
      "monthly_views_2015.csv - 411.06 MB)\n",
      "monthly_views_2016.csv - 658.91 MB)\n",
      "monthly_views_2019.csv - 803.42 MB)\n",
      "monthly_views_2020.csv - 851.54 MB)\n",
      "monthly_views_2017.csv - 708.39 MB)\n",
      "monthly_views_2022.csv - 949.62 MB)\n",
      "monthly_views_2023.csv - 980.47 MB)\n",
      "monthly_views_2021.csv - 904.32 MB)\n",
      "monthly_views_2018.csv - 755.98 MB)\n",
      "Total files: 0\n"
     ]
    }
   ],
   "source": [
    "# Read raw data\n",
    "dfs = []\n",
    "for file in RAW_DATA_DIR.glob(r'monthly_views_*.csv'):\n",
    "    print(f'{file.name} - {os.stat(file).st_size / 1024 ** 2:.2f} MB)')\n",
    "    dfs.append(pl.read_csv(file))\n",
    "\n",
    "print(f'Total files: {len(dfs)}')"
   ]
  },
  {
   "cell_type": "code",
   "execution_count": 3,
   "metadata": {},
   "outputs": [
    {
     "data": {
      "text/html": [
       "<div><style>\n",
       ".dataframe > thead > tr,\n",
       ".dataframe > tbody > tr {\n",
       "  text-align: right;\n",
       "  white-space: pre-wrap;\n",
       "}\n",
       "</style>\n",
       "<small>shape: (1_976_658, 105)</small><table border=\"1\" class=\"dataframe\"><thead><tr><th>title</th><th>2015-05</th><th>2015-06</th><th>2015-07</th><th>2015-08</th><th>2015-09</th><th>2015-10</th><th>2015-11</th><th>2015-12</th><th>2016-01</th><th>2016-02</th><th>2016-03</th><th>2016-04</th><th>2016-05</th><th>2016-06</th><th>2016-07</th><th>2016-08</th><th>2016-09</th><th>2016-10</th><th>2016-11</th><th>2016-12</th><th>2017-01</th><th>2017-02</th><th>2017-03</th><th>2017-04</th><th>2017-05</th><th>2017-06</th><th>2017-07</th><th>2017-08</th><th>2017-09</th><th>2017-10</th><th>2017-11</th><th>2017-12</th><th>2018-01</th><th>2018-02</th><th>2018-03</th><th>2018-04</th><th>&hellip;</th><th>2020-12</th><th>2021-01</th><th>2021-02</th><th>2021-03</th><th>2021-04</th><th>2021-05</th><th>2021-06</th><th>2021-07</th><th>2021-08</th><th>2021-09</th><th>2021-10</th><th>2021-11</th><th>2021-12</th><th>2022-01</th><th>2022-02</th><th>2022-03</th><th>2022-04</th><th>2022-05</th><th>2022-06</th><th>2022-07</th><th>2022-08</th><th>2022-09</th><th>2022-10</th><th>2022-11</th><th>2022-12</th><th>2023-01</th><th>2023-02</th><th>2023-03</th><th>2023-04</th><th>2023-05</th><th>2023-06</th><th>2023-07</th><th>2023-08</th><th>2023-09</th><th>2023-10</th><th>2023-11</th><th>2023-12</th></tr><tr><td>str</td><td>i64</td><td>i64</td><td>i64</td><td>i64</td><td>i64</td><td>i64</td><td>i64</td><td>i64</td><td>i64</td><td>i64</td><td>i64</td><td>i64</td><td>i64</td><td>i64</td><td>i64</td><td>i64</td><td>i64</td><td>i64</td><td>i64</td><td>i64</td><td>i64</td><td>i64</td><td>i64</td><td>i64</td><td>i64</td><td>i64</td><td>i64</td><td>i64</td><td>i64</td><td>i64</td><td>i64</td><td>i64</td><td>i64</td><td>i64</td><td>i64</td><td>i64</td><td>&hellip;</td><td>i64</td><td>i64</td><td>i64</td><td>i64</td><td>i64</td><td>i64</td><td>i64</td><td>i64</td><td>i64</td><td>i64</td><td>i64</td><td>i64</td><td>i64</td><td>i64</td><td>i64</td><td>i64</td><td>i64</td><td>i64</td><td>i64</td><td>i64</td><td>i64</td><td>i64</td><td>i64</td><td>i64</td><td>i64</td><td>i64</td><td>i64</td><td>i64</td><td>i64</td><td>i64</td><td>i64</td><td>i64</td><td>i64</td><td>i64</td><td>i64</td><td>i64</td><td>i64</td></tr></thead><tbody><tr><td>&quot;Neophyte_II_of…</td><td>null</td><td>null</td><td>null</td><td>null</td><td>null</td><td>null</td><td>null</td><td>null</td><td>null</td><td>null</td><td>null</td><td>null</td><td>null</td><td>null</td><td>null</td><td>null</td><td>null</td><td>null</td><td>null</td><td>null</td><td>null</td><td>null</td><td>null</td><td>null</td><td>null</td><td>null</td><td>null</td><td>null</td><td>null</td><td>null</td><td>null</td><td>null</td><td>null</td><td>null</td><td>null</td><td>null</td><td>&hellip;</td><td>null</td><td>null</td><td>null</td><td>null</td><td>null</td><td>14</td><td>17</td><td>26</td><td>10</td><td>17</td><td>24</td><td>29</td><td>32</td><td>51</td><td>20</td><td>36</td><td>46</td><td>32</td><td>119</td><td>27</td><td>32</td><td>18</td><td>26</td><td>22</td><td>30</td><td>30</td><td>26</td><td>35</td><td>33</td><td>33</td><td>26</td><td>25</td><td>24</td><td>29</td><td>44</td><td>23</td><td>25</td></tr><tr><td>&quot;Olivia_Giovett…</td><td>26</td><td>34</td><td>52</td><td>20</td><td>41</td><td>40</td><td>19</td><td>21</td><td>27</td><td>23</td><td>32</td><td>21</td><td>32</td><td>29</td><td>57</td><td>47</td><td>31</td><td>21</td><td>24</td><td>15</td><td>42</td><td>17</td><td>45</td><td>30</td><td>25</td><td>34</td><td>36</td><td>22</td><td>22</td><td>22</td><td>16</td><td>28</td><td>30</td><td>34</td><td>22</td><td>19</td><td>&hellip;</td><td>39</td><td>30</td><td>32</td><td>34</td><td>37</td><td>29</td><td>14</td><td>26</td><td>24</td><td>36</td><td>39</td><td>35</td><td>20</td><td>63</td><td>33</td><td>39</td><td>19</td><td>19</td><td>30</td><td>20</td><td>14</td><td>21</td><td>35</td><td>52</td><td>25</td><td>25</td><td>33</td><td>20</td><td>18</td><td>22</td><td>31</td><td>26</td><td>16</td><td>20</td><td>59</td><td>41</td><td>19</td></tr><tr><td>&quot;Alexander_Gran…</td><td>9</td><td>48</td><td>24</td><td>23</td><td>32</td><td>24</td><td>12</td><td>20</td><td>19</td><td>7</td><td>8</td><td>14</td><td>18</td><td>27</td><td>11</td><td>23</td><td>12</td><td>19</td><td>15</td><td>17</td><td>11</td><td>13</td><td>26</td><td>14</td><td>16</td><td>18</td><td>13</td><td>20</td><td>13</td><td>26</td><td>16</td><td>19</td><td>32</td><td>14</td><td>18</td><td>12</td><td>&hellip;</td><td>5</td><td>13</td><td>9</td><td>12</td><td>11</td><td>9</td><td>14</td><td>19</td><td>9</td><td>7</td><td>5</td><td>11</td><td>4</td><td>11</td><td>9</td><td>7</td><td>9</td><td>9</td><td>4</td><td>5</td><td>12</td><td>72</td><td>6</td><td>10</td><td>10</td><td>10</td><td>2</td><td>7</td><td>10</td><td>7</td><td>2</td><td>7</td><td>4</td><td>9</td><td>10</td><td>1</td><td>5</td></tr><tr><td>&quot;Bernard_H._Rae…</td><td>17</td><td>16</td><td>21</td><td>20</td><td>19</td><td>18</td><td>10</td><td>9</td><td>17</td><td>5</td><td>8</td><td>10</td><td>5</td><td>28</td><td>19</td><td>11</td><td>17</td><td>14</td><td>13</td><td>19</td><td>16</td><td>13</td><td>24</td><td>18</td><td>10</td><td>10</td><td>14</td><td>13</td><td>14</td><td>19</td><td>5</td><td>15</td><td>26</td><td>12</td><td>13</td><td>10</td><td>&hellip;</td><td>2</td><td>1</td><td>4</td><td>1</td><td>5</td><td>5</td><td>3</td><td>5</td><td>2</td><td>2</td><td>3</td><td>4</td><td>null</td><td>12</td><td>4</td><td>3</td><td>2</td><td>1</td><td>4</td><td>null</td><td>1</td><td>3</td><td>8</td><td>6</td><td>3</td><td>1</td><td>5</td><td>1</td><td>3</td><td>5</td><td>7</td><td>3</td><td>1</td><td>2</td><td>null</td><td>1</td><td>2</td></tr><tr><td>&quot;Leigh_Magar&quot;</td><td>47</td><td>46</td><td>64</td><td>36</td><td>56</td><td>45</td><td>41</td><td>26</td><td>30</td><td>48</td><td>15</td><td>26</td><td>19</td><td>38</td><td>28</td><td>38</td><td>37</td><td>51</td><td>24</td><td>36</td><td>17</td><td>15</td><td>45</td><td>39</td><td>26</td><td>22</td><td>21</td><td>14</td><td>19</td><td>23</td><td>16</td><td>32</td><td>36</td><td>21</td><td>18</td><td>20</td><td>&hellip;</td><td>8</td><td>8</td><td>9</td><td>13</td><td>6</td><td>3</td><td>12</td><td>13</td><td>12</td><td>5</td><td>8</td><td>8</td><td>11</td><td>3</td><td>9</td><td>8</td><td>13</td><td>13</td><td>9</td><td>20</td><td>9</td><td>8</td><td>14</td><td>27</td><td>14</td><td>13</td><td>20</td><td>13</td><td>10</td><td>9</td><td>5</td><td>9</td><td>9</td><td>8</td><td>5</td><td>10</td><td>2</td></tr><tr><td>&hellip;</td><td>&hellip;</td><td>&hellip;</td><td>&hellip;</td><td>&hellip;</td><td>&hellip;</td><td>&hellip;</td><td>&hellip;</td><td>&hellip;</td><td>&hellip;</td><td>&hellip;</td><td>&hellip;</td><td>&hellip;</td><td>&hellip;</td><td>&hellip;</td><td>&hellip;</td><td>&hellip;</td><td>&hellip;</td><td>&hellip;</td><td>&hellip;</td><td>&hellip;</td><td>&hellip;</td><td>&hellip;</td><td>&hellip;</td><td>&hellip;</td><td>&hellip;</td><td>&hellip;</td><td>&hellip;</td><td>&hellip;</td><td>&hellip;</td><td>&hellip;</td><td>&hellip;</td><td>&hellip;</td><td>&hellip;</td><td>&hellip;</td><td>&hellip;</td><td>&hellip;</td><td>&hellip;</td><td>&hellip;</td><td>&hellip;</td><td>&hellip;</td><td>&hellip;</td><td>&hellip;</td><td>&hellip;</td><td>&hellip;</td><td>&hellip;</td><td>&hellip;</td><td>&hellip;</td><td>&hellip;</td><td>&hellip;</td><td>&hellip;</td><td>&hellip;</td><td>&hellip;</td><td>&hellip;</td><td>&hellip;</td><td>&hellip;</td><td>&hellip;</td><td>&hellip;</td><td>&hellip;</td><td>&hellip;</td><td>&hellip;</td><td>&hellip;</td><td>&hellip;</td><td>&hellip;</td><td>&hellip;</td><td>&hellip;</td><td>&hellip;</td><td>&hellip;</td><td>&hellip;</td><td>&hellip;</td><td>&hellip;</td><td>&hellip;</td><td>&hellip;</td><td>&hellip;</td><td>&hellip;</td></tr><tr><td>&quot;Edgar_Dibden&quot;</td><td>null</td><td>null</td><td>null</td><td>null</td><td>null</td><td>null</td><td>null</td><td>null</td><td>null</td><td>null</td><td>null</td><td>null</td><td>null</td><td>null</td><td>null</td><td>null</td><td>null</td><td>null</td><td>null</td><td>null</td><td>null</td><td>null</td><td>null</td><td>null</td><td>null</td><td>null</td><td>null</td><td>null</td><td>null</td><td>null</td><td>null</td><td>null</td><td>null</td><td>null</td><td>null</td><td>null</td><td>&hellip;</td><td>null</td><td>null</td><td>null</td><td>null</td><td>null</td><td>null</td><td>null</td><td>null</td><td>null</td><td>null</td><td>null</td><td>null</td><td>null</td><td>null</td><td>null</td><td>null</td><td>null</td><td>null</td><td>null</td><td>null</td><td>null</td><td>null</td><td>null</td><td>null</td><td>null</td><td>null</td><td>null</td><td>null</td><td>null</td><td>null</td><td>16</td><td>6</td><td>10</td><td>6</td><td>7</td><td>4</td><td>2</td></tr><tr><td>&quot;David_Mulready…</td><td>56</td><td>51</td><td>78</td><td>51</td><td>54</td><td>59</td><td>36</td><td>44</td><td>31</td><td>33</td><td>29</td><td>29</td><td>29</td><td>54</td><td>44</td><td>45</td><td>23</td><td>36</td><td>38</td><td>35</td><td>32</td><td>31</td><td>42</td><td>27</td><td>44</td><td>33</td><td>27</td><td>52</td><td>29</td><td>41</td><td>21</td><td>36</td><td>47</td><td>64</td><td>37</td><td>30</td><td>&hellip;</td><td>16</td><td>21</td><td>27</td><td>33</td><td>15</td><td>22</td><td>31</td><td>15</td><td>25</td><td>16</td><td>25</td><td>12</td><td>25</td><td>27</td><td>31</td><td>18</td><td>27</td><td>25</td><td>20</td><td>21</td><td>34</td><td>15</td><td>16</td><td>14</td><td>15</td><td>19</td><td>26</td><td>19</td><td>18</td><td>12</td><td>7</td><td>19</td><td>12</td><td>14</td><td>14</td><td>7</td><td>6</td></tr><tr><td>&quot;Bruno_Riem&quot;</td><td>40</td><td>29</td><td>34</td><td>17</td><td>31</td><td>29</td><td>22</td><td>31</td><td>14</td><td>8</td><td>8</td><td>16</td><td>13</td><td>16</td><td>7</td><td>17</td><td>24</td><td>16</td><td>20</td><td>14</td><td>14</td><td>7</td><td>23</td><td>16</td><td>25</td><td>14</td><td>13</td><td>15</td><td>13</td><td>20</td><td>10</td><td>17</td><td>31</td><td>14</td><td>13</td><td>12</td><td>&hellip;</td><td>4</td><td>9</td><td>2</td><td>4</td><td>5</td><td>4</td><td>7</td><td>8</td><td>6</td><td>7</td><td>8</td><td>5</td><td>5</td><td>4</td><td>4</td><td>7</td><td>2</td><td>5</td><td>4</td><td>11</td><td>2</td><td>4</td><td>5</td><td>5</td><td>3</td><td>5</td><td>2</td><td>2</td><td>4</td><td>3</td><td>7</td><td>5</td><td>4</td><td>3</td><td>3</td><td>1</td><td>2</td></tr><tr><td>&quot;Bon_Spence&quot;</td><td>23</td><td>52</td><td>38</td><td>26</td><td>40</td><td>23</td><td>16</td><td>22</td><td>21</td><td>12</td><td>18</td><td>13</td><td>31</td><td>10</td><td>30</td><td>27</td><td>17</td><td>14</td><td>11</td><td>19</td><td>18</td><td>10</td><td>29</td><td>27</td><td>24</td><td>17</td><td>24</td><td>19</td><td>19</td><td>26</td><td>21</td><td>27</td><td>48</td><td>17</td><td>17</td><td>19</td><td>&hellip;</td><td>13</td><td>5</td><td>15</td><td>10</td><td>8</td><td>14</td><td>9</td><td>13</td><td>16</td><td>8</td><td>10</td><td>12</td><td>7</td><td>14</td><td>8</td><td>11</td><td>6</td><td>6</td><td>4</td><td>10</td><td>12</td><td>14</td><td>10</td><td>14</td><td>10</td><td>12</td><td>5</td><td>4</td><td>10</td><td>17</td><td>11</td><td>8</td><td>8</td><td>10</td><td>8</td><td>7</td><td>6</td></tr><tr><td>&quot;John_Bain_(foo…</td><td>null</td><td>null</td><td>null</td><td>null</td><td>null</td><td>null</td><td>null</td><td>null</td><td>null</td><td>null</td><td>null</td><td>null</td><td>null</td><td>null</td><td>null</td><td>null</td><td>null</td><td>null</td><td>null</td><td>null</td><td>null</td><td>null</td><td>null</td><td>null</td><td>null</td><td>null</td><td>null</td><td>null</td><td>null</td><td>null</td><td>null</td><td>null</td><td>null</td><td>null</td><td>null</td><td>null</td><td>&hellip;</td><td>null</td><td>null</td><td>null</td><td>null</td><td>null</td><td>null</td><td>null</td><td>null</td><td>null</td><td>null</td><td>null</td><td>null</td><td>null</td><td>null</td><td>null</td><td>null</td><td>54</td><td>6</td><td>14</td><td>17</td><td>18</td><td>6</td><td>18</td><td>12</td><td>9</td><td>21</td><td>11</td><td>8</td><td>7</td><td>19</td><td>10</td><td>6</td><td>6</td><td>5</td><td>16</td><td>8</td><td>7</td></tr></tbody></table></div>"
      ],
      "text/plain": [
       "shape: (1_976_658, 105)\n",
       "┌────────────────────────┬─────────┬─────────┬─────────┬───┬─────────┬─────────┬─────────┬─────────┐\n",
       "│ title                  ┆ 2015-05 ┆ 2015-06 ┆ 2015-07 ┆ … ┆ 2023-09 ┆ 2023-10 ┆ 2023-11 ┆ 2023-12 │\n",
       "│ ---                    ┆ ---     ┆ ---     ┆ ---     ┆   ┆ ---     ┆ ---     ┆ ---     ┆ ---     │\n",
       "│ str                    ┆ i64     ┆ i64     ┆ i64     ┆   ┆ i64     ┆ i64     ┆ i64     ┆ i64     │\n",
       "╞════════════════════════╪═════════╪═════════╪═════════╪═══╪═════════╪═════════╪═════════╪═════════╡\n",
       "│ Neophyte_II_of_Ungro-W ┆ null    ┆ null    ┆ null    ┆ … ┆ 29      ┆ 44      ┆ 23      ┆ 25      │\n",
       "│ allachia               ┆         ┆         ┆         ┆   ┆         ┆         ┆         ┆         │\n",
       "│ Olivia_Giovetti        ┆ 26      ┆ 34      ┆ 52      ┆ … ┆ 20      ┆ 59      ┆ 41      ┆ 19      │\n",
       "│ Alexander_Grant_McLean ┆ 9       ┆ 48      ┆ 24      ┆ … ┆ 9       ┆ 10      ┆ 1       ┆ 5       │\n",
       "│ Bernard_H._Raether     ┆ 17      ┆ 16      ┆ 21      ┆ … ┆ 2       ┆ null    ┆ 1       ┆ 2       │\n",
       "│ Leigh_Magar            ┆ 47      ┆ 46      ┆ 64      ┆ … ┆ 8       ┆ 5       ┆ 10      ┆ 2       │\n",
       "│ …                      ┆ …       ┆ …       ┆ …       ┆ … ┆ …       ┆ …       ┆ …       ┆ …       │\n",
       "│ Edgar_Dibden           ┆ null    ┆ null    ┆ null    ┆ … ┆ 6       ┆ 7       ┆ 4       ┆ 2       │\n",
       "│ David_Mulready         ┆ 56      ┆ 51      ┆ 78      ┆ … ┆ 14      ┆ 14      ┆ 7       ┆ 6       │\n",
       "│ Bruno_Riem             ┆ 40      ┆ 29      ┆ 34      ┆ … ┆ 3       ┆ 3       ┆ 1       ┆ 2       │\n",
       "│ Bon_Spence             ┆ 23      ┆ 52      ┆ 38      ┆ … ┆ 10      ┆ 8       ┆ 7       ┆ 6       │\n",
       "│ John_Bain_(footballer, ┆ null    ┆ null    ┆ null    ┆ … ┆ 5       ┆ 16      ┆ 8       ┆ 7       │\n",
       "│ _born_1923…            ┆         ┆         ┆         ┆   ┆         ┆         ┆         ┆         │\n",
       "└────────────────────────┴─────────┴─────────┴─────────┴───┴─────────┴─────────┴─────────┴─────────┘"
      ]
     },
     "execution_count": 3,
     "metadata": {},
     "output_type": "execute_result"
    }
   ],
   "source": [
    "try:\n",
    "    views_df = pl.read_parquet(PROCESSED_DATA_DIR / 'pageviews_all.parquet')\n",
    "except FileNotFoundError:\n",
    "    # Pivot\n",
    "    transformed_dfs = []\n",
    "    for df in tqdm(dfs):\n",
    "        transformed_df = (df.with_columns(pl.col('month')\n",
    "                                        .map_elements(lambda s: f'{s[:4]}-{s[5:7]}')\n",
    "                                        .alias('year_month'))\n",
    "                        .pivot(index='title', columns='year_month', values='monthly_views')\n",
    "        )\n",
    "        transformed_dfs.append(transformed_df)\n",
    "    # Join\n",
    "    all_names = pl.concat([df.select('title') for df in dfs]).unique()\n",
    "    print(f'{len(all_names):,}')\n",
    "    views_df = all_names\n",
    "    for i, df in tqdm(enumerate(transformed_dfs)):\n",
    "        views_df = df.join(views_df, 'title', 'outer_coalesce')\n",
    "    views_df = views_df.select(['title', *sorted([c for c in views_df.columns if c != 'title'])])\n",
    "    views_df.write_parquet(f'{PROCESSED_DATA_DIR}/pageviews_all.parquet')\n",
    "\n",
    "views_df"
   ]
  },
  {
   "cell_type": "markdown",
   "metadata": {},
   "source": [
    "### Additional Features Extraction"
   ]
  },
  {
   "cell_type": "markdown",
   "metadata": {},
   "source": [
    "## Entity Data"
   ]
  },
  {
   "cell_type": "markdown",
   "metadata": {},
   "source": [
    "### Reading the Data"
   ]
  },
  {
   "cell_type": "markdown",
   "metadata": {},
   "source": [
    "Are organized in json files."
   ]
  },
  {
   "cell_type": "code",
   "execution_count": 2,
   "metadata": {},
   "outputs": [
    {
     "data": {
      "text/plain": [
       "400"
      ]
     },
     "execution_count": 2,
     "metadata": {},
     "output_type": "execute_result"
    }
   ],
   "source": [
    "info_files = (RAW_DATA_DIR / 'wikidata').glob('*')\n",
    "len(list(info_files))"
   ]
  },
  {
   "cell_type": "markdown",
   "metadata": {},
   "source": [
    "For example..."
   ]
  },
  {
   "cell_type": "code",
   "execution_count": 86,
   "metadata": {},
   "outputs": [
    {
     "data": {
      "text/html": [
       "<pre style=\"white-space:pre;overflow-x:auto;line-height:normal;font-family:Menlo,'DejaVu Sans Mono',consolas,'Courier New',monospace\"><span style=\"font-weight: bold\">{</span>\n",
       "    <span style=\"color: #008000; text-decoration-color: #008000\">'id'</span>: <span style=\"color: #008000; text-decoration-color: #008000\">'Q17122148'</span>,\n",
       "    <span style=\"color: #008000; text-decoration-color: #008000\">'numeric_id'</span>: <span style=\"color: #008000; text-decoration-color: #008000\">'17122148'</span>,\n",
       "    <span style=\"color: #008000; text-decoration-color: #008000\">'en_label'</span>: <span style=\"color: #008000; text-decoration-color: #008000\">'Albrecht Joseph'</span>,\n",
       "    <span style=\"color: #008000; text-decoration-color: #008000\">'en_wiki'</span>: <span style=\"color: #008000; text-decoration-color: #008000\">'Albrecht_Joseph'</span>,\n",
       "    <span style=\"color: #008000; text-decoration-color: #008000\">'en_description'</span>: <span style=\"color: #008000; text-decoration-color: #008000\">'German screenwriter, film editor and author'</span>,\n",
       "    <span style=\"color: #008000; text-decoration-color: #008000\">'type'</span>: <span style=\"color: #008000; text-decoration-color: #008000\">'item'</span>,\n",
       "    <span style=\"color: #008000; text-decoration-color: #008000\">'sitelinks'</span>: <span style=\"font-weight: bold\">[</span>\n",
       "        <span style=\"font-weight: bold\">{</span><span style=\"color: #008000; text-decoration-color: #008000\">'site'</span>: <span style=\"color: #008000; text-decoration-color: #008000\">'dewiki'</span>, <span style=\"color: #008000; text-decoration-color: #008000\">'title'</span>: <span style=\"color: #008000; text-decoration-color: #008000\">'Albrecht Joseph'</span>, <span style=\"color: #008000; text-decoration-color: #008000\">'encoded'</span>: <span style=\"color: #008000; text-decoration-color: #008000\">'Albrecht_Joseph'</span><span style=\"font-weight: bold\">}</span>,\n",
       "        <span style=\"font-weight: bold\">{</span><span style=\"color: #008000; text-decoration-color: #008000\">'site'</span>: <span style=\"color: #008000; text-decoration-color: #008000\">'enwiki'</span>, <span style=\"color: #008000; text-decoration-color: #008000\">'title'</span>: <span style=\"color: #008000; text-decoration-color: #008000\">'Albrecht Joseph'</span>, <span style=\"color: #008000; text-decoration-color: #008000\">'encoded'</span>: <span style=\"color: #008000; text-decoration-color: #008000\">'Albrecht_Joseph'</span><span style=\"font-weight: bold\">}</span>,\n",
       "        <span style=\"font-weight: bold\">{</span><span style=\"color: #008000; text-decoration-color: #008000\">'site'</span>: <span style=\"color: #008000; text-decoration-color: #008000\">'frwiki'</span>, <span style=\"color: #008000; text-decoration-color: #008000\">'title'</span>: <span style=\"color: #008000; text-decoration-color: #008000\">'Albrecht Joseph'</span>, <span style=\"color: #008000; text-decoration-color: #008000\">'encoded'</span>: <span style=\"color: #008000; text-decoration-color: #008000\">'Albrecht_Joseph'</span><span style=\"font-weight: bold\">}</span>,\n",
       "        <span style=\"font-weight: bold\">{</span><span style=\"color: #008000; text-decoration-color: #008000\">'site'</span>: <span style=\"color: #008000; text-decoration-color: #008000\">'arwiki'</span>, <span style=\"color: #008000; text-decoration-color: #008000\">'title'</span>: <span style=\"color: #008000; text-decoration-color: #008000\">'ألبرشت جوزيف'</span>, <span style=\"color: #008000; text-decoration-color: #008000\">'encoded'</span>: <span style=\"color: #008000; text-decoration-color: #008000\">'ألبرشت_جوزيف'</span><span style=\"font-weight: bold\">}</span>,\n",
       "        <span style=\"font-weight: bold\">{</span><span style=\"color: #008000; text-decoration-color: #008000\">'site'</span>: <span style=\"color: #008000; text-decoration-color: #008000\">'arzwiki'</span>, <span style=\"color: #008000; text-decoration-color: #008000\">'title'</span>: <span style=\"color: #008000; text-decoration-color: #008000\">'البرشت چوزيف'</span>, <span style=\"color: #008000; text-decoration-color: #008000\">'encoded'</span>: <span style=\"color: #008000; text-decoration-color: #008000\">'البرشت_چوزيف'</span><span style=\"font-weight: bold\">}</span>,\n",
       "        <span style=\"font-weight: bold\">{</span><span style=\"color: #008000; text-decoration-color: #008000\">'site'</span>: <span style=\"color: #008000; text-decoration-color: #008000\">'fawiki'</span>, <span style=\"color: #008000; text-decoration-color: #008000\">'title'</span>: <span style=\"color: #008000; text-decoration-color: #008000\">'آلبرشت یوزف'</span>, <span style=\"color: #008000; text-decoration-color: #008000\">'encoded'</span>: <span style=\"color: #008000; text-decoration-color: #008000\">'آلبرشت_یوزف'</span><span style=\"font-weight: bold\">}</span>\n",
       "    <span style=\"font-weight: bold\">]</span>,\n",
       "    <span style=\"color: #008000; text-decoration-color: #008000\">'descriptions'</span>: <span style=\"font-weight: bold\">[</span>\n",
       "        <span style=\"font-weight: bold\">{</span><span style=\"color: #008000; text-decoration-color: #008000\">'language'</span>: <span style=\"color: #008000; text-decoration-color: #008000\">'de'</span>, <span style=\"color: #008000; text-decoration-color: #008000\">'value'</span>: <span style=\"color: #008000; text-decoration-color: #008000\">'deutsch-amerikanischer Theater- und Filmschaffender'</span><span style=\"font-weight: bold\">}</span>,\n",
       "        <span style=\"font-weight: bold\">{</span><span style=\"color: #008000; text-decoration-color: #008000\">'language'</span>: <span style=\"color: #008000; text-decoration-color: #008000\">'fa'</span>, <span style=\"color: #008000; text-decoration-color: #008000\">'value'</span>: <span style=\"color: #008000; text-decoration-color: #008000\">'فیلمنامه\\u200cنویس، تدوینگر، و نویسنده آلمانی'</span><span style=\"font-weight: bold\">}</span>,\n",
       "        <span style=\"font-weight: bold\">{</span><span style=\"color: #008000; text-decoration-color: #008000\">'language'</span>: <span style=\"color: #008000; text-decoration-color: #008000\">'en'</span>, <span style=\"color: #008000; text-decoration-color: #008000\">'value'</span>: <span style=\"color: #008000; text-decoration-color: #008000\">'German screenwriter, film editor and author'</span><span style=\"font-weight: bold\">}</span>,\n",
       "        <span style=\"font-weight: bold\">{</span><span style=\"color: #008000; text-decoration-color: #008000\">'language'</span>: <span style=\"color: #008000; text-decoration-color: #008000\">'nl'</span>, <span style=\"color: #008000; text-decoration-color: #008000\">'value'</span>: <span style=\"color: #008000; text-decoration-color: #008000\">'Duits scenarioschrijver (1901-1991)'</span><span style=\"font-weight: bold\">}</span>,\n",
       "        <span style=\"font-weight: bold\">{</span><span style=\"color: #008000; text-decoration-color: #008000\">'language'</span>: <span style=\"color: #008000; text-decoration-color: #008000\">'sv'</span>, <span style=\"color: #008000; text-decoration-color: #008000\">'value'</span>: <span style=\"color: #008000; text-decoration-color: #008000\">'tysk författare och filmklippare'</span><span style=\"font-weight: bold\">}</span>\n",
       "    <span style=\"font-weight: bold\">]</span>,\n",
       "    <span style=\"color: #008000; text-decoration-color: #008000\">'labels'</span>: <span style=\"font-weight: bold\">[</span>\n",
       "        <span style=\"font-weight: bold\">{</span><span style=\"color: #008000; text-decoration-color: #008000\">'language'</span>: <span style=\"color: #008000; text-decoration-color: #008000\">'de'</span>, <span style=\"color: #008000; text-decoration-color: #008000\">'value'</span>: <span style=\"color: #008000; text-decoration-color: #008000\">'Albrecht Joseph'</span><span style=\"font-weight: bold\">}</span>,\n",
       "        <span style=\"font-weight: bold\">{</span><span style=\"color: #008000; text-decoration-color: #008000\">'language'</span>: <span style=\"color: #008000; text-decoration-color: #008000\">'fr'</span>, <span style=\"color: #008000; text-decoration-color: #008000\">'value'</span>: <span style=\"color: #008000; text-decoration-color: #008000\">'Albrecht Joseph'</span><span style=\"font-weight: bold\">}</span>,\n",
       "        <span style=\"font-weight: bold\">{</span><span style=\"color: #008000; text-decoration-color: #008000\">'language'</span>: <span style=\"color: #008000; text-decoration-color: #008000\">'nl'</span>, <span style=\"color: #008000; text-decoration-color: #008000\">'value'</span>: <span style=\"color: #008000; text-decoration-color: #008000\">'Albrecht Joseph'</span><span style=\"font-weight: bold\">}</span>,\n",
       "        <span style=\"font-weight: bold\">{</span><span style=\"color: #008000; text-decoration-color: #008000\">'language'</span>: <span style=\"color: #008000; text-decoration-color: #008000\">'en'</span>, <span style=\"color: #008000; text-decoration-color: #008000\">'value'</span>: <span style=\"color: #008000; text-decoration-color: #008000\">'Albrecht Joseph'</span><span style=\"font-weight: bold\">}</span>,\n",
       "        <span style=\"font-weight: bold\">{</span><span style=\"color: #008000; text-decoration-color: #008000\">'language'</span>: <span style=\"color: #008000; text-decoration-color: #008000\">'es'</span>, <span style=\"color: #008000; text-decoration-color: #008000\">'value'</span>: <span style=\"color: #008000; text-decoration-color: #008000\">'Albrecht Joseph'</span><span style=\"font-weight: bold\">}</span>,\n",
       "        <span style=\"font-weight: bold\">{</span><span style=\"color: #008000; text-decoration-color: #008000\">'language'</span>: <span style=\"color: #008000; text-decoration-color: #008000\">'hu'</span>, <span style=\"color: #008000; text-decoration-color: #008000\">'value'</span>: <span style=\"color: #008000; text-decoration-color: #008000\">'Albrecht Joseph'</span><span style=\"font-weight: bold\">}</span>,\n",
       "        <span style=\"font-weight: bold\">{</span><span style=\"color: #008000; text-decoration-color: #008000\">'language'</span>: <span style=\"color: #008000; text-decoration-color: #008000\">'sl'</span>, <span style=\"color: #008000; text-decoration-color: #008000\">'value'</span>: <span style=\"color: #008000; text-decoration-color: #008000\">'Albrecht Joseph'</span><span style=\"font-weight: bold\">}</span>,\n",
       "        <span style=\"font-weight: bold\">{</span><span style=\"color: #008000; text-decoration-color: #008000\">'language'</span>: <span style=\"color: #008000; text-decoration-color: #008000\">'ca'</span>, <span style=\"color: #008000; text-decoration-color: #008000\">'value'</span>: <span style=\"color: #008000; text-decoration-color: #008000\">'Albrecht Joseph'</span><span style=\"font-weight: bold\">}</span>,\n",
       "        <span style=\"font-weight: bold\">{</span><span style=\"color: #008000; text-decoration-color: #008000\">'language'</span>: <span style=\"color: #008000; text-decoration-color: #008000\">'ast'</span>, <span style=\"color: #008000; text-decoration-color: #008000\">'value'</span>: <span style=\"color: #008000; text-decoration-color: #008000\">'Albrecht Joseph'</span><span style=\"font-weight: bold\">}</span>,\n",
       "        <span style=\"font-weight: bold\">{</span><span style=\"color: #008000; text-decoration-color: #008000\">'language'</span>: <span style=\"color: #008000; text-decoration-color: #008000\">'ar'</span>, <span style=\"color: #008000; text-decoration-color: #008000\">'value'</span>: <span style=\"color: #008000; text-decoration-color: #008000\">'ألبرشت جوزيف'</span><span style=\"font-weight: bold\">}</span>,\n",
       "        <span style=\"font-weight: bold\">{</span><span style=\"color: #008000; text-decoration-color: #008000\">'language'</span>: <span style=\"color: #008000; text-decoration-color: #008000\">'cs'</span>, <span style=\"color: #008000; text-decoration-color: #008000\">'value'</span>: <span style=\"color: #008000; text-decoration-color: #008000\">'Albrecht Joseph'</span><span style=\"font-weight: bold\">}</span>,\n",
       "        <span style=\"font-weight: bold\">{</span><span style=\"color: #008000; text-decoration-color: #008000\">'language'</span>: <span style=\"color: #008000; text-decoration-color: #008000\">'sk'</span>, <span style=\"color: #008000; text-decoration-color: #008000\">'value'</span>: <span style=\"color: #008000; text-decoration-color: #008000\">'Albrecht Joseph'</span><span style=\"font-weight: bold\">}</span>,\n",
       "        <span style=\"font-weight: bold\">{</span><span style=\"color: #008000; text-decoration-color: #008000\">'language'</span>: <span style=\"color: #008000; text-decoration-color: #008000\">'arz'</span>, <span style=\"color: #008000; text-decoration-color: #008000\">'value'</span>: <span style=\"color: #008000; text-decoration-color: #008000\">'البرشت چوزيف'</span><span style=\"font-weight: bold\">}</span>,\n",
       "        <span style=\"font-weight: bold\">{</span><span style=\"color: #008000; text-decoration-color: #008000\">'language'</span>: <span style=\"color: #008000; text-decoration-color: #008000\">'it'</span>, <span style=\"color: #008000; text-decoration-color: #008000\">'value'</span>: <span style=\"color: #008000; text-decoration-color: #008000\">'Albrecht Joseph'</span><span style=\"font-weight: bold\">}</span>,\n",
       "        <span style=\"font-weight: bold\">{</span><span style=\"color: #008000; text-decoration-color: #008000\">'language'</span>: <span style=\"color: #008000; text-decoration-color: #008000\">'sq'</span>, <span style=\"color: #008000; text-decoration-color: #008000\">'value'</span>: <span style=\"color: #008000; text-decoration-color: #008000\">'Albrecht Joseph'</span><span style=\"font-weight: bold\">}</span>,\n",
       "        <span style=\"font-weight: bold\">{</span><span style=\"color: #008000; text-decoration-color: #008000\">'language'</span>: <span style=\"color: #008000; text-decoration-color: #008000\">'he'</span>, <span style=\"color: #008000; text-decoration-color: #008000\">'value'</span>: <span style=\"color: #008000; text-decoration-color: #008000\">\"אלברכט ג'וזף\"</span><span style=\"font-weight: bold\">}</span>,\n",
       "        <span style=\"font-weight: bold\">{</span><span style=\"color: #008000; text-decoration-color: #008000\">'language'</span>: <span style=\"color: #008000; text-decoration-color: #008000\">'sv'</span>, <span style=\"color: #008000; text-decoration-color: #008000\">'value'</span>: <span style=\"color: #008000; text-decoration-color: #008000\">'Albrecht Joseph'</span><span style=\"font-weight: bold\">}</span>,\n",
       "        <span style=\"font-weight: bold\">{</span><span style=\"color: #008000; text-decoration-color: #008000\">'language'</span>: <span style=\"color: #008000; text-decoration-color: #008000\">'ga'</span>, <span style=\"color: #008000; text-decoration-color: #008000\">'value'</span>: <span style=\"color: #008000; text-decoration-color: #008000\">'Albrecht Joseph'</span><span style=\"font-weight: bold\">}</span>,\n",
       "        <span style=\"font-weight: bold\">{</span><span style=\"color: #008000; text-decoration-color: #008000\">'language'</span>: <span style=\"color: #008000; text-decoration-color: #008000\">'fa'</span>, <span style=\"color: #008000; text-decoration-color: #008000\">'value'</span>: <span style=\"color: #008000; text-decoration-color: #008000\">'آلبرشت یوزف'</span><span style=\"font-weight: bold\">}</span>,\n",
       "        <span style=\"font-weight: bold\">{</span><span style=\"color: #008000; text-decoration-color: #008000\">'language'</span>: <span style=\"color: #008000; text-decoration-color: #008000\">'ru'</span>, <span style=\"color: #008000; text-decoration-color: #008000\">'value'</span>: <span style=\"color: #008000; text-decoration-color: #008000\">'Элбрехт Джозеф'</span><span style=\"font-weight: bold\">}</span>\n",
       "    <span style=\"font-weight: bold\">]</span>,\n",
       "    <span style=\"color: #008000; text-decoration-color: #008000\">'aliases'</span>: <span style=\"font-weight: bold\">[</span>\n",
       "        <span style=\"font-weight: bold\">{</span><span style=\"color: #008000; text-decoration-color: #008000\">'language'</span>: <span style=\"color: #008000; text-decoration-color: #008000\">'de'</span>, <span style=\"color: #008000; text-decoration-color: #008000\">'value'</span>: <span style=\"color: #008000; text-decoration-color: #008000\">'Al Joseph'</span><span style=\"font-weight: bold\">}</span>,\n",
       "        <span style=\"font-weight: bold\">{</span><span style=\"color: #008000; text-decoration-color: #008000\">'language'</span>: <span style=\"color: #008000; text-decoration-color: #008000\">'en'</span>, <span style=\"color: #008000; text-decoration-color: #008000\">'value'</span>: <span style=\"color: #008000; text-decoration-color: #008000\">'Al Joseph'</span><span style=\"font-weight: bold\">}</span>,\n",
       "        <span style=\"font-weight: bold\">{</span><span style=\"color: #008000; text-decoration-color: #008000\">'language'</span>: <span style=\"color: #008000; text-decoration-color: #008000\">'cs'</span>, <span style=\"color: #008000; text-decoration-color: #008000\">'value'</span>: <span style=\"color: #008000; text-decoration-color: #008000\">'Al Joseph'</span><span style=\"font-weight: bold\">}</span>,\n",
       "        <span style=\"font-weight: bold\">{</span><span style=\"color: #008000; text-decoration-color: #008000\">'language'</span>: <span style=\"color: #008000; text-decoration-color: #008000\">'sk'</span>, <span style=\"color: #008000; text-decoration-color: #008000\">'value'</span>: <span style=\"color: #008000; text-decoration-color: #008000\">'Al Joseph'</span><span style=\"font-weight: bold\">}</span>\n",
       "    <span style=\"font-weight: bold\">]</span>,\n",
       "    <span style=\"color: #008000; text-decoration-color: #008000\">'instance_of'</span>: <span style=\"font-weight: bold\">[{</span><span style=\"color: #008000; text-decoration-color: #008000\">'numeric_id'</span>: <span style=\"color: #008000; text-decoration-color: #008000\">'5'</span><span style=\"font-weight: bold\">}]</span>,\n",
       "    <span style=\"color: #008000; text-decoration-color: #008000\">'gender'</span>: <span style=\"font-weight: bold\">[{</span><span style=\"color: #008000; text-decoration-color: #008000\">'numeric_id'</span>: <span style=\"color: #008000; text-decoration-color: #008000\">'6581097'</span><span style=\"font-weight: bold\">}]</span>,\n",
       "    <span style=\"color: #008000; text-decoration-color: #008000\">'date_of_birth'</span>: <span style=\"font-weight: bold\">[{</span><span style=\"color: #008000; text-decoration-color: #008000\">'time'</span>: <span style=\"color: #008000; text-decoration-color: #008000\">'+1901-11-20T00:00:00Z'</span><span style=\"font-weight: bold\">}]</span>,\n",
       "    <span style=\"color: #008000; text-decoration-color: #008000\">'date_of_death'</span>: <span style=\"font-weight: bold\">[{</span><span style=\"color: #008000; text-decoration-color: #008000\">'time'</span>: <span style=\"color: #008000; text-decoration-color: #008000\">'+1901-11-20T00:00:00Z'</span><span style=\"font-weight: bold\">}]</span>,\n",
       "    <span style=\"color: #008000; text-decoration-color: #008000\">'worked_at'</span>: <span style=\"font-weight: bold\">[]</span>,\n",
       "    <span style=\"color: #008000; text-decoration-color: #008000\">'country_of_citizenship'</span>: <span style=\"font-weight: bold\">[{</span><span style=\"color: #008000; text-decoration-color: #008000\">'numeric_id'</span>: <span style=\"color: #008000; text-decoration-color: #008000\">'183'</span><span style=\"font-weight: bold\">}]</span>,\n",
       "    <span style=\"color: #008000; text-decoration-color: #008000\">'country'</span>: <span style=\"font-weight: bold\">[]</span>,\n",
       "    <span style=\"color: #008000; text-decoration-color: #008000\">'educated_at'</span>: <span style=\"font-weight: bold\">[]</span>,\n",
       "    <span style=\"color: #008000; text-decoration-color: #008000\">'occupation'</span>: <span style=\"font-weight: bold\">[{</span><span style=\"color: #008000; text-decoration-color: #008000\">'numeric_id'</span>: <span style=\"color: #008000; text-decoration-color: #008000\">'28389'</span><span style=\"font-weight: bold\">}</span>, <span style=\"font-weight: bold\">{</span><span style=\"color: #008000; text-decoration-color: #008000\">'numeric_id'</span>: <span style=\"color: #008000; text-decoration-color: #008000\">'7042855'</span><span style=\"font-weight: bold\">}</span>, <span style=\"font-weight: bold\">{</span><span style=\"color: #008000; text-decoration-color: #008000\">'numeric_id'</span>: <span style=\"color: #008000; text-decoration-color: #008000\">'36180'</span><span style=\"font-weight: bold\">}]</span>,\n",
       "    <span style=\"color: #008000; text-decoration-color: #008000\">'instrument'</span>: <span style=\"font-weight: bold\">[]</span>,\n",
       "    <span style=\"color: #008000; text-decoration-color: #008000\">'genre'</span>: <span style=\"font-weight: bold\">[]</span>,\n",
       "    <span style=\"color: #008000; text-decoration-color: #008000\">'industry'</span>: <span style=\"font-weight: bold\">[]</span>,\n",
       "    <span style=\"color: #008000; text-decoration-color: #008000\">'subclass_of'</span>: <span style=\"font-weight: bold\">[]</span>,\n",
       "    <span style=\"color: #008000; text-decoration-color: #008000\">'coordinate_location'</span>: <span style=\"font-weight: bold\">[]</span>,\n",
       "    <span style=\"color: #008000; text-decoration-color: #008000\">'iso_3166_alpha3'</span>: <span style=\"font-weight: bold\">[]</span>,\n",
       "    <span style=\"color: #008000; text-decoration-color: #008000\">'member_of'</span>: <span style=\"font-weight: bold\">[]</span>,\n",
       "    <span style=\"color: #008000; text-decoration-color: #008000\">'from_fictional_universe'</span>: <span style=\"font-weight: bold\">[]</span>\n",
       "<span style=\"font-weight: bold\">}</span>\n",
       "</pre>\n"
      ],
      "text/plain": [
       "\u001b[1m{\u001b[0m\n",
       "    \u001b[32m'id'\u001b[0m: \u001b[32m'Q17122148'\u001b[0m,\n",
       "    \u001b[32m'numeric_id'\u001b[0m: \u001b[32m'17122148'\u001b[0m,\n",
       "    \u001b[32m'en_label'\u001b[0m: \u001b[32m'Albrecht Joseph'\u001b[0m,\n",
       "    \u001b[32m'en_wiki'\u001b[0m: \u001b[32m'Albrecht_Joseph'\u001b[0m,\n",
       "    \u001b[32m'en_description'\u001b[0m: \u001b[32m'German screenwriter, film editor and author'\u001b[0m,\n",
       "    \u001b[32m'type'\u001b[0m: \u001b[32m'item'\u001b[0m,\n",
       "    \u001b[32m'sitelinks'\u001b[0m: \u001b[1m[\u001b[0m\n",
       "        \u001b[1m{\u001b[0m\u001b[32m'site'\u001b[0m: \u001b[32m'dewiki'\u001b[0m, \u001b[32m'title'\u001b[0m: \u001b[32m'Albrecht Joseph'\u001b[0m, \u001b[32m'encoded'\u001b[0m: \u001b[32m'Albrecht_Joseph'\u001b[0m\u001b[1m}\u001b[0m,\n",
       "        \u001b[1m{\u001b[0m\u001b[32m'site'\u001b[0m: \u001b[32m'enwiki'\u001b[0m, \u001b[32m'title'\u001b[0m: \u001b[32m'Albrecht Joseph'\u001b[0m, \u001b[32m'encoded'\u001b[0m: \u001b[32m'Albrecht_Joseph'\u001b[0m\u001b[1m}\u001b[0m,\n",
       "        \u001b[1m{\u001b[0m\u001b[32m'site'\u001b[0m: \u001b[32m'frwiki'\u001b[0m, \u001b[32m'title'\u001b[0m: \u001b[32m'Albrecht Joseph'\u001b[0m, \u001b[32m'encoded'\u001b[0m: \u001b[32m'Albrecht_Joseph'\u001b[0m\u001b[1m}\u001b[0m,\n",
       "        \u001b[1m{\u001b[0m\u001b[32m'site'\u001b[0m: \u001b[32m'arwiki'\u001b[0m, \u001b[32m'title'\u001b[0m: \u001b[32m'ألبرشت جوزيف'\u001b[0m, \u001b[32m'encoded'\u001b[0m: \u001b[32m'ألبرشت_جوزيف'\u001b[0m\u001b[1m}\u001b[0m,\n",
       "        \u001b[1m{\u001b[0m\u001b[32m'site'\u001b[0m: \u001b[32m'arzwiki'\u001b[0m, \u001b[32m'title'\u001b[0m: \u001b[32m'البرشت چوزيف'\u001b[0m, \u001b[32m'encoded'\u001b[0m: \u001b[32m'البرشت_چوزيف'\u001b[0m\u001b[1m}\u001b[0m,\n",
       "        \u001b[1m{\u001b[0m\u001b[32m'site'\u001b[0m: \u001b[32m'fawiki'\u001b[0m, \u001b[32m'title'\u001b[0m: \u001b[32m'آلبرشت یوزف'\u001b[0m, \u001b[32m'encoded'\u001b[0m: \u001b[32m'آلبرشت_یوزف'\u001b[0m\u001b[1m}\u001b[0m\n",
       "    \u001b[1m]\u001b[0m,\n",
       "    \u001b[32m'descriptions'\u001b[0m: \u001b[1m[\u001b[0m\n",
       "        \u001b[1m{\u001b[0m\u001b[32m'language'\u001b[0m: \u001b[32m'de'\u001b[0m, \u001b[32m'value'\u001b[0m: \u001b[32m'deutsch-amerikanischer Theater- und Filmschaffender'\u001b[0m\u001b[1m}\u001b[0m,\n",
       "        \u001b[1m{\u001b[0m\u001b[32m'language'\u001b[0m: \u001b[32m'fa'\u001b[0m, \u001b[32m'value'\u001b[0m: \u001b[32m'فیلمنامه\\u200cنویس، تدوینگر، و نویسنده آلمانی'\u001b[0m\u001b[1m}\u001b[0m,\n",
       "        \u001b[1m{\u001b[0m\u001b[32m'language'\u001b[0m: \u001b[32m'en'\u001b[0m, \u001b[32m'value'\u001b[0m: \u001b[32m'German screenwriter, film editor and author'\u001b[0m\u001b[1m}\u001b[0m,\n",
       "        \u001b[1m{\u001b[0m\u001b[32m'language'\u001b[0m: \u001b[32m'nl'\u001b[0m, \u001b[32m'value'\u001b[0m: \u001b[32m'Duits scenarioschrijver \u001b[0m\u001b[32m(\u001b[0m\u001b[32m1901-1991\u001b[0m\u001b[32m)\u001b[0m\u001b[32m'\u001b[0m\u001b[1m}\u001b[0m,\n",
       "        \u001b[1m{\u001b[0m\u001b[32m'language'\u001b[0m: \u001b[32m'sv'\u001b[0m, \u001b[32m'value'\u001b[0m: \u001b[32m'tysk författare och filmklippare'\u001b[0m\u001b[1m}\u001b[0m\n",
       "    \u001b[1m]\u001b[0m,\n",
       "    \u001b[32m'labels'\u001b[0m: \u001b[1m[\u001b[0m\n",
       "        \u001b[1m{\u001b[0m\u001b[32m'language'\u001b[0m: \u001b[32m'de'\u001b[0m, \u001b[32m'value'\u001b[0m: \u001b[32m'Albrecht Joseph'\u001b[0m\u001b[1m}\u001b[0m,\n",
       "        \u001b[1m{\u001b[0m\u001b[32m'language'\u001b[0m: \u001b[32m'fr'\u001b[0m, \u001b[32m'value'\u001b[0m: \u001b[32m'Albrecht Joseph'\u001b[0m\u001b[1m}\u001b[0m,\n",
       "        \u001b[1m{\u001b[0m\u001b[32m'language'\u001b[0m: \u001b[32m'nl'\u001b[0m, \u001b[32m'value'\u001b[0m: \u001b[32m'Albrecht Joseph'\u001b[0m\u001b[1m}\u001b[0m,\n",
       "        \u001b[1m{\u001b[0m\u001b[32m'language'\u001b[0m: \u001b[32m'en'\u001b[0m, \u001b[32m'value'\u001b[0m: \u001b[32m'Albrecht Joseph'\u001b[0m\u001b[1m}\u001b[0m,\n",
       "        \u001b[1m{\u001b[0m\u001b[32m'language'\u001b[0m: \u001b[32m'es'\u001b[0m, \u001b[32m'value'\u001b[0m: \u001b[32m'Albrecht Joseph'\u001b[0m\u001b[1m}\u001b[0m,\n",
       "        \u001b[1m{\u001b[0m\u001b[32m'language'\u001b[0m: \u001b[32m'hu'\u001b[0m, \u001b[32m'value'\u001b[0m: \u001b[32m'Albrecht Joseph'\u001b[0m\u001b[1m}\u001b[0m,\n",
       "        \u001b[1m{\u001b[0m\u001b[32m'language'\u001b[0m: \u001b[32m'sl'\u001b[0m, \u001b[32m'value'\u001b[0m: \u001b[32m'Albrecht Joseph'\u001b[0m\u001b[1m}\u001b[0m,\n",
       "        \u001b[1m{\u001b[0m\u001b[32m'language'\u001b[0m: \u001b[32m'ca'\u001b[0m, \u001b[32m'value'\u001b[0m: \u001b[32m'Albrecht Joseph'\u001b[0m\u001b[1m}\u001b[0m,\n",
       "        \u001b[1m{\u001b[0m\u001b[32m'language'\u001b[0m: \u001b[32m'ast'\u001b[0m, \u001b[32m'value'\u001b[0m: \u001b[32m'Albrecht Joseph'\u001b[0m\u001b[1m}\u001b[0m,\n",
       "        \u001b[1m{\u001b[0m\u001b[32m'language'\u001b[0m: \u001b[32m'ar'\u001b[0m, \u001b[32m'value'\u001b[0m: \u001b[32m'ألبرشت جوزيف'\u001b[0m\u001b[1m}\u001b[0m,\n",
       "        \u001b[1m{\u001b[0m\u001b[32m'language'\u001b[0m: \u001b[32m'cs'\u001b[0m, \u001b[32m'value'\u001b[0m: \u001b[32m'Albrecht Joseph'\u001b[0m\u001b[1m}\u001b[0m,\n",
       "        \u001b[1m{\u001b[0m\u001b[32m'language'\u001b[0m: \u001b[32m'sk'\u001b[0m, \u001b[32m'value'\u001b[0m: \u001b[32m'Albrecht Joseph'\u001b[0m\u001b[1m}\u001b[0m,\n",
       "        \u001b[1m{\u001b[0m\u001b[32m'language'\u001b[0m: \u001b[32m'arz'\u001b[0m, \u001b[32m'value'\u001b[0m: \u001b[32m'البرشت چوزيف'\u001b[0m\u001b[1m}\u001b[0m,\n",
       "        \u001b[1m{\u001b[0m\u001b[32m'language'\u001b[0m: \u001b[32m'it'\u001b[0m, \u001b[32m'value'\u001b[0m: \u001b[32m'Albrecht Joseph'\u001b[0m\u001b[1m}\u001b[0m,\n",
       "        \u001b[1m{\u001b[0m\u001b[32m'language'\u001b[0m: \u001b[32m'sq'\u001b[0m, \u001b[32m'value'\u001b[0m: \u001b[32m'Albrecht Joseph'\u001b[0m\u001b[1m}\u001b[0m,\n",
       "        \u001b[1m{\u001b[0m\u001b[32m'language'\u001b[0m: \u001b[32m'he'\u001b[0m, \u001b[32m'value'\u001b[0m: \u001b[32m\"אלברכט ג'וזף\"\u001b[0m\u001b[1m}\u001b[0m,\n",
       "        \u001b[1m{\u001b[0m\u001b[32m'language'\u001b[0m: \u001b[32m'sv'\u001b[0m, \u001b[32m'value'\u001b[0m: \u001b[32m'Albrecht Joseph'\u001b[0m\u001b[1m}\u001b[0m,\n",
       "        \u001b[1m{\u001b[0m\u001b[32m'language'\u001b[0m: \u001b[32m'ga'\u001b[0m, \u001b[32m'value'\u001b[0m: \u001b[32m'Albrecht Joseph'\u001b[0m\u001b[1m}\u001b[0m,\n",
       "        \u001b[1m{\u001b[0m\u001b[32m'language'\u001b[0m: \u001b[32m'fa'\u001b[0m, \u001b[32m'value'\u001b[0m: \u001b[32m'آلبرشت یوزف'\u001b[0m\u001b[1m}\u001b[0m,\n",
       "        \u001b[1m{\u001b[0m\u001b[32m'language'\u001b[0m: \u001b[32m'ru'\u001b[0m, \u001b[32m'value'\u001b[0m: \u001b[32m'Элбрехт Джозеф'\u001b[0m\u001b[1m}\u001b[0m\n",
       "    \u001b[1m]\u001b[0m,\n",
       "    \u001b[32m'aliases'\u001b[0m: \u001b[1m[\u001b[0m\n",
       "        \u001b[1m{\u001b[0m\u001b[32m'language'\u001b[0m: \u001b[32m'de'\u001b[0m, \u001b[32m'value'\u001b[0m: \u001b[32m'Al Joseph'\u001b[0m\u001b[1m}\u001b[0m,\n",
       "        \u001b[1m{\u001b[0m\u001b[32m'language'\u001b[0m: \u001b[32m'en'\u001b[0m, \u001b[32m'value'\u001b[0m: \u001b[32m'Al Joseph'\u001b[0m\u001b[1m}\u001b[0m,\n",
       "        \u001b[1m{\u001b[0m\u001b[32m'language'\u001b[0m: \u001b[32m'cs'\u001b[0m, \u001b[32m'value'\u001b[0m: \u001b[32m'Al Joseph'\u001b[0m\u001b[1m}\u001b[0m,\n",
       "        \u001b[1m{\u001b[0m\u001b[32m'language'\u001b[0m: \u001b[32m'sk'\u001b[0m, \u001b[32m'value'\u001b[0m: \u001b[32m'Al Joseph'\u001b[0m\u001b[1m}\u001b[0m\n",
       "    \u001b[1m]\u001b[0m,\n",
       "    \u001b[32m'instance_of'\u001b[0m: \u001b[1m[\u001b[0m\u001b[1m{\u001b[0m\u001b[32m'numeric_id'\u001b[0m: \u001b[32m'5'\u001b[0m\u001b[1m}\u001b[0m\u001b[1m]\u001b[0m,\n",
       "    \u001b[32m'gender'\u001b[0m: \u001b[1m[\u001b[0m\u001b[1m{\u001b[0m\u001b[32m'numeric_id'\u001b[0m: \u001b[32m'6581097'\u001b[0m\u001b[1m}\u001b[0m\u001b[1m]\u001b[0m,\n",
       "    \u001b[32m'date_of_birth'\u001b[0m: \u001b[1m[\u001b[0m\u001b[1m{\u001b[0m\u001b[32m'time'\u001b[0m: \u001b[32m'+1901-11-20T00:00:00Z'\u001b[0m\u001b[1m}\u001b[0m\u001b[1m]\u001b[0m,\n",
       "    \u001b[32m'date_of_death'\u001b[0m: \u001b[1m[\u001b[0m\u001b[1m{\u001b[0m\u001b[32m'time'\u001b[0m: \u001b[32m'+1901-11-20T00:00:00Z'\u001b[0m\u001b[1m}\u001b[0m\u001b[1m]\u001b[0m,\n",
       "    \u001b[32m'worked_at'\u001b[0m: \u001b[1m[\u001b[0m\u001b[1m]\u001b[0m,\n",
       "    \u001b[32m'country_of_citizenship'\u001b[0m: \u001b[1m[\u001b[0m\u001b[1m{\u001b[0m\u001b[32m'numeric_id'\u001b[0m: \u001b[32m'183'\u001b[0m\u001b[1m}\u001b[0m\u001b[1m]\u001b[0m,\n",
       "    \u001b[32m'country'\u001b[0m: \u001b[1m[\u001b[0m\u001b[1m]\u001b[0m,\n",
       "    \u001b[32m'educated_at'\u001b[0m: \u001b[1m[\u001b[0m\u001b[1m]\u001b[0m,\n",
       "    \u001b[32m'occupation'\u001b[0m: \u001b[1m[\u001b[0m\u001b[1m{\u001b[0m\u001b[32m'numeric_id'\u001b[0m: \u001b[32m'28389'\u001b[0m\u001b[1m}\u001b[0m, \u001b[1m{\u001b[0m\u001b[32m'numeric_id'\u001b[0m: \u001b[32m'7042855'\u001b[0m\u001b[1m}\u001b[0m, \u001b[1m{\u001b[0m\u001b[32m'numeric_id'\u001b[0m: \u001b[32m'36180'\u001b[0m\u001b[1m}\u001b[0m\u001b[1m]\u001b[0m,\n",
       "    \u001b[32m'instrument'\u001b[0m: \u001b[1m[\u001b[0m\u001b[1m]\u001b[0m,\n",
       "    \u001b[32m'genre'\u001b[0m: \u001b[1m[\u001b[0m\u001b[1m]\u001b[0m,\n",
       "    \u001b[32m'industry'\u001b[0m: \u001b[1m[\u001b[0m\u001b[1m]\u001b[0m,\n",
       "    \u001b[32m'subclass_of'\u001b[0m: \u001b[1m[\u001b[0m\u001b[1m]\u001b[0m,\n",
       "    \u001b[32m'coordinate_location'\u001b[0m: \u001b[1m[\u001b[0m\u001b[1m]\u001b[0m,\n",
       "    \u001b[32m'iso_3166_alpha3'\u001b[0m: \u001b[1m[\u001b[0m\u001b[1m]\u001b[0m,\n",
       "    \u001b[32m'member_of'\u001b[0m: \u001b[1m[\u001b[0m\u001b[1m]\u001b[0m,\n",
       "    \u001b[32m'from_fictional_universe'\u001b[0m: \u001b[1m[\u001b[0m\u001b[1m]\u001b[0m\n",
       "\u001b[1m}\u001b[0m\n"
      ]
     },
     "metadata": {},
     "output_type": "display_data"
    }
   ],
   "source": [
    "info_files = (RAW_DATA_DIR / 'wikidata').glob('*')\n",
    "with open(next(info_files)) as f:\n",
    "    for line in f:\n",
    "        d = json.loads(line)\n",
    "        sites = [sitelink['site'] for sitelink in d['sitelinks']]\n",
    "        if 'enwiki' in sites:\n",
    "            print(d)\n",
    "            break\n",
    "    "
   ]
  },
  {
   "cell_type": "code",
   "execution_count": 3,
   "metadata": {},
   "outputs": [
    {
     "data": {
      "text/html": [
       "<div><style>\n",
       ".dataframe > thead > tr,\n",
       ".dataframe > tbody > tr {\n",
       "  text-align: right;\n",
       "  white-space: pre-wrap;\n",
       "}\n",
       "</style>\n",
       "<small>shape: (5, 27)</small><table border=\"1\" class=\"dataframe\"><thead><tr><th>id</th><th>numeric_id</th><th>en_label</th><th>en_wiki</th><th>en_description</th><th>type</th><th>sitelinks</th><th>descriptions</th><th>labels</th><th>aliases</th><th>instance_of</th><th>gender</th><th>date_of_birth</th><th>date_of_death</th><th>worked_at</th><th>country_of_citizenship</th><th>country</th><th>educated_at</th><th>occupation</th><th>instrument</th><th>genre</th><th>industry</th><th>subclass_of</th><th>coordinate_location</th><th>iso_3166_alpha3</th><th>member_of</th><th>from_fictional_universe</th></tr><tr><td>str</td><td>str</td><td>str</td><td>str</td><td>str</td><td>str</td><td>list[struct[3]]</td><td>list[struct[2]]</td><td>list[struct[2]]</td><td>list[struct[2]]</td><td>list[struct[1]]</td><td>list[struct[1]]</td><td>list[struct[1]]</td><td>list[struct[1]]</td><td>list[struct[1]]</td><td>list[struct[1]]</td><td>list[struct[1]]</td><td>list[struct[1]]</td><td>list[struct[1]]</td><td>list[struct[1]]</td><td>list[struct[1]]</td><td>list[struct[1]]</td><td>list[struct[1]]</td><td>list[struct[2]]</td><td>list[null]</td><td>list[struct[1]]</td><td>list[struct[1]]</td></tr></thead><tbody><tr><td>&quot;Q17122148&quot;</td><td>&quot;17122148&quot;</td><td>&quot;Albrecht Josep…</td><td>&quot;Albrecht_Josep…</td><td>&quot;German screenw…</td><td>&quot;item&quot;</td><td>[{&quot;dewiki&quot;,&quot;Albrecht Joseph&quot;,&quot;Albrecht_Joseph&quot;}, {&quot;enwiki&quot;,&quot;Albrecht Joseph&quot;,&quot;Albrecht_Joseph&quot;}, … {&quot;fawiki&quot;,&quot;آلبرشت یوزف&quot;,&quot;آلبرشت_یوزف&quot;}]</td><td>[{&quot;de&quot;,&quot;deutsch-amerikanischer Theater- und Filmschaffender&quot;}, {&quot;fa&quot;,&quot;فیلمنامه‌نویس، تدوینگر، و نویسنده آلمانی&quot;}, … {&quot;sv&quot;,&quot;tysk författare och filmklippare&quot;}]</td><td>[{&quot;de&quot;,&quot;Albrecht Joseph&quot;}, {&quot;fr&quot;,&quot;Albrecht Joseph&quot;}, … {&quot;ru&quot;,&quot;Элбрехт Джозеф&quot;}]</td><td>[{&quot;de&quot;,&quot;Al Joseph&quot;}, {&quot;en&quot;,&quot;Al Joseph&quot;}, … {&quot;sk&quot;,&quot;Al Joseph&quot;}]</td><td>[{&quot;5&quot;}]</td><td>[{&quot;6581097&quot;}]</td><td>[{&quot;+1901-11-20T00:00:00Z&quot;}]</td><td>[{&quot;+1901-11-20T00:00:00Z&quot;}]</td><td>[]</td><td>[{&quot;183&quot;}]</td><td>[]</td><td>[]</td><td>[{&quot;28389&quot;}, {&quot;7042855&quot;}, {&quot;36180&quot;}]</td><td>[]</td><td>[]</td><td>[]</td><td>[]</td><td>[]</td><td>[]</td><td>[]</td><td>[]</td></tr><tr><td>&quot;Q100707809&quot;</td><td>&quot;100707809&quot;</td><td>&quot;Robert Cahaly&quot;</td><td>&quot;Robert_Cahaly&quot;</td><td>&quot;American polls…</td><td>&quot;item&quot;</td><td>[{&quot;enwiki&quot;,&quot;Robert Cahaly&quot;,&quot;Robert_Cahaly&quot;}, {&quot;jawiki&quot;,&quot;ロバート・カヘリー&quot;,&quot;ロバート・カヘリー&quot;}]</td><td>[{&quot;en&quot;,&quot;American pollster and political consultant&quot;}, {&quot;zh&quot;,&quot;美国民调专家&quot;}]</td><td>[{&quot;en&quot;,&quot;Robert Cahaly&quot;}, {&quot;de&quot;,&quot;Robert Cahaly&quot;}, … {&quot;pt-br&quot;,&quot;Robert Cahaly&quot;}]</td><td>[]</td><td>[{&quot;5&quot;}]</td><td>[{&quot;6581097&quot;}]</td><td>[]</td><td>[]</td><td>[{&quot;100704905&quot;}]</td><td>[{&quot;30&quot;}]</td><td>[]</td><td>[{&quot;1024426&quot;}]</td><td>[{&quot;16919156&quot;}, {&quot;8125919&quot;}]</td><td>[]</td><td>[]</td><td>[]</td><td>[]</td><td>[]</td><td>[]</td><td>[]</td><td>[]</td></tr><tr><td>&quot;Q8988407&quot;</td><td>&quot;8988407&quot;</td><td>&quot;Li Fei&quot;</td><td>&quot;Lei_Fei&quot;</td><td>&quot;actor, busines…</td><td>&quot;item&quot;</td><td>[{&quot;zhwiki&quot;,&quot;李菲&quot;,&quot;李菲&quot;}, {&quot;enwiki&quot;,&quot;Lei Fei&quot;,&quot;Lei_Fei&quot;}]</td><td>[{&quot;nl&quot;,&quot;ondernemer&quot;}, {&quot;en&quot;,&quot;actor, businesswoman, and wushu taolu athlete from Macau&quot;}]</td><td>[{&quot;zh&quot;,&quot;李菲&quot;}, {&quot;en&quot;,&quot;Li Fei&quot;}, … {&quot;sq&quot;,&quot;Jewel Lee&quot;}]</td><td>[{&quot;en&quot;,&quot;Jewel Lee&quot;}]</td><td>[{&quot;5&quot;}]</td><td>[{&quot;6581072&quot;}]</td><td>[]</td><td>[]</td><td>[]</td><td>[]</td><td>[]</td><td>[]</td><td>[{&quot;43845&quot;}]</td><td>[]</td><td>[]</td><td>[]</td><td>[]</td><td>[]</td><td>[]</td><td>[]</td><td>[]</td></tr><tr><td>&quot;Q3588237&quot;</td><td>&quot;3588237&quot;</td><td>&quot;Yang Ti-liang&quot;</td><td>&quot;Yang_Ti-liang&quot;</td><td>&quot;Hong Kong judg…</td><td>&quot;item&quot;</td><td>[{&quot;enwiki&quot;,&quot;Yang Ti-liang&quot;,&quot;Yang_Ti-liang&quot;}, {&quot;zhwiki&quot;,&quot;楊鐵樑&quot;,&quot;楊鐵樑&quot;}, … {&quot;kowiki&quot;,&quot;양톄량&quot;,&quot;양톄량&quot;}]</td><td>[{&quot;en&quot;,&quot;Hong Kong judge (1929–2023)&quot;}, {&quot;nl&quot;,&quot;rechter uit Brunei&quot;}, … {&quot;ko&quot;,&quot;홍콩의 판사 (1929–2023)&quot;}]</td><td>[{&quot;en&quot;,&quot;Yang Ti-liang&quot;}, {&quot;en-ca&quot;,&quot;Yang Ti-liang&quot;}, … {&quot;pap&quot;,&quot;Yang Ti-liang&quot;}]</td><td>[{&quot;en&quot;,&quot;Sir Ti-liang Yang&quot;}, {&quot;ko&quot;,&quot;양티량&quot;}, {&quot;ko&quot;,&quot;양철량&quot;}]</td><td>[{&quot;5&quot;}]</td><td>[{&quot;6581097&quot;}]</td><td>[{&quot;+1929-06-30T00:00:00Z&quot;}]</td><td>[{&quot;+1929-06-30T00:00:00Z&quot;}]</td><td>[]</td><td>[{&quot;148&quot;}]</td><td>[]</td><td>[{&quot;1639978&quot;}, {&quot;193196&quot;}]</td><td>[{&quot;16533&quot;}, {&quot;329455&quot;}, {&quot;82955&quot;}]</td><td>[]</td><td>[]</td><td>[]</td><td>[]</td><td>[]</td><td>[]</td><td>[{&quot;157412&quot;}]</td><td>[]</td></tr><tr><td>&quot;Q521785&quot;</td><td>&quot;521785&quot;</td><td>&quot;Mauro Sérgio V…</td><td>&quot;Maurinho_(foot…</td><td>&quot;Brazilian foot…</td><td>&quot;item&quot;</td><td>[{&quot;itwiki&quot;,&quot;Mauro Sérgio Viriato Mendes&quot;,&quot;Mauro_Sérgio_Viriato_Mendes&quot;}, {&quot;plwiki&quot;,&quot;Mauro Sérgio Viriato Mendes&quot;,&quot;Mauro_Sérgio_Viriato_Mendes&quot;}, … {&quot;trwiki&quot;,&quot;Maurinho (1978 doğumlu futbolcu)&quot;,&quot;Maurinho_(1978_doğumlu_futbolcu)&quot;}]</td><td>[{&quot;it&quot;,&quot;calciatore brasiliano&quot;}, {&quot;fr&quot;,&quot;joueur de football brésilien&quot;}, … {&quot;mos&quot;,&quot;Bal tãongra&quot;}]</td><td>[{&quot;it&quot;,&quot;Mauro Sérgio Viriato Mendes&quot;}, {&quot;en&quot;,&quot;Mauro Sérgio Viriato Mendes&quot;}, … {&quot;tr&quot;,&quot;Maurinho (1978 doğumlu futbolcu)&quot;}]</td><td>[{&quot;es&quot;,&quot;Mauro Sergio Viriato Mendes&quot;}, {&quot;es&quot;,&quot;Maurinho&quot;}, … {&quot;fr&quot;,&quot;Maurinho&quot;}]</td><td>[{&quot;5&quot;}]</td><td>[{&quot;6581097&quot;}]</td><td>[{&quot;+1978-10-11T00:00:00Z&quot;}]</td><td>[{&quot;+1978-10-11T00:00:00Z&quot;}]</td><td>[]</td><td>[{&quot;155&quot;}]</td><td>[]</td><td>[]</td><td>[{&quot;937857&quot;}]</td><td>[]</td><td>[]</td><td>[]</td><td>[]</td><td>[]</td><td>[]</td><td>[]</td><td>[]</td></tr></tbody></table></div>"
      ],
      "text/plain": [
       "shape: (5, 27)\n",
       "┌───────────┬───────────┬───────────┬───────────┬───┬───────────┬───────────┬───────────┬──────────┐\n",
       "│ id        ┆ numeric_i ┆ en_label  ┆ en_wiki   ┆ … ┆ coordinat ┆ iso_3166_ ┆ member_of ┆ from_fic │\n",
       "│ ---       ┆ d         ┆ ---       ┆ ---       ┆   ┆ e_locatio ┆ alpha3    ┆ ---       ┆ tional_u │\n",
       "│ str       ┆ ---       ┆ str       ┆ str       ┆   ┆ n         ┆ ---       ┆ list[stru ┆ niverse  │\n",
       "│           ┆ str       ┆           ┆           ┆   ┆ ---       ┆ list[null ┆ ct[1]]    ┆ ---      │\n",
       "│           ┆           ┆           ┆           ┆   ┆ list[stru ┆ ]         ┆           ┆ list[str │\n",
       "│           ┆           ┆           ┆           ┆   ┆ ct[2]]    ┆           ┆           ┆ uct[1]]  │\n",
       "╞═══════════╪═══════════╪═══════════╪═══════════╪═══╪═══════════╪═══════════╪═══════════╪══════════╡\n",
       "│ Q17122148 ┆ 17122148  ┆ Albrecht  ┆ Albrecht_ ┆ … ┆ []        ┆ []        ┆ []        ┆ []       │\n",
       "│           ┆           ┆ Joseph    ┆ Joseph    ┆   ┆           ┆           ┆           ┆          │\n",
       "│ Q10070780 ┆ 100707809 ┆ Robert    ┆ Robert_Ca ┆ … ┆ []        ┆ []        ┆ []        ┆ []       │\n",
       "│ 9         ┆           ┆ Cahaly    ┆ haly      ┆   ┆           ┆           ┆           ┆          │\n",
       "│ Q8988407  ┆ 8988407   ┆ Li Fei    ┆ Lei_Fei   ┆ … ┆ []        ┆ []        ┆ []        ┆ []       │\n",
       "│ Q3588237  ┆ 3588237   ┆ Yang      ┆ Yang_Ti-l ┆ … ┆ []        ┆ []        ┆ [{\"157412 ┆ []       │\n",
       "│           ┆           ┆ Ti-liang  ┆ iang      ┆   ┆           ┆           ┆ \"}]       ┆          │\n",
       "│ Q521785   ┆ 521785    ┆ Mauro     ┆ Maurinho_ ┆ … ┆ []        ┆ []        ┆ []        ┆ []       │\n",
       "│           ┆           ┆ Sérgio    ┆ (football ┆   ┆           ┆           ┆           ┆          │\n",
       "│           ┆           ┆ Viriato   ┆ er,_born_ ┆   ┆           ┆           ┆           ┆          │\n",
       "│           ┆           ┆ Mendes    ┆ 1978)     ┆   ┆           ┆           ┆           ┆          │\n",
       "└───────────┴───────────┴───────────┴───────────┴───┴───────────┴───────────┴───────────┴──────────┘"
      ]
     },
     "execution_count": 3,
     "metadata": {},
     "output_type": "execute_result"
    }
   ],
   "source": [
    "try:\n",
    "    info_df = pl.read_parquet(PROCESSED_DATA_DIR / 'wikidata_all.parquet')\n",
    "except FileNotFoundError:\n",
    "    info_list = []\n",
    "    info_files = (RAW_DATA_DIR / 'wikidata').glob('*')\n",
    "    for file in info_files:\n",
    "        with open(file) as f:\n",
    "            for line in f:\n",
    "                d = json.loads(line)\n",
    "                sites = [sitelink['site'] for sitelink in d['sitelinks']]\n",
    "                if 'enwiki' in sites:\n",
    "                    info_list.append(d)\n",
    "    info_df = pl.DataFrame(info_list)\n",
    "    \n",
    "info_df.head()"
   ]
  },
  {
   "cell_type": "markdown",
   "metadata": {},
   "source": [
    "### Cleaning the Data"
   ]
  },
  {
   "cell_type": "markdown",
   "metadata": {},
   "source": [
    "Let's look at the columns and their data types."
   ]
  },
  {
   "cell_type": "code",
   "execution_count": 3,
   "metadata": {},
   "outputs": [
    {
     "data": {
      "text/html": [
       "<pre style=\"white-space:pre;overflow-x:auto;line-height:normal;font-family:Menlo,'DejaVu Sans Mono',consolas,'Courier New',monospace\"><span style=\"font-weight: bold\">{</span>\n",
       "    <span style=\"color: #008000; text-decoration-color: #008000\">'id'</span>: String,\n",
       "    <span style=\"color: #008000; text-decoration-color: #008000\">'numeric_id'</span>: String,\n",
       "    <span style=\"color: #008000; text-decoration-color: #008000\">'en_label'</span>: String,\n",
       "    <span style=\"color: #008000; text-decoration-color: #008000\">'en_wiki'</span>: String,\n",
       "    <span style=\"color: #008000; text-decoration-color: #008000\">'en_description'</span>: String,\n",
       "    <span style=\"color: #008000; text-decoration-color: #008000\">'type'</span>: String,\n",
       "    <span style=\"color: #008000; text-decoration-color: #008000\">'sitelinks'</span>: <span style=\"color: #800080; text-decoration-color: #800080; font-weight: bold\">List</span><span style=\"font-weight: bold\">(</span><span style=\"color: #800080; text-decoration-color: #800080; font-weight: bold\">Struct</span><span style=\"font-weight: bold\">({</span><span style=\"color: #008000; text-decoration-color: #008000\">'site'</span>: String, <span style=\"color: #008000; text-decoration-color: #008000\">'title'</span>: String, <span style=\"color: #008000; text-decoration-color: #008000\">'encoded'</span>: String<span style=\"font-weight: bold\">}))</span>,\n",
       "    <span style=\"color: #008000; text-decoration-color: #008000\">'descriptions'</span>: <span style=\"color: #800080; text-decoration-color: #800080; font-weight: bold\">List</span><span style=\"font-weight: bold\">(</span><span style=\"color: #800080; text-decoration-color: #800080; font-weight: bold\">Struct</span><span style=\"font-weight: bold\">({</span><span style=\"color: #008000; text-decoration-color: #008000\">'language'</span>: String, <span style=\"color: #008000; text-decoration-color: #008000\">'value'</span>: String<span style=\"font-weight: bold\">}))</span>,\n",
       "    <span style=\"color: #008000; text-decoration-color: #008000\">'labels'</span>: <span style=\"color: #800080; text-decoration-color: #800080; font-weight: bold\">List</span><span style=\"font-weight: bold\">(</span><span style=\"color: #800080; text-decoration-color: #800080; font-weight: bold\">Struct</span><span style=\"font-weight: bold\">({</span><span style=\"color: #008000; text-decoration-color: #008000\">'language'</span>: String, <span style=\"color: #008000; text-decoration-color: #008000\">'value'</span>: String<span style=\"font-weight: bold\">}))</span>,\n",
       "    <span style=\"color: #008000; text-decoration-color: #008000\">'aliases'</span>: <span style=\"color: #800080; text-decoration-color: #800080; font-weight: bold\">List</span><span style=\"font-weight: bold\">(</span><span style=\"color: #800080; text-decoration-color: #800080; font-weight: bold\">Struct</span><span style=\"font-weight: bold\">({</span><span style=\"color: #008000; text-decoration-color: #008000\">'language'</span>: String, <span style=\"color: #008000; text-decoration-color: #008000\">'value'</span>: String<span style=\"font-weight: bold\">}))</span>,\n",
       "    <span style=\"color: #008000; text-decoration-color: #008000\">'instance_of'</span>: <span style=\"color: #800080; text-decoration-color: #800080; font-weight: bold\">List</span><span style=\"font-weight: bold\">(</span><span style=\"color: #800080; text-decoration-color: #800080; font-weight: bold\">Struct</span><span style=\"font-weight: bold\">({</span><span style=\"color: #008000; text-decoration-color: #008000\">'numeric_id'</span>: String<span style=\"font-weight: bold\">}))</span>,\n",
       "    <span style=\"color: #008000; text-decoration-color: #008000\">'gender'</span>: <span style=\"color: #800080; text-decoration-color: #800080; font-weight: bold\">List</span><span style=\"font-weight: bold\">(</span><span style=\"color: #800080; text-decoration-color: #800080; font-weight: bold\">Struct</span><span style=\"font-weight: bold\">({</span><span style=\"color: #008000; text-decoration-color: #008000\">'numeric_id'</span>: String<span style=\"font-weight: bold\">}))</span>,\n",
       "    <span style=\"color: #008000; text-decoration-color: #008000\">'date_of_birth'</span>: <span style=\"color: #800080; text-decoration-color: #800080; font-weight: bold\">List</span><span style=\"font-weight: bold\">(</span><span style=\"color: #800080; text-decoration-color: #800080; font-weight: bold\">Struct</span><span style=\"font-weight: bold\">({</span><span style=\"color: #008000; text-decoration-color: #008000\">'time'</span>: String<span style=\"font-weight: bold\">}))</span>,\n",
       "    <span style=\"color: #008000; text-decoration-color: #008000\">'date_of_death'</span>: <span style=\"color: #800080; text-decoration-color: #800080; font-weight: bold\">List</span><span style=\"font-weight: bold\">(</span><span style=\"color: #800080; text-decoration-color: #800080; font-weight: bold\">Struct</span><span style=\"font-weight: bold\">({</span><span style=\"color: #008000; text-decoration-color: #008000\">'time'</span>: String<span style=\"font-weight: bold\">}))</span>,\n",
       "    <span style=\"color: #008000; text-decoration-color: #008000\">'worked_at'</span>: <span style=\"color: #800080; text-decoration-color: #800080; font-weight: bold\">List</span><span style=\"font-weight: bold\">(</span><span style=\"color: #800080; text-decoration-color: #800080; font-weight: bold\">Struct</span><span style=\"font-weight: bold\">({</span><span style=\"color: #008000; text-decoration-color: #008000\">'numeric_id'</span>: String<span style=\"font-weight: bold\">}))</span>,\n",
       "    <span style=\"color: #008000; text-decoration-color: #008000\">'country_of_citizenship'</span>: <span style=\"color: #800080; text-decoration-color: #800080; font-weight: bold\">List</span><span style=\"font-weight: bold\">(</span><span style=\"color: #800080; text-decoration-color: #800080; font-weight: bold\">Struct</span><span style=\"font-weight: bold\">({</span><span style=\"color: #008000; text-decoration-color: #008000\">'numeric_id'</span>: String<span style=\"font-weight: bold\">}))</span>,\n",
       "    <span style=\"color: #008000; text-decoration-color: #008000\">'country'</span>: <span style=\"color: #800080; text-decoration-color: #800080; font-weight: bold\">List</span><span style=\"font-weight: bold\">(</span><span style=\"color: #800080; text-decoration-color: #800080; font-weight: bold\">Struct</span><span style=\"font-weight: bold\">({</span><span style=\"color: #008000; text-decoration-color: #008000\">'numeric_id'</span>: String<span style=\"font-weight: bold\">}))</span>,\n",
       "    <span style=\"color: #008000; text-decoration-color: #008000\">'educated_at'</span>: <span style=\"color: #800080; text-decoration-color: #800080; font-weight: bold\">List</span><span style=\"font-weight: bold\">(</span><span style=\"color: #800080; text-decoration-color: #800080; font-weight: bold\">Struct</span><span style=\"font-weight: bold\">({</span><span style=\"color: #008000; text-decoration-color: #008000\">'numeric_id'</span>: String<span style=\"font-weight: bold\">}))</span>,\n",
       "    <span style=\"color: #008000; text-decoration-color: #008000\">'occupation'</span>: <span style=\"color: #800080; text-decoration-color: #800080; font-weight: bold\">List</span><span style=\"font-weight: bold\">(</span><span style=\"color: #800080; text-decoration-color: #800080; font-weight: bold\">Struct</span><span style=\"font-weight: bold\">({</span><span style=\"color: #008000; text-decoration-color: #008000\">'numeric_id'</span>: String<span style=\"font-weight: bold\">}))</span>,\n",
       "    <span style=\"color: #008000; text-decoration-color: #008000\">'instrument'</span>: <span style=\"color: #800080; text-decoration-color: #800080; font-weight: bold\">List</span><span style=\"font-weight: bold\">(</span><span style=\"color: #800080; text-decoration-color: #800080; font-weight: bold\">Struct</span><span style=\"font-weight: bold\">({</span><span style=\"color: #008000; text-decoration-color: #008000\">'numeric_id'</span>: String<span style=\"font-weight: bold\">}))</span>,\n",
       "    <span style=\"color: #008000; text-decoration-color: #008000\">'genre'</span>: <span style=\"color: #800080; text-decoration-color: #800080; font-weight: bold\">List</span><span style=\"font-weight: bold\">(</span><span style=\"color: #800080; text-decoration-color: #800080; font-weight: bold\">Struct</span><span style=\"font-weight: bold\">({</span><span style=\"color: #008000; text-decoration-color: #008000\">'numeric_id'</span>: String<span style=\"font-weight: bold\">}))</span>,\n",
       "    <span style=\"color: #008000; text-decoration-color: #008000\">'industry'</span>: <span style=\"color: #800080; text-decoration-color: #800080; font-weight: bold\">List</span><span style=\"font-weight: bold\">(</span><span style=\"color: #800080; text-decoration-color: #800080; font-weight: bold\">Struct</span><span style=\"font-weight: bold\">({</span><span style=\"color: #008000; text-decoration-color: #008000\">'numeric_id'</span>: String<span style=\"font-weight: bold\">}))</span>,\n",
       "    <span style=\"color: #008000; text-decoration-color: #008000\">'subclass_of'</span>: <span style=\"color: #800080; text-decoration-color: #800080; font-weight: bold\">List</span><span style=\"font-weight: bold\">(</span><span style=\"color: #800080; text-decoration-color: #800080; font-weight: bold\">Struct</span><span style=\"font-weight: bold\">({</span><span style=\"color: #008000; text-decoration-color: #008000\">'numeric_id'</span>: String<span style=\"font-weight: bold\">}))</span>,\n",
       "    <span style=\"color: #008000; text-decoration-color: #008000\">'coordinate_location'</span>: <span style=\"color: #800080; text-decoration-color: #800080; font-weight: bold\">List</span><span style=\"font-weight: bold\">(</span><span style=\"color: #800080; text-decoration-color: #800080; font-weight: bold\">Struct</span><span style=\"font-weight: bold\">({</span><span style=\"color: #008000; text-decoration-color: #008000\">'latitude'</span>: Float64, <span style=\"color: #008000; text-decoration-color: #008000\">'longitude'</span>: Float64<span style=\"font-weight: bold\">}))</span>,\n",
       "    <span style=\"color: #008000; text-decoration-color: #008000\">'iso_3166_alpha3'</span>: <span style=\"color: #800080; text-decoration-color: #800080; font-weight: bold\">List</span><span style=\"font-weight: bold\">(</span>Null<span style=\"font-weight: bold\">)</span>,\n",
       "    <span style=\"color: #008000; text-decoration-color: #008000\">'member_of'</span>: <span style=\"color: #800080; text-decoration-color: #800080; font-weight: bold\">List</span><span style=\"font-weight: bold\">(</span><span style=\"color: #800080; text-decoration-color: #800080; font-weight: bold\">Struct</span><span style=\"font-weight: bold\">({</span><span style=\"color: #008000; text-decoration-color: #008000\">'numeric_id'</span>: String<span style=\"font-weight: bold\">}))</span>,\n",
       "    <span style=\"color: #008000; text-decoration-color: #008000\">'from_fictional_universe'</span>: <span style=\"color: #800080; text-decoration-color: #800080; font-weight: bold\">List</span><span style=\"font-weight: bold\">(</span><span style=\"color: #800080; text-decoration-color: #800080; font-weight: bold\">Struct</span><span style=\"font-weight: bold\">({</span><span style=\"color: #008000; text-decoration-color: #008000\">'numeric_id'</span>: String<span style=\"font-weight: bold\">}))</span>\n",
       "<span style=\"font-weight: bold\">}</span>\n",
       "</pre>\n"
      ],
      "text/plain": [
       "\u001b[1m{\u001b[0m\n",
       "    \u001b[32m'id'\u001b[0m: String,\n",
       "    \u001b[32m'numeric_id'\u001b[0m: String,\n",
       "    \u001b[32m'en_label'\u001b[0m: String,\n",
       "    \u001b[32m'en_wiki'\u001b[0m: String,\n",
       "    \u001b[32m'en_description'\u001b[0m: String,\n",
       "    \u001b[32m'type'\u001b[0m: String,\n",
       "    \u001b[32m'sitelinks'\u001b[0m: \u001b[1;35mList\u001b[0m\u001b[1m(\u001b[0m\u001b[1;35mStruct\u001b[0m\u001b[1m(\u001b[0m\u001b[1m{\u001b[0m\u001b[32m'site'\u001b[0m: String, \u001b[32m'title'\u001b[0m: String, \u001b[32m'encoded'\u001b[0m: String\u001b[1m}\u001b[0m\u001b[1m)\u001b[0m\u001b[1m)\u001b[0m,\n",
       "    \u001b[32m'descriptions'\u001b[0m: \u001b[1;35mList\u001b[0m\u001b[1m(\u001b[0m\u001b[1;35mStruct\u001b[0m\u001b[1m(\u001b[0m\u001b[1m{\u001b[0m\u001b[32m'language'\u001b[0m: String, \u001b[32m'value'\u001b[0m: String\u001b[1m}\u001b[0m\u001b[1m)\u001b[0m\u001b[1m)\u001b[0m,\n",
       "    \u001b[32m'labels'\u001b[0m: \u001b[1;35mList\u001b[0m\u001b[1m(\u001b[0m\u001b[1;35mStruct\u001b[0m\u001b[1m(\u001b[0m\u001b[1m{\u001b[0m\u001b[32m'language'\u001b[0m: String, \u001b[32m'value'\u001b[0m: String\u001b[1m}\u001b[0m\u001b[1m)\u001b[0m\u001b[1m)\u001b[0m,\n",
       "    \u001b[32m'aliases'\u001b[0m: \u001b[1;35mList\u001b[0m\u001b[1m(\u001b[0m\u001b[1;35mStruct\u001b[0m\u001b[1m(\u001b[0m\u001b[1m{\u001b[0m\u001b[32m'language'\u001b[0m: String, \u001b[32m'value'\u001b[0m: String\u001b[1m}\u001b[0m\u001b[1m)\u001b[0m\u001b[1m)\u001b[0m,\n",
       "    \u001b[32m'instance_of'\u001b[0m: \u001b[1;35mList\u001b[0m\u001b[1m(\u001b[0m\u001b[1;35mStruct\u001b[0m\u001b[1m(\u001b[0m\u001b[1m{\u001b[0m\u001b[32m'numeric_id'\u001b[0m: String\u001b[1m}\u001b[0m\u001b[1m)\u001b[0m\u001b[1m)\u001b[0m,\n",
       "    \u001b[32m'gender'\u001b[0m: \u001b[1;35mList\u001b[0m\u001b[1m(\u001b[0m\u001b[1;35mStruct\u001b[0m\u001b[1m(\u001b[0m\u001b[1m{\u001b[0m\u001b[32m'numeric_id'\u001b[0m: String\u001b[1m}\u001b[0m\u001b[1m)\u001b[0m\u001b[1m)\u001b[0m,\n",
       "    \u001b[32m'date_of_birth'\u001b[0m: \u001b[1;35mList\u001b[0m\u001b[1m(\u001b[0m\u001b[1;35mStruct\u001b[0m\u001b[1m(\u001b[0m\u001b[1m{\u001b[0m\u001b[32m'time'\u001b[0m: String\u001b[1m}\u001b[0m\u001b[1m)\u001b[0m\u001b[1m)\u001b[0m,\n",
       "    \u001b[32m'date_of_death'\u001b[0m: \u001b[1;35mList\u001b[0m\u001b[1m(\u001b[0m\u001b[1;35mStruct\u001b[0m\u001b[1m(\u001b[0m\u001b[1m{\u001b[0m\u001b[32m'time'\u001b[0m: String\u001b[1m}\u001b[0m\u001b[1m)\u001b[0m\u001b[1m)\u001b[0m,\n",
       "    \u001b[32m'worked_at'\u001b[0m: \u001b[1;35mList\u001b[0m\u001b[1m(\u001b[0m\u001b[1;35mStruct\u001b[0m\u001b[1m(\u001b[0m\u001b[1m{\u001b[0m\u001b[32m'numeric_id'\u001b[0m: String\u001b[1m}\u001b[0m\u001b[1m)\u001b[0m\u001b[1m)\u001b[0m,\n",
       "    \u001b[32m'country_of_citizenship'\u001b[0m: \u001b[1;35mList\u001b[0m\u001b[1m(\u001b[0m\u001b[1;35mStruct\u001b[0m\u001b[1m(\u001b[0m\u001b[1m{\u001b[0m\u001b[32m'numeric_id'\u001b[0m: String\u001b[1m}\u001b[0m\u001b[1m)\u001b[0m\u001b[1m)\u001b[0m,\n",
       "    \u001b[32m'country'\u001b[0m: \u001b[1;35mList\u001b[0m\u001b[1m(\u001b[0m\u001b[1;35mStruct\u001b[0m\u001b[1m(\u001b[0m\u001b[1m{\u001b[0m\u001b[32m'numeric_id'\u001b[0m: String\u001b[1m}\u001b[0m\u001b[1m)\u001b[0m\u001b[1m)\u001b[0m,\n",
       "    \u001b[32m'educated_at'\u001b[0m: \u001b[1;35mList\u001b[0m\u001b[1m(\u001b[0m\u001b[1;35mStruct\u001b[0m\u001b[1m(\u001b[0m\u001b[1m{\u001b[0m\u001b[32m'numeric_id'\u001b[0m: String\u001b[1m}\u001b[0m\u001b[1m)\u001b[0m\u001b[1m)\u001b[0m,\n",
       "    \u001b[32m'occupation'\u001b[0m: \u001b[1;35mList\u001b[0m\u001b[1m(\u001b[0m\u001b[1;35mStruct\u001b[0m\u001b[1m(\u001b[0m\u001b[1m{\u001b[0m\u001b[32m'numeric_id'\u001b[0m: String\u001b[1m}\u001b[0m\u001b[1m)\u001b[0m\u001b[1m)\u001b[0m,\n",
       "    \u001b[32m'instrument'\u001b[0m: \u001b[1;35mList\u001b[0m\u001b[1m(\u001b[0m\u001b[1;35mStruct\u001b[0m\u001b[1m(\u001b[0m\u001b[1m{\u001b[0m\u001b[32m'numeric_id'\u001b[0m: String\u001b[1m}\u001b[0m\u001b[1m)\u001b[0m\u001b[1m)\u001b[0m,\n",
       "    \u001b[32m'genre'\u001b[0m: \u001b[1;35mList\u001b[0m\u001b[1m(\u001b[0m\u001b[1;35mStruct\u001b[0m\u001b[1m(\u001b[0m\u001b[1m{\u001b[0m\u001b[32m'numeric_id'\u001b[0m: String\u001b[1m}\u001b[0m\u001b[1m)\u001b[0m\u001b[1m)\u001b[0m,\n",
       "    \u001b[32m'industry'\u001b[0m: \u001b[1;35mList\u001b[0m\u001b[1m(\u001b[0m\u001b[1;35mStruct\u001b[0m\u001b[1m(\u001b[0m\u001b[1m{\u001b[0m\u001b[32m'numeric_id'\u001b[0m: String\u001b[1m}\u001b[0m\u001b[1m)\u001b[0m\u001b[1m)\u001b[0m,\n",
       "    \u001b[32m'subclass_of'\u001b[0m: \u001b[1;35mList\u001b[0m\u001b[1m(\u001b[0m\u001b[1;35mStruct\u001b[0m\u001b[1m(\u001b[0m\u001b[1m{\u001b[0m\u001b[32m'numeric_id'\u001b[0m: String\u001b[1m}\u001b[0m\u001b[1m)\u001b[0m\u001b[1m)\u001b[0m,\n",
       "    \u001b[32m'coordinate_location'\u001b[0m: \u001b[1;35mList\u001b[0m\u001b[1m(\u001b[0m\u001b[1;35mStruct\u001b[0m\u001b[1m(\u001b[0m\u001b[1m{\u001b[0m\u001b[32m'latitude'\u001b[0m: Float64, \u001b[32m'longitude'\u001b[0m: Float64\u001b[1m}\u001b[0m\u001b[1m)\u001b[0m\u001b[1m)\u001b[0m,\n",
       "    \u001b[32m'iso_3166_alpha3'\u001b[0m: \u001b[1;35mList\u001b[0m\u001b[1m(\u001b[0mNull\u001b[1m)\u001b[0m,\n",
       "    \u001b[32m'member_of'\u001b[0m: \u001b[1;35mList\u001b[0m\u001b[1m(\u001b[0m\u001b[1;35mStruct\u001b[0m\u001b[1m(\u001b[0m\u001b[1m{\u001b[0m\u001b[32m'numeric_id'\u001b[0m: String\u001b[1m}\u001b[0m\u001b[1m)\u001b[0m\u001b[1m)\u001b[0m,\n",
       "    \u001b[32m'from_fictional_universe'\u001b[0m: \u001b[1;35mList\u001b[0m\u001b[1m(\u001b[0m\u001b[1;35mStruct\u001b[0m\u001b[1m(\u001b[0m\u001b[1m{\u001b[0m\u001b[32m'numeric_id'\u001b[0m: String\u001b[1m}\u001b[0m\u001b[1m)\u001b[0m\u001b[1m)\u001b[0m\n",
       "\u001b[1m}\u001b[0m\n"
      ]
     },
     "metadata": {},
     "output_type": "display_data"
    }
   ],
   "source": [
    "print(dict(zip(info_df.columns, info_df.dtypes)))"
   ]
  },
  {
   "cell_type": "markdown",
   "metadata": {},
   "source": [
    "**Questions for cleaning the data**\n",
    "1. General questions about the dataframe:\n",
    "    1. Are there any duplicate rows?\n",
    "    1. Are there any columns that contain nothing but empty lists or null values? Are there columns that are *mostly* empty?\n",
    "    1. Are there any list/struct columns that always contain a single value (= lists that can be flattened)?\n",
    "    1. How many unique values does each column contains?\n",
    "2. Column-specific questions:\n",
    "    1. Can `en_wiki` be a primary key instead of the id columns, in order to match this table to the pageviews one?\n",
    "    1. Can an entity have more than one `gender`? Can an entity have no `gender`? If so - why?"
   ]
  },
  {
   "cell_type": "markdown",
   "metadata": {},
   "source": [
    "---"
   ]
  },
  {
   "cell_type": "markdown",
   "metadata": {},
   "source": [
    "* **Duplicate rows**"
   ]
  },
  {
   "cell_type": "code",
   "execution_count": 4,
   "metadata": {},
   "outputs": [
    {
     "data": {
      "text/html": [
       "<pre style=\"white-space:pre;overflow-x:auto;line-height:normal;font-family:Menlo,'DejaVu Sans Mono',consolas,'Courier New',monospace\">There are <span style=\"color: #008080; text-decoration-color: #008080; font-weight: bold\">22</span> rows carrying duplicate `id`s.\n",
       "</pre>\n"
      ],
      "text/plain": [
       "There are \u001b[1;36m22\u001b[0m rows carrying duplicate `id`s.\n"
      ]
     },
     "metadata": {},
     "output_type": "display_data"
    }
   ],
   "source": [
    "duplicated_df = info_df.filter(info_df['id'].is_duplicated()).sort('id')\n",
    "\n",
    "print(f'There are {duplicated_df.height} rows carrying duplicate `id`s.')"
   ]
  },
  {
   "cell_type": "code",
   "execution_count": 8,
   "metadata": {},
   "outputs": [
    {
     "data": {
      "text/plain": [
       "True"
      ]
     },
     "execution_count": 8,
     "metadata": {},
     "output_type": "execute_result"
    }
   ],
   "source": [
    "(duplicated_df == duplicated_df.shift(-1))[::2].to_numpy().all()"
   ]
  },
  {
   "cell_type": "code",
   "execution_count": 36,
   "metadata": {},
   "outputs": [
    {
     "name": "stderr",
     "output_type": "stream",
     "text": [
      "thread '<unnamed>' panicked at /home/runner/work/polars/polars/crates/polars-core/src/serde/series.rs:74:17:\n",
      "not implemented for dtype Null\n"
     ]
    },
    {
     "ename": "PanicException",
     "evalue": "not implemented for dtype Null",
     "output_type": "error",
     "traceback": [
      "\u001b[0;31m---------------------------------------------------------------------------\u001b[0m",
      "\u001b[0;31mPanicException\u001b[0m                            Traceback (most recent call last)",
      "\u001b[0;32m/tmp/ipykernel_3396947/3581800217.py\u001b[0m in \u001b[0;36m?\u001b[0;34m()\u001b[0m\n\u001b[0;32m----> 1\u001b[0;31m \u001b[0minfo_df\u001b[0m\u001b[0;34m.\u001b[0m\u001b[0mfilter\u001b[0m\u001b[0;34m(\u001b[0m\u001b[0minfo_df\u001b[0m\u001b[0;34m[\u001b[0m\u001b[0;34m'id'\u001b[0m\u001b[0;34m]\u001b[0m\u001b[0;34m.\u001b[0m\u001b[0mis_duplicated\u001b[0m\u001b[0;34m(\u001b[0m\u001b[0;34m)\u001b[0m\u001b[0;34m)\u001b[0m\u001b[0;34m.\u001b[0m\u001b[0msort\u001b[0m\u001b[0;34m(\u001b[0m\u001b[0;34m'id'\u001b[0m\u001b[0;34m)\u001b[0m\u001b[0;34m.\u001b[0m\u001b[0mwrite_json\u001b[0m\u001b[0;34m(\u001b[0m\u001b[0mPROCESSED_DATA_DIR\u001b[0m \u001b[0;34m/\u001b[0m \u001b[0;34m'duplicates.json'\u001b[0m\u001b[0;34m)\u001b[0m\u001b[0;34m\u001b[0m\u001b[0;34m\u001b[0m\u001b[0m\n\u001b[0m",
      "\u001b[0;32m~/.conda/envs/big_data_project/lib/python3.12/site-packages/polars/dataframe/frame.py\u001b[0m in \u001b[0;36m?\u001b[0;34m(self, file, pretty, row_oriented)\u001b[0m\n\u001b[1;32m   2486\u001b[0m                 \u001b[0mfile\u001b[0m\u001b[0;34m.\u001b[0m\u001b[0mwrite\u001b[0m\u001b[0;34m(\u001b[0m\u001b[0mjson_str\u001b[0m\u001b[0;34m)\u001b[0m  \u001b[0;31m# type: ignore[union-attr]\u001b[0m\u001b[0;34m\u001b[0m\u001b[0;34m\u001b[0m\u001b[0m\n\u001b[1;32m   2487\u001b[0m             \u001b[0;32melse\u001b[0m\u001b[0;34m:\u001b[0m\u001b[0;34m\u001b[0m\u001b[0;34m\u001b[0m\u001b[0m\n\u001b[1;32m   2488\u001b[0m                 \u001b[0;32mreturn\u001b[0m \u001b[0mjson_str\u001b[0m\u001b[0;34m\u001b[0m\u001b[0;34m\u001b[0m\u001b[0m\n\u001b[1;32m   2489\u001b[0m         \u001b[0;32melse\u001b[0m\u001b[0;34m:\u001b[0m\u001b[0;34m\u001b[0m\u001b[0;34m\u001b[0m\u001b[0m\n\u001b[0;32m-> 2490\u001b[0;31m             \u001b[0mself\u001b[0m\u001b[0;34m.\u001b[0m\u001b[0m_df\u001b[0m\u001b[0;34m.\u001b[0m\u001b[0mwrite_json\u001b[0m\u001b[0;34m(\u001b[0m\u001b[0mfile\u001b[0m\u001b[0;34m,\u001b[0m \u001b[0mpretty\u001b[0m\u001b[0;34m,\u001b[0m \u001b[0mrow_oriented\u001b[0m\u001b[0;34m)\u001b[0m\u001b[0;34m\u001b[0m\u001b[0;34m\u001b[0m\u001b[0m\n\u001b[0m\u001b[1;32m   2491\u001b[0m         \u001b[0;32mreturn\u001b[0m \u001b[0;32mNone\u001b[0m\u001b[0;34m\u001b[0m\u001b[0;34m\u001b[0m\u001b[0m\n",
      "\u001b[0;31mPanicException\u001b[0m: not implemented for dtype Null"
     ]
    }
   ],
   "source": [
    "info_df.filter(info_df['id'].is_duplicated()).sort('id').write_json(PROCESSED_DATA_DIR / 'duplicates.json')"
   ]
  },
  {
   "cell_type": "code",
   "execution_count": 51,
   "metadata": {},
   "outputs": [
    {
     "data": {
      "text/html": [
       "<pre style=\"white-space:pre;overflow-x:auto;line-height:normal;font-family:Menlo,'DejaVu Sans Mono',consolas,'Courier New',monospace\"><span style=\"color: #008080; text-decoration-color: #008080; font-weight: bold\">1993447</span> <span style=\"color: #008080; text-decoration-color: #008080; font-weight: bold\">1993459</span>\n",
       "</pre>\n"
      ],
      "text/plain": [
       "\u001b[1;36m1993447\u001b[0m \u001b[1;36m1993459\u001b[0m\n"
      ]
     },
     "metadata": {},
     "output_type": "display_data"
    }
   ],
   "source": [
    "print(info_df['en_wiki'].n_unique(), info_df.height)"
   ]
  },
  {
   "cell_type": "code",
   "execution_count": 7,
   "metadata": {},
   "outputs": [
    {
     "data": {
      "text/html": [
       "<pre style=\"white-space:pre;overflow-x:auto;line-height:normal;font-family:Menlo,'DejaVu Sans Mono',consolas,'Courier New',monospace\">sitelinks shape: <span style=\"font-weight: bold\">(</span><span style=\"color: #008080; text-decoration-color: #008080; font-weight: bold\">260</span>, <span style=\"color: #008080; text-decoration-color: #008080; font-weight: bold\">2</span><span style=\"font-weight: bold\">)</span>\n",
       "┌─────────────────────┬────────┐\n",
       "│ length of sitelinks ┆ count  │\n",
       "│ ---                 ┆ ---    │\n",
       "│ i64                 ┆ u32    │\n",
       "╞═════════════════════╪════════╡\n",
       "│ <span style=\"color: #008080; text-decoration-color: #008080; font-weight: bold\">1</span>                   ┆ <span style=\"color: #008080; text-decoration-color: #008080; font-weight: bold\">477554</span> │\n",
       "│ <span style=\"color: #008080; text-decoration-color: #008080; font-weight: bold\">2</span>                   ┆ <span style=\"color: #008080; text-decoration-color: #008080; font-weight: bold\">364181</span> │\n",
       "│ <span style=\"color: #008080; text-decoration-color: #008080; font-weight: bold\">3</span>                   ┆ <span style=\"color: #008080; text-decoration-color: #008080; font-weight: bold\">281088</span> │\n",
       "│ <span style=\"color: #008080; text-decoration-color: #008080; font-weight: bold\">4</span>                   ┆ <span style=\"color: #008080; text-decoration-color: #008080; font-weight: bold\">196451</span> │\n",
       "│ <span style=\"color: #008080; text-decoration-color: #008080; font-weight: bold\">5</span>                   ┆ <span style=\"color: #008080; text-decoration-color: #008080; font-weight: bold\">140116</span> │\n",
       "│ …                   ┆ …      │\n",
       "│ <span style=\"color: #008080; text-decoration-color: #008080; font-weight: bold\">304</span>                 ┆ <span style=\"color: #008080; text-decoration-color: #008080; font-weight: bold\">1</span>      │\n",
       "│ <span style=\"color: #008080; text-decoration-color: #008080; font-weight: bold\">306</span>                 ┆ <span style=\"color: #008080; text-decoration-color: #008080; font-weight: bold\">1</span>      │\n",
       "│ <span style=\"color: #008080; text-decoration-color: #008080; font-weight: bold\">310</span>                 ┆ <span style=\"color: #008080; text-decoration-color: #008080; font-weight: bold\">1</span>      │\n",
       "│ <span style=\"color: #008080; text-decoration-color: #008080; font-weight: bold\">322</span>                 ┆ <span style=\"color: #008080; text-decoration-color: #008080; font-weight: bold\">1</span>      │\n",
       "│ <span style=\"color: #008080; text-decoration-color: #008080; font-weight: bold\">325</span>                 ┆ <span style=\"color: #008080; text-decoration-color: #008080; font-weight: bold\">1</span>      │\n",
       "└─────────────────────┴────────┘\n",
       "</pre>\n"
      ],
      "text/plain": [
       "sitelinks shape: \u001b[1m(\u001b[0m\u001b[1;36m260\u001b[0m, \u001b[1;36m2\u001b[0m\u001b[1m)\u001b[0m\n",
       "┌─────────────────────┬────────┐\n",
       "│ length of sitelinks ┆ count  │\n",
       "│ ---                 ┆ ---    │\n",
       "│ i64                 ┆ u32    │\n",
       "╞═════════════════════╪════════╡\n",
       "│ \u001b[1;36m1\u001b[0m                   ┆ \u001b[1;36m477554\u001b[0m │\n",
       "│ \u001b[1;36m2\u001b[0m                   ┆ \u001b[1;36m364181\u001b[0m │\n",
       "│ \u001b[1;36m3\u001b[0m                   ┆ \u001b[1;36m281088\u001b[0m │\n",
       "│ \u001b[1;36m4\u001b[0m                   ┆ \u001b[1;36m196451\u001b[0m │\n",
       "│ \u001b[1;36m5\u001b[0m                   ┆ \u001b[1;36m140116\u001b[0m │\n",
       "│ …                   ┆ …      │\n",
       "│ \u001b[1;36m304\u001b[0m                 ┆ \u001b[1;36m1\u001b[0m      │\n",
       "│ \u001b[1;36m306\u001b[0m                 ┆ \u001b[1;36m1\u001b[0m      │\n",
       "│ \u001b[1;36m310\u001b[0m                 ┆ \u001b[1;36m1\u001b[0m      │\n",
       "│ \u001b[1;36m322\u001b[0m                 ┆ \u001b[1;36m1\u001b[0m      │\n",
       "│ \u001b[1;36m325\u001b[0m                 ┆ \u001b[1;36m1\u001b[0m      │\n",
       "└─────────────────────┴────────┘\n"
      ]
     },
     "metadata": {},
     "output_type": "display_data"
    },
    {
     "data": {
      "text/html": [
       "<pre style=\"white-space:pre;overflow-x:auto;line-height:normal;font-family:Menlo,'DejaVu Sans Mono',consolas,'Courier New',monospace\">descriptions shape: <span style=\"font-weight: bold\">(</span><span style=\"color: #008080; text-decoration-color: #008080; font-weight: bold\">131</span>, <span style=\"color: #008080; text-decoration-color: #008080; font-weight: bold\">2</span><span style=\"font-weight: bold\">)</span>\n",
       "┌────────────────────────┬────────┐\n",
       "│ length of descriptions ┆ count  │\n",
       "│ ---                    ┆ ---    │\n",
       "│ i64                    ┆ u32    │\n",
       "╞════════════════════════╪════════╡\n",
       "│ <span style=\"color: #008080; text-decoration-color: #008080; font-weight: bold\">0</span>                      ┆ <span style=\"color: #008080; text-decoration-color: #008080; font-weight: bold\">24897</span>  │\n",
       "│ <span style=\"color: #008080; text-decoration-color: #008080; font-weight: bold\">1</span>                      ┆ <span style=\"color: #008080; text-decoration-color: #008080; font-weight: bold\">161926</span> │\n",
       "│ <span style=\"color: #008080; text-decoration-color: #008080; font-weight: bold\">2</span>                      ┆ <span style=\"color: #008080; text-decoration-color: #008080; font-weight: bold\">153203</span> │\n",
       "│ <span style=\"color: #008080; text-decoration-color: #008080; font-weight: bold\">3</span>                      ┆ <span style=\"color: #008080; text-decoration-color: #008080; font-weight: bold\">111702</span> │\n",
       "│ <span style=\"color: #008080; text-decoration-color: #008080; font-weight: bold\">4</span>                      ┆ <span style=\"color: #008080; text-decoration-color: #008080; font-weight: bold\">100204</span> │\n",
       "│ …                      ┆ …      │\n",
       "│ <span style=\"color: #008080; text-decoration-color: #008080; font-weight: bold\">138</span>                    ┆ <span style=\"color: #008080; text-decoration-color: #008080; font-weight: bold\">1</span>      │\n",
       "│ <span style=\"color: #008080; text-decoration-color: #008080; font-weight: bold\">145</span>                    ┆ <span style=\"color: #008080; text-decoration-color: #008080; font-weight: bold\">1</span>      │\n",
       "│ <span style=\"color: #008080; text-decoration-color: #008080; font-weight: bold\">157</span>                    ┆ <span style=\"color: #008080; text-decoration-color: #008080; font-weight: bold\">1</span>      │\n",
       "│ <span style=\"color: #008080; text-decoration-color: #008080; font-weight: bold\">247</span>                    ┆ <span style=\"color: #008080; text-decoration-color: #008080; font-weight: bold\">1</span>      │\n",
       "│ <span style=\"color: #008080; text-decoration-color: #008080; font-weight: bold\">444</span>                    ┆ <span style=\"color: #008080; text-decoration-color: #008080; font-weight: bold\">1</span>      │\n",
       "└────────────────────────┴────────┘\n",
       "</pre>\n"
      ],
      "text/plain": [
       "descriptions shape: \u001b[1m(\u001b[0m\u001b[1;36m131\u001b[0m, \u001b[1;36m2\u001b[0m\u001b[1m)\u001b[0m\n",
       "┌────────────────────────┬────────┐\n",
       "│ length of descriptions ┆ count  │\n",
       "│ ---                    ┆ ---    │\n",
       "│ i64                    ┆ u32    │\n",
       "╞════════════════════════╪════════╡\n",
       "│ \u001b[1;36m0\u001b[0m                      ┆ \u001b[1;36m24897\u001b[0m  │\n",
       "│ \u001b[1;36m1\u001b[0m                      ┆ \u001b[1;36m161926\u001b[0m │\n",
       "│ \u001b[1;36m2\u001b[0m                      ┆ \u001b[1;36m153203\u001b[0m │\n",
       "│ \u001b[1;36m3\u001b[0m                      ┆ \u001b[1;36m111702\u001b[0m │\n",
       "│ \u001b[1;36m4\u001b[0m                      ┆ \u001b[1;36m100204\u001b[0m │\n",
       "│ …                      ┆ …      │\n",
       "│ \u001b[1;36m138\u001b[0m                    ┆ \u001b[1;36m1\u001b[0m      │\n",
       "│ \u001b[1;36m145\u001b[0m                    ┆ \u001b[1;36m1\u001b[0m      │\n",
       "│ \u001b[1;36m157\u001b[0m                    ┆ \u001b[1;36m1\u001b[0m      │\n",
       "│ \u001b[1;36m247\u001b[0m                    ┆ \u001b[1;36m1\u001b[0m      │\n",
       "│ \u001b[1;36m444\u001b[0m                    ┆ \u001b[1;36m1\u001b[0m      │\n",
       "└────────────────────────┴────────┘\n"
      ]
     },
     "metadata": {},
     "output_type": "display_data"
    },
    {
     "data": {
      "text/html": [
       "<pre style=\"white-space:pre;overflow-x:auto;line-height:normal;font-family:Menlo,'DejaVu Sans Mono',consolas,'Courier New',monospace\">labels shape: <span style=\"font-weight: bold\">(</span><span style=\"color: #008080; text-decoration-color: #008080; font-weight: bold\">290</span>, <span style=\"color: #008080; text-decoration-color: #008080; font-weight: bold\">2</span><span style=\"font-weight: bold\">)</span>\n",
       "┌──────────────────┬───────┐\n",
       "│ length of labels ┆ count │\n",
       "│ ---              ┆ ---   │\n",
       "│ i64              ┆ u32   │\n",
       "╞══════════════════╪═══════╡\n",
       "│ <span style=\"color: #008080; text-decoration-color: #008080; font-weight: bold\">0</span>                ┆ <span style=\"color: #008080; text-decoration-color: #008080; font-weight: bold\">5</span>     │\n",
       "│ <span style=\"color: #008080; text-decoration-color: #008080; font-weight: bold\">1</span>                ┆ <span style=\"color: #008080; text-decoration-color: #008080; font-weight: bold\">26161</span> │\n",
       "│ <span style=\"color: #008080; text-decoration-color: #008080; font-weight: bold\">2</span>                ┆ <span style=\"color: #008080; text-decoration-color: #008080; font-weight: bold\">23938</span> │\n",
       "│ <span style=\"color: #008080; text-decoration-color: #008080; font-weight: bold\">3</span>                ┆ <span style=\"color: #008080; text-decoration-color: #008080; font-weight: bold\">28898</span> │\n",
       "│ <span style=\"color: #008080; text-decoration-color: #008080; font-weight: bold\">4</span>                ┆ <span style=\"color: #008080; text-decoration-color: #008080; font-weight: bold\">50694</span> │\n",
       "│ …                ┆ …     │\n",
       "│ <span style=\"color: #008080; text-decoration-color: #008080; font-weight: bold\">354</span>              ┆ <span style=\"color: #008080; text-decoration-color: #008080; font-weight: bold\">1</span>     │\n",
       "│ <span style=\"color: #008080; text-decoration-color: #008080; font-weight: bold\">376</span>              ┆ <span style=\"color: #008080; text-decoration-color: #008080; font-weight: bold\">4</span>     │\n",
       "│ <span style=\"color: #008080; text-decoration-color: #008080; font-weight: bold\">406</span>              ┆ <span style=\"color: #008080; text-decoration-color: #008080; font-weight: bold\">2</span>     │\n",
       "│ <span style=\"color: #008080; text-decoration-color: #008080; font-weight: bold\">413</span>              ┆ <span style=\"color: #008080; text-decoration-color: #008080; font-weight: bold\">23</span>    │\n",
       "│ <span style=\"color: #008080; text-decoration-color: #008080; font-weight: bold\">444</span>              ┆ <span style=\"color: #008080; text-decoration-color: #008080; font-weight: bold\">1</span>     │\n",
       "└──────────────────┴───────┘\n",
       "</pre>\n"
      ],
      "text/plain": [
       "labels shape: \u001b[1m(\u001b[0m\u001b[1;36m290\u001b[0m, \u001b[1;36m2\u001b[0m\u001b[1m)\u001b[0m\n",
       "┌──────────────────┬───────┐\n",
       "│ length of labels ┆ count │\n",
       "│ ---              ┆ ---   │\n",
       "│ i64              ┆ u32   │\n",
       "╞══════════════════╪═══════╡\n",
       "│ \u001b[1;36m0\u001b[0m                ┆ \u001b[1;36m5\u001b[0m     │\n",
       "│ \u001b[1;36m1\u001b[0m                ┆ \u001b[1;36m26161\u001b[0m │\n",
       "│ \u001b[1;36m2\u001b[0m                ┆ \u001b[1;36m23938\u001b[0m │\n",
       "│ \u001b[1;36m3\u001b[0m                ┆ \u001b[1;36m28898\u001b[0m │\n",
       "│ \u001b[1;36m4\u001b[0m                ┆ \u001b[1;36m50694\u001b[0m │\n",
       "│ …                ┆ …     │\n",
       "│ \u001b[1;36m354\u001b[0m              ┆ \u001b[1;36m1\u001b[0m     │\n",
       "│ \u001b[1;36m376\u001b[0m              ┆ \u001b[1;36m4\u001b[0m     │\n",
       "│ \u001b[1;36m406\u001b[0m              ┆ \u001b[1;36m2\u001b[0m     │\n",
       "│ \u001b[1;36m413\u001b[0m              ┆ \u001b[1;36m23\u001b[0m    │\n",
       "│ \u001b[1;36m444\u001b[0m              ┆ \u001b[1;36m1\u001b[0m     │\n",
       "└──────────────────┴───────┘\n"
      ]
     },
     "metadata": {},
     "output_type": "display_data"
    },
    {
     "data": {
      "text/html": [
       "<pre style=\"white-space:pre;overflow-x:auto;line-height:normal;font-family:Menlo,'DejaVu Sans Mono',consolas,'Courier New',monospace\">aliases shape: <span style=\"font-weight: bold\">(</span><span style=\"color: #008080; text-decoration-color: #008080; font-weight: bold\">412</span>, <span style=\"color: #008080; text-decoration-color: #008080; font-weight: bold\">2</span><span style=\"font-weight: bold\">)</span>\n",
       "┌───────────────────┬────────┐\n",
       "│ length of aliases ┆ count  │\n",
       "│ ---               ┆ ---    │\n",
       "│ i64               ┆ u32    │\n",
       "╞═══════════════════╪════════╡\n",
       "│ <span style=\"color: #008080; text-decoration-color: #008080; font-weight: bold\">0</span>                 ┆ <span style=\"color: #008080; text-decoration-color: #008080; font-weight: bold\">875131</span> │\n",
       "│ <span style=\"color: #008080; text-decoration-color: #008080; font-weight: bold\">1</span>                 ┆ <span style=\"color: #008080; text-decoration-color: #008080; font-weight: bold\">410386</span> │\n",
       "│ <span style=\"color: #008080; text-decoration-color: #008080; font-weight: bold\">2</span>                 ┆ <span style=\"color: #008080; text-decoration-color: #008080; font-weight: bold\">188971</span> │\n",
       "│ <span style=\"color: #008080; text-decoration-color: #008080; font-weight: bold\">3</span>                 ┆ <span style=\"color: #008080; text-decoration-color: #008080; font-weight: bold\">117841</span> │\n",
       "│ <span style=\"color: #008080; text-decoration-color: #008080; font-weight: bold\">4</span>                 ┆ <span style=\"color: #008080; text-decoration-color: #008080; font-weight: bold\">81822</span>  │\n",
       "│ …                 ┆ …      │\n",
       "│ <span style=\"color: #008080; text-decoration-color: #008080; font-weight: bold\">1071</span>              ┆ <span style=\"color: #008080; text-decoration-color: #008080; font-weight: bold\">2</span>      │\n",
       "│ <span style=\"color: #008080; text-decoration-color: #008080; font-weight: bold\">1072</span>              ┆ <span style=\"color: #008080; text-decoration-color: #008080; font-weight: bold\">2</span>      │\n",
       "│ <span style=\"color: #008080; text-decoration-color: #008080; font-weight: bold\">1280</span>              ┆ <span style=\"color: #008080; text-decoration-color: #008080; font-weight: bold\">1</span>      │\n",
       "│ <span style=\"color: #008080; text-decoration-color: #008080; font-weight: bold\">2356</span>              ┆ <span style=\"color: #008080; text-decoration-color: #008080; font-weight: bold\">1</span>      │\n",
       "│ <span style=\"color: #008080; text-decoration-color: #008080; font-weight: bold\">2989</span>              ┆ <span style=\"color: #008080; text-decoration-color: #008080; font-weight: bold\">1</span>      │\n",
       "└───────────────────┴────────┘\n",
       "</pre>\n"
      ],
      "text/plain": [
       "aliases shape: \u001b[1m(\u001b[0m\u001b[1;36m412\u001b[0m, \u001b[1;36m2\u001b[0m\u001b[1m)\u001b[0m\n",
       "┌───────────────────┬────────┐\n",
       "│ length of aliases ┆ count  │\n",
       "│ ---               ┆ ---    │\n",
       "│ i64               ┆ u32    │\n",
       "╞═══════════════════╪════════╡\n",
       "│ \u001b[1;36m0\u001b[0m                 ┆ \u001b[1;36m875131\u001b[0m │\n",
       "│ \u001b[1;36m1\u001b[0m                 ┆ \u001b[1;36m410386\u001b[0m │\n",
       "│ \u001b[1;36m2\u001b[0m                 ┆ \u001b[1;36m188971\u001b[0m │\n",
       "│ \u001b[1;36m3\u001b[0m                 ┆ \u001b[1;36m117841\u001b[0m │\n",
       "│ \u001b[1;36m4\u001b[0m                 ┆ \u001b[1;36m81822\u001b[0m  │\n",
       "│ …                 ┆ …      │\n",
       "│ \u001b[1;36m1071\u001b[0m              ┆ \u001b[1;36m2\u001b[0m      │\n",
       "│ \u001b[1;36m1072\u001b[0m              ┆ \u001b[1;36m2\u001b[0m      │\n",
       "│ \u001b[1;36m1280\u001b[0m              ┆ \u001b[1;36m1\u001b[0m      │\n",
       "│ \u001b[1;36m2356\u001b[0m              ┆ \u001b[1;36m1\u001b[0m      │\n",
       "│ \u001b[1;36m2989\u001b[0m              ┆ \u001b[1;36m1\u001b[0m      │\n",
       "└───────────────────┴────────┘\n"
      ]
     },
     "metadata": {},
     "output_type": "display_data"
    },
    {
     "data": {
      "text/html": [
       "<pre style=\"white-space:pre;overflow-x:auto;line-height:normal;font-family:Menlo,'DejaVu Sans Mono',consolas,'Courier New',monospace\">instance_of shape: <span style=\"font-weight: bold\">(</span><span style=\"color: #008080; text-decoration-color: #008080; font-weight: bold\">6</span>, <span style=\"color: #008080; text-decoration-color: #008080; font-weight: bold\">2</span><span style=\"font-weight: bold\">)</span>\n",
       "┌───────────────────────┬─────────┐\n",
       "│ length of instance_of ┆ count   │\n",
       "│ ---                   ┆ ---     │\n",
       "│ i64                   ┆ u32     │\n",
       "╞═══════════════════════╪═════════╡\n",
       "│ <span style=\"color: #008080; text-decoration-color: #008080; font-weight: bold\">1</span>                     ┆ <span style=\"color: #008080; text-decoration-color: #008080; font-weight: bold\">1992244</span> │\n",
       "│ <span style=\"color: #008080; text-decoration-color: #008080; font-weight: bold\">2</span>                     ┆ <span style=\"color: #008080; text-decoration-color: #008080; font-weight: bold\">1118</span>    │\n",
       "│ <span style=\"color: #008080; text-decoration-color: #008080; font-weight: bold\">3</span>                     ┆ <span style=\"color: #008080; text-decoration-color: #008080; font-weight: bold\">81</span>      │\n",
       "│ <span style=\"color: #008080; text-decoration-color: #008080; font-weight: bold\">4</span>                     ┆ <span style=\"color: #008080; text-decoration-color: #008080; font-weight: bold\">13</span>      │\n",
       "│ <span style=\"color: #008080; text-decoration-color: #008080; font-weight: bold\">5</span>                     ┆ <span style=\"color: #008080; text-decoration-color: #008080; font-weight: bold\">2</span>       │\n",
       "│ <span style=\"color: #008080; text-decoration-color: #008080; font-weight: bold\">11</span>                    ┆ <span style=\"color: #008080; text-decoration-color: #008080; font-weight: bold\">1</span>       │\n",
       "└───────────────────────┴─────────┘\n",
       "</pre>\n"
      ],
      "text/plain": [
       "instance_of shape: \u001b[1m(\u001b[0m\u001b[1;36m6\u001b[0m, \u001b[1;36m2\u001b[0m\u001b[1m)\u001b[0m\n",
       "┌───────────────────────┬─────────┐\n",
       "│ length of instance_of ┆ count   │\n",
       "│ ---                   ┆ ---     │\n",
       "│ i64                   ┆ u32     │\n",
       "╞═══════════════════════╪═════════╡\n",
       "│ \u001b[1;36m1\u001b[0m                     ┆ \u001b[1;36m1992244\u001b[0m │\n",
       "│ \u001b[1;36m2\u001b[0m                     ┆ \u001b[1;36m1118\u001b[0m    │\n",
       "│ \u001b[1;36m3\u001b[0m                     ┆ \u001b[1;36m81\u001b[0m      │\n",
       "│ \u001b[1;36m4\u001b[0m                     ┆ \u001b[1;36m13\u001b[0m      │\n",
       "│ \u001b[1;36m5\u001b[0m                     ┆ \u001b[1;36m2\u001b[0m       │\n",
       "│ \u001b[1;36m11\u001b[0m                    ┆ \u001b[1;36m1\u001b[0m       │\n",
       "└───────────────────────┴─────────┘\n"
      ]
     },
     "metadata": {},
     "output_type": "display_data"
    },
    {
     "data": {
      "text/html": [
       "<pre style=\"white-space:pre;overflow-x:auto;line-height:normal;font-family:Menlo,'DejaVu Sans Mono',consolas,'Courier New',monospace\">gender shape: <span style=\"font-weight: bold\">(</span><span style=\"color: #008080; text-decoration-color: #008080; font-weight: bold\">5</span>, <span style=\"color: #008080; text-decoration-color: #008080; font-weight: bold\">2</span><span style=\"font-weight: bold\">)</span>\n",
       "┌──────────────────┬─────────┐\n",
       "│ length of gender ┆ count   │\n",
       "│ ---              ┆ ---     │\n",
       "│ i64              ┆ u32     │\n",
       "╞══════════════════╪═════════╡\n",
       "│ <span style=\"color: #008080; text-decoration-color: #008080; font-weight: bold\">0</span>                ┆ <span style=\"color: #008080; text-decoration-color: #008080; font-weight: bold\">302</span>     │\n",
       "│ <span style=\"color: #008080; text-decoration-color: #008080; font-weight: bold\">1</span>                ┆ <span style=\"color: #008080; text-decoration-color: #008080; font-weight: bold\">1992615</span> │\n",
       "│ <span style=\"color: #008080; text-decoration-color: #008080; font-weight: bold\">2</span>                ┆ <span style=\"color: #008080; text-decoration-color: #008080; font-weight: bold\">524</span>     │\n",
       "│ <span style=\"color: #008080; text-decoration-color: #008080; font-weight: bold\">3</span>                ┆ <span style=\"color: #008080; text-decoration-color: #008080; font-weight: bold\">15</span>      │\n",
       "│ <span style=\"color: #008080; text-decoration-color: #008080; font-weight: bold\">4</span>                ┆ <span style=\"color: #008080; text-decoration-color: #008080; font-weight: bold\">3</span>       │\n",
       "└──────────────────┴─────────┘\n",
       "</pre>\n"
      ],
      "text/plain": [
       "gender shape: \u001b[1m(\u001b[0m\u001b[1;36m5\u001b[0m, \u001b[1;36m2\u001b[0m\u001b[1m)\u001b[0m\n",
       "┌──────────────────┬─────────┐\n",
       "│ length of gender ┆ count   │\n",
       "│ ---              ┆ ---     │\n",
       "│ i64              ┆ u32     │\n",
       "╞══════════════════╪═════════╡\n",
       "│ \u001b[1;36m0\u001b[0m                ┆ \u001b[1;36m302\u001b[0m     │\n",
       "│ \u001b[1;36m1\u001b[0m                ┆ \u001b[1;36m1992615\u001b[0m │\n",
       "│ \u001b[1;36m2\u001b[0m                ┆ \u001b[1;36m524\u001b[0m     │\n",
       "│ \u001b[1;36m3\u001b[0m                ┆ \u001b[1;36m15\u001b[0m      │\n",
       "│ \u001b[1;36m4\u001b[0m                ┆ \u001b[1;36m3\u001b[0m       │\n",
       "└──────────────────┴─────────┘\n"
      ]
     },
     "metadata": {},
     "output_type": "display_data"
    },
    {
     "data": {
      "text/html": [
       "<pre style=\"white-space:pre;overflow-x:auto;line-height:normal;font-family:Menlo,'DejaVu Sans Mono',consolas,'Courier New',monospace\">date_of_birth shape: <span style=\"font-weight: bold\">(</span><span style=\"color: #008080; text-decoration-color: #008080; font-weight: bold\">13</span>, <span style=\"color: #008080; text-decoration-color: #008080; font-weight: bold\">2</span><span style=\"font-weight: bold\">)</span>\n",
       "┌─────────────────────────┬─────────┐\n",
       "│ length of date_of_birth ┆ count   │\n",
       "│ ---                     ┆ ---     │\n",
       "│ i64                     ┆ u32     │\n",
       "╞═════════════════════════╪═════════╡\n",
       "│ <span style=\"color: #008080; text-decoration-color: #008080; font-weight: bold\">0</span>                       ┆ <span style=\"color: #008080; text-decoration-color: #008080; font-weight: bold\">197057</span>  │\n",
       "│ <span style=\"color: #008080; text-decoration-color: #008080; font-weight: bold\">1</span>                       ┆ <span style=\"color: #008080; text-decoration-color: #008080; font-weight: bold\">1717118</span> │\n",
       "│ <span style=\"color: #008080; text-decoration-color: #008080; font-weight: bold\">2</span>                       ┆ <span style=\"color: #008080; text-decoration-color: #008080; font-weight: bold\">75153</span>   │\n",
       "│ <span style=\"color: #008080; text-decoration-color: #008080; font-weight: bold\">3</span>                       ┆ <span style=\"color: #008080; text-decoration-color: #008080; font-weight: bold\">3645</span>    │\n",
       "│ <span style=\"color: #008080; text-decoration-color: #008080; font-weight: bold\">4</span>                       ┆ <span style=\"color: #008080; text-decoration-color: #008080; font-weight: bold\">380</span>     │\n",
       "│ …                       ┆ …       │\n",
       "│ <span style=\"color: #008080; text-decoration-color: #008080; font-weight: bold\">8</span>                       ┆ <span style=\"color: #008080; text-decoration-color: #008080; font-weight: bold\">5</span>       │\n",
       "│ <span style=\"color: #008080; text-decoration-color: #008080; font-weight: bold\">9</span>                       ┆ <span style=\"color: #008080; text-decoration-color: #008080; font-weight: bold\">2</span>       │\n",
       "│ <span style=\"color: #008080; text-decoration-color: #008080; font-weight: bold\">10</span>                      ┆ <span style=\"color: #008080; text-decoration-color: #008080; font-weight: bold\">1</span>       │\n",
       "│ <span style=\"color: #008080; text-decoration-color: #008080; font-weight: bold\">11</span>                      ┆ <span style=\"color: #008080; text-decoration-color: #008080; font-weight: bold\">1</span>       │\n",
       "│ <span style=\"color: #008080; text-decoration-color: #008080; font-weight: bold\">14</span>                      ┆ <span style=\"color: #008080; text-decoration-color: #008080; font-weight: bold\">1</span>       │\n",
       "└─────────────────────────┴─────────┘\n",
       "</pre>\n"
      ],
      "text/plain": [
       "date_of_birth shape: \u001b[1m(\u001b[0m\u001b[1;36m13\u001b[0m, \u001b[1;36m2\u001b[0m\u001b[1m)\u001b[0m\n",
       "┌─────────────────────────┬─────────┐\n",
       "│ length of date_of_birth ┆ count   │\n",
       "│ ---                     ┆ ---     │\n",
       "│ i64                     ┆ u32     │\n",
       "╞═════════════════════════╪═════════╡\n",
       "│ \u001b[1;36m0\u001b[0m                       ┆ \u001b[1;36m197057\u001b[0m  │\n",
       "│ \u001b[1;36m1\u001b[0m                       ┆ \u001b[1;36m1717118\u001b[0m │\n",
       "│ \u001b[1;36m2\u001b[0m                       ┆ \u001b[1;36m75153\u001b[0m   │\n",
       "│ \u001b[1;36m3\u001b[0m                       ┆ \u001b[1;36m3645\u001b[0m    │\n",
       "│ \u001b[1;36m4\u001b[0m                       ┆ \u001b[1;36m380\u001b[0m     │\n",
       "│ …                       ┆ …       │\n",
       "│ \u001b[1;36m8\u001b[0m                       ┆ \u001b[1;36m5\u001b[0m       │\n",
       "│ \u001b[1;36m9\u001b[0m                       ┆ \u001b[1;36m2\u001b[0m       │\n",
       "│ \u001b[1;36m10\u001b[0m                      ┆ \u001b[1;36m1\u001b[0m       │\n",
       "│ \u001b[1;36m11\u001b[0m                      ┆ \u001b[1;36m1\u001b[0m       │\n",
       "│ \u001b[1;36m14\u001b[0m                      ┆ \u001b[1;36m1\u001b[0m       │\n",
       "└─────────────────────────┴─────────┘\n"
      ]
     },
     "metadata": {},
     "output_type": "display_data"
    },
    {
     "data": {
      "text/html": [
       "<pre style=\"white-space:pre;overflow-x:auto;line-height:normal;font-family:Menlo,'DejaVu Sans Mono',consolas,'Courier New',monospace\">date_of_death shape: <span style=\"font-weight: bold\">(</span><span style=\"color: #008080; text-decoration-color: #008080; font-weight: bold\">13</span>, <span style=\"color: #008080; text-decoration-color: #008080; font-weight: bold\">2</span><span style=\"font-weight: bold\">)</span>\n",
       "┌─────────────────────────┬─────────┐\n",
       "│ length of date_of_death ┆ count   │\n",
       "│ ---                     ┆ ---     │\n",
       "│ i64                     ┆ u32     │\n",
       "╞═════════════════════════╪═════════╡\n",
       "│ <span style=\"color: #008080; text-decoration-color: #008080; font-weight: bold\">0</span>                       ┆ <span style=\"color: #008080; text-decoration-color: #008080; font-weight: bold\">197057</span>  │\n",
       "│ <span style=\"color: #008080; text-decoration-color: #008080; font-weight: bold\">1</span>                       ┆ <span style=\"color: #008080; text-decoration-color: #008080; font-weight: bold\">1717118</span> │\n",
       "│ <span style=\"color: #008080; text-decoration-color: #008080; font-weight: bold\">2</span>                       ┆ <span style=\"color: #008080; text-decoration-color: #008080; font-weight: bold\">75153</span>   │\n",
       "│ <span style=\"color: #008080; text-decoration-color: #008080; font-weight: bold\">3</span>                       ┆ <span style=\"color: #008080; text-decoration-color: #008080; font-weight: bold\">3645</span>    │\n",
       "│ <span style=\"color: #008080; text-decoration-color: #008080; font-weight: bold\">4</span>                       ┆ <span style=\"color: #008080; text-decoration-color: #008080; font-weight: bold\">380</span>     │\n",
       "│ …                       ┆ …       │\n",
       "│ <span style=\"color: #008080; text-decoration-color: #008080; font-weight: bold\">8</span>                       ┆ <span style=\"color: #008080; text-decoration-color: #008080; font-weight: bold\">5</span>       │\n",
       "│ <span style=\"color: #008080; text-decoration-color: #008080; font-weight: bold\">9</span>                       ┆ <span style=\"color: #008080; text-decoration-color: #008080; font-weight: bold\">2</span>       │\n",
       "│ <span style=\"color: #008080; text-decoration-color: #008080; font-weight: bold\">10</span>                      ┆ <span style=\"color: #008080; text-decoration-color: #008080; font-weight: bold\">1</span>       │\n",
       "│ <span style=\"color: #008080; text-decoration-color: #008080; font-weight: bold\">11</span>                      ┆ <span style=\"color: #008080; text-decoration-color: #008080; font-weight: bold\">1</span>       │\n",
       "│ <span style=\"color: #008080; text-decoration-color: #008080; font-weight: bold\">14</span>                      ┆ <span style=\"color: #008080; text-decoration-color: #008080; font-weight: bold\">1</span>       │\n",
       "└─────────────────────────┴─────────┘\n",
       "</pre>\n"
      ],
      "text/plain": [
       "date_of_death shape: \u001b[1m(\u001b[0m\u001b[1;36m13\u001b[0m, \u001b[1;36m2\u001b[0m\u001b[1m)\u001b[0m\n",
       "┌─────────────────────────┬─────────┐\n",
       "│ length of date_of_death ┆ count   │\n",
       "│ ---                     ┆ ---     │\n",
       "│ i64                     ┆ u32     │\n",
       "╞═════════════════════════╪═════════╡\n",
       "│ \u001b[1;36m0\u001b[0m                       ┆ \u001b[1;36m197057\u001b[0m  │\n",
       "│ \u001b[1;36m1\u001b[0m                       ┆ \u001b[1;36m1717118\u001b[0m │\n",
       "│ \u001b[1;36m2\u001b[0m                       ┆ \u001b[1;36m75153\u001b[0m   │\n",
       "│ \u001b[1;36m3\u001b[0m                       ┆ \u001b[1;36m3645\u001b[0m    │\n",
       "│ \u001b[1;36m4\u001b[0m                       ┆ \u001b[1;36m380\u001b[0m     │\n",
       "│ …                       ┆ …       │\n",
       "│ \u001b[1;36m8\u001b[0m                       ┆ \u001b[1;36m5\u001b[0m       │\n",
       "│ \u001b[1;36m9\u001b[0m                       ┆ \u001b[1;36m2\u001b[0m       │\n",
       "│ \u001b[1;36m10\u001b[0m                      ┆ \u001b[1;36m1\u001b[0m       │\n",
       "│ \u001b[1;36m11\u001b[0m                      ┆ \u001b[1;36m1\u001b[0m       │\n",
       "│ \u001b[1;36m14\u001b[0m                      ┆ \u001b[1;36m1\u001b[0m       │\n",
       "└─────────────────────────┴─────────┘\n"
      ]
     },
     "metadata": {},
     "output_type": "display_data"
    },
    {
     "data": {
      "text/html": [
       "<pre style=\"white-space:pre;overflow-x:auto;line-height:normal;font-family:Menlo,'DejaVu Sans Mono',consolas,'Courier New',monospace\">worked_at shape: <span style=\"font-weight: bold\">(</span><span style=\"color: #008080; text-decoration-color: #008080; font-weight: bold\">26</span>, <span style=\"color: #008080; text-decoration-color: #008080; font-weight: bold\">2</span><span style=\"font-weight: bold\">)</span>\n",
       "┌─────────────────────┬─────────┐\n",
       "│ length of worked_at ┆ count   │\n",
       "│ ---                 ┆ ---     │\n",
       "│ i64                 ┆ u32     │\n",
       "╞═════════════════════╪═════════╡\n",
       "│ <span style=\"color: #008080; text-decoration-color: #008080; font-weight: bold\">0</span>                   ┆ <span style=\"color: #008080; text-decoration-color: #008080; font-weight: bold\">1811046</span> │\n",
       "│ <span style=\"color: #008080; text-decoration-color: #008080; font-weight: bold\">1</span>                   ┆ <span style=\"color: #008080; text-decoration-color: #008080; font-weight: bold\">124410</span>  │\n",
       "│ <span style=\"color: #008080; text-decoration-color: #008080; font-weight: bold\">2</span>                   ┆ <span style=\"color: #008080; text-decoration-color: #008080; font-weight: bold\">33005</span>   │\n",
       "│ <span style=\"color: #008080; text-decoration-color: #008080; font-weight: bold\">3</span>                   ┆ <span style=\"color: #008080; text-decoration-color: #008080; font-weight: bold\">13518</span>   │\n",
       "│ <span style=\"color: #008080; text-decoration-color: #008080; font-weight: bold\">4</span>                   ┆ <span style=\"color: #008080; text-decoration-color: #008080; font-weight: bold\">5988</span>    │\n",
       "│ …                   ┆ …       │\n",
       "│ <span style=\"color: #008080; text-decoration-color: #008080; font-weight: bold\">21</span>                  ┆ <span style=\"color: #008080; text-decoration-color: #008080; font-weight: bold\">2</span>       │\n",
       "│ <span style=\"color: #008080; text-decoration-color: #008080; font-weight: bold\">22</span>                  ┆ <span style=\"color: #008080; text-decoration-color: #008080; font-weight: bold\">1</span>       │\n",
       "│ <span style=\"color: #008080; text-decoration-color: #008080; font-weight: bold\">23</span>                  ┆ <span style=\"color: #008080; text-decoration-color: #008080; font-weight: bold\">1</span>       │\n",
       "│ <span style=\"color: #008080; text-decoration-color: #008080; font-weight: bold\">24</span>                  ┆ <span style=\"color: #008080; text-decoration-color: #008080; font-weight: bold\">2</span>       │\n",
       "│ <span style=\"color: #008080; text-decoration-color: #008080; font-weight: bold\">27</span>                  ┆ <span style=\"color: #008080; text-decoration-color: #008080; font-weight: bold\">1</span>       │\n",
       "└─────────────────────┴─────────┘\n",
       "</pre>\n"
      ],
      "text/plain": [
       "worked_at shape: \u001b[1m(\u001b[0m\u001b[1;36m26\u001b[0m, \u001b[1;36m2\u001b[0m\u001b[1m)\u001b[0m\n",
       "┌─────────────────────┬─────────┐\n",
       "│ length of worked_at ┆ count   │\n",
       "│ ---                 ┆ ---     │\n",
       "│ i64                 ┆ u32     │\n",
       "╞═════════════════════╪═════════╡\n",
       "│ \u001b[1;36m0\u001b[0m                   ┆ \u001b[1;36m1811046\u001b[0m │\n",
       "│ \u001b[1;36m1\u001b[0m                   ┆ \u001b[1;36m124410\u001b[0m  │\n",
       "│ \u001b[1;36m2\u001b[0m                   ┆ \u001b[1;36m33005\u001b[0m   │\n",
       "│ \u001b[1;36m3\u001b[0m                   ┆ \u001b[1;36m13518\u001b[0m   │\n",
       "│ \u001b[1;36m4\u001b[0m                   ┆ \u001b[1;36m5988\u001b[0m    │\n",
       "│ …                   ┆ …       │\n",
       "│ \u001b[1;36m21\u001b[0m                  ┆ \u001b[1;36m2\u001b[0m       │\n",
       "│ \u001b[1;36m22\u001b[0m                  ┆ \u001b[1;36m1\u001b[0m       │\n",
       "│ \u001b[1;36m23\u001b[0m                  ┆ \u001b[1;36m1\u001b[0m       │\n",
       "│ \u001b[1;36m24\u001b[0m                  ┆ \u001b[1;36m2\u001b[0m       │\n",
       "│ \u001b[1;36m27\u001b[0m                  ┆ \u001b[1;36m1\u001b[0m       │\n",
       "└─────────────────────┴─────────┘\n"
      ]
     },
     "metadata": {},
     "output_type": "display_data"
    },
    {
     "data": {
      "text/html": [
       "<pre style=\"white-space:pre;overflow-x:auto;line-height:normal;font-family:Menlo,'DejaVu Sans Mono',consolas,'Courier New',monospace\">country_of_citizenship shape: <span style=\"font-weight: bold\">(</span><span style=\"color: #008080; text-decoration-color: #008080; font-weight: bold\">11</span>, <span style=\"color: #008080; text-decoration-color: #008080; font-weight: bold\">2</span><span style=\"font-weight: bold\">)</span>\n",
       "┌──────────────────────────────────┬─────────┐\n",
       "│ length of country_of_citizenship ┆ count   │\n",
       "│ ---                              ┆ ---     │\n",
       "│ i64                              ┆ u32     │\n",
       "╞══════════════════════════════════╪═════════╡\n",
       "│ <span style=\"color: #008080; text-decoration-color: #008080; font-weight: bold\">0</span>                                ┆ <span style=\"color: #008080; text-decoration-color: #008080; font-weight: bold\">448291</span>  │\n",
       "│ <span style=\"color: #008080; text-decoration-color: #008080; font-weight: bold\">1</span>                                ┆ <span style=\"color: #008080; text-decoration-color: #008080; font-weight: bold\">1403337</span> │\n",
       "│ <span style=\"color: #008080; text-decoration-color: #008080; font-weight: bold\">2</span>                                ┆ <span style=\"color: #008080; text-decoration-color: #008080; font-weight: bold\">119595</span>  │\n",
       "│ <span style=\"color: #008080; text-decoration-color: #008080; font-weight: bold\">3</span>                                ┆ <span style=\"color: #008080; text-decoration-color: #008080; font-weight: bold\">19666</span>   │\n",
       "│ <span style=\"color: #008080; text-decoration-color: #008080; font-weight: bold\">4</span>                                ┆ <span style=\"color: #008080; text-decoration-color: #008080; font-weight: bold\">2025</span>    │\n",
       "│ …                                ┆ …       │\n",
       "│ <span style=\"color: #008080; text-decoration-color: #008080; font-weight: bold\">6</span>                                ┆ <span style=\"color: #008080; text-decoration-color: #008080; font-weight: bold\">111</span>     │\n",
       "│ <span style=\"color: #008080; text-decoration-color: #008080; font-weight: bold\">7</span>                                ┆ <span style=\"color: #008080; text-decoration-color: #008080; font-weight: bold\">39</span>      │\n",
       "│ <span style=\"color: #008080; text-decoration-color: #008080; font-weight: bold\">8</span>                                ┆ <span style=\"color: #008080; text-decoration-color: #008080; font-weight: bold\">8</span>       │\n",
       "│ <span style=\"color: #008080; text-decoration-color: #008080; font-weight: bold\">9</span>                                ┆ <span style=\"color: #008080; text-decoration-color: #008080; font-weight: bold\">3</span>       │\n",
       "│ <span style=\"color: #008080; text-decoration-color: #008080; font-weight: bold\">10</span>                               ┆ <span style=\"color: #008080; text-decoration-color: #008080; font-weight: bold\">1</span>       │\n",
       "└──────────────────────────────────┴─────────┘\n",
       "</pre>\n"
      ],
      "text/plain": [
       "country_of_citizenship shape: \u001b[1m(\u001b[0m\u001b[1;36m11\u001b[0m, \u001b[1;36m2\u001b[0m\u001b[1m)\u001b[0m\n",
       "┌──────────────────────────────────┬─────────┐\n",
       "│ length of country_of_citizenship ┆ count   │\n",
       "│ ---                              ┆ ---     │\n",
       "│ i64                              ┆ u32     │\n",
       "╞══════════════════════════════════╪═════════╡\n",
       "│ \u001b[1;36m0\u001b[0m                                ┆ \u001b[1;36m448291\u001b[0m  │\n",
       "│ \u001b[1;36m1\u001b[0m                                ┆ \u001b[1;36m1403337\u001b[0m │\n",
       "│ \u001b[1;36m2\u001b[0m                                ┆ \u001b[1;36m119595\u001b[0m  │\n",
       "│ \u001b[1;36m3\u001b[0m                                ┆ \u001b[1;36m19666\u001b[0m   │\n",
       "│ \u001b[1;36m4\u001b[0m                                ┆ \u001b[1;36m2025\u001b[0m    │\n",
       "│ …                                ┆ …       │\n",
       "│ \u001b[1;36m6\u001b[0m                                ┆ \u001b[1;36m111\u001b[0m     │\n",
       "│ \u001b[1;36m7\u001b[0m                                ┆ \u001b[1;36m39\u001b[0m      │\n",
       "│ \u001b[1;36m8\u001b[0m                                ┆ \u001b[1;36m8\u001b[0m       │\n",
       "│ \u001b[1;36m9\u001b[0m                                ┆ \u001b[1;36m3\u001b[0m       │\n",
       "│ \u001b[1;36m10\u001b[0m                               ┆ \u001b[1;36m1\u001b[0m       │\n",
       "└──────────────────────────────────┴─────────┘\n"
      ]
     },
     "metadata": {},
     "output_type": "display_data"
    },
    {
     "data": {
      "text/html": [
       "<pre style=\"white-space:pre;overflow-x:auto;line-height:normal;font-family:Menlo,'DejaVu Sans Mono',consolas,'Courier New',monospace\">country shape: <span style=\"font-weight: bold\">(</span><span style=\"color: #008080; text-decoration-color: #008080; font-weight: bold\">4</span>, <span style=\"color: #008080; text-decoration-color: #008080; font-weight: bold\">2</span><span style=\"font-weight: bold\">)</span>\n",
       "┌───────────────────┬─────────┐\n",
       "│ length of country ┆ count   │\n",
       "│ ---               ┆ ---     │\n",
       "│ i64               ┆ u32     │\n",
       "╞═══════════════════╪═════════╡\n",
       "│ <span style=\"color: #008080; text-decoration-color: #008080; font-weight: bold\">0</span>                 ┆ <span style=\"color: #008080; text-decoration-color: #008080; font-weight: bold\">1992220</span> │\n",
       "│ <span style=\"color: #008080; text-decoration-color: #008080; font-weight: bold\">1</span>                 ┆ <span style=\"color: #008080; text-decoration-color: #008080; font-weight: bold\">1235</span>    │\n",
       "│ <span style=\"color: #008080; text-decoration-color: #008080; font-weight: bold\">2</span>                 ┆ <span style=\"color: #008080; text-decoration-color: #008080; font-weight: bold\">3</span>       │\n",
       "│ <span style=\"color: #008080; text-decoration-color: #008080; font-weight: bold\">3</span>                 ┆ <span style=\"color: #008080; text-decoration-color: #008080; font-weight: bold\">1</span>       │\n",
       "└───────────────────┴─────────┘\n",
       "</pre>\n"
      ],
      "text/plain": [
       "country shape: \u001b[1m(\u001b[0m\u001b[1;36m4\u001b[0m, \u001b[1;36m2\u001b[0m\u001b[1m)\u001b[0m\n",
       "┌───────────────────┬─────────┐\n",
       "│ length of country ┆ count   │\n",
       "│ ---               ┆ ---     │\n",
       "│ i64               ┆ u32     │\n",
       "╞═══════════════════╪═════════╡\n",
       "│ \u001b[1;36m0\u001b[0m                 ┆ \u001b[1;36m1992220\u001b[0m │\n",
       "│ \u001b[1;36m1\u001b[0m                 ┆ \u001b[1;36m1235\u001b[0m    │\n",
       "│ \u001b[1;36m2\u001b[0m                 ┆ \u001b[1;36m3\u001b[0m       │\n",
       "│ \u001b[1;36m3\u001b[0m                 ┆ \u001b[1;36m1\u001b[0m       │\n",
       "└───────────────────┴─────────┘\n"
      ]
     },
     "metadata": {},
     "output_type": "display_data"
    },
    {
     "data": {
      "text/html": [
       "<pre style=\"white-space:pre;overflow-x:auto;line-height:normal;font-family:Menlo,'DejaVu Sans Mono',consolas,'Courier New',monospace\">educated_at shape: <span style=\"font-weight: bold\">(</span><span style=\"color: #008080; text-decoration-color: #008080; font-weight: bold\">15</span>, <span style=\"color: #008080; text-decoration-color: #008080; font-weight: bold\">2</span><span style=\"font-weight: bold\">)</span>\n",
       "┌───────────────────────┬─────────┐\n",
       "│ length of educated_at ┆ count   │\n",
       "│ ---                   ┆ ---     │\n",
       "│ i64                   ┆ u32     │\n",
       "╞═══════════════════════╪═════════╡\n",
       "│ <span style=\"color: #008080; text-decoration-color: #008080; font-weight: bold\">0</span>                     ┆ <span style=\"color: #008080; text-decoration-color: #008080; font-weight: bold\">1332664</span> │\n",
       "│ <span style=\"color: #008080; text-decoration-color: #008080; font-weight: bold\">1</span>                     ┆ <span style=\"color: #008080; text-decoration-color: #008080; font-weight: bold\">411639</span>  │\n",
       "│ <span style=\"color: #008080; text-decoration-color: #008080; font-weight: bold\">2</span>                     ┆ <span style=\"color: #008080; text-decoration-color: #008080; font-weight: bold\">174299</span>  │\n",
       "│ <span style=\"color: #008080; text-decoration-color: #008080; font-weight: bold\">3</span>                     ┆ <span style=\"color: #008080; text-decoration-color: #008080; font-weight: bold\">54981</span>   │\n",
       "│ <span style=\"color: #008080; text-decoration-color: #008080; font-weight: bold\">4</span>                     ┆ <span style=\"color: #008080; text-decoration-color: #008080; font-weight: bold\">14746</span>   │\n",
       "│ …                     ┆ …       │\n",
       "│ <span style=\"color: #008080; text-decoration-color: #008080; font-weight: bold\">10</span>                    ┆ <span style=\"color: #008080; text-decoration-color: #008080; font-weight: bold\">3</span>       │\n",
       "│ <span style=\"color: #008080; text-decoration-color: #008080; font-weight: bold\">11</span>                    ┆ <span style=\"color: #008080; text-decoration-color: #008080; font-weight: bold\">6</span>       │\n",
       "│ <span style=\"color: #008080; text-decoration-color: #008080; font-weight: bold\">12</span>                    ┆ <span style=\"color: #008080; text-decoration-color: #008080; font-weight: bold\">1</span>       │\n",
       "│ <span style=\"color: #008080; text-decoration-color: #008080; font-weight: bold\">13</span>                    ┆ <span style=\"color: #008080; text-decoration-color: #008080; font-weight: bold\">1</span>       │\n",
       "│ <span style=\"color: #008080; text-decoration-color: #008080; font-weight: bold\">14</span>                    ┆ <span style=\"color: #008080; text-decoration-color: #008080; font-weight: bold\">1</span>       │\n",
       "└───────────────────────┴─────────┘\n",
       "</pre>\n"
      ],
      "text/plain": [
       "educated_at shape: \u001b[1m(\u001b[0m\u001b[1;36m15\u001b[0m, \u001b[1;36m2\u001b[0m\u001b[1m)\u001b[0m\n",
       "┌───────────────────────┬─────────┐\n",
       "│ length of educated_at ┆ count   │\n",
       "│ ---                   ┆ ---     │\n",
       "│ i64                   ┆ u32     │\n",
       "╞═══════════════════════╪═════════╡\n",
       "│ \u001b[1;36m0\u001b[0m                     ┆ \u001b[1;36m1332664\u001b[0m │\n",
       "│ \u001b[1;36m1\u001b[0m                     ┆ \u001b[1;36m411639\u001b[0m  │\n",
       "│ \u001b[1;36m2\u001b[0m                     ┆ \u001b[1;36m174299\u001b[0m  │\n",
       "│ \u001b[1;36m3\u001b[0m                     ┆ \u001b[1;36m54981\u001b[0m   │\n",
       "│ \u001b[1;36m4\u001b[0m                     ┆ \u001b[1;36m14746\u001b[0m   │\n",
       "│ …                     ┆ …       │\n",
       "│ \u001b[1;36m10\u001b[0m                    ┆ \u001b[1;36m3\u001b[0m       │\n",
       "│ \u001b[1;36m11\u001b[0m                    ┆ \u001b[1;36m6\u001b[0m       │\n",
       "│ \u001b[1;36m12\u001b[0m                    ┆ \u001b[1;36m1\u001b[0m       │\n",
       "│ \u001b[1;36m13\u001b[0m                    ┆ \u001b[1;36m1\u001b[0m       │\n",
       "│ \u001b[1;36m14\u001b[0m                    ┆ \u001b[1;36m1\u001b[0m       │\n",
       "└───────────────────────┴─────────┘\n"
      ]
     },
     "metadata": {},
     "output_type": "display_data"
    },
    {
     "data": {
      "text/html": [
       "<pre style=\"white-space:pre;overflow-x:auto;line-height:normal;font-family:Menlo,'DejaVu Sans Mono',consolas,'Courier New',monospace\">occupation shape: <span style=\"font-weight: bold\">(</span><span style=\"color: #008080; text-decoration-color: #008080; font-weight: bold\">29</span>, <span style=\"color: #008080; text-decoration-color: #008080; font-weight: bold\">2</span><span style=\"font-weight: bold\">)</span>\n",
       "┌──────────────────────┬─────────┐\n",
       "│ length of occupation ┆ count   │\n",
       "│ ---                  ┆ ---     │\n",
       "│ i64                  ┆ u32     │\n",
       "╞══════════════════════╪═════════╡\n",
       "│ <span style=\"color: #008080; text-decoration-color: #008080; font-weight: bold\">0</span>                    ┆ <span style=\"color: #008080; text-decoration-color: #008080; font-weight: bold\">132087</span>  │\n",
       "│ <span style=\"color: #008080; text-decoration-color: #008080; font-weight: bold\">1</span>                    ┆ <span style=\"color: #008080; text-decoration-color: #008080; font-weight: bold\">1196049</span> │\n",
       "│ <span style=\"color: #008080; text-decoration-color: #008080; font-weight: bold\">2</span>                    ┆ <span style=\"color: #008080; text-decoration-color: #008080; font-weight: bold\">383634</span>  │\n",
       "│ <span style=\"color: #008080; text-decoration-color: #008080; font-weight: bold\">3</span>                    ┆ <span style=\"color: #008080; text-decoration-color: #008080; font-weight: bold\">154667</span>  │\n",
       "│ <span style=\"color: #008080; text-decoration-color: #008080; font-weight: bold\">4</span>                    ┆ <span style=\"color: #008080; text-decoration-color: #008080; font-weight: bold\">67268</span>   │\n",
       "│ …                    ┆ …       │\n",
       "│ <span style=\"color: #008080; text-decoration-color: #008080; font-weight: bold\">24</span>                   ┆ <span style=\"color: #008080; text-decoration-color: #008080; font-weight: bold\">1</span>       │\n",
       "│ <span style=\"color: #008080; text-decoration-color: #008080; font-weight: bold\">25</span>                   ┆ <span style=\"color: #008080; text-decoration-color: #008080; font-weight: bold\">1</span>       │\n",
       "│ <span style=\"color: #008080; text-decoration-color: #008080; font-weight: bold\">26</span>                   ┆ <span style=\"color: #008080; text-decoration-color: #008080; font-weight: bold\">1</span>       │\n",
       "│ <span style=\"color: #008080; text-decoration-color: #008080; font-weight: bold\">31</span>                   ┆ <span style=\"color: #008080; text-decoration-color: #008080; font-weight: bold\">1</span>       │\n",
       "│ <span style=\"color: #008080; text-decoration-color: #008080; font-weight: bold\">34</span>                   ┆ <span style=\"color: #008080; text-decoration-color: #008080; font-weight: bold\">1</span>       │\n",
       "└──────────────────────┴─────────┘\n",
       "</pre>\n"
      ],
      "text/plain": [
       "occupation shape: \u001b[1m(\u001b[0m\u001b[1;36m29\u001b[0m, \u001b[1;36m2\u001b[0m\u001b[1m)\u001b[0m\n",
       "┌──────────────────────┬─────────┐\n",
       "│ length of occupation ┆ count   │\n",
       "│ ---                  ┆ ---     │\n",
       "│ i64                  ┆ u32     │\n",
       "╞══════════════════════╪═════════╡\n",
       "│ \u001b[1;36m0\u001b[0m                    ┆ \u001b[1;36m132087\u001b[0m  │\n",
       "│ \u001b[1;36m1\u001b[0m                    ┆ \u001b[1;36m1196049\u001b[0m │\n",
       "│ \u001b[1;36m2\u001b[0m                    ┆ \u001b[1;36m383634\u001b[0m  │\n",
       "│ \u001b[1;36m3\u001b[0m                    ┆ \u001b[1;36m154667\u001b[0m  │\n",
       "│ \u001b[1;36m4\u001b[0m                    ┆ \u001b[1;36m67268\u001b[0m   │\n",
       "│ …                    ┆ …       │\n",
       "│ \u001b[1;36m24\u001b[0m                   ┆ \u001b[1;36m1\u001b[0m       │\n",
       "│ \u001b[1;36m25\u001b[0m                   ┆ \u001b[1;36m1\u001b[0m       │\n",
       "│ \u001b[1;36m26\u001b[0m                   ┆ \u001b[1;36m1\u001b[0m       │\n",
       "│ \u001b[1;36m31\u001b[0m                   ┆ \u001b[1;36m1\u001b[0m       │\n",
       "│ \u001b[1;36m34\u001b[0m                   ┆ \u001b[1;36m1\u001b[0m       │\n",
       "└──────────────────────┴─────────┘\n"
      ]
     },
     "metadata": {},
     "output_type": "display_data"
    },
    {
     "data": {
      "text/html": [
       "<pre style=\"white-space:pre;overflow-x:auto;line-height:normal;font-family:Menlo,'DejaVu Sans Mono',consolas,'Courier New',monospace\">instrument shape: <span style=\"font-weight: bold\">(</span><span style=\"color: #008080; text-decoration-color: #008080; font-weight: bold\">21</span>, <span style=\"color: #008080; text-decoration-color: #008080; font-weight: bold\">2</span><span style=\"font-weight: bold\">)</span>\n",
       "┌──────────────────────┬─────────┐\n",
       "│ length of instrument ┆ count   │\n",
       "│ ---                  ┆ ---     │\n",
       "│ i64                  ┆ u32     │\n",
       "╞══════════════════════╪═════════╡\n",
       "│ <span style=\"color: #008080; text-decoration-color: #008080; font-weight: bold\">0</span>                    ┆ <span style=\"color: #008080; text-decoration-color: #008080; font-weight: bold\">1904085</span> │\n",
       "│ <span style=\"color: #008080; text-decoration-color: #008080; font-weight: bold\">1</span>                    ┆ <span style=\"color: #008080; text-decoration-color: #008080; font-weight: bold\">73714</span>   │\n",
       "│ <span style=\"color: #008080; text-decoration-color: #008080; font-weight: bold\">2</span>                    ┆ <span style=\"color: #008080; text-decoration-color: #008080; font-weight: bold\">11716</span>   │\n",
       "│ <span style=\"color: #008080; text-decoration-color: #008080; font-weight: bold\">3</span>                    ┆ <span style=\"color: #008080; text-decoration-color: #008080; font-weight: bold\">2379</span>    │\n",
       "│ <span style=\"color: #008080; text-decoration-color: #008080; font-weight: bold\">4</span>                    ┆ <span style=\"color: #008080; text-decoration-color: #008080; font-weight: bold\">858</span>     │\n",
       "│ …                    ┆ …       │\n",
       "│ <span style=\"color: #008080; text-decoration-color: #008080; font-weight: bold\">18</span>                   ┆ <span style=\"color: #008080; text-decoration-color: #008080; font-weight: bold\">2</span>       │\n",
       "│ <span style=\"color: #008080; text-decoration-color: #008080; font-weight: bold\">20</span>                   ┆ <span style=\"color: #008080; text-decoration-color: #008080; font-weight: bold\">1</span>       │\n",
       "│ <span style=\"color: #008080; text-decoration-color: #008080; font-weight: bold\">24</span>                   ┆ <span style=\"color: #008080; text-decoration-color: #008080; font-weight: bold\">1</span>       │\n",
       "│ <span style=\"color: #008080; text-decoration-color: #008080; font-weight: bold\">28</span>                   ┆ <span style=\"color: #008080; text-decoration-color: #008080; font-weight: bold\">1</span>       │\n",
       "│ <span style=\"color: #008080; text-decoration-color: #008080; font-weight: bold\">31</span>                   ┆ <span style=\"color: #008080; text-decoration-color: #008080; font-weight: bold\">1</span>       │\n",
       "└──────────────────────┴─────────┘\n",
       "</pre>\n"
      ],
      "text/plain": [
       "instrument shape: \u001b[1m(\u001b[0m\u001b[1;36m21\u001b[0m, \u001b[1;36m2\u001b[0m\u001b[1m)\u001b[0m\n",
       "┌──────────────────────┬─────────┐\n",
       "│ length of instrument ┆ count   │\n",
       "│ ---                  ┆ ---     │\n",
       "│ i64                  ┆ u32     │\n",
       "╞══════════════════════╪═════════╡\n",
       "│ \u001b[1;36m0\u001b[0m                    ┆ \u001b[1;36m1904085\u001b[0m │\n",
       "│ \u001b[1;36m1\u001b[0m                    ┆ \u001b[1;36m73714\u001b[0m   │\n",
       "│ \u001b[1;36m2\u001b[0m                    ┆ \u001b[1;36m11716\u001b[0m   │\n",
       "│ \u001b[1;36m3\u001b[0m                    ┆ \u001b[1;36m2379\u001b[0m    │\n",
       "│ \u001b[1;36m4\u001b[0m                    ┆ \u001b[1;36m858\u001b[0m     │\n",
       "│ …                    ┆ …       │\n",
       "│ \u001b[1;36m18\u001b[0m                   ┆ \u001b[1;36m2\u001b[0m       │\n",
       "│ \u001b[1;36m20\u001b[0m                   ┆ \u001b[1;36m1\u001b[0m       │\n",
       "│ \u001b[1;36m24\u001b[0m                   ┆ \u001b[1;36m1\u001b[0m       │\n",
       "│ \u001b[1;36m28\u001b[0m                   ┆ \u001b[1;36m1\u001b[0m       │\n",
       "│ \u001b[1;36m31\u001b[0m                   ┆ \u001b[1;36m1\u001b[0m       │\n",
       "└──────────────────────┴─────────┘\n"
      ]
     },
     "metadata": {},
     "output_type": "display_data"
    },
    {
     "data": {
      "text/html": [
       "<pre style=\"white-space:pre;overflow-x:auto;line-height:normal;font-family:Menlo,'DejaVu Sans Mono',consolas,'Courier New',monospace\">genre shape: <span style=\"font-weight: bold\">(</span><span style=\"color: #008080; text-decoration-color: #008080; font-weight: bold\">24</span>, <span style=\"color: #008080; text-decoration-color: #008080; font-weight: bold\">2</span><span style=\"font-weight: bold\">)</span>\n",
       "┌─────────────────┬─────────┐\n",
       "│ length of genre ┆ count   │\n",
       "│ ---             ┆ ---     │\n",
       "│ i64             ┆ u32     │\n",
       "╞═════════════════╪═════════╡\n",
       "│ <span style=\"color: #008080; text-decoration-color: #008080; font-weight: bold\">0</span>               ┆ <span style=\"color: #008080; text-decoration-color: #008080; font-weight: bold\">1918168</span> │\n",
       "│ <span style=\"color: #008080; text-decoration-color: #008080; font-weight: bold\">1</span>               ┆ <span style=\"color: #008080; text-decoration-color: #008080; font-weight: bold\">59963</span>   │\n",
       "│ <span style=\"color: #008080; text-decoration-color: #008080; font-weight: bold\">2</span>               ┆ <span style=\"color: #008080; text-decoration-color: #008080; font-weight: bold\">8626</span>    │\n",
       "│ <span style=\"color: #008080; text-decoration-color: #008080; font-weight: bold\">3</span>               ┆ <span style=\"color: #008080; text-decoration-color: #008080; font-weight: bold\">3208</span>    │\n",
       "│ <span style=\"color: #008080; text-decoration-color: #008080; font-weight: bold\">4</span>               ┆ <span style=\"color: #008080; text-decoration-color: #008080; font-weight: bold\">1583</span>    │\n",
       "│ …               ┆ …       │\n",
       "│ <span style=\"color: #008080; text-decoration-color: #008080; font-weight: bold\">19</span>              ┆ <span style=\"color: #008080; text-decoration-color: #008080; font-weight: bold\">1</span>       │\n",
       "│ <span style=\"color: #008080; text-decoration-color: #008080; font-weight: bold\">20</span>              ┆ <span style=\"color: #008080; text-decoration-color: #008080; font-weight: bold\">3</span>       │\n",
       "│ <span style=\"color: #008080; text-decoration-color: #008080; font-weight: bold\">21</span>              ┆ <span style=\"color: #008080; text-decoration-color: #008080; font-weight: bold\">1</span>       │\n",
       "│ <span style=\"color: #008080; text-decoration-color: #008080; font-weight: bold\">23</span>              ┆ <span style=\"color: #008080; text-decoration-color: #008080; font-weight: bold\">2</span>       │\n",
       "│ <span style=\"color: #008080; text-decoration-color: #008080; font-weight: bold\">25</span>              ┆ <span style=\"color: #008080; text-decoration-color: #008080; font-weight: bold\">1</span>       │\n",
       "└─────────────────┴─────────┘\n",
       "</pre>\n"
      ],
      "text/plain": [
       "genre shape: \u001b[1m(\u001b[0m\u001b[1;36m24\u001b[0m, \u001b[1;36m2\u001b[0m\u001b[1m)\u001b[0m\n",
       "┌─────────────────┬─────────┐\n",
       "│ length of genre ┆ count   │\n",
       "│ ---             ┆ ---     │\n",
       "│ i64             ┆ u32     │\n",
       "╞═════════════════╪═════════╡\n",
       "│ \u001b[1;36m0\u001b[0m               ┆ \u001b[1;36m1918168\u001b[0m │\n",
       "│ \u001b[1;36m1\u001b[0m               ┆ \u001b[1;36m59963\u001b[0m   │\n",
       "│ \u001b[1;36m2\u001b[0m               ┆ \u001b[1;36m8626\u001b[0m    │\n",
       "│ \u001b[1;36m3\u001b[0m               ┆ \u001b[1;36m3208\u001b[0m    │\n",
       "│ \u001b[1;36m4\u001b[0m               ┆ \u001b[1;36m1583\u001b[0m    │\n",
       "│ …               ┆ …       │\n",
       "│ \u001b[1;36m19\u001b[0m              ┆ \u001b[1;36m1\u001b[0m       │\n",
       "│ \u001b[1;36m20\u001b[0m              ┆ \u001b[1;36m3\u001b[0m       │\n",
       "│ \u001b[1;36m21\u001b[0m              ┆ \u001b[1;36m1\u001b[0m       │\n",
       "│ \u001b[1;36m23\u001b[0m              ┆ \u001b[1;36m2\u001b[0m       │\n",
       "│ \u001b[1;36m25\u001b[0m              ┆ \u001b[1;36m1\u001b[0m       │\n",
       "└─────────────────┴─────────┘\n"
      ]
     },
     "metadata": {},
     "output_type": "display_data"
    },
    {
     "data": {
      "text/html": [
       "<pre style=\"white-space:pre;overflow-x:auto;line-height:normal;font-family:Menlo,'DejaVu Sans Mono',consolas,'Courier New',monospace\">industry shape: <span style=\"font-weight: bold\">(</span><span style=\"color: #008080; text-decoration-color: #008080; font-weight: bold\">5</span>, <span style=\"color: #008080; text-decoration-color: #008080; font-weight: bold\">2</span><span style=\"font-weight: bold\">)</span>\n",
       "┌────────────────────┬─────────┐\n",
       "│ length of industry ┆ count   │\n",
       "│ ---                ┆ ---     │\n",
       "│ i64                ┆ u32     │\n",
       "╞════════════════════╪═════════╡\n",
       "│ <span style=\"color: #008080; text-decoration-color: #008080; font-weight: bold\">0</span>                  ┆ <span style=\"color: #008080; text-decoration-color: #008080; font-weight: bold\">1993093</span> │\n",
       "│ <span style=\"color: #008080; text-decoration-color: #008080; font-weight: bold\">1</span>                  ┆ <span style=\"color: #008080; text-decoration-color: #008080; font-weight: bold\">199</span>     │\n",
       "│ <span style=\"color: #008080; text-decoration-color: #008080; font-weight: bold\">2</span>                  ┆ <span style=\"color: #008080; text-decoration-color: #008080; font-weight: bold\">67</span>      │\n",
       "│ <span style=\"color: #008080; text-decoration-color: #008080; font-weight: bold\">3</span>                  ┆ <span style=\"color: #008080; text-decoration-color: #008080; font-weight: bold\">98</span>      │\n",
       "│ <span style=\"color: #008080; text-decoration-color: #008080; font-weight: bold\">4</span>                  ┆ <span style=\"color: #008080; text-decoration-color: #008080; font-weight: bold\">2</span>       │\n",
       "└────────────────────┴─────────┘\n",
       "</pre>\n"
      ],
      "text/plain": [
       "industry shape: \u001b[1m(\u001b[0m\u001b[1;36m5\u001b[0m, \u001b[1;36m2\u001b[0m\u001b[1m)\u001b[0m\n",
       "┌────────────────────┬─────────┐\n",
       "│ length of industry ┆ count   │\n",
       "│ ---                ┆ ---     │\n",
       "│ i64                ┆ u32     │\n",
       "╞════════════════════╪═════════╡\n",
       "│ \u001b[1;36m0\u001b[0m                  ┆ \u001b[1;36m1993093\u001b[0m │\n",
       "│ \u001b[1;36m1\u001b[0m                  ┆ \u001b[1;36m199\u001b[0m     │\n",
       "│ \u001b[1;36m2\u001b[0m                  ┆ \u001b[1;36m67\u001b[0m      │\n",
       "│ \u001b[1;36m3\u001b[0m                  ┆ \u001b[1;36m98\u001b[0m      │\n",
       "│ \u001b[1;36m4\u001b[0m                  ┆ \u001b[1;36m2\u001b[0m       │\n",
       "└────────────────────┴─────────┘\n"
      ]
     },
     "metadata": {},
     "output_type": "display_data"
    },
    {
     "data": {
      "text/html": [
       "<pre style=\"white-space:pre;overflow-x:auto;line-height:normal;font-family:Menlo,'DejaVu Sans Mono',consolas,'Courier New',monospace\">subclass_of shape: <span style=\"font-weight: bold\">(</span><span style=\"color: #008080; text-decoration-color: #008080; font-weight: bold\">3</span>, <span style=\"color: #008080; text-decoration-color: #008080; font-weight: bold\">2</span><span style=\"font-weight: bold\">)</span>\n",
       "┌───────────────────────┬─────────┐\n",
       "│ length of subclass_of ┆ count   │\n",
       "│ ---                   ┆ ---     │\n",
       "│ i64                   ┆ u32     │\n",
       "╞═══════════════════════╪═════════╡\n",
       "│ <span style=\"color: #008080; text-decoration-color: #008080; font-weight: bold\">0</span>                     ┆ <span style=\"color: #008080; text-decoration-color: #008080; font-weight: bold\">1993442</span> │\n",
       "│ <span style=\"color: #008080; text-decoration-color: #008080; font-weight: bold\">1</span>                     ┆ <span style=\"color: #008080; text-decoration-color: #008080; font-weight: bold\">16</span>      │\n",
       "│ <span style=\"color: #008080; text-decoration-color: #008080; font-weight: bold\">2</span>                     ┆ <span style=\"color: #008080; text-decoration-color: #008080; font-weight: bold\">1</span>       │\n",
       "└───────────────────────┴─────────┘\n",
       "</pre>\n"
      ],
      "text/plain": [
       "subclass_of shape: \u001b[1m(\u001b[0m\u001b[1;36m3\u001b[0m, \u001b[1;36m2\u001b[0m\u001b[1m)\u001b[0m\n",
       "┌───────────────────────┬─────────┐\n",
       "│ length of subclass_of ┆ count   │\n",
       "│ ---                   ┆ ---     │\n",
       "│ i64                   ┆ u32     │\n",
       "╞═══════════════════════╪═════════╡\n",
       "│ \u001b[1;36m0\u001b[0m                     ┆ \u001b[1;36m1993442\u001b[0m │\n",
       "│ \u001b[1;36m1\u001b[0m                     ┆ \u001b[1;36m16\u001b[0m      │\n",
       "│ \u001b[1;36m2\u001b[0m                     ┆ \u001b[1;36m1\u001b[0m       │\n",
       "└───────────────────────┴─────────┘\n"
      ]
     },
     "metadata": {},
     "output_type": "display_data"
    },
    {
     "data": {
      "text/html": [
       "<pre style=\"white-space:pre;overflow-x:auto;line-height:normal;font-family:Menlo,'DejaVu Sans Mono',consolas,'Courier New',monospace\">coordinate_location shape: <span style=\"font-weight: bold\">(</span><span style=\"color: #008080; text-decoration-color: #008080; font-weight: bold\">3</span>, <span style=\"color: #008080; text-decoration-color: #008080; font-weight: bold\">2</span><span style=\"font-weight: bold\">)</span>\n",
       "┌───────────────────────────────┬─────────┐\n",
       "│ length of coordinate_location ┆ count   │\n",
       "│ ---                           ┆ ---     │\n",
       "│ i64                           ┆ u32     │\n",
       "╞═══════════════════════════════╪═════════╡\n",
       "│ <span style=\"color: #008080; text-decoration-color: #008080; font-weight: bold\">0</span>                             ┆ <span style=\"color: #008080; text-decoration-color: #008080; font-weight: bold\">1993434</span> │\n",
       "│ <span style=\"color: #008080; text-decoration-color: #008080; font-weight: bold\">1</span>                             ┆ <span style=\"color: #008080; text-decoration-color: #008080; font-weight: bold\">24</span>      │\n",
       "│ <span style=\"color: #008080; text-decoration-color: #008080; font-weight: bold\">2</span>                             ┆ <span style=\"color: #008080; text-decoration-color: #008080; font-weight: bold\">1</span>       │\n",
       "└───────────────────────────────┴─────────┘\n",
       "</pre>\n"
      ],
      "text/plain": [
       "coordinate_location shape: \u001b[1m(\u001b[0m\u001b[1;36m3\u001b[0m, \u001b[1;36m2\u001b[0m\u001b[1m)\u001b[0m\n",
       "┌───────────────────────────────┬─────────┐\n",
       "│ length of coordinate_location ┆ count   │\n",
       "│ ---                           ┆ ---     │\n",
       "│ i64                           ┆ u32     │\n",
       "╞═══════════════════════════════╪═════════╡\n",
       "│ \u001b[1;36m0\u001b[0m                             ┆ \u001b[1;36m1993434\u001b[0m │\n",
       "│ \u001b[1;36m1\u001b[0m                             ┆ \u001b[1;36m24\u001b[0m      │\n",
       "│ \u001b[1;36m2\u001b[0m                             ┆ \u001b[1;36m1\u001b[0m       │\n",
       "└───────────────────────────────┴─────────┘\n"
      ]
     },
     "metadata": {},
     "output_type": "display_data"
    },
    {
     "data": {
      "text/html": [
       "<pre style=\"white-space:pre;overflow-x:auto;line-height:normal;font-family:Menlo,'DejaVu Sans Mono',consolas,'Courier New',monospace\">iso_3166_alpha3 shape: <span style=\"font-weight: bold\">(</span><span style=\"color: #008080; text-decoration-color: #008080; font-weight: bold\">1</span>, <span style=\"color: #008080; text-decoration-color: #008080; font-weight: bold\">2</span><span style=\"font-weight: bold\">)</span>\n",
       "┌───────────────────────────┬─────────┐\n",
       "│ length of iso_3166_alpha3 ┆ count   │\n",
       "│ ---                       ┆ ---     │\n",
       "│ i64                       ┆ u32     │\n",
       "╞═══════════════════════════╪═════════╡\n",
       "│ <span style=\"color: #008080; text-decoration-color: #008080; font-weight: bold\">0</span>                         ┆ <span style=\"color: #008080; text-decoration-color: #008080; font-weight: bold\">1993459</span> │\n",
       "└───────────────────────────┴─────────┘\n",
       "</pre>\n"
      ],
      "text/plain": [
       "iso_3166_alpha3 shape: \u001b[1m(\u001b[0m\u001b[1;36m1\u001b[0m, \u001b[1;36m2\u001b[0m\u001b[1m)\u001b[0m\n",
       "┌───────────────────────────┬─────────┐\n",
       "│ length of iso_3166_alpha3 ┆ count   │\n",
       "│ ---                       ┆ ---     │\n",
       "│ i64                       ┆ u32     │\n",
       "╞═══════════════════════════╪═════════╡\n",
       "│ \u001b[1;36m0\u001b[0m                         ┆ \u001b[1;36m1993459\u001b[0m │\n",
       "└───────────────────────────┴─────────┘\n"
      ]
     },
     "metadata": {},
     "output_type": "display_data"
    },
    {
     "data": {
      "text/html": [
       "<pre style=\"white-space:pre;overflow-x:auto;line-height:normal;font-family:Menlo,'DejaVu Sans Mono',consolas,'Courier New',monospace\">member_of shape: <span style=\"font-weight: bold\">(</span><span style=\"color: #008080; text-decoration-color: #008080; font-weight: bold\">26</span>, <span style=\"color: #008080; text-decoration-color: #008080; font-weight: bold\">2</span><span style=\"font-weight: bold\">)</span>\n",
       "┌─────────────────────┬─────────┐\n",
       "│ length of member_of ┆ count   │\n",
       "│ ---                 ┆ ---     │\n",
       "│ i64                 ┆ u32     │\n",
       "╞═════════════════════╪═════════╡\n",
       "│ <span style=\"color: #008080; text-decoration-color: #008080; font-weight: bold\">0</span>                   ┆ <span style=\"color: #008080; text-decoration-color: #008080; font-weight: bold\">1882253</span> │\n",
       "│ <span style=\"color: #008080; text-decoration-color: #008080; font-weight: bold\">1</span>                   ┆ <span style=\"color: #008080; text-decoration-color: #008080; font-weight: bold\">76594</span>   │\n",
       "│ <span style=\"color: #008080; text-decoration-color: #008080; font-weight: bold\">2</span>                   ┆ <span style=\"color: #008080; text-decoration-color: #008080; font-weight: bold\">19466</span>   │\n",
       "│ <span style=\"color: #008080; text-decoration-color: #008080; font-weight: bold\">3</span>                   ┆ <span style=\"color: #008080; text-decoration-color: #008080; font-weight: bold\">7629</span>    │\n",
       "│ <span style=\"color: #008080; text-decoration-color: #008080; font-weight: bold\">4</span>                   ┆ <span style=\"color: #008080; text-decoration-color: #008080; font-weight: bold\">3423</span>    │\n",
       "│ …                   ┆ …       │\n",
       "│ <span style=\"color: #008080; text-decoration-color: #008080; font-weight: bold\">21</span>                  ┆ <span style=\"color: #008080; text-decoration-color: #008080; font-weight: bold\">4</span>       │\n",
       "│ <span style=\"color: #008080; text-decoration-color: #008080; font-weight: bold\">22</span>                  ┆ <span style=\"color: #008080; text-decoration-color: #008080; font-weight: bold\">3</span>       │\n",
       "│ <span style=\"color: #008080; text-decoration-color: #008080; font-weight: bold\">23</span>                  ┆ <span style=\"color: #008080; text-decoration-color: #008080; font-weight: bold\">2</span>       │\n",
       "│ <span style=\"color: #008080; text-decoration-color: #008080; font-weight: bold\">29</span>                  ┆ <span style=\"color: #008080; text-decoration-color: #008080; font-weight: bold\">1</span>       │\n",
       "│ <span style=\"color: #008080; text-decoration-color: #008080; font-weight: bold\">31</span>                  ┆ <span style=\"color: #008080; text-decoration-color: #008080; font-weight: bold\">1</span>       │\n",
       "└─────────────────────┴─────────┘\n",
       "</pre>\n"
      ],
      "text/plain": [
       "member_of shape: \u001b[1m(\u001b[0m\u001b[1;36m26\u001b[0m, \u001b[1;36m2\u001b[0m\u001b[1m)\u001b[0m\n",
       "┌─────────────────────┬─────────┐\n",
       "│ length of member_of ┆ count   │\n",
       "│ ---                 ┆ ---     │\n",
       "│ i64                 ┆ u32     │\n",
       "╞═════════════════════╪═════════╡\n",
       "│ \u001b[1;36m0\u001b[0m                   ┆ \u001b[1;36m1882253\u001b[0m │\n",
       "│ \u001b[1;36m1\u001b[0m                   ┆ \u001b[1;36m76594\u001b[0m   │\n",
       "│ \u001b[1;36m2\u001b[0m                   ┆ \u001b[1;36m19466\u001b[0m   │\n",
       "│ \u001b[1;36m3\u001b[0m                   ┆ \u001b[1;36m7629\u001b[0m    │\n",
       "│ \u001b[1;36m4\u001b[0m                   ┆ \u001b[1;36m3423\u001b[0m    │\n",
       "│ …                   ┆ …       │\n",
       "│ \u001b[1;36m21\u001b[0m                  ┆ \u001b[1;36m4\u001b[0m       │\n",
       "│ \u001b[1;36m22\u001b[0m                  ┆ \u001b[1;36m3\u001b[0m       │\n",
       "│ \u001b[1;36m23\u001b[0m                  ┆ \u001b[1;36m2\u001b[0m       │\n",
       "│ \u001b[1;36m29\u001b[0m                  ┆ \u001b[1;36m1\u001b[0m       │\n",
       "│ \u001b[1;36m31\u001b[0m                  ┆ \u001b[1;36m1\u001b[0m       │\n",
       "└─────────────────────┴─────────┘\n"
      ]
     },
     "metadata": {},
     "output_type": "display_data"
    },
    {
     "data": {
      "text/html": [
       "<pre style=\"white-space:pre;overflow-x:auto;line-height:normal;font-family:Menlo,'DejaVu Sans Mono',consolas,'Courier New',monospace\">from_fictional_universe shape: <span style=\"font-weight: bold\">(</span><span style=\"color: #008080; text-decoration-color: #008080; font-weight: bold\">2</span>, <span style=\"color: #008080; text-decoration-color: #008080; font-weight: bold\">2</span><span style=\"font-weight: bold\">)</span>\n",
       "┌───────────────────────────────────┬─────────┐\n",
       "│ length of from_fictional_univers… ┆ count   │\n",
       "│ ---                               ┆ ---     │\n",
       "│ i64                               ┆ u32     │\n",
       "╞═══════════════════════════════════╪═════════╡\n",
       "│ <span style=\"color: #008080; text-decoration-color: #008080; font-weight: bold\">0</span>                                 ┆ <span style=\"color: #008080; text-decoration-color: #008080; font-weight: bold\">1993454</span> │\n",
       "│ <span style=\"color: #008080; text-decoration-color: #008080; font-weight: bold\">1</span>                                 ┆ <span style=\"color: #008080; text-decoration-color: #008080; font-weight: bold\">5</span>       │\n",
       "└───────────────────────────────────┴─────────┘\n",
       "</pre>\n"
      ],
      "text/plain": [
       "from_fictional_universe shape: \u001b[1m(\u001b[0m\u001b[1;36m2\u001b[0m, \u001b[1;36m2\u001b[0m\u001b[1m)\u001b[0m\n",
       "┌───────────────────────────────────┬─────────┐\n",
       "│ length of from_fictional_univers… ┆ count   │\n",
       "│ ---                               ┆ ---     │\n",
       "│ i64                               ┆ u32     │\n",
       "╞═══════════════════════════════════╪═════════╡\n",
       "│ \u001b[1;36m0\u001b[0m                                 ┆ \u001b[1;36m1993454\u001b[0m │\n",
       "│ \u001b[1;36m1\u001b[0m                                 ┆ \u001b[1;36m5\u001b[0m       │\n",
       "└───────────────────────────────────┴─────────┘\n"
      ]
     },
     "metadata": {},
     "output_type": "display_data"
    }
   ],
   "source": [
    "# For each list column, view distribution of list lengths \n",
    "list_columns = [c for c in info_df.columns if info_df[c].dtype == pl.List]\n",
    "for column in list_columns:\n",
    "    print(column, info_df[column].map_elements(len).value_counts().sort(column).rename({column: f'length of {column}'}))"
   ]
  },
  {
   "cell_type": "code",
   "execution_count": 16,
   "metadata": {},
   "outputs": [
    {
     "data": {
      "text/html": [
       "<style type=\"text/css\">\n",
       "</style>\n",
       "<table id=\"T_ec70c\">\n",
       "  <thead>\n",
       "    <tr>\n",
       "      <th class=\"blank level0\" >&nbsp;</th>\n",
       "      <th id=\"T_ec70c_level0_col0\" class=\"col_heading level0 col0\" >column</th>\n",
       "      <th id=\"T_ec70c_level0_col1\" class=\"col_heading level0 col1\" >unique_values</th>\n",
       "    </tr>\n",
       "  </thead>\n",
       "  <tbody>\n",
       "    <tr>\n",
       "      <th id=\"T_ec70c_level0_row0\" class=\"row_heading level0 row0\" >0</th>\n",
       "      <td id=\"T_ec70c_row0_col0\" class=\"data row0 col0\" >sitelinks</td>\n",
       "      <td id=\"T_ec70c_row0_col1\" class=\"data row0 col1\" >10,497,927</td>\n",
       "    </tr>\n",
       "    <tr>\n",
       "      <th id=\"T_ec70c_level0_row1\" class=\"row_heading level0 row1\" >1</th>\n",
       "      <td id=\"T_ec70c_row1_col0\" class=\"data row1 col0\" >descriptions</td>\n",
       "      <td id=\"T_ec70c_row1_col1\" class=\"data row1 col1\" >3,324,933</td>\n",
       "    </tr>\n",
       "    <tr>\n",
       "      <th id=\"T_ec70c_level0_row2\" class=\"row_heading level0 row2\" >2</th>\n",
       "      <td id=\"T_ec70c_row2_col0\" class=\"data row2 col0\" >labels</td>\n",
       "      <td id=\"T_ec70c_row2_col1\" class=\"data row2 col1\" >34,576,620</td>\n",
       "    </tr>\n",
       "    <tr>\n",
       "      <th id=\"T_ec70c_level0_row3\" class=\"row_heading level0 row3\" >3</th>\n",
       "      <td id=\"T_ec70c_row3_col0\" class=\"data row3 col0\" >aliases</td>\n",
       "      <td id=\"T_ec70c_row3_col1\" class=\"data row3 col1\" >5,870,043</td>\n",
       "    </tr>\n",
       "    <tr>\n",
       "      <th id=\"T_ec70c_level0_row4\" class=\"row_heading level0 row4\" >4</th>\n",
       "      <td id=\"T_ec70c_row4_col0\" class=\"data row4 col0\" >instance_of</td>\n",
       "      <td id=\"T_ec70c_row4_col1\" class=\"data row4 col1\" >357</td>\n",
       "    </tr>\n",
       "    <tr>\n",
       "      <th id=\"T_ec70c_level0_row5\" class=\"row_heading level0 row5\" >5</th>\n",
       "      <td id=\"T_ec70c_row5_col0\" class=\"data row5 col0\" >gender</td>\n",
       "      <td id=\"T_ec70c_row5_col1\" class=\"data row5 col1\" >45</td>\n",
       "    </tr>\n",
       "    <tr>\n",
       "      <th id=\"T_ec70c_level0_row6\" class=\"row_heading level0 row6\" >6</th>\n",
       "      <td id=\"T_ec70c_row6_col0\" class=\"data row6 col0\" >date_of_birth</td>\n",
       "      <td id=\"T_ec70c_row6_col1\" class=\"data row6 col1\" >121,394</td>\n",
       "    </tr>\n",
       "    <tr>\n",
       "      <th id=\"T_ec70c_level0_row7\" class=\"row_heading level0 row7\" >7</th>\n",
       "      <td id=\"T_ec70c_row7_col0\" class=\"data row7 col0\" >date_of_death</td>\n",
       "      <td id=\"T_ec70c_row7_col1\" class=\"data row7 col1\" >121,394</td>\n",
       "    </tr>\n",
       "    <tr>\n",
       "      <th id=\"T_ec70c_level0_row8\" class=\"row_heading level0 row8\" >8</th>\n",
       "      <td id=\"T_ec70c_row8_col0\" class=\"data row8 col0\" >worked_at</td>\n",
       "      <td id=\"T_ec70c_row8_col1\" class=\"data row8 col1\" >37,769</td>\n",
       "    </tr>\n",
       "    <tr>\n",
       "      <th id=\"T_ec70c_level0_row9\" class=\"row_heading level0 row9\" >9</th>\n",
       "      <td id=\"T_ec70c_row9_col0\" class=\"data row9 col0\" >country_of_citizenship</td>\n",
       "      <td id=\"T_ec70c_row9_col1\" class=\"data row9 col1\" >2,719</td>\n",
       "    </tr>\n",
       "    <tr>\n",
       "      <th id=\"T_ec70c_level0_row10\" class=\"row_heading level0 row10\" >10</th>\n",
       "      <td id=\"T_ec70c_row10_col0\" class=\"data row10 col0\" >country</td>\n",
       "      <td id=\"T_ec70c_row10_col1\" class=\"data row10 col1\" >118</td>\n",
       "    </tr>\n",
       "    <tr>\n",
       "      <th id=\"T_ec70c_level0_row11\" class=\"row_heading level0 row11\" >11</th>\n",
       "      <td id=\"T_ec70c_row11_col0\" class=\"data row11 col0\" >educated_at</td>\n",
       "      <td id=\"T_ec70c_row11_col1\" class=\"data row11 col1\" >46,137</td>\n",
       "    </tr>\n",
       "    <tr>\n",
       "      <th id=\"T_ec70c_level0_row12\" class=\"row_heading level0 row12\" >12</th>\n",
       "      <td id=\"T_ec70c_row12_col0\" class=\"data row12 col0\" >occupation</td>\n",
       "      <td id=\"T_ec70c_row12_col1\" class=\"data row12 col1\" >9,557</td>\n",
       "    </tr>\n",
       "    <tr>\n",
       "      <th id=\"T_ec70c_level0_row13\" class=\"row_heading level0 row13\" >13</th>\n",
       "      <td id=\"T_ec70c_row13_col0\" class=\"data row13 col0\" >instrument</td>\n",
       "      <td id=\"T_ec70c_row13_col1\" class=\"data row13 col1\" >767</td>\n",
       "    </tr>\n",
       "    <tr>\n",
       "      <th id=\"T_ec70c_level0_row14\" class=\"row_heading level0 row14\" >14</th>\n",
       "      <td id=\"T_ec70c_row14_col0\" class=\"data row14 col0\" >genre</td>\n",
       "      <td id=\"T_ec70c_row14_col1\" class=\"data row14 col1\" >3,171</td>\n",
       "    </tr>\n",
       "    <tr>\n",
       "      <th id=\"T_ec70c_level0_row15\" class=\"row_heading level0 row15\" >15</th>\n",
       "      <td id=\"T_ec70c_row15_col0\" class=\"data row15 col0\" >industry</td>\n",
       "      <td id=\"T_ec70c_row15_col1\" class=\"data row15 col1\" >71</td>\n",
       "    </tr>\n",
       "    <tr>\n",
       "      <th id=\"T_ec70c_level0_row16\" class=\"row_heading level0 row16\" >16</th>\n",
       "      <td id=\"T_ec70c_row16_col0\" class=\"data row16 col0\" >subclass_of</td>\n",
       "      <td id=\"T_ec70c_row16_col1\" class=\"data row16 col1\" >19</td>\n",
       "    </tr>\n",
       "    <tr>\n",
       "      <th id=\"T_ec70c_level0_row17\" class=\"row_heading level0 row17\" >17</th>\n",
       "      <td id=\"T_ec70c_row17_col0\" class=\"data row17 col0\" >coordinate_location</td>\n",
       "      <td id=\"T_ec70c_row17_col1\" class=\"data row17 col1\" >26</td>\n",
       "    </tr>\n",
       "    <tr>\n",
       "      <th id=\"T_ec70c_level0_row18\" class=\"row_heading level0 row18\" >18</th>\n",
       "      <td id=\"T_ec70c_row18_col0\" class=\"data row18 col0\" >iso_3166_alpha3</td>\n",
       "      <td id=\"T_ec70c_row18_col1\" class=\"data row18 col1\" >1</td>\n",
       "    </tr>\n",
       "    <tr>\n",
       "      <th id=\"T_ec70c_level0_row19\" class=\"row_heading level0 row19\" >19</th>\n",
       "      <td id=\"T_ec70c_row19_col0\" class=\"data row19 col0\" >member_of</td>\n",
       "      <td id=\"T_ec70c_row19_col1\" class=\"data row19 col1\" >24,419</td>\n",
       "    </tr>\n",
       "    <tr>\n",
       "      <th id=\"T_ec70c_level0_row20\" class=\"row_heading level0 row20\" >20</th>\n",
       "      <td id=\"T_ec70c_row20_col0\" class=\"data row20 col0\" >from_fictional_universe</td>\n",
       "      <td id=\"T_ec70c_row20_col1\" class=\"data row20 col1\" >6</td>\n",
       "    </tr>\n",
       "  </tbody>\n",
       "</table>\n"
      ],
      "text/plain": [
       "<pandas.io.formats.style.Styler at 0x7fd241a8af90>"
      ]
     },
     "execution_count": 16,
     "metadata": {},
     "output_type": "execute_result"
    }
   ],
   "source": [
    "unique_value_counts = []\n",
    "for column in list_columns:\n",
    "    unique_value_counts.append((column, info_df[column].list.explode().n_unique()))\n",
    "for column in [c for c in info_df.columns if c not in list_columns]:\n",
    "    unique_value_counts.append((column, info_df[column].n_unique()))\n",
    "    \n",
    "\n",
    "pd.DataFrame(unique_value_counts, columns=['column', 'unique_values']).style.format('{:,}', subset='unique_values')"
   ]
  },
  {
   "cell_type": "code",
   "execution_count": 24,
   "metadata": {},
   "outputs": [
    {
     "data": {
      "image/png": "[encoded data removed]",
      "text/plain": [
       "<Figure size 2000x500 with 21 Axes>"
      ]
     },
     "metadata": {},
     "output_type": "display_data"
    }
   ],
   "source": [
    "try:\n",
    "    Image(filename='../figures/num_values_in_row_per_col.png')\n",
    "except FileNotFoundError:\n",
    "    fig, axs = plt.subplots(3, 7, figsize=(20, 5))\n",
    "    for col, ax in zip(list_columns, axs.ravel()):\n",
    "        ax.hist(info_df[col].map_elements(len), bins=50, density=True)\n",
    "        ax.set_title(col)\n",
    "    plt.tight_layout()\n",
    "    plt.suptitle('Distribution of Number of Values in Row Per Column')\n",
    "    plt.savefig('../figures/num_values_in_row_per_col.png')\n",
    "    Image(filename='../figures/num_values_in_row_per_col.png')\n",
    "    "
   ]
  },
  {
   "cell_type": "markdown",
   "metadata": {},
   "source": [
    "**Observations:**\n",
    "There are a few types of columns:\n",
    "1. Redundant columns: columns that don't add information, either because they contain the same value throughout, have many missing values or do not contribute to our specific needs. The columns are:\n",
    "    - `type` (same value for all rows)\n",
    "    - `numeric_id` (contained in `id`)\n",
    "    - `descriptions` (unneeded information)\n",
    "    - `labels` (unneeded information)\n",
    "    - `coordinate_location`(>99% empty)\n",
    "    - `country` (according to the Wikidata site, this property should not be used for humans)\n",
    "    - `date_of_death` (has wrong information)\n",
    "\n",
    "2. Columns with a single value per row: columns that (should) have zero or one values for each row. These columns are:\n",
    "    - `id`\n",
    "    - `en_label`\n",
    "    - `en_wiki`\n",
    "    - `en_description`\n",
    "    - `date of birth`\n",
    "\n",
    "3. Columns with *'interesting'* values per row: columns that contain zero, one or more values for each row, where every (major) value is *interesting* for our purpose. These columns are:\n",
    "    - `instance_of`\n",
    "    - `gender` (apparently an entity can have multiple genders)\n",
    "    - `sitelinks`\n",
    "    - `instrument`\n",
    "    - `worked_at`\n",
    "    - `country_of_citizenship`\n",
    "    - `educated_at`\n",
    "    - `occupation`\n",
    "    - `genre`\n",
    "    - `industry`\n",
    "    - `subclass_of`\n",
    "    - `member_of`\n",
    "    - `from_fictional_universe`\n",
    "\n",
    "4. Columns that have multiple values per row: columns that have multiple values per row, where an aggregation of these values is *interesting* for our purposes. These columns are:\n",
    "    - `sitelinks`\n",
    "    - `aliases` (We don't care what the aliases *are*, maybe just how many are there)\n",
    "    - `instrument`\n",
    "    - `worked_at`\n",
    "    - `country_of_citizenship`\n",
    "    - `educated_at`\n",
    "    - `occupation`\n",
    "    - `genre`\n",
    "    - `industry`\n",
    "\n",
    " **Note** that a column might be a member of both the third group as well as the fourth group.\n",
    "\n",
    "Handling strategy for each type of column:\n",
    "1. Redundant columns --> drop columns.\n",
    "2. Columns with a single value per row: --> leave as is (flatten if in a list or a struct).\n",
    "3. Columns with *'interesting'* values per row --> encode into binary columns (bin uncommon values) and drop original.\n",
    "4. Columns that have multiple values per row --> create a column with the aggregate metric and drop original.\n"
   ]
  },
  {
   "cell_type": "code",
   "execution_count": 46,
   "metadata": {},
   "outputs": [
    {
     "data": {
      "text/html": [
       "<div><style>\n",
       ".dataframe > thead > tr,\n",
       ".dataframe > tbody > tr {\n",
       "  text-align: right;\n",
       "  white-space: pre-wrap;\n",
       "}\n",
       "</style>\n",
       "<small>shape: (21, 23)</small><table border=\"1\" class=\"dataframe\"><thead><tr><th>id</th><th>numeric_id</th><th>en_label</th><th>en_wiki</th><th>en_description</th><th>sitelinks</th><th>aliases</th><th>instance_of</th><th>gender</th><th>date_of_birth</th><th>date_of_death</th><th>worked_at</th><th>country_of_citizenship</th><th>country</th><th>educated_at</th><th>occupation</th><th>instrument</th><th>genre</th><th>industry</th><th>subclass_of</th><th>coordinate_location</th><th>member_of</th><th>from_fictional_universe</th></tr><tr><td>str</td><td>str</td><td>str</td><td>str</td><td>str</td><td>str</td><td>list[str]</td><td>list[str]</td><td>list[str]</td><td>list[str]</td><td>list[str]</td><td>list[str]</td><td>list[str]</td><td>list[str]</td><td>list[str]</td><td>list[str]</td><td>list[str]</td><td>list[str]</td><td>list[str]</td><td>list[str]</td><td>list[f64]</td><td>list[str]</td><td>list[str]</td></tr></thead><tbody><tr><td>&quot;Q17122148&quot;</td><td>&quot;17122148&quot;</td><td>&quot;Albrecht Josep…</td><td>&quot;Albrecht_Josep…</td><td>&quot;German screenw…</td><td>&quot;dewiki&quot;</td><td>[&quot;de&quot;, &quot;en&quot;, … &quot;sk&quot;]</td><td>[&quot;5&quot;]</td><td>[&quot;6581097&quot;]</td><td>[&quot;+1901-11-20T00:00:00Z&quot;]</td><td>[&quot;+1901-11-20T00:00:00Z&quot;]</td><td>[]</td><td>[&quot;183&quot;]</td><td>[]</td><td>[]</td><td>[&quot;28389&quot;, &quot;7042855&quot;, &quot;36180&quot;]</td><td>[]</td><td>[]</td><td>[]</td><td>[]</td><td>[]</td><td>[]</td><td>[]</td></tr><tr><td>&quot;Q17122148&quot;</td><td>&quot;17122148&quot;</td><td>&quot;Albrecht Josep…</td><td>&quot;Albrecht_Josep…</td><td>&quot;German screenw…</td><td>&quot;enwiki&quot;</td><td>[&quot;de&quot;, &quot;en&quot;, … &quot;sk&quot;]</td><td>[&quot;5&quot;]</td><td>[&quot;6581097&quot;]</td><td>[&quot;+1901-11-20T00:00:00Z&quot;]</td><td>[&quot;+1901-11-20T00:00:00Z&quot;]</td><td>[]</td><td>[&quot;183&quot;]</td><td>[]</td><td>[]</td><td>[&quot;28389&quot;, &quot;7042855&quot;, &quot;36180&quot;]</td><td>[]</td><td>[]</td><td>[]</td><td>[]</td><td>[]</td><td>[]</td><td>[]</td></tr><tr><td>&quot;Q17122148&quot;</td><td>&quot;17122148&quot;</td><td>&quot;Albrecht Josep…</td><td>&quot;Albrecht_Josep…</td><td>&quot;German screenw…</td><td>&quot;frwiki&quot;</td><td>[&quot;de&quot;, &quot;en&quot;, … &quot;sk&quot;]</td><td>[&quot;5&quot;]</td><td>[&quot;6581097&quot;]</td><td>[&quot;+1901-11-20T00:00:00Z&quot;]</td><td>[&quot;+1901-11-20T00:00:00Z&quot;]</td><td>[]</td><td>[&quot;183&quot;]</td><td>[]</td><td>[]</td><td>[&quot;28389&quot;, &quot;7042855&quot;, &quot;36180&quot;]</td><td>[]</td><td>[]</td><td>[]</td><td>[]</td><td>[]</td><td>[]</td><td>[]</td></tr><tr><td>&quot;Q17122148&quot;</td><td>&quot;17122148&quot;</td><td>&quot;Albrecht Josep…</td><td>&quot;Albrecht_Josep…</td><td>&quot;German screenw…</td><td>&quot;arwiki&quot;</td><td>[&quot;de&quot;, &quot;en&quot;, … &quot;sk&quot;]</td><td>[&quot;5&quot;]</td><td>[&quot;6581097&quot;]</td><td>[&quot;+1901-11-20T00:00:00Z&quot;]</td><td>[&quot;+1901-11-20T00:00:00Z&quot;]</td><td>[]</td><td>[&quot;183&quot;]</td><td>[]</td><td>[]</td><td>[&quot;28389&quot;, &quot;7042855&quot;, &quot;36180&quot;]</td><td>[]</td><td>[]</td><td>[]</td><td>[]</td><td>[]</td><td>[]</td><td>[]</td></tr><tr><td>&quot;Q17122148&quot;</td><td>&quot;17122148&quot;</td><td>&quot;Albrecht Josep…</td><td>&quot;Albrecht_Josep…</td><td>&quot;German screenw…</td><td>&quot;arzwiki&quot;</td><td>[&quot;de&quot;, &quot;en&quot;, … &quot;sk&quot;]</td><td>[&quot;5&quot;]</td><td>[&quot;6581097&quot;]</td><td>[&quot;+1901-11-20T00:00:00Z&quot;]</td><td>[&quot;+1901-11-20T00:00:00Z&quot;]</td><td>[]</td><td>[&quot;183&quot;]</td><td>[]</td><td>[]</td><td>[&quot;28389&quot;, &quot;7042855&quot;, &quot;36180&quot;]</td><td>[]</td><td>[]</td><td>[]</td><td>[]</td><td>[]</td><td>[]</td><td>[]</td></tr><tr><td>&hellip;</td><td>&hellip;</td><td>&hellip;</td><td>&hellip;</td><td>&hellip;</td><td>&hellip;</td><td>&hellip;</td><td>&hellip;</td><td>&hellip;</td><td>&hellip;</td><td>&hellip;</td><td>&hellip;</td><td>&hellip;</td><td>&hellip;</td><td>&hellip;</td><td>&hellip;</td><td>&hellip;</td><td>&hellip;</td><td>&hellip;</td><td>&hellip;</td><td>&hellip;</td><td>&hellip;</td><td>&hellip;</td></tr><tr><td>&quot;Q521785&quot;</td><td>&quot;521785&quot;</td><td>&quot;Mauro Sérgio V…</td><td>&quot;Maurinho_(foot…</td><td>&quot;Brazilian foot…</td><td>&quot;enwiki&quot;</td><td>[&quot;es&quot;, &quot;es&quot;, … &quot;fr&quot;]</td><td>[&quot;5&quot;]</td><td>[&quot;6581097&quot;]</td><td>[&quot;+1978-10-11T00:00:00Z&quot;]</td><td>[&quot;+1978-10-11T00:00:00Z&quot;]</td><td>[]</td><td>[&quot;155&quot;]</td><td>[]</td><td>[]</td><td>[&quot;937857&quot;]</td><td>[]</td><td>[]</td><td>[]</td><td>[]</td><td>[]</td><td>[]</td><td>[]</td></tr><tr><td>&quot;Q521785&quot;</td><td>&quot;521785&quot;</td><td>&quot;Mauro Sérgio V…</td><td>&quot;Maurinho_(foot…</td><td>&quot;Brazilian foot…</td><td>&quot;arzwiki&quot;</td><td>[&quot;es&quot;, &quot;es&quot;, … &quot;fr&quot;]</td><td>[&quot;5&quot;]</td><td>[&quot;6581097&quot;]</td><td>[&quot;+1978-10-11T00:00:00Z&quot;]</td><td>[&quot;+1978-10-11T00:00:00Z&quot;]</td><td>[]</td><td>[&quot;155&quot;]</td><td>[]</td><td>[]</td><td>[&quot;937857&quot;]</td><td>[]</td><td>[]</td><td>[]</td><td>[]</td><td>[]</td><td>[]</td><td>[]</td></tr><tr><td>&quot;Q521785&quot;</td><td>&quot;521785&quot;</td><td>&quot;Mauro Sérgio V…</td><td>&quot;Maurinho_(foot…</td><td>&quot;Brazilian foot…</td><td>&quot;ptwiki&quot;</td><td>[&quot;es&quot;, &quot;es&quot;, … &quot;fr&quot;]</td><td>[&quot;5&quot;]</td><td>[&quot;6581097&quot;]</td><td>[&quot;+1978-10-11T00:00:00Z&quot;]</td><td>[&quot;+1978-10-11T00:00:00Z&quot;]</td><td>[]</td><td>[&quot;155&quot;]</td><td>[]</td><td>[]</td><td>[&quot;937857&quot;]</td><td>[]</td><td>[]</td><td>[]</td><td>[]</td><td>[]</td><td>[]</td><td>[]</td></tr><tr><td>&quot;Q521785&quot;</td><td>&quot;521785&quot;</td><td>&quot;Mauro Sérgio V…</td><td>&quot;Maurinho_(foot…</td><td>&quot;Brazilian foot…</td><td>&quot;arwiki&quot;</td><td>[&quot;es&quot;, &quot;es&quot;, … &quot;fr&quot;]</td><td>[&quot;5&quot;]</td><td>[&quot;6581097&quot;]</td><td>[&quot;+1978-10-11T00:00:00Z&quot;]</td><td>[&quot;+1978-10-11T00:00:00Z&quot;]</td><td>[]</td><td>[&quot;155&quot;]</td><td>[]</td><td>[]</td><td>[&quot;937857&quot;]</td><td>[]</td><td>[]</td><td>[]</td><td>[]</td><td>[]</td><td>[]</td><td>[]</td></tr><tr><td>&quot;Q521785&quot;</td><td>&quot;521785&quot;</td><td>&quot;Mauro Sérgio V…</td><td>&quot;Maurinho_(foot…</td><td>&quot;Brazilian foot…</td><td>&quot;trwiki&quot;</td><td>[&quot;es&quot;, &quot;es&quot;, … &quot;fr&quot;]</td><td>[&quot;5&quot;]</td><td>[&quot;6581097&quot;]</td><td>[&quot;+1978-10-11T00:00:00Z&quot;]</td><td>[&quot;+1978-10-11T00:00:00Z&quot;]</td><td>[]</td><td>[&quot;155&quot;]</td><td>[]</td><td>[]</td><td>[&quot;937857&quot;]</td><td>[]</td><td>[]</td><td>[]</td><td>[]</td><td>[]</td><td>[]</td><td>[]</td></tr></tbody></table></div>"
      ],
      "text/plain": [
       "shape: (21, 23)\n",
       "┌───────────┬───────────┬───────────┬───────────┬───┬───────────┬───────────┬───────────┬──────────┐\n",
       "│ id        ┆ numeric_i ┆ en_label  ┆ en_wiki   ┆ … ┆ subclass_ ┆ coordinat ┆ member_of ┆ from_fic │\n",
       "│ ---       ┆ d         ┆ ---       ┆ ---       ┆   ┆ of        ┆ e_locatio ┆ ---       ┆ tional_u │\n",
       "│ str       ┆ ---       ┆ str       ┆ str       ┆   ┆ ---       ┆ n         ┆ list[str] ┆ niverse  │\n",
       "│           ┆ str       ┆           ┆           ┆   ┆ list[str] ┆ ---       ┆           ┆ ---      │\n",
       "│           ┆           ┆           ┆           ┆   ┆           ┆ list[f64] ┆           ┆ list[str │\n",
       "│           ┆           ┆           ┆           ┆   ┆           ┆           ┆           ┆ ]        │\n",
       "╞═══════════╪═══════════╪═══════════╪═══════════╪═══╪═══════════╪═══════════╪═══════════╪══════════╡\n",
       "│ Q17122148 ┆ 17122148  ┆ Albrecht  ┆ Albrecht_ ┆ … ┆ []        ┆ []        ┆ []        ┆ []       │\n",
       "│           ┆           ┆ Joseph    ┆ Joseph    ┆   ┆           ┆           ┆           ┆          │\n",
       "│ Q17122148 ┆ 17122148  ┆ Albrecht  ┆ Albrecht_ ┆ … ┆ []        ┆ []        ┆ []        ┆ []       │\n",
       "│           ┆           ┆ Joseph    ┆ Joseph    ┆   ┆           ┆           ┆           ┆          │\n",
       "│ Q17122148 ┆ 17122148  ┆ Albrecht  ┆ Albrecht_ ┆ … ┆ []        ┆ []        ┆ []        ┆ []       │\n",
       "│           ┆           ┆ Joseph    ┆ Joseph    ┆   ┆           ┆           ┆           ┆          │\n",
       "│ Q17122148 ┆ 17122148  ┆ Albrecht  ┆ Albrecht_ ┆ … ┆ []        ┆ []        ┆ []        ┆ []       │\n",
       "│           ┆           ┆ Joseph    ┆ Joseph    ┆   ┆           ┆           ┆           ┆          │\n",
       "│ Q17122148 ┆ 17122148  ┆ Albrecht  ┆ Albrecht_ ┆ … ┆ []        ┆ []        ┆ []        ┆ []       │\n",
       "│           ┆           ┆ Joseph    ┆ Joseph    ┆   ┆           ┆           ┆           ┆          │\n",
       "│ …         ┆ …         ┆ …         ┆ …         ┆ … ┆ …         ┆ …         ┆ …         ┆ …        │\n",
       "│ Q521785   ┆ 521785    ┆ Mauro     ┆ Maurinho_ ┆ … ┆ []        ┆ []        ┆ []        ┆ []       │\n",
       "│           ┆           ┆ Sérgio    ┆ (football ┆   ┆           ┆           ┆           ┆          │\n",
       "│           ┆           ┆ Viriato   ┆ er,_born_ ┆   ┆           ┆           ┆           ┆          │\n",
       "│           ┆           ┆ Mendes    ┆ 1978)     ┆   ┆           ┆           ┆           ┆          │\n",
       "│ Q521785   ┆ 521785    ┆ Mauro     ┆ Maurinho_ ┆ … ┆ []        ┆ []        ┆ []        ┆ []       │\n",
       "│           ┆           ┆ Sérgio    ┆ (football ┆   ┆           ┆           ┆           ┆          │\n",
       "│           ┆           ┆ Viriato   ┆ er,_born_ ┆   ┆           ┆           ┆           ┆          │\n",
       "│           ┆           ┆ Mendes    ┆ 1978)     ┆   ┆           ┆           ┆           ┆          │\n",
       "│ Q521785   ┆ 521785    ┆ Mauro     ┆ Maurinho_ ┆ … ┆ []        ┆ []        ┆ []        ┆ []       │\n",
       "│           ┆           ┆ Sérgio    ┆ (football ┆   ┆           ┆           ┆           ┆          │\n",
       "│           ┆           ┆ Viriato   ┆ er,_born_ ┆   ┆           ┆           ┆           ┆          │\n",
       "│           ┆           ┆ Mendes    ┆ 1978)     ┆   ┆           ┆           ┆           ┆          │\n",
       "│ Q521785   ┆ 521785    ┆ Mauro     ┆ Maurinho_ ┆ … ┆ []        ┆ []        ┆ []        ┆ []       │\n",
       "│           ┆           ┆ Sérgio    ┆ (football ┆   ┆           ┆           ┆           ┆          │\n",
       "│           ┆           ┆ Viriato   ┆ er,_born_ ┆   ┆           ┆           ┆           ┆          │\n",
       "│           ┆           ┆ Mendes    ┆ 1978)     ┆   ┆           ┆           ┆           ┆          │\n",
       "│ Q521785   ┆ 521785    ┆ Mauro     ┆ Maurinho_ ┆ … ┆ []        ┆ []        ┆ []        ┆ []       │\n",
       "│           ┆           ┆ Sérgio    ┆ (football ┆   ┆           ┆           ┆           ┆          │\n",
       "│           ┆           ┆ Viriato   ┆ er,_born_ ┆   ┆           ┆           ┆           ┆          │\n",
       "│           ┆           ┆ Mendes    ┆ 1978)     ┆   ┆           ┆           ┆           ┆          │\n",
       "└───────────┴───────────┴───────────┴───────────┴───┴───────────┴───────────┴───────────┴──────────┘"
      ]
     },
     "execution_count": 46,
     "metadata": {},
     "output_type": "execute_result"
    }
   ],
   "source": [
    "def clean_info_df(df: pl.DataFrame):\n",
    "    columns_to_drop = ['type', 'descriptions', 'labels', 'iso_3166_alpha3', 'coordinate_location']\n",
    "    struct_columns = [c for c in df.columns if df[c].dtype == pl.List and c not in columns_to_drop]\n",
    "    columns_to_encode = [c for c in df.columns if df[c].dtype == pl.List and c not in\n",
    "                         [*columns_to_drop, 'date_of_birth', 'date_of_death']]\n",
    "    \n",
    "    df = (df\n",
    "          .drop(columns_to_drop) # drop columns\n",
    "          .with_columns([pl.col(col).list.eval(pl.element().struct[0]) for col in struct_columns]) # unnest structs\n",
    "    )\n",
    "    \n",
    "    unique_sitelinks = df['sitelinks'].explode().unique()\n",
    "    unique_parents = df['instance_of'].explode().unique()\n",
    "    unique_\n",
    "    \n",
    "    sitelinks_columns = [pl.col('sitelinks').list.contains(site).alias(f'is_in_{site}') for site in unique_sitelinks]\n",
    "    parents_columns = [pl.col('instance_of').list.contains(parent).alias(f'is_instance_of_{parent}') for parent in unique_parents]\n",
    "    \n",
    "    \n",
    "    df = (df\n",
    "          .with_columns([\n",
    "           *sitelinks_columns,\n",
    "           pl.col('aliases').list.len().alias('num_aliases'),\n",
    "           *parents_columns,\n",
    "           \n",
    "          ]))\n",
    "    \n",
    "    return df\n",
    "\n",
    "clean_info_df(info_df.head(5)).explode('sitelinks').pivot(index='id', )"
   ]
  },
  {
   "cell_type": "code",
   "execution_count": 96,
   "metadata": {},
   "outputs": [],
   "source": [
    "info_df.write_parquet(PROCESSED_DATA_DIR / 'wikidata_all.parquet')"
   ]
  },
  {
   "cell_type": "markdown",
   "metadata": {},
   "source": [
    "Aliases not included in the pageviews data"
   ]
  },
  {
   "cell_type": "code",
   "execution_count": 25,
   "metadata": {},
   "outputs": [
    {
     "data": {
      "text/html": [
       "<div><style>\n",
       ".dataframe > thead > tr,\n",
       ".dataframe > tbody > tr {\n",
       "  text-align: right;\n",
       "  white-space: pre-wrap;\n",
       "}\n",
       "</style>\n",
       "<small>shape: (17, 27)</small><table border=\"1\" class=\"dataframe\"><thead><tr><th>id</th><th>numeric_id</th><th>en_label</th><th>en_wiki</th><th>en_description</th><th>type</th><th>sitelinks</th><th>descriptions</th><th>labels</th><th>aliases</th><th>instance_of</th><th>gender</th><th>date_of_birth</th><th>date_of_death</th><th>worked_at</th><th>country_of_citizenship</th><th>country</th><th>educated_at</th><th>occupation</th><th>instrument</th><th>genre</th><th>industry</th><th>subclass_of</th><th>coordinate_location</th><th>iso_3166_alpha3</th><th>member_of</th><th>from_fictional_universe</th></tr><tr><td>str</td><td>str</td><td>str</td><td>str</td><td>str</td><td>str</td><td>list[struct[3]]</td><td>list[struct[2]]</td><td>list[struct[2]]</td><td>list[struct[2]]</td><td>list[struct[1]]</td><td>list[struct[1]]</td><td>list[struct[1]]</td><td>list[struct[1]]</td><td>list[struct[1]]</td><td>list[struct[1]]</td><td>list[struct[1]]</td><td>list[struct[1]]</td><td>list[struct[1]]</td><td>list[struct[1]]</td><td>list[struct[1]]</td><td>list[struct[1]]</td><td>list[struct[1]]</td><td>list[struct[2]]</td><td>list[null]</td><td>list[struct[1]]</td><td>list[struct[1]]</td></tr></thead><tbody><tr><td>&quot;Q6880771&quot;</td><td>&quot;6880771&quot;</td><td>&quot;Mitarbeiter (N…</td><td>&quot;Mitarbeiter_(N…</td><td>&quot;contributor in…</td><td>&quot;item&quot;</td><td>[{&quot;enwiki&quot;,&quot;Mitarbeiter (NSDAP)&quot;,&quot;Mitarbeiter_(NSDAP)&quot;}, {&quot;arwiki&quot;,&quot;ميتابايتر&quot;,&quot;ميتابايتر&quot;}]</td><td>[{&quot;de&quot;,&quot;Angestellter der Nazi-Partei im 3. Reich&quot;}, {&quot;en&quot;,&quot;contributor in 3rd Reich Nazi party&quot;}]</td><td>[{&quot;en&quot;,&quot;Mitarbeiter (NSDAP)&quot;}, {&quot;es&quot;,&quot;Mitarbeiter&quot;}, … {&quot;de&quot;,&quot;Mitarbeiter (NSDAP)&quot;}]</td><td>[]</td><td>[{&quot;4189293&quot;}, {&quot;5&quot;}]</td><td>[]</td><td>[]</td><td>[]</td><td>[{&quot;7320&quot;}]</td><td>[]</td><td>[]</td><td>[]</td><td>[]</td><td>[]</td><td>[]</td><td>[]</td><td>[{&quot;20204892&quot;}]</td><td>[]</td><td>[]</td><td>[]</td><td>[]</td></tr><tr><td>&quot;Q1472976&quot;</td><td>&quot;1472976&quot;</td><td>&quot;Shukr ben Sali…</td><td>&quot;Shukr_Kuhayl_I…</td><td>&quot;Messiah claima…</td><td>&quot;item&quot;</td><td>[{&quot;dewiki&quot;,&quot;Shukr Kuhayl I&quot;,&quot;Shukr_Kuhayl_I&quot;}, {&quot;enwiki&quot;,&quot;Shukr Kuhayl I&quot;,&quot;Shukr_Kuhayl_I&quot;}, … {&quot;arwiki&quot;,&quot;شكر كحيل الأول&quot;,&quot;شكر_كحيل_الأول&quot;}]</td><td>[{&quot;de&quot;,&quot;jemenitischer Falscher Messias&quot;}, {&quot;en&quot;,&quot;Messiah claimant&quot;}]</td><td>[{&quot;de&quot;,&quot;Schukr Kuchayl I.&quot;}, {&quot;en&quot;,&quot;Shukr ben Salim Kuhayl I&quot;}, … {&quot;ga&quot;,&quot;Shukr Kuhayl I&quot;}]</td><td>[{&quot;he&quot;,&quot;יהודה בן שלום&quot;}, {&quot;de&quot;,&quot;Shukr ben Salim Kuhayl I&quot;}]</td><td>[{&quot;5&quot;}]</td><td>[{&quot;6581097&quot;}]</td><td>[{&quot;+1821-01-01T00:00:00Z&quot;}]</td><td>[{&quot;+1821-01-01T00:00:00Z&quot;}]</td><td>[]</td><td>[{&quot;805&quot;}]</td><td>[]</td><td>[]</td><td>[]</td><td>[]</td><td>[]</td><td>[]</td><td>[{&quot;116481016&quot;}]</td><td>[]</td><td>[]</td><td>[]</td><td>[]</td></tr><tr><td>&quot;Q5506850&quot;</td><td>&quot;5506850&quot;</td><td>&quot;Fu Style Bagua…</td><td>&quot;Fu-style_bagua…</td><td>&quot;style of Chine…</td><td>&quot;item&quot;</td><td>[{&quot;zhwiki&quot;,&quot;傅氏八卦掌&quot;,&quot;傅氏八卦掌&quot;}, {&quot;enwiki&quot;,&quot;Fu-style baguazhang&quot;,&quot;Fu-style_baguazhang&quot;}]</td><td>[{&quot;en&quot;,&quot;style of Chinese martial arts&quot;}, {&quot;nl&quot;,&quot;militair&quot;}]</td><td>[{&quot;en&quot;,&quot;Fu Style Baguazhang&quot;}, {&quot;es&quot;,&quot;Fu Style Baguazhang&quot;}, … {&quot;sq&quot;,&quot;Fu Style Baguazhang&quot;}]</td><td>[{&quot;en&quot;,&quot;Fu Style Wudang Fist&quot;}]</td><td>[{&quot;5&quot;}]</td><td>[{&quot;6581097&quot;}]</td><td>[{&quot;+1872-01-01T00:00:00Z&quot;}]</td><td>[{&quot;+1872-01-01T00:00:00Z&quot;}]</td><td>[]</td><td>[]</td><td>[]</td><td>[]</td><td>[{&quot;47064&quot;}]</td><td>[]</td><td>[]</td><td>[]</td><td>[{&quot;800177&quot;}]</td><td>[]</td><td>[]</td><td>[]</td><td>[]</td></tr><tr><td>&quot;Q109491354&quot;</td><td>&quot;109491354&quot;</td><td>&quot;Vladimir Aleks…</td><td>&quot;Vladimir_Aleks…</td><td>&quot;Russian lieute…</td><td>&quot;item&quot;</td><td>[{&quot;ruwiki&quot;,&quot;Алексеев, Владимир Степанович&quot;,&quot;Алексеев,_Владимир_Степанович&quot;}, {&quot;plwiki&quot;,&quot;Władimir Aleksiejew (generał)&quot;,&quot;Władimir_Aleksiejew_(generał)&quot;}, … {&quot;ukwiki&quot;,&quot;Алексєєв Володимир Степанович&quot;,&quot;Алексєєв_Володимир_Степанович&quot;}]</td><td>[{&quot;ru&quot;,&quot;первый заместитель начальника ГРУ ГШ ВС РФ&quot;}, {&quot;ast&quot;,&quot;militar rusu&quot;}, … {&quot;en&quot;,&quot;Russian lieutenant general&quot;}]</td><td>[{&quot;ru&quot;,&quot;Алексеев, Владимир Степанович&quot;}, {&quot;pl&quot;,&quot;Władimir Aleksiejew&quot;}, … {&quot;de&quot;,&quot;Wladimir Stepanowitsch Aleksejew&quot;}]</td><td>[{&quot;zh&quot;,&quot;弗拉基米尔·斯捷潘诺维奇·阿列克谢耶夫&quot;}, {&quot;en&quot;,&quot;Vladimir Stepanovich Alekseyev&quot;}]</td><td>[{&quot;5&quot;}]</td><td>[{&quot;6581097&quot;}]</td><td>[{&quot;+1961-04-24T00:00:00Z&quot;}, {&quot;+1961-04-23T00:00:00Z&quot;}, {&quot;+1964-04-24T00:00:00Z&quot;}]</td><td>[{&quot;+1961-04-24T00:00:00Z&quot;}, {&quot;+1961-04-23T00:00:00Z&quot;}, {&quot;+1964-04-24T00:00:00Z&quot;}]</td><td>[]</td><td>[{&quot;15180&quot;}, {&quot;159&quot;}]</td><td>[{&quot;159&quot;}]</td><td>[{&quot;1968714&quot;}]</td><td>[{&quot;47064&quot;}]</td><td>[]</td><td>[]</td><td>[]</td><td>[{&quot;11075015&quot;}]</td><td>[]</td><td>[]</td><td>[]</td><td>[]</td></tr><tr><td>&quot;Q5176774&quot;</td><td>&quot;5176774&quot;</td><td>&quot;Count of Pardi…</td><td>&quot;Count_of_Pardi…</td><td>&quot;title in Frenc…</td><td>&quot;item&quot;</td><td>[{&quot;enwiki&quot;,&quot;Count of Pardiac&quot;,&quot;Count_of_Pardiac&quot;}, {&quot;frwiki&quot;,&quot;Comte de Pardiac&quot;,&quot;Comte_de_Pardiac&quot;}, … {&quot;eswiki&quot;,&quot;Conde de Pardiac&quot;,&quot;Conde_de_Pardiac&quot;}]</td><td>[{&quot;en&quot;,&quot;title in French nobility&quot;}, {&quot;fr&quot;,&quot;titre de noblesse français&quot;}, {&quot;tr&quot;,&quot;Fransız soyluluk unvanı&quot;}]</td><td>[{&quot;en&quot;,&quot;Count of Pardiac&quot;}, {&quot;nl&quot;,&quot;Count of Pardiac&quot;}, … {&quot;tr&quot;,&quot;Pardiac Kontu&quot;}]</td><td>[{&quot;en&quot;,&quot;count of Pardiac&quot;}, {&quot;en&quot;,&quot;countess of Pardiac&quot;}, … {&quot;fr&quot;,&quot;comtesse de Pardiac&quot;}]</td><td>[{&quot;5&quot;}, {&quot;5737899&quot;}]</td><td>[]</td><td>[]</td><td>[]</td><td>[]</td><td>[]</td><td>[]</td><td>[]</td><td>[]</td><td>[]</td><td>[]</td><td>[]</td><td>[{&quot;3519259&quot;}]</td><td>[]</td><td>[]</td><td>[]</td><td>[]</td></tr><tr><td>&hellip;</td><td>&hellip;</td><td>&hellip;</td><td>&hellip;</td><td>&hellip;</td><td>&hellip;</td><td>&hellip;</td><td>&hellip;</td><td>&hellip;</td><td>&hellip;</td><td>&hellip;</td><td>&hellip;</td><td>&hellip;</td><td>&hellip;</td><td>&hellip;</td><td>&hellip;</td><td>&hellip;</td><td>&hellip;</td><td>&hellip;</td><td>&hellip;</td><td>&hellip;</td><td>&hellip;</td><td>&hellip;</td><td>&hellip;</td><td>&hellip;</td><td>&hellip;</td><td>&hellip;</td></tr><tr><td>&quot;Q23047393&quot;</td><td>&quot;23047393&quot;</td><td>&quot;Guido De Marti…</td><td>&quot;Guido_De_Marti…</td><td>&quot;Italian politi…</td><td>&quot;item&quot;</td><td>[{&quot;itwiki&quot;,&quot;Guido De Martino&quot;,&quot;Guido_De_Martino&quot;}, {&quot;enwiki&quot;,&quot;Guido De Martino&quot;,&quot;Guido_De_Martino&quot;}, {&quot;arwiki&quot;,&quot;قايدو دي مارتينو&quot;,&quot;قايدو_دي_مارتينو&quot;}]</td><td>[{&quot;it&quot;,&quot;politico italiano&quot;}, {&quot;en&quot;,&quot;Italian politician&quot;}, … {&quot;tr&quot;,&quot;İtalyan siyasetçi&quot;}]</td><td>[{&quot;it&quot;,&quot;Guido De Martino&quot;}, {&quot;en&quot;,&quot;Guido De Martino&quot;}, … {&quot;yo&quot;,&quot;Guido De Martino&quot;}]</td><td>[]</td><td>[{&quot;5&quot;}]</td><td>[{&quot;6581097&quot;}]</td><td>[{&quot;+1943-08-22T00:00:00Z&quot;}]</td><td>[{&quot;+1943-08-22T00:00:00Z&quot;}]</td><td>[]</td><td>[{&quot;38&quot;}]</td><td>[]</td><td>[]</td><td>[{&quot;82955&quot;}, {&quot;121594&quot;}]</td><td>[]</td><td>[]</td><td>[]</td><td>[{&quot;73168492&quot;}]</td><td>[]</td><td>[]</td><td>[]</td><td>[]</td></tr><tr><td>&quot;Q56435&quot;</td><td>&quot;56435&quot;</td><td>&quot;Min Zhong&quot;</td><td>&quot;Central_Min&quot;</td><td>&quot;language&quot;</td><td>&quot;item&quot;</td><td>[{&quot;pmswiki&quot;,&quot;Lenga Cinèisa, Min Zhong&quot;,&quot;Lenga_Cinèisa,_Min_Zhong&quot;}, {&quot;plwiki&quot;,&quot;Język minzhong&quot;,&quot;Język_minzhong&quot;}, … {&quot;eswiki&quot;,&quot;Chino min central&quot;,&quot;Chino_min_central&quot;}]</td><td>[{&quot;es&quot;,&quot;lengua&quot;}, {&quot;de&quot;,&quot;Sprache&quot;}, … {&quot;hy&quot;,&quot;լեզու&quot;}]</td><td>[{&quot;zh&quot;,&quot;闽中语&quot;}, {&quot;ja&quot;,&quot;閩中語&quot;}, … {&quot;ast&quot;,&quot;Min Zhong kineski&quot;}]</td><td>[{&quot;zh&quot;,&quot;闽中方言&quot;}, {&quot;zh&quot;,&quot;闽中片&quot;}, … {&quot;mk&quot;,&quot;минџунг&quot;}]</td><td>[{&quot;34770&quot;}, {&quot;1288568&quot;}, {&quot;5&quot;}]</td><td>[{&quot;6581097&quot;}]</td><td>[]</td><td>[]</td><td>[]</td><td>[]</td><td>[{&quot;148&quot;}]</td><td>[]</td><td>[]</td><td>[]</td><td>[]</td><td>[]</td><td>[{&quot;20667237&quot;}]</td><td>[]</td><td>[]</td><td>[]</td><td>[]</td></tr><tr><td>&quot;Q16215390&quot;</td><td>&quot;16215390&quot;</td><td>&quot;Patricio Loust…</td><td>&quot;Patricio_Loust…</td><td>&quot;Argentine foot…</td><td>&quot;item&quot;</td><td>[{&quot;enwiki&quot;,&quot;Patricio Loustau&quot;,&quot;Patricio_Loustau&quot;}, {&quot;eswiki&quot;,&quot;Patricio Loustau&quot;,&quot;Patricio_Loustau&quot;}, … {&quot;dewiki&quot;,&quot;Patricio Loustau&quot;,&quot;Patricio_Loustau&quot;}]</td><td>[{&quot;nl&quot;,&quot;Argentijns voetbalscheidsrechter&quot;}, {&quot;it&quot;,&quot;arbitro di calcio argentino&quot;}, … {&quot;tr&quot;,&quot;Arjantinli futbol hakemi&quot;}]</td><td>[{&quot;en&quot;,&quot;Patricio Loustau Rojas&quot;}, {&quot;de&quot;,&quot;Patricio Loustau&quot;}, … {&quot;tr&quot;,&quot;Patricio Loustau&quot;}]</td><td>[{&quot;zh&quot;,&quot;帕特里西奥·洛斯陶&quot;}, {&quot;zh&quot;,&quot;帕特里克·卢斯托&quot;}, … {&quot;en&quot;,&quot;Patricio Loustau&quot;}]</td><td>[{&quot;5&quot;}]</td><td>[{&quot;6581097&quot;}]</td><td>[{&quot;+1975-04-15T00:00:00Z&quot;}]</td><td>[{&quot;+1975-04-15T00:00:00Z&quot;}]</td><td>[]</td><td>[{&quot;414&quot;}]</td><td>[]</td><td>[]</td><td>[{&quot;859528&quot;}, {&quot;937857&quot;}, … {&quot;3282637&quot;}]</td><td>[]</td><td>[]</td><td>[]</td><td>[{&quot;253414&quot;}]</td><td>[]</td><td>[]</td><td>[]</td><td>[]</td></tr><tr><td>&quot;Q18530677&quot;</td><td>&quot;18530677&quot;</td><td>&quot;Qudsia Begum&quot;</td><td>&quot;Qudsia_Begum,_…</td><td>&quot;Nawab Begum of…</td><td>&quot;item&quot;</td><td>[{&quot;itwiki&quot;,&quot;Qudsia Begum di Bhopal&quot;,&quot;Qudsia_Begum_di_Bhopal&quot;}, {&quot;svwiki&quot;,&quot;Qudsia Begum av Bhopal&quot;,&quot;Qudsia_Begum_av_Bhopal&quot;}, … {&quot;tawiki&quot;,&quot;குத்சியா பேகம்&quot;,&quot;குத்சியா_பேகம்&quot;}]</td><td>[{&quot;en&quot;,&quot;Nawab Begum of Bhopal&quot;}, {&quot;sv&quot;,&quot;regerande begum (drottning) av Bhopal&quot;}, … {&quot;ar&quot;,&quot;أول امرأة حاكمة لولاية بوبال الأميرية&quot;}]</td><td>[{&quot;en&quot;,&quot;Qudsia Begum&quot;}, {&quot;de&quot;,&quot;Qudsia Begum&quot;}, … {&quot;pa&quot;,&quot;ਕੁਦਸਿਆ ਬੇਗਮ&quot;}]</td><td>[{&quot;en&quot;,&quot;Merge with Q18530677&quot;}, {&quot;en&quot;,&quot;People also know him as Gauhar Begum.&quot;}, … {&quot;ar&quot;,&quot;يعرفه الناس أيضًا باسم جوهر بيجوم.&quot;}]</td><td>[{&quot;5&quot;}]</td><td>[{&quot;6581072&quot;}]</td><td>[{&quot;+1801-00-00T00:00:00Z&quot;}]</td><td>[{&quot;+1801-00-00T00:00:00Z&quot;}]</td><td>[]</td><td>[]</td><td>[]</td><td>[]</td><td>[]</td><td>[]</td><td>[]</td><td>[]</td><td>[{&quot;855044&quot;}]</td><td>[]</td><td>[]</td><td>[]</td><td>[]</td></tr><tr><td>&quot;Q63139043&quot;</td><td>&quot;63139043&quot;</td><td>&quot;Yimou girl&quot;</td><td>&quot;Yimou_girl&quot;</td><td>&quot;Nickname&quot;</td><td>&quot;item&quot;</td><td>[{&quot;idwiki&quot;,&quot;Gadis Yimou&quot;,&quot;Gadis_Yimou&quot;}, {&quot;enwiki&quot;,&quot;Yimou girl&quot;,&quot;Yimou_girl&quot;}]</td><td>[{&quot;en&quot;,&quot;Nickname&quot;}, {&quot;cy&quot;,&quot;actores&quot;}]</td><td>[{&quot;en&quot;,&quot;Yimou girl&quot;}, {&quot;id&quot;,&quot;Gadis Yimou&quot;}, … {&quot;zh&quot;,&quot;谋女郎&quot;}]</td><td>[]</td><td>[{&quot;5&quot;}]</td><td>[{&quot;6581072&quot;}]</td><td>[]</td><td>[]</td><td>[]</td><td>[]</td><td>[]</td><td>[]</td><td>[{&quot;33999&quot;}]</td><td>[]</td><td>[]</td><td>[]</td><td>[{&quot;33999&quot;}]</td><td>[]</td><td>[]</td><td>[]</td><td>[]</td></tr></tbody></table></div>"
      ],
      "text/plain": [
       "shape: (17, 27)\n",
       "┌───────────┬───────────┬───────────┬───────────┬───┬───────────┬───────────┬───────────┬──────────┐\n",
       "│ id        ┆ numeric_i ┆ en_label  ┆ en_wiki   ┆ … ┆ coordinat ┆ iso_3166_ ┆ member_of ┆ from_fic │\n",
       "│ ---       ┆ d         ┆ ---       ┆ ---       ┆   ┆ e_locatio ┆ alpha3    ┆ ---       ┆ tional_u │\n",
       "│ str       ┆ ---       ┆ str       ┆ str       ┆   ┆ n         ┆ ---       ┆ list[stru ┆ niverse  │\n",
       "│           ┆ str       ┆           ┆           ┆   ┆ ---       ┆ list[null ┆ ct[1]]    ┆ ---      │\n",
       "│           ┆           ┆           ┆           ┆   ┆ list[stru ┆ ]         ┆           ┆ list[str │\n",
       "│           ┆           ┆           ┆           ┆   ┆ ct[2]]    ┆           ┆           ┆ uct[1]]  │\n",
       "╞═══════════╪═══════════╪═══════════╪═══════════╪═══╪═══════════╪═══════════╪═══════════╪══════════╡\n",
       "│ Q6880771  ┆ 6880771   ┆ Mitarbeit ┆ Mitarbeit ┆ … ┆ []        ┆ []        ┆ []        ┆ []       │\n",
       "│           ┆           ┆ er        ┆ er_(NSDAP ┆   ┆           ┆           ┆           ┆          │\n",
       "│           ┆           ┆ (NSDAP)   ┆ )         ┆   ┆           ┆           ┆           ┆          │\n",
       "│ Q1472976  ┆ 1472976   ┆ Shukr ben ┆ Shukr_Kuh ┆ … ┆ []        ┆ []        ┆ []        ┆ []       │\n",
       "│           ┆           ┆ Salim     ┆ ayl_I     ┆   ┆           ┆           ┆           ┆          │\n",
       "│           ┆           ┆ Kuhayl I  ┆           ┆   ┆           ┆           ┆           ┆          │\n",
       "│ Q5506850  ┆ 5506850   ┆ Fu Style  ┆ Fu-style_ ┆ … ┆ []        ┆ []        ┆ []        ┆ []       │\n",
       "│           ┆           ┆ Baguazhan ┆ baguazhan ┆   ┆           ┆           ┆           ┆          │\n",
       "│           ┆           ┆ g         ┆ g         ┆   ┆           ┆           ┆           ┆          │\n",
       "│ Q10949135 ┆ 109491354 ┆ Vladimir  ┆ Vladimir_ ┆ … ┆ []        ┆ []        ┆ []        ┆ []       │\n",
       "│ 4         ┆           ┆ Alekseyev ┆ Alekseyev ┆   ┆           ┆           ┆           ┆          │\n",
       "│           ┆           ┆ (general) ┆ _(general ┆   ┆           ┆           ┆           ┆          │\n",
       "│           ┆           ┆           ┆ )         ┆   ┆           ┆           ┆           ┆          │\n",
       "│ Q5176774  ┆ 5176774   ┆ Count of  ┆ Count_of_ ┆ … ┆ []        ┆ []        ┆ []        ┆ []       │\n",
       "│           ┆           ┆ Pardiac   ┆ Pardiac   ┆   ┆           ┆           ┆           ┆          │\n",
       "│ …         ┆ …         ┆ …         ┆ …         ┆ … ┆ …         ┆ …         ┆ …         ┆ …        │\n",
       "│ Q23047393 ┆ 23047393  ┆ Guido De  ┆ Guido_De_ ┆ … ┆ []        ┆ []        ┆ []        ┆ []       │\n",
       "│           ┆           ┆ Martino   ┆ Martino   ┆   ┆           ┆           ┆           ┆          │\n",
       "│ Q56435    ┆ 56435     ┆ Min Zhong ┆ Central_M ┆ … ┆ []        ┆ []        ┆ []        ┆ []       │\n",
       "│           ┆           ┆           ┆ in        ┆   ┆           ┆           ┆           ┆          │\n",
       "│ Q16215390 ┆ 16215390  ┆ Patricio  ┆ Patricio_ ┆ … ┆ []        ┆ []        ┆ []        ┆ []       │\n",
       "│           ┆           ┆ Loustau   ┆ Loustau   ┆   ┆           ┆           ┆           ┆          │\n",
       "│           ┆           ┆ Rojas     ┆           ┆   ┆           ┆           ┆           ┆          │\n",
       "│ Q18530677 ┆ 18530677  ┆ Qudsia    ┆ Qudsia_Be ┆ … ┆ []        ┆ []        ┆ []        ┆ []       │\n",
       "│           ┆           ┆ Begum     ┆ gum,_Begu ┆   ┆           ┆           ┆           ┆          │\n",
       "│           ┆           ┆           ┆ m_of_Bhop ┆   ┆           ┆           ┆           ┆          │\n",
       "│           ┆           ┆           ┆ al        ┆   ┆           ┆           ┆           ┆          │\n",
       "│ Q63139043 ┆ 63139043  ┆ Yimou     ┆ Yimou_gir ┆ … ┆ []        ┆ []        ┆ []        ┆ []       │\n",
       "│           ┆           ┆ girl      ┆ l         ┆   ┆           ┆           ┆           ┆          │\n",
       "└───────────┴───────────┴───────────┴───────────┴───┴───────────┴───────────┴───────────┴──────────┘"
      ]
     },
     "metadata": {},
     "output_type": "display_data"
    }
   ],
   "source": [
    "display(info_df.filter(pl.col('subclass_of').list.len() > 0))"
   ]
  },
  {
   "cell_type": "code",
   "execution_count": 60,
   "metadata": {},
   "outputs": [
    {
     "data": {
      "text/plain": [
       "True"
      ]
     },
     "execution_count": 60,
     "metadata": {},
     "output_type": "execute_result"
    }
   ],
   "source": [
    "(info_df['numeric_id'] == info_df['id'].str.replace('Q', '')).all()"
   ]
  },
  {
   "cell_type": "markdown",
   "metadata": {},
   "source": [
    "### Additional Features Extraction"
   ]
  },
  {
   "cell_type": "markdown",
   "metadata": {},
   "source": [
    "Convert code to label description:\n",
    "- https://stackoverflow.com/questions/59737076/how-to-get-a-label-of-a-property-from-wikidata\n",
    "- https://stackoverflow.com/questions/72704205/how-to-convert-wiki-data-qid-to-entity-and-vice-versa-in-python"
   ]
  },
  {
   "cell_type": "code",
   "execution_count": null,
   "metadata": {},
   "outputs": [
    {
     "data": {
      "text/html": [
       "<div><style>\n",
       ".dataframe > thead > tr,\n",
       ".dataframe > tbody > tr {\n",
       "  text-align: right;\n",
       "  white-space: pre-wrap;\n",
       "}\n",
       "</style>\n",
       "<small>shape: (34, 27)</small><table border=\"1\" class=\"dataframe\"><thead><tr><th>id</th><th>numeric_id</th><th>en_label</th><th>en_wiki</th><th>en_description</th><th>type</th><th>sitelinks</th><th>descriptions</th><th>labels</th><th>aliases</th><th>instance_of</th><th>gender</th><th>date_of_birth</th><th>date_of_death</th><th>worked_at</th><th>country_of_citizenship</th><th>country</th><th>educated_at</th><th>occupation</th><th>instrument</th><th>genre</th><th>industry</th><th>subclass_of</th><th>coordinate_location</th><th>iso_3166_alpha3</th><th>member_of</th><th>from_fictional_universe</th></tr><tr><td>str</td><td>str</td><td>str</td><td>str</td><td>str</td><td>str</td><td>list[struct[3]]</td><td>list[struct[2]]</td><td>list[struct[2]]</td><td>list[struct[2]]</td><td>list[struct[1]]</td><td>list[struct[1]]</td><td>list[struct[1]]</td><td>list[struct[1]]</td><td>list[struct[1]]</td><td>list[struct[1]]</td><td>list[struct[1]]</td><td>list[struct[1]]</td><td>list[struct[1]]</td><td>list[struct[1]]</td><td>list[struct[1]]</td><td>list[struct[1]]</td><td>list[struct[1]]</td><td>list[struct[2]]</td><td>list[null]</td><td>list[struct[1]]</td><td>list[struct[1]]</td></tr></thead><tbody><tr><td>&quot;Q16209139&quot;</td><td>&quot;16209139&quot;</td><td>&quot;Norman Gunston…</td><td>&quot;Norman_Gunston…</td><td>&quot;fictional char…</td><td>&quot;item&quot;</td><td>[{&quot;enwiki&quot;,&quot;Norman Gunston&quot;,&quot;Norman_Gunston&quot;}]</td><td>[{&quot;nl&quot;,&quot;zanger&quot;}, {&quot;en&quot;,&quot;fictional character&quot;}, {&quot;uk&quot;,&quot;вигаданий персонаж&quot;}]</td><td>[{&quot;en&quot;,&quot;Norman Gunston&quot;}, {&quot;de&quot;,&quot;Norman Gunston&quot;}, … {&quot;sq&quot;,&quot;Norman Gunston&quot;}]</td><td>[]</td><td>[{&quot;5&quot;}]</td><td>[{&quot;6581097&quot;}]</td><td>[]</td><td>[]</td><td>[]</td><td>[]</td><td>[]</td><td>[]</td><td>[{&quot;177220&quot;}]</td><td>[{&quot;17172850&quot;}]</td><td>[]</td><td>[]</td><td>[]</td><td>[]</td><td>[]</td><td>[]</td><td>[]</td></tr><tr><td>&quot;Q121026451&quot;</td><td>&quot;121026451&quot;</td><td>&quot;Mae Paner&quot;</td><td>&quot;Mae_Paner&quot;</td><td>&quot;fictional char…</td><td>&quot;item&quot;</td><td>[{&quot;enwiki&quot;,&quot;Mae Paner&quot;,&quot;Mae_Paner&quot;}]</td><td>[{&quot;en&quot;,&quot;fictional character&quot;}, {&quot;uk&quot;,&quot;вигаданий персонаж&quot;}]</td><td>[{&quot;en&quot;,&quot;Mae Paner&quot;}, {&quot;de&quot;,&quot;Mae Paner&quot;}, … {&quot;pt-br&quot;,&quot;Mae Paner&quot;}]</td><td>[]</td><td>[{&quot;5&quot;}]</td><td>[{&quot;6581072&quot;}]</td><td>[]</td><td>[]</td><td>[]</td><td>[]</td><td>[]</td><td>[]</td><td>[{&quot;2259451&quot;}, {&quot;1476215&quot;}]</td><td>[]</td><td>[]</td><td>[]</td><td>[]</td><td>[]</td><td>[]</td><td>[]</td><td>[]</td></tr><tr><td>&quot;Q5460334&quot;</td><td>&quot;5460334&quot;</td><td>&quot;Flora Malherbe…</td><td>&quot;Flora_Malherbe…</td><td>&quot;fictional char…</td><td>&quot;item&quot;</td><td>[{&quot;enwiki&quot;,&quot;Flora Malherbe&quot;,&quot;Flora_Malherbe&quot;}]</td><td>[{&quot;nl&quot;,&quot;monteur&quot;}, {&quot;en&quot;,&quot;fictional character on the American TV sitcom The Andy Griffith Show and its successor, Mayberry RFD&quot;}]</td><td>[{&quot;en&quot;,&quot;Flora Malherbe&quot;}, {&quot;es&quot;,&quot;Flora Malherbe&quot;}, {&quot;ast&quot;,&quot;Flora Malherbe&quot;}]</td><td>[]</td><td>[{&quot;5&quot;}]</td><td>[{&quot;6581072&quot;}]</td><td>[]</td><td>[]</td><td>[]</td><td>[]</td><td>[]</td><td>[]</td><td>[{&quot;327029&quot;}]</td><td>[]</td><td>[]</td><td>[]</td><td>[]</td><td>[]</td><td>[]</td><td>[]</td><td>[]</td></tr><tr><td>&quot;Q4751616&quot;</td><td>&quot;4751616&quot;</td><td>&quot;Anaranya&quot;</td><td>&quot;Anaranya&quot;</td><td>&quot;fictional char…</td><td>&quot;item&quot;</td><td>[{&quot;enwiki&quot;,&quot;Anaranya&quot;,&quot;Anaranya&quot;}, {&quot;ptwiki&quot;,&quot;Anaranya&quot;,&quot;Anaranya&quot;}, … {&quot;ruwiki&quot;,&quot;Анаранья&quot;,&quot;Анаранья&quot;}]</td><td>[{&quot;bn&quot;,&quot;হিন্দু পৌরাণিক চরিত্র&quot;}, {&quot;en&quot;,&quot;fictional character&quot;}, {&quot;uk&quot;,&quot;вигаданий персонаж&quot;}]</td><td>[{&quot;en&quot;,&quot;Anaranya&quot;}, {&quot;pt&quot;,&quot;Anaranya&quot;}, … {&quot;ru&quot;,&quot;Анаранья&quot;}]</td><td>[]</td><td>[{&quot;5&quot;}]</td><td>[{&quot;6581097&quot;}]</td><td>[]</td><td>[]</td><td>[]</td><td>[]</td><td>[]</td><td>[]</td><td>[]</td><td>[]</td><td>[]</td><td>[]</td><td>[]</td><td>[]</td><td>[]</td><td>[]</td><td>[]</td></tr><tr><td>&quot;Q7844223&quot;</td><td>&quot;7844223&quot;</td><td>&quot;Tristram the Y…</td><td>&quot;Tristan_the_Yo…</td><td>&quot;fictional char…</td><td>&quot;item&quot;</td><td>[{&quot;enwiki&quot;,&quot;Tristan the Younger&quot;,&quot;Tristan_the_Younger&quot;}]</td><td>[{&quot;en&quot;,&quot;fictional character in Arthurian romances&quot;}]</td><td>[{&quot;en&quot;,&quot;Tristram the Younger&quot;}, {&quot;ast&quot;,&quot;Tristram the Younger&quot;}]</td><td>[]</td><td>[{&quot;5&quot;}]</td><td>[{&quot;6581097&quot;}]</td><td>[]</td><td>[]</td><td>[]</td><td>[]</td><td>[]</td><td>[]</td><td>[]</td><td>[]</td><td>[]</td><td>[]</td><td>[]</td><td>[]</td><td>[]</td><td>[]</td><td>[]</td></tr><tr><td>&hellip;</td><td>&hellip;</td><td>&hellip;</td><td>&hellip;</td><td>&hellip;</td><td>&hellip;</td><td>&hellip;</td><td>&hellip;</td><td>&hellip;</td><td>&hellip;</td><td>&hellip;</td><td>&hellip;</td><td>&hellip;</td><td>&hellip;</td><td>&hellip;</td><td>&hellip;</td><td>&hellip;</td><td>&hellip;</td><td>&hellip;</td><td>&hellip;</td><td>&hellip;</td><td>&hellip;</td><td>&hellip;</td><td>&hellip;</td><td>&hellip;</td><td>&hellip;</td><td>&hellip;</td></tr><tr><td>&quot;Q7174933&quot;</td><td>&quot;7174933&quot;</td><td>&quot;Peter Jairus F…</td><td>&quot;Peter_Jairus_F…</td><td>&quot;fictionalized …</td><td>&quot;item&quot;</td><td>[{&quot;enwiki&quot;,&quot;Peter Jairus Frigate&quot;,&quot;Peter_Jairus_Frigate&quot;}]</td><td>[{&quot;en&quot;,&quot;fictionalized version of the science fiction author Philip José Farmer in Riverworld series&quot;}]</td><td>[{&quot;en&quot;,&quot;Peter Jairus Frigate&quot;}, {&quot;de&quot;,&quot;Peter Jairus Frigate&quot;}, … {&quot;ast&quot;,&quot;Peter Jairus Frigate&quot;}]</td><td>[]</td><td>[{&quot;5&quot;}]</td><td>[{&quot;6581097&quot;}]</td><td>[]</td><td>[]</td><td>[]</td><td>[]</td><td>[]</td><td>[]</td><td>[]</td><td>[]</td><td>[]</td><td>[]</td><td>[]</td><td>[]</td><td>[]</td><td>[]</td><td>[]</td></tr><tr><td>&quot;Q26409637&quot;</td><td>&quot;26409637&quot;</td><td>&quot;Amy Teo&quot;</td><td>&quot;Amy_Teo&quot;</td><td>&quot;fictional char…</td><td>&quot;item&quot;</td><td>[{&quot;enwiki&quot;,&quot;Amy Teo&quot;,&quot;Amy_Teo&quot;}]</td><td>[{&quot;en&quot;,&quot;fictional character from the BBC medical drama Holby City&quot;}]</td><td>[{&quot;en&quot;,&quot;Amy Teo&quot;}, {&quot;nl&quot;,&quot;Amy Teo&quot;}, … {&quot;ast&quot;,&quot;Amy Teo&quot;}]</td><td>[]</td><td>[{&quot;5&quot;}]</td><td>[{&quot;6581072&quot;}]</td><td>[]</td><td>[]</td><td>[]</td><td>[]</td><td>[]</td><td>[]</td><td>[]</td><td>[]</td><td>[]</td><td>[]</td><td>[]</td><td>[]</td><td>[]</td><td>[]</td><td>[]</td></tr><tr><td>&quot;Q10788162&quot;</td><td>&quot;10788162&quot;</td><td>&quot;Lý Ông Trọng&quot;</td><td>&quot;Ruan_Wengzhong…</td><td>&quot;fictional char…</td><td>&quot;item&quot;</td><td>[{&quot;viwiki&quot;,&quot;Lý Ông Trọng&quot;,&quot;Lý_Ông_Trọng&quot;}, {&quot;zhwiki&quot;,&quot;阮翁仲&quot;,&quot;阮翁仲&quot;}, … {&quot;thwiki&quot;,&quot;รฺเหวี่ยน เวิงจ้ง&quot;,&quot;รฺเหวี่ยน_เวิงจ้ง&quot;}]</td><td>[{&quot;en&quot;,&quot;fictional character&quot;}, {&quot;vi&quot;,&quot;nhân vật hư cấu&quot;}, {&quot;uk&quot;,&quot;вигаданий персонаж&quot;}]</td><td>[{&quot;vi&quot;,&quot;Lý Ông Trọng&quot;}, {&quot;zh&quot;,&quot;阮翁仲&quot;}, … {&quot;th&quot;,&quot;รฺเหวี่ยน เวิงจ้ง&quot;}]</td><td>[{&quot;vi&quot;,&quot;Lý Thân&quot;}, {&quot;vi&quot;,&quot;Uy mãnh Oanh liệt Phụ tín Đại vương&quot;}, … {&quot;vi&quot;,&quot;Vạn Tín Hầu&quot;}]</td><td>[{&quot;5&quot;}]</td><td>[{&quot;6581097&quot;}]</td><td>[]</td><td>[]</td><td>[]</td><td>[{&quot;7183&quot;}]</td><td>[]</td><td>[]</td><td>[]</td><td>[]</td><td>[]</td><td>[]</td><td>[]</td><td>[]</td><td>[]</td><td>[]</td><td>[]</td></tr><tr><td>&quot;Q84607917&quot;</td><td>&quot;84607917&quot;</td><td>&quot;Anduin Wrynn&quot;</td><td>&quot;Anduin_Wrynn&quot;</td><td>&quot;fictional char…</td><td>&quot;item&quot;</td><td>[{&quot;enwiki&quot;,&quot;Anduin Wrynn&quot;,&quot;Anduin_Wrynn&quot;}, {&quot;ukwiki&quot;,&quot;Андуїн Рінн&quot;,&quot;Андуїн_Рінн&quot;}]</td><td>[{&quot;en&quot;,&quot;fictional character who appears in the Warcraft series of video games by Blizzard Entertainment.&quot;}, {&quot;nl&quot;,&quot;personage uit Warcraft&quot;}, {&quot;it&quot;,&quot;personaggio di Warcraft&quot;}]</td><td>[{&quot;en&quot;,&quot;Anduin Wrynn&quot;}, {&quot;nl&quot;,&quot;Anduin Wrynn&quot;}, … {&quot;uk&quot;,&quot;Андуін Рінн&quot;}]</td><td>[]</td><td>[{&quot;15632617&quot;}, {&quot;5&quot;}]</td><td>[{&quot;6581097&quot;}]</td><td>[]</td><td>[]</td><td>[]</td><td>[]</td><td>[]</td><td>[]</td><td>[{&quot;16658189&quot;}]</td><td>[]</td><td>[]</td><td>[]</td><td>[]</td><td>[]</td><td>[]</td><td>[]</td><td>[{&quot;26181639&quot;}]</td></tr><tr><td>&quot;Q5648928&quot;</td><td>&quot;5648928&quot;</td><td>&quot;Hannah Palemoo…</td><td>&quot;Hannah_Palemoo…</td><td>&quot;fictional char…</td><td>&quot;item&quot;</td><td>[{&quot;enwiki&quot;,&quot;Hannah Palemoon&quot;,&quot;Hannah_Palemoon&quot;}]</td><td>[{&quot;en&quot;,&quot;fictional character in the Left Behind series&quot;}]</td><td>[{&quot;en&quot;,&quot;Hannah Palemoon&quot;}, {&quot;es&quot;,&quot;Hannah Palemoon&quot;}, … {&quot;sq&quot;,&quot;Hannah Palemoon&quot;}]</td><td>[]</td><td>[{&quot;5&quot;}]</td><td>[{&quot;6581072&quot;}]</td><td>[]</td><td>[]</td><td>[]</td><td>[]</td><td>[]</td><td>[]</td><td>[{&quot;186360&quot;}]</td><td>[]</td><td>[]</td><td>[]</td><td>[]</td><td>[]</td><td>[]</td><td>[]</td><td>[]</td></tr></tbody></table></div>"
      ],
      "text/plain": [
       "shape: (34, 27)\n",
       "┌───────────┬───────────┬───────────┬───────────┬───┬───────────┬───────────┬───────────┬──────────┐\n",
       "│ id        ┆ numeric_i ┆ en_label  ┆ en_wiki   ┆ … ┆ coordinat ┆ iso_3166_ ┆ member_of ┆ from_fic │\n",
       "│ ---       ┆ d         ┆ ---       ┆ ---       ┆   ┆ e_locatio ┆ alpha3    ┆ ---       ┆ tional_u │\n",
       "│ str       ┆ ---       ┆ str       ┆ str       ┆   ┆ n         ┆ ---       ┆ list[stru ┆ niverse  │\n",
       "│           ┆ str       ┆           ┆           ┆   ┆ ---       ┆ list[null ┆ ct[1]]    ┆ ---      │\n",
       "│           ┆           ┆           ┆           ┆   ┆ list[stru ┆ ]         ┆           ┆ list[str │\n",
       "│           ┆           ┆           ┆           ┆   ┆ ct[2]]    ┆           ┆           ┆ uct[1]]  │\n",
       "╞═══════════╪═══════════╪═══════════╪═══════════╪═══╪═══════════╪═══════════╪═══════════╪══════════╡\n",
       "│ Q16209139 ┆ 16209139  ┆ Norman    ┆ Norman_Gu ┆ … ┆ []        ┆ []        ┆ []        ┆ []       │\n",
       "│           ┆           ┆ Gunston   ┆ nston     ┆   ┆           ┆           ┆           ┆          │\n",
       "│ Q12102645 ┆ 121026451 ┆ Mae Paner ┆ Mae_Paner ┆ … ┆ []        ┆ []        ┆ []        ┆ []       │\n",
       "│ 1         ┆           ┆           ┆           ┆   ┆           ┆           ┆           ┆          │\n",
       "│ Q5460334  ┆ 5460334   ┆ Flora     ┆ Flora_Mal ┆ … ┆ []        ┆ []        ┆ []        ┆ []       │\n",
       "│           ┆           ┆ Malherbe  ┆ herbe     ┆   ┆           ┆           ┆           ┆          │\n",
       "│ Q4751616  ┆ 4751616   ┆ Anaranya  ┆ Anaranya  ┆ … ┆ []        ┆ []        ┆ []        ┆ []       │\n",
       "│ Q7844223  ┆ 7844223   ┆ Tristram  ┆ Tristan_t ┆ … ┆ []        ┆ []        ┆ []        ┆ []       │\n",
       "│           ┆           ┆ the       ┆ he_Younge ┆   ┆           ┆           ┆           ┆          │\n",
       "│           ┆           ┆ Younger   ┆ r         ┆   ┆           ┆           ┆           ┆          │\n",
       "│ …         ┆ …         ┆ …         ┆ …         ┆ … ┆ …         ┆ …         ┆ …         ┆ …        │\n",
       "│ Q7174933  ┆ 7174933   ┆ Peter     ┆ Peter_Jai ┆ … ┆ []        ┆ []        ┆ []        ┆ []       │\n",
       "│           ┆           ┆ Jairus    ┆ rus_Friga ┆   ┆           ┆           ┆           ┆          │\n",
       "│           ┆           ┆ Frigate   ┆ te        ┆   ┆           ┆           ┆           ┆          │\n",
       "│ Q26409637 ┆ 26409637  ┆ Amy Teo   ┆ Amy_Teo   ┆ … ┆ []        ┆ []        ┆ []        ┆ []       │\n",
       "│ Q10788162 ┆ 10788162  ┆ Lý Ông    ┆ Ruan_Weng ┆ … ┆ []        ┆ []        ┆ []        ┆ []       │\n",
       "│           ┆           ┆ Trọng     ┆ zhong     ┆   ┆           ┆           ┆           ┆          │\n",
       "│ Q84607917 ┆ 84607917  ┆ Anduin    ┆ Anduin_Wr ┆ … ┆ []        ┆ []        ┆ []        ┆ [{\"26181 │\n",
       "│           ┆           ┆ Wrynn     ┆ ynn       ┆   ┆           ┆           ┆           ┆ 639\"}]   │\n",
       "│ Q5648928  ┆ 5648928   ┆ Hannah    ┆ Hannah_Pa ┆ … ┆ []        ┆ []        ┆ []        ┆ []       │\n",
       "│           ┆           ┆ Palemoon  ┆ lemoon    ┆   ┆           ┆           ┆           ┆          │\n",
       "└───────────┴───────────┴───────────┴───────────┴───┴───────────┴───────────┴───────────┴──────────┘"
      ]
     },
     "metadata": {},
     "output_type": "display_data"
    }
   ],
   "source": [
    "info_df.filter(info_df['en_description'].str.starts_with('fictional'))"
   ]
  },
  {
   "cell_type": "markdown",
   "metadata": {},
   "source": [
    "# Time Series Clustering"
   ]
  },
  {
   "cell_type": "code",
   "execution_count": null,
   "metadata": {},
   "outputs": [],
   "source": [
    "views_df = pl.read_parquet(PROCESSED_DATA_DIR / 'pageviews_all.parquet')"
   ]
  },
  {
   "cell_type": "code",
   "execution_count": 98,
   "metadata": {},
   "outputs": [
    {
     "data": {
      "text/html": [
       "<div><style>\n",
       ".dataframe > thead > tr,\n",
       ".dataframe > tbody > tr {\n",
       "  text-align: right;\n",
       "  white-space: pre-wrap;\n",
       "}\n",
       "</style>\n",
       "<small>shape: (30, 105)</small><table border=\"1\" class=\"dataframe\"><thead><tr><th>title</th><th>2015-05</th><th>2015-06</th><th>2015-07</th><th>2015-08</th><th>2015-09</th><th>2015-10</th><th>2015-11</th><th>2015-12</th><th>2016-01</th><th>2016-02</th><th>2016-03</th><th>2016-04</th><th>2016-05</th><th>2016-06</th><th>2016-07</th><th>2016-08</th><th>2016-09</th><th>2016-10</th><th>2016-11</th><th>2016-12</th><th>2017-01</th><th>2017-02</th><th>2017-03</th><th>2017-04</th><th>2017-05</th><th>2017-06</th><th>2017-07</th><th>2017-08</th><th>2017-09</th><th>2017-10</th><th>2017-11</th><th>2017-12</th><th>2018-01</th><th>2018-02</th><th>2018-03</th><th>2018-04</th><th>&hellip;</th><th>2020-12</th><th>2021-01</th><th>2021-02</th><th>2021-03</th><th>2021-04</th><th>2021-05</th><th>2021-06</th><th>2021-07</th><th>2021-08</th><th>2021-09</th><th>2021-10</th><th>2021-11</th><th>2021-12</th><th>2022-01</th><th>2022-02</th><th>2022-03</th><th>2022-04</th><th>2022-05</th><th>2022-06</th><th>2022-07</th><th>2022-08</th><th>2022-09</th><th>2022-10</th><th>2022-11</th><th>2022-12</th><th>2023-01</th><th>2023-02</th><th>2023-03</th><th>2023-04</th><th>2023-05</th><th>2023-06</th><th>2023-07</th><th>2023-08</th><th>2023-09</th><th>2023-10</th><th>2023-11</th><th>2023-12</th></tr><tr><td>str</td><td>i64</td><td>i64</td><td>i64</td><td>i64</td><td>i64</td><td>i64</td><td>i64</td><td>i64</td><td>i64</td><td>i64</td><td>i64</td><td>i64</td><td>i64</td><td>i64</td><td>i64</td><td>i64</td><td>i64</td><td>i64</td><td>i64</td><td>i64</td><td>i64</td><td>i64</td><td>i64</td><td>i64</td><td>i64</td><td>i64</td><td>i64</td><td>i64</td><td>i64</td><td>i64</td><td>i64</td><td>i64</td><td>i64</td><td>i64</td><td>i64</td><td>i64</td><td>&hellip;</td><td>i64</td><td>i64</td><td>i64</td><td>i64</td><td>i64</td><td>i64</td><td>i64</td><td>i64</td><td>i64</td><td>i64</td><td>i64</td><td>i64</td><td>i64</td><td>i64</td><td>i64</td><td>i64</td><td>i64</td><td>i64</td><td>i64</td><td>i64</td><td>i64</td><td>i64</td><td>i64</td><td>i64</td><td>i64</td><td>i64</td><td>i64</td><td>i64</td><td>i64</td><td>i64</td><td>i64</td><td>i64</td><td>i64</td><td>i64</td><td>i64</td><td>i64</td><td>i64</td></tr></thead><tbody><tr><td>&quot;Neophyte_II_of…</td><td>null</td><td>null</td><td>null</td><td>null</td><td>null</td><td>null</td><td>null</td><td>null</td><td>null</td><td>null</td><td>null</td><td>null</td><td>null</td><td>null</td><td>null</td><td>null</td><td>null</td><td>null</td><td>null</td><td>null</td><td>null</td><td>null</td><td>null</td><td>null</td><td>null</td><td>null</td><td>null</td><td>null</td><td>null</td><td>null</td><td>null</td><td>null</td><td>null</td><td>null</td><td>null</td><td>null</td><td>&hellip;</td><td>null</td><td>null</td><td>null</td><td>null</td><td>null</td><td>14</td><td>17</td><td>26</td><td>10</td><td>17</td><td>24</td><td>29</td><td>32</td><td>51</td><td>20</td><td>36</td><td>46</td><td>32</td><td>119</td><td>27</td><td>32</td><td>18</td><td>26</td><td>22</td><td>30</td><td>30</td><td>26</td><td>35</td><td>33</td><td>33</td><td>26</td><td>25</td><td>24</td><td>29</td><td>44</td><td>23</td><td>25</td></tr><tr><td>&quot;Olivia_Giovett…</td><td>26</td><td>34</td><td>52</td><td>20</td><td>41</td><td>40</td><td>19</td><td>21</td><td>27</td><td>23</td><td>32</td><td>21</td><td>32</td><td>29</td><td>57</td><td>47</td><td>31</td><td>21</td><td>24</td><td>15</td><td>42</td><td>17</td><td>45</td><td>30</td><td>25</td><td>34</td><td>36</td><td>22</td><td>22</td><td>22</td><td>16</td><td>28</td><td>30</td><td>34</td><td>22</td><td>19</td><td>&hellip;</td><td>39</td><td>30</td><td>32</td><td>34</td><td>37</td><td>29</td><td>14</td><td>26</td><td>24</td><td>36</td><td>39</td><td>35</td><td>20</td><td>63</td><td>33</td><td>39</td><td>19</td><td>19</td><td>30</td><td>20</td><td>14</td><td>21</td><td>35</td><td>52</td><td>25</td><td>25</td><td>33</td><td>20</td><td>18</td><td>22</td><td>31</td><td>26</td><td>16</td><td>20</td><td>59</td><td>41</td><td>19</td></tr><tr><td>&quot;Alexander_Gran…</td><td>9</td><td>48</td><td>24</td><td>23</td><td>32</td><td>24</td><td>12</td><td>20</td><td>19</td><td>7</td><td>8</td><td>14</td><td>18</td><td>27</td><td>11</td><td>23</td><td>12</td><td>19</td><td>15</td><td>17</td><td>11</td><td>13</td><td>26</td><td>14</td><td>16</td><td>18</td><td>13</td><td>20</td><td>13</td><td>26</td><td>16</td><td>19</td><td>32</td><td>14</td><td>18</td><td>12</td><td>&hellip;</td><td>5</td><td>13</td><td>9</td><td>12</td><td>11</td><td>9</td><td>14</td><td>19</td><td>9</td><td>7</td><td>5</td><td>11</td><td>4</td><td>11</td><td>9</td><td>7</td><td>9</td><td>9</td><td>4</td><td>5</td><td>12</td><td>72</td><td>6</td><td>10</td><td>10</td><td>10</td><td>2</td><td>7</td><td>10</td><td>7</td><td>2</td><td>7</td><td>4</td><td>9</td><td>10</td><td>1</td><td>5</td></tr><tr><td>&quot;Bernard_H._Rae…</td><td>17</td><td>16</td><td>21</td><td>20</td><td>19</td><td>18</td><td>10</td><td>9</td><td>17</td><td>5</td><td>8</td><td>10</td><td>5</td><td>28</td><td>19</td><td>11</td><td>17</td><td>14</td><td>13</td><td>19</td><td>16</td><td>13</td><td>24</td><td>18</td><td>10</td><td>10</td><td>14</td><td>13</td><td>14</td><td>19</td><td>5</td><td>15</td><td>26</td><td>12</td><td>13</td><td>10</td><td>&hellip;</td><td>2</td><td>1</td><td>4</td><td>1</td><td>5</td><td>5</td><td>3</td><td>5</td><td>2</td><td>2</td><td>3</td><td>4</td><td>null</td><td>12</td><td>4</td><td>3</td><td>2</td><td>1</td><td>4</td><td>null</td><td>1</td><td>3</td><td>8</td><td>6</td><td>3</td><td>1</td><td>5</td><td>1</td><td>3</td><td>5</td><td>7</td><td>3</td><td>1</td><td>2</td><td>null</td><td>1</td><td>2</td></tr><tr><td>&quot;Leigh_Magar&quot;</td><td>47</td><td>46</td><td>64</td><td>36</td><td>56</td><td>45</td><td>41</td><td>26</td><td>30</td><td>48</td><td>15</td><td>26</td><td>19</td><td>38</td><td>28</td><td>38</td><td>37</td><td>51</td><td>24</td><td>36</td><td>17</td><td>15</td><td>45</td><td>39</td><td>26</td><td>22</td><td>21</td><td>14</td><td>19</td><td>23</td><td>16</td><td>32</td><td>36</td><td>21</td><td>18</td><td>20</td><td>&hellip;</td><td>8</td><td>8</td><td>9</td><td>13</td><td>6</td><td>3</td><td>12</td><td>13</td><td>12</td><td>5</td><td>8</td><td>8</td><td>11</td><td>3</td><td>9</td><td>8</td><td>13</td><td>13</td><td>9</td><td>20</td><td>9</td><td>8</td><td>14</td><td>27</td><td>14</td><td>13</td><td>20</td><td>13</td><td>10</td><td>9</td><td>5</td><td>9</td><td>9</td><td>8</td><td>5</td><td>10</td><td>2</td></tr><tr><td>&quot;Carolyn_Stanfo…</td><td>null</td><td>null</td><td>null</td><td>null</td><td>null</td><td>null</td><td>null</td><td>null</td><td>null</td><td>null</td><td>null</td><td>null</td><td>null</td><td>null</td><td>null</td><td>null</td><td>null</td><td>null</td><td>null</td><td>null</td><td>null</td><td>null</td><td>null</td><td>null</td><td>null</td><td>null</td><td>null</td><td>null</td><td>null</td><td>null</td><td>null</td><td>null</td><td>null</td><td>null</td><td>null</td><td>null</td><td>&hellip;</td><td>221</td><td>294</td><td>359</td><td>286</td><td>650</td><td>202</td><td>170</td><td>169</td><td>83</td><td>97</td><td>107</td><td>112</td><td>70</td><td>78</td><td>88</td><td>64</td><td>54</td><td>78</td><td>84</td><td>74</td><td>131</td><td>74</td><td>86</td><td>180</td><td>105</td><td>75</td><td>76</td><td>73</td><td>105</td><td>56</td><td>50</td><td>89</td><td>86</td><td>59</td><td>58</td><td>50</td><td>42</td></tr><tr><td>&quot;Boncho_Novakov…</td><td>16</td><td>18</td><td>26</td><td>19</td><td>21</td><td>16</td><td>11</td><td>14</td><td>18</td><td>6</td><td>6</td><td>15</td><td>4</td><td>10</td><td>10</td><td>15</td><td>14</td><td>12</td><td>11</td><td>18</td><td>14</td><td>4</td><td>22</td><td>13</td><td>15</td><td>16</td><td>8</td><td>13</td><td>11</td><td>8</td><td>7</td><td>14</td><td>18</td><td>9</td><td>7</td><td>11</td><td>&hellip;</td><td>4</td><td>7</td><td>5</td><td>3</td><td>18</td><td>39</td><td>5</td><td>3</td><td>5</td><td>5</td><td>2</td><td>4</td><td>5</td><td>3</td><td>5</td><td>5</td><td>4</td><td>6</td><td>7</td><td>3</td><td>4</td><td>5</td><td>5</td><td>5</td><td>3</td><td>9</td><td>2</td><td>3</td><td>4</td><td>4</td><td>3</td><td>7</td><td>9</td><td>2</td><td>3</td><td>2</td><td>3</td></tr><tr><td>&quot;Margaret_Hodge…</td><td>5665</td><td>2932</td><td>2420</td><td>2482</td><td>3097</td><td>2693</td><td>1955</td><td>1867</td><td>3365</td><td>2059</td><td>1808</td><td>3435</td><td>4174</td><td>12893</td><td>4331</td><td>4311</td><td>3434</td><td>2573</td><td>2110</td><td>1829</td><td>1813</td><td>1953</td><td>1667</td><td>2523</td><td>2442</td><td>3777</td><td>1705</td><td>1577</td><td>5159</td><td>1650</td><td>3699</td><td>1623</td><td>2057</td><td>1368</td><td>2277</td><td>2749</td><td>&hellip;</td><td>2260</td><td>1819</td><td>2069</td><td>1605</td><td>1630</td><td>1890</td><td>2082</td><td>1391</td><td>1126</td><td>1351</td><td>2217</td><td>1430</td><td>4400</td><td>1788</td><td>2612</td><td>1680</td><td>1471</td><td>1743</td><td>1336</td><td>2097</td><td>1272</td><td>1918</td><td>2196</td><td>1194</td><td>1204</td><td>1536</td><td>2234</td><td>1909</td><td>1311</td><td>1261</td><td>3170</td><td>2097</td><td>1026</td><td>1335</td><td>5767</td><td>2327</td><td>3310</td></tr><tr><td>&quot;Carmen_Belén_R…</td><td>null</td><td>null</td><td>null</td><td>null</td><td>null</td><td>25</td><td>26</td><td>31</td><td>27</td><td>60</td><td>35</td><td>32</td><td>29</td><td>20</td><td>20</td><td>51</td><td>23</td><td>31</td><td>37</td><td>31</td><td>59</td><td>46</td><td>51</td><td>35</td><td>28</td><td>31</td><td>34</td><td>34</td><td>25</td><td>42</td><td>27</td><td>39</td><td>118</td><td>56</td><td>36</td><td>46</td><td>&hellip;</td><td>17</td><td>24</td><td>56</td><td>80</td><td>25</td><td>32</td><td>31</td><td>13</td><td>24</td><td>25</td><td>18</td><td>27</td><td>27</td><td>18</td><td>46</td><td>54</td><td>20</td><td>24</td><td>30</td><td>12</td><td>14</td><td>12</td><td>25</td><td>27</td><td>10</td><td>31</td><td>36</td><td>63</td><td>29</td><td>12</td><td>10</td><td>15</td><td>36</td><td>20</td><td>15</td><td>20</td><td>17</td></tr><tr><td>&quot;M._Satish_Redd…</td><td>null</td><td>null</td><td>null</td><td>null</td><td>null</td><td>null</td><td>null</td><td>null</td><td>null</td><td>null</td><td>null</td><td>null</td><td>null</td><td>null</td><td>null</td><td>null</td><td>null</td><td>null</td><td>null</td><td>null</td><td>null</td><td>null</td><td>null</td><td>null</td><td>null</td><td>null</td><td>null</td><td>null</td><td>null</td><td>32</td><td>49</td><td>104</td><td>102</td><td>84</td><td>138</td><td>277</td><td>&hellip;</td><td>111</td><td>152</td><td>78</td><td>79</td><td>62</td><td>590</td><td>93</td><td>119</td><td>317</td><td>128</td><td>66</td><td>63</td><td>99</td><td>78</td><td>79</td><td>104</td><td>109</td><td>121</td><td>200</td><td>129</td><td>144</td><td>156</td><td>121</td><td>158</td><td>266</td><td>233</td><td>280</td><td>313</td><td>517</td><td>1188</td><td>155</td><td>119</td><td>136</td><td>128</td><td>90</td><td>124</td><td>158</td></tr><tr><td>&quot;Carlos_Carneir…</td><td>null</td><td>null</td><td>null</td><td>null</td><td>null</td><td>null</td><td>null</td><td>null</td><td>null</td><td>null</td><td>null</td><td>null</td><td>null</td><td>null</td><td>null</td><td>null</td><td>null</td><td>null</td><td>null</td><td>null</td><td>null</td><td>null</td><td>null</td><td>null</td><td>null</td><td>null</td><td>null</td><td>null</td><td>null</td><td>null</td><td>null</td><td>null</td><td>null</td><td>null</td><td>null</td><td>null</td><td>&hellip;</td><td>5</td><td>4</td><td>7</td><td>3</td><td>5</td><td>7</td><td>4</td><td>6</td><td>5</td><td>3</td><td>10</td><td>17</td><td>5</td><td>5</td><td>5</td><td>4</td><td>7</td><td>3</td><td>10</td><td>1</td><td>6</td><td>10</td><td>10</td><td>10</td><td>4</td><td>2</td><td>1</td><td>5</td><td>6</td><td>7</td><td>3</td><td>3</td><td>3</td><td>2</td><td>3</td><td>5</td><td>1</td></tr><tr><td>&quot;Niko_Springer&quot;</td><td>null</td><td>null</td><td>null</td><td>null</td><td>null</td><td>null</td><td>null</td><td>null</td><td>null</td><td>null</td><td>null</td><td>null</td><td>null</td><td>null</td><td>null</td><td>null</td><td>null</td><td>null</td><td>null</td><td>null</td><td>null</td><td>null</td><td>null</td><td>null</td><td>null</td><td>null</td><td>null</td><td>null</td><td>null</td><td>null</td><td>null</td><td>null</td><td>null</td><td>null</td><td>null</td><td>null</td><td>&hellip;</td><td>null</td><td>null</td><td>null</td><td>null</td><td>null</td><td>null</td><td>null</td><td>null</td><td>null</td><td>null</td><td>null</td><td>null</td><td>null</td><td>null</td><td>null</td><td>32</td><td>19</td><td>9</td><td>42</td><td>20</td><td>14</td><td>24</td><td>35</td><td>106</td><td>71</td><td>103</td><td>160</td><td>66</td><td>137</td><td>14</td><td>8</td><td>9</td><td>13</td><td>4</td><td>21</td><td>73</td><td>23</td></tr><tr><td>&quot;Arnd_Goldschmi…</td><td>30</td><td>33</td><td>24</td><td>33</td><td>41</td><td>20</td><td>8</td><td>22</td><td>14</td><td>9</td><td>22</td><td>13</td><td>19</td><td>24</td><td>11</td><td>16</td><td>25</td><td>22</td><td>13</td><td>23</td><td>16</td><td>9</td><td>31</td><td>22</td><td>17</td><td>19</td><td>15</td><td>22</td><td>24</td><td>12</td><td>11</td><td>17</td><td>25</td><td>12</td><td>12</td><td>15</td><td>&hellip;</td><td>6</td><td>8</td><td>6</td><td>5</td><td>4</td><td>6</td><td>3</td><td>4</td><td>12</td><td>5</td><td>3</td><td>3</td><td>6</td><td>2</td><td>null</td><td>3</td><td>6</td><td>16</td><td>4</td><td>6</td><td>2</td><td>3</td><td>6</td><td>2</td><td>2</td><td>1</td><td>5</td><td>1</td><td>5</td><td>7</td><td>3</td><td>2</td><td>5</td><td>1</td><td>1</td><td>3</td><td>3</td></tr><tr><td>&quot;Douglas_Durst&quot;</td><td>5586</td><td>4709</td><td>3786</td><td>3935</td><td>3832</td><td>3260</td><td>3946</td><td>6639</td><td>6854</td><td>4619</td><td>2613</td><td>3380</td><td>2588</td><td>1947</td><td>2138</td><td>3486</td><td>2927</td><td>2395</td><td>2651</td><td>4052</td><td>2498</td><td>3319</td><td>2000</td><td>1819</td><td>2278</td><td>1822</td><td>2251</td><td>1965</td><td>2438</td><td>2011</td><td>2639</td><td>1562</td><td>1925</td><td>1780</td><td>2212</td><td>2293</td><td>&hellip;</td><td>1435</td><td>1451</td><td>1496</td><td>1836</td><td>4293</td><td>2973</td><td>1998</td><td>2027</td><td>4772</td><td>11096</td><td>12383</td><td>2670</td><td>1549</td><td>13969</td><td>1447</td><td>2341</td><td>1557</td><td>1305</td><td>1342</td><td>1260</td><td>1552</td><td>1112</td><td>1093</td><td>1036</td><td>1060</td><td>1150</td><td>1153</td><td>1489</td><td>1039</td><td>1152</td><td>1224</td><td>1133</td><td>1177</td><td>881</td><td>985</td><td>898</td><td>1032</td></tr><tr><td>&quot;Tássio&quot;</td><td>null</td><td>null</td><td>null</td><td>null</td><td>null</td><td>null</td><td>null</td><td>null</td><td>null</td><td>null</td><td>null</td><td>null</td><td>null</td><td>null</td><td>null</td><td>null</td><td>null</td><td>null</td><td>null</td><td>null</td><td>null</td><td>null</td><td>null</td><td>null</td><td>null</td><td>null</td><td>null</td><td>null</td><td>null</td><td>null</td><td>null</td><td>null</td><td>null</td><td>null</td><td>null</td><td>null</td><td>&hellip;</td><td>null</td><td>null</td><td>null</td><td>null</td><td>null</td><td>null</td><td>null</td><td>null</td><td>null</td><td>null</td><td>null</td><td>6</td><td>9</td><td>14</td><td>10</td><td>10</td><td>11</td><td>8</td><td>15</td><td>23</td><td>25</td><td>13</td><td>21</td><td>14</td><td>16</td><td>14</td><td>10</td><td>11</td><td>17</td><td>12</td><td>8</td><td>13</td><td>6</td><td>19</td><td>8</td><td>10</td><td>16</td></tr><tr><td>&quot;Bryant_Bowles&quot;</td><td>123</td><td>151</td><td>122</td><td>103</td><td>161</td><td>125</td><td>87</td><td>102</td><td>96</td><td>126</td><td>131</td><td>225</td><td>110</td><td>71</td><td>111</td><td>107</td><td>104</td><td>88</td><td>107</td><td>94</td><td>109</td><td>93</td><td>123</td><td>246</td><td>98</td><td>85</td><td>77</td><td>138</td><td>60</td><td>75</td><td>93</td><td>87</td><td>106</td><td>90</td><td>79</td><td>208</td><td>&hellip;</td><td>50</td><td>78</td><td>81</td><td>71</td><td>123</td><td>59</td><td>51</td><td>55</td><td>64</td><td>53</td><td>58</td><td>48</td><td>84</td><td>32</td><td>49</td><td>46</td><td>92</td><td>65</td><td>41</td><td>38</td><td>40</td><td>32</td><td>53</td><td>40</td><td>47</td><td>49</td><td>43</td><td>41</td><td>114</td><td>48</td><td>53</td><td>16</td><td>293</td><td>101</td><td>60</td><td>55</td><td>54</td></tr><tr><td>&quot;Josef_Hermann_…</td><td>51</td><td>48</td><td>32</td><td>40</td><td>37</td><td>33</td><td>28</td><td>25</td><td>25</td><td>18</td><td>12</td><td>23</td><td>24</td><td>25</td><td>22</td><td>31</td><td>21</td><td>30</td><td>32</td><td>31</td><td>37</td><td>16</td><td>36</td><td>32</td><td>25</td><td>27</td><td>21</td><td>12</td><td>13</td><td>20</td><td>15</td><td>16</td><td>24</td><td>24</td><td>33</td><td>17</td><td>&hellip;</td><td>22</td><td>36</td><td>46</td><td>29</td><td>38</td><td>30</td><td>32</td><td>24</td><td>18</td><td>24</td><td>23</td><td>26</td><td>28</td><td>39</td><td>30</td><td>47</td><td>23</td><td>33</td><td>25</td><td>32</td><td>41</td><td>53</td><td>30</td><td>22</td><td>15</td><td>27</td><td>18</td><td>20</td><td>23</td><td>20</td><td>24</td><td>8</td><td>23</td><td>24</td><td>19</td><td>13</td><td>19</td></tr><tr><td>&quot;Mark_Fox_(bask…</td><td>506</td><td>311</td><td>325</td><td>306</td><td>320</td><td>470</td><td>633</td><td>868</td><td>1026</td><td>889</td><td>1936</td><td>619</td><td>279</td><td>220</td><td>242</td><td>242</td><td>259</td><td>327</td><td>875</td><td>699</td><td>1274</td><td>2452</td><td>2669</td><td>610</td><td>288</td><td>256</td><td>189</td><td>221</td><td>246</td><td>446</td><td>659</td><td>760</td><td>1630</td><td>2895</td><td>7533</td><td>771</td><td>&hellip;</td><td>758</td><td>864</td><td>878</td><td>1932</td><td>1100</td><td>334</td><td>240</td><td>184</td><td>221</td><td>251</td><td>376</td><td>911</td><td>618</td><td>1029</td><td>1140</td><td>2474</td><td>477</td><td>286</td><td>282</td><td>241</td><td>294</td><td>315</td><td>367</td><td>1485</td><td>1774</td><td>1056</td><td>1594</td><td>5186</td><td>624</td><td>330</td><td>252</td><td>239</td><td>253</td><td>266</td><td>253</td><td>586</td><td>398</td></tr><tr><td>&quot;Nina_Kemppel&quot;</td><td>23</td><td>34</td><td>35</td><td>28</td><td>62</td><td>26</td><td>15</td><td>24</td><td>28</td><td>19</td><td>21</td><td>28</td><td>15</td><td>19</td><td>28</td><td>38</td><td>25</td><td>28</td><td>16</td><td>30</td><td>29</td><td>17</td><td>28</td><td>25</td><td>17</td><td>28</td><td>17</td><td>21</td><td>20</td><td>32</td><td>22</td><td>28</td><td>50</td><td>95</td><td>35</td><td>34</td><td>&hellip;</td><td>16</td><td>22</td><td>10</td><td>15</td><td>11</td><td>7</td><td>16</td><td>27</td><td>15</td><td>9</td><td>11</td><td>17</td><td>16</td><td>30</td><td>34</td><td>10</td><td>18</td><td>4</td><td>11</td><td>17</td><td>13</td><td>15</td><td>12</td><td>17</td><td>11</td><td>13</td><td>10</td><td>25</td><td>10</td><td>9</td><td>8</td><td>15</td><td>15</td><td>14</td><td>13</td><td>9</td><td>10</td></tr><tr><td>&quot;Mirza_Abu_Tale…</td><td>null</td><td>null</td><td>null</td><td>null</td><td>null</td><td>null</td><td>null</td><td>null</td><td>null</td><td>null</td><td>null</td><td>null</td><td>null</td><td>null</td><td>null</td><td>null</td><td>null</td><td>209</td><td>131</td><td>57</td><td>127</td><td>132</td><td>129</td><td>106</td><td>106</td><td>104</td><td>68</td><td>80</td><td>76</td><td>80</td><td>105</td><td>125</td><td>134</td><td>131</td><td>112</td><td>93</td><td>&hellip;</td><td>104</td><td>130</td><td>147</td><td>181</td><td>142</td><td>124</td><td>115</td><td>99</td><td>97</td><td>80</td><td>145</td><td>164</td><td>79</td><td>103</td><td>130</td><td>139</td><td>164</td><td>130</td><td>61</td><td>79</td><td>85</td><td>96</td><td>94</td><td>83</td><td>66</td><td>115</td><td>108</td><td>129</td><td>102</td><td>92</td><td>84</td><td>105</td><td>121</td><td>106</td><td>138</td><td>114</td><td>115</td></tr><tr><td>&quot;George_Rea&quot;</td><td>49</td><td>57</td><td>46</td><td>121</td><td>56</td><td>36</td><td>24</td><td>28</td><td>27</td><td>17</td><td>18</td><td>22</td><td>14</td><td>13</td><td>24</td><td>21</td><td>30</td><td>30</td><td>20</td><td>34</td><td>25</td><td>15</td><td>29</td><td>36</td><td>49</td><td>38</td><td>36</td><td>40</td><td>47</td><td>51</td><td>57</td><td>55</td><td>92</td><td>30</td><td>38</td><td>25</td><td>&hellip;</td><td>20</td><td>16</td><td>19</td><td>25</td><td>15</td><td>33</td><td>16</td><td>21</td><td>30</td><td>14</td><td>18</td><td>27</td><td>22</td><td>20</td><td>18</td><td>19</td><td>20</td><td>32</td><td>25</td><td>19</td><td>17</td><td>23</td><td>28</td><td>21</td><td>9</td><td>19</td><td>9</td><td>15</td><td>26</td><td>26</td><td>18</td><td>29</td><td>11</td><td>11</td><td>16</td><td>15</td><td>11</td></tr><tr><td>&quot;Helena_Carr&quot;</td><td>232</td><td>207</td><td>209</td><td>306</td><td>387</td><td>226</td><td>202</td><td>201</td><td>174</td><td>320</td><td>183</td><td>176</td><td>193</td><td>176</td><td>254</td><td>327</td><td>262</td><td>189</td><td>242</td><td>164</td><td>218</td><td>214</td><td>201</td><td>198</td><td>169</td><td>204</td><td>179</td><td>178</td><td>163</td><td>206</td><td>207</td><td>133</td><td>163</td><td>190</td><td>291</td><td>209</td><td>&hellip;</td><td>148</td><td>107</td><td>136</td><td>180</td><td>116</td><td>152</td><td>155</td><td>178</td><td>188</td><td>239</td><td>404</td><td>192</td><td>158</td><td>150</td><td>298</td><td>149</td><td>108</td><td>265</td><td>160</td><td>128</td><td>103</td><td>89</td><td>112</td><td>87</td><td>71</td><td>135</td><td>100</td><td>246</td><td>113</td><td>112</td><td>109</td><td>91</td><td>115</td><td>131</td><td>14895</td><td>7987</td><td>148</td></tr><tr><td>&quot;Ólöf_Pálsdótti…</td><td>null</td><td>null</td><td>null</td><td>null</td><td>null</td><td>null</td><td>null</td><td>null</td><td>null</td><td>null</td><td>null</td><td>null</td><td>null</td><td>null</td><td>null</td><td>null</td><td>null</td><td>null</td><td>null</td><td>null</td><td>null</td><td>null</td><td>null</td><td>null</td><td>null</td><td>null</td><td>null</td><td>null</td><td>null</td><td>null</td><td>null</td><td>null</td><td>null</td><td>null</td><td>null</td><td>null</td><td>&hellip;</td><td>28</td><td>21</td><td>17</td><td>18</td><td>17</td><td>12</td><td>13</td><td>7</td><td>7</td><td>20</td><td>25</td><td>10</td><td>8</td><td>23</td><td>10</td><td>18</td><td>12</td><td>18</td><td>9</td><td>15</td><td>12</td><td>22</td><td>20</td><td>18</td><td>12</td><td>24</td><td>12</td><td>11</td><td>31</td><td>22</td><td>12</td><td>12</td><td>9</td><td>16</td><td>14</td><td>15</td><td>13</td></tr><tr><td>&quot;Mosese_Tuipulo…</td><td>null</td><td>null</td><td>null</td><td>null</td><td>null</td><td>null</td><td>null</td><td>null</td><td>null</td><td>null</td><td>null</td><td>null</td><td>null</td><td>null</td><td>null</td><td>null</td><td>null</td><td>null</td><td>null</td><td>null</td><td>null</td><td>null</td><td>null</td><td>null</td><td>null</td><td>null</td><td>null</td><td>null</td><td>null</td><td>null</td><td>null</td><td>null</td><td>null</td><td>null</td><td>null</td><td>null</td><td>&hellip;</td><td>null</td><td>null</td><td>null</td><td>null</td><td>null</td><td>null</td><td>null</td><td>null</td><td>null</td><td>null</td><td>null</td><td>null</td><td>null</td><td>null</td><td>null</td><td>null</td><td>null</td><td>null</td><td>null</td><td>null</td><td>null</td><td>null</td><td>null</td><td>null</td><td>null</td><td>null</td><td>null</td><td>125</td><td>99</td><td>126</td><td>92</td><td>72</td><td>170</td><td>350</td><td>121</td><td>74</td><td>53</td></tr><tr><td>&quot;Ali-Akbar_Fayy…</td><td>30</td><td>52</td><td>32</td><td>27</td><td>36</td><td>32</td><td>27</td><td>24</td><td>26</td><td>22</td><td>16</td><td>12</td><td>23</td><td>23</td><td>26</td><td>15</td><td>23</td><td>8</td><td>10</td><td>18</td><td>16</td><td>19</td><td>21</td><td>21</td><td>9</td><td>12</td><td>18</td><td>9</td><td>15</td><td>17</td><td>13</td><td>23</td><td>25</td><td>8</td><td>10</td><td>12</td><td>&hellip;</td><td>4</td><td>4</td><td>5</td><td>19</td><td>4</td><td>5</td><td>11</td><td>4</td><td>7</td><td>5</td><td>13</td><td>12</td><td>3</td><td>6</td><td>7</td><td>7</td><td>4</td><td>19</td><td>28</td><td>13</td><td>3</td><td>72</td><td>9</td><td>7</td><td>5</td><td>8</td><td>1</td><td>6</td><td>6</td><td>5</td><td>9</td><td>8</td><td>5</td><td>2</td><td>5</td><td>2</td><td>9</td></tr><tr><td>&quot;Caleb_Hopkins_…</td><td>43</td><td>27</td><td>47</td><td>81</td><td>31</td><td>38</td><td>28</td><td>26</td><td>43</td><td>31</td><td>77</td><td>31</td><td>20</td><td>26</td><td>25</td><td>38</td><td>34</td><td>36</td><td>31</td><td>62</td><td>59</td><td>23</td><td>42</td><td>38</td><td>45</td><td>23</td><td>20</td><td>27</td><td>25</td><td>38</td><td>23</td><td>53</td><td>45</td><td>26</td><td>19</td><td>42</td><td>&hellip;</td><td>17</td><td>18</td><td>24</td><td>29</td><td>16</td><td>18</td><td>18</td><td>19</td><td>16</td><td>17</td><td>14</td><td>28</td><td>41</td><td>16</td><td>17</td><td>18</td><td>22</td><td>13</td><td>19</td><td>17</td><td>27</td><td>21</td><td>31</td><td>16</td><td>14</td><td>20</td><td>20</td><td>17</td><td>14</td><td>18</td><td>27</td><td>12</td><td>20</td><td>21</td><td>23</td><td>11</td><td>8</td></tr><tr><td>&quot;Alan_van_der_M…</td><td>195</td><td>232</td><td>238</td><td>233</td><td>225</td><td>255</td><td>205</td><td>151</td><td>173</td><td>124</td><td>156</td><td>174</td><td>180</td><td>185</td><td>192</td><td>192</td><td>194</td><td>153</td><td>179</td><td>161</td><td>209</td><td>234</td><td>189</td><td>159</td><td>172</td><td>146</td><td>171</td><td>117</td><td>399</td><td>228</td><td>353</td><td>130</td><td>153</td><td>122</td><td>241</td><td>186</td><td>&hellip;</td><td>5049</td><td>991</td><td>566</td><td>2098</td><td>1315</td><td>982</td><td>719</td><td>1142</td><td>3452</td><td>1118</td><td>2061</td><td>795</td><td>1294</td><td>1712</td><td>572</td><td>925</td><td>670</td><td>555</td><td>633</td><td>841</td><td>534</td><td>373</td><td>560</td><td>314</td><td>334</td><td>264</td><td>338</td><td>607</td><td>369</td><td>316</td><td>373</td><td>360</td><td>288</td><td>351</td><td>352</td><td>350</td><td>243</td></tr><tr><td>&quot;John_Cassidy_(…</td><td>85</td><td>80</td><td>115</td><td>89</td><td>83</td><td>83</td><td>81</td><td>77</td><td>60</td><td>76</td><td>64</td><td>42</td><td>72</td><td>41</td><td>51</td><td>92</td><td>63</td><td>65</td><td>45</td><td>61</td><td>56</td><td>56</td><td>75</td><td>56</td><td>51</td><td>48</td><td>54</td><td>48</td><td>39</td><td>46</td><td>47</td><td>33</td><td>64</td><td>53</td><td>42</td><td>59</td><td>&hellip;</td><td>20</td><td>42</td><td>25</td><td>31</td><td>45</td><td>22</td><td>29</td><td>20</td><td>32</td><td>38</td><td>24</td><td>19</td><td>26</td><td>39</td><td>25</td><td>34</td><td>35</td><td>33</td><td>40</td><td>41</td><td>39</td><td>36</td><td>47</td><td>31</td><td>27</td><td>42</td><td>34</td><td>29</td><td>14</td><td>26</td><td>24</td><td>30</td><td>45</td><td>49</td><td>32</td><td>26</td><td>26</td></tr><tr><td>&quot;Gaston_Amson&quot;</td><td>38</td><td>29</td><td>43</td><td>32</td><td>37</td><td>43</td><td>24</td><td>45</td><td>27</td><td>22</td><td>18</td><td>22</td><td>28</td><td>27</td><td>27</td><td>41</td><td>36</td><td>47</td><td>43</td><td>51</td><td>53</td><td>35</td><td>75</td><td>57</td><td>50</td><td>27</td><td>17</td><td>15</td><td>16</td><td>17</td><td>18</td><td>40</td><td>37</td><td>24</td><td>24</td><td>31</td><td>&hellip;</td><td>9</td><td>6</td><td>9</td><td>12</td><td>12</td><td>8</td><td>9</td><td>15</td><td>13</td><td>9</td><td>8</td><td>11</td><td>11</td><td>21</td><td>10</td><td>16</td><td>11</td><td>8</td><td>7</td><td>11</td><td>10</td><td>15</td><td>12</td><td>9</td><td>9</td><td>11</td><td>11</td><td>3</td><td>11</td><td>4</td><td>18</td><td>13</td><td>14</td><td>14</td><td>6</td><td>9</td><td>11</td></tr><tr><td>&quot;Mike_Prax&quot;</td><td>null</td><td>null</td><td>null</td><td>null</td><td>null</td><td>null</td><td>null</td><td>null</td><td>null</td><td>null</td><td>null</td><td>null</td><td>null</td><td>null</td><td>null</td><td>null</td><td>null</td><td>null</td><td>null</td><td>null</td><td>null</td><td>null</td><td>null</td><td>null</td><td>null</td><td>null</td><td>null</td><td>null</td><td>null</td><td>null</td><td>null</td><td>null</td><td>null</td><td>null</td><td>null</td><td>null</td><td>&hellip;</td><td>64</td><td>92</td><td>57</td><td>67</td><td>39</td><td>34</td><td>39</td><td>34</td><td>23</td><td>20</td><td>32</td><td>37</td><td>24</td><td>29</td><td>36</td><td>29</td><td>64</td><td>35</td><td>38</td><td>22</td><td>49</td><td>48</td><td>23</td><td>45</td><td>35</td><td>65</td><td>57</td><td>41</td><td>38</td><td>32</td><td>37</td><td>30</td><td>34</td><td>24</td><td>47</td><td>27</td><td>30</td></tr></tbody></table></div>"
      ],
      "text/plain": [
       "shape: (30, 105)\n",
       "┌────────────────────────┬─────────┬─────────┬─────────┬───┬─────────┬─────────┬─────────┬─────────┐\n",
       "│ title                  ┆ 2015-05 ┆ 2015-06 ┆ 2015-07 ┆ … ┆ 2023-09 ┆ 2023-10 ┆ 2023-11 ┆ 2023-12 │\n",
       "│ ---                    ┆ ---     ┆ ---     ┆ ---     ┆   ┆ ---     ┆ ---     ┆ ---     ┆ ---     │\n",
       "│ str                    ┆ i64     ┆ i64     ┆ i64     ┆   ┆ i64     ┆ i64     ┆ i64     ┆ i64     │\n",
       "╞════════════════════════╪═════════╪═════════╪═════════╪═══╪═════════╪═════════╪═════════╪═════════╡\n",
       "│ Neophyte_II_of_Ungro-W ┆ null    ┆ null    ┆ null    ┆ … ┆ 29      ┆ 44      ┆ 23      ┆ 25      │\n",
       "│ allachia               ┆         ┆         ┆         ┆   ┆         ┆         ┆         ┆         │\n",
       "│ Olivia_Giovetti        ┆ 26      ┆ 34      ┆ 52      ┆ … ┆ 20      ┆ 59      ┆ 41      ┆ 19      │\n",
       "│ Alexander_Grant_McLean ┆ 9       ┆ 48      ┆ 24      ┆ … ┆ 9       ┆ 10      ┆ 1       ┆ 5       │\n",
       "│ Bernard_H._Raether     ┆ 17      ┆ 16      ┆ 21      ┆ … ┆ 2       ┆ null    ┆ 1       ┆ 2       │\n",
       "│ Leigh_Magar            ┆ 47      ┆ 46      ┆ 64      ┆ … ┆ 8       ┆ 5       ┆ 10      ┆ 2       │\n",
       "│ Carolyn_Stanford_Taylo ┆ null    ┆ null    ┆ null    ┆ … ┆ 59      ┆ 58      ┆ 50      ┆ 42      │\n",
       "│ r                      ┆         ┆         ┆         ┆   ┆         ┆         ┆         ┆         │\n",
       "│ Boncho_Novakov         ┆ 16      ┆ 18      ┆ 26      ┆ … ┆ 2       ┆ 3       ┆ 2       ┆ 3       │\n",
       "│ Margaret_Hodge         ┆ 5665    ┆ 2932    ┆ 2420    ┆ … ┆ 1335    ┆ 5767    ┆ 2327    ┆ 3310    │\n",
       "│ Carmen_Belén_Richardso ┆ null    ┆ null    ┆ null    ┆ … ┆ 20      ┆ 15      ┆ 20      ┆ 17      │\n",
       "│ n                      ┆         ┆         ┆         ┆   ┆         ┆         ┆         ┆         │\n",
       "│ M._Satish_Reddy        ┆ null    ┆ null    ┆ null    ┆ … ┆ 128     ┆ 90      ┆ 124     ┆ 158     │\n",
       "│ Carlos_Carneiro_(cycli ┆ null    ┆ null    ┆ null    ┆ … ┆ 2       ┆ 3       ┆ 5       ┆ 1       │\n",
       "│ st)                    ┆         ┆         ┆         ┆   ┆         ┆         ┆         ┆         │\n",
       "│ Niko_Springer          ┆ null    ┆ null    ┆ null    ┆ … ┆ 4       ┆ 21      ┆ 73      ┆ 23      │\n",
       "│ Arnd_Goldschmidt       ┆ 30      ┆ 33      ┆ 24      ┆ … ┆ 1       ┆ 1       ┆ 3       ┆ 3       │\n",
       "│ Douglas_Durst          ┆ 5586    ┆ 4709    ┆ 3786    ┆ … ┆ 881     ┆ 985     ┆ 898     ┆ 1032    │\n",
       "│ Tássio                 ┆ null    ┆ null    ┆ null    ┆ … ┆ 19      ┆ 8       ┆ 10      ┆ 16      │\n",
       "│ Bryant_Bowles          ┆ 123     ┆ 151     ┆ 122     ┆ … ┆ 101     ┆ 60      ┆ 55      ┆ 54      │\n",
       "│ Josef_Hermann_Tautenha ┆ 51      ┆ 48      ┆ 32      ┆ … ┆ 24      ┆ 19      ┆ 13      ┆ 19      │\n",
       "│ yn                     ┆         ┆         ┆         ┆   ┆         ┆         ┆         ┆         │\n",
       "│ Mark_Fox_(basketball)  ┆ 506     ┆ 311     ┆ 325     ┆ … ┆ 266     ┆ 253     ┆ 586     ┆ 398     │\n",
       "│ Nina_Kemppel           ┆ 23      ┆ 34      ┆ 35      ┆ … ┆ 14      ┆ 13      ┆ 9       ┆ 10      │\n",
       "│ Mirza_Abu_Taleb_Khan   ┆ null    ┆ null    ┆ null    ┆ … ┆ 106     ┆ 138     ┆ 114     ┆ 115     │\n",
       "│ George_Rea             ┆ 49      ┆ 57      ┆ 46      ┆ … ┆ 11      ┆ 16      ┆ 15      ┆ 11      │\n",
       "│ Helena_Carr            ┆ 232     ┆ 207     ┆ 209     ┆ … ┆ 131     ┆ 14895   ┆ 7987    ┆ 148     │\n",
       "│ Ólöf_Pálsdóttir        ┆ null    ┆ null    ┆ null    ┆ … ┆ 16      ┆ 14      ┆ 15      ┆ 13      │\n",
       "│ Mosese_Tuipulotu       ┆ null    ┆ null    ┆ null    ┆ … ┆ 350     ┆ 121     ┆ 74      ┆ 53      │\n",
       "│ Ali-Akbar_Fayyaz       ┆ 30      ┆ 52      ┆ 32      ┆ … ┆ 2       ┆ 5       ┆ 2       ┆ 9       │\n",
       "│ Caleb_Hopkins_(colonel ┆ 43      ┆ 27      ┆ 47      ┆ … ┆ 21      ┆ 23      ┆ 11      ┆ 8       │\n",
       "│ )                      ┆         ┆         ┆         ┆   ┆         ┆         ┆         ┆         │\n",
       "│ Alan_van_der_Merwe     ┆ 195     ┆ 232     ┆ 238     ┆ … ┆ 351     ┆ 352     ┆ 350     ┆ 243     │\n",
       "│ John_Cassidy_(magician ┆ 85      ┆ 80      ┆ 115     ┆ … ┆ 49      ┆ 32      ┆ 26      ┆ 26      │\n",
       "│ )                      ┆         ┆         ┆         ┆   ┆         ┆         ┆         ┆         │\n",
       "│ Gaston_Amson           ┆ 38      ┆ 29      ┆ 43      ┆ … ┆ 14      ┆ 6       ┆ 9       ┆ 11      │\n",
       "│ Mike_Prax              ┆ null    ┆ null    ┆ null    ┆ … ┆ 24      ┆ 47      ┆ 27      ┆ 30      │\n",
       "└────────────────────────┴─────────┴─────────┴─────────┴───┴─────────┴─────────┴─────────┴─────────┘"
      ]
     },
     "execution_count": 98,
     "metadata": {},
     "output_type": "execute_result"
    }
   ],
   "source": [
    "views_df[:30]"
   ]
  },
  {
   "cell_type": "code",
   "execution_count": 118,
   "metadata": {},
   "outputs": [
    {
     "data": {
      "text/plain": [
       "array([[ 0,  0,  0, ..., 44, 23, 25],\n",
       "       [26, 34, 52, ..., 59, 41, 19],\n",
       "       [ 9, 48, 24, ..., 10,  1,  5],\n",
       "       ...,\n",
       "       [40, 29, 34, ...,  3,  1,  2],\n",
       "       [23, 52, 38, ...,  8,  7,  6],\n",
       "       [ 0,  0,  0, ..., 16,  8,  7]])"
      ]
     },
     "execution_count": 118,
     "metadata": {},
     "output_type": "execute_result"
    }
   ],
   "source": [
    "X_train = views_df.select([col for col in views_df.columns if col != 'title']).fill_null(0).to_numpy()\n",
    "X_train"
   ]
  },
  {
   "cell_type": "code",
   "execution_count": 119,
   "metadata": {},
   "outputs": [
    {
     "data": {
      "text/plain": [
       "(1976658, 104)"
      ]
     },
     "execution_count": 119,
     "metadata": {},
     "output_type": "execute_result"
    }
   ],
   "source": [
    "X_train.shape"
   ]
  },
  {
   "cell_type": "code",
   "execution_count": 120,
   "metadata": {},
   "outputs": [
    {
     "data": {
      "text/html": [
       "<pre style=\"white-space:pre;overflow-x:auto;line-height:normal;font-family:Menlo,'DejaVu Sans Mono',consolas,'Courier New',monospace\">Euclidean k-means\n",
       "</pre>\n"
      ],
      "text/plain": [
       "Euclidean k-means\n"
      ]
     },
     "metadata": {},
     "output_type": "display_data"
    },
    {
     "name": "stdout",
     "output_type": "stream",
     "text": [
      "143.854 --> 76.592 --> "
     ]
    },
    {
     "ename": "KeyboardInterrupt",
     "evalue": "",
     "output_type": "error",
     "traceback": [
      "\u001b[0;31m---------------------------------------------------------------------------\u001b[0m",
      "\u001b[0;31mKeyboardInterrupt\u001b[0m                         Traceback (most recent call last)",
      "Cell \u001b[0;32mIn[120], line 20\u001b[0m\n\u001b[1;32m     17\u001b[0m \u001b[38;5;28mprint\u001b[39m(\u001b[38;5;124m\"\u001b[39m\u001b[38;5;124mEuclidean k-means\u001b[39m\u001b[38;5;124m\"\u001b[39m)\n\u001b[1;32m     18\u001b[0m km \u001b[38;5;241m=\u001b[39m TimeSeriesKMeans(n_clusters\u001b[38;5;241m=\u001b[39m\u001b[38;5;241m3\u001b[39m, verbose\u001b[38;5;241m=\u001b[39m\u001b[38;5;28;01mTrue\u001b[39;00m, random_state\u001b[38;5;241m=\u001b[39mseed,\n\u001b[1;32m     19\u001b[0m n_jobs\u001b[38;5;241m=\u001b[39m\u001b[38;5;241m-\u001b[39m\u001b[38;5;241m1\u001b[39m)\n\u001b[0;32m---> 20\u001b[0m y_pred \u001b[38;5;241m=\u001b[39m \u001b[43mkm\u001b[49m\u001b[38;5;241;43m.\u001b[39;49m\u001b[43mfit_predict\u001b[49m\u001b[43m(\u001b[49m\u001b[43mX_train\u001b[49m\u001b[43m)\u001b[49m\n\u001b[1;32m     22\u001b[0m plt\u001b[38;5;241m.\u001b[39mfigure()\n\u001b[1;32m     23\u001b[0m \u001b[38;5;28;01mfor\u001b[39;00m yi \u001b[38;5;129;01min\u001b[39;00m \u001b[38;5;28mrange\u001b[39m(\u001b[38;5;241m3\u001b[39m):\n",
      "File \u001b[0;32m~/.conda/envs/big_data_project/lib/python3.12/site-packages/tslearn/clustering/kmeans.py:854\u001b[0m, in \u001b[0;36mTimeSeriesKMeans.fit_predict\u001b[0;34m(self, X, y)\u001b[0m\n\u001b[1;32m    834\u001b[0m \u001b[38;5;250m\u001b[39m\u001b[38;5;124;03m\"\"\"Fit k-means clustering using X and then predict the closest cluster\u001b[39;00m\n\u001b[1;32m    835\u001b[0m \u001b[38;5;124;03meach time series in X belongs to.\u001b[39;00m\n\u001b[1;32m    836\u001b[0m \n\u001b[0;32m   (...)\u001b[0m\n\u001b[1;32m    851\u001b[0m \u001b[38;5;124;03m    Index of the cluster each sample belongs to.\u001b[39;00m\n\u001b[1;32m    852\u001b[0m \u001b[38;5;124;03m\"\"\"\u001b[39;00m\n\u001b[1;32m    853\u001b[0m X \u001b[38;5;241m=\u001b[39m check_array(X, allow_nd\u001b[38;5;241m=\u001b[39m\u001b[38;5;28;01mTrue\u001b[39;00m, force_all_finite\u001b[38;5;241m=\u001b[39m\u001b[38;5;124m\"\u001b[39m\u001b[38;5;124mallow-nan\u001b[39m\u001b[38;5;124m\"\u001b[39m)\n\u001b[0;32m--> 854\u001b[0m \u001b[38;5;28;01mreturn\u001b[39;00m \u001b[38;5;28;43mself\u001b[39;49m\u001b[38;5;241;43m.\u001b[39;49m\u001b[43mfit\u001b[49m\u001b[43m(\u001b[49m\u001b[43mX\u001b[49m\u001b[43m,\u001b[49m\u001b[43m \u001b[49m\u001b[43my\u001b[49m\u001b[43m)\u001b[49m\u001b[38;5;241m.\u001b[39mlabels_\n",
      "File \u001b[0;32m~/.conda/envs/big_data_project/lib/python3.12/site-packages/tslearn/clustering/kmeans.py:821\u001b[0m, in \u001b[0;36mTimeSeriesKMeans.fit\u001b[0;34m(self, X, y)\u001b[0m\n\u001b[1;32m    819\u001b[0m     \u001b[38;5;28mprint\u001b[39m(\u001b[38;5;124m\"\u001b[39m\u001b[38;5;124mInit \u001b[39m\u001b[38;5;132;01m%d\u001b[39;00m\u001b[38;5;124m\"\u001b[39m \u001b[38;5;241m%\u001b[39m (n_successful \u001b[38;5;241m+\u001b[39m \u001b[38;5;241m1\u001b[39m))\n\u001b[1;32m    820\u001b[0m n_attempts \u001b[38;5;241m+\u001b[39m\u001b[38;5;241m=\u001b[39m \u001b[38;5;241m1\u001b[39m\n\u001b[0;32m--> 821\u001b[0m \u001b[38;5;28;43mself\u001b[39;49m\u001b[38;5;241;43m.\u001b[39;49m\u001b[43m_fit_one_init\u001b[49m\u001b[43m(\u001b[49m\u001b[43mX_\u001b[49m\u001b[43m,\u001b[49m\u001b[43m \u001b[49m\u001b[43mx_squared_norms\u001b[49m\u001b[43m,\u001b[49m\u001b[43m \u001b[49m\u001b[43mrs\u001b[49m\u001b[43m)\u001b[49m\n\u001b[1;32m    822\u001b[0m \u001b[38;5;28;01mif\u001b[39;00m \u001b[38;5;28mself\u001b[39m\u001b[38;5;241m.\u001b[39minertia_ \u001b[38;5;241m<\u001b[39m min_inertia:\n\u001b[1;32m    823\u001b[0m     best_correct_centroids \u001b[38;5;241m=\u001b[39m \u001b[38;5;28mself\u001b[39m\u001b[38;5;241m.\u001b[39mcluster_centers_\u001b[38;5;241m.\u001b[39mcopy()\n",
      "File \u001b[0;32m~/.conda/envs/big_data_project/lib/python3.12/site-packages/tslearn/clustering/kmeans.py:690\u001b[0m, in \u001b[0;36mTimeSeriesKMeans._fit_one_init\u001b[0;34m(self, X, x_squared_norms, rs)\u001b[0m\n\u001b[1;32m    688\u001b[0m \u001b[38;5;28;01mif\u001b[39;00m \u001b[38;5;28mself\u001b[39m\u001b[38;5;241m.\u001b[39mverbose:\n\u001b[1;32m    689\u001b[0m     \u001b[38;5;28mprint\u001b[39m(\u001b[38;5;124m\"\u001b[39m\u001b[38;5;132;01m%.3f\u001b[39;00m\u001b[38;5;124m\"\u001b[39m \u001b[38;5;241m%\u001b[39m \u001b[38;5;28mself\u001b[39m\u001b[38;5;241m.\u001b[39minertia_, end\u001b[38;5;241m=\u001b[39m\u001b[38;5;124m\"\u001b[39m\u001b[38;5;124m --> \u001b[39m\u001b[38;5;124m\"\u001b[39m)\n\u001b[0;32m--> 690\u001b[0m \u001b[38;5;28;43mself\u001b[39;49m\u001b[38;5;241;43m.\u001b[39;49m\u001b[43m_update_centroids\u001b[49m\u001b[43m(\u001b[49m\u001b[43mX\u001b[49m\u001b[43m)\u001b[49m\n\u001b[1;32m    692\u001b[0m \u001b[38;5;28;01mif\u001b[39;00m numpy\u001b[38;5;241m.\u001b[39mabs(old_inertia \u001b[38;5;241m-\u001b[39m \u001b[38;5;28mself\u001b[39m\u001b[38;5;241m.\u001b[39minertia_) \u001b[38;5;241m<\u001b[39m \u001b[38;5;28mself\u001b[39m\u001b[38;5;241m.\u001b[39mtol:\n\u001b[1;32m    693\u001b[0m     \u001b[38;5;28;01mbreak\u001b[39;00m\n",
      "File \u001b[0;32m~/.conda/envs/big_data_project/lib/python3.12/site-packages/tslearn/clustering/kmeans.py:762\u001b[0m, in \u001b[0;36mTimeSeriesKMeans._update_centroids\u001b[0;34m(self, X)\u001b[0m\n\u001b[1;32m    755\u001b[0m     \u001b[38;5;28mself\u001b[39m\u001b[38;5;241m.\u001b[39mcluster_centers_[k] \u001b[38;5;241m=\u001b[39m softdtw_barycenter(\n\u001b[1;32m    756\u001b[0m         X\u001b[38;5;241m=\u001b[39mX[\u001b[38;5;28mself\u001b[39m\u001b[38;5;241m.\u001b[39mlabels_ \u001b[38;5;241m==\u001b[39m k],\n\u001b[1;32m    757\u001b[0m         max_iter\u001b[38;5;241m=\u001b[39m\u001b[38;5;28mself\u001b[39m\u001b[38;5;241m.\u001b[39mmax_iter_barycenter,\n\u001b[1;32m    758\u001b[0m         init\u001b[38;5;241m=\u001b[39m\u001b[38;5;28mself\u001b[39m\u001b[38;5;241m.\u001b[39mcluster_centers_[k],\n\u001b[1;32m    759\u001b[0m         \u001b[38;5;241m*\u001b[39m\u001b[38;5;241m*\u001b[39mmetric_params\n\u001b[1;32m    760\u001b[0m     )\n\u001b[1;32m    761\u001b[0m \u001b[38;5;28;01melse\u001b[39;00m:\n\u001b[0;32m--> 762\u001b[0m     \u001b[38;5;28mself\u001b[39m\u001b[38;5;241m.\u001b[39mcluster_centers_[k] \u001b[38;5;241m=\u001b[39m \u001b[43meuclidean_barycenter\u001b[49m\u001b[43m(\u001b[49m\u001b[43mX\u001b[49m\u001b[38;5;241;43m=\u001b[39;49m\u001b[43mX\u001b[49m\u001b[43m[\u001b[49m\u001b[38;5;28;43mself\u001b[39;49m\u001b[38;5;241;43m.\u001b[39;49m\u001b[43mlabels_\u001b[49m\u001b[43m \u001b[49m\u001b[38;5;241;43m==\u001b[39;49m\u001b[43m \u001b[49m\u001b[43mk\u001b[49m\u001b[43m]\u001b[49m\u001b[43m)\u001b[49m\n",
      "File \u001b[0;32m~/.conda/envs/big_data_project/lib/python3.12/site-packages/tslearn/barycenters/euclidean.py:42\u001b[0m, in \u001b[0;36meuclidean_barycenter\u001b[0;34m(X, weights)\u001b[0m\n\u001b[1;32m      9\u001b[0m \u001b[38;5;28;01mdef\u001b[39;00m \u001b[38;5;21meuclidean_barycenter\u001b[39m(X, weights\u001b[38;5;241m=\u001b[39m\u001b[38;5;28;01mNone\u001b[39;00m):\n\u001b[1;32m     10\u001b[0m \u001b[38;5;250m    \u001b[39m\u001b[38;5;124;03m\"\"\"Standard Euclidean barycenter computed from a set of time series.\u001b[39;00m\n\u001b[1;32m     11\u001b[0m \n\u001b[1;32m     12\u001b[0m \u001b[38;5;124;03m    Parameters\u001b[39;00m\n\u001b[0;32m   (...)\u001b[0m\n\u001b[1;32m     40\u001b[0m \u001b[38;5;124;03m           [4.5]])\u001b[39;00m\n\u001b[1;32m     41\u001b[0m \u001b[38;5;124;03m    \"\"\"\u001b[39;00m\n\u001b[0;32m---> 42\u001b[0m     X_ \u001b[38;5;241m=\u001b[39m \u001b[43mto_time_series_dataset\u001b[49m\u001b[43m(\u001b[49m\u001b[43mX\u001b[49m\u001b[43m)\u001b[49m\n\u001b[1;32m     43\u001b[0m     weights \u001b[38;5;241m=\u001b[39m _set_weights(weights, X_\u001b[38;5;241m.\u001b[39mshape[\u001b[38;5;241m0\u001b[39m])\n\u001b[1;32m     44\u001b[0m     \u001b[38;5;28;01mreturn\u001b[39;00m numpy\u001b[38;5;241m.\u001b[39maverage(X_, axis\u001b[38;5;241m=\u001b[39m\u001b[38;5;241m0\u001b[39m, weights\u001b[38;5;241m=\u001b[39mweights)\n",
      "File \u001b[0;32m~/.conda/envs/big_data_project/lib/python3.12/site-packages/tslearn/utils/utils.py:226\u001b[0m, in \u001b[0;36mto_time_series_dataset\u001b[0;34m(dataset, dtype, be)\u001b[0m\n\u001b[1;32m    223\u001b[0m     dataset \u001b[38;5;241m=\u001b[39m [dataset]\n\u001b[1;32m    224\u001b[0m n_ts \u001b[38;5;241m=\u001b[39m \u001b[38;5;28mlen\u001b[39m(dataset)\n\u001b[1;32m    225\u001b[0m max_sz \u001b[38;5;241m=\u001b[39m \u001b[38;5;28mmax\u001b[39m(\n\u001b[0;32m--> 226\u001b[0m     [\u001b[43mts_size\u001b[49m\u001b[43m(\u001b[49m\u001b[43mto_time_series\u001b[49m\u001b[43m(\u001b[49m\u001b[43mts\u001b[49m\u001b[43m,\u001b[49m\u001b[43m \u001b[49m\u001b[43mremove_nans\u001b[49m\u001b[38;5;241;43m=\u001b[39;49m\u001b[38;5;28;43;01mTrue\u001b[39;49;00m\u001b[43m,\u001b[49m\u001b[43m \u001b[49m\u001b[43mbe\u001b[49m\u001b[38;5;241;43m=\u001b[39;49m\u001b[43mbe\u001b[49m\u001b[43m)\u001b[49m\u001b[43m)\u001b[49m \u001b[38;5;28;01mfor\u001b[39;00m ts \u001b[38;5;129;01min\u001b[39;00m dataset]\n\u001b[1;32m    227\u001b[0m )\n\u001b[1;32m    228\u001b[0m d \u001b[38;5;241m=\u001b[39m be\u001b[38;5;241m.\u001b[39mshape(to_time_series(dataset[\u001b[38;5;241m0\u001b[39m], be\u001b[38;5;241m=\u001b[39mbe))[\u001b[38;5;241m1\u001b[39m]\n\u001b[1;32m    229\u001b[0m dataset_out \u001b[38;5;241m=\u001b[39m be\u001b[38;5;241m.\u001b[39mzeros((n_ts, max_sz, d), dtype\u001b[38;5;241m=\u001b[39mdtype) \u001b[38;5;241m+\u001b[39m be\u001b[38;5;241m.\u001b[39mnan\n",
      "File \u001b[0;32m~/.conda/envs/big_data_project/lib/python3.12/site-packages/tslearn/utils/utils.py:445\u001b[0m, in \u001b[0;36mts_size\u001b[0;34m(ts, be)\u001b[0m\n\u001b[1;32m    404\u001b[0m \u001b[38;5;28;01mdef\u001b[39;00m \u001b[38;5;21mts_size\u001b[39m(ts, be\u001b[38;5;241m=\u001b[39m\u001b[38;5;28;01mNone\u001b[39;00m):\n\u001b[1;32m    405\u001b[0m \u001b[38;5;250m    \u001b[39m\u001b[38;5;124;03m\"\"\"Returns actual time series size.\u001b[39;00m\n\u001b[1;32m    406\u001b[0m \n\u001b[1;32m    407\u001b[0m \u001b[38;5;124;03m    Final timesteps that have `NaN` values for all dimensions will be removed\u001b[39;00m\n\u001b[0;32m   (...)\u001b[0m\n\u001b[1;32m    443\u001b[0m \u001b[38;5;124;03m    3\u001b[39;00m\n\u001b[1;32m    444\u001b[0m \u001b[38;5;124;03m    \"\"\"\u001b[39;00m\n\u001b[0;32m--> 445\u001b[0m     be \u001b[38;5;241m=\u001b[39m \u001b[43minstantiate_backend\u001b[49m\u001b[43m(\u001b[49m\u001b[43mbe\u001b[49m\u001b[43m,\u001b[49m\u001b[43m \u001b[49m\u001b[43mts\u001b[49m\u001b[43m)\u001b[49m\n\u001b[1;32m    446\u001b[0m     ts_ \u001b[38;5;241m=\u001b[39m to_time_series(ts, be\u001b[38;5;241m=\u001b[39mbe)\n\u001b[1;32m    447\u001b[0m     sz \u001b[38;5;241m=\u001b[39m be\u001b[38;5;241m.\u001b[39mshape(ts_)[\u001b[38;5;241m0\u001b[39m]\n",
      "File \u001b[0;32m~/.conda/envs/big_data_project/lib/python3.12/site-packages/tslearn/backend/backend.py:35\u001b[0m, in \u001b[0;36minstantiate_backend\u001b[0;34m(*args)\u001b[0m\n\u001b[1;32m     33\u001b[0m     \u001b[38;5;28;01mreturn\u001b[39;00m arg\n\u001b[1;32m     34\u001b[0m \u001b[38;5;28;01mif\u001b[39;00m \u001b[38;5;124m\"\u001b[39m\u001b[38;5;124mnumpy\u001b[39m\u001b[38;5;124m\"\u001b[39m \u001b[38;5;129;01min\u001b[39;00m \u001b[38;5;124mf\u001b[39m\u001b[38;5;124m\"\u001b[39m\u001b[38;5;132;01m{\u001b[39;00m\u001b[38;5;28mtype\u001b[39m(arg)\u001b[38;5;132;01m}\u001b[39;00m\u001b[38;5;124m\"\u001b[39m \u001b[38;5;129;01mor\u001b[39;00m \u001b[38;5;124m\"\u001b[39m\u001b[38;5;124mnumpy\u001b[39m\u001b[38;5;124m\"\u001b[39m \u001b[38;5;129;01min\u001b[39;00m \u001b[38;5;124mf\u001b[39m\u001b[38;5;124m\"\u001b[39m\u001b[38;5;132;01m{\u001b[39;00marg\u001b[38;5;132;01m}\u001b[39;00m\u001b[38;5;124m\"\u001b[39m\u001b[38;5;241m.\u001b[39mlower():\n\u001b[0;32m---> 35\u001b[0m     \u001b[38;5;28;01mreturn\u001b[39;00m \u001b[43mBackend\u001b[49m\u001b[43m(\u001b[49m\u001b[38;5;124;43m\"\u001b[39;49m\u001b[38;5;124;43mnumpy\u001b[39;49m\u001b[38;5;124;43m\"\u001b[39;49m\u001b[43m)\u001b[49m\n\u001b[1;32m     36\u001b[0m \u001b[38;5;28;01mif\u001b[39;00m \u001b[38;5;124m\"\u001b[39m\u001b[38;5;124mtorch\u001b[39m\u001b[38;5;124m\"\u001b[39m \u001b[38;5;129;01min\u001b[39;00m \u001b[38;5;124mf\u001b[39m\u001b[38;5;124m\"\u001b[39m\u001b[38;5;132;01m{\u001b[39;00m\u001b[38;5;28mtype\u001b[39m(arg)\u001b[38;5;132;01m}\u001b[39;00m\u001b[38;5;124m\"\u001b[39m \u001b[38;5;129;01mor\u001b[39;00m \u001b[38;5;124m\"\u001b[39m\u001b[38;5;124mtorch\u001b[39m\u001b[38;5;124m\"\u001b[39m \u001b[38;5;129;01min\u001b[39;00m \u001b[38;5;124mf\u001b[39m\u001b[38;5;124m\"\u001b[39m\u001b[38;5;132;01m{\u001b[39;00marg\u001b[38;5;132;01m}\u001b[39;00m\u001b[38;5;124m\"\u001b[39m\u001b[38;5;241m.\u001b[39mlower():\n\u001b[1;32m     37\u001b[0m     \u001b[38;5;28;01mreturn\u001b[39;00m Backend(\u001b[38;5;124m\"\u001b[39m\u001b[38;5;124mpytorch\u001b[39m\u001b[38;5;124m\"\u001b[39m)\n",
      "File \u001b[0;32m~/.conda/envs/big_data_project/lib/python3.12/site-packages/tslearn/backend/backend.py:83\u001b[0m, in \u001b[0;36mBackend.__init__\u001b[0;34m(self, data)\u001b[0m\n\u001b[1;32m     81\u001b[0m \u001b[38;5;28;01mfor\u001b[39;00m element \u001b[38;5;129;01min\u001b[39;00m \u001b[38;5;28mdir\u001b[39m(\u001b[38;5;28mself\u001b[39m\u001b[38;5;241m.\u001b[39mbackend):\n\u001b[1;32m     82\u001b[0m     \u001b[38;5;28;01mif\u001b[39;00m \u001b[38;5;124m\"\u001b[39m\u001b[38;5;124m__\u001b[39m\u001b[38;5;124m\"\u001b[39m \u001b[38;5;129;01mnot\u001b[39;00m \u001b[38;5;129;01min\u001b[39;00m element:\n\u001b[0;32m---> 83\u001b[0m         \u001b[38;5;28;43msetattr\u001b[39;49m\u001b[43m(\u001b[49m\u001b[38;5;28;43mself\u001b[39;49m\u001b[43m,\u001b[49m\u001b[43m \u001b[49m\u001b[43melement\u001b[49m\u001b[43m,\u001b[49m\u001b[43m \u001b[49m\u001b[38;5;28;43mgetattr\u001b[39;49m\u001b[43m(\u001b[49m\u001b[38;5;28;43mself\u001b[39;49m\u001b[38;5;241;43m.\u001b[39;49m\u001b[43mbackend\u001b[49m\u001b[43m,\u001b[49m\u001b[43m \u001b[49m\u001b[43melement\u001b[49m\u001b[43m)\u001b[49m\u001b[43m)\u001b[49m\n\u001b[1;32m     85\u001b[0m \u001b[38;5;28mself\u001b[39m\u001b[38;5;241m.\u001b[39mis_numpy \u001b[38;5;241m=\u001b[39m \u001b[38;5;28mself\u001b[39m\u001b[38;5;241m.\u001b[39mbackend_string \u001b[38;5;241m==\u001b[39m \u001b[38;5;124m\"\u001b[39m\u001b[38;5;124mnumpy\u001b[39m\u001b[38;5;124m\"\u001b[39m\n\u001b[1;32m     86\u001b[0m \u001b[38;5;28mself\u001b[39m\u001b[38;5;241m.\u001b[39mis_pytorch \u001b[38;5;241m=\u001b[39m \u001b[38;5;28mself\u001b[39m\u001b[38;5;241m.\u001b[39mbackend_string \u001b[38;5;241m==\u001b[39m \u001b[38;5;124m\"\u001b[39m\u001b[38;5;124mpytorch\u001b[39m\u001b[38;5;124m\"\u001b[39m\n",
      "\u001b[0;31mKeyboardInterrupt\u001b[0m: "
     ]
    }
   ],
   "source": [
    "import numpy\n",
    "import matplotlib.pyplot as plt\n",
    "\n",
    "from tslearn.clustering import TimeSeriesKMeans\n",
    "from tslearn.datasets import CachedDatasets\n",
    "from tslearn.preprocessing import TimeSeriesScalerMeanVariance, \\\n",
    "    TimeSeriesResampler\n",
    "\n",
    "seed = 0\n",
    "numpy.random.seed(seed)\n",
    "\n",
    "sz = X_train.shape[1]\n",
    "\n",
    "X_train = TimeSeriesScalerMeanVariance().fit_transform(X_train)\n",
    "\n",
    "# Euclidean k-means\n",
    "print(\"Euclidean k-means\")\n",
    "km = TimeSeriesKMeans(n_clusters=3, verbose=True, random_state=seed,\n",
    "n_jobs=-1)\n",
    "y_pred = km.fit_predict(X_train)\n",
    "\n",
    "plt.figure()\n",
    "for yi in range(3):\n",
    "    plt.subplot(3, 3, yi + 1)\n",
    "    for xx in X_train[y_pred == yi]:\n",
    "        plt.plot(xx.ravel(), \"k-\", alpha=.2)\n",
    "    plt.plot(km.cluster_centers_[yi].ravel(), \"r-\")\n",
    "    plt.xlim(0, sz)\n",
    "    plt.ylim(-4, 4)\n",
    "    plt.text(0.55, 0.85,'Cluster %d' % (yi + 1),\n",
    "             transform=plt.gca().transAxes)\n",
    "    if yi == 1:\n",
    "        plt.title(\"Euclidean $k$-means\")\n",
    "\n",
    "# DBA-k-means\n",
    "print(\"DBA k-means\")\n",
    "dba_km = TimeSeriesKMeans(n_clusters=3,\n",
    "                          n_init=2,\n",
    "                          metric=\"dtw\",\n",
    "                          verbose=True,\n",
    "                          max_iter_barycenter=10,\n",
    "                          random_state=seed,\n",
    "                          n_jobs=-1)\n",
    "y_pred = dba_km.fit_predict(X_train)\n",
    "\n",
    "for yi in range(3):\n",
    "    plt.subplot(3, 3, 4 + yi)\n",
    "    for xx in X_train[y_pred == yi]:\n",
    "        plt.plot(xx.ravel(), \"k-\", alpha=.2)\n",
    "    plt.plot(dba_km.cluster_centers_[yi].ravel(), \"r-\")\n",
    "    plt.xlim(0, sz)\n",
    "    plt.ylim(-4, 4)\n",
    "    plt.text(0.55, 0.85,'Cluster %d' % (yi + 1),\n",
    "             transform=plt.gca().transAxes)\n",
    "    if yi == 1:\n",
    "        plt.title(\"DBA $k$-means\")\n",
    "\n",
    "\n",
    "plt.tight_layout()\n",
    "plt.show()"
   ]
  },
  {
   "cell_type": "code",
   "execution_count": 112,
   "metadata": {},
   "outputs": [
    {
     "data": {
      "text/plain": [
       "70.60124743054607"
      ]
     },
     "execution_count": 112,
     "metadata": {},
     "output_type": "execute_result"
    }
   ],
   "source": [
    "km.inertia_"
   ]
  },
  {
   "cell_type": "code",
   "execution_count": 114,
   "metadata": {},
   "outputs": [
    {
     "data": {
      "text/plain": [
       "array([2, 1, 1, 0, 0, 2, 0, 1, 2, 1, 2, 2, 0, 0, 2, 0, 0, 1, 1, 2, 0, 1,\n",
       "       2, 2, 0, 0, 1, 0, 0, 2, 0, 1, 1, 2, 0, 0, 0, 0, 0, 0, 0, 0, 0, 0,\n",
       "       0, 0, 1, 0, 0, 0, 1, 1, 0, 2, 0, 1, 0, 2, 1, 0, 2, 0, 2, 0, 1, 2,\n",
       "       2, 2, 0, 0, 1, 1, 2, 2, 1, 1, 0, 1, 1, 0, 2, 0, 2, 0, 2, 1, 2, 0,\n",
       "       1, 1, 1, 1, 1, 0, 1, 0, 0, 2, 2, 2])"
      ]
     },
     "execution_count": 114,
     "metadata": {},
     "output_type": "execute_result"
    }
   ],
   "source": [
    "y_pred"
   ]
  },
  {
   "cell_type": "code",
   "execution_count": 115,
   "metadata": {},
   "outputs": [],
   "source": [
    "y = views_df[:100].with_columns(pl.Series(name='cluster', values=y_pred))"
   ]
  },
  {
   "cell_type": "markdown",
   "metadata": {},
   "source": [
    "https://github.com/aeon-toolkit/aeon/blob/4a58c4dba5bb37e43979368ad9cf092540e71786/examples/segmentation/segmentation_with_clasp.ipynb"
   ]
  }
 ],
 "metadata": {
  "kernelspec": {
   "display_name": "big_data_project",
   "language": "python",
   "name": "python3"
  },
  "language_info": {
   "codemirror_mode": {
    "name": "ipython",
    "version": 3
   },
   "file_extension": ".py",
   "mimetype": "text/x-python",
   "name": "python",
   "nbconvert_exporter": "python",
   "pygments_lexer": "ipython3",
   "version": "3.12.2"
  }
 },
 "nbformat": 4,
 "nbformat_minor": 2
}

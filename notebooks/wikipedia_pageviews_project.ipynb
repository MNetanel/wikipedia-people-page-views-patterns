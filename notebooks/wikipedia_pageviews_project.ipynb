{
 "cells": [
  {
   "cell_type": "markdown",
   "metadata": {},
   "source": [
    "<div align='center'><strong>Wikipedia Pageviews Project</strong>\n",
    "<br />\n",
    "<i>Netanel Madmoni</i>\n",
    "</div>\n",
    "\n",
    "----------------"
   ]
  },
  {
   "cell_type": "markdown",
   "metadata": {},
   "source": [
    "# Introduction"
   ]
  },
  {
   "cell_type": "code",
   "execution_count": 1,
   "metadata": {},
   "outputs": [],
   "source": [
    "#imports\n",
    "import numpy as np\n",
    "import pandas as pd\n",
    "import polars as pl\n",
    "from pathlib import Path\n",
    "from tqdm import tqdm\n",
    "from functools import reduce\n",
    "from itertools import product\n",
    "import matplotlib.pyplot as plt\n",
    "from dotenv import load_dotenv\n",
    "import os\n",
    "import json\n",
    "import seaborn as sns\n",
    "from rich import print\n",
    "from IPython.display import Image\n",
    "\n",
    "load_dotenv()\n",
    "\n",
    "RAW_DATA_DIR = Path(os.getenv('RAW_DATA_DIR'))\n",
    "PROCESSED_DATA_DIR = Path(os.getenv('PROCESSED_DATA_DIR'))"
   ]
  },
  {
   "cell_type": "markdown",
   "metadata": {},
   "source": [
    "# Raw Data Acquisition"
   ]
  },
  {
   "cell_type": "markdown",
   "metadata": {},
   "source": [
    "1. Get List of people on Wikipedia\n",
    "```sql\n",
    "SELECT DISTINCT en_wiki -- page title name in english wikipedia\t\n",
    "FROM  `rising-theater-416315.wikipedia_pageviews.wikidata`,\n",
    "      UNNEST(instance_of) AS instance_of_struct\n",
    "\n",
    "    \n",
    "WHERE instance_of_struct.numeric_id = 5 -- instance_of = 5 => person\n",
    "```\n",
    "\n",
    "2. Get pagevoew data for those people\n",
    "\n",
    "      ```sql\n",
    "      SELECT title, DATETIME_TRUNC(datehour, MONTH) AS month, SUM(views) AS monthly_views\n",
    "\n",
    "                  \n",
    "      FROM  `rising-theater-416315.wikipedia_pageviews.pageviews_2023` a\n",
    "            JOIN `rising-theater-416315.data_for_project.distinct_people` b\n",
    "            ON a.title = b.en_wiki\n",
    "\n",
    "      \n",
    "      WHERE datehour IS NOT NULL\n",
    "      AND wiki = \"en\"\n",
    "\n",
    "      GROUP BY title, DATETIME_TRUNC(datehour, MONTH)\n",
    "      ```\n",
    "\n",
    "3. Get wikidata for those people\n",
    "      ```sql\n",
    "      SELECT *\t\n",
    "      FROM  `rising-theater-416315.wikipedia_pageviews.wikidata`,\n",
    "      UNNEST(instance_of) AS instance_of_struct\n",
    "\n",
    "    \n",
    "      WHERE instance_of_struct.numeric_id = 5\n",
    "      ```"
   ]
  },
  {
   "cell_type": "markdown",
   "metadata": {},
   "source": [
    "# Data transformation"
   ]
  },
  {
   "cell_type": "markdown",
   "metadata": {},
   "source": [
    "## Views Data"
   ]
  },
  {
   "cell_type": "markdown",
   "metadata": {},
   "source": [
    "Are organized in csv files, one per year."
   ]
  },
  {
   "cell_type": "code",
   "execution_count": 6,
   "metadata": {},
   "outputs": [
    {
     "name": "stdout",
     "output_type": "stream",
     "text": [
      "monthly_views_2015.csv - 411.06 MB)\n",
      "monthly_views_2016.csv - 658.91 MB)\n",
      "monthly_views_2019.csv - 803.42 MB)\n",
      "monthly_views_2020.csv - 851.54 MB)\n",
      "monthly_views_2017.csv - 708.39 MB)\n",
      "monthly_views_2022.csv - 949.62 MB)\n",
      "monthly_views_2023.csv - 980.47 MB)\n",
      "monthly_views_2021.csv - 904.32 MB)\n",
      "monthly_views_2018.csv - 755.98 MB)\n",
      "Total files: 0\n"
     ]
    }
   ],
   "source": [
    "# Read raw data\n",
    "dfs = []\n",
    "for file in RAW_DATA_DIR.glob(r'monthly_views_*.csv'):\n",
    "    print(f'{file.name} - {os.stat(file).st_size / 1024 ** 2:.2f} MB)')\n",
    "    dfs.append(pl.read_csv(file))\n",
    "\n",
    "print(f'Total files: {len(dfs)}')"
   ]
  },
  {
   "cell_type": "code",
   "execution_count": 51,
   "metadata": {},
   "outputs": [
    {
     "data": {
      "text/html": [
       "<div><style>\n",
       ".dataframe > thead > tr,\n",
       ".dataframe > tbody > tr {\n",
       "  text-align: right;\n",
       "  white-space: pre-wrap;\n",
       "}\n",
       "</style>\n",
       "<small>shape: (1_976_658, 105)</small><table border=\"1\" class=\"dataframe\"><thead><tr><th>title</th><th>2015-05</th><th>2015-06</th><th>2015-07</th><th>2015-08</th><th>2015-09</th><th>2015-10</th><th>2015-11</th><th>2015-12</th><th>2016-01</th><th>2016-02</th><th>2016-03</th><th>2016-04</th><th>2016-05</th><th>2016-06</th><th>2016-07</th><th>2016-08</th><th>2016-09</th><th>2016-10</th><th>2016-11</th><th>2016-12</th><th>2017-01</th><th>2017-02</th><th>2017-03</th><th>2017-04</th><th>2017-05</th><th>2017-06</th><th>2017-07</th><th>2017-08</th><th>2017-09</th><th>2017-10</th><th>2017-11</th><th>2017-12</th><th>2018-01</th><th>2018-02</th><th>2018-03</th><th>2018-04</th><th>&hellip;</th><th>2020-12</th><th>2021-01</th><th>2021-02</th><th>2021-03</th><th>2021-04</th><th>2021-05</th><th>2021-06</th><th>2021-07</th><th>2021-08</th><th>2021-09</th><th>2021-10</th><th>2021-11</th><th>2021-12</th><th>2022-01</th><th>2022-02</th><th>2022-03</th><th>2022-04</th><th>2022-05</th><th>2022-06</th><th>2022-07</th><th>2022-08</th><th>2022-09</th><th>2022-10</th><th>2022-11</th><th>2022-12</th><th>2023-01</th><th>2023-02</th><th>2023-03</th><th>2023-04</th><th>2023-05</th><th>2023-06</th><th>2023-07</th><th>2023-08</th><th>2023-09</th><th>2023-10</th><th>2023-11</th><th>2023-12</th></tr><tr><td>str</td><td>i64</td><td>i64</td><td>i64</td><td>i64</td><td>i64</td><td>i64</td><td>i64</td><td>i64</td><td>i64</td><td>i64</td><td>i64</td><td>i64</td><td>i64</td><td>i64</td><td>i64</td><td>i64</td><td>i64</td><td>i64</td><td>i64</td><td>i64</td><td>i64</td><td>i64</td><td>i64</td><td>i64</td><td>i64</td><td>i64</td><td>i64</td><td>i64</td><td>i64</td><td>i64</td><td>i64</td><td>i64</td><td>i64</td><td>i64</td><td>i64</td><td>i64</td><td>&hellip;</td><td>i64</td><td>i64</td><td>i64</td><td>i64</td><td>i64</td><td>i64</td><td>i64</td><td>i64</td><td>i64</td><td>i64</td><td>i64</td><td>i64</td><td>i64</td><td>i64</td><td>i64</td><td>i64</td><td>i64</td><td>i64</td><td>i64</td><td>i64</td><td>i64</td><td>i64</td><td>i64</td><td>i64</td><td>i64</td><td>i64</td><td>i64</td><td>i64</td><td>i64</td><td>i64</td><td>i64</td><td>i64</td><td>i64</td><td>i64</td><td>i64</td><td>i64</td><td>i64</td></tr></thead><tbody><tr><td>&quot;Neophyte_II_of…</td><td>null</td><td>null</td><td>null</td><td>null</td><td>null</td><td>null</td><td>null</td><td>null</td><td>null</td><td>null</td><td>null</td><td>null</td><td>null</td><td>null</td><td>null</td><td>null</td><td>null</td><td>null</td><td>null</td><td>null</td><td>null</td><td>null</td><td>null</td><td>null</td><td>null</td><td>null</td><td>null</td><td>null</td><td>null</td><td>null</td><td>null</td><td>null</td><td>null</td><td>null</td><td>null</td><td>null</td><td>&hellip;</td><td>null</td><td>null</td><td>null</td><td>null</td><td>null</td><td>14</td><td>17</td><td>26</td><td>10</td><td>17</td><td>24</td><td>29</td><td>32</td><td>51</td><td>20</td><td>36</td><td>46</td><td>32</td><td>119</td><td>27</td><td>32</td><td>18</td><td>26</td><td>22</td><td>30</td><td>30</td><td>26</td><td>35</td><td>33</td><td>33</td><td>26</td><td>25</td><td>24</td><td>29</td><td>44</td><td>23</td><td>25</td></tr><tr><td>&quot;Olivia_Giovett…</td><td>26</td><td>34</td><td>52</td><td>20</td><td>41</td><td>40</td><td>19</td><td>21</td><td>27</td><td>23</td><td>32</td><td>21</td><td>32</td><td>29</td><td>57</td><td>47</td><td>31</td><td>21</td><td>24</td><td>15</td><td>42</td><td>17</td><td>45</td><td>30</td><td>25</td><td>34</td><td>36</td><td>22</td><td>22</td><td>22</td><td>16</td><td>28</td><td>30</td><td>34</td><td>22</td><td>19</td><td>&hellip;</td><td>39</td><td>30</td><td>32</td><td>34</td><td>37</td><td>29</td><td>14</td><td>26</td><td>24</td><td>36</td><td>39</td><td>35</td><td>20</td><td>63</td><td>33</td><td>39</td><td>19</td><td>19</td><td>30</td><td>20</td><td>14</td><td>21</td><td>35</td><td>52</td><td>25</td><td>25</td><td>33</td><td>20</td><td>18</td><td>22</td><td>31</td><td>26</td><td>16</td><td>20</td><td>59</td><td>41</td><td>19</td></tr><tr><td>&quot;Alexander_Gran…</td><td>9</td><td>48</td><td>24</td><td>23</td><td>32</td><td>24</td><td>12</td><td>20</td><td>19</td><td>7</td><td>8</td><td>14</td><td>18</td><td>27</td><td>11</td><td>23</td><td>12</td><td>19</td><td>15</td><td>17</td><td>11</td><td>13</td><td>26</td><td>14</td><td>16</td><td>18</td><td>13</td><td>20</td><td>13</td><td>26</td><td>16</td><td>19</td><td>32</td><td>14</td><td>18</td><td>12</td><td>&hellip;</td><td>5</td><td>13</td><td>9</td><td>12</td><td>11</td><td>9</td><td>14</td><td>19</td><td>9</td><td>7</td><td>5</td><td>11</td><td>4</td><td>11</td><td>9</td><td>7</td><td>9</td><td>9</td><td>4</td><td>5</td><td>12</td><td>72</td><td>6</td><td>10</td><td>10</td><td>10</td><td>2</td><td>7</td><td>10</td><td>7</td><td>2</td><td>7</td><td>4</td><td>9</td><td>10</td><td>1</td><td>5</td></tr><tr><td>&quot;Bernard_H._Rae…</td><td>17</td><td>16</td><td>21</td><td>20</td><td>19</td><td>18</td><td>10</td><td>9</td><td>17</td><td>5</td><td>8</td><td>10</td><td>5</td><td>28</td><td>19</td><td>11</td><td>17</td><td>14</td><td>13</td><td>19</td><td>16</td><td>13</td><td>24</td><td>18</td><td>10</td><td>10</td><td>14</td><td>13</td><td>14</td><td>19</td><td>5</td><td>15</td><td>26</td><td>12</td><td>13</td><td>10</td><td>&hellip;</td><td>2</td><td>1</td><td>4</td><td>1</td><td>5</td><td>5</td><td>3</td><td>5</td><td>2</td><td>2</td><td>3</td><td>4</td><td>null</td><td>12</td><td>4</td><td>3</td><td>2</td><td>1</td><td>4</td><td>null</td><td>1</td><td>3</td><td>8</td><td>6</td><td>3</td><td>1</td><td>5</td><td>1</td><td>3</td><td>5</td><td>7</td><td>3</td><td>1</td><td>2</td><td>null</td><td>1</td><td>2</td></tr><tr><td>&quot;Leigh_Magar&quot;</td><td>47</td><td>46</td><td>64</td><td>36</td><td>56</td><td>45</td><td>41</td><td>26</td><td>30</td><td>48</td><td>15</td><td>26</td><td>19</td><td>38</td><td>28</td><td>38</td><td>37</td><td>51</td><td>24</td><td>36</td><td>17</td><td>15</td><td>45</td><td>39</td><td>26</td><td>22</td><td>21</td><td>14</td><td>19</td><td>23</td><td>16</td><td>32</td><td>36</td><td>21</td><td>18</td><td>20</td><td>&hellip;</td><td>8</td><td>8</td><td>9</td><td>13</td><td>6</td><td>3</td><td>12</td><td>13</td><td>12</td><td>5</td><td>8</td><td>8</td><td>11</td><td>3</td><td>9</td><td>8</td><td>13</td><td>13</td><td>9</td><td>20</td><td>9</td><td>8</td><td>14</td><td>27</td><td>14</td><td>13</td><td>20</td><td>13</td><td>10</td><td>9</td><td>5</td><td>9</td><td>9</td><td>8</td><td>5</td><td>10</td><td>2</td></tr><tr><td>&hellip;</td><td>&hellip;</td><td>&hellip;</td><td>&hellip;</td><td>&hellip;</td><td>&hellip;</td><td>&hellip;</td><td>&hellip;</td><td>&hellip;</td><td>&hellip;</td><td>&hellip;</td><td>&hellip;</td><td>&hellip;</td><td>&hellip;</td><td>&hellip;</td><td>&hellip;</td><td>&hellip;</td><td>&hellip;</td><td>&hellip;</td><td>&hellip;</td><td>&hellip;</td><td>&hellip;</td><td>&hellip;</td><td>&hellip;</td><td>&hellip;</td><td>&hellip;</td><td>&hellip;</td><td>&hellip;</td><td>&hellip;</td><td>&hellip;</td><td>&hellip;</td><td>&hellip;</td><td>&hellip;</td><td>&hellip;</td><td>&hellip;</td><td>&hellip;</td><td>&hellip;</td><td>&hellip;</td><td>&hellip;</td><td>&hellip;</td><td>&hellip;</td><td>&hellip;</td><td>&hellip;</td><td>&hellip;</td><td>&hellip;</td><td>&hellip;</td><td>&hellip;</td><td>&hellip;</td><td>&hellip;</td><td>&hellip;</td><td>&hellip;</td><td>&hellip;</td><td>&hellip;</td><td>&hellip;</td><td>&hellip;</td><td>&hellip;</td><td>&hellip;</td><td>&hellip;</td><td>&hellip;</td><td>&hellip;</td><td>&hellip;</td><td>&hellip;</td><td>&hellip;</td><td>&hellip;</td><td>&hellip;</td><td>&hellip;</td><td>&hellip;</td><td>&hellip;</td><td>&hellip;</td><td>&hellip;</td><td>&hellip;</td><td>&hellip;</td><td>&hellip;</td><td>&hellip;</td><td>&hellip;</td></tr><tr><td>&quot;Edgar_Dibden&quot;</td><td>null</td><td>null</td><td>null</td><td>null</td><td>null</td><td>null</td><td>null</td><td>null</td><td>null</td><td>null</td><td>null</td><td>null</td><td>null</td><td>null</td><td>null</td><td>null</td><td>null</td><td>null</td><td>null</td><td>null</td><td>null</td><td>null</td><td>null</td><td>null</td><td>null</td><td>null</td><td>null</td><td>null</td><td>null</td><td>null</td><td>null</td><td>null</td><td>null</td><td>null</td><td>null</td><td>null</td><td>&hellip;</td><td>null</td><td>null</td><td>null</td><td>null</td><td>null</td><td>null</td><td>null</td><td>null</td><td>null</td><td>null</td><td>null</td><td>null</td><td>null</td><td>null</td><td>null</td><td>null</td><td>null</td><td>null</td><td>null</td><td>null</td><td>null</td><td>null</td><td>null</td><td>null</td><td>null</td><td>null</td><td>null</td><td>null</td><td>null</td><td>null</td><td>16</td><td>6</td><td>10</td><td>6</td><td>7</td><td>4</td><td>2</td></tr><tr><td>&quot;David_Mulready…</td><td>56</td><td>51</td><td>78</td><td>51</td><td>54</td><td>59</td><td>36</td><td>44</td><td>31</td><td>33</td><td>29</td><td>29</td><td>29</td><td>54</td><td>44</td><td>45</td><td>23</td><td>36</td><td>38</td><td>35</td><td>32</td><td>31</td><td>42</td><td>27</td><td>44</td><td>33</td><td>27</td><td>52</td><td>29</td><td>41</td><td>21</td><td>36</td><td>47</td><td>64</td><td>37</td><td>30</td><td>&hellip;</td><td>16</td><td>21</td><td>27</td><td>33</td><td>15</td><td>22</td><td>31</td><td>15</td><td>25</td><td>16</td><td>25</td><td>12</td><td>25</td><td>27</td><td>31</td><td>18</td><td>27</td><td>25</td><td>20</td><td>21</td><td>34</td><td>15</td><td>16</td><td>14</td><td>15</td><td>19</td><td>26</td><td>19</td><td>18</td><td>12</td><td>7</td><td>19</td><td>12</td><td>14</td><td>14</td><td>7</td><td>6</td></tr><tr><td>&quot;Bruno_Riem&quot;</td><td>40</td><td>29</td><td>34</td><td>17</td><td>31</td><td>29</td><td>22</td><td>31</td><td>14</td><td>8</td><td>8</td><td>16</td><td>13</td><td>16</td><td>7</td><td>17</td><td>24</td><td>16</td><td>20</td><td>14</td><td>14</td><td>7</td><td>23</td><td>16</td><td>25</td><td>14</td><td>13</td><td>15</td><td>13</td><td>20</td><td>10</td><td>17</td><td>31</td><td>14</td><td>13</td><td>12</td><td>&hellip;</td><td>4</td><td>9</td><td>2</td><td>4</td><td>5</td><td>4</td><td>7</td><td>8</td><td>6</td><td>7</td><td>8</td><td>5</td><td>5</td><td>4</td><td>4</td><td>7</td><td>2</td><td>5</td><td>4</td><td>11</td><td>2</td><td>4</td><td>5</td><td>5</td><td>3</td><td>5</td><td>2</td><td>2</td><td>4</td><td>3</td><td>7</td><td>5</td><td>4</td><td>3</td><td>3</td><td>1</td><td>2</td></tr><tr><td>&quot;Bon_Spence&quot;</td><td>23</td><td>52</td><td>38</td><td>26</td><td>40</td><td>23</td><td>16</td><td>22</td><td>21</td><td>12</td><td>18</td><td>13</td><td>31</td><td>10</td><td>30</td><td>27</td><td>17</td><td>14</td><td>11</td><td>19</td><td>18</td><td>10</td><td>29</td><td>27</td><td>24</td><td>17</td><td>24</td><td>19</td><td>19</td><td>26</td><td>21</td><td>27</td><td>48</td><td>17</td><td>17</td><td>19</td><td>&hellip;</td><td>13</td><td>5</td><td>15</td><td>10</td><td>8</td><td>14</td><td>9</td><td>13</td><td>16</td><td>8</td><td>10</td><td>12</td><td>7</td><td>14</td><td>8</td><td>11</td><td>6</td><td>6</td><td>4</td><td>10</td><td>12</td><td>14</td><td>10</td><td>14</td><td>10</td><td>12</td><td>5</td><td>4</td><td>10</td><td>17</td><td>11</td><td>8</td><td>8</td><td>10</td><td>8</td><td>7</td><td>6</td></tr><tr><td>&quot;John_Bain_(foo…</td><td>null</td><td>null</td><td>null</td><td>null</td><td>null</td><td>null</td><td>null</td><td>null</td><td>null</td><td>null</td><td>null</td><td>null</td><td>null</td><td>null</td><td>null</td><td>null</td><td>null</td><td>null</td><td>null</td><td>null</td><td>null</td><td>null</td><td>null</td><td>null</td><td>null</td><td>null</td><td>null</td><td>null</td><td>null</td><td>null</td><td>null</td><td>null</td><td>null</td><td>null</td><td>null</td><td>null</td><td>&hellip;</td><td>null</td><td>null</td><td>null</td><td>null</td><td>null</td><td>null</td><td>null</td><td>null</td><td>null</td><td>null</td><td>null</td><td>null</td><td>null</td><td>null</td><td>null</td><td>null</td><td>54</td><td>6</td><td>14</td><td>17</td><td>18</td><td>6</td><td>18</td><td>12</td><td>9</td><td>21</td><td>11</td><td>8</td><td>7</td><td>19</td><td>10</td><td>6</td><td>6</td><td>5</td><td>16</td><td>8</td><td>7</td></tr></tbody></table></div>"
      ],
      "text/plain": [
       "shape: (1_976_658, 105)\n",
       "┌────────────────────────┬─────────┬─────────┬─────────┬───┬─────────┬─────────┬─────────┬─────────┐\n",
       "│ title                  ┆ 2015-05 ┆ 2015-06 ┆ 2015-07 ┆ … ┆ 2023-09 ┆ 2023-10 ┆ 2023-11 ┆ 2023-12 │\n",
       "│ ---                    ┆ ---     ┆ ---     ┆ ---     ┆   ┆ ---     ┆ ---     ┆ ---     ┆ ---     │\n",
       "│ str                    ┆ i64     ┆ i64     ┆ i64     ┆   ┆ i64     ┆ i64     ┆ i64     ┆ i64     │\n",
       "╞════════════════════════╪═════════╪═════════╪═════════╪═══╪═════════╪═════════╪═════════╪═════════╡\n",
       "│ Neophyte_II_of_Ungro-W ┆ null    ┆ null    ┆ null    ┆ … ┆ 29      ┆ 44      ┆ 23      ┆ 25      │\n",
       "│ allachia               ┆         ┆         ┆         ┆   ┆         ┆         ┆         ┆         │\n",
       "│ Olivia_Giovetti        ┆ 26      ┆ 34      ┆ 52      ┆ … ┆ 20      ┆ 59      ┆ 41      ┆ 19      │\n",
       "│ Alexander_Grant_McLean ┆ 9       ┆ 48      ┆ 24      ┆ … ┆ 9       ┆ 10      ┆ 1       ┆ 5       │\n",
       "│ Bernard_H._Raether     ┆ 17      ┆ 16      ┆ 21      ┆ … ┆ 2       ┆ null    ┆ 1       ┆ 2       │\n",
       "│ Leigh_Magar            ┆ 47      ┆ 46      ┆ 64      ┆ … ┆ 8       ┆ 5       ┆ 10      ┆ 2       │\n",
       "│ …                      ┆ …       ┆ …       ┆ …       ┆ … ┆ …       ┆ …       ┆ …       ┆ …       │\n",
       "│ Edgar_Dibden           ┆ null    ┆ null    ┆ null    ┆ … ┆ 6       ┆ 7       ┆ 4       ┆ 2       │\n",
       "│ David_Mulready         ┆ 56      ┆ 51      ┆ 78      ┆ … ┆ 14      ┆ 14      ┆ 7       ┆ 6       │\n",
       "│ Bruno_Riem             ┆ 40      ┆ 29      ┆ 34      ┆ … ┆ 3       ┆ 3       ┆ 1       ┆ 2       │\n",
       "│ Bon_Spence             ┆ 23      ┆ 52      ┆ 38      ┆ … ┆ 10      ┆ 8       ┆ 7       ┆ 6       │\n",
       "│ John_Bain_(footballer, ┆ null    ┆ null    ┆ null    ┆ … ┆ 5       ┆ 16      ┆ 8       ┆ 7       │\n",
       "│ _born_1923…            ┆         ┆         ┆         ┆   ┆         ┆         ┆         ┆         │\n",
       "└────────────────────────┴─────────┴─────────┴─────────┴───┴─────────┴─────────┴─────────┴─────────┘"
      ]
     },
     "execution_count": 51,
     "metadata": {},
     "output_type": "execute_result"
    }
   ],
   "source": [
    "try:\n",
    "    views_df = pl.read_parquet(PROCESSED_DATA_DIR / 'pageviews_all.parquet')\n",
    "except FileNotFoundError:\n",
    "    # Pivot\n",
    "    transformed_dfs = []\n",
    "    for df in tqdm(dfs):\n",
    "        transformed_df = (df.with_columns(pl.col('month')\n",
    "                                        .map_elements(lambda s: f'{s[:4]}-{s[5:7]}')\n",
    "                                        .alias('year_month'))\n",
    "                        .pivot(index='title', columns='year_month', values='monthly_views')\n",
    "        )\n",
    "        transformed_dfs.append(transformed_df)\n",
    "    # Join\n",
    "    all_names = pl.concat([df.select('title') for df in dfs]).unique()\n",
    "    print(f'{len(all_names):,}')\n",
    "    views_df = all_names\n",
    "    for i, df in tqdm(enumerate(transformed_dfs)):\n",
    "        views_df = df.join(views_df, 'title', 'outer_coalesce')\n",
    "    views_df = views_df.select(['title', *sorted([c for c in views_df.columns if c != 'title'])])\n",
    "    views_df.write_parquet(f'{PROCESSED_DATA_DIR}/pageviews_all.parquet')\n",
    "\n",
    "views_df"
   ]
  },
  {
   "cell_type": "markdown",
   "metadata": {},
   "source": [
    "### Additional Features Extraction"
   ]
  },
  {
   "cell_type": "markdown",
   "metadata": {},
   "source": [
    "## Entity Data"
   ]
  },
  {
   "cell_type": "markdown",
   "metadata": {},
   "source": [
    "### Reading the Data"
   ]
  },
  {
   "cell_type": "markdown",
   "metadata": {},
   "source": [
    "Are organized in json files."
   ]
  },
  {
   "cell_type": "code",
   "execution_count": 2,
   "metadata": {},
   "outputs": [
    {
     "data": {
      "text/plain": [
       "400"
      ]
     },
     "execution_count": 2,
     "metadata": {},
     "output_type": "execute_result"
    }
   ],
   "source": [
    "info_files = (RAW_DATA_DIR / 'wikidata').glob('*')\n",
    "len(list(info_files))"
   ]
  },
  {
   "cell_type": "markdown",
   "metadata": {},
   "source": [
    "For example..."
   ]
  },
  {
   "cell_type": "code",
   "execution_count": 2,
   "metadata": {},
   "outputs": [
    {
     "data": {
      "text/html": [
       "<pre style=\"white-space:pre;overflow-x:auto;line-height:normal;font-family:Menlo,'DejaVu Sans Mono',consolas,'Courier New',monospace\"><span style=\"font-weight: bold\">{</span>\n",
       "    <span style=\"color: #008000; text-decoration-color: #008000\">'id'</span>: <span style=\"color: #008000; text-decoration-color: #008000\">'Q17122148'</span>,\n",
       "    <span style=\"color: #008000; text-decoration-color: #008000\">'numeric_id'</span>: <span style=\"color: #008000; text-decoration-color: #008000\">'17122148'</span>,\n",
       "    <span style=\"color: #008000; text-decoration-color: #008000\">'en_label'</span>: <span style=\"color: #008000; text-decoration-color: #008000\">'Albrecht Joseph'</span>,\n",
       "    <span style=\"color: #008000; text-decoration-color: #008000\">'en_wiki'</span>: <span style=\"color: #008000; text-decoration-color: #008000\">'Albrecht_Joseph'</span>,\n",
       "    <span style=\"color: #008000; text-decoration-color: #008000\">'en_description'</span>: <span style=\"color: #008000; text-decoration-color: #008000\">'German screenwriter, film editor and author'</span>,\n",
       "    <span style=\"color: #008000; text-decoration-color: #008000\">'type'</span>: <span style=\"color: #008000; text-decoration-color: #008000\">'item'</span>,\n",
       "    <span style=\"color: #008000; text-decoration-color: #008000\">'sitelinks'</span>: <span style=\"font-weight: bold\">[</span>\n",
       "        <span style=\"font-weight: bold\">{</span><span style=\"color: #008000; text-decoration-color: #008000\">'site'</span>: <span style=\"color: #008000; text-decoration-color: #008000\">'dewiki'</span>, <span style=\"color: #008000; text-decoration-color: #008000\">'title'</span>: <span style=\"color: #008000; text-decoration-color: #008000\">'Albrecht Joseph'</span>, <span style=\"color: #008000; text-decoration-color: #008000\">'encoded'</span>: <span style=\"color: #008000; text-decoration-color: #008000\">'Albrecht_Joseph'</span><span style=\"font-weight: bold\">}</span>,\n",
       "        <span style=\"font-weight: bold\">{</span><span style=\"color: #008000; text-decoration-color: #008000\">'site'</span>: <span style=\"color: #008000; text-decoration-color: #008000\">'enwiki'</span>, <span style=\"color: #008000; text-decoration-color: #008000\">'title'</span>: <span style=\"color: #008000; text-decoration-color: #008000\">'Albrecht Joseph'</span>, <span style=\"color: #008000; text-decoration-color: #008000\">'encoded'</span>: <span style=\"color: #008000; text-decoration-color: #008000\">'Albrecht_Joseph'</span><span style=\"font-weight: bold\">}</span>,\n",
       "        <span style=\"font-weight: bold\">{</span><span style=\"color: #008000; text-decoration-color: #008000\">'site'</span>: <span style=\"color: #008000; text-decoration-color: #008000\">'frwiki'</span>, <span style=\"color: #008000; text-decoration-color: #008000\">'title'</span>: <span style=\"color: #008000; text-decoration-color: #008000\">'Albrecht Joseph'</span>, <span style=\"color: #008000; text-decoration-color: #008000\">'encoded'</span>: <span style=\"color: #008000; text-decoration-color: #008000\">'Albrecht_Joseph'</span><span style=\"font-weight: bold\">}</span>,\n",
       "        <span style=\"font-weight: bold\">{</span><span style=\"color: #008000; text-decoration-color: #008000\">'site'</span>: <span style=\"color: #008000; text-decoration-color: #008000\">'arwiki'</span>, <span style=\"color: #008000; text-decoration-color: #008000\">'title'</span>: <span style=\"color: #008000; text-decoration-color: #008000\">'ألبرشت جوزيف'</span>, <span style=\"color: #008000; text-decoration-color: #008000\">'encoded'</span>: <span style=\"color: #008000; text-decoration-color: #008000\">'ألبرشت_جوزيف'</span><span style=\"font-weight: bold\">}</span>,\n",
       "        <span style=\"font-weight: bold\">{</span><span style=\"color: #008000; text-decoration-color: #008000\">'site'</span>: <span style=\"color: #008000; text-decoration-color: #008000\">'arzwiki'</span>, <span style=\"color: #008000; text-decoration-color: #008000\">'title'</span>: <span style=\"color: #008000; text-decoration-color: #008000\">'البرشت چوزيف'</span>, <span style=\"color: #008000; text-decoration-color: #008000\">'encoded'</span>: <span style=\"color: #008000; text-decoration-color: #008000\">'البرشت_چوزيف'</span><span style=\"font-weight: bold\">}</span>,\n",
       "        <span style=\"font-weight: bold\">{</span><span style=\"color: #008000; text-decoration-color: #008000\">'site'</span>: <span style=\"color: #008000; text-decoration-color: #008000\">'fawiki'</span>, <span style=\"color: #008000; text-decoration-color: #008000\">'title'</span>: <span style=\"color: #008000; text-decoration-color: #008000\">'آلبرشت یوزف'</span>, <span style=\"color: #008000; text-decoration-color: #008000\">'encoded'</span>: <span style=\"color: #008000; text-decoration-color: #008000\">'آلبرشت_یوزف'</span><span style=\"font-weight: bold\">}</span>\n",
       "    <span style=\"font-weight: bold\">]</span>,\n",
       "    <span style=\"color: #008000; text-decoration-color: #008000\">'descriptions'</span>: <span style=\"font-weight: bold\">[</span>\n",
       "        <span style=\"font-weight: bold\">{</span><span style=\"color: #008000; text-decoration-color: #008000\">'language'</span>: <span style=\"color: #008000; text-decoration-color: #008000\">'de'</span>, <span style=\"color: #008000; text-decoration-color: #008000\">'value'</span>: <span style=\"color: #008000; text-decoration-color: #008000\">'deutsch-amerikanischer Theater- und Filmschaffender'</span><span style=\"font-weight: bold\">}</span>,\n",
       "        <span style=\"font-weight: bold\">{</span><span style=\"color: #008000; text-decoration-color: #008000\">'language'</span>: <span style=\"color: #008000; text-decoration-color: #008000\">'fa'</span>, <span style=\"color: #008000; text-decoration-color: #008000\">'value'</span>: <span style=\"color: #008000; text-decoration-color: #008000\">'فیلمنامه\\u200cنویس، تدوینگر، و نویسنده آلمانی'</span><span style=\"font-weight: bold\">}</span>,\n",
       "        <span style=\"font-weight: bold\">{</span><span style=\"color: #008000; text-decoration-color: #008000\">'language'</span>: <span style=\"color: #008000; text-decoration-color: #008000\">'en'</span>, <span style=\"color: #008000; text-decoration-color: #008000\">'value'</span>: <span style=\"color: #008000; text-decoration-color: #008000\">'German screenwriter, film editor and author'</span><span style=\"font-weight: bold\">}</span>,\n",
       "        <span style=\"font-weight: bold\">{</span><span style=\"color: #008000; text-decoration-color: #008000\">'language'</span>: <span style=\"color: #008000; text-decoration-color: #008000\">'nl'</span>, <span style=\"color: #008000; text-decoration-color: #008000\">'value'</span>: <span style=\"color: #008000; text-decoration-color: #008000\">'Duits scenarioschrijver (1901-1991)'</span><span style=\"font-weight: bold\">}</span>,\n",
       "        <span style=\"font-weight: bold\">{</span><span style=\"color: #008000; text-decoration-color: #008000\">'language'</span>: <span style=\"color: #008000; text-decoration-color: #008000\">'sv'</span>, <span style=\"color: #008000; text-decoration-color: #008000\">'value'</span>: <span style=\"color: #008000; text-decoration-color: #008000\">'tysk författare och filmklippare'</span><span style=\"font-weight: bold\">}</span>\n",
       "    <span style=\"font-weight: bold\">]</span>,\n",
       "    <span style=\"color: #008000; text-decoration-color: #008000\">'labels'</span>: <span style=\"font-weight: bold\">[</span>\n",
       "        <span style=\"font-weight: bold\">{</span><span style=\"color: #008000; text-decoration-color: #008000\">'language'</span>: <span style=\"color: #008000; text-decoration-color: #008000\">'de'</span>, <span style=\"color: #008000; text-decoration-color: #008000\">'value'</span>: <span style=\"color: #008000; text-decoration-color: #008000\">'Albrecht Joseph'</span><span style=\"font-weight: bold\">}</span>,\n",
       "        <span style=\"font-weight: bold\">{</span><span style=\"color: #008000; text-decoration-color: #008000\">'language'</span>: <span style=\"color: #008000; text-decoration-color: #008000\">'fr'</span>, <span style=\"color: #008000; text-decoration-color: #008000\">'value'</span>: <span style=\"color: #008000; text-decoration-color: #008000\">'Albrecht Joseph'</span><span style=\"font-weight: bold\">}</span>,\n",
       "        <span style=\"font-weight: bold\">{</span><span style=\"color: #008000; text-decoration-color: #008000\">'language'</span>: <span style=\"color: #008000; text-decoration-color: #008000\">'nl'</span>, <span style=\"color: #008000; text-decoration-color: #008000\">'value'</span>: <span style=\"color: #008000; text-decoration-color: #008000\">'Albrecht Joseph'</span><span style=\"font-weight: bold\">}</span>,\n",
       "        <span style=\"font-weight: bold\">{</span><span style=\"color: #008000; text-decoration-color: #008000\">'language'</span>: <span style=\"color: #008000; text-decoration-color: #008000\">'en'</span>, <span style=\"color: #008000; text-decoration-color: #008000\">'value'</span>: <span style=\"color: #008000; text-decoration-color: #008000\">'Albrecht Joseph'</span><span style=\"font-weight: bold\">}</span>,\n",
       "        <span style=\"font-weight: bold\">{</span><span style=\"color: #008000; text-decoration-color: #008000\">'language'</span>: <span style=\"color: #008000; text-decoration-color: #008000\">'es'</span>, <span style=\"color: #008000; text-decoration-color: #008000\">'value'</span>: <span style=\"color: #008000; text-decoration-color: #008000\">'Albrecht Joseph'</span><span style=\"font-weight: bold\">}</span>,\n",
       "        <span style=\"font-weight: bold\">{</span><span style=\"color: #008000; text-decoration-color: #008000\">'language'</span>: <span style=\"color: #008000; text-decoration-color: #008000\">'hu'</span>, <span style=\"color: #008000; text-decoration-color: #008000\">'value'</span>: <span style=\"color: #008000; text-decoration-color: #008000\">'Albrecht Joseph'</span><span style=\"font-weight: bold\">}</span>,\n",
       "        <span style=\"font-weight: bold\">{</span><span style=\"color: #008000; text-decoration-color: #008000\">'language'</span>: <span style=\"color: #008000; text-decoration-color: #008000\">'sl'</span>, <span style=\"color: #008000; text-decoration-color: #008000\">'value'</span>: <span style=\"color: #008000; text-decoration-color: #008000\">'Albrecht Joseph'</span><span style=\"font-weight: bold\">}</span>,\n",
       "        <span style=\"font-weight: bold\">{</span><span style=\"color: #008000; text-decoration-color: #008000\">'language'</span>: <span style=\"color: #008000; text-decoration-color: #008000\">'ca'</span>, <span style=\"color: #008000; text-decoration-color: #008000\">'value'</span>: <span style=\"color: #008000; text-decoration-color: #008000\">'Albrecht Joseph'</span><span style=\"font-weight: bold\">}</span>,\n",
       "        <span style=\"font-weight: bold\">{</span><span style=\"color: #008000; text-decoration-color: #008000\">'language'</span>: <span style=\"color: #008000; text-decoration-color: #008000\">'ast'</span>, <span style=\"color: #008000; text-decoration-color: #008000\">'value'</span>: <span style=\"color: #008000; text-decoration-color: #008000\">'Albrecht Joseph'</span><span style=\"font-weight: bold\">}</span>,\n",
       "        <span style=\"font-weight: bold\">{</span><span style=\"color: #008000; text-decoration-color: #008000\">'language'</span>: <span style=\"color: #008000; text-decoration-color: #008000\">'ar'</span>, <span style=\"color: #008000; text-decoration-color: #008000\">'value'</span>: <span style=\"color: #008000; text-decoration-color: #008000\">'ألبرشت جوزيف'</span><span style=\"font-weight: bold\">}</span>,\n",
       "        <span style=\"font-weight: bold\">{</span><span style=\"color: #008000; text-decoration-color: #008000\">'language'</span>: <span style=\"color: #008000; text-decoration-color: #008000\">'cs'</span>, <span style=\"color: #008000; text-decoration-color: #008000\">'value'</span>: <span style=\"color: #008000; text-decoration-color: #008000\">'Albrecht Joseph'</span><span style=\"font-weight: bold\">}</span>,\n",
       "        <span style=\"font-weight: bold\">{</span><span style=\"color: #008000; text-decoration-color: #008000\">'language'</span>: <span style=\"color: #008000; text-decoration-color: #008000\">'sk'</span>, <span style=\"color: #008000; text-decoration-color: #008000\">'value'</span>: <span style=\"color: #008000; text-decoration-color: #008000\">'Albrecht Joseph'</span><span style=\"font-weight: bold\">}</span>,\n",
       "        <span style=\"font-weight: bold\">{</span><span style=\"color: #008000; text-decoration-color: #008000\">'language'</span>: <span style=\"color: #008000; text-decoration-color: #008000\">'arz'</span>, <span style=\"color: #008000; text-decoration-color: #008000\">'value'</span>: <span style=\"color: #008000; text-decoration-color: #008000\">'البرشت چوزيف'</span><span style=\"font-weight: bold\">}</span>,\n",
       "        <span style=\"font-weight: bold\">{</span><span style=\"color: #008000; text-decoration-color: #008000\">'language'</span>: <span style=\"color: #008000; text-decoration-color: #008000\">'it'</span>, <span style=\"color: #008000; text-decoration-color: #008000\">'value'</span>: <span style=\"color: #008000; text-decoration-color: #008000\">'Albrecht Joseph'</span><span style=\"font-weight: bold\">}</span>,\n",
       "        <span style=\"font-weight: bold\">{</span><span style=\"color: #008000; text-decoration-color: #008000\">'language'</span>: <span style=\"color: #008000; text-decoration-color: #008000\">'sq'</span>, <span style=\"color: #008000; text-decoration-color: #008000\">'value'</span>: <span style=\"color: #008000; text-decoration-color: #008000\">'Albrecht Joseph'</span><span style=\"font-weight: bold\">}</span>,\n",
       "        <span style=\"font-weight: bold\">{</span><span style=\"color: #008000; text-decoration-color: #008000\">'language'</span>: <span style=\"color: #008000; text-decoration-color: #008000\">'he'</span>, <span style=\"color: #008000; text-decoration-color: #008000\">'value'</span>: <span style=\"color: #008000; text-decoration-color: #008000\">\"אלברכט ג'וזף\"</span><span style=\"font-weight: bold\">}</span>,\n",
       "        <span style=\"font-weight: bold\">{</span><span style=\"color: #008000; text-decoration-color: #008000\">'language'</span>: <span style=\"color: #008000; text-decoration-color: #008000\">'sv'</span>, <span style=\"color: #008000; text-decoration-color: #008000\">'value'</span>: <span style=\"color: #008000; text-decoration-color: #008000\">'Albrecht Joseph'</span><span style=\"font-weight: bold\">}</span>,\n",
       "        <span style=\"font-weight: bold\">{</span><span style=\"color: #008000; text-decoration-color: #008000\">'language'</span>: <span style=\"color: #008000; text-decoration-color: #008000\">'ga'</span>, <span style=\"color: #008000; text-decoration-color: #008000\">'value'</span>: <span style=\"color: #008000; text-decoration-color: #008000\">'Albrecht Joseph'</span><span style=\"font-weight: bold\">}</span>,\n",
       "        <span style=\"font-weight: bold\">{</span><span style=\"color: #008000; text-decoration-color: #008000\">'language'</span>: <span style=\"color: #008000; text-decoration-color: #008000\">'fa'</span>, <span style=\"color: #008000; text-decoration-color: #008000\">'value'</span>: <span style=\"color: #008000; text-decoration-color: #008000\">'آلبرشت یوزف'</span><span style=\"font-weight: bold\">}</span>,\n",
       "        <span style=\"font-weight: bold\">{</span><span style=\"color: #008000; text-decoration-color: #008000\">'language'</span>: <span style=\"color: #008000; text-decoration-color: #008000\">'ru'</span>, <span style=\"color: #008000; text-decoration-color: #008000\">'value'</span>: <span style=\"color: #008000; text-decoration-color: #008000\">'Элбрехт Джозеф'</span><span style=\"font-weight: bold\">}</span>\n",
       "    <span style=\"font-weight: bold\">]</span>,\n",
       "    <span style=\"color: #008000; text-decoration-color: #008000\">'aliases'</span>: <span style=\"font-weight: bold\">[</span>\n",
       "        <span style=\"font-weight: bold\">{</span><span style=\"color: #008000; text-decoration-color: #008000\">'language'</span>: <span style=\"color: #008000; text-decoration-color: #008000\">'de'</span>, <span style=\"color: #008000; text-decoration-color: #008000\">'value'</span>: <span style=\"color: #008000; text-decoration-color: #008000\">'Al Joseph'</span><span style=\"font-weight: bold\">}</span>,\n",
       "        <span style=\"font-weight: bold\">{</span><span style=\"color: #008000; text-decoration-color: #008000\">'language'</span>: <span style=\"color: #008000; text-decoration-color: #008000\">'en'</span>, <span style=\"color: #008000; text-decoration-color: #008000\">'value'</span>: <span style=\"color: #008000; text-decoration-color: #008000\">'Al Joseph'</span><span style=\"font-weight: bold\">}</span>,\n",
       "        <span style=\"font-weight: bold\">{</span><span style=\"color: #008000; text-decoration-color: #008000\">'language'</span>: <span style=\"color: #008000; text-decoration-color: #008000\">'cs'</span>, <span style=\"color: #008000; text-decoration-color: #008000\">'value'</span>: <span style=\"color: #008000; text-decoration-color: #008000\">'Al Joseph'</span><span style=\"font-weight: bold\">}</span>,\n",
       "        <span style=\"font-weight: bold\">{</span><span style=\"color: #008000; text-decoration-color: #008000\">'language'</span>: <span style=\"color: #008000; text-decoration-color: #008000\">'sk'</span>, <span style=\"color: #008000; text-decoration-color: #008000\">'value'</span>: <span style=\"color: #008000; text-decoration-color: #008000\">'Al Joseph'</span><span style=\"font-weight: bold\">}</span>\n",
       "    <span style=\"font-weight: bold\">]</span>,\n",
       "    <span style=\"color: #008000; text-decoration-color: #008000\">'instance_of'</span>: <span style=\"font-weight: bold\">[{</span><span style=\"color: #008000; text-decoration-color: #008000\">'numeric_id'</span>: <span style=\"color: #008000; text-decoration-color: #008000\">'5'</span><span style=\"font-weight: bold\">}]</span>,\n",
       "    <span style=\"color: #008000; text-decoration-color: #008000\">'gender'</span>: <span style=\"font-weight: bold\">[{</span><span style=\"color: #008000; text-decoration-color: #008000\">'numeric_id'</span>: <span style=\"color: #008000; text-decoration-color: #008000\">'6581097'</span><span style=\"font-weight: bold\">}]</span>,\n",
       "    <span style=\"color: #008000; text-decoration-color: #008000\">'date_of_birth'</span>: <span style=\"font-weight: bold\">[{</span><span style=\"color: #008000; text-decoration-color: #008000\">'time'</span>: <span style=\"color: #008000; text-decoration-color: #008000\">'+1901-11-20T00:00:00Z'</span><span style=\"font-weight: bold\">}]</span>,\n",
       "    <span style=\"color: #008000; text-decoration-color: #008000\">'date_of_death'</span>: <span style=\"font-weight: bold\">[{</span><span style=\"color: #008000; text-decoration-color: #008000\">'time'</span>: <span style=\"color: #008000; text-decoration-color: #008000\">'+1901-11-20T00:00:00Z'</span><span style=\"font-weight: bold\">}]</span>,\n",
       "    <span style=\"color: #008000; text-decoration-color: #008000\">'worked_at'</span>: <span style=\"font-weight: bold\">[]</span>,\n",
       "    <span style=\"color: #008000; text-decoration-color: #008000\">'country_of_citizenship'</span>: <span style=\"font-weight: bold\">[{</span><span style=\"color: #008000; text-decoration-color: #008000\">'numeric_id'</span>: <span style=\"color: #008000; text-decoration-color: #008000\">'183'</span><span style=\"font-weight: bold\">}]</span>,\n",
       "    <span style=\"color: #008000; text-decoration-color: #008000\">'country'</span>: <span style=\"font-weight: bold\">[]</span>,\n",
       "    <span style=\"color: #008000; text-decoration-color: #008000\">'educated_at'</span>: <span style=\"font-weight: bold\">[]</span>,\n",
       "    <span style=\"color: #008000; text-decoration-color: #008000\">'occupation'</span>: <span style=\"font-weight: bold\">[{</span><span style=\"color: #008000; text-decoration-color: #008000\">'numeric_id'</span>: <span style=\"color: #008000; text-decoration-color: #008000\">'28389'</span><span style=\"font-weight: bold\">}</span>, <span style=\"font-weight: bold\">{</span><span style=\"color: #008000; text-decoration-color: #008000\">'numeric_id'</span>: <span style=\"color: #008000; text-decoration-color: #008000\">'7042855'</span><span style=\"font-weight: bold\">}</span>, <span style=\"font-weight: bold\">{</span><span style=\"color: #008000; text-decoration-color: #008000\">'numeric_id'</span>: <span style=\"color: #008000; text-decoration-color: #008000\">'36180'</span><span style=\"font-weight: bold\">}]</span>,\n",
       "    <span style=\"color: #008000; text-decoration-color: #008000\">'instrument'</span>: <span style=\"font-weight: bold\">[]</span>,\n",
       "    <span style=\"color: #008000; text-decoration-color: #008000\">'genre'</span>: <span style=\"font-weight: bold\">[]</span>,\n",
       "    <span style=\"color: #008000; text-decoration-color: #008000\">'industry'</span>: <span style=\"font-weight: bold\">[]</span>,\n",
       "    <span style=\"color: #008000; text-decoration-color: #008000\">'subclass_of'</span>: <span style=\"font-weight: bold\">[]</span>,\n",
       "    <span style=\"color: #008000; text-decoration-color: #008000\">'coordinate_location'</span>: <span style=\"font-weight: bold\">[]</span>,\n",
       "    <span style=\"color: #008000; text-decoration-color: #008000\">'iso_3166_alpha3'</span>: <span style=\"font-weight: bold\">[]</span>,\n",
       "    <span style=\"color: #008000; text-decoration-color: #008000\">'member_of'</span>: <span style=\"font-weight: bold\">[]</span>,\n",
       "    <span style=\"color: #008000; text-decoration-color: #008000\">'from_fictional_universe'</span>: <span style=\"font-weight: bold\">[]</span>\n",
       "<span style=\"font-weight: bold\">}</span>\n",
       "</pre>\n"
      ],
      "text/plain": [
       "\u001b[1m{\u001b[0m\n",
       "    \u001b[32m'id'\u001b[0m: \u001b[32m'Q17122148'\u001b[0m,\n",
       "    \u001b[32m'numeric_id'\u001b[0m: \u001b[32m'17122148'\u001b[0m,\n",
       "    \u001b[32m'en_label'\u001b[0m: \u001b[32m'Albrecht Joseph'\u001b[0m,\n",
       "    \u001b[32m'en_wiki'\u001b[0m: \u001b[32m'Albrecht_Joseph'\u001b[0m,\n",
       "    \u001b[32m'en_description'\u001b[0m: \u001b[32m'German screenwriter, film editor and author'\u001b[0m,\n",
       "    \u001b[32m'type'\u001b[0m: \u001b[32m'item'\u001b[0m,\n",
       "    \u001b[32m'sitelinks'\u001b[0m: \u001b[1m[\u001b[0m\n",
       "        \u001b[1m{\u001b[0m\u001b[32m'site'\u001b[0m: \u001b[32m'dewiki'\u001b[0m, \u001b[32m'title'\u001b[0m: \u001b[32m'Albrecht Joseph'\u001b[0m, \u001b[32m'encoded'\u001b[0m: \u001b[32m'Albrecht_Joseph'\u001b[0m\u001b[1m}\u001b[0m,\n",
       "        \u001b[1m{\u001b[0m\u001b[32m'site'\u001b[0m: \u001b[32m'enwiki'\u001b[0m, \u001b[32m'title'\u001b[0m: \u001b[32m'Albrecht Joseph'\u001b[0m, \u001b[32m'encoded'\u001b[0m: \u001b[32m'Albrecht_Joseph'\u001b[0m\u001b[1m}\u001b[0m,\n",
       "        \u001b[1m{\u001b[0m\u001b[32m'site'\u001b[0m: \u001b[32m'frwiki'\u001b[0m, \u001b[32m'title'\u001b[0m: \u001b[32m'Albrecht Joseph'\u001b[0m, \u001b[32m'encoded'\u001b[0m: \u001b[32m'Albrecht_Joseph'\u001b[0m\u001b[1m}\u001b[0m,\n",
       "        \u001b[1m{\u001b[0m\u001b[32m'site'\u001b[0m: \u001b[32m'arwiki'\u001b[0m, \u001b[32m'title'\u001b[0m: \u001b[32m'ألبرشت جوزيف'\u001b[0m, \u001b[32m'encoded'\u001b[0m: \u001b[32m'ألبرشت_جوزيف'\u001b[0m\u001b[1m}\u001b[0m,\n",
       "        \u001b[1m{\u001b[0m\u001b[32m'site'\u001b[0m: \u001b[32m'arzwiki'\u001b[0m, \u001b[32m'title'\u001b[0m: \u001b[32m'البرشت چوزيف'\u001b[0m, \u001b[32m'encoded'\u001b[0m: \u001b[32m'البرشت_چوزيف'\u001b[0m\u001b[1m}\u001b[0m,\n",
       "        \u001b[1m{\u001b[0m\u001b[32m'site'\u001b[0m: \u001b[32m'fawiki'\u001b[0m, \u001b[32m'title'\u001b[0m: \u001b[32m'آلبرشت یوزف'\u001b[0m, \u001b[32m'encoded'\u001b[0m: \u001b[32m'آلبرشت_یوزف'\u001b[0m\u001b[1m}\u001b[0m\n",
       "    \u001b[1m]\u001b[0m,\n",
       "    \u001b[32m'descriptions'\u001b[0m: \u001b[1m[\u001b[0m\n",
       "        \u001b[1m{\u001b[0m\u001b[32m'language'\u001b[0m: \u001b[32m'de'\u001b[0m, \u001b[32m'value'\u001b[0m: \u001b[32m'deutsch-amerikanischer Theater- und Filmschaffender'\u001b[0m\u001b[1m}\u001b[0m,\n",
       "        \u001b[1m{\u001b[0m\u001b[32m'language'\u001b[0m: \u001b[32m'fa'\u001b[0m, \u001b[32m'value'\u001b[0m: \u001b[32m'فیلمنامه\\u200cنویس، تدوینگر، و نویسنده آلمانی'\u001b[0m\u001b[1m}\u001b[0m,\n",
       "        \u001b[1m{\u001b[0m\u001b[32m'language'\u001b[0m: \u001b[32m'en'\u001b[0m, \u001b[32m'value'\u001b[0m: \u001b[32m'German screenwriter, film editor and author'\u001b[0m\u001b[1m}\u001b[0m,\n",
       "        \u001b[1m{\u001b[0m\u001b[32m'language'\u001b[0m: \u001b[32m'nl'\u001b[0m, \u001b[32m'value'\u001b[0m: \u001b[32m'Duits scenarioschrijver \u001b[0m\u001b[32m(\u001b[0m\u001b[32m1901-1991\u001b[0m\u001b[32m)\u001b[0m\u001b[32m'\u001b[0m\u001b[1m}\u001b[0m,\n",
       "        \u001b[1m{\u001b[0m\u001b[32m'language'\u001b[0m: \u001b[32m'sv'\u001b[0m, \u001b[32m'value'\u001b[0m: \u001b[32m'tysk författare och filmklippare'\u001b[0m\u001b[1m}\u001b[0m\n",
       "    \u001b[1m]\u001b[0m,\n",
       "    \u001b[32m'labels'\u001b[0m: \u001b[1m[\u001b[0m\n",
       "        \u001b[1m{\u001b[0m\u001b[32m'language'\u001b[0m: \u001b[32m'de'\u001b[0m, \u001b[32m'value'\u001b[0m: \u001b[32m'Albrecht Joseph'\u001b[0m\u001b[1m}\u001b[0m,\n",
       "        \u001b[1m{\u001b[0m\u001b[32m'language'\u001b[0m: \u001b[32m'fr'\u001b[0m, \u001b[32m'value'\u001b[0m: \u001b[32m'Albrecht Joseph'\u001b[0m\u001b[1m}\u001b[0m,\n",
       "        \u001b[1m{\u001b[0m\u001b[32m'language'\u001b[0m: \u001b[32m'nl'\u001b[0m, \u001b[32m'value'\u001b[0m: \u001b[32m'Albrecht Joseph'\u001b[0m\u001b[1m}\u001b[0m,\n",
       "        \u001b[1m{\u001b[0m\u001b[32m'language'\u001b[0m: \u001b[32m'en'\u001b[0m, \u001b[32m'value'\u001b[0m: \u001b[32m'Albrecht Joseph'\u001b[0m\u001b[1m}\u001b[0m,\n",
       "        \u001b[1m{\u001b[0m\u001b[32m'language'\u001b[0m: \u001b[32m'es'\u001b[0m, \u001b[32m'value'\u001b[0m: \u001b[32m'Albrecht Joseph'\u001b[0m\u001b[1m}\u001b[0m,\n",
       "        \u001b[1m{\u001b[0m\u001b[32m'language'\u001b[0m: \u001b[32m'hu'\u001b[0m, \u001b[32m'value'\u001b[0m: \u001b[32m'Albrecht Joseph'\u001b[0m\u001b[1m}\u001b[0m,\n",
       "        \u001b[1m{\u001b[0m\u001b[32m'language'\u001b[0m: \u001b[32m'sl'\u001b[0m, \u001b[32m'value'\u001b[0m: \u001b[32m'Albrecht Joseph'\u001b[0m\u001b[1m}\u001b[0m,\n",
       "        \u001b[1m{\u001b[0m\u001b[32m'language'\u001b[0m: \u001b[32m'ca'\u001b[0m, \u001b[32m'value'\u001b[0m: \u001b[32m'Albrecht Joseph'\u001b[0m\u001b[1m}\u001b[0m,\n",
       "        \u001b[1m{\u001b[0m\u001b[32m'language'\u001b[0m: \u001b[32m'ast'\u001b[0m, \u001b[32m'value'\u001b[0m: \u001b[32m'Albrecht Joseph'\u001b[0m\u001b[1m}\u001b[0m,\n",
       "        \u001b[1m{\u001b[0m\u001b[32m'language'\u001b[0m: \u001b[32m'ar'\u001b[0m, \u001b[32m'value'\u001b[0m: \u001b[32m'ألبرشت جوزيف'\u001b[0m\u001b[1m}\u001b[0m,\n",
       "        \u001b[1m{\u001b[0m\u001b[32m'language'\u001b[0m: \u001b[32m'cs'\u001b[0m, \u001b[32m'value'\u001b[0m: \u001b[32m'Albrecht Joseph'\u001b[0m\u001b[1m}\u001b[0m,\n",
       "        \u001b[1m{\u001b[0m\u001b[32m'language'\u001b[0m: \u001b[32m'sk'\u001b[0m, \u001b[32m'value'\u001b[0m: \u001b[32m'Albrecht Joseph'\u001b[0m\u001b[1m}\u001b[0m,\n",
       "        \u001b[1m{\u001b[0m\u001b[32m'language'\u001b[0m: \u001b[32m'arz'\u001b[0m, \u001b[32m'value'\u001b[0m: \u001b[32m'البرشت چوزيف'\u001b[0m\u001b[1m}\u001b[0m,\n",
       "        \u001b[1m{\u001b[0m\u001b[32m'language'\u001b[0m: \u001b[32m'it'\u001b[0m, \u001b[32m'value'\u001b[0m: \u001b[32m'Albrecht Joseph'\u001b[0m\u001b[1m}\u001b[0m,\n",
       "        \u001b[1m{\u001b[0m\u001b[32m'language'\u001b[0m: \u001b[32m'sq'\u001b[0m, \u001b[32m'value'\u001b[0m: \u001b[32m'Albrecht Joseph'\u001b[0m\u001b[1m}\u001b[0m,\n",
       "        \u001b[1m{\u001b[0m\u001b[32m'language'\u001b[0m: \u001b[32m'he'\u001b[0m, \u001b[32m'value'\u001b[0m: \u001b[32m\"אלברכט ג'וזף\"\u001b[0m\u001b[1m}\u001b[0m,\n",
       "        \u001b[1m{\u001b[0m\u001b[32m'language'\u001b[0m: \u001b[32m'sv'\u001b[0m, \u001b[32m'value'\u001b[0m: \u001b[32m'Albrecht Joseph'\u001b[0m\u001b[1m}\u001b[0m,\n",
       "        \u001b[1m{\u001b[0m\u001b[32m'language'\u001b[0m: \u001b[32m'ga'\u001b[0m, \u001b[32m'value'\u001b[0m: \u001b[32m'Albrecht Joseph'\u001b[0m\u001b[1m}\u001b[0m,\n",
       "        \u001b[1m{\u001b[0m\u001b[32m'language'\u001b[0m: \u001b[32m'fa'\u001b[0m, \u001b[32m'value'\u001b[0m: \u001b[32m'آلبرشت یوزف'\u001b[0m\u001b[1m}\u001b[0m,\n",
       "        \u001b[1m{\u001b[0m\u001b[32m'language'\u001b[0m: \u001b[32m'ru'\u001b[0m, \u001b[32m'value'\u001b[0m: \u001b[32m'Элбрехт Джозеф'\u001b[0m\u001b[1m}\u001b[0m\n",
       "    \u001b[1m]\u001b[0m,\n",
       "    \u001b[32m'aliases'\u001b[0m: \u001b[1m[\u001b[0m\n",
       "        \u001b[1m{\u001b[0m\u001b[32m'language'\u001b[0m: \u001b[32m'de'\u001b[0m, \u001b[32m'value'\u001b[0m: \u001b[32m'Al Joseph'\u001b[0m\u001b[1m}\u001b[0m,\n",
       "        \u001b[1m{\u001b[0m\u001b[32m'language'\u001b[0m: \u001b[32m'en'\u001b[0m, \u001b[32m'value'\u001b[0m: \u001b[32m'Al Joseph'\u001b[0m\u001b[1m}\u001b[0m,\n",
       "        \u001b[1m{\u001b[0m\u001b[32m'language'\u001b[0m: \u001b[32m'cs'\u001b[0m, \u001b[32m'value'\u001b[0m: \u001b[32m'Al Joseph'\u001b[0m\u001b[1m}\u001b[0m,\n",
       "        \u001b[1m{\u001b[0m\u001b[32m'language'\u001b[0m: \u001b[32m'sk'\u001b[0m, \u001b[32m'value'\u001b[0m: \u001b[32m'Al Joseph'\u001b[0m\u001b[1m}\u001b[0m\n",
       "    \u001b[1m]\u001b[0m,\n",
       "    \u001b[32m'instance_of'\u001b[0m: \u001b[1m[\u001b[0m\u001b[1m{\u001b[0m\u001b[32m'numeric_id'\u001b[0m: \u001b[32m'5'\u001b[0m\u001b[1m}\u001b[0m\u001b[1m]\u001b[0m,\n",
       "    \u001b[32m'gender'\u001b[0m: \u001b[1m[\u001b[0m\u001b[1m{\u001b[0m\u001b[32m'numeric_id'\u001b[0m: \u001b[32m'6581097'\u001b[0m\u001b[1m}\u001b[0m\u001b[1m]\u001b[0m,\n",
       "    \u001b[32m'date_of_birth'\u001b[0m: \u001b[1m[\u001b[0m\u001b[1m{\u001b[0m\u001b[32m'time'\u001b[0m: \u001b[32m'+1901-11-20T00:00:00Z'\u001b[0m\u001b[1m}\u001b[0m\u001b[1m]\u001b[0m,\n",
       "    \u001b[32m'date_of_death'\u001b[0m: \u001b[1m[\u001b[0m\u001b[1m{\u001b[0m\u001b[32m'time'\u001b[0m: \u001b[32m'+1901-11-20T00:00:00Z'\u001b[0m\u001b[1m}\u001b[0m\u001b[1m]\u001b[0m,\n",
       "    \u001b[32m'worked_at'\u001b[0m: \u001b[1m[\u001b[0m\u001b[1m]\u001b[0m,\n",
       "    \u001b[32m'country_of_citizenship'\u001b[0m: \u001b[1m[\u001b[0m\u001b[1m{\u001b[0m\u001b[32m'numeric_id'\u001b[0m: \u001b[32m'183'\u001b[0m\u001b[1m}\u001b[0m\u001b[1m]\u001b[0m,\n",
       "    \u001b[32m'country'\u001b[0m: \u001b[1m[\u001b[0m\u001b[1m]\u001b[0m,\n",
       "    \u001b[32m'educated_at'\u001b[0m: \u001b[1m[\u001b[0m\u001b[1m]\u001b[0m,\n",
       "    \u001b[32m'occupation'\u001b[0m: \u001b[1m[\u001b[0m\u001b[1m{\u001b[0m\u001b[32m'numeric_id'\u001b[0m: \u001b[32m'28389'\u001b[0m\u001b[1m}\u001b[0m, \u001b[1m{\u001b[0m\u001b[32m'numeric_id'\u001b[0m: \u001b[32m'7042855'\u001b[0m\u001b[1m}\u001b[0m, \u001b[1m{\u001b[0m\u001b[32m'numeric_id'\u001b[0m: \u001b[32m'36180'\u001b[0m\u001b[1m}\u001b[0m\u001b[1m]\u001b[0m,\n",
       "    \u001b[32m'instrument'\u001b[0m: \u001b[1m[\u001b[0m\u001b[1m]\u001b[0m,\n",
       "    \u001b[32m'genre'\u001b[0m: \u001b[1m[\u001b[0m\u001b[1m]\u001b[0m,\n",
       "    \u001b[32m'industry'\u001b[0m: \u001b[1m[\u001b[0m\u001b[1m]\u001b[0m,\n",
       "    \u001b[32m'subclass_of'\u001b[0m: \u001b[1m[\u001b[0m\u001b[1m]\u001b[0m,\n",
       "    \u001b[32m'coordinate_location'\u001b[0m: \u001b[1m[\u001b[0m\u001b[1m]\u001b[0m,\n",
       "    \u001b[32m'iso_3166_alpha3'\u001b[0m: \u001b[1m[\u001b[0m\u001b[1m]\u001b[0m,\n",
       "    \u001b[32m'member_of'\u001b[0m: \u001b[1m[\u001b[0m\u001b[1m]\u001b[0m,\n",
       "    \u001b[32m'from_fictional_universe'\u001b[0m: \u001b[1m[\u001b[0m\u001b[1m]\u001b[0m\n",
       "\u001b[1m}\u001b[0m\n"
      ]
     },
     "metadata": {},
     "output_type": "display_data"
    }
   ],
   "source": [
    "info_files = (RAW_DATA_DIR / 'wikidata').glob('*')\n",
    "with open(next(info_files)) as f:\n",
    "    for line in f:\n",
    "        d = json.loads(line)\n",
    "        sites = [sitelink['site'] for sitelink in d['sitelinks']]\n",
    "        if 'enwiki' in sites:\n",
    "            print(d)\n",
    "            break\n",
    "    "
   ]
  },
  {
   "cell_type": "code",
   "execution_count": 3,
   "metadata": {},
   "outputs": [
    {
     "data": {
      "text/html": [
       "<div><style>\n",
       ".dataframe > thead > tr,\n",
       ".dataframe > tbody > tr {\n",
       "  text-align: right;\n",
       "  white-space: pre-wrap;\n",
       "}\n",
       "</style>\n",
       "<small>shape: (1_993_459, 27)</small><table border=\"1\" class=\"dataframe\"><thead><tr><th>id</th><th>numeric_id</th><th>en_label</th><th>en_wiki</th><th>en_description</th><th>type</th><th>sitelinks</th><th>descriptions</th><th>labels</th><th>aliases</th><th>instance_of</th><th>gender</th><th>date_of_birth</th><th>date_of_death</th><th>worked_at</th><th>country_of_citizenship</th><th>country</th><th>educated_at</th><th>occupation</th><th>instrument</th><th>genre</th><th>industry</th><th>subclass_of</th><th>coordinate_location</th><th>iso_3166_alpha3</th><th>member_of</th><th>from_fictional_universe</th></tr><tr><td>str</td><td>str</td><td>str</td><td>str</td><td>str</td><td>str</td><td>list[struct[3]]</td><td>list[struct[2]]</td><td>list[struct[2]]</td><td>list[struct[2]]</td><td>list[struct[1]]</td><td>list[struct[1]]</td><td>list[struct[1]]</td><td>list[struct[1]]</td><td>list[struct[1]]</td><td>list[struct[1]]</td><td>list[struct[1]]</td><td>list[struct[1]]</td><td>list[struct[1]]</td><td>list[struct[1]]</td><td>list[struct[1]]</td><td>list[struct[1]]</td><td>list[struct[1]]</td><td>list[struct[2]]</td><td>list[null]</td><td>list[struct[1]]</td><td>list[struct[1]]</td></tr></thead><tbody><tr><td>&quot;Q17122148&quot;</td><td>&quot;17122148&quot;</td><td>&quot;Albrecht Josep…</td><td>&quot;Albrecht_Josep…</td><td>&quot;German screenw…</td><td>&quot;item&quot;</td><td>[{&quot;dewiki&quot;,&quot;Albrecht Joseph&quot;,&quot;Albrecht_Joseph&quot;}, {&quot;enwiki&quot;,&quot;Albrecht Joseph&quot;,&quot;Albrecht_Joseph&quot;}, … {&quot;fawiki&quot;,&quot;آلبرشت یوزف&quot;,&quot;آلبرشت_یوزف&quot;}]</td><td>[{&quot;de&quot;,&quot;deutsch-amerikanischer Theater- und Filmschaffender&quot;}, {&quot;fa&quot;,&quot;فیلمنامه‌نویس، تدوینگر، و نویسنده آلمانی&quot;}, … {&quot;sv&quot;,&quot;tysk författare och filmklippare&quot;}]</td><td>[{&quot;de&quot;,&quot;Albrecht Joseph&quot;}, {&quot;fr&quot;,&quot;Albrecht Joseph&quot;}, … {&quot;ru&quot;,&quot;Элбрехт Джозеф&quot;}]</td><td>[{&quot;de&quot;,&quot;Al Joseph&quot;}, {&quot;en&quot;,&quot;Al Joseph&quot;}, … {&quot;sk&quot;,&quot;Al Joseph&quot;}]</td><td>[{&quot;5&quot;}]</td><td>[{&quot;6581097&quot;}]</td><td>[{&quot;+1901-11-20T00:00:00Z&quot;}]</td><td>[{&quot;+1901-11-20T00:00:00Z&quot;}]</td><td>[]</td><td>[{&quot;183&quot;}]</td><td>[]</td><td>[]</td><td>[{&quot;28389&quot;}, {&quot;7042855&quot;}, {&quot;36180&quot;}]</td><td>[]</td><td>[]</td><td>[]</td><td>[]</td><td>[]</td><td>[]</td><td>[]</td><td>[]</td></tr><tr><td>&quot;Q100707809&quot;</td><td>&quot;100707809&quot;</td><td>&quot;Robert Cahaly&quot;</td><td>&quot;Robert_Cahaly&quot;</td><td>&quot;American polls…</td><td>&quot;item&quot;</td><td>[{&quot;enwiki&quot;,&quot;Robert Cahaly&quot;,&quot;Robert_Cahaly&quot;}, {&quot;jawiki&quot;,&quot;ロバート・カヘリー&quot;,&quot;ロバート・カヘリー&quot;}]</td><td>[{&quot;en&quot;,&quot;American pollster and political consultant&quot;}, {&quot;zh&quot;,&quot;美国民调专家&quot;}]</td><td>[{&quot;en&quot;,&quot;Robert Cahaly&quot;}, {&quot;de&quot;,&quot;Robert Cahaly&quot;}, … {&quot;pt-br&quot;,&quot;Robert Cahaly&quot;}]</td><td>[]</td><td>[{&quot;5&quot;}]</td><td>[{&quot;6581097&quot;}]</td><td>[]</td><td>[]</td><td>[{&quot;100704905&quot;}]</td><td>[{&quot;30&quot;}]</td><td>[]</td><td>[{&quot;1024426&quot;}]</td><td>[{&quot;16919156&quot;}, {&quot;8125919&quot;}]</td><td>[]</td><td>[]</td><td>[]</td><td>[]</td><td>[]</td><td>[]</td><td>[]</td><td>[]</td></tr><tr><td>&hellip;</td><td>&hellip;</td><td>&hellip;</td><td>&hellip;</td><td>&hellip;</td><td>&hellip;</td><td>&hellip;</td><td>&hellip;</td><td>&hellip;</td><td>&hellip;</td><td>&hellip;</td><td>&hellip;</td><td>&hellip;</td><td>&hellip;</td><td>&hellip;</td><td>&hellip;</td><td>&hellip;</td><td>&hellip;</td><td>&hellip;</td><td>&hellip;</td><td>&hellip;</td><td>&hellip;</td><td>&hellip;</td><td>&hellip;</td><td>&hellip;</td><td>&hellip;</td><td>&hellip;</td></tr><tr><td>&quot;Q6128908&quot;</td><td>&quot;6128908&quot;</td><td>&quot;James Ashurst&quot;</td><td>&quot;James_Ashurst&quot;</td><td>&quot;English minist…</td><td>&quot;item&quot;</td><td>[{&quot;enwiki&quot;,&quot;James Ashurst&quot;,&quot;James_Ashurst&quot;}]</td><td>[{&quot;en&quot;,&quot;English minister&quot;}, {&quot;nl&quot;,&quot;ambtenaar&quot;}]</td><td>[{&quot;en&quot;,&quot;James Ashurst&quot;}, {&quot;es&quot;,&quot;James Ashurst&quot;}, … {&quot;sq&quot;,&quot;James Ashurst&quot;}]</td><td>[]</td><td>[{&quot;5&quot;}]</td><td>[{&quot;6581097&quot;}]</td><td>[{&quot;+1605-01-01T00:00:00Z&quot;}]</td><td>[{&quot;+1605-01-01T00:00:00Z&quot;}]</td><td>[]</td><td>[]</td><td>[]</td><td>[]</td><td>[{&quot;212238&quot;}]</td><td>[]</td><td>[]</td><td>[]</td><td>[]</td><td>[]</td><td>[]</td><td>[]</td><td>[]</td></tr></tbody></table></div>"
      ],
      "text/plain": [
       "shape: (1_993_459, 27)\n",
       "┌───────────┬───────────┬───────────┬───────────┬───┬───────────┬───────────┬───────────┬──────────┐\n",
       "│ id        ┆ numeric_i ┆ en_label  ┆ en_wiki   ┆ … ┆ coordinat ┆ iso_3166_ ┆ member_of ┆ from_fic │\n",
       "│ ---       ┆ d         ┆ ---       ┆ ---       ┆   ┆ e_locatio ┆ alpha3    ┆ ---       ┆ tional_u │\n",
       "│ str       ┆ ---       ┆ str       ┆ str       ┆   ┆ n         ┆ ---       ┆ list[stru ┆ niverse  │\n",
       "│           ┆ str       ┆           ┆           ┆   ┆ ---       ┆ list[null ┆ ct[1]]    ┆ ---      │\n",
       "│           ┆           ┆           ┆           ┆   ┆ list[stru ┆ ]         ┆           ┆ list[str │\n",
       "│           ┆           ┆           ┆           ┆   ┆ ct[2]]    ┆           ┆           ┆ uct[1]]  │\n",
       "╞═══════════╪═══════════╪═══════════╪═══════════╪═══╪═══════════╪═══════════╪═══════════╪══════════╡\n",
       "│ Q17122148 ┆ 17122148  ┆ Albrecht  ┆ Albrecht_ ┆ … ┆ []        ┆ []        ┆ []        ┆ []       │\n",
       "│           ┆           ┆ Joseph    ┆ Joseph    ┆   ┆           ┆           ┆           ┆          │\n",
       "│ Q10070780 ┆ 100707809 ┆ Robert    ┆ Robert_Ca ┆ … ┆ []        ┆ []        ┆ []        ┆ []       │\n",
       "│ 9         ┆           ┆ Cahaly    ┆ haly      ┆   ┆           ┆           ┆           ┆          │\n",
       "│ …         ┆ …         ┆ …         ┆ …         ┆ … ┆ …         ┆ …         ┆ …         ┆ …        │\n",
       "│ Q6128908  ┆ 6128908   ┆ James     ┆ James_Ash ┆ … ┆ []        ┆ []        ┆ []        ┆ []       │\n",
       "│           ┆           ┆ Ashurst   ┆ urst      ┆   ┆           ┆           ┆           ┆          │\n",
       "└───────────┴───────────┴───────────┴───────────┴───┴───────────┴───────────┴───────────┴──────────┘"
      ]
     },
     "metadata": {},
     "output_type": "display_data"
    }
   ],
   "source": [
    "try:\n",
    "    info_df = pl.read_parquet(PROCESSED_DATA_DIR / 'wikidata_all.parquet')\n",
    "except FileNotFoundError:\n",
    "    info_list = []\n",
    "    info_files = (RAW_DATA_DIR / 'wikidata').glob('*')\n",
    "    for file in info_files:\n",
    "        with open(file) as f:\n",
    "            for line in f:\n",
    "                d = json.loads(line)\n",
    "                sites = [sitelink['site'] for sitelink in d['sitelinks']]\n",
    "                if 'enwiki' in sites:\n",
    "                    info_list.append(d)\n",
    "    info_df = pl.DataFrame(info_list)\n",
    "\n",
    "with pl.Config(tbl_rows=3):\n",
    "    display(info_df)"
   ]
  },
  {
   "cell_type": "markdown",
   "metadata": {},
   "source": [
    "Lets' look at the columns:"
   ]
  },
  {
   "cell_type": "code",
   "execution_count": 92,
   "metadata": {},
   "outputs": [
    {
     "data": {
      "text/plain": [
       "['id',\n",
       " 'numeric_id',\n",
       " 'en_label',\n",
       " 'en_wiki',\n",
       " 'en_description',\n",
       " 'type',\n",
       " 'sitelinks',\n",
       " 'descriptions',\n",
       " 'labels',\n",
       " 'aliases',\n",
       " 'instance_of',\n",
       " 'gender',\n",
       " 'date_of_birth',\n",
       " 'date_of_death',\n",
       " 'worked_at',\n",
       " 'country_of_citizenship',\n",
       " 'country',\n",
       " 'educated_at',\n",
       " 'occupation',\n",
       " 'instrument',\n",
       " 'genre',\n",
       " 'industry',\n",
       " 'subclass_of',\n",
       " 'coordinate_location',\n",
       " 'iso_3166_alpha3',\n",
       " 'member_of',\n",
       " 'from_fictional_universe']"
      ]
     },
     "execution_count": 92,
     "metadata": {},
     "output_type": "execute_result"
    }
   ],
   "source": [
    "info_df.columns"
   ]
  },
  {
   "cell_type": "markdown",
   "metadata": {},
   "source": [
    "**Columns description** from the Wikidata Database (I've used the [Wikidata Property Explorer](https://prop-explorer.toolforge.org/)):\n",
    "- `id`, `numeric_id` - entity identifiers.\n",
    "- `en_wiki`, `en_label`, `en_description` - English wiki-name, label (human-readable name) and description of the entity.\n",
    "- `type` - type of entity (item/property/etc. See https://www.wikidata.org/wiki/Wikidata:Identifiers).\n",
    "- `sitelinks` - a list of *struct*s (dictionary-like data structure) containing site name, wiki-name, and label of the entity in all the wikis it is in.\n",
    "- `descriptions`, `labels`, `aliases` - lists of structs containing site name, description of the entity in that site, label and aliases of entity in that site.\n",
    "- `instance_of` - \"that class[es] of which this subject is a particular example and member\". In this dataset I've taken only entities that are an instance of `Human (Q5)`.\n",
    "- `gender` - \"sex or gender identity of human or animal. For human: male, female, non-binary, intersex, transgender female, transgender male, agender, etc.\"\n",
    "- `date_of_birth`/`death` - \"date on which the subject was born / died\"\n",
    "- `worked_at` - \"location where persons or organisations were actively participating in employment, business or other work\"\n",
    "- `country_of_citizenship` - \"the object is a country that recognizes the subject as its citizen\"\n",
    "- `country` - \"sovereign state that this item is in ***(not to be used for human beings)***\"\n",
    "- `educated_at` - \"educational institution attended by subject\"\n",
    "- `occupation` - \"occupation of a person\"\n",
    "- `instrument` - \"musical instrument that a person plays or teaches or used in a music occupation\"\n",
    "- `genre` - \"creative work's genre or an artist's field of work\"\n",
    "- `industry` - \"specific industry of company or organization\"\n",
    "- `subclass_of` - \"this item is a subclass (subset) of that item; all instances of this item are instances of that item. different from P31 (instance of), e.g.: K2 is an instance of mountain; volcano is a subclass of mountain (and an instance of volcanic landform)\"\n",
    "- `coordinate_location` - \"geocoordinates of the subject\"\n",
    "- `iso_3166_alpha3` - \"identifier for a country in three-letter format\"\n",
    "- `member_of` - \"organization, club or musical group to which the subject belongs\"\n",
    "- `from_fictional_universe` - \"subject's fictional entity is in the object narrative\"."
   ]
  },
  {
   "cell_type": "markdown",
   "metadata": {},
   "source": [
    "### Cleaning the Data"
   ]
  },
  {
   "cell_type": "markdown",
   "metadata": {},
   "source": [
    "Let's look at the columns and their data types."
   ]
  },
  {
   "cell_type": "code",
   "execution_count": 3,
   "metadata": {},
   "outputs": [
    {
     "data": {
      "text/html": [
       "<pre style=\"white-space:pre;overflow-x:auto;line-height:normal;font-family:Menlo,'DejaVu Sans Mono',consolas,'Courier New',monospace\"><span style=\"font-weight: bold\">{</span>\n",
       "    <span style=\"color: #008000; text-decoration-color: #008000\">'id'</span>: String,\n",
       "    <span style=\"color: #008000; text-decoration-color: #008000\">'numeric_id'</span>: String,\n",
       "    <span style=\"color: #008000; text-decoration-color: #008000\">'en_label'</span>: String,\n",
       "    <span style=\"color: #008000; text-decoration-color: #008000\">'en_wiki'</span>: String,\n",
       "    <span style=\"color: #008000; text-decoration-color: #008000\">'en_description'</span>: String,\n",
       "    <span style=\"color: #008000; text-decoration-color: #008000\">'type'</span>: String,\n",
       "    <span style=\"color: #008000; text-decoration-color: #008000\">'sitelinks'</span>: <span style=\"color: #800080; text-decoration-color: #800080; font-weight: bold\">List</span><span style=\"font-weight: bold\">(</span><span style=\"color: #800080; text-decoration-color: #800080; font-weight: bold\">Struct</span><span style=\"font-weight: bold\">({</span><span style=\"color: #008000; text-decoration-color: #008000\">'site'</span>: String, <span style=\"color: #008000; text-decoration-color: #008000\">'title'</span>: String, <span style=\"color: #008000; text-decoration-color: #008000\">'encoded'</span>: String<span style=\"font-weight: bold\">}))</span>,\n",
       "    <span style=\"color: #008000; text-decoration-color: #008000\">'descriptions'</span>: <span style=\"color: #800080; text-decoration-color: #800080; font-weight: bold\">List</span><span style=\"font-weight: bold\">(</span><span style=\"color: #800080; text-decoration-color: #800080; font-weight: bold\">Struct</span><span style=\"font-weight: bold\">({</span><span style=\"color: #008000; text-decoration-color: #008000\">'language'</span>: String, <span style=\"color: #008000; text-decoration-color: #008000\">'value'</span>: String<span style=\"font-weight: bold\">}))</span>,\n",
       "    <span style=\"color: #008000; text-decoration-color: #008000\">'labels'</span>: <span style=\"color: #800080; text-decoration-color: #800080; font-weight: bold\">List</span><span style=\"font-weight: bold\">(</span><span style=\"color: #800080; text-decoration-color: #800080; font-weight: bold\">Struct</span><span style=\"font-weight: bold\">({</span><span style=\"color: #008000; text-decoration-color: #008000\">'language'</span>: String, <span style=\"color: #008000; text-decoration-color: #008000\">'value'</span>: String<span style=\"font-weight: bold\">}))</span>,\n",
       "    <span style=\"color: #008000; text-decoration-color: #008000\">'aliases'</span>: <span style=\"color: #800080; text-decoration-color: #800080; font-weight: bold\">List</span><span style=\"font-weight: bold\">(</span><span style=\"color: #800080; text-decoration-color: #800080; font-weight: bold\">Struct</span><span style=\"font-weight: bold\">({</span><span style=\"color: #008000; text-decoration-color: #008000\">'language'</span>: String, <span style=\"color: #008000; text-decoration-color: #008000\">'value'</span>: String<span style=\"font-weight: bold\">}))</span>,\n",
       "    <span style=\"color: #008000; text-decoration-color: #008000\">'instance_of'</span>: <span style=\"color: #800080; text-decoration-color: #800080; font-weight: bold\">List</span><span style=\"font-weight: bold\">(</span><span style=\"color: #800080; text-decoration-color: #800080; font-weight: bold\">Struct</span><span style=\"font-weight: bold\">({</span><span style=\"color: #008000; text-decoration-color: #008000\">'numeric_id'</span>: String<span style=\"font-weight: bold\">}))</span>,\n",
       "    <span style=\"color: #008000; text-decoration-color: #008000\">'gender'</span>: <span style=\"color: #800080; text-decoration-color: #800080; font-weight: bold\">List</span><span style=\"font-weight: bold\">(</span><span style=\"color: #800080; text-decoration-color: #800080; font-weight: bold\">Struct</span><span style=\"font-weight: bold\">({</span><span style=\"color: #008000; text-decoration-color: #008000\">'numeric_id'</span>: String<span style=\"font-weight: bold\">}))</span>,\n",
       "    <span style=\"color: #008000; text-decoration-color: #008000\">'date_of_birth'</span>: <span style=\"color: #800080; text-decoration-color: #800080; font-weight: bold\">List</span><span style=\"font-weight: bold\">(</span><span style=\"color: #800080; text-decoration-color: #800080; font-weight: bold\">Struct</span><span style=\"font-weight: bold\">({</span><span style=\"color: #008000; text-decoration-color: #008000\">'time'</span>: String<span style=\"font-weight: bold\">}))</span>,\n",
       "    <span style=\"color: #008000; text-decoration-color: #008000\">'date_of_death'</span>: <span style=\"color: #800080; text-decoration-color: #800080; font-weight: bold\">List</span><span style=\"font-weight: bold\">(</span><span style=\"color: #800080; text-decoration-color: #800080; font-weight: bold\">Struct</span><span style=\"font-weight: bold\">({</span><span style=\"color: #008000; text-decoration-color: #008000\">'time'</span>: String<span style=\"font-weight: bold\">}))</span>,\n",
       "    <span style=\"color: #008000; text-decoration-color: #008000\">'worked_at'</span>: <span style=\"color: #800080; text-decoration-color: #800080; font-weight: bold\">List</span><span style=\"font-weight: bold\">(</span><span style=\"color: #800080; text-decoration-color: #800080; font-weight: bold\">Struct</span><span style=\"font-weight: bold\">({</span><span style=\"color: #008000; text-decoration-color: #008000\">'numeric_id'</span>: String<span style=\"font-weight: bold\">}))</span>,\n",
       "    <span style=\"color: #008000; text-decoration-color: #008000\">'country_of_citizenship'</span>: <span style=\"color: #800080; text-decoration-color: #800080; font-weight: bold\">List</span><span style=\"font-weight: bold\">(</span><span style=\"color: #800080; text-decoration-color: #800080; font-weight: bold\">Struct</span><span style=\"font-weight: bold\">({</span><span style=\"color: #008000; text-decoration-color: #008000\">'numeric_id'</span>: String<span style=\"font-weight: bold\">}))</span>,\n",
       "    <span style=\"color: #008000; text-decoration-color: #008000\">'country'</span>: <span style=\"color: #800080; text-decoration-color: #800080; font-weight: bold\">List</span><span style=\"font-weight: bold\">(</span><span style=\"color: #800080; text-decoration-color: #800080; font-weight: bold\">Struct</span><span style=\"font-weight: bold\">({</span><span style=\"color: #008000; text-decoration-color: #008000\">'numeric_id'</span>: String<span style=\"font-weight: bold\">}))</span>,\n",
       "    <span style=\"color: #008000; text-decoration-color: #008000\">'educated_at'</span>: <span style=\"color: #800080; text-decoration-color: #800080; font-weight: bold\">List</span><span style=\"font-weight: bold\">(</span><span style=\"color: #800080; text-decoration-color: #800080; font-weight: bold\">Struct</span><span style=\"font-weight: bold\">({</span><span style=\"color: #008000; text-decoration-color: #008000\">'numeric_id'</span>: String<span style=\"font-weight: bold\">}))</span>,\n",
       "    <span style=\"color: #008000; text-decoration-color: #008000\">'occupation'</span>: <span style=\"color: #800080; text-decoration-color: #800080; font-weight: bold\">List</span><span style=\"font-weight: bold\">(</span><span style=\"color: #800080; text-decoration-color: #800080; font-weight: bold\">Struct</span><span style=\"font-weight: bold\">({</span><span style=\"color: #008000; text-decoration-color: #008000\">'numeric_id'</span>: String<span style=\"font-weight: bold\">}))</span>,\n",
       "    <span style=\"color: #008000; text-decoration-color: #008000\">'instrument'</span>: <span style=\"color: #800080; text-decoration-color: #800080; font-weight: bold\">List</span><span style=\"font-weight: bold\">(</span><span style=\"color: #800080; text-decoration-color: #800080; font-weight: bold\">Struct</span><span style=\"font-weight: bold\">({</span><span style=\"color: #008000; text-decoration-color: #008000\">'numeric_id'</span>: String<span style=\"font-weight: bold\">}))</span>,\n",
       "    <span style=\"color: #008000; text-decoration-color: #008000\">'genre'</span>: <span style=\"color: #800080; text-decoration-color: #800080; font-weight: bold\">List</span><span style=\"font-weight: bold\">(</span><span style=\"color: #800080; text-decoration-color: #800080; font-weight: bold\">Struct</span><span style=\"font-weight: bold\">({</span><span style=\"color: #008000; text-decoration-color: #008000\">'numeric_id'</span>: String<span style=\"font-weight: bold\">}))</span>,\n",
       "    <span style=\"color: #008000; text-decoration-color: #008000\">'industry'</span>: <span style=\"color: #800080; text-decoration-color: #800080; font-weight: bold\">List</span><span style=\"font-weight: bold\">(</span><span style=\"color: #800080; text-decoration-color: #800080; font-weight: bold\">Struct</span><span style=\"font-weight: bold\">({</span><span style=\"color: #008000; text-decoration-color: #008000\">'numeric_id'</span>: String<span style=\"font-weight: bold\">}))</span>,\n",
       "    <span style=\"color: #008000; text-decoration-color: #008000\">'subclass_of'</span>: <span style=\"color: #800080; text-decoration-color: #800080; font-weight: bold\">List</span><span style=\"font-weight: bold\">(</span><span style=\"color: #800080; text-decoration-color: #800080; font-weight: bold\">Struct</span><span style=\"font-weight: bold\">({</span><span style=\"color: #008000; text-decoration-color: #008000\">'numeric_id'</span>: String<span style=\"font-weight: bold\">}))</span>,\n",
       "    <span style=\"color: #008000; text-decoration-color: #008000\">'coordinate_location'</span>: <span style=\"color: #800080; text-decoration-color: #800080; font-weight: bold\">List</span><span style=\"font-weight: bold\">(</span><span style=\"color: #800080; text-decoration-color: #800080; font-weight: bold\">Struct</span><span style=\"font-weight: bold\">({</span><span style=\"color: #008000; text-decoration-color: #008000\">'latitude'</span>: Float64, <span style=\"color: #008000; text-decoration-color: #008000\">'longitude'</span>: Float64<span style=\"font-weight: bold\">}))</span>,\n",
       "    <span style=\"color: #008000; text-decoration-color: #008000\">'iso_3166_alpha3'</span>: <span style=\"color: #800080; text-decoration-color: #800080; font-weight: bold\">List</span><span style=\"font-weight: bold\">(</span>Null<span style=\"font-weight: bold\">)</span>,\n",
       "    <span style=\"color: #008000; text-decoration-color: #008000\">'member_of'</span>: <span style=\"color: #800080; text-decoration-color: #800080; font-weight: bold\">List</span><span style=\"font-weight: bold\">(</span><span style=\"color: #800080; text-decoration-color: #800080; font-weight: bold\">Struct</span><span style=\"font-weight: bold\">({</span><span style=\"color: #008000; text-decoration-color: #008000\">'numeric_id'</span>: String<span style=\"font-weight: bold\">}))</span>,\n",
       "    <span style=\"color: #008000; text-decoration-color: #008000\">'from_fictional_universe'</span>: <span style=\"color: #800080; text-decoration-color: #800080; font-weight: bold\">List</span><span style=\"font-weight: bold\">(</span><span style=\"color: #800080; text-decoration-color: #800080; font-weight: bold\">Struct</span><span style=\"font-weight: bold\">({</span><span style=\"color: #008000; text-decoration-color: #008000\">'numeric_id'</span>: String<span style=\"font-weight: bold\">}))</span>\n",
       "<span style=\"font-weight: bold\">}</span>\n",
       "</pre>\n"
      ],
      "text/plain": [
       "\u001b[1m{\u001b[0m\n",
       "    \u001b[32m'id'\u001b[0m: String,\n",
       "    \u001b[32m'numeric_id'\u001b[0m: String,\n",
       "    \u001b[32m'en_label'\u001b[0m: String,\n",
       "    \u001b[32m'en_wiki'\u001b[0m: String,\n",
       "    \u001b[32m'en_description'\u001b[0m: String,\n",
       "    \u001b[32m'type'\u001b[0m: String,\n",
       "    \u001b[32m'sitelinks'\u001b[0m: \u001b[1;35mList\u001b[0m\u001b[1m(\u001b[0m\u001b[1;35mStruct\u001b[0m\u001b[1m(\u001b[0m\u001b[1m{\u001b[0m\u001b[32m'site'\u001b[0m: String, \u001b[32m'title'\u001b[0m: String, \u001b[32m'encoded'\u001b[0m: String\u001b[1m}\u001b[0m\u001b[1m)\u001b[0m\u001b[1m)\u001b[0m,\n",
       "    \u001b[32m'descriptions'\u001b[0m: \u001b[1;35mList\u001b[0m\u001b[1m(\u001b[0m\u001b[1;35mStruct\u001b[0m\u001b[1m(\u001b[0m\u001b[1m{\u001b[0m\u001b[32m'language'\u001b[0m: String, \u001b[32m'value'\u001b[0m: String\u001b[1m}\u001b[0m\u001b[1m)\u001b[0m\u001b[1m)\u001b[0m,\n",
       "    \u001b[32m'labels'\u001b[0m: \u001b[1;35mList\u001b[0m\u001b[1m(\u001b[0m\u001b[1;35mStruct\u001b[0m\u001b[1m(\u001b[0m\u001b[1m{\u001b[0m\u001b[32m'language'\u001b[0m: String, \u001b[32m'value'\u001b[0m: String\u001b[1m}\u001b[0m\u001b[1m)\u001b[0m\u001b[1m)\u001b[0m,\n",
       "    \u001b[32m'aliases'\u001b[0m: \u001b[1;35mList\u001b[0m\u001b[1m(\u001b[0m\u001b[1;35mStruct\u001b[0m\u001b[1m(\u001b[0m\u001b[1m{\u001b[0m\u001b[32m'language'\u001b[0m: String, \u001b[32m'value'\u001b[0m: String\u001b[1m}\u001b[0m\u001b[1m)\u001b[0m\u001b[1m)\u001b[0m,\n",
       "    \u001b[32m'instance_of'\u001b[0m: \u001b[1;35mList\u001b[0m\u001b[1m(\u001b[0m\u001b[1;35mStruct\u001b[0m\u001b[1m(\u001b[0m\u001b[1m{\u001b[0m\u001b[32m'numeric_id'\u001b[0m: String\u001b[1m}\u001b[0m\u001b[1m)\u001b[0m\u001b[1m)\u001b[0m,\n",
       "    \u001b[32m'gender'\u001b[0m: \u001b[1;35mList\u001b[0m\u001b[1m(\u001b[0m\u001b[1;35mStruct\u001b[0m\u001b[1m(\u001b[0m\u001b[1m{\u001b[0m\u001b[32m'numeric_id'\u001b[0m: String\u001b[1m}\u001b[0m\u001b[1m)\u001b[0m\u001b[1m)\u001b[0m,\n",
       "    \u001b[32m'date_of_birth'\u001b[0m: \u001b[1;35mList\u001b[0m\u001b[1m(\u001b[0m\u001b[1;35mStruct\u001b[0m\u001b[1m(\u001b[0m\u001b[1m{\u001b[0m\u001b[32m'time'\u001b[0m: String\u001b[1m}\u001b[0m\u001b[1m)\u001b[0m\u001b[1m)\u001b[0m,\n",
       "    \u001b[32m'date_of_death'\u001b[0m: \u001b[1;35mList\u001b[0m\u001b[1m(\u001b[0m\u001b[1;35mStruct\u001b[0m\u001b[1m(\u001b[0m\u001b[1m{\u001b[0m\u001b[32m'time'\u001b[0m: String\u001b[1m}\u001b[0m\u001b[1m)\u001b[0m\u001b[1m)\u001b[0m,\n",
       "    \u001b[32m'worked_at'\u001b[0m: \u001b[1;35mList\u001b[0m\u001b[1m(\u001b[0m\u001b[1;35mStruct\u001b[0m\u001b[1m(\u001b[0m\u001b[1m{\u001b[0m\u001b[32m'numeric_id'\u001b[0m: String\u001b[1m}\u001b[0m\u001b[1m)\u001b[0m\u001b[1m)\u001b[0m,\n",
       "    \u001b[32m'country_of_citizenship'\u001b[0m: \u001b[1;35mList\u001b[0m\u001b[1m(\u001b[0m\u001b[1;35mStruct\u001b[0m\u001b[1m(\u001b[0m\u001b[1m{\u001b[0m\u001b[32m'numeric_id'\u001b[0m: String\u001b[1m}\u001b[0m\u001b[1m)\u001b[0m\u001b[1m)\u001b[0m,\n",
       "    \u001b[32m'country'\u001b[0m: \u001b[1;35mList\u001b[0m\u001b[1m(\u001b[0m\u001b[1;35mStruct\u001b[0m\u001b[1m(\u001b[0m\u001b[1m{\u001b[0m\u001b[32m'numeric_id'\u001b[0m: String\u001b[1m}\u001b[0m\u001b[1m)\u001b[0m\u001b[1m)\u001b[0m,\n",
       "    \u001b[32m'educated_at'\u001b[0m: \u001b[1;35mList\u001b[0m\u001b[1m(\u001b[0m\u001b[1;35mStruct\u001b[0m\u001b[1m(\u001b[0m\u001b[1m{\u001b[0m\u001b[32m'numeric_id'\u001b[0m: String\u001b[1m}\u001b[0m\u001b[1m)\u001b[0m\u001b[1m)\u001b[0m,\n",
       "    \u001b[32m'occupation'\u001b[0m: \u001b[1;35mList\u001b[0m\u001b[1m(\u001b[0m\u001b[1;35mStruct\u001b[0m\u001b[1m(\u001b[0m\u001b[1m{\u001b[0m\u001b[32m'numeric_id'\u001b[0m: String\u001b[1m}\u001b[0m\u001b[1m)\u001b[0m\u001b[1m)\u001b[0m,\n",
       "    \u001b[32m'instrument'\u001b[0m: \u001b[1;35mList\u001b[0m\u001b[1m(\u001b[0m\u001b[1;35mStruct\u001b[0m\u001b[1m(\u001b[0m\u001b[1m{\u001b[0m\u001b[32m'numeric_id'\u001b[0m: String\u001b[1m}\u001b[0m\u001b[1m)\u001b[0m\u001b[1m)\u001b[0m,\n",
       "    \u001b[32m'genre'\u001b[0m: \u001b[1;35mList\u001b[0m\u001b[1m(\u001b[0m\u001b[1;35mStruct\u001b[0m\u001b[1m(\u001b[0m\u001b[1m{\u001b[0m\u001b[32m'numeric_id'\u001b[0m: String\u001b[1m}\u001b[0m\u001b[1m)\u001b[0m\u001b[1m)\u001b[0m,\n",
       "    \u001b[32m'industry'\u001b[0m: \u001b[1;35mList\u001b[0m\u001b[1m(\u001b[0m\u001b[1;35mStruct\u001b[0m\u001b[1m(\u001b[0m\u001b[1m{\u001b[0m\u001b[32m'numeric_id'\u001b[0m: String\u001b[1m}\u001b[0m\u001b[1m)\u001b[0m\u001b[1m)\u001b[0m,\n",
       "    \u001b[32m'subclass_of'\u001b[0m: \u001b[1;35mList\u001b[0m\u001b[1m(\u001b[0m\u001b[1;35mStruct\u001b[0m\u001b[1m(\u001b[0m\u001b[1m{\u001b[0m\u001b[32m'numeric_id'\u001b[0m: String\u001b[1m}\u001b[0m\u001b[1m)\u001b[0m\u001b[1m)\u001b[0m,\n",
       "    \u001b[32m'coordinate_location'\u001b[0m: \u001b[1;35mList\u001b[0m\u001b[1m(\u001b[0m\u001b[1;35mStruct\u001b[0m\u001b[1m(\u001b[0m\u001b[1m{\u001b[0m\u001b[32m'latitude'\u001b[0m: Float64, \u001b[32m'longitude'\u001b[0m: Float64\u001b[1m}\u001b[0m\u001b[1m)\u001b[0m\u001b[1m)\u001b[0m,\n",
       "    \u001b[32m'iso_3166_alpha3'\u001b[0m: \u001b[1;35mList\u001b[0m\u001b[1m(\u001b[0mNull\u001b[1m)\u001b[0m,\n",
       "    \u001b[32m'member_of'\u001b[0m: \u001b[1;35mList\u001b[0m\u001b[1m(\u001b[0m\u001b[1;35mStruct\u001b[0m\u001b[1m(\u001b[0m\u001b[1m{\u001b[0m\u001b[32m'numeric_id'\u001b[0m: String\u001b[1m}\u001b[0m\u001b[1m)\u001b[0m\u001b[1m)\u001b[0m,\n",
       "    \u001b[32m'from_fictional_universe'\u001b[0m: \u001b[1;35mList\u001b[0m\u001b[1m(\u001b[0m\u001b[1;35mStruct\u001b[0m\u001b[1m(\u001b[0m\u001b[1m{\u001b[0m\u001b[32m'numeric_id'\u001b[0m: String\u001b[1m}\u001b[0m\u001b[1m)\u001b[0m\u001b[1m)\u001b[0m\n",
       "\u001b[1m}\u001b[0m\n"
      ]
     },
     "metadata": {},
     "output_type": "display_data"
    }
   ],
   "source": [
    "print(dict(zip(info_df.columns, info_df.dtypes)))"
   ]
  },
  {
   "cell_type": "markdown",
   "metadata": {},
   "source": [
    "One of the challenges in this dataset is the abundance of `List` and `Struct` (a dictionary-like) data types. Meaning, each cell can have multiple values in it. This section will mostly focus on how to solve this problem.\n",
    "\n",
    "✨ I shall treat the `List` columns differently than the \"normal\" columns when transforming and exploring the data."
   ]
  },
  {
   "cell_type": "markdown",
   "metadata": {},
   "source": [
    "**Questions for cleaning the data:**\n",
    "1. Are there any duplicate rows?\n",
    "2. Are there any columns that contain nothing but empty lists or null values? Are there columns that are *mostly* empty?\n",
    "3. Are there any list/struct columns that always contain a single value (= lists that can be flattened)?\n",
    "4. How many unique values does each column contains?\n",
    "\n",
    "**Preliminary notes:**\n",
    "* The values in `date_of_death` column are wrong (for some reason). I shall drop that column.\n",
    "* According to [the Wikidata site](https://www.wikidata.org/wiki/Property:P17), this property should not be used for humans. I shall drop this columns as well.\n"
   ]
  },
  {
   "cell_type": "markdown",
   "metadata": {},
   "source": [
    "---"
   ]
  },
  {
   "cell_type": "markdown",
   "metadata": {},
   "source": [
    "* **Duplicate rows**"
   ]
  },
  {
   "cell_type": "code",
   "execution_count": 21,
   "metadata": {},
   "outputs": [
    {
     "data": {
      "text/html": [
       "<pre style=\"white-space:pre;overflow-x:auto;line-height:normal;font-family:Menlo,'DejaVu Sans Mono',consolas,'Courier New',monospace\">There are <span style=\"color: #008080; text-decoration-color: #008080; font-weight: bold\">22</span> rows carrying duplicate `id`s.\n",
       "</pre>\n"
      ],
      "text/plain": [
       "There are \u001b[1;36m22\u001b[0m rows carrying duplicate `id`s.\n"
      ]
     },
     "metadata": {},
     "output_type": "display_data"
    }
   ],
   "source": [
    "duplicated_df = info_df.filter(info_df['id'].is_duplicated())\n",
    "\n",
    "print(f'There are {duplicated_df.height} rows carrying duplicate `id`s.')"
   ]
  },
  {
   "cell_type": "markdown",
   "metadata": {},
   "source": [
    "✨ I will delete all the duplicate rows."
   ]
  },
  {
   "cell_type": "markdown",
   "metadata": {},
   "source": [
    "* **Empty columns**"
   ]
  },
  {
   "cell_type": "code",
   "execution_count": 56,
   "metadata": {},
   "outputs": [
    {
     "data": {
      "text/html": [
       "<style type=\"text/css\">\n",
       "</style>\n",
       "<table id=\"T_4eb27\">\n",
       "  <thead>\n",
       "    <tr>\n",
       "      <th class=\"blank level0\" >&nbsp;</th>\n",
       "      <th id=\"T_4eb27_level0_col0\" class=\"col_heading level0 col0\" >column</th>\n",
       "      <th id=\"T_4eb27_level0_col1\" class=\"col_heading level0 col1\" >num_empty</th>\n",
       "      <th id=\"T_4eb27_level0_col2\" class=\"col_heading level0 col2\" >percent_empty</th>\n",
       "    </tr>\n",
       "  </thead>\n",
       "  <tbody>\n",
       "    <tr>\n",
       "      <th id=\"T_4eb27_level0_row0\" class=\"row_heading level0 row0\" >24</th>\n",
       "      <td id=\"T_4eb27_row0_col0\" class=\"data row0 col0\" >iso_3166_alpha3</td>\n",
       "      <td id=\"T_4eb27_row0_col1\" class=\"data row0 col1\" >1,993,448</td>\n",
       "      <td id=\"T_4eb27_row0_col2\" class=\"data row0 col2\" >100.000%</td>\n",
       "    </tr>\n",
       "    <tr>\n",
       "      <th id=\"T_4eb27_level0_row1\" class=\"row_heading level0 row1\" >26</th>\n",
       "      <td id=\"T_4eb27_row1_col0\" class=\"data row1 col0\" >from_fictional_universe</td>\n",
       "      <td id=\"T_4eb27_row1_col1\" class=\"data row1 col1\" >1,993,443</td>\n",
       "      <td id=\"T_4eb27_row1_col2\" class=\"data row1 col2\" >100.000%</td>\n",
       "    </tr>\n",
       "    <tr>\n",
       "      <th id=\"T_4eb27_level0_row2\" class=\"row_heading level0 row2\" >22</th>\n",
       "      <td id=\"T_4eb27_row2_col0\" class=\"data row2 col0\" >subclass_of</td>\n",
       "      <td id=\"T_4eb27_row2_col1\" class=\"data row2 col1\" >1,993,431</td>\n",
       "      <td id=\"T_4eb27_row2_col2\" class=\"data row2 col2\" >99.999%</td>\n",
       "    </tr>\n",
       "    <tr>\n",
       "      <th id=\"T_4eb27_level0_row3\" class=\"row_heading level0 row3\" >23</th>\n",
       "      <td id=\"T_4eb27_row3_col0\" class=\"data row3 col0\" >coordinate_location</td>\n",
       "      <td id=\"T_4eb27_row3_col1\" class=\"data row3 col1\" >1,993,423</td>\n",
       "      <td id=\"T_4eb27_row3_col2\" class=\"data row3 col2\" >99.999%</td>\n",
       "    </tr>\n",
       "    <tr>\n",
       "      <th id=\"T_4eb27_level0_row4\" class=\"row_heading level0 row4\" >21</th>\n",
       "      <td id=\"T_4eb27_row4_col0\" class=\"data row4 col0\" >industry</td>\n",
       "      <td id=\"T_4eb27_row4_col1\" class=\"data row4 col1\" >1,993,082</td>\n",
       "      <td id=\"T_4eb27_row4_col2\" class=\"data row4 col2\" >99.982%</td>\n",
       "    </tr>\n",
       "    <tr>\n",
       "      <th id=\"T_4eb27_level0_row5\" class=\"row_heading level0 row5\" >16</th>\n",
       "      <td id=\"T_4eb27_row5_col0\" class=\"data row5 col0\" >country</td>\n",
       "      <td id=\"T_4eb27_row5_col1\" class=\"data row5 col1\" >1,992,209</td>\n",
       "      <td id=\"T_4eb27_row5_col2\" class=\"data row5 col2\" >99.938%</td>\n",
       "    </tr>\n",
       "    <tr>\n",
       "      <th id=\"T_4eb27_level0_row6\" class=\"row_heading level0 row6\" >20</th>\n",
       "      <td id=\"T_4eb27_row6_col0\" class=\"data row6 col0\" >genre</td>\n",
       "      <td id=\"T_4eb27_row6_col1\" class=\"data row6 col1\" >1,918,158</td>\n",
       "      <td id=\"T_4eb27_row6_col2\" class=\"data row6 col2\" >96.223%</td>\n",
       "    </tr>\n",
       "    <tr>\n",
       "      <th id=\"T_4eb27_level0_row7\" class=\"row_heading level0 row7\" >19</th>\n",
       "      <td id=\"T_4eb27_row7_col0\" class=\"data row7 col0\" >instrument</td>\n",
       "      <td id=\"T_4eb27_row7_col1\" class=\"data row7 col1\" >1,904,077</td>\n",
       "      <td id=\"T_4eb27_row7_col2\" class=\"data row7 col2\" >95.517%</td>\n",
       "    </tr>\n",
       "    <tr>\n",
       "      <th id=\"T_4eb27_level0_row8\" class=\"row_heading level0 row8\" >25</th>\n",
       "      <td id=\"T_4eb27_row8_col0\" class=\"data row8 col0\" >member_of</td>\n",
       "      <td id=\"T_4eb27_row8_col1\" class=\"data row8 col1\" >1,882,243</td>\n",
       "      <td id=\"T_4eb27_row8_col2\" class=\"data row8 col2\" >94.421%</td>\n",
       "    </tr>\n",
       "    <tr>\n",
       "      <th id=\"T_4eb27_level0_row9\" class=\"row_heading level0 row9\" >14</th>\n",
       "      <td id=\"T_4eb27_row9_col0\" class=\"data row9 col0\" >worked_at</td>\n",
       "      <td id=\"T_4eb27_row9_col1\" class=\"data row9 col1\" >1,811,036</td>\n",
       "      <td id=\"T_4eb27_row9_col2\" class=\"data row9 col2\" >90.849%</td>\n",
       "    </tr>\n",
       "    <tr>\n",
       "      <th id=\"T_4eb27_level0_row10\" class=\"row_heading level0 row10\" >17</th>\n",
       "      <td id=\"T_4eb27_row10_col0\" class=\"data row10 col0\" >educated_at</td>\n",
       "      <td id=\"T_4eb27_row10_col1\" class=\"data row10 col1\" >1,332,655</td>\n",
       "      <td id=\"T_4eb27_row10_col2\" class=\"data row10 col2\" >66.852%</td>\n",
       "    </tr>\n",
       "    <tr>\n",
       "      <th id=\"T_4eb27_level0_row11\" class=\"row_heading level0 row11\" >9</th>\n",
       "      <td id=\"T_4eb27_row11_col0\" class=\"data row11 col0\" >aliases</td>\n",
       "      <td id=\"T_4eb27_row11_col1\" class=\"data row11 col1\" >875,130</td>\n",
       "      <td id=\"T_4eb27_row11_col2\" class=\"data row11 col2\" >43.900%</td>\n",
       "    </tr>\n",
       "    <tr>\n",
       "      <th id=\"T_4eb27_level0_row12\" class=\"row_heading level0 row12\" >15</th>\n",
       "      <td id=\"T_4eb27_row12_col0\" class=\"data row12 col0\" >country_of_citizenship</td>\n",
       "      <td id=\"T_4eb27_row12_col1\" class=\"data row12 col1\" >448,288</td>\n",
       "      <td id=\"T_4eb27_row12_col2\" class=\"data row12 col2\" >22.488%</td>\n",
       "    </tr>\n",
       "    <tr>\n",
       "      <th id=\"T_4eb27_level0_row13\" class=\"row_heading level0 row13\" >13</th>\n",
       "      <td id=\"T_4eb27_row13_col0\" class=\"data row13 col0\" >date_of_death</td>\n",
       "      <td id=\"T_4eb27_row13_col1\" class=\"data row13 col1\" >197,055</td>\n",
       "      <td id=\"T_4eb27_row13_col2\" class=\"data row13 col2\" >9.885%</td>\n",
       "    </tr>\n",
       "    <tr>\n",
       "      <th id=\"T_4eb27_level0_row14\" class=\"row_heading level0 row14\" >12</th>\n",
       "      <td id=\"T_4eb27_row14_col0\" class=\"data row14 col0\" >date_of_birth</td>\n",
       "      <td id=\"T_4eb27_row14_col1\" class=\"data row14 col1\" >197,055</td>\n",
       "      <td id=\"T_4eb27_row14_col2\" class=\"data row14 col2\" >9.885%</td>\n",
       "    </tr>\n",
       "    <tr>\n",
       "      <th id=\"T_4eb27_level0_row15\" class=\"row_heading level0 row15\" >18</th>\n",
       "      <td id=\"T_4eb27_row15_col0\" class=\"data row15 col0\" >occupation</td>\n",
       "      <td id=\"T_4eb27_row15_col1\" class=\"data row15 col1\" >132,086</td>\n",
       "      <td id=\"T_4eb27_row15_col2\" class=\"data row15 col2\" >6.626%</td>\n",
       "    </tr>\n",
       "    <tr>\n",
       "      <th id=\"T_4eb27_level0_row16\" class=\"row_heading level0 row16\" >4</th>\n",
       "      <td id=\"T_4eb27_row16_col0\" class=\"data row16 col0\" >en_description</td>\n",
       "      <td id=\"T_4eb27_row16_col1\" class=\"data row16 col1\" >42,652</td>\n",
       "      <td id=\"T_4eb27_row16_col2\" class=\"data row16 col2\" >2.140%</td>\n",
       "    </tr>\n",
       "    <tr>\n",
       "      <th id=\"T_4eb27_level0_row17\" class=\"row_heading level0 row17\" >7</th>\n",
       "      <td id=\"T_4eb27_row17_col0\" class=\"data row17 col0\" >descriptions</td>\n",
       "      <td id=\"T_4eb27_row17_col1\" class=\"data row17 col1\" >24,897</td>\n",
       "      <td id=\"T_4eb27_row17_col2\" class=\"data row17 col2\" >1.249%</td>\n",
       "    </tr>\n",
       "    <tr>\n",
       "      <th id=\"T_4eb27_level0_row18\" class=\"row_heading level0 row18\" >11</th>\n",
       "      <td id=\"T_4eb27_row18_col0\" class=\"data row18 col0\" >gender</td>\n",
       "      <td id=\"T_4eb27_row18_col1\" class=\"data row18 col1\" >302</td>\n",
       "      <td id=\"T_4eb27_row18_col2\" class=\"data row18 col2\" >0.015%</td>\n",
       "    </tr>\n",
       "    <tr>\n",
       "      <th id=\"T_4eb27_level0_row19\" class=\"row_heading level0 row19\" >2</th>\n",
       "      <td id=\"T_4eb27_row19_col0\" class=\"data row19 col0\" >en_label</td>\n",
       "      <td id=\"T_4eb27_row19_col1\" class=\"data row19 col1\" >27</td>\n",
       "      <td id=\"T_4eb27_row19_col2\" class=\"data row19 col2\" >0.001%</td>\n",
       "    </tr>\n",
       "    <tr>\n",
       "      <th id=\"T_4eb27_level0_row20\" class=\"row_heading level0 row20\" >8</th>\n",
       "      <td id=\"T_4eb27_row20_col0\" class=\"data row20 col0\" >labels</td>\n",
       "      <td id=\"T_4eb27_row20_col1\" class=\"data row20 col1\" >5</td>\n",
       "      <td id=\"T_4eb27_row20_col2\" class=\"data row20 col2\" >0.000%</td>\n",
       "    </tr>\n",
       "    <tr>\n",
       "      <th id=\"T_4eb27_level0_row21\" class=\"row_heading level0 row21\" >1</th>\n",
       "      <td id=\"T_4eb27_row21_col0\" class=\"data row21 col0\" >numeric_id</td>\n",
       "      <td id=\"T_4eb27_row21_col1\" class=\"data row21 col1\" >0</td>\n",
       "      <td id=\"T_4eb27_row21_col2\" class=\"data row21 col2\" >0.000%</td>\n",
       "    </tr>\n",
       "    <tr>\n",
       "      <th id=\"T_4eb27_level0_row22\" class=\"row_heading level0 row22\" >10</th>\n",
       "      <td id=\"T_4eb27_row22_col0\" class=\"data row22 col0\" >instance_of</td>\n",
       "      <td id=\"T_4eb27_row22_col1\" class=\"data row22 col1\" >0</td>\n",
       "      <td id=\"T_4eb27_row22_col2\" class=\"data row22 col2\" >0.000%</td>\n",
       "    </tr>\n",
       "    <tr>\n",
       "      <th id=\"T_4eb27_level0_row23\" class=\"row_heading level0 row23\" >6</th>\n",
       "      <td id=\"T_4eb27_row23_col0\" class=\"data row23 col0\" >sitelinks</td>\n",
       "      <td id=\"T_4eb27_row23_col1\" class=\"data row23 col1\" >0</td>\n",
       "      <td id=\"T_4eb27_row23_col2\" class=\"data row23 col2\" >0.000%</td>\n",
       "    </tr>\n",
       "    <tr>\n",
       "      <th id=\"T_4eb27_level0_row24\" class=\"row_heading level0 row24\" >5</th>\n",
       "      <td id=\"T_4eb27_row24_col0\" class=\"data row24 col0\" >type</td>\n",
       "      <td id=\"T_4eb27_row24_col1\" class=\"data row24 col1\" >0</td>\n",
       "      <td id=\"T_4eb27_row24_col2\" class=\"data row24 col2\" >0.000%</td>\n",
       "    </tr>\n",
       "    <tr>\n",
       "      <th id=\"T_4eb27_level0_row25\" class=\"row_heading level0 row25\" >3</th>\n",
       "      <td id=\"T_4eb27_row25_col0\" class=\"data row25 col0\" >en_wiki</td>\n",
       "      <td id=\"T_4eb27_row25_col1\" class=\"data row25 col1\" >0</td>\n",
       "      <td id=\"T_4eb27_row25_col2\" class=\"data row25 col2\" >0.000%</td>\n",
       "    </tr>\n",
       "    <tr>\n",
       "      <th id=\"T_4eb27_level0_row26\" class=\"row_heading level0 row26\" >0</th>\n",
       "      <td id=\"T_4eb27_row26_col0\" class=\"data row26 col0\" >id</td>\n",
       "      <td id=\"T_4eb27_row26_col1\" class=\"data row26 col1\" >0</td>\n",
       "      <td id=\"T_4eb27_row26_col2\" class=\"data row26 col2\" >0.000%</td>\n",
       "    </tr>\n",
       "  </tbody>\n",
       "</table>\n"
      ],
      "text/plain": [
       "<pandas.io.formats.style.Styler at 0x28ea5781e20>"
      ]
     },
     "execution_count": 56,
     "metadata": {},
     "output_type": "execute_result"
    }
   ],
   "source": [
    "columns_to_bin = [c for c in info_df.columns if info_df[c].dtype == pl.List]\n",
    "\n",
    "empty = []\n",
    "\n",
    "for column in [c for c in info_df.columns if c not in columns_to_bin]:\n",
    "    empty.append([column,\n",
    "                         (info_df[column]\n",
    "                         .is_null()\n",
    "                         .value_counts()\n",
    "                         .filter(pl.col(column))\n",
    "                         .select('count')\n",
    "                         .to_numpy()).squeeze()])\n",
    "\n",
    "for column in columns_to_bin:\n",
    "    empty.append([column,\n",
    "                         ((info_df[column]\n",
    "                         .list.len() == 0)\n",
    "                         .value_counts()\n",
    "                         .filter(pl.col(column))\n",
    "                         .select('count')\n",
    "                         .to_numpy()).squeeze()])\n",
    "\n",
    "for item in empty:\n",
    "    if not item[1].any():\n",
    "        item[1] = 0\n",
    "    item.append(item[1] / info_df.height * 100)\n",
    "\n",
    "empty_df = (pd.DataFrame(empty, columns=['column', 'num_empty', 'percent_empty'])\n",
    "            .sort_values('percent_empty', ascending=False)\n",
    "            )\n",
    "empty_df.style.format({'percent_empty': '{:.3f}%', 'num_empty': '{:,}'})"
   ]
  },
  {
   "cell_type": "markdown",
   "metadata": {},
   "source": [
    "✨ Column `iso_3166_alpha3` is completely empty. I shall drop it.\n",
    "\n",
    "✨ There are a few columns that are >90% empty. I will leave them there for now, as they might prove useful later on.\n",
    "\n",
    "\n"
   ]
  },
  {
   "cell_type": "markdown",
   "metadata": {},
   "source": [
    "* **How many values in each list column?**"
   ]
  },
  {
   "cell_type": "code",
   "execution_count": 72,
   "metadata": {},
   "outputs": [
    {
     "data": {
      "text/html": [
       "<div><style>\n",
       ".dataframe > thead > tr,\n",
       ".dataframe > tbody > tr {\n",
       "  text-align: right;\n",
       "  white-space: pre-wrap;\n",
       "}\n",
       "</style>\n",
       "<small>shape: (21, 6)</small><table border=\"1\" class=\"dataframe\"><thead><tr><th>column</th><th>mean</th><th>std</th><th>min</th><th>50%</th><th>max</th></tr><tr><td>str</td><td>f64</td><td>f64</td><td>f64</td><td>f64</td><td>f64</td></tr></thead><tbody><tr><td>&quot;iso_3166_alpha…</td><td>0.0</td><td>0.0</td><td>0.0</td><td>0.0</td><td>0.0</td></tr><tr><td>&quot;from_fictional…</td><td>0.000003</td><td>0.001584</td><td>0.0</td><td>0.0</td><td>1.0</td></tr><tr><td>&quot;subclass_of&quot;</td><td>0.000009</td><td>0.003167</td><td>0.0</td><td>0.0</td><td>2.0</td></tr><tr><td>&quot;coordinate_loc…</td><td>0.000013</td><td>0.003748</td><td>0.0</td><td>0.0</td><td>2.0</td></tr><tr><td>&quot;country&quot;</td><td>0.000624</td><td>0.025093</td><td>0.0</td><td>0.0</td><td>3.0</td></tr><tr><td>&quot;gender&quot;</td><td>1.00013</td><td>0.021377</td><td>0.0</td><td>1.0</td><td>4.0</td></tr><tr><td>&quot;industry&quot;</td><td>0.000319</td><td>0.026319</td><td>0.0</td><td>0.0</td><td>4.0</td></tr><tr><td>&quot;date_of_birth&quot;</td><td>0.942715</td><td>0.377177</td><td>0.0</td><td>1.0</td><td>8.0</td></tr><tr><td>&quot;date_of_death&quot;</td><td>0.942715</td><td>0.377177</td><td>0.0</td><td>1.0</td><td>8.0</td></tr><tr><td>&quot;country_of_cit…</td><td>0.8589</td><td>0.564249</td><td>0.0</td><td>1.0</td><td>10.0</td></tr><tr><td>&quot;instance_of&quot;</td><td>1.00066</td><td>0.028928</td><td>1.0</td><td>1.0</td><td>11.0</td></tr><tr><td>&quot;educated_at&quot;</td><td>0.504743</td><td>0.853348</td><td>0.0</td><td>0.0</td><td>14.0</td></tr><tr><td>&quot;genre&quot;</td><td>0.052816</td><td>0.337833</td><td>0.0</td><td>0.0</td><td>25.0</td></tr><tr><td>&quot;worked_at&quot;</td><td>0.141986</td><td>0.554628</td><td>0.0</td><td>0.0</td><td>27.0</td></tr><tr><td>&quot;instrument&quot;</td><td>0.056267</td><td>0.301602</td><td>0.0</td><td>0.0</td><td>31.0</td></tr><tr><td>&quot;member_of&quot;</td><td>0.089721</td><td>0.483283</td><td>0.0</td><td>0.0</td><td>31.0</td></tr><tr><td>&quot;occupation&quot;</td><td>1.5335</td><td>1.19482</td><td>0.0</td><td>1.0</td><td>34.0</td></tr><tr><td>&quot;sitelinks&quot;</td><td>5.266216</td><td>7.80856</td><td>1.0</td><td>3.0</td><td>325.0</td></tr><tr><td>&quot;descriptions&quot;</td><td>13.002513</td><td>10.123947</td><td>0.0</td><td>12.0</td><td>444.0</td></tr><tr><td>&quot;labels&quot;</td><td>18.254711</td><td>19.711607</td><td>0.0</td><td>14.0</td><td>444.0</td></tr><tr><td>&quot;aliases&quot;</td><td>2.981638</td><td>10.64171</td><td>0.0</td><td>1.0</td><td>2989.0</td></tr></tbody></table></div>"
      ],
      "text/plain": [
       "shape: (21, 6)\n",
       "┌─────────────────────────┬───────────┬───────────┬─────┬──────┬────────┐\n",
       "│ column                  ┆ mean      ┆ std       ┆ min ┆ 50%  ┆ max    │\n",
       "│ ---                     ┆ ---       ┆ ---       ┆ --- ┆ ---  ┆ ---    │\n",
       "│ str                     ┆ f64       ┆ f64       ┆ f64 ┆ f64  ┆ f64    │\n",
       "╞═════════════════════════╪═══════════╪═══════════╪═════╪══════╪════════╡\n",
       "│ iso_3166_alpha3         ┆ 0.0       ┆ 0.0       ┆ 0.0 ┆ 0.0  ┆ 0.0    │\n",
       "│ from_fictional_universe ┆ 0.000003  ┆ 0.001584  ┆ 0.0 ┆ 0.0  ┆ 1.0    │\n",
       "│ subclass_of             ┆ 0.000009  ┆ 0.003167  ┆ 0.0 ┆ 0.0  ┆ 2.0    │\n",
       "│ coordinate_location     ┆ 0.000013  ┆ 0.003748  ┆ 0.0 ┆ 0.0  ┆ 2.0    │\n",
       "│ country                 ┆ 0.000624  ┆ 0.025093  ┆ 0.0 ┆ 0.0  ┆ 3.0    │\n",
       "│ gender                  ┆ 1.00013   ┆ 0.021377  ┆ 0.0 ┆ 1.0  ┆ 4.0    │\n",
       "│ industry                ┆ 0.000319  ┆ 0.026319  ┆ 0.0 ┆ 0.0  ┆ 4.0    │\n",
       "│ date_of_birth           ┆ 0.942715  ┆ 0.377177  ┆ 0.0 ┆ 1.0  ┆ 8.0    │\n",
       "│ date_of_death           ┆ 0.942715  ┆ 0.377177  ┆ 0.0 ┆ 1.0  ┆ 8.0    │\n",
       "│ country_of_citizenship  ┆ 0.8589    ┆ 0.564249  ┆ 0.0 ┆ 1.0  ┆ 10.0   │\n",
       "│ instance_of             ┆ 1.00066   ┆ 0.028928  ┆ 1.0 ┆ 1.0  ┆ 11.0   │\n",
       "│ educated_at             ┆ 0.504743  ┆ 0.853348  ┆ 0.0 ┆ 0.0  ┆ 14.0   │\n",
       "│ genre                   ┆ 0.052816  ┆ 0.337833  ┆ 0.0 ┆ 0.0  ┆ 25.0   │\n",
       "│ worked_at               ┆ 0.141986  ┆ 0.554628  ┆ 0.0 ┆ 0.0  ┆ 27.0   │\n",
       "│ instrument              ┆ 0.056267  ┆ 0.301602  ┆ 0.0 ┆ 0.0  ┆ 31.0   │\n",
       "│ member_of               ┆ 0.089721  ┆ 0.483283  ┆ 0.0 ┆ 0.0  ┆ 31.0   │\n",
       "│ occupation              ┆ 1.5335    ┆ 1.19482   ┆ 0.0 ┆ 1.0  ┆ 34.0   │\n",
       "│ sitelinks               ┆ 5.266216  ┆ 7.80856   ┆ 1.0 ┆ 3.0  ┆ 325.0  │\n",
       "│ descriptions            ┆ 13.002513 ┆ 10.123947 ┆ 0.0 ┆ 12.0 ┆ 444.0  │\n",
       "│ labels                  ┆ 18.254711 ┆ 19.711607 ┆ 0.0 ┆ 14.0 ┆ 444.0  │\n",
       "│ aliases                 ┆ 2.981638  ┆ 10.64171  ┆ 0.0 ┆ 1.0  ┆ 2989.0 │\n",
       "└─────────────────────────┴───────────┴───────────┴─────┴──────┴────────┘"
      ]
     },
     "metadata": {},
     "output_type": "display_data"
    }
   ],
   "source": [
    "with pl.Config(tbl_rows=-1):\n",
    "  display(info_df[columns_to_bin]\n",
    "          .with_columns([pl.col(c).list.n_unique() for c in columns_to_bin])\n",
    "          .describe()\n",
    "          .filter(pl.col('statistic').is_in(['mean', 'std', 'min', '50%', 'max']))\n",
    "          .transpose(include_header=True, column_names='statistic')\n",
    "          .sort('max')\n",
    "  )"
   ]
  },
  {
   "cell_type": "markdown",
   "metadata": {},
   "source": [
    "✨ The only list column that contains only one value is `from_fictional_universe`. I shall flatten it.\n",
    "\n",
    "Other columns make sense to have more than one unique value per row, except for date of birth column. Are they simply duplicates?"
   ]
  },
  {
   "cell_type": "code",
   "execution_count": 89,
   "metadata": {},
   "outputs": [
    {
     "data": {
      "text/html": [
       "<pre style=\"white-space:pre;overflow-x:auto;line-height:normal;font-family:Menlo,'DejaVu Sans Mono',consolas,'Courier New',monospace\">Out of <span style=\"color: #008080; text-decoration-color: #008080; font-weight: bold\">79</span>,<span style=\"color: #008080; text-decoration-color: #008080; font-weight: bold\">284</span> rows that have more than one date of birth,<span style=\"color: #008080; text-decoration-color: #008080; font-weight: bold\">57.40</span>% have the same date of birth duplicated.\n",
       "</pre>\n"
      ],
      "text/plain": [
       "Out of \u001b[1;36m79\u001b[0m,\u001b[1;36m284\u001b[0m rows that have more than one date of birth,\u001b[1;36m57.40\u001b[0m% have the same date of birth duplicated.\n"
      ]
     },
     "metadata": {},
     "output_type": "display_data"
    }
   ],
   "source": [
    "dob_year_month = info_df['date_of_birth'].filter(info_df['date_of_birth'].list.len() > 1).list.eval(pl.element().struct[0].str.slice(1, 6))\n",
    "\n",
    "print(f'Out of {dob_year_month.len():,} rows that have more than one date of birth,'\n",
    "      f'{(dob_year_month.list.n_unique() == 1).sum() / dob_year_month.len() * 100:.2f}% '\n",
    "      'have the same date of birth duplicated.')"
   ]
  },
  {
   "cell_type": "markdown",
   "metadata": {},
   "source": [
    "✨ For our purposes, I'll simply take the first date of birth that appears in each row. "
   ]
  },
  {
   "cell_type": "markdown",
   "metadata": {},
   "source": [
    "* **Unique values**"
   ]
  },
  {
   "cell_type": "code",
   "execution_count": 53,
   "metadata": {},
   "outputs": [
    {
     "data": {
      "text/html": [
       "<style type=\"text/css\">\n",
       "</style>\n",
       "<table id=\"T_00649\">\n",
       "  <thead>\n",
       "    <tr>\n",
       "      <th class=\"blank level0\" >&nbsp;</th>\n",
       "      <th id=\"T_00649_level0_col0\" class=\"col_heading level0 col0\" >column</th>\n",
       "      <th id=\"T_00649_level0_col1\" class=\"col_heading level0 col1\" >unique_values</th>\n",
       "    </tr>\n",
       "  </thead>\n",
       "  <tbody>\n",
       "    <tr>\n",
       "      <th id=\"T_00649_level0_row0\" class=\"row_heading level0 row0\" >26</th>\n",
       "      <td id=\"T_00649_row0_col0\" class=\"data row0 col0\" >type</td>\n",
       "      <td id=\"T_00649_row0_col1\" class=\"data row0 col1\" >1</td>\n",
       "    </tr>\n",
       "    <tr>\n",
       "      <th id=\"T_00649_level0_row1\" class=\"row_heading level0 row1\" >18</th>\n",
       "      <td id=\"T_00649_row1_col0\" class=\"data row1 col0\" >iso_3166_alpha3</td>\n",
       "      <td id=\"T_00649_row1_col1\" class=\"data row1 col1\" >1</td>\n",
       "    </tr>\n",
       "    <tr>\n",
       "      <th id=\"T_00649_level0_row2\" class=\"row_heading level0 row2\" >20</th>\n",
       "      <td id=\"T_00649_row2_col0\" class=\"data row2 col0\" >from_fictional_universe</td>\n",
       "      <td id=\"T_00649_row2_col1\" class=\"data row2 col1\" >6</td>\n",
       "    </tr>\n",
       "    <tr>\n",
       "      <th id=\"T_00649_level0_row3\" class=\"row_heading level0 row3\" >16</th>\n",
       "      <td id=\"T_00649_row3_col0\" class=\"data row3 col0\" >subclass_of</td>\n",
       "      <td id=\"T_00649_row3_col1\" class=\"data row3 col1\" >19</td>\n",
       "    </tr>\n",
       "    <tr>\n",
       "      <th id=\"T_00649_level0_row4\" class=\"row_heading level0 row4\" >17</th>\n",
       "      <td id=\"T_00649_row4_col0\" class=\"data row4 col0\" >coordinate_location</td>\n",
       "      <td id=\"T_00649_row4_col1\" class=\"data row4 col1\" >26</td>\n",
       "    </tr>\n",
       "    <tr>\n",
       "      <th id=\"T_00649_level0_row5\" class=\"row_heading level0 row5\" >5</th>\n",
       "      <td id=\"T_00649_row5_col0\" class=\"data row5 col0\" >gender</td>\n",
       "      <td id=\"T_00649_row5_col1\" class=\"data row5 col1\" >45</td>\n",
       "    </tr>\n",
       "    <tr>\n",
       "      <th id=\"T_00649_level0_row6\" class=\"row_heading level0 row6\" >15</th>\n",
       "      <td id=\"T_00649_row6_col0\" class=\"data row6 col0\" >industry</td>\n",
       "      <td id=\"T_00649_row6_col1\" class=\"data row6 col1\" >71</td>\n",
       "    </tr>\n",
       "    <tr>\n",
       "      <th id=\"T_00649_level0_row7\" class=\"row_heading level0 row7\" >10</th>\n",
       "      <td id=\"T_00649_row7_col0\" class=\"data row7 col0\" >country</td>\n",
       "      <td id=\"T_00649_row7_col1\" class=\"data row7 col1\" >118</td>\n",
       "    </tr>\n",
       "    <tr>\n",
       "      <th id=\"T_00649_level0_row8\" class=\"row_heading level0 row8\" >4</th>\n",
       "      <td id=\"T_00649_row8_col0\" class=\"data row8 col0\" >instance_of</td>\n",
       "      <td id=\"T_00649_row8_col1\" class=\"data row8 col1\" >357</td>\n",
       "    </tr>\n",
       "    <tr>\n",
       "      <th id=\"T_00649_level0_row9\" class=\"row_heading level0 row9\" >13</th>\n",
       "      <td id=\"T_00649_row9_col0\" class=\"data row9 col0\" >instrument</td>\n",
       "      <td id=\"T_00649_row9_col1\" class=\"data row9 col1\" >767</td>\n",
       "    </tr>\n",
       "    <tr>\n",
       "      <th id=\"T_00649_level0_row10\" class=\"row_heading level0 row10\" >9</th>\n",
       "      <td id=\"T_00649_row10_col0\" class=\"data row10 col0\" >country_of_citizenship</td>\n",
       "      <td id=\"T_00649_row10_col1\" class=\"data row10 col1\" >2,719</td>\n",
       "    </tr>\n",
       "    <tr>\n",
       "      <th id=\"T_00649_level0_row11\" class=\"row_heading level0 row11\" >14</th>\n",
       "      <td id=\"T_00649_row11_col0\" class=\"data row11 col0\" >genre</td>\n",
       "      <td id=\"T_00649_row11_col1\" class=\"data row11 col1\" >3,171</td>\n",
       "    </tr>\n",
       "    <tr>\n",
       "      <th id=\"T_00649_level0_row12\" class=\"row_heading level0 row12\" >12</th>\n",
       "      <td id=\"T_00649_row12_col0\" class=\"data row12 col0\" >occupation</td>\n",
       "      <td id=\"T_00649_row12_col1\" class=\"data row12 col1\" >9,557</td>\n",
       "    </tr>\n",
       "    <tr>\n",
       "      <th id=\"T_00649_level0_row13\" class=\"row_heading level0 row13\" >19</th>\n",
       "      <td id=\"T_00649_row13_col0\" class=\"data row13 col0\" >member_of</td>\n",
       "      <td id=\"T_00649_row13_col1\" class=\"data row13 col1\" >24,419</td>\n",
       "    </tr>\n",
       "    <tr>\n",
       "      <th id=\"T_00649_level0_row14\" class=\"row_heading level0 row14\" >8</th>\n",
       "      <td id=\"T_00649_row14_col0\" class=\"data row14 col0\" >worked_at</td>\n",
       "      <td id=\"T_00649_row14_col1\" class=\"data row14 col1\" >37,769</td>\n",
       "    </tr>\n",
       "    <tr>\n",
       "      <th id=\"T_00649_level0_row15\" class=\"row_heading level0 row15\" >11</th>\n",
       "      <td id=\"T_00649_row15_col0\" class=\"data row15 col0\" >educated_at</td>\n",
       "      <td id=\"T_00649_row15_col1\" class=\"data row15 col1\" >46,137</td>\n",
       "    </tr>\n",
       "    <tr>\n",
       "      <th id=\"T_00649_level0_row16\" class=\"row_heading level0 row16\" >7</th>\n",
       "      <td id=\"T_00649_row16_col0\" class=\"data row16 col0\" >date_of_death</td>\n",
       "      <td id=\"T_00649_row16_col1\" class=\"data row16 col1\" >121,394</td>\n",
       "    </tr>\n",
       "    <tr>\n",
       "      <th id=\"T_00649_level0_row17\" class=\"row_heading level0 row17\" >6</th>\n",
       "      <td id=\"T_00649_row17_col0\" class=\"data row17 col0\" >date_of_birth</td>\n",
       "      <td id=\"T_00649_row17_col1\" class=\"data row17 col1\" >121,394</td>\n",
       "    </tr>\n",
       "    <tr>\n",
       "      <th id=\"T_00649_level0_row18\" class=\"row_heading level0 row18\" >25</th>\n",
       "      <td id=\"T_00649_row18_col0\" class=\"data row18 col0\" >en_description</td>\n",
       "      <td id=\"T_00649_row18_col1\" class=\"data row18 col1\" >707,610</td>\n",
       "    </tr>\n",
       "    <tr>\n",
       "      <th id=\"T_00649_level0_row19\" class=\"row_heading level0 row19\" >23</th>\n",
       "      <td id=\"T_00649_row19_col0\" class=\"data row19 col0\" >en_label</td>\n",
       "      <td id=\"T_00649_row19_col1\" class=\"data row19 col1\" >1,832,249</td>\n",
       "    </tr>\n",
       "    <tr>\n",
       "      <th id=\"T_00649_level0_row20\" class=\"row_heading level0 row20\" >24</th>\n",
       "      <td id=\"T_00649_row20_col0\" class=\"data row20 col0\" >en_wiki</td>\n",
       "      <td id=\"T_00649_row20_col1\" class=\"data row20 col1\" >1,993,447</td>\n",
       "    </tr>\n",
       "    <tr>\n",
       "      <th id=\"T_00649_level0_row21\" class=\"row_heading level0 row21\" >21</th>\n",
       "      <td id=\"T_00649_row21_col0\" class=\"data row21 col0\" >id</td>\n",
       "      <td id=\"T_00649_row21_col1\" class=\"data row21 col1\" >1,993,448</td>\n",
       "    </tr>\n",
       "    <tr>\n",
       "      <th id=\"T_00649_level0_row22\" class=\"row_heading level0 row22\" >22</th>\n",
       "      <td id=\"T_00649_row22_col0\" class=\"data row22 col0\" >numeric_id</td>\n",
       "      <td id=\"T_00649_row22_col1\" class=\"data row22 col1\" >1,993,448</td>\n",
       "    </tr>\n",
       "    <tr>\n",
       "      <th id=\"T_00649_level0_row23\" class=\"row_heading level0 row23\" >1</th>\n",
       "      <td id=\"T_00649_row23_col0\" class=\"data row23 col0\" >descriptions</td>\n",
       "      <td id=\"T_00649_row23_col1\" class=\"data row23 col1\" >3,324,933</td>\n",
       "    </tr>\n",
       "    <tr>\n",
       "      <th id=\"T_00649_level0_row24\" class=\"row_heading level0 row24\" >3</th>\n",
       "      <td id=\"T_00649_row24_col0\" class=\"data row24 col0\" >aliases</td>\n",
       "      <td id=\"T_00649_row24_col1\" class=\"data row24 col1\" >5,870,043</td>\n",
       "    </tr>\n",
       "    <tr>\n",
       "      <th id=\"T_00649_level0_row25\" class=\"row_heading level0 row25\" >0</th>\n",
       "      <td id=\"T_00649_row25_col0\" class=\"data row25 col0\" >sitelinks</td>\n",
       "      <td id=\"T_00649_row25_col1\" class=\"data row25 col1\" >10,497,927</td>\n",
       "    </tr>\n",
       "    <tr>\n",
       "      <th id=\"T_00649_level0_row26\" class=\"row_heading level0 row26\" >2</th>\n",
       "      <td id=\"T_00649_row26_col0\" class=\"data row26 col0\" >labels</td>\n",
       "      <td id=\"T_00649_row26_col1\" class=\"data row26 col1\" >34,576,620</td>\n",
       "    </tr>\n",
       "  </tbody>\n",
       "</table>\n"
      ],
      "text/plain": [
       "<pandas.io.formats.style.Styler at 0x28ea1970f20>"
      ]
     },
     "execution_count": 53,
     "metadata": {},
     "output_type": "execute_result"
    }
   ],
   "source": [
    "unique_value_counts = []\n",
    "for column in columns_to_bin:\n",
    "    unique_value_counts.append((column, info_df[column].list.explode().n_unique()))\n",
    "for column in [c for c in info_df.columns if c not in columns_to_bin]:\n",
    "    unique_value_counts.append((column, info_df[column].n_unique()))\n",
    "    \n",
    "unique_df = (pd.DataFrame(unique_value_counts, columns=['column', 'unique_values'])\n",
    "            .sort_values('unique_values')\n",
    "            )\n",
    "unique_df.style.format('{:,}', subset='unique_values')"
   ]
  },
  {
   "cell_type": "markdown",
   "metadata": {},
   "source": [
    "✨ The column `type` contains only one value for all rows. I shall remove it.\n",
    "\n",
    "Interesting points:\n",
    "* apparently there are 45(!) different genders.\n",
    "* Many columns have a lot of unique values.\n",
    "\n",
    "✨ For columns with many unique values, I shall bin the less common one (replace them with *`other`*)."
   ]
  },
  {
   "cell_type": "markdown",
   "metadata": {},
   "source": [
    "A summary table up until now:"
   ]
  },
  {
   "cell_type": "code",
   "execution_count": 57,
   "metadata": {},
   "outputs": [
    {
     "data": {
      "text/html": [
       "<style type=\"text/css\">\n",
       "</style>\n",
       "<table id=\"T_184bb\">\n",
       "  <thead>\n",
       "    <tr>\n",
       "      <th class=\"blank level0\" >&nbsp;</th>\n",
       "      <th id=\"T_184bb_level0_col0\" class=\"col_heading level0 col0\" >column</th>\n",
       "      <th id=\"T_184bb_level0_col1\" class=\"col_heading level0 col1\" >unique_values</th>\n",
       "      <th id=\"T_184bb_level0_col2\" class=\"col_heading level0 col2\" >num_empty</th>\n",
       "      <th id=\"T_184bb_level0_col3\" class=\"col_heading level0 col3\" >percent_empty</th>\n",
       "    </tr>\n",
       "  </thead>\n",
       "  <tbody>\n",
       "    <tr>\n",
       "      <th id=\"T_184bb_level0_row0\" class=\"row_heading level0 row0\" >0</th>\n",
       "      <td id=\"T_184bb_row0_col0\" class=\"data row0 col0\" >type</td>\n",
       "      <td id=\"T_184bb_row0_col1\" class=\"data row0 col1\" >1</td>\n",
       "      <td id=\"T_184bb_row0_col2\" class=\"data row0 col2\" >0</td>\n",
       "      <td id=\"T_184bb_row0_col3\" class=\"data row0 col3\" >0.000%</td>\n",
       "    </tr>\n",
       "    <tr>\n",
       "      <th id=\"T_184bb_level0_row1\" class=\"row_heading level0 row1\" >1</th>\n",
       "      <td id=\"T_184bb_row1_col0\" class=\"data row1 col0\" >iso_3166_alpha3</td>\n",
       "      <td id=\"T_184bb_row1_col1\" class=\"data row1 col1\" >1</td>\n",
       "      <td id=\"T_184bb_row1_col2\" class=\"data row1 col2\" >1,993,448</td>\n",
       "      <td id=\"T_184bb_row1_col3\" class=\"data row1 col3\" >100.000%</td>\n",
       "    </tr>\n",
       "    <tr>\n",
       "      <th id=\"T_184bb_level0_row2\" class=\"row_heading level0 row2\" >2</th>\n",
       "      <td id=\"T_184bb_row2_col0\" class=\"data row2 col0\" >from_fictional_universe</td>\n",
       "      <td id=\"T_184bb_row2_col1\" class=\"data row2 col1\" >6</td>\n",
       "      <td id=\"T_184bb_row2_col2\" class=\"data row2 col2\" >1,993,443</td>\n",
       "      <td id=\"T_184bb_row2_col3\" class=\"data row2 col3\" >100.000%</td>\n",
       "    </tr>\n",
       "    <tr>\n",
       "      <th id=\"T_184bb_level0_row3\" class=\"row_heading level0 row3\" >3</th>\n",
       "      <td id=\"T_184bb_row3_col0\" class=\"data row3 col0\" >subclass_of</td>\n",
       "      <td id=\"T_184bb_row3_col1\" class=\"data row3 col1\" >19</td>\n",
       "      <td id=\"T_184bb_row3_col2\" class=\"data row3 col2\" >1,993,431</td>\n",
       "      <td id=\"T_184bb_row3_col3\" class=\"data row3 col3\" >99.999%</td>\n",
       "    </tr>\n",
       "    <tr>\n",
       "      <th id=\"T_184bb_level0_row4\" class=\"row_heading level0 row4\" >4</th>\n",
       "      <td id=\"T_184bb_row4_col0\" class=\"data row4 col0\" >coordinate_location</td>\n",
       "      <td id=\"T_184bb_row4_col1\" class=\"data row4 col1\" >26</td>\n",
       "      <td id=\"T_184bb_row4_col2\" class=\"data row4 col2\" >1,993,423</td>\n",
       "      <td id=\"T_184bb_row4_col3\" class=\"data row4 col3\" >99.999%</td>\n",
       "    </tr>\n",
       "    <tr>\n",
       "      <th id=\"T_184bb_level0_row5\" class=\"row_heading level0 row5\" >5</th>\n",
       "      <td id=\"T_184bb_row5_col0\" class=\"data row5 col0\" >gender</td>\n",
       "      <td id=\"T_184bb_row5_col1\" class=\"data row5 col1\" >45</td>\n",
       "      <td id=\"T_184bb_row5_col2\" class=\"data row5 col2\" >302</td>\n",
       "      <td id=\"T_184bb_row5_col3\" class=\"data row5 col3\" >0.015%</td>\n",
       "    </tr>\n",
       "    <tr>\n",
       "      <th id=\"T_184bb_level0_row6\" class=\"row_heading level0 row6\" >6</th>\n",
       "      <td id=\"T_184bb_row6_col0\" class=\"data row6 col0\" >industry</td>\n",
       "      <td id=\"T_184bb_row6_col1\" class=\"data row6 col1\" >71</td>\n",
       "      <td id=\"T_184bb_row6_col2\" class=\"data row6 col2\" >1,993,082</td>\n",
       "      <td id=\"T_184bb_row6_col3\" class=\"data row6 col3\" >99.982%</td>\n",
       "    </tr>\n",
       "    <tr>\n",
       "      <th id=\"T_184bb_level0_row7\" class=\"row_heading level0 row7\" >7</th>\n",
       "      <td id=\"T_184bb_row7_col0\" class=\"data row7 col0\" >country</td>\n",
       "      <td id=\"T_184bb_row7_col1\" class=\"data row7 col1\" >118</td>\n",
       "      <td id=\"T_184bb_row7_col2\" class=\"data row7 col2\" >1,992,209</td>\n",
       "      <td id=\"T_184bb_row7_col3\" class=\"data row7 col3\" >99.938%</td>\n",
       "    </tr>\n",
       "    <tr>\n",
       "      <th id=\"T_184bb_level0_row8\" class=\"row_heading level0 row8\" >8</th>\n",
       "      <td id=\"T_184bb_row8_col0\" class=\"data row8 col0\" >instance_of</td>\n",
       "      <td id=\"T_184bb_row8_col1\" class=\"data row8 col1\" >357</td>\n",
       "      <td id=\"T_184bb_row8_col2\" class=\"data row8 col2\" >0</td>\n",
       "      <td id=\"T_184bb_row8_col3\" class=\"data row8 col3\" >0.000%</td>\n",
       "    </tr>\n",
       "    <tr>\n",
       "      <th id=\"T_184bb_level0_row9\" class=\"row_heading level0 row9\" >9</th>\n",
       "      <td id=\"T_184bb_row9_col0\" class=\"data row9 col0\" >instrument</td>\n",
       "      <td id=\"T_184bb_row9_col1\" class=\"data row9 col1\" >767</td>\n",
       "      <td id=\"T_184bb_row9_col2\" class=\"data row9 col2\" >1,904,077</td>\n",
       "      <td id=\"T_184bb_row9_col3\" class=\"data row9 col3\" >95.517%</td>\n",
       "    </tr>\n",
       "    <tr>\n",
       "      <th id=\"T_184bb_level0_row10\" class=\"row_heading level0 row10\" >10</th>\n",
       "      <td id=\"T_184bb_row10_col0\" class=\"data row10 col0\" >country_of_citizenship</td>\n",
       "      <td id=\"T_184bb_row10_col1\" class=\"data row10 col1\" >2,719</td>\n",
       "      <td id=\"T_184bb_row10_col2\" class=\"data row10 col2\" >448,288</td>\n",
       "      <td id=\"T_184bb_row10_col3\" class=\"data row10 col3\" >22.488%</td>\n",
       "    </tr>\n",
       "    <tr>\n",
       "      <th id=\"T_184bb_level0_row11\" class=\"row_heading level0 row11\" >11</th>\n",
       "      <td id=\"T_184bb_row11_col0\" class=\"data row11 col0\" >genre</td>\n",
       "      <td id=\"T_184bb_row11_col1\" class=\"data row11 col1\" >3,171</td>\n",
       "      <td id=\"T_184bb_row11_col2\" class=\"data row11 col2\" >1,918,158</td>\n",
       "      <td id=\"T_184bb_row11_col3\" class=\"data row11 col3\" >96.223%</td>\n",
       "    </tr>\n",
       "    <tr>\n",
       "      <th id=\"T_184bb_level0_row12\" class=\"row_heading level0 row12\" >12</th>\n",
       "      <td id=\"T_184bb_row12_col0\" class=\"data row12 col0\" >occupation</td>\n",
       "      <td id=\"T_184bb_row12_col1\" class=\"data row12 col1\" >9,557</td>\n",
       "      <td id=\"T_184bb_row12_col2\" class=\"data row12 col2\" >132,086</td>\n",
       "      <td id=\"T_184bb_row12_col3\" class=\"data row12 col3\" >6.626%</td>\n",
       "    </tr>\n",
       "    <tr>\n",
       "      <th id=\"T_184bb_level0_row13\" class=\"row_heading level0 row13\" >13</th>\n",
       "      <td id=\"T_184bb_row13_col0\" class=\"data row13 col0\" >member_of</td>\n",
       "      <td id=\"T_184bb_row13_col1\" class=\"data row13 col1\" >24,419</td>\n",
       "      <td id=\"T_184bb_row13_col2\" class=\"data row13 col2\" >1,882,243</td>\n",
       "      <td id=\"T_184bb_row13_col3\" class=\"data row13 col3\" >94.421%</td>\n",
       "    </tr>\n",
       "    <tr>\n",
       "      <th id=\"T_184bb_level0_row14\" class=\"row_heading level0 row14\" >14</th>\n",
       "      <td id=\"T_184bb_row14_col0\" class=\"data row14 col0\" >worked_at</td>\n",
       "      <td id=\"T_184bb_row14_col1\" class=\"data row14 col1\" >37,769</td>\n",
       "      <td id=\"T_184bb_row14_col2\" class=\"data row14 col2\" >1,811,036</td>\n",
       "      <td id=\"T_184bb_row14_col3\" class=\"data row14 col3\" >90.849%</td>\n",
       "    </tr>\n",
       "    <tr>\n",
       "      <th id=\"T_184bb_level0_row15\" class=\"row_heading level0 row15\" >15</th>\n",
       "      <td id=\"T_184bb_row15_col0\" class=\"data row15 col0\" >educated_at</td>\n",
       "      <td id=\"T_184bb_row15_col1\" class=\"data row15 col1\" >46,137</td>\n",
       "      <td id=\"T_184bb_row15_col2\" class=\"data row15 col2\" >1,332,655</td>\n",
       "      <td id=\"T_184bb_row15_col3\" class=\"data row15 col3\" >66.852%</td>\n",
       "    </tr>\n",
       "    <tr>\n",
       "      <th id=\"T_184bb_level0_row16\" class=\"row_heading level0 row16\" >16</th>\n",
       "      <td id=\"T_184bb_row16_col0\" class=\"data row16 col0\" >date_of_death</td>\n",
       "      <td id=\"T_184bb_row16_col1\" class=\"data row16 col1\" >121,394</td>\n",
       "      <td id=\"T_184bb_row16_col2\" class=\"data row16 col2\" >197,055</td>\n",
       "      <td id=\"T_184bb_row16_col3\" class=\"data row16 col3\" >9.885%</td>\n",
       "    </tr>\n",
       "    <tr>\n",
       "      <th id=\"T_184bb_level0_row17\" class=\"row_heading level0 row17\" >17</th>\n",
       "      <td id=\"T_184bb_row17_col0\" class=\"data row17 col0\" >date_of_birth</td>\n",
       "      <td id=\"T_184bb_row17_col1\" class=\"data row17 col1\" >121,394</td>\n",
       "      <td id=\"T_184bb_row17_col2\" class=\"data row17 col2\" >197,055</td>\n",
       "      <td id=\"T_184bb_row17_col3\" class=\"data row17 col3\" >9.885%</td>\n",
       "    </tr>\n",
       "    <tr>\n",
       "      <th id=\"T_184bb_level0_row18\" class=\"row_heading level0 row18\" >18</th>\n",
       "      <td id=\"T_184bb_row18_col0\" class=\"data row18 col0\" >en_description</td>\n",
       "      <td id=\"T_184bb_row18_col1\" class=\"data row18 col1\" >707,610</td>\n",
       "      <td id=\"T_184bb_row18_col2\" class=\"data row18 col2\" >42,652</td>\n",
       "      <td id=\"T_184bb_row18_col3\" class=\"data row18 col3\" >2.140%</td>\n",
       "    </tr>\n",
       "    <tr>\n",
       "      <th id=\"T_184bb_level0_row19\" class=\"row_heading level0 row19\" >19</th>\n",
       "      <td id=\"T_184bb_row19_col0\" class=\"data row19 col0\" >en_label</td>\n",
       "      <td id=\"T_184bb_row19_col1\" class=\"data row19 col1\" >1,832,249</td>\n",
       "      <td id=\"T_184bb_row19_col2\" class=\"data row19 col2\" >27</td>\n",
       "      <td id=\"T_184bb_row19_col3\" class=\"data row19 col3\" >0.001%</td>\n",
       "    </tr>\n",
       "    <tr>\n",
       "      <th id=\"T_184bb_level0_row20\" class=\"row_heading level0 row20\" >20</th>\n",
       "      <td id=\"T_184bb_row20_col0\" class=\"data row20 col0\" >en_wiki</td>\n",
       "      <td id=\"T_184bb_row20_col1\" class=\"data row20 col1\" >1,993,447</td>\n",
       "      <td id=\"T_184bb_row20_col2\" class=\"data row20 col2\" >0</td>\n",
       "      <td id=\"T_184bb_row20_col3\" class=\"data row20 col3\" >0.000%</td>\n",
       "    </tr>\n",
       "    <tr>\n",
       "      <th id=\"T_184bb_level0_row21\" class=\"row_heading level0 row21\" >21</th>\n",
       "      <td id=\"T_184bb_row21_col0\" class=\"data row21 col0\" >id</td>\n",
       "      <td id=\"T_184bb_row21_col1\" class=\"data row21 col1\" >1,993,448</td>\n",
       "      <td id=\"T_184bb_row21_col2\" class=\"data row21 col2\" >0</td>\n",
       "      <td id=\"T_184bb_row21_col3\" class=\"data row21 col3\" >0.000%</td>\n",
       "    </tr>\n",
       "    <tr>\n",
       "      <th id=\"T_184bb_level0_row22\" class=\"row_heading level0 row22\" >22</th>\n",
       "      <td id=\"T_184bb_row22_col0\" class=\"data row22 col0\" >numeric_id</td>\n",
       "      <td id=\"T_184bb_row22_col1\" class=\"data row22 col1\" >1,993,448</td>\n",
       "      <td id=\"T_184bb_row22_col2\" class=\"data row22 col2\" >0</td>\n",
       "      <td id=\"T_184bb_row22_col3\" class=\"data row22 col3\" >0.000%</td>\n",
       "    </tr>\n",
       "    <tr>\n",
       "      <th id=\"T_184bb_level0_row23\" class=\"row_heading level0 row23\" >23</th>\n",
       "      <td id=\"T_184bb_row23_col0\" class=\"data row23 col0\" >descriptions</td>\n",
       "      <td id=\"T_184bb_row23_col1\" class=\"data row23 col1\" >3,324,933</td>\n",
       "      <td id=\"T_184bb_row23_col2\" class=\"data row23 col2\" >24,897</td>\n",
       "      <td id=\"T_184bb_row23_col3\" class=\"data row23 col3\" >1.249%</td>\n",
       "    </tr>\n",
       "    <tr>\n",
       "      <th id=\"T_184bb_level0_row24\" class=\"row_heading level0 row24\" >24</th>\n",
       "      <td id=\"T_184bb_row24_col0\" class=\"data row24 col0\" >aliases</td>\n",
       "      <td id=\"T_184bb_row24_col1\" class=\"data row24 col1\" >5,870,043</td>\n",
       "      <td id=\"T_184bb_row24_col2\" class=\"data row24 col2\" >875,130</td>\n",
       "      <td id=\"T_184bb_row24_col3\" class=\"data row24 col3\" >43.900%</td>\n",
       "    </tr>\n",
       "    <tr>\n",
       "      <th id=\"T_184bb_level0_row25\" class=\"row_heading level0 row25\" >25</th>\n",
       "      <td id=\"T_184bb_row25_col0\" class=\"data row25 col0\" >sitelinks</td>\n",
       "      <td id=\"T_184bb_row25_col1\" class=\"data row25 col1\" >10,497,927</td>\n",
       "      <td id=\"T_184bb_row25_col2\" class=\"data row25 col2\" >0</td>\n",
       "      <td id=\"T_184bb_row25_col3\" class=\"data row25 col3\" >0.000%</td>\n",
       "    </tr>\n",
       "    <tr>\n",
       "      <th id=\"T_184bb_level0_row26\" class=\"row_heading level0 row26\" >26</th>\n",
       "      <td id=\"T_184bb_row26_col0\" class=\"data row26 col0\" >labels</td>\n",
       "      <td id=\"T_184bb_row26_col1\" class=\"data row26 col1\" >34,576,620</td>\n",
       "      <td id=\"T_184bb_row26_col2\" class=\"data row26 col2\" >5</td>\n",
       "      <td id=\"T_184bb_row26_col3\" class=\"data row26 col3\" >0.000%</td>\n",
       "    </tr>\n",
       "  </tbody>\n",
       "</table>\n"
      ],
      "text/plain": [
       "<pandas.io.formats.style.Styler at 0x28ea18fd040>"
      ]
     },
     "execution_count": 57,
     "metadata": {},
     "output_type": "execute_result"
    }
   ],
   "source": [
    "pd.merge(unique_df, empty_df, on='column').style.format({'percent_empty': '{:.3f}%',\n",
    "                                                         'num_empty': '{:,}',\n",
    "                                                         'unique_values': '{:,}'})"
   ]
  },
  {
   "cell_type": "markdown",
   "metadata": {},
   "source": [
    "---"
   ]
  },
  {
   "cell_type": "markdown",
   "metadata": {},
   "source": [
    "✨ **Observations:**\n",
    "\n",
    "There are a few types of columns:\n",
    "1. Redundant columns: columns that don't add information, either because they contain the same value throughout, have many missing values or do not contribute to our specific needs. The columns are:\n",
    "    - `type` (same value for all rows)\n",
    "    - `numeric_id` (contained in `id`)\n",
    "    - `descriptions` (unneeded information)\n",
    "    - `labels` (unneeded information)\n",
    "    - `coordinate_location`(>99% empty)\n",
    "    - `country` (according to the Wikidata site, this property should not be used for humans)\n",
    "    - `date_of_death` (has wrong information)\n",
    "    - `iso_3166_alpha3` (empty)\n",
    "\n",
    "2. Columns with a single value per row: columns that (should) have zero or one values for each row. These columns are:\n",
    "    - `id`\n",
    "    - `en_label`\n",
    "    - `en_wiki`\n",
    "    - `en_description`\n",
    "    - `date of birth` (take only the first one for each row)\n",
    "\n",
    "3. Columns with *'interesting'* values per row: columns that contain zero, one or more values for each row, where every (major) value is *interesting* for our purpose. These columns are:\n",
    "    - `instance_of`\n",
    "    - `gender` (apparently an entity can have multiple genders)\n",
    "    - `sitelinks`\n",
    "    - `instrument`\n",
    "    - `worked_at`\n",
    "    - `country_of_citizenship`\n",
    "    - `educated_at`\n",
    "    - `occupation`\n",
    "    - `genre`\n",
    "    - `industry`\n",
    "    - `subclass_of`\n",
    "    - `member_of`\n",
    "    - `from_fictional_universe`\n",
    "\n",
    "4. Columns that have multiple values per row: columns that have multiple values per row, where an aggregation of these values is *interesting* for our purposes. These columns are:\n",
    "    - `gender`\n",
    "    - `sitelinks`\n",
    "    - `aliases` (We don't care what the aliases *are*, maybe just how many are there)\n",
    "    - `instrument`\n",
    "    - `worked_at`\n",
    "    - `country_of_citizenship`\n",
    "    - `educated_at`\n",
    "    - `occupation`\n",
    "    - `genre`\n",
    "    - `industry`\n",
    "\n",
    " **Note** that a column might be a member of both the third group as well as the fourth group.\n",
    "\n",
    "Handling strategy for each type of column:\n",
    "1. Redundant columns --> drop columns.\n",
    "2. Columns with a single value per row: --> leave as is (flatten if in a list or a struct).\n",
    "3. Columns with *'interesting'* values per row --> encode into binary columns (bin uncommon values, or combine with more common ones) and drop original.\n",
    "4. Columns that have multiple values per row --> create a column with the aggregate metric and drop original.\n",
    "\n",
    "Types 1 and 2 are easy as the process is automatic. For types 3 and 4, we would have to look at the distribution of values in each of the columns. Before we can do that, it would have been helpful to convert the codes in the dataset into human-readable labels. However, due to the large number of unique codes it is unrealistic to fetch all of the labels right now. I will do that once we have a smaller number of them."
   ]
  },
  {
   "cell_type": "markdown",
   "metadata": {},
   "source": [
    "#### Examining Distributions of Value Counts"
   ]
  },
  {
   "cell_type": "code",
   "execution_count": 7,
   "metadata": {},
   "outputs": [],
   "source": [
    "columns_to_bin = ['instance_of', 'gender', 'worked_at', 'sitelinks',\n",
    "                      'country_of_citizenship', 'educated_at', 'occupation',\n",
    "                      'instrument', 'genre', 'industry', 'subclass_of', 'member_of',\n",
    "                      'from_fictional_universe']\n",
    "value_counts = {col: info_df[col].list.eval(pl.element().struct[0])\n",
    "                .explode().value_counts().sort('count', descending=True)\n",
    "                for col in columns_to_bin}"
   ]
  },
  {
   "cell_type": "code",
   "execution_count": 54,
   "metadata": {},
   "outputs": [
    {
     "data": {
      "image/png": "[encoded data removed]",
      "text/plain": [
       "<Figure size 500x800 with 13 Axes>"
      ]
     },
     "metadata": {},
     "output_type": "display_data"
    }
   ],
   "source": [
    "fig, axs = plt.subplots(13, figsize=(5, 8), sharex=True)\n",
    "for (name, df), ax in zip(value_counts.items(), axs.ravel()):\n",
    "    sns.boxplot(x=df['count'], ax=ax)\n",
    "    ax.set_ylabel(name, rotation='horizontal', ha='right', va='center')\n",
    "    ax.set_xlabel('')\n",
    "fig.suptitle('Distribution of Value Counts for each Column')\n",
    "plt.tight_layout()\n",
    "plt.show()"
   ]
  },
  {
   "cell_type": "markdown",
   "metadata": {},
   "source": [
    "As suspected, almost all columns consist of one or two 'big' groups and many 'small' groups.\n",
    "\n",
    "✨ For each column I will keep the three most common groups and combine the others.\n"
   ]
  },
  {
   "cell_type": "markdown",
   "metadata": {},
   "source": [
    "---"
   ]
  },
  {
   "cell_type": "markdown",
   "metadata": {},
   "source": [
    "With all that, let us clean the dataframe:"
   ]
  },
  {
   "cell_type": "code",
   "execution_count": 74,
   "metadata": {},
   "outputs": [],
   "source": [
    "def clean_info_df(df: pl.DataFrame):\n",
    "      \n",
    "      ## Drop columns, remove duplicate rows, unnest structs ########\n",
    "      columns_to_drop = ['type', 'numeric_id', 'descriptions', 'labels',\n",
    "                         'iso_3166_alpha3', 'coordinate_location', 'country',\n",
    "                         'iso_3166_alpha3', 'date_of_death']\n",
    "      struct_columns = [c for c in df.columns if df[c].dtype == pl.List and c not in columns_to_drop]\n",
    "\n",
    "      df = (df\n",
    "            .unique('id') # Remove duplicate rows\n",
    "            .drop(columns_to_drop) # drop redundant columns\n",
    "            .with_columns([pl.col(col).list.eval(pl.element().struct[0]) for col in struct_columns]) # unnest structs\n",
    "            .with_columns(pl.col('date_of_birth').list[0]) # Only the first date of birth\n",
    "      )\n",
    "      \n",
    "      \n",
    "      ## Bin list columns ###########################\n",
    "      columns_to_bin = ['instance_of', 'gender', 'worked_at', 'sitelinks',\n",
    "                      'country_of_citizenship', 'educated_at', 'occupation',\n",
    "                      'instrument', 'genre', 'industry', 'subclass_of', 'member_of',\n",
    "                      'from_fictional_universe']\n",
    "      \n",
    "      value_counts = {col: df[col].explode().value_counts()\n",
    "                      .sort('count', descending=True) for col in columns_to_bin}\n",
    "      \n",
    "\n",
    "      for col, counts_df in value_counts.items():\n",
    "            percent_to_keep = 0.1\n",
    "            values_to_keep = counts_df.filter(pl.col('count') > percent_to_keep * df.height).height\n",
    "            binned = (df[['en_wiki', col]]\n",
    "                      .explode(col)\n",
    "                      .with_columns(pl.when(pl.col(col).is_in(counts_df[col][:values_to_keep]).or_(pl.col(col).is_null()))\n",
    "                                    .then(pl.col(col))\n",
    "                                    .otherwise(pl.lit('other')))\n",
    "                      .unique()\n",
    "                      .group_by('en_wiki')\n",
    "                      .agg(col))\n",
    "            df = df.join(binned, 'en_wiki', 'left', suffix='_binned')\n",
    "      \n",
    "      # Create columns based on aggregates (counts) ###############\n",
    "      columns_to_aggregate = ['gender', 'sitelinks', 'aliases', 'instrument',\n",
    "                              'worked_at', 'country_of_citizenship', 'educated_at',\n",
    "                              'occupation', 'genre', 'industry']\n",
    "      df = df.with_columns([pl.col(col).list.len().alias(f'count_{col}') for col in columns_to_aggregate])\n",
    "     \n",
    "      return df\n"
   ]
  },
  {
   "cell_type": "code",
   "execution_count": 75,
   "metadata": {},
   "outputs": [
    {
     "data": {
      "text/html": [
       "<div><style>\n",
       ".dataframe > thead > tr,\n",
       ".dataframe > tbody > tr {\n",
       "  text-align: right;\n",
       "  white-space: pre-wrap;\n",
       "}\n",
       "</style>\n",
       "<small>shape: (1_993_448, 42)</small><table border=\"1\" class=\"dataframe\"><thead><tr><th>id</th><th>en_label</th><th>en_wiki</th><th>en_description</th><th>sitelinks</th><th>aliases</th><th>instance_of</th><th>gender</th><th>date_of_birth</th><th>worked_at</th><th>country_of_citizenship</th><th>educated_at</th><th>occupation</th><th>instrument</th><th>genre</th><th>industry</th><th>subclass_of</th><th>member_of</th><th>from_fictional_universe</th><th>instance_of_binned</th><th>gender_binned</th><th>worked_at_binned</th><th>sitelinks_binned</th><th>country_of_citizenship_binned</th><th>educated_at_binned</th><th>occupation_binned</th><th>instrument_binned</th><th>genre_binned</th><th>industry_binned</th><th>subclass_of_binned</th><th>member_of_binned</th><th>from_fictional_universe_binned</th><th>count_gender</th><th>count_sitelinks</th><th>count_aliases</th><th>count_instrument</th><th>count_worked_at</th><th>count_country_of_citizenship</th><th>count_educated_at</th><th>count_occupation</th><th>count_genre</th><th>count_industry</th></tr><tr><td>str</td><td>str</td><td>str</td><td>str</td><td>list[str]</td><td>list[str]</td><td>list[str]</td><td>list[str]</td><td>str</td><td>list[str]</td><td>list[str]</td><td>list[str]</td><td>list[str]</td><td>list[str]</td><td>list[str]</td><td>list[str]</td><td>list[str]</td><td>list[str]</td><td>list[str]</td><td>list[str]</td><td>list[str]</td><td>list[str]</td><td>list[str]</td><td>list[str]</td><td>list[str]</td><td>list[str]</td><td>list[str]</td><td>list[str]</td><td>list[str]</td><td>list[str]</td><td>list[str]</td><td>list[str]</td><td>u32</td><td>u32</td><td>u32</td><td>u32</td><td>u32</td><td>u32</td><td>u32</td><td>u32</td><td>u32</td><td>u32</td></tr></thead><tbody><tr><td>&quot;Q7459502&quot;</td><td>&quot;Seán Curran&quot;</td><td>&quot;Seán_Curran_(h…</td><td>&quot;Irish hurler&quot;</td><td>[&quot;enwiki&quot;, &quot;gawiki&quot;, &quot;arwiki&quot;]</td><td>[&quot;nl&quot;, &quot;en&quot;]</td><td>[&quot;5&quot;]</td><td>[&quot;6581097&quot;]</td><td>&quot;+1981-11-11T00…</td><td>[]</td><td>[&quot;27&quot;]</td><td>[]</td><td>[&quot;18199024&quot;]</td><td>[]</td><td>[]</td><td>[]</td><td>[]</td><td>[]</td><td>[]</td><td>[&quot;5&quot;]</td><td>[&quot;6581097&quot;]</td><td>[null]</td><td>[&quot;arwiki&quot;, &quot;other&quot;, &quot;enwiki&quot;]</td><td>[&quot;other&quot;]</td><td>[null]</td><td>[&quot;other&quot;]</td><td>[null]</td><td>[null]</td><td>[null]</td><td>[null]</td><td>[null]</td><td>[null]</td><td>1</td><td>3</td><td>2</td><td>0</td><td>0</td><td>1</td><td>0</td><td>1</td><td>0</td><td>0</td></tr><tr><td>&quot;Q15993641&quot;</td><td>&quot;Richard Weinga…</td><td>&quot;Richard_Weinga…</td><td>&quot;American engin…</td><td>[&quot;enwiki&quot;]</td><td>[&quot;en&quot;]</td><td>[&quot;5&quot;]</td><td>[&quot;6581097&quot;]</td><td>&quot;+1938-03-23T00…</td><td>[&quot;49213&quot;, &quot;1468161&quot;]</td><td>[&quot;30&quot;]</td><td>[&quot;1206658&quot;, &quot;1468161&quot;]</td><td>[&quot;13582652&quot;, &quot;36180&quot;, … &quot;43845&quot;]</td><td>[]</td><td>[]</td><td>[]</td><td>[]</td><td>[]</td><td>[]</td><td>[&quot;5&quot;]</td><td>[&quot;6581097&quot;]</td><td>[&quot;other&quot;]</td><td>[&quot;enwiki&quot;]</td><td>[&quot;30&quot;]</td><td>[&quot;other&quot;]</td><td>[&quot;other&quot;]</td><td>[null]</td><td>[null]</td><td>[null]</td><td>[null]</td><td>[null]</td><td>[null]</td><td>1</td><td>1</td><td>1</td><td>0</td><td>2</td><td>1</td><td>2</td><td>4</td><td>0</td><td>0</td></tr><tr><td>&quot;Q23771467&quot;</td><td>&quot;Colin Tizzard&quot;</td><td>&quot;Colin_Tizzard&quot;</td><td>&quot;British raceho…</td><td>[&quot;enwiki&quot;]</td><td>[]</td><td>[&quot;5&quot;]</td><td>[&quot;6581097&quot;]</td><td>&quot;+1956-01-07T00…</td><td>[]</td><td>[]</td><td>[]</td><td>[&quot;466640&quot;]</td><td>[]</td><td>[]</td><td>[]</td><td>[]</td><td>[]</td><td>[]</td><td>[&quot;5&quot;]</td><td>[&quot;6581097&quot;]</td><td>[null]</td><td>[&quot;enwiki&quot;]</td><td>[null]</td><td>[null]</td><td>[&quot;other&quot;]</td><td>[null]</td><td>[null]</td><td>[null]</td><td>[null]</td><td>[null]</td><td>[null]</td><td>1</td><td>1</td><td>0</td><td>0</td><td>0</td><td>0</td><td>0</td><td>1</td><td>0</td><td>0</td></tr><tr><td>&quot;Q712139&quot;</td><td>&quot;Porter Wagoner…</td><td>&quot;Porter_Wagoner…</td><td>&quot;American recor…</td><td>[&quot;commonswiki&quot;, &quot;enwiki&quot;, … &quot;arzwiki&quot;]</td><td>[&quot;sv&quot;, &quot;ru&quot;, … &quot;hy&quot;]</td><td>[&quot;5&quot;]</td><td>[&quot;6581097&quot;]</td><td>&quot;+1927-08-12T00…</td><td>[]</td><td>[&quot;30&quot;]</td><td>[]</td><td>[&quot;177220&quot;, &quot;33999&quot;, … &quot;55960555&quot;]</td><td>[&quot;6607&quot;, &quot;17172850&quot;]</td><td>[&quot;83440&quot;]</td><td>[]</td><td>[]</td><td>[]</td><td>[]</td><td>[&quot;5&quot;]</td><td>[&quot;6581097&quot;]</td><td>[null]</td><td>[&quot;enwiki&quot;, &quot;ruwiki&quot;, … &quot;arwiki&quot;]</td><td>[&quot;30&quot;]</td><td>[null]</td><td>[&quot;other&quot;]</td><td>[&quot;other&quot;]</td><td>[&quot;other&quot;]</td><td>[null]</td><td>[null]</td><td>[null]</td><td>[null]</td><td>1</td><td>19</td><td>6</td><td>2</td><td>0</td><td>1</td><td>0</td><td>5</td><td>1</td><td>0</td></tr><tr><td>&quot;Q16003727&quot;</td><td>&quot;Roy Moir&quot;</td><td>&quot;Roy_Moir&quot;</td><td>&quot;politician in …</td><td>[&quot;enwiki&quot;, &quot;arzwiki&quot;, &quot;arwiki&quot;]</td><td>[&quot;en&quot;, &quot;en&quot;]</td><td>[&quot;5&quot;]</td><td>[&quot;6581097&quot;]</td><td>&quot;+1897-12-23T00…</td><td>[]</td><td>[&quot;408&quot;]</td><td>[]</td><td>[&quot;82955&quot;]</td><td>[]</td><td>[]</td><td>[]</td><td>[]</td><td>[]</td><td>[]</td><td>[&quot;5&quot;]</td><td>[&quot;6581097&quot;]</td><td>[null]</td><td>[&quot;arzwiki&quot;, &quot;arwiki&quot;, &quot;enwiki&quot;]</td><td>[&quot;other&quot;]</td><td>[null]</td><td>[&quot;82955&quot;]</td><td>[null]</td><td>[null]</td><td>[null]</td><td>[null]</td><td>[null]</td><td>[null]</td><td>1</td><td>3</td><td>2</td><td>0</td><td>0</td><td>1</td><td>0</td><td>1</td><td>0</td><td>0</td></tr><tr><td>&hellip;</td><td>&hellip;</td><td>&hellip;</td><td>&hellip;</td><td>&hellip;</td><td>&hellip;</td><td>&hellip;</td><td>&hellip;</td><td>&hellip;</td><td>&hellip;</td><td>&hellip;</td><td>&hellip;</td><td>&hellip;</td><td>&hellip;</td><td>&hellip;</td><td>&hellip;</td><td>&hellip;</td><td>&hellip;</td><td>&hellip;</td><td>&hellip;</td><td>&hellip;</td><td>&hellip;</td><td>&hellip;</td><td>&hellip;</td><td>&hellip;</td><td>&hellip;</td><td>&hellip;</td><td>&hellip;</td><td>&hellip;</td><td>&hellip;</td><td>&hellip;</td><td>&hellip;</td><td>&hellip;</td><td>&hellip;</td><td>&hellip;</td><td>&hellip;</td><td>&hellip;</td><td>&hellip;</td><td>&hellip;</td><td>&hellip;</td><td>&hellip;</td><td>&hellip;</td></tr><tr><td>&quot;Q5873501&quot;</td><td>&quot;Gabriel Pita d…</td><td>&quot;Gabriel_Pita_d…</td><td>&quot;Admiral (1909-…</td><td>[&quot;eswiki&quot;, &quot;cawiki&quot;, … &quot;enwiki&quot;]</td><td>[&quot;de&quot;, &quot;en&quot;, &quot;es&quot;]</td><td>[&quot;5&quot;]</td><td>[&quot;6581097&quot;]</td><td>&quot;+1909-01-31T00…</td><td>[]</td><td>[&quot;29&quot;]</td><td>[]</td><td>[&quot;10669499&quot;, &quot;82955&quot;]</td><td>[]</td><td>[]</td><td>[]</td><td>[]</td><td>[]</td><td>[]</td><td>[&quot;5&quot;]</td><td>[&quot;6581097&quot;]</td><td>[null]</td><td>[&quot;other&quot;, &quot;eswiki&quot;, &quot;enwiki&quot;]</td><td>[&quot;other&quot;]</td><td>[null]</td><td>[&quot;other&quot;, &quot;82955&quot;]</td><td>[null]</td><td>[null]</td><td>[null]</td><td>[null]</td><td>[null]</td><td>[null]</td><td>1</td><td>4</td><td>3</td><td>0</td><td>0</td><td>1</td><td>0</td><td>2</td><td>0</td><td>0</td></tr><tr><td>&quot;Q26704505&quot;</td><td>&quot;Angela Dwamena…</td><td>&quot;Angela_Dwamena…</td><td>&quot;Ghanaian lawye…</td><td>[&quot;enwiki&quot;, &quot;frwiki&quot;, &quot;arzwiki&quot;]</td><td>[]</td><td>[&quot;5&quot;]</td><td>[&quot;6581072&quot;]</td><td>&quot;+1965-00-00T00…</td><td>[]</td><td>[&quot;117&quot;]</td><td>[&quot;19605635&quot;, &quot;16915546&quot;, … &quot;16733633&quot;]</td><td>[&quot;40348&quot;, &quot;121998&quot;, &quot;1569495&quot;]</td><td>[]</td><td>[]</td><td>[]</td><td>[]</td><td>[]</td><td>[]</td><td>[&quot;5&quot;]</td><td>[&quot;6581072&quot;]</td><td>[null]</td><td>[&quot;enwiki&quot;, &quot;frwiki&quot;, &quot;arzwiki&quot;]</td><td>[&quot;other&quot;]</td><td>[&quot;other&quot;]</td><td>[&quot;other&quot;]</td><td>[null]</td><td>[null]</td><td>[null]</td><td>[null]</td><td>[null]</td><td>[null]</td><td>1</td><td>3</td><td>0</td><td>0</td><td>0</td><td>1</td><td>5</td><td>3</td><td>0</td><td>0</td></tr><tr><td>&quot;Q19561353&quot;</td><td>&quot;Avner Mandelma…</td><td>&quot;Avner_Mandelma…</td><td>&quot;Canadian write…</td><td>[&quot;enwiki&quot;]</td><td>[]</td><td>[&quot;5&quot;]</td><td>[&quot;6581097&quot;]</td><td>null</td><td>[]</td><td>[&quot;16&quot;]</td><td>[]</td><td>[&quot;6625963&quot;]</td><td>[]</td><td>[]</td><td>[]</td><td>[]</td><td>[]</td><td>[]</td><td>[&quot;5&quot;]</td><td>[&quot;6581097&quot;]</td><td>[null]</td><td>[&quot;enwiki&quot;]</td><td>[&quot;other&quot;]</td><td>[null]</td><td>[&quot;other&quot;]</td><td>[null]</td><td>[null]</td><td>[null]</td><td>[null]</td><td>[null]</td><td>[null]</td><td>1</td><td>1</td><td>0</td><td>0</td><td>0</td><td>1</td><td>0</td><td>1</td><td>0</td><td>0</td></tr><tr><td>&quot;Q3364674&quot;</td><td>&quot;Hermann Baagøe…</td><td>&quot;Hermann_Baagøe…</td><td>&quot;Danish archite…</td><td>[&quot;commonswiki&quot;, &quot;dawiki&quot;, … &quot;arzwiki&quot;]</td><td>[&quot;da&quot;, &quot;da&quot;, … &quot;fr&quot;]</td><td>[&quot;5&quot;]</td><td>[&quot;6581097&quot;]</td><td>&quot;+1839-02-18T00…</td><td>[&quot;1641001&quot;]</td><td>[&quot;35&quot;]</td><td>[&quot;1641001&quot;]</td><td>[&quot;42973&quot;]</td><td>[]</td><td>[]</td><td>[]</td><td>[]</td><td>[]</td><td>[]</td><td>[&quot;5&quot;]</td><td>[&quot;6581097&quot;]</td><td>[&quot;other&quot;]</td><td>[&quot;other&quot;, &quot;arzwiki&quot;, … &quot;commonswiki&quot;]</td><td>[&quot;other&quot;]</td><td>[&quot;other&quot;]</td><td>[&quot;other&quot;]</td><td>[null]</td><td>[null]</td><td>[null]</td><td>[null]</td><td>[null]</td><td>[null]</td><td>1</td><td>6</td><td>12</td><td>0</td><td>1</td><td>1</td><td>1</td><td>1</td><td>0</td><td>0</td></tr><tr><td>&quot;Q97798883&quot;</td><td>&quot;Tyrique Jones&quot;</td><td>&quot;Tyrique_Jones&quot;</td><td>&quot;American baske…</td><td>[&quot;enwiki&quot;, &quot;eswiki&quot;, … &quot;trwiki&quot;]</td><td>[&quot;es&quot;]</td><td>[&quot;5&quot;]</td><td>[&quot;6581097&quot;]</td><td>&quot;+1997-05-03T00…</td><td>[]</td><td>[&quot;30&quot;]</td><td>[&quot;1849843&quot;, &quot;4928244&quot;]</td><td>[&quot;3665646&quot;]</td><td>[]</td><td>[]</td><td>[]</td><td>[]</td><td>[]</td><td>[]</td><td>[&quot;5&quot;]</td><td>[&quot;6581097&quot;]</td><td>[null]</td><td>[&quot;eswiki&quot;, &quot;itwiki&quot;, … &quot;frwiki&quot;]</td><td>[&quot;30&quot;]</td><td>[&quot;other&quot;]</td><td>[&quot;other&quot;]</td><td>[null]</td><td>[null]</td><td>[null]</td><td>[null]</td><td>[null]</td><td>[null]</td><td>1</td><td>6</td><td>1</td><td>0</td><td>0</td><td>1</td><td>2</td><td>1</td><td>0</td><td>0</td></tr></tbody></table></div>"
      ],
      "text/plain": [
       "shape: (1_993_448, 42)\n",
       "┌───────────┬───────────┬───────────┬───────────┬───┬───────────┬───────────┬───────────┬──────────┐\n",
       "│ id        ┆ en_label  ┆ en_wiki   ┆ en_descri ┆ … ┆ count_edu ┆ count_occ ┆ count_gen ┆ count_in │\n",
       "│ ---       ┆ ---       ┆ ---       ┆ ption     ┆   ┆ cated_at  ┆ upation   ┆ re        ┆ dustry   │\n",
       "│ str       ┆ str       ┆ str       ┆ ---       ┆   ┆ ---       ┆ ---       ┆ ---       ┆ ---      │\n",
       "│           ┆           ┆           ┆ str       ┆   ┆ u32       ┆ u32       ┆ u32       ┆ u32      │\n",
       "╞═══════════╪═══════════╪═══════════╪═══════════╪═══╪═══════════╪═══════════╪═══════════╪══════════╡\n",
       "│ Q7459502  ┆ Seán      ┆ Seán_Curr ┆ Irish     ┆ … ┆ 0         ┆ 1         ┆ 0         ┆ 0        │\n",
       "│           ┆ Curran    ┆ an_(hurle ┆ hurler    ┆   ┆           ┆           ┆           ┆          │\n",
       "│           ┆           ┆ r)        ┆           ┆   ┆           ┆           ┆           ┆          │\n",
       "│ Q15993641 ┆ Richard   ┆ Richard_W ┆ American  ┆ … ┆ 2         ┆ 4         ┆ 0         ┆ 0        │\n",
       "│           ┆ Weingardt ┆ eingardt  ┆ engineer  ┆   ┆           ┆           ┆           ┆          │\n",
       "│           ┆           ┆           ┆ (1938-201 ┆   ┆           ┆           ┆           ┆          │\n",
       "│           ┆           ┆           ┆ 3)        ┆   ┆           ┆           ┆           ┆          │\n",
       "│ Q23771467 ┆ Colin     ┆ Colin_Tiz ┆ British   ┆ … ┆ 0         ┆ 1         ┆ 0         ┆ 0        │\n",
       "│           ┆ Tizzard   ┆ zard      ┆ racehorse ┆   ┆           ┆           ┆           ┆          │\n",
       "│           ┆           ┆           ┆ trainer   ┆   ┆           ┆           ┆           ┆          │\n",
       "│ Q712139   ┆ Porter    ┆ Porter_Wa ┆ American  ┆ … ┆ 0         ┆ 5         ┆ 1         ┆ 0        │\n",
       "│           ┆ Wagoner   ┆ goner     ┆ recording ┆   ┆           ┆           ┆           ┆          │\n",
       "│           ┆           ┆           ┆ artist;   ┆   ┆           ┆           ┆           ┆          │\n",
       "│           ┆           ┆           ┆ count…    ┆   ┆           ┆           ┆           ┆          │\n",
       "│ Q16003727 ┆ Roy Moir  ┆ Roy_Moir  ┆ politicia ┆ … ┆ 0         ┆ 1         ┆ 0         ┆ 0        │\n",
       "│           ┆           ┆           ┆ n in      ┆   ┆           ┆           ┆           ┆          │\n",
       "│           ┆           ┆           ┆ South     ┆   ┆           ┆           ┆           ┆          │\n",
       "│           ┆           ┆           ┆ Australia ┆   ┆           ┆           ┆           ┆          │\n",
       "│           ┆           ┆           ┆ (1…       ┆   ┆           ┆           ┆           ┆          │\n",
       "│ …         ┆ …         ┆ …         ┆ …         ┆ … ┆ …         ┆ …         ┆ …         ┆ …        │\n",
       "│ Q5873501  ┆ Gabriel   ┆ Gabriel_P ┆ Admiral   ┆ … ┆ 0         ┆ 2         ┆ 0         ┆ 0        │\n",
       "│           ┆ Pita da   ┆ ita_da_Ve ┆ (1909-199 ┆   ┆           ┆           ┆           ┆          │\n",
       "│           ┆ Veiga y   ┆ iga       ┆ 3)        ┆   ┆           ┆           ┆           ┆          │\n",
       "│           ┆ Sanz      ┆           ┆           ┆   ┆           ┆           ┆           ┆          │\n",
       "│ Q26704505 ┆ Angela    ┆ Angela_Dw ┆ Ghanaian  ┆ … ┆ 5         ┆ 3         ┆ 0         ┆ 0        │\n",
       "│           ┆ Dwamena-A ┆ amena-Abo ┆ lawyer,   ┆   ┆           ┆           ┆           ┆          │\n",
       "│           ┆ boagye    ┆ agye      ┆ gender    ┆   ┆           ┆           ┆           ┆          │\n",
       "│           ┆           ┆           ┆ activist… ┆   ┆           ┆           ┆           ┆          │\n",
       "│ Q19561353 ┆ Avner     ┆ Avner_Man ┆ Canadian  ┆ … ┆ 0         ┆ 1         ┆ 0         ┆ 0        │\n",
       "│           ┆ Mandelman ┆ delman    ┆ writer    ┆   ┆           ┆           ┆           ┆          │\n",
       "│ Q3364674  ┆ Hermann   ┆ Hermann_B ┆ Danish    ┆ … ┆ 1         ┆ 1         ┆ 0         ┆ 0        │\n",
       "│           ┆ Baagøe    ┆ aagøe_Sto ┆ architect ┆   ┆           ┆           ┆           ┆          │\n",
       "│           ┆ Storck    ┆ rck       ┆           ┆   ┆           ┆           ┆           ┆          │\n",
       "│ Q97798883 ┆ Tyrique   ┆ Tyrique_J ┆ American  ┆ … ┆ 2         ┆ 1         ┆ 0         ┆ 0        │\n",
       "│           ┆ Jones     ┆ ones      ┆ basketbal ┆   ┆           ┆           ┆           ┆          │\n",
       "│           ┆           ┆           ┆ ler       ┆   ┆           ┆           ┆           ┆          │\n",
       "└───────────┴───────────┴───────────┴───────────┴───┴───────────┴───────────┴───────────┴──────────┘"
      ]
     },
     "execution_count": 75,
     "metadata": {},
     "output_type": "execute_result"
    }
   ],
   "source": [
    "info_df_cleaned = clean_info_df(info_df)\n",
    "info_df_cleaned"
   ]
  },
  {
   "cell_type": "code",
   "execution_count": 93,
   "metadata": {},
   "outputs": [
    {
     "ename": "ComputeError",
     "evalue": "grouping on list type is only allowed if the inner type is numeric",
     "output_type": "error",
     "traceback": [
      "\u001b[0;31m---------------------------------------------------------------------------\u001b[0m",
      "\u001b[0;31mComputeError\u001b[0m                              Traceback (most recent call last)",
      "\u001b[0;32m/tmp/ipykernel_356206/3449005444.py\u001b[0m in \u001b[0;36m?\u001b[0;34m()\u001b[0m\n\u001b[0;32m----> 1\u001b[0;31m \u001b[0minfo_df_cleaned\u001b[0m\u001b[0;34m[\u001b[0m\u001b[0;34m[\u001b[0m\u001b[0;34m'en_wiki'\u001b[0m\u001b[0;34m,\u001b[0m \u001b[0;34m'sitelinks'\u001b[0m\u001b[0;34m]\u001b[0m\u001b[0;34m]\u001b[0m\u001b[0;34m.\u001b[0m\u001b[0mto_dummies\u001b[0m\u001b[0;34m(\u001b[0m\u001b[0;34m'sitelinks'\u001b[0m\u001b[0;34m)\u001b[0m\u001b[0;34m\u001b[0m\u001b[0;34m\u001b[0m\u001b[0m\n\u001b[0m",
      "\u001b[0;32m~/.conda/envs/big_data_project/lib/python3.12/site-packages/polars/dataframe/frame.py\u001b[0m in \u001b[0;36m?\u001b[0;34m(self, columns, separator, drop_first)\u001b[0m\n\u001b[1;32m   9111\u001b[0m         \u001b[0m└───────┴───────┴─────┘\u001b[0m\u001b[0;34m\u001b[0m\u001b[0;34m\u001b[0m\u001b[0m\n\u001b[1;32m   9112\u001b[0m         \"\"\"\n\u001b[1;32m   9113\u001b[0m         \u001b[0;32mif\u001b[0m \u001b[0mcolumns\u001b[0m \u001b[0;32mis\u001b[0m \u001b[0;32mnot\u001b[0m \u001b[0;32mNone\u001b[0m\u001b[0;34m:\u001b[0m\u001b[0;34m\u001b[0m\u001b[0;34m\u001b[0m\u001b[0m\n\u001b[1;32m   9114\u001b[0m             \u001b[0mcolumns\u001b[0m \u001b[0;34m=\u001b[0m \u001b[0m_expand_selectors\u001b[0m\u001b[0;34m(\u001b[0m\u001b[0mself\u001b[0m\u001b[0;34m,\u001b[0m \u001b[0mcolumns\u001b[0m\u001b[0;34m)\u001b[0m\u001b[0;34m\u001b[0m\u001b[0;34m\u001b[0m\u001b[0m\n\u001b[0;32m-> 9115\u001b[0;31m         \u001b[0;32mreturn\u001b[0m \u001b[0mself\u001b[0m\u001b[0;34m.\u001b[0m\u001b[0m_from_pydf\u001b[0m\u001b[0;34m(\u001b[0m\u001b[0mself\u001b[0m\u001b[0;34m.\u001b[0m\u001b[0m_df\u001b[0m\u001b[0;34m.\u001b[0m\u001b[0mto_dummies\u001b[0m\u001b[0;34m(\u001b[0m\u001b[0mcolumns\u001b[0m\u001b[0;34m,\u001b[0m \u001b[0mseparator\u001b[0m\u001b[0;34m,\u001b[0m \u001b[0mdrop_first\u001b[0m\u001b[0;34m)\u001b[0m\u001b[0;34m)\u001b[0m\u001b[0;34m\u001b[0m\u001b[0;34m\u001b[0m\u001b[0m\n\u001b[0m",
      "\u001b[0;31mComputeError\u001b[0m: grouping on list type is only allowed if the inner type is numeric"
     ]
    }
   ],
   "source": [
    "info_df_cleaned[['en_wiki', 'sitelinks']].to_dummies('sitelinks')\n",
    "# see https://stackoverflow.com/questions/74432537/cast-a-list-column-into-dummy-columns-in-python-polars"
   ]
  },
  {
   "cell_type": "markdown",
   "metadata": {},
   "source": [
    "#### Converting Codes Into Labels"
   ]
  },
  {
   "cell_type": "markdown",
   "metadata": {},
   "source": [
    "Many columns have 'numeric id's in them. These are numeric code to wikidata's property. To understand the data, we need to convert them to human-readable labels. I weill grab them straight from the wikidata website (the API has a small request limit, so I won't be using it).\n",
    "\n",
    "First I'll get all the codes needed to be converted."
   ]
  },
  {
   "cell_type": "code",
   "execution_count": 101,
   "metadata": {},
   "outputs": [],
   "source": [
    "columns_with_codes = ['instance_of', 'gender', 'worked_at', 'sitelinks',\n",
    "                      'country_of_citizenship', 'educated_at', 'occupation',\n",
    "                      'instrument', 'genre', 'industry', 'subclass_of', 'member_of',\n",
    "                      'from_fictional_universe']\n",
    "unique_codes = [info_df[col].list.eval(pl.element().struct[0]).explode().unique().drop_nulls() for col in columns_with_codes]"
   ]
  },
  {
   "cell_type": "code",
   "execution_count": 102,
   "metadata": {},
   "outputs": [
    {
     "data": {
      "text/plain": [
       "125026"
      ]
     },
     "execution_count": 102,
     "metadata": {},
     "output_type": "execute_result"
    }
   ],
   "source": [
    "sum([len(df) for df in unique_codes])"
   ]
  },
  {
   "cell_type": "code",
   "execution_count": 41,
   "metadata": {},
   "outputs": [],
   "source": [
    "import requests\n",
    "from bs4 import BeautifulSoup\n",
    "import time"
   ]
  },
  {
   "cell_type": "code",
   "execution_count": 42,
   "metadata": {},
   "outputs": [],
   "source": [
    "def code_to_label(code):\n",
    "    request = requests.get(f'https://www.wikidata.org/wiki/Q{code}')\n",
    "    if request.status_code != 200:\n",
    "        raise\n",
    "    page = request.content\n",
    "    soup = BeautifulSoup(page)\n",
    "    label = soup.find('span', {'class': 'wikibase-title-label'}).text\n",
    "    return label"
   ]
  },
  {
   "cell_type": "code",
   "execution_count": 32,
   "metadata": {},
   "outputs": [
    {
     "data": {
      "text/plain": [
       "'military personnel'"
      ]
     },
     "execution_count": 32,
     "metadata": {},
     "output_type": "execute_result"
    }
   ],
   "source": [
    "code_to_label('47064')"
   ]
  },
  {
   "cell_type": "code",
   "execution_count": 54,
   "metadata": {},
   "outputs": [
    {
     "data": {
      "text/html": [
       "<div><style>\n",
       ".dataframe > thead > tr,\n",
       ".dataframe > tbody > tr {\n",
       "  text-align: right;\n",
       "  white-space: pre-wrap;\n",
       "}\n",
       "</style>\n",
       "<small>shape: (50_115, 105)</small><table border=\"1\" class=\"dataframe\"><thead><tr><th>en_wiki</th><th>2015-05</th><th>2015-06</th><th>2015-07</th><th>2015-08</th><th>2015-09</th><th>2015-10</th><th>2015-11</th><th>2015-12</th><th>2016-01</th><th>2016-02</th><th>2016-03</th><th>2016-04</th><th>2016-05</th><th>2016-06</th><th>2016-07</th><th>2016-08</th><th>2016-09</th><th>2016-10</th><th>2016-11</th><th>2016-12</th><th>2017-01</th><th>2017-02</th><th>2017-03</th><th>2017-04</th><th>2017-05</th><th>2017-06</th><th>2017-07</th><th>2017-08</th><th>2017-09</th><th>2017-10</th><th>2017-11</th><th>2017-12</th><th>2018-01</th><th>2018-02</th><th>2018-03</th><th>2018-04</th><th>&hellip;</th><th>2020-12</th><th>2021-01</th><th>2021-02</th><th>2021-03</th><th>2021-04</th><th>2021-05</th><th>2021-06</th><th>2021-07</th><th>2021-08</th><th>2021-09</th><th>2021-10</th><th>2021-11</th><th>2021-12</th><th>2022-01</th><th>2022-02</th><th>2022-03</th><th>2022-04</th><th>2022-05</th><th>2022-06</th><th>2022-07</th><th>2022-08</th><th>2022-09</th><th>2022-10</th><th>2022-11</th><th>2022-12</th><th>2023-01</th><th>2023-02</th><th>2023-03</th><th>2023-04</th><th>2023-05</th><th>2023-06</th><th>2023-07</th><th>2023-08</th><th>2023-09</th><th>2023-10</th><th>2023-11</th><th>2023-12</th></tr><tr><td>str</td><td>i64</td><td>i64</td><td>i64</td><td>i64</td><td>i64</td><td>i64</td><td>i64</td><td>i64</td><td>i64</td><td>i64</td><td>i64</td><td>i64</td><td>i64</td><td>i64</td><td>i64</td><td>i64</td><td>i64</td><td>i64</td><td>i64</td><td>i64</td><td>i64</td><td>i64</td><td>i64</td><td>i64</td><td>i64</td><td>i64</td><td>i64</td><td>i64</td><td>i64</td><td>i64</td><td>i64</td><td>i64</td><td>i64</td><td>i64</td><td>i64</td><td>i64</td><td>&hellip;</td><td>i64</td><td>i64</td><td>i64</td><td>i64</td><td>i64</td><td>i64</td><td>i64</td><td>i64</td><td>i64</td><td>i64</td><td>i64</td><td>i64</td><td>i64</td><td>i64</td><td>i64</td><td>i64</td><td>i64</td><td>i64</td><td>i64</td><td>i64</td><td>i64</td><td>i64</td><td>i64</td><td>i64</td><td>i64</td><td>i64</td><td>i64</td><td>i64</td><td>i64</td><td>i64</td><td>i64</td><td>i64</td><td>i64</td><td>i64</td><td>i64</td><td>i64</td><td>i64</td></tr></thead><tbody><tr><td>&quot;Mary_Ann_Wrigh…</td><td>58</td><td>39</td><td>41</td><td>61</td><td>50</td><td>63</td><td>63</td><td>48</td><td>49</td><td>48</td><td>60</td><td>89</td><td>59</td><td>34</td><td>33</td><td>57</td><td>32</td><td>51</td><td>50</td><td>58</td><td>37</td><td>59</td><td>59</td><td>31</td><td>37</td><td>16</td><td>23</td><td>22</td><td>35</td><td>22</td><td>23</td><td>42</td><td>65</td><td>28</td><td>42</td><td>49</td><td>&hellip;</td><td>18</td><td>18</td><td>12</td><td>24</td><td>30</td><td>33</td><td>16</td><td>20</td><td>16</td><td>25</td><td>17</td><td>24</td><td>15</td><td>19</td><td>22</td><td>16</td><td>26</td><td>13</td><td>17</td><td>31</td><td>14</td><td>16</td><td>25</td><td>16</td><td>20</td><td>28</td><td>21</td><td>24</td><td>30</td><td>19</td><td>20</td><td>11</td><td>19</td><td>23</td><td>24</td><td>43</td><td>39</td></tr><tr><td>&quot;Malena_Gracia&quot;</td><td>null</td><td>null</td><td>null</td><td>null</td><td>null</td><td>null</td><td>null</td><td>null</td><td>null</td><td>null</td><td>null</td><td>null</td><td>null</td><td>null</td><td>null</td><td>null</td><td>null</td><td>null</td><td>null</td><td>null</td><td>null</td><td>null</td><td>null</td><td>null</td><td>null</td><td>null</td><td>null</td><td>null</td><td>null</td><td>null</td><td>null</td><td>null</td><td>null</td><td>null</td><td>null</td><td>null</td><td>&hellip;</td><td>715</td><td>1038</td><td>575</td><td>263</td><td>478</td><td>229</td><td>225</td><td>218</td><td>303</td><td>145</td><td>130</td><td>106</td><td>139</td><td>181</td><td>123</td><td>161</td><td>148</td><td>462</td><td>1013</td><td>194</td><td>142</td><td>337</td><td>188</td><td>175</td><td>204</td><td>142</td><td>109</td><td>110</td><td>279</td><td>163</td><td>183</td><td>270</td><td>291</td><td>128</td><td>116</td><td>881</td><td>231</td></tr><tr><td>&quot;Ramdas_Kamat&quot;</td><td>null</td><td>null</td><td>null</td><td>null</td><td>null</td><td>null</td><td>null</td><td>null</td><td>null</td><td>null</td><td>null</td><td>null</td><td>null</td><td>null</td><td>191</td><td>91</td><td>56</td><td>65</td><td>35</td><td>76</td><td>52</td><td>89</td><td>72</td><td>53</td><td>55</td><td>54</td><td>51</td><td>63</td><td>57</td><td>62</td><td>55</td><td>60</td><td>64</td><td>54</td><td>60</td><td>56</td><td>&hellip;</td><td>34</td><td>34</td><td>77</td><td>46</td><td>44</td><td>47</td><td>39</td><td>30</td><td>15</td><td>34</td><td>39</td><td>25</td><td>28</td><td>1137</td><td>123</td><td>57</td><td>50</td><td>42</td><td>42</td><td>53</td><td>54</td><td>42</td><td>38</td><td>29</td><td>36</td><td>46</td><td>26</td><td>30</td><td>26</td><td>27</td><td>30</td><td>27</td><td>27</td><td>43</td><td>33</td><td>34</td><td>37</td></tr><tr><td>&quot;Zheng_Cao&quot;</td><td>2553</td><td>1344</td><td>2173</td><td>1673</td><td>1578</td><td>2355</td><td>1289</td><td>1450</td><td>1492</td><td>1481</td><td>1555</td><td>1280</td><td>1429</td><td>1585</td><td>2048</td><td>1860</td><td>2393</td><td>2372</td><td>1115</td><td>2067</td><td>2807</td><td>1201</td><td>2585</td><td>1511</td><td>1431</td><td>2320</td><td>1826</td><td>1561</td><td>1355</td><td>1498</td><td>1252</td><td>957</td><td>1273</td><td>973</td><td>986</td><td>980</td><td>&hellip;</td><td>1045</td><td>955</td><td>1084</td><td>832</td><td>917</td><td>1674</td><td>1318</td><td>1266</td><td>725</td><td>733</td><td>1213</td><td>972</td><td>517</td><td>819</td><td>1001</td><td>700</td><td>982</td><td>1434</td><td>1091</td><td>930</td><td>783</td><td>571</td><td>623</td><td>567</td><td>862</td><td>2220</td><td>1428</td><td>1173</td><td>1355</td><td>802</td><td>918</td><td>832</td><td>714</td><td>1265</td><td>612</td><td>585</td><td>522</td></tr><tr><td>&quot;Bobby_King&quot;</td><td>680</td><td>393</td><td>392</td><td>420</td><td>502</td><td>478</td><td>414</td><td>421</td><td>391</td><td>400</td><td>415</td><td>403</td><td>354</td><td>303</td><td>313</td><td>332</td><td>371</td><td>434</td><td>400</td><td>284</td><td>449</td><td>405</td><td>464</td><td>388</td><td>317</td><td>275</td><td>262</td><td>256</td><td>306</td><td>400</td><td>354</td><td>671</td><td>683</td><td>468</td><td>426</td><td>383</td><td>&hellip;</td><td>213</td><td>234</td><td>283</td><td>259</td><td>226</td><td>269</td><td>199</td><td>199</td><td>189</td><td>222</td><td>199</td><td>223</td><td>159</td><td>256</td><td>331</td><td>231</td><td>234</td><td>256</td><td>170</td><td>246</td><td>247</td><td>254</td><td>251</td><td>223</td><td>176</td><td>226</td><td>209</td><td>229</td><td>222</td><td>168</td><td>177</td><td>310</td><td>242</td><td>221</td><td>260</td><td>195</td><td>186</td></tr><tr><td>&hellip;</td><td>&hellip;</td><td>&hellip;</td><td>&hellip;</td><td>&hellip;</td><td>&hellip;</td><td>&hellip;</td><td>&hellip;</td><td>&hellip;</td><td>&hellip;</td><td>&hellip;</td><td>&hellip;</td><td>&hellip;</td><td>&hellip;</td><td>&hellip;</td><td>&hellip;</td><td>&hellip;</td><td>&hellip;</td><td>&hellip;</td><td>&hellip;</td><td>&hellip;</td><td>&hellip;</td><td>&hellip;</td><td>&hellip;</td><td>&hellip;</td><td>&hellip;</td><td>&hellip;</td><td>&hellip;</td><td>&hellip;</td><td>&hellip;</td><td>&hellip;</td><td>&hellip;</td><td>&hellip;</td><td>&hellip;</td><td>&hellip;</td><td>&hellip;</td><td>&hellip;</td><td>&hellip;</td><td>&hellip;</td><td>&hellip;</td><td>&hellip;</td><td>&hellip;</td><td>&hellip;</td><td>&hellip;</td><td>&hellip;</td><td>&hellip;</td><td>&hellip;</td><td>&hellip;</td><td>&hellip;</td><td>&hellip;</td><td>&hellip;</td><td>&hellip;</td><td>&hellip;</td><td>&hellip;</td><td>&hellip;</td><td>&hellip;</td><td>&hellip;</td><td>&hellip;</td><td>&hellip;</td><td>&hellip;</td><td>&hellip;</td><td>&hellip;</td><td>&hellip;</td><td>&hellip;</td><td>&hellip;</td><td>&hellip;</td><td>&hellip;</td><td>&hellip;</td><td>&hellip;</td><td>&hellip;</td><td>&hellip;</td><td>&hellip;</td><td>&hellip;</td><td>&hellip;</td><td>&hellip;</td></tr><tr><td>&quot;Joeystarr&quot;</td><td>1216</td><td>1205</td><td>1008</td><td>1220</td><td>939</td><td>1304</td><td>1208</td><td>1461</td><td>1356</td><td>1629</td><td>1411</td><td>2437</td><td>1054</td><td>745</td><td>731</td><td>639</td><td>740</td><td>833</td><td>1421</td><td>1201</td><td>1409</td><td>1082</td><td>1427</td><td>1028</td><td>1186</td><td>862</td><td>1065</td><td>1028</td><td>794</td><td>807</td><td>1045</td><td>1395</td><td>1253</td><td>1276</td><td>1913</td><td>1505</td><td>&hellip;</td><td>1014</td><td>2518</td><td>3289</td><td>2278</td><td>1739</td><td>1229</td><td>993</td><td>984</td><td>1054</td><td>823</td><td>889</td><td>870</td><td>807</td><td>876</td><td>702</td><td>869</td><td>695</td><td>816</td><td>655</td><td>638</td><td>588</td><td>445</td><td>975</td><td>893</td><td>900</td><td>779</td><td>594</td><td>632</td><td>534</td><td>503</td><td>495</td><td>490</td><td>561</td><td>543</td><td>530</td><td>500</td><td>602</td></tr><tr><td>&quot;Phil_Carmen&quot;</td><td>342</td><td>296</td><td>318</td><td>324</td><td>379</td><td>364</td><td>327</td><td>312</td><td>369</td><td>318</td><td>295</td><td>275</td><td>254</td><td>186</td><td>210</td><td>266</td><td>229</td><td>267</td><td>226</td><td>260</td><td>257</td><td>235</td><td>228</td><td>249</td><td>218</td><td>218</td><td>253</td><td>236</td><td>256</td><td>194</td><td>244</td><td>217</td><td>254</td><td>259</td><td>286</td><td>266</td><td>&hellip;</td><td>193</td><td>194</td><td>220</td><td>213</td><td>222</td><td>178</td><td>151</td><td>138</td><td>159</td><td>162</td><td>172</td><td>206</td><td>194</td><td>186</td><td>162</td><td>166</td><td>157</td><td>167</td><td>140</td><td>139</td><td>134</td><td>178</td><td>148</td><td>125</td><td>139</td><td>160</td><td>197</td><td>152</td><td>167</td><td>126</td><td>114</td><td>120</td><td>142</td><td>144</td><td>159</td><td>147</td><td>149</td></tr><tr><td>&quot;Thomas_Moore&quot;</td><td>8777</td><td>6442</td><td>5673</td><td>5487</td><td>6896</td><td>7235</td><td>6666</td><td>6550</td><td>7005</td><td>7290</td><td>6775</td><td>6205</td><td>6259</td><td>5105</td><td>4178</td><td>4174</td><td>5070</td><td>5545</td><td>5469</td><td>4838</td><td>5596</td><td>6271</td><td>6550</td><td>6158</td><td>5714</td><td>4611</td><td>4022</td><td>3922</td><td>4733</td><td>5074</td><td>5072</td><td>4295</td><td>5298</td><td>5305</td><td>6366</td><td>4944</td><td>&hellip;</td><td>4203</td><td>4640</td><td>5836</td><td>5494</td><td>4513</td><td>4230</td><td>3618</td><td>3066</td><td>3531</td><td>3674</td><td>3758</td><td>3971</td><td>3231</td><td>3747</td><td>3797</td><td>4421</td><td>3643</td><td>3816</td><td>3082</td><td>2817</td><td>3369</td><td>3634</td><td>3913</td><td>4134</td><td>3310</td><td>3555</td><td>3344</td><td>3697</td><td>3070</td><td>3137</td><td>2727</td><td>2529</td><td>2758</td><td>3028</td><td>3731</td><td>3580</td><td>3141</td></tr><tr><td>&quot;Yu_Menglong&quot;</td><td>null</td><td>null</td><td>null</td><td>null</td><td>null</td><td>null</td><td>null</td><td>null</td><td>null</td><td>null</td><td>null</td><td>null</td><td>null</td><td>null</td><td>null</td><td>null</td><td>null</td><td>null</td><td>null</td><td>null</td><td>null</td><td>null</td><td>null</td><td>null</td><td>11</td><td>2</td><td>2</td><td>2</td><td>4</td><td>39</td><td>669</td><td>678</td><td>673</td><td>528</td><td>629</td><td>543</td><td>&hellip;</td><td>1499</td><td>1398</td><td>1020</td><td>1014</td><td>777</td><td>868</td><td>744</td><td>843</td><td>661</td><td>559</td><td>548</td><td>584</td><td>533</td><td>573</td><td>421</td><td>450</td><td>467</td><td>353</td><td>370</td><td>442</td><td>344</td><td>289</td><td>330</td><td>251</td><td>212</td><td>241</td><td>267</td><td>258</td><td>278</td><td>285</td><td>342</td><td>235</td><td>183</td><td>198</td><td>203</td><td>206</td><td>166</td></tr><tr><td>&quot;Miles_Jones_(m…</td><td>104</td><td>114</td><td>111</td><td>148</td><td>146</td><td>125</td><td>128</td><td>123</td><td>130</td><td>103</td><td>99</td><td>85</td><td>101</td><td>64</td><td>68</td><td>74</td><td>52</td><td>39</td><td>56</td><td>69</td><td>56</td><td>66</td><td>75</td><td>48</td><td>49</td><td>50</td><td>61</td><td>33</td><td>42</td><td>49</td><td>36</td><td>65</td><td>77</td><td>95</td><td>86</td><td>64</td><td>&hellip;</td><td>44</td><td>50</td><td>87</td><td>61</td><td>37</td><td>48</td><td>32</td><td>18</td><td>16</td><td>30</td><td>22</td><td>38</td><td>35</td><td>37</td><td>42</td><td>43</td><td>29</td><td>24</td><td>11</td><td>19</td><td>27</td><td>11</td><td>35</td><td>28</td><td>18</td><td>25</td><td>12</td><td>7</td><td>15</td><td>14</td><td>9</td><td>9</td><td>11</td><td>20</td><td>12</td><td>8</td><td>10</td></tr></tbody></table></div>"
      ],
      "text/plain": [
       "shape: (50_115, 105)\n",
       "┌────────────────────────┬─────────┬─────────┬─────────┬───┬─────────┬─────────┬─────────┬─────────┐\n",
       "│ en_wiki                ┆ 2015-05 ┆ 2015-06 ┆ 2015-07 ┆ … ┆ 2023-09 ┆ 2023-10 ┆ 2023-11 ┆ 2023-12 │\n",
       "│ ---                    ┆ ---     ┆ ---     ┆ ---     ┆   ┆ ---     ┆ ---     ┆ ---     ┆ ---     │\n",
       "│ str                    ┆ i64     ┆ i64     ┆ i64     ┆   ┆ i64     ┆ i64     ┆ i64     ┆ i64     │\n",
       "╞════════════════════════╪═════════╪═════════╪═════════╪═══╪═════════╪═════════╪═════════╪═════════╡\n",
       "│ Mary_Ann_Wrighten      ┆ 58      ┆ 39      ┆ 41      ┆ … ┆ 23      ┆ 24      ┆ 43      ┆ 39      │\n",
       "│ Malena_Gracia          ┆ null    ┆ null    ┆ null    ┆ … ┆ 128     ┆ 116     ┆ 881     ┆ 231     │\n",
       "│ Ramdas_Kamat           ┆ null    ┆ null    ┆ null    ┆ … ┆ 43      ┆ 33      ┆ 34      ┆ 37      │\n",
       "│ Zheng_Cao              ┆ 2553    ┆ 1344    ┆ 2173    ┆ … ┆ 1265    ┆ 612     ┆ 585     ┆ 522     │\n",
       "│ Bobby_King             ┆ 680     ┆ 393     ┆ 392     ┆ … ┆ 221     ┆ 260     ┆ 195     ┆ 186     │\n",
       "│ …                      ┆ …       ┆ …       ┆ …       ┆ … ┆ …       ┆ …       ┆ …       ┆ …       │\n",
       "│ Joeystarr              ┆ 1216    ┆ 1205    ┆ 1008    ┆ … ┆ 543     ┆ 530     ┆ 500     ┆ 602     │\n",
       "│ Phil_Carmen            ┆ 342     ┆ 296     ┆ 318     ┆ … ┆ 144     ┆ 159     ┆ 147     ┆ 149     │\n",
       "│ Thomas_Moore           ┆ 8777    ┆ 6442    ┆ 5673    ┆ … ┆ 3028    ┆ 3731    ┆ 3580    ┆ 3141    │\n",
       "│ Yu_Menglong            ┆ null    ┆ null    ┆ null    ┆ … ┆ 198     ┆ 203     ┆ 206     ┆ 166     │\n",
       "│ Miles_Jones_(musician) ┆ 104     ┆ 114     ┆ 111     ┆ … ┆ 20      ┆ 12      ┆ 8       ┆ 10      │\n",
       "└────────────────────────┴─────────┴─────────┴─────────┴───┴─────────┴─────────┴─────────┴─────────┘"
      ]
     },
     "execution_count": 54,
     "metadata": {},
     "output_type": "execute_result"
    }
   ],
   "source": [
    "singers = info_df.filter(pl.col('instrument').list.eval(pl.element().struct[0]).list.contains('17172850')).select('en_wiki')\n",
    "singers_views = singers.join(views_df, left_on='en_wiki', right_on='title')\n",
    "singers_views"
   ]
  },
  {
   "cell_type": "code",
   "execution_count": 127,
   "metadata": {},
   "outputs": [
    {
     "name": "stderr",
     "output_type": "stream",
     "text": [
      "100%|██████████| 357/357 [04:23<00:00,  1.35it/s]\n",
      "100%|██████████| 44/44 [00:38<00:00,  1.14it/s]\n",
      "  1%|          | 240/37768 [03:43<9:42:01,  1.07it/s] \n"
     ]
    },
    {
     "ename": "KeyboardInterrupt",
     "evalue": "",
     "output_type": "error",
     "traceback": [
      "\u001b[1;31m---------------------------------------------------------------------------\u001b[0m",
      "\u001b[1;31mKeyboardInterrupt\u001b[0m                         Traceback (most recent call last)",
      "Cell \u001b[1;32mIn[127], line 6\u001b[0m\n\u001b[0;32m      4\u001b[0m code2labels \u001b[38;5;241m=\u001b[39m {}\n\u001b[0;32m      5\u001b[0m \u001b[38;5;28;01mfor\u001b[39;00m code \u001b[38;5;129;01min\u001b[39;00m tqdm(s):\n\u001b[1;32m----> 6\u001b[0m     code2labels[code] \u001b[38;5;241m=\u001b[39m \u001b[43mcode_to_label\u001b[49m\u001b[43m(\u001b[49m\u001b[43mcode\u001b[49m\u001b[43m)\u001b[49m\n\u001b[0;32m      7\u001b[0m \u001b[38;5;28;01mwith\u001b[39;00m \u001b[38;5;28mopen\u001b[39m(PROCESSED_DATA_DIR \u001b[38;5;241m/\u001b[39m \u001b[38;5;124m'\u001b[39m\u001b[38;5;124mcodes_labels\u001b[39m\u001b[38;5;124m'\u001b[39m \u001b[38;5;241m/\u001b[39m \u001b[38;5;124mf\u001b[39m\u001b[38;5;124m'\u001b[39m\u001b[38;5;132;01m{\u001b[39;00ms\u001b[38;5;241m.\u001b[39mname\u001b[38;5;132;01m}\u001b[39;00m\u001b[38;5;124m.json\u001b[39m\u001b[38;5;124m'\u001b[39m, \u001b[38;5;124m'\u001b[39m\u001b[38;5;124mw\u001b[39m\u001b[38;5;124m'\u001b[39m) \u001b[38;5;28;01mas\u001b[39;00m f:\n\u001b[0;32m      8\u001b[0m     json\u001b[38;5;241m.\u001b[39mdump(code2labels, f)\n",
      "Cell \u001b[1;32mIn[112], line 2\u001b[0m, in \u001b[0;36mcode_to_label\u001b[1;34m(code)\u001b[0m\n\u001b[0;32m      1\u001b[0m \u001b[38;5;28;01mdef\u001b[39;00m \u001b[38;5;21mcode_to_label\u001b[39m(code):\n\u001b[1;32m----> 2\u001b[0m     request \u001b[38;5;241m=\u001b[39m \u001b[43mrequests\u001b[49m\u001b[38;5;241;43m.\u001b[39;49m\u001b[43mget\u001b[49m\u001b[43m(\u001b[49m\u001b[38;5;124;43mf\u001b[39;49m\u001b[38;5;124;43m'\u001b[39;49m\u001b[38;5;124;43mhttps://www.wikidata.org/wiki/Q\u001b[39;49m\u001b[38;5;132;43;01m{\u001b[39;49;00m\u001b[43mcode\u001b[49m\u001b[38;5;132;43;01m}\u001b[39;49;00m\u001b[38;5;124;43m'\u001b[39;49m\u001b[43m)\u001b[49m\n\u001b[0;32m      3\u001b[0m     \u001b[38;5;28;01mif\u001b[39;00m request\u001b[38;5;241m.\u001b[39mstatus_code \u001b[38;5;241m!=\u001b[39m \u001b[38;5;241m200\u001b[39m:\n\u001b[0;32m      4\u001b[0m         \u001b[38;5;28;01mraise\u001b[39;00m\n",
      "File \u001b[1;32mc:\\Users\\netan\\miniconda3\\envs\\big_data_project\\Lib\\site-packages\\requests\\api.py:73\u001b[0m, in \u001b[0;36mget\u001b[1;34m(url, params, **kwargs)\u001b[0m\n\u001b[0;32m     62\u001b[0m \u001b[38;5;28;01mdef\u001b[39;00m \u001b[38;5;21mget\u001b[39m(url, params\u001b[38;5;241m=\u001b[39m\u001b[38;5;28;01mNone\u001b[39;00m, \u001b[38;5;241m*\u001b[39m\u001b[38;5;241m*\u001b[39mkwargs):\n\u001b[0;32m     63\u001b[0m \u001b[38;5;250m    \u001b[39m\u001b[38;5;124mr\u001b[39m\u001b[38;5;124;03m\"\"\"Sends a GET request.\u001b[39;00m\n\u001b[0;32m     64\u001b[0m \n\u001b[0;32m     65\u001b[0m \u001b[38;5;124;03m    :param url: URL for the new :class:`Request` object.\u001b[39;00m\n\u001b[1;32m   (...)\u001b[0m\n\u001b[0;32m     70\u001b[0m \u001b[38;5;124;03m    :rtype: requests.Response\u001b[39;00m\n\u001b[0;32m     71\u001b[0m \u001b[38;5;124;03m    \"\"\"\u001b[39;00m\n\u001b[1;32m---> 73\u001b[0m     \u001b[38;5;28;01mreturn\u001b[39;00m \u001b[43mrequest\u001b[49m\u001b[43m(\u001b[49m\u001b[38;5;124;43m\"\u001b[39;49m\u001b[38;5;124;43mget\u001b[39;49m\u001b[38;5;124;43m\"\u001b[39;49m\u001b[43m,\u001b[49m\u001b[43m \u001b[49m\u001b[43murl\u001b[49m\u001b[43m,\u001b[49m\u001b[43m \u001b[49m\u001b[43mparams\u001b[49m\u001b[38;5;241;43m=\u001b[39;49m\u001b[43mparams\u001b[49m\u001b[43m,\u001b[49m\u001b[43m \u001b[49m\u001b[38;5;241;43m*\u001b[39;49m\u001b[38;5;241;43m*\u001b[39;49m\u001b[43mkwargs\u001b[49m\u001b[43m)\u001b[49m\n",
      "File \u001b[1;32mc:\\Users\\netan\\miniconda3\\envs\\big_data_project\\Lib\\site-packages\\requests\\api.py:59\u001b[0m, in \u001b[0;36mrequest\u001b[1;34m(method, url, **kwargs)\u001b[0m\n\u001b[0;32m     55\u001b[0m \u001b[38;5;66;03m# By using the 'with' statement we are sure the session is closed, thus we\u001b[39;00m\n\u001b[0;32m     56\u001b[0m \u001b[38;5;66;03m# avoid leaving sockets open which can trigger a ResourceWarning in some\u001b[39;00m\n\u001b[0;32m     57\u001b[0m \u001b[38;5;66;03m# cases, and look like a memory leak in others.\u001b[39;00m\n\u001b[0;32m     58\u001b[0m \u001b[38;5;28;01mwith\u001b[39;00m sessions\u001b[38;5;241m.\u001b[39mSession() \u001b[38;5;28;01mas\u001b[39;00m session:\n\u001b[1;32m---> 59\u001b[0m     \u001b[38;5;28;01mreturn\u001b[39;00m \u001b[43msession\u001b[49m\u001b[38;5;241;43m.\u001b[39;49m\u001b[43mrequest\u001b[49m\u001b[43m(\u001b[49m\u001b[43mmethod\u001b[49m\u001b[38;5;241;43m=\u001b[39;49m\u001b[43mmethod\u001b[49m\u001b[43m,\u001b[49m\u001b[43m \u001b[49m\u001b[43murl\u001b[49m\u001b[38;5;241;43m=\u001b[39;49m\u001b[43murl\u001b[49m\u001b[43m,\u001b[49m\u001b[43m \u001b[49m\u001b[38;5;241;43m*\u001b[39;49m\u001b[38;5;241;43m*\u001b[39;49m\u001b[43mkwargs\u001b[49m\u001b[43m)\u001b[49m\n",
      "File \u001b[1;32mc:\\Users\\netan\\miniconda3\\envs\\big_data_project\\Lib\\site-packages\\requests\\sessions.py:589\u001b[0m, in \u001b[0;36mSession.request\u001b[1;34m(self, method, url, params, data, headers, cookies, files, auth, timeout, allow_redirects, proxies, hooks, stream, verify, cert, json)\u001b[0m\n\u001b[0;32m    584\u001b[0m send_kwargs \u001b[38;5;241m=\u001b[39m {\n\u001b[0;32m    585\u001b[0m     \u001b[38;5;124m\"\u001b[39m\u001b[38;5;124mtimeout\u001b[39m\u001b[38;5;124m\"\u001b[39m: timeout,\n\u001b[0;32m    586\u001b[0m     \u001b[38;5;124m\"\u001b[39m\u001b[38;5;124mallow_redirects\u001b[39m\u001b[38;5;124m\"\u001b[39m: allow_redirects,\n\u001b[0;32m    587\u001b[0m }\n\u001b[0;32m    588\u001b[0m send_kwargs\u001b[38;5;241m.\u001b[39mupdate(settings)\n\u001b[1;32m--> 589\u001b[0m resp \u001b[38;5;241m=\u001b[39m \u001b[38;5;28;43mself\u001b[39;49m\u001b[38;5;241;43m.\u001b[39;49m\u001b[43msend\u001b[49m\u001b[43m(\u001b[49m\u001b[43mprep\u001b[49m\u001b[43m,\u001b[49m\u001b[43m \u001b[49m\u001b[38;5;241;43m*\u001b[39;49m\u001b[38;5;241;43m*\u001b[39;49m\u001b[43msend_kwargs\u001b[49m\u001b[43m)\u001b[49m\n\u001b[0;32m    591\u001b[0m \u001b[38;5;28;01mreturn\u001b[39;00m resp\n",
      "File \u001b[1;32mc:\\Users\\netan\\miniconda3\\envs\\big_data_project\\Lib\\site-packages\\requests\\sessions.py:703\u001b[0m, in \u001b[0;36mSession.send\u001b[1;34m(self, request, **kwargs)\u001b[0m\n\u001b[0;32m    700\u001b[0m start \u001b[38;5;241m=\u001b[39m preferred_clock()\n\u001b[0;32m    702\u001b[0m \u001b[38;5;66;03m# Send the request\u001b[39;00m\n\u001b[1;32m--> 703\u001b[0m r \u001b[38;5;241m=\u001b[39m \u001b[43madapter\u001b[49m\u001b[38;5;241;43m.\u001b[39;49m\u001b[43msend\u001b[49m\u001b[43m(\u001b[49m\u001b[43mrequest\u001b[49m\u001b[43m,\u001b[49m\u001b[43m \u001b[49m\u001b[38;5;241;43m*\u001b[39;49m\u001b[38;5;241;43m*\u001b[39;49m\u001b[43mkwargs\u001b[49m\u001b[43m)\u001b[49m\n\u001b[0;32m    705\u001b[0m \u001b[38;5;66;03m# Total elapsed time of the request (approximately)\u001b[39;00m\n\u001b[0;32m    706\u001b[0m elapsed \u001b[38;5;241m=\u001b[39m preferred_clock() \u001b[38;5;241m-\u001b[39m start\n",
      "File \u001b[1;32mc:\\Users\\netan\\miniconda3\\envs\\big_data_project\\Lib\\site-packages\\requests\\adapters.py:486\u001b[0m, in \u001b[0;36mHTTPAdapter.send\u001b[1;34m(self, request, stream, timeout, verify, cert, proxies)\u001b[0m\n\u001b[0;32m    483\u001b[0m     timeout \u001b[38;5;241m=\u001b[39m TimeoutSauce(connect\u001b[38;5;241m=\u001b[39mtimeout, read\u001b[38;5;241m=\u001b[39mtimeout)\n\u001b[0;32m    485\u001b[0m \u001b[38;5;28;01mtry\u001b[39;00m:\n\u001b[1;32m--> 486\u001b[0m     resp \u001b[38;5;241m=\u001b[39m \u001b[43mconn\u001b[49m\u001b[38;5;241;43m.\u001b[39;49m\u001b[43murlopen\u001b[49m\u001b[43m(\u001b[49m\n\u001b[0;32m    487\u001b[0m \u001b[43m        \u001b[49m\u001b[43mmethod\u001b[49m\u001b[38;5;241;43m=\u001b[39;49m\u001b[43mrequest\u001b[49m\u001b[38;5;241;43m.\u001b[39;49m\u001b[43mmethod\u001b[49m\u001b[43m,\u001b[49m\n\u001b[0;32m    488\u001b[0m \u001b[43m        \u001b[49m\u001b[43murl\u001b[49m\u001b[38;5;241;43m=\u001b[39;49m\u001b[43murl\u001b[49m\u001b[43m,\u001b[49m\n\u001b[0;32m    489\u001b[0m \u001b[43m        \u001b[49m\u001b[43mbody\u001b[49m\u001b[38;5;241;43m=\u001b[39;49m\u001b[43mrequest\u001b[49m\u001b[38;5;241;43m.\u001b[39;49m\u001b[43mbody\u001b[49m\u001b[43m,\u001b[49m\n\u001b[0;32m    490\u001b[0m \u001b[43m        \u001b[49m\u001b[43mheaders\u001b[49m\u001b[38;5;241;43m=\u001b[39;49m\u001b[43mrequest\u001b[49m\u001b[38;5;241;43m.\u001b[39;49m\u001b[43mheaders\u001b[49m\u001b[43m,\u001b[49m\n\u001b[0;32m    491\u001b[0m \u001b[43m        \u001b[49m\u001b[43mredirect\u001b[49m\u001b[38;5;241;43m=\u001b[39;49m\u001b[38;5;28;43;01mFalse\u001b[39;49;00m\u001b[43m,\u001b[49m\n\u001b[0;32m    492\u001b[0m \u001b[43m        \u001b[49m\u001b[43massert_same_host\u001b[49m\u001b[38;5;241;43m=\u001b[39;49m\u001b[38;5;28;43;01mFalse\u001b[39;49;00m\u001b[43m,\u001b[49m\n\u001b[0;32m    493\u001b[0m \u001b[43m        \u001b[49m\u001b[43mpreload_content\u001b[49m\u001b[38;5;241;43m=\u001b[39;49m\u001b[38;5;28;43;01mFalse\u001b[39;49;00m\u001b[43m,\u001b[49m\n\u001b[0;32m    494\u001b[0m \u001b[43m        \u001b[49m\u001b[43mdecode_content\u001b[49m\u001b[38;5;241;43m=\u001b[39;49m\u001b[38;5;28;43;01mFalse\u001b[39;49;00m\u001b[43m,\u001b[49m\n\u001b[0;32m    495\u001b[0m \u001b[43m        \u001b[49m\u001b[43mretries\u001b[49m\u001b[38;5;241;43m=\u001b[39;49m\u001b[38;5;28;43mself\u001b[39;49m\u001b[38;5;241;43m.\u001b[39;49m\u001b[43mmax_retries\u001b[49m\u001b[43m,\u001b[49m\n\u001b[0;32m    496\u001b[0m \u001b[43m        \u001b[49m\u001b[43mtimeout\u001b[49m\u001b[38;5;241;43m=\u001b[39;49m\u001b[43mtimeout\u001b[49m\u001b[43m,\u001b[49m\n\u001b[0;32m    497\u001b[0m \u001b[43m        \u001b[49m\u001b[43mchunked\u001b[49m\u001b[38;5;241;43m=\u001b[39;49m\u001b[43mchunked\u001b[49m\u001b[43m,\u001b[49m\n\u001b[0;32m    498\u001b[0m \u001b[43m    \u001b[49m\u001b[43m)\u001b[49m\n\u001b[0;32m    500\u001b[0m \u001b[38;5;28;01mexcept\u001b[39;00m (ProtocolError, \u001b[38;5;167;01mOSError\u001b[39;00m) \u001b[38;5;28;01mas\u001b[39;00m err:\n\u001b[0;32m    501\u001b[0m     \u001b[38;5;28;01mraise\u001b[39;00m \u001b[38;5;167;01mConnectionError\u001b[39;00m(err, request\u001b[38;5;241m=\u001b[39mrequest)\n",
      "File \u001b[1;32mc:\\Users\\netan\\miniconda3\\envs\\big_data_project\\Lib\\site-packages\\urllib3\\connectionpool.py:793\u001b[0m, in \u001b[0;36mHTTPConnectionPool.urlopen\u001b[1;34m(self, method, url, body, headers, retries, redirect, assert_same_host, timeout, pool_timeout, release_conn, chunked, body_pos, preload_content, decode_content, **response_kw)\u001b[0m\n\u001b[0;32m    790\u001b[0m response_conn \u001b[38;5;241m=\u001b[39m conn \u001b[38;5;28;01mif\u001b[39;00m \u001b[38;5;129;01mnot\u001b[39;00m release_conn \u001b[38;5;28;01melse\u001b[39;00m \u001b[38;5;28;01mNone\u001b[39;00m\n\u001b[0;32m    792\u001b[0m \u001b[38;5;66;03m# Make the request on the HTTPConnection object\u001b[39;00m\n\u001b[1;32m--> 793\u001b[0m response \u001b[38;5;241m=\u001b[39m \u001b[38;5;28;43mself\u001b[39;49m\u001b[38;5;241;43m.\u001b[39;49m\u001b[43m_make_request\u001b[49m\u001b[43m(\u001b[49m\n\u001b[0;32m    794\u001b[0m \u001b[43m    \u001b[49m\u001b[43mconn\u001b[49m\u001b[43m,\u001b[49m\n\u001b[0;32m    795\u001b[0m \u001b[43m    \u001b[49m\u001b[43mmethod\u001b[49m\u001b[43m,\u001b[49m\n\u001b[0;32m    796\u001b[0m \u001b[43m    \u001b[49m\u001b[43murl\u001b[49m\u001b[43m,\u001b[49m\n\u001b[0;32m    797\u001b[0m \u001b[43m    \u001b[49m\u001b[43mtimeout\u001b[49m\u001b[38;5;241;43m=\u001b[39;49m\u001b[43mtimeout_obj\u001b[49m\u001b[43m,\u001b[49m\n\u001b[0;32m    798\u001b[0m \u001b[43m    \u001b[49m\u001b[43mbody\u001b[49m\u001b[38;5;241;43m=\u001b[39;49m\u001b[43mbody\u001b[49m\u001b[43m,\u001b[49m\n\u001b[0;32m    799\u001b[0m \u001b[43m    \u001b[49m\u001b[43mheaders\u001b[49m\u001b[38;5;241;43m=\u001b[39;49m\u001b[43mheaders\u001b[49m\u001b[43m,\u001b[49m\n\u001b[0;32m    800\u001b[0m \u001b[43m    \u001b[49m\u001b[43mchunked\u001b[49m\u001b[38;5;241;43m=\u001b[39;49m\u001b[43mchunked\u001b[49m\u001b[43m,\u001b[49m\n\u001b[0;32m    801\u001b[0m \u001b[43m    \u001b[49m\u001b[43mretries\u001b[49m\u001b[38;5;241;43m=\u001b[39;49m\u001b[43mretries\u001b[49m\u001b[43m,\u001b[49m\n\u001b[0;32m    802\u001b[0m \u001b[43m    \u001b[49m\u001b[43mresponse_conn\u001b[49m\u001b[38;5;241;43m=\u001b[39;49m\u001b[43mresponse_conn\u001b[49m\u001b[43m,\u001b[49m\n\u001b[0;32m    803\u001b[0m \u001b[43m    \u001b[49m\u001b[43mpreload_content\u001b[49m\u001b[38;5;241;43m=\u001b[39;49m\u001b[43mpreload_content\u001b[49m\u001b[43m,\u001b[49m\n\u001b[0;32m    804\u001b[0m \u001b[43m    \u001b[49m\u001b[43mdecode_content\u001b[49m\u001b[38;5;241;43m=\u001b[39;49m\u001b[43mdecode_content\u001b[49m\u001b[43m,\u001b[49m\n\u001b[0;32m    805\u001b[0m \u001b[43m    \u001b[49m\u001b[38;5;241;43m*\u001b[39;49m\u001b[38;5;241;43m*\u001b[39;49m\u001b[43mresponse_kw\u001b[49m\u001b[43m,\u001b[49m\n\u001b[0;32m    806\u001b[0m \u001b[43m\u001b[49m\u001b[43m)\u001b[49m\n\u001b[0;32m    808\u001b[0m \u001b[38;5;66;03m# Everything went great!\u001b[39;00m\n\u001b[0;32m    809\u001b[0m clean_exit \u001b[38;5;241m=\u001b[39m \u001b[38;5;28;01mTrue\u001b[39;00m\n",
      "File \u001b[1;32mc:\\Users\\netan\\miniconda3\\envs\\big_data_project\\Lib\\site-packages\\urllib3\\connectionpool.py:537\u001b[0m, in \u001b[0;36mHTTPConnectionPool._make_request\u001b[1;34m(self, conn, method, url, body, headers, retries, timeout, chunked, response_conn, preload_content, decode_content, enforce_content_length)\u001b[0m\n\u001b[0;32m    535\u001b[0m \u001b[38;5;66;03m# Receive the response from the server\u001b[39;00m\n\u001b[0;32m    536\u001b[0m \u001b[38;5;28;01mtry\u001b[39;00m:\n\u001b[1;32m--> 537\u001b[0m     response \u001b[38;5;241m=\u001b[39m \u001b[43mconn\u001b[49m\u001b[38;5;241;43m.\u001b[39;49m\u001b[43mgetresponse\u001b[49m\u001b[43m(\u001b[49m\u001b[43m)\u001b[49m\n\u001b[0;32m    538\u001b[0m \u001b[38;5;28;01mexcept\u001b[39;00m (BaseSSLError, \u001b[38;5;167;01mOSError\u001b[39;00m) \u001b[38;5;28;01mas\u001b[39;00m e:\n\u001b[0;32m    539\u001b[0m     \u001b[38;5;28mself\u001b[39m\u001b[38;5;241m.\u001b[39m_raise_timeout(err\u001b[38;5;241m=\u001b[39me, url\u001b[38;5;241m=\u001b[39murl, timeout_value\u001b[38;5;241m=\u001b[39mread_timeout)\n",
      "File \u001b[1;32mc:\\Users\\netan\\miniconda3\\envs\\big_data_project\\Lib\\site-packages\\urllib3\\connection.py:466\u001b[0m, in \u001b[0;36mHTTPConnection.getresponse\u001b[1;34m(self)\u001b[0m\n\u001b[0;32m    463\u001b[0m \u001b[38;5;28;01mfrom\u001b[39;00m \u001b[38;5;21;01m.\u001b[39;00m\u001b[38;5;21;01mresponse\u001b[39;00m \u001b[38;5;28;01mimport\u001b[39;00m HTTPResponse\n\u001b[0;32m    465\u001b[0m \u001b[38;5;66;03m# Get the response from http.client.HTTPConnection\u001b[39;00m\n\u001b[1;32m--> 466\u001b[0m httplib_response \u001b[38;5;241m=\u001b[39m \u001b[38;5;28;43msuper\u001b[39;49m\u001b[43m(\u001b[49m\u001b[43m)\u001b[49m\u001b[38;5;241;43m.\u001b[39;49m\u001b[43mgetresponse\u001b[49m\u001b[43m(\u001b[49m\u001b[43m)\u001b[49m\n\u001b[0;32m    468\u001b[0m \u001b[38;5;28;01mtry\u001b[39;00m:\n\u001b[0;32m    469\u001b[0m     assert_header_parsing(httplib_response\u001b[38;5;241m.\u001b[39mmsg)\n",
      "File \u001b[1;32mc:\\Users\\netan\\miniconda3\\envs\\big_data_project\\Lib\\http\\client.py:1423\u001b[0m, in \u001b[0;36mHTTPConnection.getresponse\u001b[1;34m(self)\u001b[0m\n\u001b[0;32m   1421\u001b[0m \u001b[38;5;28;01mtry\u001b[39;00m:\n\u001b[0;32m   1422\u001b[0m     \u001b[38;5;28;01mtry\u001b[39;00m:\n\u001b[1;32m-> 1423\u001b[0m         \u001b[43mresponse\u001b[49m\u001b[38;5;241;43m.\u001b[39;49m\u001b[43mbegin\u001b[49m\u001b[43m(\u001b[49m\u001b[43m)\u001b[49m\n\u001b[0;32m   1424\u001b[0m     \u001b[38;5;28;01mexcept\u001b[39;00m \u001b[38;5;167;01mConnectionError\u001b[39;00m:\n\u001b[0;32m   1425\u001b[0m         \u001b[38;5;28mself\u001b[39m\u001b[38;5;241m.\u001b[39mclose()\n",
      "File \u001b[1;32mc:\\Users\\netan\\miniconda3\\envs\\big_data_project\\Lib\\http\\client.py:331\u001b[0m, in \u001b[0;36mHTTPResponse.begin\u001b[1;34m(self)\u001b[0m\n\u001b[0;32m    329\u001b[0m \u001b[38;5;66;03m# read until we get a non-100 response\u001b[39;00m\n\u001b[0;32m    330\u001b[0m \u001b[38;5;28;01mwhile\u001b[39;00m \u001b[38;5;28;01mTrue\u001b[39;00m:\n\u001b[1;32m--> 331\u001b[0m     version, status, reason \u001b[38;5;241m=\u001b[39m \u001b[38;5;28;43mself\u001b[39;49m\u001b[38;5;241;43m.\u001b[39;49m\u001b[43m_read_status\u001b[49m\u001b[43m(\u001b[49m\u001b[43m)\u001b[49m\n\u001b[0;32m    332\u001b[0m     \u001b[38;5;28;01mif\u001b[39;00m status \u001b[38;5;241m!=\u001b[39m CONTINUE:\n\u001b[0;32m    333\u001b[0m         \u001b[38;5;28;01mbreak\u001b[39;00m\n",
      "File \u001b[1;32mc:\\Users\\netan\\miniconda3\\envs\\big_data_project\\Lib\\http\\client.py:292\u001b[0m, in \u001b[0;36mHTTPResponse._read_status\u001b[1;34m(self)\u001b[0m\n\u001b[0;32m    291\u001b[0m \u001b[38;5;28;01mdef\u001b[39;00m \u001b[38;5;21m_read_status\u001b[39m(\u001b[38;5;28mself\u001b[39m):\n\u001b[1;32m--> 292\u001b[0m     line \u001b[38;5;241m=\u001b[39m \u001b[38;5;28mstr\u001b[39m(\u001b[38;5;28;43mself\u001b[39;49m\u001b[38;5;241;43m.\u001b[39;49m\u001b[43mfp\u001b[49m\u001b[38;5;241;43m.\u001b[39;49m\u001b[43mreadline\u001b[49m\u001b[43m(\u001b[49m\u001b[43m_MAXLINE\u001b[49m\u001b[43m \u001b[49m\u001b[38;5;241;43m+\u001b[39;49m\u001b[43m \u001b[49m\u001b[38;5;241;43m1\u001b[39;49m\u001b[43m)\u001b[49m, \u001b[38;5;124m\"\u001b[39m\u001b[38;5;124miso-8859-1\u001b[39m\u001b[38;5;124m\"\u001b[39m)\n\u001b[0;32m    293\u001b[0m     \u001b[38;5;28;01mif\u001b[39;00m \u001b[38;5;28mlen\u001b[39m(line) \u001b[38;5;241m>\u001b[39m _MAXLINE:\n\u001b[0;32m    294\u001b[0m         \u001b[38;5;28;01mraise\u001b[39;00m LineTooLong(\u001b[38;5;124m\"\u001b[39m\u001b[38;5;124mstatus line\u001b[39m\u001b[38;5;124m\"\u001b[39m)\n",
      "File \u001b[1;32mc:\\Users\\netan\\miniconda3\\envs\\big_data_project\\Lib\\socket.py:707\u001b[0m, in \u001b[0;36mSocketIO.readinto\u001b[1;34m(self, b)\u001b[0m\n\u001b[0;32m    705\u001b[0m \u001b[38;5;28;01mwhile\u001b[39;00m \u001b[38;5;28;01mTrue\u001b[39;00m:\n\u001b[0;32m    706\u001b[0m     \u001b[38;5;28;01mtry\u001b[39;00m:\n\u001b[1;32m--> 707\u001b[0m         \u001b[38;5;28;01mreturn\u001b[39;00m \u001b[38;5;28;43mself\u001b[39;49m\u001b[38;5;241;43m.\u001b[39;49m\u001b[43m_sock\u001b[49m\u001b[38;5;241;43m.\u001b[39;49m\u001b[43mrecv_into\u001b[49m\u001b[43m(\u001b[49m\u001b[43mb\u001b[49m\u001b[43m)\u001b[49m\n\u001b[0;32m    708\u001b[0m     \u001b[38;5;28;01mexcept\u001b[39;00m timeout:\n\u001b[0;32m    709\u001b[0m         \u001b[38;5;28mself\u001b[39m\u001b[38;5;241m.\u001b[39m_timeout_occurred \u001b[38;5;241m=\u001b[39m \u001b[38;5;28;01mTrue\u001b[39;00m\n",
      "File \u001b[1;32mc:\\Users\\netan\\miniconda3\\envs\\big_data_project\\Lib\\ssl.py:1252\u001b[0m, in \u001b[0;36mSSLSocket.recv_into\u001b[1;34m(self, buffer, nbytes, flags)\u001b[0m\n\u001b[0;32m   1248\u001b[0m     \u001b[38;5;28;01mif\u001b[39;00m flags \u001b[38;5;241m!=\u001b[39m \u001b[38;5;241m0\u001b[39m:\n\u001b[0;32m   1249\u001b[0m         \u001b[38;5;28;01mraise\u001b[39;00m \u001b[38;5;167;01mValueError\u001b[39;00m(\n\u001b[0;32m   1250\u001b[0m           \u001b[38;5;124m\"\u001b[39m\u001b[38;5;124mnon-zero flags not allowed in calls to recv_into() on \u001b[39m\u001b[38;5;132;01m%s\u001b[39;00m\u001b[38;5;124m\"\u001b[39m \u001b[38;5;241m%\u001b[39m\n\u001b[0;32m   1251\u001b[0m           \u001b[38;5;28mself\u001b[39m\u001b[38;5;241m.\u001b[39m\u001b[38;5;18m__class__\u001b[39m)\n\u001b[1;32m-> 1252\u001b[0m     \u001b[38;5;28;01mreturn\u001b[39;00m \u001b[38;5;28;43mself\u001b[39;49m\u001b[38;5;241;43m.\u001b[39;49m\u001b[43mread\u001b[49m\u001b[43m(\u001b[49m\u001b[43mnbytes\u001b[49m\u001b[43m,\u001b[49m\u001b[43m \u001b[49m\u001b[43mbuffer\u001b[49m\u001b[43m)\u001b[49m\n\u001b[0;32m   1253\u001b[0m \u001b[38;5;28;01melse\u001b[39;00m:\n\u001b[0;32m   1254\u001b[0m     \u001b[38;5;28;01mreturn\u001b[39;00m \u001b[38;5;28msuper\u001b[39m()\u001b[38;5;241m.\u001b[39mrecv_into(buffer, nbytes, flags)\n",
      "File \u001b[1;32mc:\\Users\\netan\\miniconda3\\envs\\big_data_project\\Lib\\ssl.py:1104\u001b[0m, in \u001b[0;36mSSLSocket.read\u001b[1;34m(self, len, buffer)\u001b[0m\n\u001b[0;32m   1102\u001b[0m \u001b[38;5;28;01mtry\u001b[39;00m:\n\u001b[0;32m   1103\u001b[0m     \u001b[38;5;28;01mif\u001b[39;00m buffer \u001b[38;5;129;01mis\u001b[39;00m \u001b[38;5;129;01mnot\u001b[39;00m \u001b[38;5;28;01mNone\u001b[39;00m:\n\u001b[1;32m-> 1104\u001b[0m         \u001b[38;5;28;01mreturn\u001b[39;00m \u001b[38;5;28;43mself\u001b[39;49m\u001b[38;5;241;43m.\u001b[39;49m\u001b[43m_sslobj\u001b[49m\u001b[38;5;241;43m.\u001b[39;49m\u001b[43mread\u001b[49m\u001b[43m(\u001b[49m\u001b[38;5;28;43mlen\u001b[39;49m\u001b[43m,\u001b[49m\u001b[43m \u001b[49m\u001b[43mbuffer\u001b[49m\u001b[43m)\u001b[49m\n\u001b[0;32m   1105\u001b[0m     \u001b[38;5;28;01melse\u001b[39;00m:\n\u001b[0;32m   1106\u001b[0m         \u001b[38;5;28;01mreturn\u001b[39;00m \u001b[38;5;28mself\u001b[39m\u001b[38;5;241m.\u001b[39m_sslobj\u001b[38;5;241m.\u001b[39mread(\u001b[38;5;28mlen\u001b[39m)\n",
      "\u001b[1;31mKeyboardInterrupt\u001b[0m: "
     ]
    }
   ],
   "source": [
    "(PROCESSED_DATA_DIR / 'codes_labels').mkdir(exist_ok=True)\n",
    "\n",
    "for s in unique_codes:\n",
    "    code2labels = {}\n",
    "    for code in tqdm(s):\n",
    "        code2labels[code] = code_to_label(code)\n",
    "    with open(PROCESSED_DATA_DIR / 'codes_labels' / f'{s.name}.json', 'w') as f:\n",
    "        json.dump(code2labels, f)\n",
    "\n",
    "# TODO: do the opposite, request only common codes\n",
    "# TODO: utf-8?"
   ]
  },
  {
   "cell_type": "code",
   "execution_count": 96,
   "metadata": {},
   "outputs": [],
   "source": [
    "info_df.write_parquet(PROCESSED_DATA_DIR / 'wikidata_all.parquet')"
   ]
  },
  {
   "cell_type": "markdown",
   "metadata": {},
   "source": [
    "Aliases not included in the pageviews data"
   ]
  },
  {
   "cell_type": "code",
   "execution_count": 60,
   "metadata": {},
   "outputs": [
    {
     "data": {
      "text/plain": [
       "True"
      ]
     },
     "execution_count": 60,
     "metadata": {},
     "output_type": "execute_result"
    }
   ],
   "source": [
    "(info_df['numeric_id'] == info_df['id'].str.replace('Q', '')).all()"
   ]
  },
  {
   "cell_type": "markdown",
   "metadata": {},
   "source": [
    "Convert code to label description:\n",
    "- https://stackoverflow.com/questions/59737076/how-to-get-a-label-of-a-property-from-wikidata\n",
    "- https://stackoverflow.com/questions/72704205/how-to-convert-wiki-data-qid-to-entity-and-vice-versa-in-python"
   ]
  },
  {
   "cell_type": "markdown",
   "metadata": {},
   "source": [
    "   1. What is the distribution of each column\n",
    "1. Column-specific questions:\n",
    "    1. Can an entity have more than one `gender`? Can an entity have no `gender`? If so - why?\n",
    "    2. Can an entity have no `date_of_birth`? why?\n"
   ]
  },
  {
   "cell_type": "markdown",
   "metadata": {},
   "source": [
    "### Additional Features Extraction"
   ]
  },
  {
   "cell_type": "code",
   "execution_count": null,
   "metadata": {},
   "outputs": [
    {
     "data": {
      "text/html": [
       "<div><style>\n",
       ".dataframe > thead > tr,\n",
       ".dataframe > tbody > tr {\n",
       "  text-align: right;\n",
       "  white-space: pre-wrap;\n",
       "}\n",
       "</style>\n",
       "<small>shape: (34, 27)</small><table border=\"1\" class=\"dataframe\"><thead><tr><th>id</th><th>numeric_id</th><th>en_label</th><th>en_wiki</th><th>en_description</th><th>type</th><th>sitelinks</th><th>descriptions</th><th>labels</th><th>aliases</th><th>instance_of</th><th>gender</th><th>date_of_birth</th><th>date_of_death</th><th>worked_at</th><th>country_of_citizenship</th><th>country</th><th>educated_at</th><th>occupation</th><th>instrument</th><th>genre</th><th>industry</th><th>subclass_of</th><th>coordinate_location</th><th>iso_3166_alpha3</th><th>member_of</th><th>from_fictional_universe</th></tr><tr><td>str</td><td>str</td><td>str</td><td>str</td><td>str</td><td>str</td><td>list[struct[3]]</td><td>list[struct[2]]</td><td>list[struct[2]]</td><td>list[struct[2]]</td><td>list[struct[1]]</td><td>list[struct[1]]</td><td>list[struct[1]]</td><td>list[struct[1]]</td><td>list[struct[1]]</td><td>list[struct[1]]</td><td>list[struct[1]]</td><td>list[struct[1]]</td><td>list[struct[1]]</td><td>list[struct[1]]</td><td>list[struct[1]]</td><td>list[struct[1]]</td><td>list[struct[1]]</td><td>list[struct[2]]</td><td>list[null]</td><td>list[struct[1]]</td><td>list[struct[1]]</td></tr></thead><tbody><tr><td>&quot;Q16209139&quot;</td><td>&quot;16209139&quot;</td><td>&quot;Norman Gunston…</td><td>&quot;Norman_Gunston…</td><td>&quot;fictional char…</td><td>&quot;item&quot;</td><td>[{&quot;enwiki&quot;,&quot;Norman Gunston&quot;,&quot;Norman_Gunston&quot;}]</td><td>[{&quot;nl&quot;,&quot;zanger&quot;}, {&quot;en&quot;,&quot;fictional character&quot;}, {&quot;uk&quot;,&quot;вигаданий персонаж&quot;}]</td><td>[{&quot;en&quot;,&quot;Norman Gunston&quot;}, {&quot;de&quot;,&quot;Norman Gunston&quot;}, … {&quot;sq&quot;,&quot;Norman Gunston&quot;}]</td><td>[]</td><td>[{&quot;5&quot;}]</td><td>[{&quot;6581097&quot;}]</td><td>[]</td><td>[]</td><td>[]</td><td>[]</td><td>[]</td><td>[]</td><td>[{&quot;177220&quot;}]</td><td>[{&quot;17172850&quot;}]</td><td>[]</td><td>[]</td><td>[]</td><td>[]</td><td>[]</td><td>[]</td><td>[]</td></tr><tr><td>&quot;Q121026451&quot;</td><td>&quot;121026451&quot;</td><td>&quot;Mae Paner&quot;</td><td>&quot;Mae_Paner&quot;</td><td>&quot;fictional char…</td><td>&quot;item&quot;</td><td>[{&quot;enwiki&quot;,&quot;Mae Paner&quot;,&quot;Mae_Paner&quot;}]</td><td>[{&quot;en&quot;,&quot;fictional character&quot;}, {&quot;uk&quot;,&quot;вигаданий персонаж&quot;}]</td><td>[{&quot;en&quot;,&quot;Mae Paner&quot;}, {&quot;de&quot;,&quot;Mae Paner&quot;}, … {&quot;pt-br&quot;,&quot;Mae Paner&quot;}]</td><td>[]</td><td>[{&quot;5&quot;}]</td><td>[{&quot;6581072&quot;}]</td><td>[]</td><td>[]</td><td>[]</td><td>[]</td><td>[]</td><td>[]</td><td>[{&quot;2259451&quot;}, {&quot;1476215&quot;}]</td><td>[]</td><td>[]</td><td>[]</td><td>[]</td><td>[]</td><td>[]</td><td>[]</td><td>[]</td></tr><tr><td>&quot;Q5460334&quot;</td><td>&quot;5460334&quot;</td><td>&quot;Flora Malherbe…</td><td>&quot;Flora_Malherbe…</td><td>&quot;fictional char…</td><td>&quot;item&quot;</td><td>[{&quot;enwiki&quot;,&quot;Flora Malherbe&quot;,&quot;Flora_Malherbe&quot;}]</td><td>[{&quot;nl&quot;,&quot;monteur&quot;}, {&quot;en&quot;,&quot;fictional character on the American TV sitcom The Andy Griffith Show and its successor, Mayberry RFD&quot;}]</td><td>[{&quot;en&quot;,&quot;Flora Malherbe&quot;}, {&quot;es&quot;,&quot;Flora Malherbe&quot;}, {&quot;ast&quot;,&quot;Flora Malherbe&quot;}]</td><td>[]</td><td>[{&quot;5&quot;}]</td><td>[{&quot;6581072&quot;}]</td><td>[]</td><td>[]</td><td>[]</td><td>[]</td><td>[]</td><td>[]</td><td>[{&quot;327029&quot;}]</td><td>[]</td><td>[]</td><td>[]</td><td>[]</td><td>[]</td><td>[]</td><td>[]</td><td>[]</td></tr><tr><td>&quot;Q4751616&quot;</td><td>&quot;4751616&quot;</td><td>&quot;Anaranya&quot;</td><td>&quot;Anaranya&quot;</td><td>&quot;fictional char…</td><td>&quot;item&quot;</td><td>[{&quot;enwiki&quot;,&quot;Anaranya&quot;,&quot;Anaranya&quot;}, {&quot;ptwiki&quot;,&quot;Anaranya&quot;,&quot;Anaranya&quot;}, … {&quot;ruwiki&quot;,&quot;Анаранья&quot;,&quot;Анаранья&quot;}]</td><td>[{&quot;bn&quot;,&quot;হিন্দু পৌরাণিক চরিত্র&quot;}, {&quot;en&quot;,&quot;fictional character&quot;}, {&quot;uk&quot;,&quot;вигаданий персонаж&quot;}]</td><td>[{&quot;en&quot;,&quot;Anaranya&quot;}, {&quot;pt&quot;,&quot;Anaranya&quot;}, … {&quot;ru&quot;,&quot;Анаранья&quot;}]</td><td>[]</td><td>[{&quot;5&quot;}]</td><td>[{&quot;6581097&quot;}]</td><td>[]</td><td>[]</td><td>[]</td><td>[]</td><td>[]</td><td>[]</td><td>[]</td><td>[]</td><td>[]</td><td>[]</td><td>[]</td><td>[]</td><td>[]</td><td>[]</td><td>[]</td></tr><tr><td>&quot;Q7844223&quot;</td><td>&quot;7844223&quot;</td><td>&quot;Tristram the Y…</td><td>&quot;Tristan_the_Yo…</td><td>&quot;fictional char…</td><td>&quot;item&quot;</td><td>[{&quot;enwiki&quot;,&quot;Tristan the Younger&quot;,&quot;Tristan_the_Younger&quot;}]</td><td>[{&quot;en&quot;,&quot;fictional character in Arthurian romances&quot;}]</td><td>[{&quot;en&quot;,&quot;Tristram the Younger&quot;}, {&quot;ast&quot;,&quot;Tristram the Younger&quot;}]</td><td>[]</td><td>[{&quot;5&quot;}]</td><td>[{&quot;6581097&quot;}]</td><td>[]</td><td>[]</td><td>[]</td><td>[]</td><td>[]</td><td>[]</td><td>[]</td><td>[]</td><td>[]</td><td>[]</td><td>[]</td><td>[]</td><td>[]</td><td>[]</td><td>[]</td></tr><tr><td>&hellip;</td><td>&hellip;</td><td>&hellip;</td><td>&hellip;</td><td>&hellip;</td><td>&hellip;</td><td>&hellip;</td><td>&hellip;</td><td>&hellip;</td><td>&hellip;</td><td>&hellip;</td><td>&hellip;</td><td>&hellip;</td><td>&hellip;</td><td>&hellip;</td><td>&hellip;</td><td>&hellip;</td><td>&hellip;</td><td>&hellip;</td><td>&hellip;</td><td>&hellip;</td><td>&hellip;</td><td>&hellip;</td><td>&hellip;</td><td>&hellip;</td><td>&hellip;</td><td>&hellip;</td></tr><tr><td>&quot;Q7174933&quot;</td><td>&quot;7174933&quot;</td><td>&quot;Peter Jairus F…</td><td>&quot;Peter_Jairus_F…</td><td>&quot;fictionalized …</td><td>&quot;item&quot;</td><td>[{&quot;enwiki&quot;,&quot;Peter Jairus Frigate&quot;,&quot;Peter_Jairus_Frigate&quot;}]</td><td>[{&quot;en&quot;,&quot;fictionalized version of the science fiction author Philip José Farmer in Riverworld series&quot;}]</td><td>[{&quot;en&quot;,&quot;Peter Jairus Frigate&quot;}, {&quot;de&quot;,&quot;Peter Jairus Frigate&quot;}, … {&quot;ast&quot;,&quot;Peter Jairus Frigate&quot;}]</td><td>[]</td><td>[{&quot;5&quot;}]</td><td>[{&quot;6581097&quot;}]</td><td>[]</td><td>[]</td><td>[]</td><td>[]</td><td>[]</td><td>[]</td><td>[]</td><td>[]</td><td>[]</td><td>[]</td><td>[]</td><td>[]</td><td>[]</td><td>[]</td><td>[]</td></tr><tr><td>&quot;Q26409637&quot;</td><td>&quot;26409637&quot;</td><td>&quot;Amy Teo&quot;</td><td>&quot;Amy_Teo&quot;</td><td>&quot;fictional char…</td><td>&quot;item&quot;</td><td>[{&quot;enwiki&quot;,&quot;Amy Teo&quot;,&quot;Amy_Teo&quot;}]</td><td>[{&quot;en&quot;,&quot;fictional character from the BBC medical drama Holby City&quot;}]</td><td>[{&quot;en&quot;,&quot;Amy Teo&quot;}, {&quot;nl&quot;,&quot;Amy Teo&quot;}, … {&quot;ast&quot;,&quot;Amy Teo&quot;}]</td><td>[]</td><td>[{&quot;5&quot;}]</td><td>[{&quot;6581072&quot;}]</td><td>[]</td><td>[]</td><td>[]</td><td>[]</td><td>[]</td><td>[]</td><td>[]</td><td>[]</td><td>[]</td><td>[]</td><td>[]</td><td>[]</td><td>[]</td><td>[]</td><td>[]</td></tr><tr><td>&quot;Q10788162&quot;</td><td>&quot;10788162&quot;</td><td>&quot;Lý Ông Trọng&quot;</td><td>&quot;Ruan_Wengzhong…</td><td>&quot;fictional char…</td><td>&quot;item&quot;</td><td>[{&quot;viwiki&quot;,&quot;Lý Ông Trọng&quot;,&quot;Lý_Ông_Trọng&quot;}, {&quot;zhwiki&quot;,&quot;阮翁仲&quot;,&quot;阮翁仲&quot;}, … {&quot;thwiki&quot;,&quot;รฺเหวี่ยน เวิงจ้ง&quot;,&quot;รฺเหวี่ยน_เวิงจ้ง&quot;}]</td><td>[{&quot;en&quot;,&quot;fictional character&quot;}, {&quot;vi&quot;,&quot;nhân vật hư cấu&quot;}, {&quot;uk&quot;,&quot;вигаданий персонаж&quot;}]</td><td>[{&quot;vi&quot;,&quot;Lý Ông Trọng&quot;}, {&quot;zh&quot;,&quot;阮翁仲&quot;}, … {&quot;th&quot;,&quot;รฺเหวี่ยน เวิงจ้ง&quot;}]</td><td>[{&quot;vi&quot;,&quot;Lý Thân&quot;}, {&quot;vi&quot;,&quot;Uy mãnh Oanh liệt Phụ tín Đại vương&quot;}, … {&quot;vi&quot;,&quot;Vạn Tín Hầu&quot;}]</td><td>[{&quot;5&quot;}]</td><td>[{&quot;6581097&quot;}]</td><td>[]</td><td>[]</td><td>[]</td><td>[{&quot;7183&quot;}]</td><td>[]</td><td>[]</td><td>[]</td><td>[]</td><td>[]</td><td>[]</td><td>[]</td><td>[]</td><td>[]</td><td>[]</td><td>[]</td></tr><tr><td>&quot;Q84607917&quot;</td><td>&quot;84607917&quot;</td><td>&quot;Anduin Wrynn&quot;</td><td>&quot;Anduin_Wrynn&quot;</td><td>&quot;fictional char…</td><td>&quot;item&quot;</td><td>[{&quot;enwiki&quot;,&quot;Anduin Wrynn&quot;,&quot;Anduin_Wrynn&quot;}, {&quot;ukwiki&quot;,&quot;Андуїн Рінн&quot;,&quot;Андуїн_Рінн&quot;}]</td><td>[{&quot;en&quot;,&quot;fictional character who appears in the Warcraft series of video games by Blizzard Entertainment.&quot;}, {&quot;nl&quot;,&quot;personage uit Warcraft&quot;}, {&quot;it&quot;,&quot;personaggio di Warcraft&quot;}]</td><td>[{&quot;en&quot;,&quot;Anduin Wrynn&quot;}, {&quot;nl&quot;,&quot;Anduin Wrynn&quot;}, … {&quot;uk&quot;,&quot;Андуін Рінн&quot;}]</td><td>[]</td><td>[{&quot;15632617&quot;}, {&quot;5&quot;}]</td><td>[{&quot;6581097&quot;}]</td><td>[]</td><td>[]</td><td>[]</td><td>[]</td><td>[]</td><td>[]</td><td>[{&quot;16658189&quot;}]</td><td>[]</td><td>[]</td><td>[]</td><td>[]</td><td>[]</td><td>[]</td><td>[]</td><td>[{&quot;26181639&quot;}]</td></tr><tr><td>&quot;Q5648928&quot;</td><td>&quot;5648928&quot;</td><td>&quot;Hannah Palemoo…</td><td>&quot;Hannah_Palemoo…</td><td>&quot;fictional char…</td><td>&quot;item&quot;</td><td>[{&quot;enwiki&quot;,&quot;Hannah Palemoon&quot;,&quot;Hannah_Palemoon&quot;}]</td><td>[{&quot;en&quot;,&quot;fictional character in the Left Behind series&quot;}]</td><td>[{&quot;en&quot;,&quot;Hannah Palemoon&quot;}, {&quot;es&quot;,&quot;Hannah Palemoon&quot;}, … {&quot;sq&quot;,&quot;Hannah Palemoon&quot;}]</td><td>[]</td><td>[{&quot;5&quot;}]</td><td>[{&quot;6581072&quot;}]</td><td>[]</td><td>[]</td><td>[]</td><td>[]</td><td>[]</td><td>[]</td><td>[{&quot;186360&quot;}]</td><td>[]</td><td>[]</td><td>[]</td><td>[]</td><td>[]</td><td>[]</td><td>[]</td><td>[]</td></tr></tbody></table></div>"
      ],
      "text/plain": [
       "shape: (34, 27)\n",
       "┌───────────┬───────────┬───────────┬───────────┬───┬───────────┬───────────┬───────────┬──────────┐\n",
       "│ id        ┆ numeric_i ┆ en_label  ┆ en_wiki   ┆ … ┆ coordinat ┆ iso_3166_ ┆ member_of ┆ from_fic │\n",
       "│ ---       ┆ d         ┆ ---       ┆ ---       ┆   ┆ e_locatio ┆ alpha3    ┆ ---       ┆ tional_u │\n",
       "│ str       ┆ ---       ┆ str       ┆ str       ┆   ┆ n         ┆ ---       ┆ list[stru ┆ niverse  │\n",
       "│           ┆ str       ┆           ┆           ┆   ┆ ---       ┆ list[null ┆ ct[1]]    ┆ ---      │\n",
       "│           ┆           ┆           ┆           ┆   ┆ list[stru ┆ ]         ┆           ┆ list[str │\n",
       "│           ┆           ┆           ┆           ┆   ┆ ct[2]]    ┆           ┆           ┆ uct[1]]  │\n",
       "╞═══════════╪═══════════╪═══════════╪═══════════╪═══╪═══════════╪═══════════╪═══════════╪══════════╡\n",
       "│ Q16209139 ┆ 16209139  ┆ Norman    ┆ Norman_Gu ┆ … ┆ []        ┆ []        ┆ []        ┆ []       │\n",
       "│           ┆           ┆ Gunston   ┆ nston     ┆   ┆           ┆           ┆           ┆          │\n",
       "│ Q12102645 ┆ 121026451 ┆ Mae Paner ┆ Mae_Paner ┆ … ┆ []        ┆ []        ┆ []        ┆ []       │\n",
       "│ 1         ┆           ┆           ┆           ┆   ┆           ┆           ┆           ┆          │\n",
       "│ Q5460334  ┆ 5460334   ┆ Flora     ┆ Flora_Mal ┆ … ┆ []        ┆ []        ┆ []        ┆ []       │\n",
       "│           ┆           ┆ Malherbe  ┆ herbe     ┆   ┆           ┆           ┆           ┆          │\n",
       "│ Q4751616  ┆ 4751616   ┆ Anaranya  ┆ Anaranya  ┆ … ┆ []        ┆ []        ┆ []        ┆ []       │\n",
       "│ Q7844223  ┆ 7844223   ┆ Tristram  ┆ Tristan_t ┆ … ┆ []        ┆ []        ┆ []        ┆ []       │\n",
       "│           ┆           ┆ the       ┆ he_Younge ┆   ┆           ┆           ┆           ┆          │\n",
       "│           ┆           ┆ Younger   ┆ r         ┆   ┆           ┆           ┆           ┆          │\n",
       "│ …         ┆ …         ┆ …         ┆ …         ┆ … ┆ …         ┆ …         ┆ …         ┆ …        │\n",
       "│ Q7174933  ┆ 7174933   ┆ Peter     ┆ Peter_Jai ┆ … ┆ []        ┆ []        ┆ []        ┆ []       │\n",
       "│           ┆           ┆ Jairus    ┆ rus_Friga ┆   ┆           ┆           ┆           ┆          │\n",
       "│           ┆           ┆ Frigate   ┆ te        ┆   ┆           ┆           ┆           ┆          │\n",
       "│ Q26409637 ┆ 26409637  ┆ Amy Teo   ┆ Amy_Teo   ┆ … ┆ []        ┆ []        ┆ []        ┆ []       │\n",
       "│ Q10788162 ┆ 10788162  ┆ Lý Ông    ┆ Ruan_Weng ┆ … ┆ []        ┆ []        ┆ []        ┆ []       │\n",
       "│           ┆           ┆ Trọng     ┆ zhong     ┆   ┆           ┆           ┆           ┆          │\n",
       "│ Q84607917 ┆ 84607917  ┆ Anduin    ┆ Anduin_Wr ┆ … ┆ []        ┆ []        ┆ []        ┆ [{\"26181 │\n",
       "│           ┆           ┆ Wrynn     ┆ ynn       ┆   ┆           ┆           ┆           ┆ 639\"}]   │\n",
       "│ Q5648928  ┆ 5648928   ┆ Hannah    ┆ Hannah_Pa ┆ … ┆ []        ┆ []        ┆ []        ┆ []       │\n",
       "│           ┆           ┆ Palemoon  ┆ lemoon    ┆   ┆           ┆           ┆           ┆          │\n",
       "└───────────┴───────────┴───────────┴───────────┴───┴───────────┴───────────┴───────────┴──────────┘"
      ]
     },
     "metadata": {},
     "output_type": "display_data"
    }
   ],
   "source": [
    "info_df.filter(info_df['en_description'].str.starts_with('fictional'))"
   ]
  },
  {
   "cell_type": "markdown",
   "metadata": {},
   "source": [
    "# Time Series Clustering"
   ]
  },
  {
   "cell_type": "code",
   "execution_count": null,
   "metadata": {},
   "outputs": [],
   "source": [
    "views_df = pl.read_parquet(PROCESSED_DATA_DIR / 'pageviews_all.parquet')"
   ]
  },
  {
   "cell_type": "code",
   "execution_count": 98,
   "metadata": {},
   "outputs": [
    {
     "data": {
      "text/html": [
       "<div><style>\n",
       ".dataframe > thead > tr,\n",
       ".dataframe > tbody > tr {\n",
       "  text-align: right;\n",
       "  white-space: pre-wrap;\n",
       "}\n",
       "</style>\n",
       "<small>shape: (30, 105)</small><table border=\"1\" class=\"dataframe\"><thead><tr><th>title</th><th>2015-05</th><th>2015-06</th><th>2015-07</th><th>2015-08</th><th>2015-09</th><th>2015-10</th><th>2015-11</th><th>2015-12</th><th>2016-01</th><th>2016-02</th><th>2016-03</th><th>2016-04</th><th>2016-05</th><th>2016-06</th><th>2016-07</th><th>2016-08</th><th>2016-09</th><th>2016-10</th><th>2016-11</th><th>2016-12</th><th>2017-01</th><th>2017-02</th><th>2017-03</th><th>2017-04</th><th>2017-05</th><th>2017-06</th><th>2017-07</th><th>2017-08</th><th>2017-09</th><th>2017-10</th><th>2017-11</th><th>2017-12</th><th>2018-01</th><th>2018-02</th><th>2018-03</th><th>2018-04</th><th>&hellip;</th><th>2020-12</th><th>2021-01</th><th>2021-02</th><th>2021-03</th><th>2021-04</th><th>2021-05</th><th>2021-06</th><th>2021-07</th><th>2021-08</th><th>2021-09</th><th>2021-10</th><th>2021-11</th><th>2021-12</th><th>2022-01</th><th>2022-02</th><th>2022-03</th><th>2022-04</th><th>2022-05</th><th>2022-06</th><th>2022-07</th><th>2022-08</th><th>2022-09</th><th>2022-10</th><th>2022-11</th><th>2022-12</th><th>2023-01</th><th>2023-02</th><th>2023-03</th><th>2023-04</th><th>2023-05</th><th>2023-06</th><th>2023-07</th><th>2023-08</th><th>2023-09</th><th>2023-10</th><th>2023-11</th><th>2023-12</th></tr><tr><td>str</td><td>i64</td><td>i64</td><td>i64</td><td>i64</td><td>i64</td><td>i64</td><td>i64</td><td>i64</td><td>i64</td><td>i64</td><td>i64</td><td>i64</td><td>i64</td><td>i64</td><td>i64</td><td>i64</td><td>i64</td><td>i64</td><td>i64</td><td>i64</td><td>i64</td><td>i64</td><td>i64</td><td>i64</td><td>i64</td><td>i64</td><td>i64</td><td>i64</td><td>i64</td><td>i64</td><td>i64</td><td>i64</td><td>i64</td><td>i64</td><td>i64</td><td>i64</td><td>&hellip;</td><td>i64</td><td>i64</td><td>i64</td><td>i64</td><td>i64</td><td>i64</td><td>i64</td><td>i64</td><td>i64</td><td>i64</td><td>i64</td><td>i64</td><td>i64</td><td>i64</td><td>i64</td><td>i64</td><td>i64</td><td>i64</td><td>i64</td><td>i64</td><td>i64</td><td>i64</td><td>i64</td><td>i64</td><td>i64</td><td>i64</td><td>i64</td><td>i64</td><td>i64</td><td>i64</td><td>i64</td><td>i64</td><td>i64</td><td>i64</td><td>i64</td><td>i64</td><td>i64</td></tr></thead><tbody><tr><td>&quot;Neophyte_II_of…</td><td>null</td><td>null</td><td>null</td><td>null</td><td>null</td><td>null</td><td>null</td><td>null</td><td>null</td><td>null</td><td>null</td><td>null</td><td>null</td><td>null</td><td>null</td><td>null</td><td>null</td><td>null</td><td>null</td><td>null</td><td>null</td><td>null</td><td>null</td><td>null</td><td>null</td><td>null</td><td>null</td><td>null</td><td>null</td><td>null</td><td>null</td><td>null</td><td>null</td><td>null</td><td>null</td><td>null</td><td>&hellip;</td><td>null</td><td>null</td><td>null</td><td>null</td><td>null</td><td>14</td><td>17</td><td>26</td><td>10</td><td>17</td><td>24</td><td>29</td><td>32</td><td>51</td><td>20</td><td>36</td><td>46</td><td>32</td><td>119</td><td>27</td><td>32</td><td>18</td><td>26</td><td>22</td><td>30</td><td>30</td><td>26</td><td>35</td><td>33</td><td>33</td><td>26</td><td>25</td><td>24</td><td>29</td><td>44</td><td>23</td><td>25</td></tr><tr><td>&quot;Olivia_Giovett…</td><td>26</td><td>34</td><td>52</td><td>20</td><td>41</td><td>40</td><td>19</td><td>21</td><td>27</td><td>23</td><td>32</td><td>21</td><td>32</td><td>29</td><td>57</td><td>47</td><td>31</td><td>21</td><td>24</td><td>15</td><td>42</td><td>17</td><td>45</td><td>30</td><td>25</td><td>34</td><td>36</td><td>22</td><td>22</td><td>22</td><td>16</td><td>28</td><td>30</td><td>34</td><td>22</td><td>19</td><td>&hellip;</td><td>39</td><td>30</td><td>32</td><td>34</td><td>37</td><td>29</td><td>14</td><td>26</td><td>24</td><td>36</td><td>39</td><td>35</td><td>20</td><td>63</td><td>33</td><td>39</td><td>19</td><td>19</td><td>30</td><td>20</td><td>14</td><td>21</td><td>35</td><td>52</td><td>25</td><td>25</td><td>33</td><td>20</td><td>18</td><td>22</td><td>31</td><td>26</td><td>16</td><td>20</td><td>59</td><td>41</td><td>19</td></tr><tr><td>&quot;Alexander_Gran…</td><td>9</td><td>48</td><td>24</td><td>23</td><td>32</td><td>24</td><td>12</td><td>20</td><td>19</td><td>7</td><td>8</td><td>14</td><td>18</td><td>27</td><td>11</td><td>23</td><td>12</td><td>19</td><td>15</td><td>17</td><td>11</td><td>13</td><td>26</td><td>14</td><td>16</td><td>18</td><td>13</td><td>20</td><td>13</td><td>26</td><td>16</td><td>19</td><td>32</td><td>14</td><td>18</td><td>12</td><td>&hellip;</td><td>5</td><td>13</td><td>9</td><td>12</td><td>11</td><td>9</td><td>14</td><td>19</td><td>9</td><td>7</td><td>5</td><td>11</td><td>4</td><td>11</td><td>9</td><td>7</td><td>9</td><td>9</td><td>4</td><td>5</td><td>12</td><td>72</td><td>6</td><td>10</td><td>10</td><td>10</td><td>2</td><td>7</td><td>10</td><td>7</td><td>2</td><td>7</td><td>4</td><td>9</td><td>10</td><td>1</td><td>5</td></tr><tr><td>&quot;Bernard_H._Rae…</td><td>17</td><td>16</td><td>21</td><td>20</td><td>19</td><td>18</td><td>10</td><td>9</td><td>17</td><td>5</td><td>8</td><td>10</td><td>5</td><td>28</td><td>19</td><td>11</td><td>17</td><td>14</td><td>13</td><td>19</td><td>16</td><td>13</td><td>24</td><td>18</td><td>10</td><td>10</td><td>14</td><td>13</td><td>14</td><td>19</td><td>5</td><td>15</td><td>26</td><td>12</td><td>13</td><td>10</td><td>&hellip;</td><td>2</td><td>1</td><td>4</td><td>1</td><td>5</td><td>5</td><td>3</td><td>5</td><td>2</td><td>2</td><td>3</td><td>4</td><td>null</td><td>12</td><td>4</td><td>3</td><td>2</td><td>1</td><td>4</td><td>null</td><td>1</td><td>3</td><td>8</td><td>6</td><td>3</td><td>1</td><td>5</td><td>1</td><td>3</td><td>5</td><td>7</td><td>3</td><td>1</td><td>2</td><td>null</td><td>1</td><td>2</td></tr><tr><td>&quot;Leigh_Magar&quot;</td><td>47</td><td>46</td><td>64</td><td>36</td><td>56</td><td>45</td><td>41</td><td>26</td><td>30</td><td>48</td><td>15</td><td>26</td><td>19</td><td>38</td><td>28</td><td>38</td><td>37</td><td>51</td><td>24</td><td>36</td><td>17</td><td>15</td><td>45</td><td>39</td><td>26</td><td>22</td><td>21</td><td>14</td><td>19</td><td>23</td><td>16</td><td>32</td><td>36</td><td>21</td><td>18</td><td>20</td><td>&hellip;</td><td>8</td><td>8</td><td>9</td><td>13</td><td>6</td><td>3</td><td>12</td><td>13</td><td>12</td><td>5</td><td>8</td><td>8</td><td>11</td><td>3</td><td>9</td><td>8</td><td>13</td><td>13</td><td>9</td><td>20</td><td>9</td><td>8</td><td>14</td><td>27</td><td>14</td><td>13</td><td>20</td><td>13</td><td>10</td><td>9</td><td>5</td><td>9</td><td>9</td><td>8</td><td>5</td><td>10</td><td>2</td></tr><tr><td>&quot;Carolyn_Stanfo…</td><td>null</td><td>null</td><td>null</td><td>null</td><td>null</td><td>null</td><td>null</td><td>null</td><td>null</td><td>null</td><td>null</td><td>null</td><td>null</td><td>null</td><td>null</td><td>null</td><td>null</td><td>null</td><td>null</td><td>null</td><td>null</td><td>null</td><td>null</td><td>null</td><td>null</td><td>null</td><td>null</td><td>null</td><td>null</td><td>null</td><td>null</td><td>null</td><td>null</td><td>null</td><td>null</td><td>null</td><td>&hellip;</td><td>221</td><td>294</td><td>359</td><td>286</td><td>650</td><td>202</td><td>170</td><td>169</td><td>83</td><td>97</td><td>107</td><td>112</td><td>70</td><td>78</td><td>88</td><td>64</td><td>54</td><td>78</td><td>84</td><td>74</td><td>131</td><td>74</td><td>86</td><td>180</td><td>105</td><td>75</td><td>76</td><td>73</td><td>105</td><td>56</td><td>50</td><td>89</td><td>86</td><td>59</td><td>58</td><td>50</td><td>42</td></tr><tr><td>&quot;Boncho_Novakov…</td><td>16</td><td>18</td><td>26</td><td>19</td><td>21</td><td>16</td><td>11</td><td>14</td><td>18</td><td>6</td><td>6</td><td>15</td><td>4</td><td>10</td><td>10</td><td>15</td><td>14</td><td>12</td><td>11</td><td>18</td><td>14</td><td>4</td><td>22</td><td>13</td><td>15</td><td>16</td><td>8</td><td>13</td><td>11</td><td>8</td><td>7</td><td>14</td><td>18</td><td>9</td><td>7</td><td>11</td><td>&hellip;</td><td>4</td><td>7</td><td>5</td><td>3</td><td>18</td><td>39</td><td>5</td><td>3</td><td>5</td><td>5</td><td>2</td><td>4</td><td>5</td><td>3</td><td>5</td><td>5</td><td>4</td><td>6</td><td>7</td><td>3</td><td>4</td><td>5</td><td>5</td><td>5</td><td>3</td><td>9</td><td>2</td><td>3</td><td>4</td><td>4</td><td>3</td><td>7</td><td>9</td><td>2</td><td>3</td><td>2</td><td>3</td></tr><tr><td>&quot;Margaret_Hodge…</td><td>5665</td><td>2932</td><td>2420</td><td>2482</td><td>3097</td><td>2693</td><td>1955</td><td>1867</td><td>3365</td><td>2059</td><td>1808</td><td>3435</td><td>4174</td><td>12893</td><td>4331</td><td>4311</td><td>3434</td><td>2573</td><td>2110</td><td>1829</td><td>1813</td><td>1953</td><td>1667</td><td>2523</td><td>2442</td><td>3777</td><td>1705</td><td>1577</td><td>5159</td><td>1650</td><td>3699</td><td>1623</td><td>2057</td><td>1368</td><td>2277</td><td>2749</td><td>&hellip;</td><td>2260</td><td>1819</td><td>2069</td><td>1605</td><td>1630</td><td>1890</td><td>2082</td><td>1391</td><td>1126</td><td>1351</td><td>2217</td><td>1430</td><td>4400</td><td>1788</td><td>2612</td><td>1680</td><td>1471</td><td>1743</td><td>1336</td><td>2097</td><td>1272</td><td>1918</td><td>2196</td><td>1194</td><td>1204</td><td>1536</td><td>2234</td><td>1909</td><td>1311</td><td>1261</td><td>3170</td><td>2097</td><td>1026</td><td>1335</td><td>5767</td><td>2327</td><td>3310</td></tr><tr><td>&quot;Carmen_Belén_R…</td><td>null</td><td>null</td><td>null</td><td>null</td><td>null</td><td>25</td><td>26</td><td>31</td><td>27</td><td>60</td><td>35</td><td>32</td><td>29</td><td>20</td><td>20</td><td>51</td><td>23</td><td>31</td><td>37</td><td>31</td><td>59</td><td>46</td><td>51</td><td>35</td><td>28</td><td>31</td><td>34</td><td>34</td><td>25</td><td>42</td><td>27</td><td>39</td><td>118</td><td>56</td><td>36</td><td>46</td><td>&hellip;</td><td>17</td><td>24</td><td>56</td><td>80</td><td>25</td><td>32</td><td>31</td><td>13</td><td>24</td><td>25</td><td>18</td><td>27</td><td>27</td><td>18</td><td>46</td><td>54</td><td>20</td><td>24</td><td>30</td><td>12</td><td>14</td><td>12</td><td>25</td><td>27</td><td>10</td><td>31</td><td>36</td><td>63</td><td>29</td><td>12</td><td>10</td><td>15</td><td>36</td><td>20</td><td>15</td><td>20</td><td>17</td></tr><tr><td>&quot;M._Satish_Redd…</td><td>null</td><td>null</td><td>null</td><td>null</td><td>null</td><td>null</td><td>null</td><td>null</td><td>null</td><td>null</td><td>null</td><td>null</td><td>null</td><td>null</td><td>null</td><td>null</td><td>null</td><td>null</td><td>null</td><td>null</td><td>null</td><td>null</td><td>null</td><td>null</td><td>null</td><td>null</td><td>null</td><td>null</td><td>null</td><td>32</td><td>49</td><td>104</td><td>102</td><td>84</td><td>138</td><td>277</td><td>&hellip;</td><td>111</td><td>152</td><td>78</td><td>79</td><td>62</td><td>590</td><td>93</td><td>119</td><td>317</td><td>128</td><td>66</td><td>63</td><td>99</td><td>78</td><td>79</td><td>104</td><td>109</td><td>121</td><td>200</td><td>129</td><td>144</td><td>156</td><td>121</td><td>158</td><td>266</td><td>233</td><td>280</td><td>313</td><td>517</td><td>1188</td><td>155</td><td>119</td><td>136</td><td>128</td><td>90</td><td>124</td><td>158</td></tr><tr><td>&quot;Carlos_Carneir…</td><td>null</td><td>null</td><td>null</td><td>null</td><td>null</td><td>null</td><td>null</td><td>null</td><td>null</td><td>null</td><td>null</td><td>null</td><td>null</td><td>null</td><td>null</td><td>null</td><td>null</td><td>null</td><td>null</td><td>null</td><td>null</td><td>null</td><td>null</td><td>null</td><td>null</td><td>null</td><td>null</td><td>null</td><td>null</td><td>null</td><td>null</td><td>null</td><td>null</td><td>null</td><td>null</td><td>null</td><td>&hellip;</td><td>5</td><td>4</td><td>7</td><td>3</td><td>5</td><td>7</td><td>4</td><td>6</td><td>5</td><td>3</td><td>10</td><td>17</td><td>5</td><td>5</td><td>5</td><td>4</td><td>7</td><td>3</td><td>10</td><td>1</td><td>6</td><td>10</td><td>10</td><td>10</td><td>4</td><td>2</td><td>1</td><td>5</td><td>6</td><td>7</td><td>3</td><td>3</td><td>3</td><td>2</td><td>3</td><td>5</td><td>1</td></tr><tr><td>&quot;Niko_Springer&quot;</td><td>null</td><td>null</td><td>null</td><td>null</td><td>null</td><td>null</td><td>null</td><td>null</td><td>null</td><td>null</td><td>null</td><td>null</td><td>null</td><td>null</td><td>null</td><td>null</td><td>null</td><td>null</td><td>null</td><td>null</td><td>null</td><td>null</td><td>null</td><td>null</td><td>null</td><td>null</td><td>null</td><td>null</td><td>null</td><td>null</td><td>null</td><td>null</td><td>null</td><td>null</td><td>null</td><td>null</td><td>&hellip;</td><td>null</td><td>null</td><td>null</td><td>null</td><td>null</td><td>null</td><td>null</td><td>null</td><td>null</td><td>null</td><td>null</td><td>null</td><td>null</td><td>null</td><td>null</td><td>32</td><td>19</td><td>9</td><td>42</td><td>20</td><td>14</td><td>24</td><td>35</td><td>106</td><td>71</td><td>103</td><td>160</td><td>66</td><td>137</td><td>14</td><td>8</td><td>9</td><td>13</td><td>4</td><td>21</td><td>73</td><td>23</td></tr><tr><td>&quot;Arnd_Goldschmi…</td><td>30</td><td>33</td><td>24</td><td>33</td><td>41</td><td>20</td><td>8</td><td>22</td><td>14</td><td>9</td><td>22</td><td>13</td><td>19</td><td>24</td><td>11</td><td>16</td><td>25</td><td>22</td><td>13</td><td>23</td><td>16</td><td>9</td><td>31</td><td>22</td><td>17</td><td>19</td><td>15</td><td>22</td><td>24</td><td>12</td><td>11</td><td>17</td><td>25</td><td>12</td><td>12</td><td>15</td><td>&hellip;</td><td>6</td><td>8</td><td>6</td><td>5</td><td>4</td><td>6</td><td>3</td><td>4</td><td>12</td><td>5</td><td>3</td><td>3</td><td>6</td><td>2</td><td>null</td><td>3</td><td>6</td><td>16</td><td>4</td><td>6</td><td>2</td><td>3</td><td>6</td><td>2</td><td>2</td><td>1</td><td>5</td><td>1</td><td>5</td><td>7</td><td>3</td><td>2</td><td>5</td><td>1</td><td>1</td><td>3</td><td>3</td></tr><tr><td>&quot;Douglas_Durst&quot;</td><td>5586</td><td>4709</td><td>3786</td><td>3935</td><td>3832</td><td>3260</td><td>3946</td><td>6639</td><td>6854</td><td>4619</td><td>2613</td><td>3380</td><td>2588</td><td>1947</td><td>2138</td><td>3486</td><td>2927</td><td>2395</td><td>2651</td><td>4052</td><td>2498</td><td>3319</td><td>2000</td><td>1819</td><td>2278</td><td>1822</td><td>2251</td><td>1965</td><td>2438</td><td>2011</td><td>2639</td><td>1562</td><td>1925</td><td>1780</td><td>2212</td><td>2293</td><td>&hellip;</td><td>1435</td><td>1451</td><td>1496</td><td>1836</td><td>4293</td><td>2973</td><td>1998</td><td>2027</td><td>4772</td><td>11096</td><td>12383</td><td>2670</td><td>1549</td><td>13969</td><td>1447</td><td>2341</td><td>1557</td><td>1305</td><td>1342</td><td>1260</td><td>1552</td><td>1112</td><td>1093</td><td>1036</td><td>1060</td><td>1150</td><td>1153</td><td>1489</td><td>1039</td><td>1152</td><td>1224</td><td>1133</td><td>1177</td><td>881</td><td>985</td><td>898</td><td>1032</td></tr><tr><td>&quot;Tássio&quot;</td><td>null</td><td>null</td><td>null</td><td>null</td><td>null</td><td>null</td><td>null</td><td>null</td><td>null</td><td>null</td><td>null</td><td>null</td><td>null</td><td>null</td><td>null</td><td>null</td><td>null</td><td>null</td><td>null</td><td>null</td><td>null</td><td>null</td><td>null</td><td>null</td><td>null</td><td>null</td><td>null</td><td>null</td><td>null</td><td>null</td><td>null</td><td>null</td><td>null</td><td>null</td><td>null</td><td>null</td><td>&hellip;</td><td>null</td><td>null</td><td>null</td><td>null</td><td>null</td><td>null</td><td>null</td><td>null</td><td>null</td><td>null</td><td>null</td><td>6</td><td>9</td><td>14</td><td>10</td><td>10</td><td>11</td><td>8</td><td>15</td><td>23</td><td>25</td><td>13</td><td>21</td><td>14</td><td>16</td><td>14</td><td>10</td><td>11</td><td>17</td><td>12</td><td>8</td><td>13</td><td>6</td><td>19</td><td>8</td><td>10</td><td>16</td></tr><tr><td>&quot;Bryant_Bowles&quot;</td><td>123</td><td>151</td><td>122</td><td>103</td><td>161</td><td>125</td><td>87</td><td>102</td><td>96</td><td>126</td><td>131</td><td>225</td><td>110</td><td>71</td><td>111</td><td>107</td><td>104</td><td>88</td><td>107</td><td>94</td><td>109</td><td>93</td><td>123</td><td>246</td><td>98</td><td>85</td><td>77</td><td>138</td><td>60</td><td>75</td><td>93</td><td>87</td><td>106</td><td>90</td><td>79</td><td>208</td><td>&hellip;</td><td>50</td><td>78</td><td>81</td><td>71</td><td>123</td><td>59</td><td>51</td><td>55</td><td>64</td><td>53</td><td>58</td><td>48</td><td>84</td><td>32</td><td>49</td><td>46</td><td>92</td><td>65</td><td>41</td><td>38</td><td>40</td><td>32</td><td>53</td><td>40</td><td>47</td><td>49</td><td>43</td><td>41</td><td>114</td><td>48</td><td>53</td><td>16</td><td>293</td><td>101</td><td>60</td><td>55</td><td>54</td></tr><tr><td>&quot;Josef_Hermann_…</td><td>51</td><td>48</td><td>32</td><td>40</td><td>37</td><td>33</td><td>28</td><td>25</td><td>25</td><td>18</td><td>12</td><td>23</td><td>24</td><td>25</td><td>22</td><td>31</td><td>21</td><td>30</td><td>32</td><td>31</td><td>37</td><td>16</td><td>36</td><td>32</td><td>25</td><td>27</td><td>21</td><td>12</td><td>13</td><td>20</td><td>15</td><td>16</td><td>24</td><td>24</td><td>33</td><td>17</td><td>&hellip;</td><td>22</td><td>36</td><td>46</td><td>29</td><td>38</td><td>30</td><td>32</td><td>24</td><td>18</td><td>24</td><td>23</td><td>26</td><td>28</td><td>39</td><td>30</td><td>47</td><td>23</td><td>33</td><td>25</td><td>32</td><td>41</td><td>53</td><td>30</td><td>22</td><td>15</td><td>27</td><td>18</td><td>20</td><td>23</td><td>20</td><td>24</td><td>8</td><td>23</td><td>24</td><td>19</td><td>13</td><td>19</td></tr><tr><td>&quot;Mark_Fox_(bask…</td><td>506</td><td>311</td><td>325</td><td>306</td><td>320</td><td>470</td><td>633</td><td>868</td><td>1026</td><td>889</td><td>1936</td><td>619</td><td>279</td><td>220</td><td>242</td><td>242</td><td>259</td><td>327</td><td>875</td><td>699</td><td>1274</td><td>2452</td><td>2669</td><td>610</td><td>288</td><td>256</td><td>189</td><td>221</td><td>246</td><td>446</td><td>659</td><td>760</td><td>1630</td><td>2895</td><td>7533</td><td>771</td><td>&hellip;</td><td>758</td><td>864</td><td>878</td><td>1932</td><td>1100</td><td>334</td><td>240</td><td>184</td><td>221</td><td>251</td><td>376</td><td>911</td><td>618</td><td>1029</td><td>1140</td><td>2474</td><td>477</td><td>286</td><td>282</td><td>241</td><td>294</td><td>315</td><td>367</td><td>1485</td><td>1774</td><td>1056</td><td>1594</td><td>5186</td><td>624</td><td>330</td><td>252</td><td>239</td><td>253</td><td>266</td><td>253</td><td>586</td><td>398</td></tr><tr><td>&quot;Nina_Kemppel&quot;</td><td>23</td><td>34</td><td>35</td><td>28</td><td>62</td><td>26</td><td>15</td><td>24</td><td>28</td><td>19</td><td>21</td><td>28</td><td>15</td><td>19</td><td>28</td><td>38</td><td>25</td><td>28</td><td>16</td><td>30</td><td>29</td><td>17</td><td>28</td><td>25</td><td>17</td><td>28</td><td>17</td><td>21</td><td>20</td><td>32</td><td>22</td><td>28</td><td>50</td><td>95</td><td>35</td><td>34</td><td>&hellip;</td><td>16</td><td>22</td><td>10</td><td>15</td><td>11</td><td>7</td><td>16</td><td>27</td><td>15</td><td>9</td><td>11</td><td>17</td><td>16</td><td>30</td><td>34</td><td>10</td><td>18</td><td>4</td><td>11</td><td>17</td><td>13</td><td>15</td><td>12</td><td>17</td><td>11</td><td>13</td><td>10</td><td>25</td><td>10</td><td>9</td><td>8</td><td>15</td><td>15</td><td>14</td><td>13</td><td>9</td><td>10</td></tr><tr><td>&quot;Mirza_Abu_Tale…</td><td>null</td><td>null</td><td>null</td><td>null</td><td>null</td><td>null</td><td>null</td><td>null</td><td>null</td><td>null</td><td>null</td><td>null</td><td>null</td><td>null</td><td>null</td><td>null</td><td>null</td><td>209</td><td>131</td><td>57</td><td>127</td><td>132</td><td>129</td><td>106</td><td>106</td><td>104</td><td>68</td><td>80</td><td>76</td><td>80</td><td>105</td><td>125</td><td>134</td><td>131</td><td>112</td><td>93</td><td>&hellip;</td><td>104</td><td>130</td><td>147</td><td>181</td><td>142</td><td>124</td><td>115</td><td>99</td><td>97</td><td>80</td><td>145</td><td>164</td><td>79</td><td>103</td><td>130</td><td>139</td><td>164</td><td>130</td><td>61</td><td>79</td><td>85</td><td>96</td><td>94</td><td>83</td><td>66</td><td>115</td><td>108</td><td>129</td><td>102</td><td>92</td><td>84</td><td>105</td><td>121</td><td>106</td><td>138</td><td>114</td><td>115</td></tr><tr><td>&quot;George_Rea&quot;</td><td>49</td><td>57</td><td>46</td><td>121</td><td>56</td><td>36</td><td>24</td><td>28</td><td>27</td><td>17</td><td>18</td><td>22</td><td>14</td><td>13</td><td>24</td><td>21</td><td>30</td><td>30</td><td>20</td><td>34</td><td>25</td><td>15</td><td>29</td><td>36</td><td>49</td><td>38</td><td>36</td><td>40</td><td>47</td><td>51</td><td>57</td><td>55</td><td>92</td><td>30</td><td>38</td><td>25</td><td>&hellip;</td><td>20</td><td>16</td><td>19</td><td>25</td><td>15</td><td>33</td><td>16</td><td>21</td><td>30</td><td>14</td><td>18</td><td>27</td><td>22</td><td>20</td><td>18</td><td>19</td><td>20</td><td>32</td><td>25</td><td>19</td><td>17</td><td>23</td><td>28</td><td>21</td><td>9</td><td>19</td><td>9</td><td>15</td><td>26</td><td>26</td><td>18</td><td>29</td><td>11</td><td>11</td><td>16</td><td>15</td><td>11</td></tr><tr><td>&quot;Helena_Carr&quot;</td><td>232</td><td>207</td><td>209</td><td>306</td><td>387</td><td>226</td><td>202</td><td>201</td><td>174</td><td>320</td><td>183</td><td>176</td><td>193</td><td>176</td><td>254</td><td>327</td><td>262</td><td>189</td><td>242</td><td>164</td><td>218</td><td>214</td><td>201</td><td>198</td><td>169</td><td>204</td><td>179</td><td>178</td><td>163</td><td>206</td><td>207</td><td>133</td><td>163</td><td>190</td><td>291</td><td>209</td><td>&hellip;</td><td>148</td><td>107</td><td>136</td><td>180</td><td>116</td><td>152</td><td>155</td><td>178</td><td>188</td><td>239</td><td>404</td><td>192</td><td>158</td><td>150</td><td>298</td><td>149</td><td>108</td><td>265</td><td>160</td><td>128</td><td>103</td><td>89</td><td>112</td><td>87</td><td>71</td><td>135</td><td>100</td><td>246</td><td>113</td><td>112</td><td>109</td><td>91</td><td>115</td><td>131</td><td>14895</td><td>7987</td><td>148</td></tr><tr><td>&quot;Ólöf_Pálsdótti…</td><td>null</td><td>null</td><td>null</td><td>null</td><td>null</td><td>null</td><td>null</td><td>null</td><td>null</td><td>null</td><td>null</td><td>null</td><td>null</td><td>null</td><td>null</td><td>null</td><td>null</td><td>null</td><td>null</td><td>null</td><td>null</td><td>null</td><td>null</td><td>null</td><td>null</td><td>null</td><td>null</td><td>null</td><td>null</td><td>null</td><td>null</td><td>null</td><td>null</td><td>null</td><td>null</td><td>null</td><td>&hellip;</td><td>28</td><td>21</td><td>17</td><td>18</td><td>17</td><td>12</td><td>13</td><td>7</td><td>7</td><td>20</td><td>25</td><td>10</td><td>8</td><td>23</td><td>10</td><td>18</td><td>12</td><td>18</td><td>9</td><td>15</td><td>12</td><td>22</td><td>20</td><td>18</td><td>12</td><td>24</td><td>12</td><td>11</td><td>31</td><td>22</td><td>12</td><td>12</td><td>9</td><td>16</td><td>14</td><td>15</td><td>13</td></tr><tr><td>&quot;Mosese_Tuipulo…</td><td>null</td><td>null</td><td>null</td><td>null</td><td>null</td><td>null</td><td>null</td><td>null</td><td>null</td><td>null</td><td>null</td><td>null</td><td>null</td><td>null</td><td>null</td><td>null</td><td>null</td><td>null</td><td>null</td><td>null</td><td>null</td><td>null</td><td>null</td><td>null</td><td>null</td><td>null</td><td>null</td><td>null</td><td>null</td><td>null</td><td>null</td><td>null</td><td>null</td><td>null</td><td>null</td><td>null</td><td>&hellip;</td><td>null</td><td>null</td><td>null</td><td>null</td><td>null</td><td>null</td><td>null</td><td>null</td><td>null</td><td>null</td><td>null</td><td>null</td><td>null</td><td>null</td><td>null</td><td>null</td><td>null</td><td>null</td><td>null</td><td>null</td><td>null</td><td>null</td><td>null</td><td>null</td><td>null</td><td>null</td><td>null</td><td>125</td><td>99</td><td>126</td><td>92</td><td>72</td><td>170</td><td>350</td><td>121</td><td>74</td><td>53</td></tr><tr><td>&quot;Ali-Akbar_Fayy…</td><td>30</td><td>52</td><td>32</td><td>27</td><td>36</td><td>32</td><td>27</td><td>24</td><td>26</td><td>22</td><td>16</td><td>12</td><td>23</td><td>23</td><td>26</td><td>15</td><td>23</td><td>8</td><td>10</td><td>18</td><td>16</td><td>19</td><td>21</td><td>21</td><td>9</td><td>12</td><td>18</td><td>9</td><td>15</td><td>17</td><td>13</td><td>23</td><td>25</td><td>8</td><td>10</td><td>12</td><td>&hellip;</td><td>4</td><td>4</td><td>5</td><td>19</td><td>4</td><td>5</td><td>11</td><td>4</td><td>7</td><td>5</td><td>13</td><td>12</td><td>3</td><td>6</td><td>7</td><td>7</td><td>4</td><td>19</td><td>28</td><td>13</td><td>3</td><td>72</td><td>9</td><td>7</td><td>5</td><td>8</td><td>1</td><td>6</td><td>6</td><td>5</td><td>9</td><td>8</td><td>5</td><td>2</td><td>5</td><td>2</td><td>9</td></tr><tr><td>&quot;Caleb_Hopkins_…</td><td>43</td><td>27</td><td>47</td><td>81</td><td>31</td><td>38</td><td>28</td><td>26</td><td>43</td><td>31</td><td>77</td><td>31</td><td>20</td><td>26</td><td>25</td><td>38</td><td>34</td><td>36</td><td>31</td><td>62</td><td>59</td><td>23</td><td>42</td><td>38</td><td>45</td><td>23</td><td>20</td><td>27</td><td>25</td><td>38</td><td>23</td><td>53</td><td>45</td><td>26</td><td>19</td><td>42</td><td>&hellip;</td><td>17</td><td>18</td><td>24</td><td>29</td><td>16</td><td>18</td><td>18</td><td>19</td><td>16</td><td>17</td><td>14</td><td>28</td><td>41</td><td>16</td><td>17</td><td>18</td><td>22</td><td>13</td><td>19</td><td>17</td><td>27</td><td>21</td><td>31</td><td>16</td><td>14</td><td>20</td><td>20</td><td>17</td><td>14</td><td>18</td><td>27</td><td>12</td><td>20</td><td>21</td><td>23</td><td>11</td><td>8</td></tr><tr><td>&quot;Alan_van_der_M…</td><td>195</td><td>232</td><td>238</td><td>233</td><td>225</td><td>255</td><td>205</td><td>151</td><td>173</td><td>124</td><td>156</td><td>174</td><td>180</td><td>185</td><td>192</td><td>192</td><td>194</td><td>153</td><td>179</td><td>161</td><td>209</td><td>234</td><td>189</td><td>159</td><td>172</td><td>146</td><td>171</td><td>117</td><td>399</td><td>228</td><td>353</td><td>130</td><td>153</td><td>122</td><td>241</td><td>186</td><td>&hellip;</td><td>5049</td><td>991</td><td>566</td><td>2098</td><td>1315</td><td>982</td><td>719</td><td>1142</td><td>3452</td><td>1118</td><td>2061</td><td>795</td><td>1294</td><td>1712</td><td>572</td><td>925</td><td>670</td><td>555</td><td>633</td><td>841</td><td>534</td><td>373</td><td>560</td><td>314</td><td>334</td><td>264</td><td>338</td><td>607</td><td>369</td><td>316</td><td>373</td><td>360</td><td>288</td><td>351</td><td>352</td><td>350</td><td>243</td></tr><tr><td>&quot;John_Cassidy_(…</td><td>85</td><td>80</td><td>115</td><td>89</td><td>83</td><td>83</td><td>81</td><td>77</td><td>60</td><td>76</td><td>64</td><td>42</td><td>72</td><td>41</td><td>51</td><td>92</td><td>63</td><td>65</td><td>45</td><td>61</td><td>56</td><td>56</td><td>75</td><td>56</td><td>51</td><td>48</td><td>54</td><td>48</td><td>39</td><td>46</td><td>47</td><td>33</td><td>64</td><td>53</td><td>42</td><td>59</td><td>&hellip;</td><td>20</td><td>42</td><td>25</td><td>31</td><td>45</td><td>22</td><td>29</td><td>20</td><td>32</td><td>38</td><td>24</td><td>19</td><td>26</td><td>39</td><td>25</td><td>34</td><td>35</td><td>33</td><td>40</td><td>41</td><td>39</td><td>36</td><td>47</td><td>31</td><td>27</td><td>42</td><td>34</td><td>29</td><td>14</td><td>26</td><td>24</td><td>30</td><td>45</td><td>49</td><td>32</td><td>26</td><td>26</td></tr><tr><td>&quot;Gaston_Amson&quot;</td><td>38</td><td>29</td><td>43</td><td>32</td><td>37</td><td>43</td><td>24</td><td>45</td><td>27</td><td>22</td><td>18</td><td>22</td><td>28</td><td>27</td><td>27</td><td>41</td><td>36</td><td>47</td><td>43</td><td>51</td><td>53</td><td>35</td><td>75</td><td>57</td><td>50</td><td>27</td><td>17</td><td>15</td><td>16</td><td>17</td><td>18</td><td>40</td><td>37</td><td>24</td><td>24</td><td>31</td><td>&hellip;</td><td>9</td><td>6</td><td>9</td><td>12</td><td>12</td><td>8</td><td>9</td><td>15</td><td>13</td><td>9</td><td>8</td><td>11</td><td>11</td><td>21</td><td>10</td><td>16</td><td>11</td><td>8</td><td>7</td><td>11</td><td>10</td><td>15</td><td>12</td><td>9</td><td>9</td><td>11</td><td>11</td><td>3</td><td>11</td><td>4</td><td>18</td><td>13</td><td>14</td><td>14</td><td>6</td><td>9</td><td>11</td></tr><tr><td>&quot;Mike_Prax&quot;</td><td>null</td><td>null</td><td>null</td><td>null</td><td>null</td><td>null</td><td>null</td><td>null</td><td>null</td><td>null</td><td>null</td><td>null</td><td>null</td><td>null</td><td>null</td><td>null</td><td>null</td><td>null</td><td>null</td><td>null</td><td>null</td><td>null</td><td>null</td><td>null</td><td>null</td><td>null</td><td>null</td><td>null</td><td>null</td><td>null</td><td>null</td><td>null</td><td>null</td><td>null</td><td>null</td><td>null</td><td>&hellip;</td><td>64</td><td>92</td><td>57</td><td>67</td><td>39</td><td>34</td><td>39</td><td>34</td><td>23</td><td>20</td><td>32</td><td>37</td><td>24</td><td>29</td><td>36</td><td>29</td><td>64</td><td>35</td><td>38</td><td>22</td><td>49</td><td>48</td><td>23</td><td>45</td><td>35</td><td>65</td><td>57</td><td>41</td><td>38</td><td>32</td><td>37</td><td>30</td><td>34</td><td>24</td><td>47</td><td>27</td><td>30</td></tr></tbody></table></div>"
      ],
      "text/plain": [
       "shape: (30, 105)\n",
       "┌────────────────────────┬─────────┬─────────┬─────────┬───┬─────────┬─────────┬─────────┬─────────┐\n",
       "│ title                  ┆ 2015-05 ┆ 2015-06 ┆ 2015-07 ┆ … ┆ 2023-09 ┆ 2023-10 ┆ 2023-11 ┆ 2023-12 │\n",
       "│ ---                    ┆ ---     ┆ ---     ┆ ---     ┆   ┆ ---     ┆ ---     ┆ ---     ┆ ---     │\n",
       "│ str                    ┆ i64     ┆ i64     ┆ i64     ┆   ┆ i64     ┆ i64     ┆ i64     ┆ i64     │\n",
       "╞════════════════════════╪═════════╪═════════╪═════════╪═══╪═════════╪═════════╪═════════╪═════════╡\n",
       "│ Neophyte_II_of_Ungro-W ┆ null    ┆ null    ┆ null    ┆ … ┆ 29      ┆ 44      ┆ 23      ┆ 25      │\n",
       "│ allachia               ┆         ┆         ┆         ┆   ┆         ┆         ┆         ┆         │\n",
       "│ Olivia_Giovetti        ┆ 26      ┆ 34      ┆ 52      ┆ … ┆ 20      ┆ 59      ┆ 41      ┆ 19      │\n",
       "│ Alexander_Grant_McLean ┆ 9       ┆ 48      ┆ 24      ┆ … ┆ 9       ┆ 10      ┆ 1       ┆ 5       │\n",
       "│ Bernard_H._Raether     ┆ 17      ┆ 16      ┆ 21      ┆ … ┆ 2       ┆ null    ┆ 1       ┆ 2       │\n",
       "│ Leigh_Magar            ┆ 47      ┆ 46      ┆ 64      ┆ … ┆ 8       ┆ 5       ┆ 10      ┆ 2       │\n",
       "│ Carolyn_Stanford_Taylo ┆ null    ┆ null    ┆ null    ┆ … ┆ 59      ┆ 58      ┆ 50      ┆ 42      │\n",
       "│ r                      ┆         ┆         ┆         ┆   ┆         ┆         ┆         ┆         │\n",
       "│ Boncho_Novakov         ┆ 16      ┆ 18      ┆ 26      ┆ … ┆ 2       ┆ 3       ┆ 2       ┆ 3       │\n",
       "│ Margaret_Hodge         ┆ 5665    ┆ 2932    ┆ 2420    ┆ … ┆ 1335    ┆ 5767    ┆ 2327    ┆ 3310    │\n",
       "│ Carmen_Belén_Richardso ┆ null    ┆ null    ┆ null    ┆ … ┆ 20      ┆ 15      ┆ 20      ┆ 17      │\n",
       "│ n                      ┆         ┆         ┆         ┆   ┆         ┆         ┆         ┆         │\n",
       "│ M._Satish_Reddy        ┆ null    ┆ null    ┆ null    ┆ … ┆ 128     ┆ 90      ┆ 124     ┆ 158     │\n",
       "│ Carlos_Carneiro_(cycli ┆ null    ┆ null    ┆ null    ┆ … ┆ 2       ┆ 3       ┆ 5       ┆ 1       │\n",
       "│ st)                    ┆         ┆         ┆         ┆   ┆         ┆         ┆         ┆         │\n",
       "│ Niko_Springer          ┆ null    ┆ null    ┆ null    ┆ … ┆ 4       ┆ 21      ┆ 73      ┆ 23      │\n",
       "│ Arnd_Goldschmidt       ┆ 30      ┆ 33      ┆ 24      ┆ … ┆ 1       ┆ 1       ┆ 3       ┆ 3       │\n",
       "│ Douglas_Durst          ┆ 5586    ┆ 4709    ┆ 3786    ┆ … ┆ 881     ┆ 985     ┆ 898     ┆ 1032    │\n",
       "│ Tássio                 ┆ null    ┆ null    ┆ null    ┆ … ┆ 19      ┆ 8       ┆ 10      ┆ 16      │\n",
       "│ Bryant_Bowles          ┆ 123     ┆ 151     ┆ 122     ┆ … ┆ 101     ┆ 60      ┆ 55      ┆ 54      │\n",
       "│ Josef_Hermann_Tautenha ┆ 51      ┆ 48      ┆ 32      ┆ … ┆ 24      ┆ 19      ┆ 13      ┆ 19      │\n",
       "│ yn                     ┆         ┆         ┆         ┆   ┆         ┆         ┆         ┆         │\n",
       "│ Mark_Fox_(basketball)  ┆ 506     ┆ 311     ┆ 325     ┆ … ┆ 266     ┆ 253     ┆ 586     ┆ 398     │\n",
       "│ Nina_Kemppel           ┆ 23      ┆ 34      ┆ 35      ┆ … ┆ 14      ┆ 13      ┆ 9       ┆ 10      │\n",
       "│ Mirza_Abu_Taleb_Khan   ┆ null    ┆ null    ┆ null    ┆ … ┆ 106     ┆ 138     ┆ 114     ┆ 115     │\n",
       "│ George_Rea             ┆ 49      ┆ 57      ┆ 46      ┆ … ┆ 11      ┆ 16      ┆ 15      ┆ 11      │\n",
       "│ Helena_Carr            ┆ 232     ┆ 207     ┆ 209     ┆ … ┆ 131     ┆ 14895   ┆ 7987    ┆ 148     │\n",
       "│ Ólöf_Pálsdóttir        ┆ null    ┆ null    ┆ null    ┆ … ┆ 16      ┆ 14      ┆ 15      ┆ 13      │\n",
       "│ Mosese_Tuipulotu       ┆ null    ┆ null    ┆ null    ┆ … ┆ 350     ┆ 121     ┆ 74      ┆ 53      │\n",
       "│ Ali-Akbar_Fayyaz       ┆ 30      ┆ 52      ┆ 32      ┆ … ┆ 2       ┆ 5       ┆ 2       ┆ 9       │\n",
       "│ Caleb_Hopkins_(colonel ┆ 43      ┆ 27      ┆ 47      ┆ … ┆ 21      ┆ 23      ┆ 11      ┆ 8       │\n",
       "│ )                      ┆         ┆         ┆         ┆   ┆         ┆         ┆         ┆         │\n",
       "│ Alan_van_der_Merwe     ┆ 195     ┆ 232     ┆ 238     ┆ … ┆ 351     ┆ 352     ┆ 350     ┆ 243     │\n",
       "│ John_Cassidy_(magician ┆ 85      ┆ 80      ┆ 115     ┆ … ┆ 49      ┆ 32      ┆ 26      ┆ 26      │\n",
       "│ )                      ┆         ┆         ┆         ┆   ┆         ┆         ┆         ┆         │\n",
       "│ Gaston_Amson           ┆ 38      ┆ 29      ┆ 43      ┆ … ┆ 14      ┆ 6       ┆ 9       ┆ 11      │\n",
       "│ Mike_Prax              ┆ null    ┆ null    ┆ null    ┆ … ┆ 24      ┆ 47      ┆ 27      ┆ 30      │\n",
       "└────────────────────────┴─────────┴─────────┴─────────┴───┴─────────┴─────────┴─────────┴─────────┘"
      ]
     },
     "execution_count": 98,
     "metadata": {},
     "output_type": "execute_result"
    }
   ],
   "source": [
    "views_df[:30]"
   ]
  },
  {
   "cell_type": "code",
   "execution_count": 118,
   "metadata": {},
   "outputs": [
    {
     "data": {
      "text/plain": [
       "array([[ 0,  0,  0, ..., 44, 23, 25],\n",
       "       [26, 34, 52, ..., 59, 41, 19],\n",
       "       [ 9, 48, 24, ..., 10,  1,  5],\n",
       "       ...,\n",
       "       [40, 29, 34, ...,  3,  1,  2],\n",
       "       [23, 52, 38, ...,  8,  7,  6],\n",
       "       [ 0,  0,  0, ..., 16,  8,  7]])"
      ]
     },
     "execution_count": 118,
     "metadata": {},
     "output_type": "execute_result"
    }
   ],
   "source": [
    "X_train = views_df.select([col for col in views_df.columns if col != 'title']).fill_null(0).to_numpy()\n",
    "X_train"
   ]
  },
  {
   "cell_type": "code",
   "execution_count": 119,
   "metadata": {},
   "outputs": [
    {
     "data": {
      "text/plain": [
       "(1976658, 104)"
      ]
     },
     "execution_count": 119,
     "metadata": {},
     "output_type": "execute_result"
    }
   ],
   "source": [
    "X_train.shape"
   ]
  },
  {
   "cell_type": "code",
   "execution_count": 120,
   "metadata": {},
   "outputs": [
    {
     "data": {
      "text/html": [
       "<pre style=\"white-space:pre;overflow-x:auto;line-height:normal;font-family:Menlo,'DejaVu Sans Mono',consolas,'Courier New',monospace\">Euclidean k-means\n",
       "</pre>\n"
      ],
      "text/plain": [
       "Euclidean k-means\n"
      ]
     },
     "metadata": {},
     "output_type": "display_data"
    },
    {
     "name": "stdout",
     "output_type": "stream",
     "text": [
      "143.854 --> 76.592 --> "
     ]
    },
    {
     "ename": "KeyboardInterrupt",
     "evalue": "",
     "output_type": "error",
     "traceback": [
      "\u001b[0;31m---------------------------------------------------------------------------\u001b[0m",
      "\u001b[0;31mKeyboardInterrupt\u001b[0m                         Traceback (most recent call last)",
      "Cell \u001b[0;32mIn[120], line 20\u001b[0m\n\u001b[1;32m     17\u001b[0m \u001b[38;5;28mprint\u001b[39m(\u001b[38;5;124m\"\u001b[39m\u001b[38;5;124mEuclidean k-means\u001b[39m\u001b[38;5;124m\"\u001b[39m)\n\u001b[1;32m     18\u001b[0m km \u001b[38;5;241m=\u001b[39m TimeSeriesKMeans(n_clusters\u001b[38;5;241m=\u001b[39m\u001b[38;5;241m3\u001b[39m, verbose\u001b[38;5;241m=\u001b[39m\u001b[38;5;28;01mTrue\u001b[39;00m, random_state\u001b[38;5;241m=\u001b[39mseed,\n\u001b[1;32m     19\u001b[0m n_jobs\u001b[38;5;241m=\u001b[39m\u001b[38;5;241m-\u001b[39m\u001b[38;5;241m1\u001b[39m)\n\u001b[0;32m---> 20\u001b[0m y_pred \u001b[38;5;241m=\u001b[39m \u001b[43mkm\u001b[49m\u001b[38;5;241;43m.\u001b[39;49m\u001b[43mfit_predict\u001b[49m\u001b[43m(\u001b[49m\u001b[43mX_train\u001b[49m\u001b[43m)\u001b[49m\n\u001b[1;32m     22\u001b[0m plt\u001b[38;5;241m.\u001b[39mfigure()\n\u001b[1;32m     23\u001b[0m \u001b[38;5;28;01mfor\u001b[39;00m yi \u001b[38;5;129;01min\u001b[39;00m \u001b[38;5;28mrange\u001b[39m(\u001b[38;5;241m3\u001b[39m):\n",
      "File \u001b[0;32m~/.conda/envs/big_data_project/lib/python3.12/site-packages/tslearn/clustering/kmeans.py:854\u001b[0m, in \u001b[0;36mTimeSeriesKMeans.fit_predict\u001b[0;34m(self, X, y)\u001b[0m\n\u001b[1;32m    834\u001b[0m \u001b[38;5;250m\u001b[39m\u001b[38;5;124;03m\"\"\"Fit k-means clustering using X and then predict the closest cluster\u001b[39;00m\n\u001b[1;32m    835\u001b[0m \u001b[38;5;124;03meach time series in X belongs to.\u001b[39;00m\n\u001b[1;32m    836\u001b[0m \n\u001b[0;32m   (...)\u001b[0m\n\u001b[1;32m    851\u001b[0m \u001b[38;5;124;03m    Index of the cluster each sample belongs to.\u001b[39;00m\n\u001b[1;32m    852\u001b[0m \u001b[38;5;124;03m\"\"\"\u001b[39;00m\n\u001b[1;32m    853\u001b[0m X \u001b[38;5;241m=\u001b[39m check_array(X, allow_nd\u001b[38;5;241m=\u001b[39m\u001b[38;5;28;01mTrue\u001b[39;00m, force_all_finite\u001b[38;5;241m=\u001b[39m\u001b[38;5;124m\"\u001b[39m\u001b[38;5;124mallow-nan\u001b[39m\u001b[38;5;124m\"\u001b[39m)\n\u001b[0;32m--> 854\u001b[0m \u001b[38;5;28;01mreturn\u001b[39;00m \u001b[38;5;28;43mself\u001b[39;49m\u001b[38;5;241;43m.\u001b[39;49m\u001b[43mfit\u001b[49m\u001b[43m(\u001b[49m\u001b[43mX\u001b[49m\u001b[43m,\u001b[49m\u001b[43m \u001b[49m\u001b[43my\u001b[49m\u001b[43m)\u001b[49m\u001b[38;5;241m.\u001b[39mlabels_\n",
      "File \u001b[0;32m~/.conda/envs/big_data_project/lib/python3.12/site-packages/tslearn/clustering/kmeans.py:821\u001b[0m, in \u001b[0;36mTimeSeriesKMeans.fit\u001b[0;34m(self, X, y)\u001b[0m\n\u001b[1;32m    819\u001b[0m     \u001b[38;5;28mprint\u001b[39m(\u001b[38;5;124m\"\u001b[39m\u001b[38;5;124mInit \u001b[39m\u001b[38;5;132;01m%d\u001b[39;00m\u001b[38;5;124m\"\u001b[39m \u001b[38;5;241m%\u001b[39m (n_successful \u001b[38;5;241m+\u001b[39m \u001b[38;5;241m1\u001b[39m))\n\u001b[1;32m    820\u001b[0m n_attempts \u001b[38;5;241m+\u001b[39m\u001b[38;5;241m=\u001b[39m \u001b[38;5;241m1\u001b[39m\n\u001b[0;32m--> 821\u001b[0m \u001b[38;5;28;43mself\u001b[39;49m\u001b[38;5;241;43m.\u001b[39;49m\u001b[43m_fit_one_init\u001b[49m\u001b[43m(\u001b[49m\u001b[43mX_\u001b[49m\u001b[43m,\u001b[49m\u001b[43m \u001b[49m\u001b[43mx_squared_norms\u001b[49m\u001b[43m,\u001b[49m\u001b[43m \u001b[49m\u001b[43mrs\u001b[49m\u001b[43m)\u001b[49m\n\u001b[1;32m    822\u001b[0m \u001b[38;5;28;01mif\u001b[39;00m \u001b[38;5;28mself\u001b[39m\u001b[38;5;241m.\u001b[39minertia_ \u001b[38;5;241m<\u001b[39m min_inertia:\n\u001b[1;32m    823\u001b[0m     best_correct_centroids \u001b[38;5;241m=\u001b[39m \u001b[38;5;28mself\u001b[39m\u001b[38;5;241m.\u001b[39mcluster_centers_\u001b[38;5;241m.\u001b[39mcopy()\n",
      "File \u001b[0;32m~/.conda/envs/big_data_project/lib/python3.12/site-packages/tslearn/clustering/kmeans.py:690\u001b[0m, in \u001b[0;36mTimeSeriesKMeans._fit_one_init\u001b[0;34m(self, X, x_squared_norms, rs)\u001b[0m\n\u001b[1;32m    688\u001b[0m \u001b[38;5;28;01mif\u001b[39;00m \u001b[38;5;28mself\u001b[39m\u001b[38;5;241m.\u001b[39mverbose:\n\u001b[1;32m    689\u001b[0m     \u001b[38;5;28mprint\u001b[39m(\u001b[38;5;124m\"\u001b[39m\u001b[38;5;132;01m%.3f\u001b[39;00m\u001b[38;5;124m\"\u001b[39m \u001b[38;5;241m%\u001b[39m \u001b[38;5;28mself\u001b[39m\u001b[38;5;241m.\u001b[39minertia_, end\u001b[38;5;241m=\u001b[39m\u001b[38;5;124m\"\u001b[39m\u001b[38;5;124m --> \u001b[39m\u001b[38;5;124m\"\u001b[39m)\n\u001b[0;32m--> 690\u001b[0m \u001b[38;5;28;43mself\u001b[39;49m\u001b[38;5;241;43m.\u001b[39;49m\u001b[43m_update_centroids\u001b[49m\u001b[43m(\u001b[49m\u001b[43mX\u001b[49m\u001b[43m)\u001b[49m\n\u001b[1;32m    692\u001b[0m \u001b[38;5;28;01mif\u001b[39;00m numpy\u001b[38;5;241m.\u001b[39mabs(old_inertia \u001b[38;5;241m-\u001b[39m \u001b[38;5;28mself\u001b[39m\u001b[38;5;241m.\u001b[39minertia_) \u001b[38;5;241m<\u001b[39m \u001b[38;5;28mself\u001b[39m\u001b[38;5;241m.\u001b[39mtol:\n\u001b[1;32m    693\u001b[0m     \u001b[38;5;28;01mbreak\u001b[39;00m\n",
      "File \u001b[0;32m~/.conda/envs/big_data_project/lib/python3.12/site-packages/tslearn/clustering/kmeans.py:762\u001b[0m, in \u001b[0;36mTimeSeriesKMeans._update_centroids\u001b[0;34m(self, X)\u001b[0m\n\u001b[1;32m    755\u001b[0m     \u001b[38;5;28mself\u001b[39m\u001b[38;5;241m.\u001b[39mcluster_centers_[k] \u001b[38;5;241m=\u001b[39m softdtw_barycenter(\n\u001b[1;32m    756\u001b[0m         X\u001b[38;5;241m=\u001b[39mX[\u001b[38;5;28mself\u001b[39m\u001b[38;5;241m.\u001b[39mlabels_ \u001b[38;5;241m==\u001b[39m k],\n\u001b[1;32m    757\u001b[0m         max_iter\u001b[38;5;241m=\u001b[39m\u001b[38;5;28mself\u001b[39m\u001b[38;5;241m.\u001b[39mmax_iter_barycenter,\n\u001b[1;32m    758\u001b[0m         init\u001b[38;5;241m=\u001b[39m\u001b[38;5;28mself\u001b[39m\u001b[38;5;241m.\u001b[39mcluster_centers_[k],\n\u001b[1;32m    759\u001b[0m         \u001b[38;5;241m*\u001b[39m\u001b[38;5;241m*\u001b[39mmetric_params\n\u001b[1;32m    760\u001b[0m     )\n\u001b[1;32m    761\u001b[0m \u001b[38;5;28;01melse\u001b[39;00m:\n\u001b[0;32m--> 762\u001b[0m     \u001b[38;5;28mself\u001b[39m\u001b[38;5;241m.\u001b[39mcluster_centers_[k] \u001b[38;5;241m=\u001b[39m \u001b[43meuclidean_barycenter\u001b[49m\u001b[43m(\u001b[49m\u001b[43mX\u001b[49m\u001b[38;5;241;43m=\u001b[39;49m\u001b[43mX\u001b[49m\u001b[43m[\u001b[49m\u001b[38;5;28;43mself\u001b[39;49m\u001b[38;5;241;43m.\u001b[39;49m\u001b[43mlabels_\u001b[49m\u001b[43m \u001b[49m\u001b[38;5;241;43m==\u001b[39;49m\u001b[43m \u001b[49m\u001b[43mk\u001b[49m\u001b[43m]\u001b[49m\u001b[43m)\u001b[49m\n",
      "File \u001b[0;32m~/.conda/envs/big_data_project/lib/python3.12/site-packages/tslearn/barycenters/euclidean.py:42\u001b[0m, in \u001b[0;36meuclidean_barycenter\u001b[0;34m(X, weights)\u001b[0m\n\u001b[1;32m      9\u001b[0m \u001b[38;5;28;01mdef\u001b[39;00m \u001b[38;5;21meuclidean_barycenter\u001b[39m(X, weights\u001b[38;5;241m=\u001b[39m\u001b[38;5;28;01mNone\u001b[39;00m):\n\u001b[1;32m     10\u001b[0m \u001b[38;5;250m    \u001b[39m\u001b[38;5;124;03m\"\"\"Standard Euclidean barycenter computed from a set of time series.\u001b[39;00m\n\u001b[1;32m     11\u001b[0m \n\u001b[1;32m     12\u001b[0m \u001b[38;5;124;03m    Parameters\u001b[39;00m\n\u001b[0;32m   (...)\u001b[0m\n\u001b[1;32m     40\u001b[0m \u001b[38;5;124;03m           [4.5]])\u001b[39;00m\n\u001b[1;32m     41\u001b[0m \u001b[38;5;124;03m    \"\"\"\u001b[39;00m\n\u001b[0;32m---> 42\u001b[0m     X_ \u001b[38;5;241m=\u001b[39m \u001b[43mto_time_series_dataset\u001b[49m\u001b[43m(\u001b[49m\u001b[43mX\u001b[49m\u001b[43m)\u001b[49m\n\u001b[1;32m     43\u001b[0m     weights \u001b[38;5;241m=\u001b[39m _set_weights(weights, X_\u001b[38;5;241m.\u001b[39mshape[\u001b[38;5;241m0\u001b[39m])\n\u001b[1;32m     44\u001b[0m     \u001b[38;5;28;01mreturn\u001b[39;00m numpy\u001b[38;5;241m.\u001b[39maverage(X_, axis\u001b[38;5;241m=\u001b[39m\u001b[38;5;241m0\u001b[39m, weights\u001b[38;5;241m=\u001b[39mweights)\n",
      "File \u001b[0;32m~/.conda/envs/big_data_project/lib/python3.12/site-packages/tslearn/utils/utils.py:226\u001b[0m, in \u001b[0;36mto_time_series_dataset\u001b[0;34m(dataset, dtype, be)\u001b[0m\n\u001b[1;32m    223\u001b[0m     dataset \u001b[38;5;241m=\u001b[39m [dataset]\n\u001b[1;32m    224\u001b[0m n_ts \u001b[38;5;241m=\u001b[39m \u001b[38;5;28mlen\u001b[39m(dataset)\n\u001b[1;32m    225\u001b[0m max_sz \u001b[38;5;241m=\u001b[39m \u001b[38;5;28mmax\u001b[39m(\n\u001b[0;32m--> 226\u001b[0m     [\u001b[43mts_size\u001b[49m\u001b[43m(\u001b[49m\u001b[43mto_time_series\u001b[49m\u001b[43m(\u001b[49m\u001b[43mts\u001b[49m\u001b[43m,\u001b[49m\u001b[43m \u001b[49m\u001b[43mremove_nans\u001b[49m\u001b[38;5;241;43m=\u001b[39;49m\u001b[38;5;28;43;01mTrue\u001b[39;49;00m\u001b[43m,\u001b[49m\u001b[43m \u001b[49m\u001b[43mbe\u001b[49m\u001b[38;5;241;43m=\u001b[39;49m\u001b[43mbe\u001b[49m\u001b[43m)\u001b[49m\u001b[43m)\u001b[49m \u001b[38;5;28;01mfor\u001b[39;00m ts \u001b[38;5;129;01min\u001b[39;00m dataset]\n\u001b[1;32m    227\u001b[0m )\n\u001b[1;32m    228\u001b[0m d \u001b[38;5;241m=\u001b[39m be\u001b[38;5;241m.\u001b[39mshape(to_time_series(dataset[\u001b[38;5;241m0\u001b[39m], be\u001b[38;5;241m=\u001b[39mbe))[\u001b[38;5;241m1\u001b[39m]\n\u001b[1;32m    229\u001b[0m dataset_out \u001b[38;5;241m=\u001b[39m be\u001b[38;5;241m.\u001b[39mzeros((n_ts, max_sz, d), dtype\u001b[38;5;241m=\u001b[39mdtype) \u001b[38;5;241m+\u001b[39m be\u001b[38;5;241m.\u001b[39mnan\n",
      "File \u001b[0;32m~/.conda/envs/big_data_project/lib/python3.12/site-packages/tslearn/utils/utils.py:445\u001b[0m, in \u001b[0;36mts_size\u001b[0;34m(ts, be)\u001b[0m\n\u001b[1;32m    404\u001b[0m \u001b[38;5;28;01mdef\u001b[39;00m \u001b[38;5;21mts_size\u001b[39m(ts, be\u001b[38;5;241m=\u001b[39m\u001b[38;5;28;01mNone\u001b[39;00m):\n\u001b[1;32m    405\u001b[0m \u001b[38;5;250m    \u001b[39m\u001b[38;5;124;03m\"\"\"Returns actual time series size.\u001b[39;00m\n\u001b[1;32m    406\u001b[0m \n\u001b[1;32m    407\u001b[0m \u001b[38;5;124;03m    Final timesteps that have `NaN` values for all dimensions will be removed\u001b[39;00m\n\u001b[0;32m   (...)\u001b[0m\n\u001b[1;32m    443\u001b[0m \u001b[38;5;124;03m    3\u001b[39;00m\n\u001b[1;32m    444\u001b[0m \u001b[38;5;124;03m    \"\"\"\u001b[39;00m\n\u001b[0;32m--> 445\u001b[0m     be \u001b[38;5;241m=\u001b[39m \u001b[43minstantiate_backend\u001b[49m\u001b[43m(\u001b[49m\u001b[43mbe\u001b[49m\u001b[43m,\u001b[49m\u001b[43m \u001b[49m\u001b[43mts\u001b[49m\u001b[43m)\u001b[49m\n\u001b[1;32m    446\u001b[0m     ts_ \u001b[38;5;241m=\u001b[39m to_time_series(ts, be\u001b[38;5;241m=\u001b[39mbe)\n\u001b[1;32m    447\u001b[0m     sz \u001b[38;5;241m=\u001b[39m be\u001b[38;5;241m.\u001b[39mshape(ts_)[\u001b[38;5;241m0\u001b[39m]\n",
      "File \u001b[0;32m~/.conda/envs/big_data_project/lib/python3.12/site-packages/tslearn/backend/backend.py:35\u001b[0m, in \u001b[0;36minstantiate_backend\u001b[0;34m(*args)\u001b[0m\n\u001b[1;32m     33\u001b[0m     \u001b[38;5;28;01mreturn\u001b[39;00m arg\n\u001b[1;32m     34\u001b[0m \u001b[38;5;28;01mif\u001b[39;00m \u001b[38;5;124m\"\u001b[39m\u001b[38;5;124mnumpy\u001b[39m\u001b[38;5;124m\"\u001b[39m \u001b[38;5;129;01min\u001b[39;00m \u001b[38;5;124mf\u001b[39m\u001b[38;5;124m\"\u001b[39m\u001b[38;5;132;01m{\u001b[39;00m\u001b[38;5;28mtype\u001b[39m(arg)\u001b[38;5;132;01m}\u001b[39;00m\u001b[38;5;124m\"\u001b[39m \u001b[38;5;129;01mor\u001b[39;00m \u001b[38;5;124m\"\u001b[39m\u001b[38;5;124mnumpy\u001b[39m\u001b[38;5;124m\"\u001b[39m \u001b[38;5;129;01min\u001b[39;00m \u001b[38;5;124mf\u001b[39m\u001b[38;5;124m\"\u001b[39m\u001b[38;5;132;01m{\u001b[39;00marg\u001b[38;5;132;01m}\u001b[39;00m\u001b[38;5;124m\"\u001b[39m\u001b[38;5;241m.\u001b[39mlower():\n\u001b[0;32m---> 35\u001b[0m     \u001b[38;5;28;01mreturn\u001b[39;00m \u001b[43mBackend\u001b[49m\u001b[43m(\u001b[49m\u001b[38;5;124;43m\"\u001b[39;49m\u001b[38;5;124;43mnumpy\u001b[39;49m\u001b[38;5;124;43m\"\u001b[39;49m\u001b[43m)\u001b[49m\n\u001b[1;32m     36\u001b[0m \u001b[38;5;28;01mif\u001b[39;00m \u001b[38;5;124m\"\u001b[39m\u001b[38;5;124mtorch\u001b[39m\u001b[38;5;124m\"\u001b[39m \u001b[38;5;129;01min\u001b[39;00m \u001b[38;5;124mf\u001b[39m\u001b[38;5;124m\"\u001b[39m\u001b[38;5;132;01m{\u001b[39;00m\u001b[38;5;28mtype\u001b[39m(arg)\u001b[38;5;132;01m}\u001b[39;00m\u001b[38;5;124m\"\u001b[39m \u001b[38;5;129;01mor\u001b[39;00m \u001b[38;5;124m\"\u001b[39m\u001b[38;5;124mtorch\u001b[39m\u001b[38;5;124m\"\u001b[39m \u001b[38;5;129;01min\u001b[39;00m \u001b[38;5;124mf\u001b[39m\u001b[38;5;124m\"\u001b[39m\u001b[38;5;132;01m{\u001b[39;00marg\u001b[38;5;132;01m}\u001b[39;00m\u001b[38;5;124m\"\u001b[39m\u001b[38;5;241m.\u001b[39mlower():\n\u001b[1;32m     37\u001b[0m     \u001b[38;5;28;01mreturn\u001b[39;00m Backend(\u001b[38;5;124m\"\u001b[39m\u001b[38;5;124mpytorch\u001b[39m\u001b[38;5;124m\"\u001b[39m)\n",
      "File \u001b[0;32m~/.conda/envs/big_data_project/lib/python3.12/site-packages/tslearn/backend/backend.py:83\u001b[0m, in \u001b[0;36mBackend.__init__\u001b[0;34m(self, data)\u001b[0m\n\u001b[1;32m     81\u001b[0m \u001b[38;5;28;01mfor\u001b[39;00m element \u001b[38;5;129;01min\u001b[39;00m \u001b[38;5;28mdir\u001b[39m(\u001b[38;5;28mself\u001b[39m\u001b[38;5;241m.\u001b[39mbackend):\n\u001b[1;32m     82\u001b[0m     \u001b[38;5;28;01mif\u001b[39;00m \u001b[38;5;124m\"\u001b[39m\u001b[38;5;124m__\u001b[39m\u001b[38;5;124m\"\u001b[39m \u001b[38;5;129;01mnot\u001b[39;00m \u001b[38;5;129;01min\u001b[39;00m element:\n\u001b[0;32m---> 83\u001b[0m         \u001b[38;5;28;43msetattr\u001b[39;49m\u001b[43m(\u001b[49m\u001b[38;5;28;43mself\u001b[39;49m\u001b[43m,\u001b[49m\u001b[43m \u001b[49m\u001b[43melement\u001b[49m\u001b[43m,\u001b[49m\u001b[43m \u001b[49m\u001b[38;5;28;43mgetattr\u001b[39;49m\u001b[43m(\u001b[49m\u001b[38;5;28;43mself\u001b[39;49m\u001b[38;5;241;43m.\u001b[39;49m\u001b[43mbackend\u001b[49m\u001b[43m,\u001b[49m\u001b[43m \u001b[49m\u001b[43melement\u001b[49m\u001b[43m)\u001b[49m\u001b[43m)\u001b[49m\n\u001b[1;32m     85\u001b[0m \u001b[38;5;28mself\u001b[39m\u001b[38;5;241m.\u001b[39mis_numpy \u001b[38;5;241m=\u001b[39m \u001b[38;5;28mself\u001b[39m\u001b[38;5;241m.\u001b[39mbackend_string \u001b[38;5;241m==\u001b[39m \u001b[38;5;124m\"\u001b[39m\u001b[38;5;124mnumpy\u001b[39m\u001b[38;5;124m\"\u001b[39m\n\u001b[1;32m     86\u001b[0m \u001b[38;5;28mself\u001b[39m\u001b[38;5;241m.\u001b[39mis_pytorch \u001b[38;5;241m=\u001b[39m \u001b[38;5;28mself\u001b[39m\u001b[38;5;241m.\u001b[39mbackend_string \u001b[38;5;241m==\u001b[39m \u001b[38;5;124m\"\u001b[39m\u001b[38;5;124mpytorch\u001b[39m\u001b[38;5;124m\"\u001b[39m\n",
      "\u001b[0;31mKeyboardInterrupt\u001b[0m: "
     ]
    }
   ],
   "source": [
    "import numpy\n",
    "import matplotlib.pyplot as plt\n",
    "\n",
    "from tslearn.clustering import TimeSeriesKMeans\n",
    "from tslearn.datasets import CachedDatasets\n",
    "from tslearn.preprocessing import TimeSeriesScalerMeanVariance, \\\n",
    "    TimeSeriesResampler\n",
    "\n",
    "seed = 0\n",
    "numpy.random.seed(seed)\n",
    "\n",
    "sz = X_train.shape[1]\n",
    "\n",
    "X_train = TimeSeriesScalerMeanVariance().fit_transform(X_train)\n",
    "\n",
    "# Euclidean k-means\n",
    "print(\"Euclidean k-means\")\n",
    "km = TimeSeriesKMeans(n_clusters=3, verbose=True, random_state=seed,\n",
    "n_jobs=-1)\n",
    "y_pred = km.fit_predict(X_train)\n",
    "\n",
    "plt.figure()\n",
    "for yi in range(3):\n",
    "    plt.subplot(3, 3, yi + 1)\n",
    "    for xx in X_train[y_pred == yi]:\n",
    "        plt.plot(xx.ravel(), \"k-\", alpha=.2)\n",
    "    plt.plot(km.cluster_centers_[yi].ravel(), \"r-\")\n",
    "    plt.xlim(0, sz)\n",
    "    plt.ylim(-4, 4)\n",
    "    plt.text(0.55, 0.85,'Cluster %d' % (yi + 1),\n",
    "             transform=plt.gca().transAxes)\n",
    "    if yi == 1:\n",
    "        plt.title(\"Euclidean $k$-means\")\n",
    "\n",
    "# DBA-k-means\n",
    "print(\"DBA k-means\")\n",
    "dba_km = TimeSeriesKMeans(n_clusters=3,\n",
    "                          n_init=2,\n",
    "                          metric=\"dtw\",\n",
    "                          verbose=True,\n",
    "                          max_iter_barycenter=10,\n",
    "                          random_state=seed,\n",
    "                          n_jobs=-1)\n",
    "y_pred = dba_km.fit_predict(X_train)\n",
    "\n",
    "for yi in range(3):\n",
    "    plt.subplot(3, 3, 4 + yi)\n",
    "    for xx in X_train[y_pred == yi]:\n",
    "        plt.plot(xx.ravel(), \"k-\", alpha=.2)\n",
    "    plt.plot(dba_km.cluster_centers_[yi].ravel(), \"r-\")\n",
    "    plt.xlim(0, sz)\n",
    "    plt.ylim(-4, 4)\n",
    "    plt.text(0.55, 0.85,'Cluster %d' % (yi + 1),\n",
    "             transform=plt.gca().transAxes)\n",
    "    if yi == 1:\n",
    "        plt.title(\"DBA $k$-means\")\n",
    "\n",
    "\n",
    "plt.tight_layout()\n",
    "plt.show()"
   ]
  },
  {
   "cell_type": "code",
   "execution_count": 112,
   "metadata": {},
   "outputs": [
    {
     "data": {
      "text/plain": [
       "70.60124743054607"
      ]
     },
     "execution_count": 112,
     "metadata": {},
     "output_type": "execute_result"
    }
   ],
   "source": [
    "km.inertia_"
   ]
  },
  {
   "cell_type": "code",
   "execution_count": 114,
   "metadata": {},
   "outputs": [
    {
     "data": {
      "text/plain": [
       "array([2, 1, 1, 0, 0, 2, 0, 1, 2, 1, 2, 2, 0, 0, 2, 0, 0, 1, 1, 2, 0, 1,\n",
       "       2, 2, 0, 0, 1, 0, 0, 2, 0, 1, 1, 2, 0, 0, 0, 0, 0, 0, 0, 0, 0, 0,\n",
       "       0, 0, 1, 0, 0, 0, 1, 1, 0, 2, 0, 1, 0, 2, 1, 0, 2, 0, 2, 0, 1, 2,\n",
       "       2, 2, 0, 0, 1, 1, 2, 2, 1, 1, 0, 1, 1, 0, 2, 0, 2, 0, 2, 1, 2, 0,\n",
       "       1, 1, 1, 1, 1, 0, 1, 0, 0, 2, 2, 2])"
      ]
     },
     "execution_count": 114,
     "metadata": {},
     "output_type": "execute_result"
    }
   ],
   "source": [
    "y_pred"
   ]
  },
  {
   "cell_type": "code",
   "execution_count": 115,
   "metadata": {},
   "outputs": [],
   "source": [
    "y = views_df[:100].with_columns(pl.Series(name='cluster', values=y_pred))"
   ]
  },
  {
   "cell_type": "markdown",
   "metadata": {},
   "source": [
    "https://github.com/aeon-toolkit/aeon/blob/4a58c4dba5bb37e43979368ad9cf092540e71786/examples/segmentation/segmentation_with_clasp.ipynb"
   ]
  }
 ],
 "metadata": {
  "kernelspec": {
   "display_name": "big_data_project",
   "language": "python",
   "name": "python3"
  },
  "language_info": {
   "codemirror_mode": {
    "name": "ipython",
    "version": 3
   },
   "file_extension": ".py",
   "mimetype": "text/x-python",
   "name": "python",
   "nbconvert_exporter": "python",
   "pygments_lexer": "ipython3",
   "version": "3.12.2"
  }
 },
 "nbformat": 4,
 "nbformat_minor": 2
}

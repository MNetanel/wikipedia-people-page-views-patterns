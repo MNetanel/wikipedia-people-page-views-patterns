{
 "cells": [
  {
   "cell_type": "markdown",
   "metadata": {},
   "source": [
    "<div align='center'><strong>Wikipedia Pageviews Project</strong>\n",
    "<br />\n",
    "<i>Netanel Madmoni</i>\n",
    "</div>\n",
    "\n",
    "----------------"
   ]
  },
  {
   "cell_type": "markdown",
   "metadata": {},
   "source": [
    "# Introduction"
   ]
  },
  {
   "cell_type": "code",
   "execution_count": 1,
   "metadata": {},
   "outputs": [],
   "source": [
    "#imports\n",
    "import numpy as np\n",
    "import pandas as pd\n",
    "import polars as pl\n",
    "from pathlib import Path\n",
    "from tqdm import tqdm\n",
    "from functools import reduce\n",
    "from itertools import product\n",
    "import matplotlib.pyplot as plt\n",
    "from dotenv import load_dotenv\n",
    "import os\n",
    "import json\n",
    "import seaborn as sns\n",
    "from rich import print\n",
    "\n",
    "load_dotenv()\n",
    "\n",
    "RAW_DATA_DIR = Path(os.getenv('RAW_DATA_DIR'))\n",
    "PROCESSED_DATA_DIR = Path(os.getenv('PROCESSED_DATA_DIR'))"
   ]
  },
  {
   "cell_type": "markdown",
   "metadata": {},
   "source": [
    "# Raw Data Acquisition"
   ]
  },
  {
   "cell_type": "markdown",
   "metadata": {},
   "source": [
    "1. Get List of people on Wikipedia\n",
    "```sql\n",
    "SELECT DISTINCT en_wiki -- page title name in english wikipedia\t\n",
    "FROM  `rising-theater-416315.wikipedia_pageviews.wikidata`,\n",
    "      UNNEST(instance_of) AS instance_of_struct\n",
    "\n",
    "    \n",
    "WHERE instance_of_struct.numeric_id = 5 -- instance_of = 5 => person\n",
    "```\n",
    "\n",
    "2. Get pagevoew data for those people\n",
    "\n",
    "      ```sql\n",
    "      SELECT title, DATETIME_TRUNC(datehour, MONTH) AS month, SUM(views) AS monthly_views\n",
    "\n",
    "                  \n",
    "      FROM  `rising-theater-416315.wikipedia_pageviews.pageviews_2023` a\n",
    "            JOIN `rising-theater-416315.data_for_project.distinct_people` b\n",
    "            ON a.title = b.en_wiki\n",
    "\n",
    "      \n",
    "      WHERE datehour IS NOT NULL\n",
    "      AND wiki = \"en\"\n",
    "\n",
    "      GROUP BY title, DATETIME_TRUNC(datehour, MONTH)\n",
    "      ```\n",
    "\n",
    "3. Get wikidata for those people\n",
    "      ```sql\n",
    "      SELECT *\t\n",
    "      FROM  `rising-theater-416315.wikipedia_pageviews.wikidata`,\n",
    "      UNNEST(instance_of) AS instance_of_struct\n",
    "\n",
    "    \n",
    "      WHERE instance_of_struct.numeric_id = 5\n",
    "      ```"
   ]
  },
  {
   "cell_type": "markdown",
   "metadata": {},
   "source": [
    "# Data transformation"
   ]
  },
  {
   "cell_type": "markdown",
   "metadata": {},
   "source": [
    "## Views Data"
   ]
  },
  {
   "cell_type": "markdown",
   "metadata": {},
   "source": [
    "Are organized in csv files, one per year."
   ]
  },
  {
   "cell_type": "code",
   "execution_count": 6,
   "metadata": {},
   "outputs": [
    {
     "name": "stdout",
     "output_type": "stream",
     "text": [
      "monthly_views_2015.csv - 411.06 MB)\n",
      "monthly_views_2016.csv - 658.91 MB)\n",
      "monthly_views_2019.csv - 803.42 MB)\n",
      "monthly_views_2020.csv - 851.54 MB)\n",
      "monthly_views_2017.csv - 708.39 MB)\n",
      "monthly_views_2022.csv - 949.62 MB)\n",
      "monthly_views_2023.csv - 980.47 MB)\n",
      "monthly_views_2021.csv - 904.32 MB)\n",
      "monthly_views_2018.csv - 755.98 MB)\n",
      "Total files: 0\n"
     ]
    }
   ],
   "source": [
    "# Read raw data\n",
    "dfs = []\n",
    "for file in RAW_DATA_DIR.glob(r'monthly_views_*.csv'):\n",
    "    print(f'{file.name} - {os.stat(file).st_size / 1024 ** 2:.2f} MB)')\n",
    "    dfs.append(pl.read_csv(file))\n",
    "\n",
    "print(f'Total files: {len(dfs)}')"
   ]
  },
  {
   "cell_type": "code",
   "execution_count": null,
   "metadata": {},
   "outputs": [],
   "source": [
    "# Pivot\n",
    "transformed_dfs = []\n",
    "for df in tqdm(dfs):\n",
    "    transformed_df = (df.with_columns(pl.col('month')\n",
    "                                    .map_elements(lambda s: f'{s[:4]}-{s[5:7]}')\n",
    "                                    .alias('year_month'))\n",
    "                      .pivot(index='title', columns='year_month', values='monthly_views')\n",
    "    )\n",
    "    transformed_dfs.append(transformed_df)"
   ]
  },
  {
   "cell_type": "code",
   "execution_count": null,
   "metadata": {},
   "outputs": [],
   "source": [
    "# Join\n",
    "all_names = pl.concat([df.select('title') for df in dfs]).unique()\n",
    "print(f'{len(all_names):,}')\n",
    "views_df = all_names\n",
    "for i, df in tqdm(enumerate(transformed_dfs)):\n",
    "    views_df = df.join(views_df, 'title', 'outer_coalesce')\n",
    "views_df = views_df.select(['title', *sorted([c for c in views_df.columns if c != 'title'])])\n",
    "views_df.write_parquet(f'{PROCESSED_DATA_DIR}/pageviews_all.parquet')\n",
    "\n",
    "views_df"
   ]
  },
  {
   "cell_type": "markdown",
   "metadata": {},
   "source": [
    "## Entity Data"
   ]
  },
  {
   "cell_type": "markdown",
   "metadata": {},
   "source": [
    "Are organized in json files."
   ]
  },
  {
   "cell_type": "code",
   "execution_count": 9,
   "metadata": {},
   "outputs": [
    {
     "data": {
      "text/plain": [
       "400"
      ]
     },
     "execution_count": 9,
     "metadata": {},
     "output_type": "execute_result"
    }
   ],
   "source": [
    "info_files = (RAW_DATA_DIR / 'wikidata').glob('*')\n",
    "len(list(info_files))"
   ]
  },
  {
   "cell_type": "markdown",
   "metadata": {},
   "source": [
    "For example..."
   ]
  },
  {
   "cell_type": "code",
   "execution_count": 86,
   "metadata": {},
   "outputs": [
    {
     "data": {
      "text/html": [
       "<pre style=\"white-space:pre;overflow-x:auto;line-height:normal;font-family:Menlo,'DejaVu Sans Mono',consolas,'Courier New',monospace\"><span style=\"font-weight: bold\">{</span>\n",
       "    <span style=\"color: #008000; text-decoration-color: #008000\">'id'</span>: <span style=\"color: #008000; text-decoration-color: #008000\">'Q17122148'</span>,\n",
       "    <span style=\"color: #008000; text-decoration-color: #008000\">'numeric_id'</span>: <span style=\"color: #008000; text-decoration-color: #008000\">'17122148'</span>,\n",
       "    <span style=\"color: #008000; text-decoration-color: #008000\">'en_label'</span>: <span style=\"color: #008000; text-decoration-color: #008000\">'Albrecht Joseph'</span>,\n",
       "    <span style=\"color: #008000; text-decoration-color: #008000\">'en_wiki'</span>: <span style=\"color: #008000; text-decoration-color: #008000\">'Albrecht_Joseph'</span>,\n",
       "    <span style=\"color: #008000; text-decoration-color: #008000\">'en_description'</span>: <span style=\"color: #008000; text-decoration-color: #008000\">'German screenwriter, film editor and author'</span>,\n",
       "    <span style=\"color: #008000; text-decoration-color: #008000\">'type'</span>: <span style=\"color: #008000; text-decoration-color: #008000\">'item'</span>,\n",
       "    <span style=\"color: #008000; text-decoration-color: #008000\">'sitelinks'</span>: <span style=\"font-weight: bold\">[</span>\n",
       "        <span style=\"font-weight: bold\">{</span><span style=\"color: #008000; text-decoration-color: #008000\">'site'</span>: <span style=\"color: #008000; text-decoration-color: #008000\">'dewiki'</span>, <span style=\"color: #008000; text-decoration-color: #008000\">'title'</span>: <span style=\"color: #008000; text-decoration-color: #008000\">'Albrecht Joseph'</span>, <span style=\"color: #008000; text-decoration-color: #008000\">'encoded'</span>: <span style=\"color: #008000; text-decoration-color: #008000\">'Albrecht_Joseph'</span><span style=\"font-weight: bold\">}</span>,\n",
       "        <span style=\"font-weight: bold\">{</span><span style=\"color: #008000; text-decoration-color: #008000\">'site'</span>: <span style=\"color: #008000; text-decoration-color: #008000\">'enwiki'</span>, <span style=\"color: #008000; text-decoration-color: #008000\">'title'</span>: <span style=\"color: #008000; text-decoration-color: #008000\">'Albrecht Joseph'</span>, <span style=\"color: #008000; text-decoration-color: #008000\">'encoded'</span>: <span style=\"color: #008000; text-decoration-color: #008000\">'Albrecht_Joseph'</span><span style=\"font-weight: bold\">}</span>,\n",
       "        <span style=\"font-weight: bold\">{</span><span style=\"color: #008000; text-decoration-color: #008000\">'site'</span>: <span style=\"color: #008000; text-decoration-color: #008000\">'frwiki'</span>, <span style=\"color: #008000; text-decoration-color: #008000\">'title'</span>: <span style=\"color: #008000; text-decoration-color: #008000\">'Albrecht Joseph'</span>, <span style=\"color: #008000; text-decoration-color: #008000\">'encoded'</span>: <span style=\"color: #008000; text-decoration-color: #008000\">'Albrecht_Joseph'</span><span style=\"font-weight: bold\">}</span>,\n",
       "        <span style=\"font-weight: bold\">{</span><span style=\"color: #008000; text-decoration-color: #008000\">'site'</span>: <span style=\"color: #008000; text-decoration-color: #008000\">'arwiki'</span>, <span style=\"color: #008000; text-decoration-color: #008000\">'title'</span>: <span style=\"color: #008000; text-decoration-color: #008000\">'ألبرشت جوزيف'</span>, <span style=\"color: #008000; text-decoration-color: #008000\">'encoded'</span>: <span style=\"color: #008000; text-decoration-color: #008000\">'ألبرشت_جوزيف'</span><span style=\"font-weight: bold\">}</span>,\n",
       "        <span style=\"font-weight: bold\">{</span><span style=\"color: #008000; text-decoration-color: #008000\">'site'</span>: <span style=\"color: #008000; text-decoration-color: #008000\">'arzwiki'</span>, <span style=\"color: #008000; text-decoration-color: #008000\">'title'</span>: <span style=\"color: #008000; text-decoration-color: #008000\">'البرشت چوزيف'</span>, <span style=\"color: #008000; text-decoration-color: #008000\">'encoded'</span>: <span style=\"color: #008000; text-decoration-color: #008000\">'البرشت_چوزيف'</span><span style=\"font-weight: bold\">}</span>,\n",
       "        <span style=\"font-weight: bold\">{</span><span style=\"color: #008000; text-decoration-color: #008000\">'site'</span>: <span style=\"color: #008000; text-decoration-color: #008000\">'fawiki'</span>, <span style=\"color: #008000; text-decoration-color: #008000\">'title'</span>: <span style=\"color: #008000; text-decoration-color: #008000\">'آلبرشت یوزف'</span>, <span style=\"color: #008000; text-decoration-color: #008000\">'encoded'</span>: <span style=\"color: #008000; text-decoration-color: #008000\">'آلبرشت_یوزف'</span><span style=\"font-weight: bold\">}</span>\n",
       "    <span style=\"font-weight: bold\">]</span>,\n",
       "    <span style=\"color: #008000; text-decoration-color: #008000\">'descriptions'</span>: <span style=\"font-weight: bold\">[</span>\n",
       "        <span style=\"font-weight: bold\">{</span><span style=\"color: #008000; text-decoration-color: #008000\">'language'</span>: <span style=\"color: #008000; text-decoration-color: #008000\">'de'</span>, <span style=\"color: #008000; text-decoration-color: #008000\">'value'</span>: <span style=\"color: #008000; text-decoration-color: #008000\">'deutsch-amerikanischer Theater- und Filmschaffender'</span><span style=\"font-weight: bold\">}</span>,\n",
       "        <span style=\"font-weight: bold\">{</span><span style=\"color: #008000; text-decoration-color: #008000\">'language'</span>: <span style=\"color: #008000; text-decoration-color: #008000\">'fa'</span>, <span style=\"color: #008000; text-decoration-color: #008000\">'value'</span>: <span style=\"color: #008000; text-decoration-color: #008000\">'فیلمنامه\\u200cنویس، تدوینگر، و نویسنده آلمانی'</span><span style=\"font-weight: bold\">}</span>,\n",
       "        <span style=\"font-weight: bold\">{</span><span style=\"color: #008000; text-decoration-color: #008000\">'language'</span>: <span style=\"color: #008000; text-decoration-color: #008000\">'en'</span>, <span style=\"color: #008000; text-decoration-color: #008000\">'value'</span>: <span style=\"color: #008000; text-decoration-color: #008000\">'German screenwriter, film editor and author'</span><span style=\"font-weight: bold\">}</span>,\n",
       "        <span style=\"font-weight: bold\">{</span><span style=\"color: #008000; text-decoration-color: #008000\">'language'</span>: <span style=\"color: #008000; text-decoration-color: #008000\">'nl'</span>, <span style=\"color: #008000; text-decoration-color: #008000\">'value'</span>: <span style=\"color: #008000; text-decoration-color: #008000\">'Duits scenarioschrijver (1901-1991)'</span><span style=\"font-weight: bold\">}</span>,\n",
       "        <span style=\"font-weight: bold\">{</span><span style=\"color: #008000; text-decoration-color: #008000\">'language'</span>: <span style=\"color: #008000; text-decoration-color: #008000\">'sv'</span>, <span style=\"color: #008000; text-decoration-color: #008000\">'value'</span>: <span style=\"color: #008000; text-decoration-color: #008000\">'tysk författare och filmklippare'</span><span style=\"font-weight: bold\">}</span>\n",
       "    <span style=\"font-weight: bold\">]</span>,\n",
       "    <span style=\"color: #008000; text-decoration-color: #008000\">'labels'</span>: <span style=\"font-weight: bold\">[</span>\n",
       "        <span style=\"font-weight: bold\">{</span><span style=\"color: #008000; text-decoration-color: #008000\">'language'</span>: <span style=\"color: #008000; text-decoration-color: #008000\">'de'</span>, <span style=\"color: #008000; text-decoration-color: #008000\">'value'</span>: <span style=\"color: #008000; text-decoration-color: #008000\">'Albrecht Joseph'</span><span style=\"font-weight: bold\">}</span>,\n",
       "        <span style=\"font-weight: bold\">{</span><span style=\"color: #008000; text-decoration-color: #008000\">'language'</span>: <span style=\"color: #008000; text-decoration-color: #008000\">'fr'</span>, <span style=\"color: #008000; text-decoration-color: #008000\">'value'</span>: <span style=\"color: #008000; text-decoration-color: #008000\">'Albrecht Joseph'</span><span style=\"font-weight: bold\">}</span>,\n",
       "        <span style=\"font-weight: bold\">{</span><span style=\"color: #008000; text-decoration-color: #008000\">'language'</span>: <span style=\"color: #008000; text-decoration-color: #008000\">'nl'</span>, <span style=\"color: #008000; text-decoration-color: #008000\">'value'</span>: <span style=\"color: #008000; text-decoration-color: #008000\">'Albrecht Joseph'</span><span style=\"font-weight: bold\">}</span>,\n",
       "        <span style=\"font-weight: bold\">{</span><span style=\"color: #008000; text-decoration-color: #008000\">'language'</span>: <span style=\"color: #008000; text-decoration-color: #008000\">'en'</span>, <span style=\"color: #008000; text-decoration-color: #008000\">'value'</span>: <span style=\"color: #008000; text-decoration-color: #008000\">'Albrecht Joseph'</span><span style=\"font-weight: bold\">}</span>,\n",
       "        <span style=\"font-weight: bold\">{</span><span style=\"color: #008000; text-decoration-color: #008000\">'language'</span>: <span style=\"color: #008000; text-decoration-color: #008000\">'es'</span>, <span style=\"color: #008000; text-decoration-color: #008000\">'value'</span>: <span style=\"color: #008000; text-decoration-color: #008000\">'Albrecht Joseph'</span><span style=\"font-weight: bold\">}</span>,\n",
       "        <span style=\"font-weight: bold\">{</span><span style=\"color: #008000; text-decoration-color: #008000\">'language'</span>: <span style=\"color: #008000; text-decoration-color: #008000\">'hu'</span>, <span style=\"color: #008000; text-decoration-color: #008000\">'value'</span>: <span style=\"color: #008000; text-decoration-color: #008000\">'Albrecht Joseph'</span><span style=\"font-weight: bold\">}</span>,\n",
       "        <span style=\"font-weight: bold\">{</span><span style=\"color: #008000; text-decoration-color: #008000\">'language'</span>: <span style=\"color: #008000; text-decoration-color: #008000\">'sl'</span>, <span style=\"color: #008000; text-decoration-color: #008000\">'value'</span>: <span style=\"color: #008000; text-decoration-color: #008000\">'Albrecht Joseph'</span><span style=\"font-weight: bold\">}</span>,\n",
       "        <span style=\"font-weight: bold\">{</span><span style=\"color: #008000; text-decoration-color: #008000\">'language'</span>: <span style=\"color: #008000; text-decoration-color: #008000\">'ca'</span>, <span style=\"color: #008000; text-decoration-color: #008000\">'value'</span>: <span style=\"color: #008000; text-decoration-color: #008000\">'Albrecht Joseph'</span><span style=\"font-weight: bold\">}</span>,\n",
       "        <span style=\"font-weight: bold\">{</span><span style=\"color: #008000; text-decoration-color: #008000\">'language'</span>: <span style=\"color: #008000; text-decoration-color: #008000\">'ast'</span>, <span style=\"color: #008000; text-decoration-color: #008000\">'value'</span>: <span style=\"color: #008000; text-decoration-color: #008000\">'Albrecht Joseph'</span><span style=\"font-weight: bold\">}</span>,\n",
       "        <span style=\"font-weight: bold\">{</span><span style=\"color: #008000; text-decoration-color: #008000\">'language'</span>: <span style=\"color: #008000; text-decoration-color: #008000\">'ar'</span>, <span style=\"color: #008000; text-decoration-color: #008000\">'value'</span>: <span style=\"color: #008000; text-decoration-color: #008000\">'ألبرشت جوزيف'</span><span style=\"font-weight: bold\">}</span>,\n",
       "        <span style=\"font-weight: bold\">{</span><span style=\"color: #008000; text-decoration-color: #008000\">'language'</span>: <span style=\"color: #008000; text-decoration-color: #008000\">'cs'</span>, <span style=\"color: #008000; text-decoration-color: #008000\">'value'</span>: <span style=\"color: #008000; text-decoration-color: #008000\">'Albrecht Joseph'</span><span style=\"font-weight: bold\">}</span>,\n",
       "        <span style=\"font-weight: bold\">{</span><span style=\"color: #008000; text-decoration-color: #008000\">'language'</span>: <span style=\"color: #008000; text-decoration-color: #008000\">'sk'</span>, <span style=\"color: #008000; text-decoration-color: #008000\">'value'</span>: <span style=\"color: #008000; text-decoration-color: #008000\">'Albrecht Joseph'</span><span style=\"font-weight: bold\">}</span>,\n",
       "        <span style=\"font-weight: bold\">{</span><span style=\"color: #008000; text-decoration-color: #008000\">'language'</span>: <span style=\"color: #008000; text-decoration-color: #008000\">'arz'</span>, <span style=\"color: #008000; text-decoration-color: #008000\">'value'</span>: <span style=\"color: #008000; text-decoration-color: #008000\">'البرشت چوزيف'</span><span style=\"font-weight: bold\">}</span>,\n",
       "        <span style=\"font-weight: bold\">{</span><span style=\"color: #008000; text-decoration-color: #008000\">'language'</span>: <span style=\"color: #008000; text-decoration-color: #008000\">'it'</span>, <span style=\"color: #008000; text-decoration-color: #008000\">'value'</span>: <span style=\"color: #008000; text-decoration-color: #008000\">'Albrecht Joseph'</span><span style=\"font-weight: bold\">}</span>,\n",
       "        <span style=\"font-weight: bold\">{</span><span style=\"color: #008000; text-decoration-color: #008000\">'language'</span>: <span style=\"color: #008000; text-decoration-color: #008000\">'sq'</span>, <span style=\"color: #008000; text-decoration-color: #008000\">'value'</span>: <span style=\"color: #008000; text-decoration-color: #008000\">'Albrecht Joseph'</span><span style=\"font-weight: bold\">}</span>,\n",
       "        <span style=\"font-weight: bold\">{</span><span style=\"color: #008000; text-decoration-color: #008000\">'language'</span>: <span style=\"color: #008000; text-decoration-color: #008000\">'he'</span>, <span style=\"color: #008000; text-decoration-color: #008000\">'value'</span>: <span style=\"color: #008000; text-decoration-color: #008000\">\"אלברכט ג'וזף\"</span><span style=\"font-weight: bold\">}</span>,\n",
       "        <span style=\"font-weight: bold\">{</span><span style=\"color: #008000; text-decoration-color: #008000\">'language'</span>: <span style=\"color: #008000; text-decoration-color: #008000\">'sv'</span>, <span style=\"color: #008000; text-decoration-color: #008000\">'value'</span>: <span style=\"color: #008000; text-decoration-color: #008000\">'Albrecht Joseph'</span><span style=\"font-weight: bold\">}</span>,\n",
       "        <span style=\"font-weight: bold\">{</span><span style=\"color: #008000; text-decoration-color: #008000\">'language'</span>: <span style=\"color: #008000; text-decoration-color: #008000\">'ga'</span>, <span style=\"color: #008000; text-decoration-color: #008000\">'value'</span>: <span style=\"color: #008000; text-decoration-color: #008000\">'Albrecht Joseph'</span><span style=\"font-weight: bold\">}</span>,\n",
       "        <span style=\"font-weight: bold\">{</span><span style=\"color: #008000; text-decoration-color: #008000\">'language'</span>: <span style=\"color: #008000; text-decoration-color: #008000\">'fa'</span>, <span style=\"color: #008000; text-decoration-color: #008000\">'value'</span>: <span style=\"color: #008000; text-decoration-color: #008000\">'آلبرشت یوزف'</span><span style=\"font-weight: bold\">}</span>,\n",
       "        <span style=\"font-weight: bold\">{</span><span style=\"color: #008000; text-decoration-color: #008000\">'language'</span>: <span style=\"color: #008000; text-decoration-color: #008000\">'ru'</span>, <span style=\"color: #008000; text-decoration-color: #008000\">'value'</span>: <span style=\"color: #008000; text-decoration-color: #008000\">'Элбрехт Джозеф'</span><span style=\"font-weight: bold\">}</span>\n",
       "    <span style=\"font-weight: bold\">]</span>,\n",
       "    <span style=\"color: #008000; text-decoration-color: #008000\">'aliases'</span>: <span style=\"font-weight: bold\">[</span>\n",
       "        <span style=\"font-weight: bold\">{</span><span style=\"color: #008000; text-decoration-color: #008000\">'language'</span>: <span style=\"color: #008000; text-decoration-color: #008000\">'de'</span>, <span style=\"color: #008000; text-decoration-color: #008000\">'value'</span>: <span style=\"color: #008000; text-decoration-color: #008000\">'Al Joseph'</span><span style=\"font-weight: bold\">}</span>,\n",
       "        <span style=\"font-weight: bold\">{</span><span style=\"color: #008000; text-decoration-color: #008000\">'language'</span>: <span style=\"color: #008000; text-decoration-color: #008000\">'en'</span>, <span style=\"color: #008000; text-decoration-color: #008000\">'value'</span>: <span style=\"color: #008000; text-decoration-color: #008000\">'Al Joseph'</span><span style=\"font-weight: bold\">}</span>,\n",
       "        <span style=\"font-weight: bold\">{</span><span style=\"color: #008000; text-decoration-color: #008000\">'language'</span>: <span style=\"color: #008000; text-decoration-color: #008000\">'cs'</span>, <span style=\"color: #008000; text-decoration-color: #008000\">'value'</span>: <span style=\"color: #008000; text-decoration-color: #008000\">'Al Joseph'</span><span style=\"font-weight: bold\">}</span>,\n",
       "        <span style=\"font-weight: bold\">{</span><span style=\"color: #008000; text-decoration-color: #008000\">'language'</span>: <span style=\"color: #008000; text-decoration-color: #008000\">'sk'</span>, <span style=\"color: #008000; text-decoration-color: #008000\">'value'</span>: <span style=\"color: #008000; text-decoration-color: #008000\">'Al Joseph'</span><span style=\"font-weight: bold\">}</span>\n",
       "    <span style=\"font-weight: bold\">]</span>,\n",
       "    <span style=\"color: #008000; text-decoration-color: #008000\">'instance_of'</span>: <span style=\"font-weight: bold\">[{</span><span style=\"color: #008000; text-decoration-color: #008000\">'numeric_id'</span>: <span style=\"color: #008000; text-decoration-color: #008000\">'5'</span><span style=\"font-weight: bold\">}]</span>,\n",
       "    <span style=\"color: #008000; text-decoration-color: #008000\">'gender'</span>: <span style=\"font-weight: bold\">[{</span><span style=\"color: #008000; text-decoration-color: #008000\">'numeric_id'</span>: <span style=\"color: #008000; text-decoration-color: #008000\">'6581097'</span><span style=\"font-weight: bold\">}]</span>,\n",
       "    <span style=\"color: #008000; text-decoration-color: #008000\">'date_of_birth'</span>: <span style=\"font-weight: bold\">[{</span><span style=\"color: #008000; text-decoration-color: #008000\">'time'</span>: <span style=\"color: #008000; text-decoration-color: #008000\">'+1901-11-20T00:00:00Z'</span><span style=\"font-weight: bold\">}]</span>,\n",
       "    <span style=\"color: #008000; text-decoration-color: #008000\">'date_of_death'</span>: <span style=\"font-weight: bold\">[{</span><span style=\"color: #008000; text-decoration-color: #008000\">'time'</span>: <span style=\"color: #008000; text-decoration-color: #008000\">'+1901-11-20T00:00:00Z'</span><span style=\"font-weight: bold\">}]</span>,\n",
       "    <span style=\"color: #008000; text-decoration-color: #008000\">'worked_at'</span>: <span style=\"font-weight: bold\">[]</span>,\n",
       "    <span style=\"color: #008000; text-decoration-color: #008000\">'country_of_citizenship'</span>: <span style=\"font-weight: bold\">[{</span><span style=\"color: #008000; text-decoration-color: #008000\">'numeric_id'</span>: <span style=\"color: #008000; text-decoration-color: #008000\">'183'</span><span style=\"font-weight: bold\">}]</span>,\n",
       "    <span style=\"color: #008000; text-decoration-color: #008000\">'country'</span>: <span style=\"font-weight: bold\">[]</span>,\n",
       "    <span style=\"color: #008000; text-decoration-color: #008000\">'educated_at'</span>: <span style=\"font-weight: bold\">[]</span>,\n",
       "    <span style=\"color: #008000; text-decoration-color: #008000\">'occupation'</span>: <span style=\"font-weight: bold\">[{</span><span style=\"color: #008000; text-decoration-color: #008000\">'numeric_id'</span>: <span style=\"color: #008000; text-decoration-color: #008000\">'28389'</span><span style=\"font-weight: bold\">}</span>, <span style=\"font-weight: bold\">{</span><span style=\"color: #008000; text-decoration-color: #008000\">'numeric_id'</span>: <span style=\"color: #008000; text-decoration-color: #008000\">'7042855'</span><span style=\"font-weight: bold\">}</span>, <span style=\"font-weight: bold\">{</span><span style=\"color: #008000; text-decoration-color: #008000\">'numeric_id'</span>: <span style=\"color: #008000; text-decoration-color: #008000\">'36180'</span><span style=\"font-weight: bold\">}]</span>,\n",
       "    <span style=\"color: #008000; text-decoration-color: #008000\">'instrument'</span>: <span style=\"font-weight: bold\">[]</span>,\n",
       "    <span style=\"color: #008000; text-decoration-color: #008000\">'genre'</span>: <span style=\"font-weight: bold\">[]</span>,\n",
       "    <span style=\"color: #008000; text-decoration-color: #008000\">'industry'</span>: <span style=\"font-weight: bold\">[]</span>,\n",
       "    <span style=\"color: #008000; text-decoration-color: #008000\">'subclass_of'</span>: <span style=\"font-weight: bold\">[]</span>,\n",
       "    <span style=\"color: #008000; text-decoration-color: #008000\">'coordinate_location'</span>: <span style=\"font-weight: bold\">[]</span>,\n",
       "    <span style=\"color: #008000; text-decoration-color: #008000\">'iso_3166_alpha3'</span>: <span style=\"font-weight: bold\">[]</span>,\n",
       "    <span style=\"color: #008000; text-decoration-color: #008000\">'member_of'</span>: <span style=\"font-weight: bold\">[]</span>,\n",
       "    <span style=\"color: #008000; text-decoration-color: #008000\">'from_fictional_universe'</span>: <span style=\"font-weight: bold\">[]</span>\n",
       "<span style=\"font-weight: bold\">}</span>\n",
       "</pre>\n"
      ],
      "text/plain": [
       "\u001b[1m{\u001b[0m\n",
       "    \u001b[32m'id'\u001b[0m: \u001b[32m'Q17122148'\u001b[0m,\n",
       "    \u001b[32m'numeric_id'\u001b[0m: \u001b[32m'17122148'\u001b[0m,\n",
       "    \u001b[32m'en_label'\u001b[0m: \u001b[32m'Albrecht Joseph'\u001b[0m,\n",
       "    \u001b[32m'en_wiki'\u001b[0m: \u001b[32m'Albrecht_Joseph'\u001b[0m,\n",
       "    \u001b[32m'en_description'\u001b[0m: \u001b[32m'German screenwriter, film editor and author'\u001b[0m,\n",
       "    \u001b[32m'type'\u001b[0m: \u001b[32m'item'\u001b[0m,\n",
       "    \u001b[32m'sitelinks'\u001b[0m: \u001b[1m[\u001b[0m\n",
       "        \u001b[1m{\u001b[0m\u001b[32m'site'\u001b[0m: \u001b[32m'dewiki'\u001b[0m, \u001b[32m'title'\u001b[0m: \u001b[32m'Albrecht Joseph'\u001b[0m, \u001b[32m'encoded'\u001b[0m: \u001b[32m'Albrecht_Joseph'\u001b[0m\u001b[1m}\u001b[0m,\n",
       "        \u001b[1m{\u001b[0m\u001b[32m'site'\u001b[0m: \u001b[32m'enwiki'\u001b[0m, \u001b[32m'title'\u001b[0m: \u001b[32m'Albrecht Joseph'\u001b[0m, \u001b[32m'encoded'\u001b[0m: \u001b[32m'Albrecht_Joseph'\u001b[0m\u001b[1m}\u001b[0m,\n",
       "        \u001b[1m{\u001b[0m\u001b[32m'site'\u001b[0m: \u001b[32m'frwiki'\u001b[0m, \u001b[32m'title'\u001b[0m: \u001b[32m'Albrecht Joseph'\u001b[0m, \u001b[32m'encoded'\u001b[0m: \u001b[32m'Albrecht_Joseph'\u001b[0m\u001b[1m}\u001b[0m,\n",
       "        \u001b[1m{\u001b[0m\u001b[32m'site'\u001b[0m: \u001b[32m'arwiki'\u001b[0m, \u001b[32m'title'\u001b[0m: \u001b[32m'ألبرشت جوزيف'\u001b[0m, \u001b[32m'encoded'\u001b[0m: \u001b[32m'ألبرشت_جوزيف'\u001b[0m\u001b[1m}\u001b[0m,\n",
       "        \u001b[1m{\u001b[0m\u001b[32m'site'\u001b[0m: \u001b[32m'arzwiki'\u001b[0m, \u001b[32m'title'\u001b[0m: \u001b[32m'البرشت چوزيف'\u001b[0m, \u001b[32m'encoded'\u001b[0m: \u001b[32m'البرشت_چوزيف'\u001b[0m\u001b[1m}\u001b[0m,\n",
       "        \u001b[1m{\u001b[0m\u001b[32m'site'\u001b[0m: \u001b[32m'fawiki'\u001b[0m, \u001b[32m'title'\u001b[0m: \u001b[32m'آلبرشت یوزف'\u001b[0m, \u001b[32m'encoded'\u001b[0m: \u001b[32m'آلبرشت_یوزف'\u001b[0m\u001b[1m}\u001b[0m\n",
       "    \u001b[1m]\u001b[0m,\n",
       "    \u001b[32m'descriptions'\u001b[0m: \u001b[1m[\u001b[0m\n",
       "        \u001b[1m{\u001b[0m\u001b[32m'language'\u001b[0m: \u001b[32m'de'\u001b[0m, \u001b[32m'value'\u001b[0m: \u001b[32m'deutsch-amerikanischer Theater- und Filmschaffender'\u001b[0m\u001b[1m}\u001b[0m,\n",
       "        \u001b[1m{\u001b[0m\u001b[32m'language'\u001b[0m: \u001b[32m'fa'\u001b[0m, \u001b[32m'value'\u001b[0m: \u001b[32m'فیلمنامه\\u200cنویس، تدوینگر، و نویسنده آلمانی'\u001b[0m\u001b[1m}\u001b[0m,\n",
       "        \u001b[1m{\u001b[0m\u001b[32m'language'\u001b[0m: \u001b[32m'en'\u001b[0m, \u001b[32m'value'\u001b[0m: \u001b[32m'German screenwriter, film editor and author'\u001b[0m\u001b[1m}\u001b[0m,\n",
       "        \u001b[1m{\u001b[0m\u001b[32m'language'\u001b[0m: \u001b[32m'nl'\u001b[0m, \u001b[32m'value'\u001b[0m: \u001b[32m'Duits scenarioschrijver \u001b[0m\u001b[32m(\u001b[0m\u001b[32m1901-1991\u001b[0m\u001b[32m)\u001b[0m\u001b[32m'\u001b[0m\u001b[1m}\u001b[0m,\n",
       "        \u001b[1m{\u001b[0m\u001b[32m'language'\u001b[0m: \u001b[32m'sv'\u001b[0m, \u001b[32m'value'\u001b[0m: \u001b[32m'tysk författare och filmklippare'\u001b[0m\u001b[1m}\u001b[0m\n",
       "    \u001b[1m]\u001b[0m,\n",
       "    \u001b[32m'labels'\u001b[0m: \u001b[1m[\u001b[0m\n",
       "        \u001b[1m{\u001b[0m\u001b[32m'language'\u001b[0m: \u001b[32m'de'\u001b[0m, \u001b[32m'value'\u001b[0m: \u001b[32m'Albrecht Joseph'\u001b[0m\u001b[1m}\u001b[0m,\n",
       "        \u001b[1m{\u001b[0m\u001b[32m'language'\u001b[0m: \u001b[32m'fr'\u001b[0m, \u001b[32m'value'\u001b[0m: \u001b[32m'Albrecht Joseph'\u001b[0m\u001b[1m}\u001b[0m,\n",
       "        \u001b[1m{\u001b[0m\u001b[32m'language'\u001b[0m: \u001b[32m'nl'\u001b[0m, \u001b[32m'value'\u001b[0m: \u001b[32m'Albrecht Joseph'\u001b[0m\u001b[1m}\u001b[0m,\n",
       "        \u001b[1m{\u001b[0m\u001b[32m'language'\u001b[0m: \u001b[32m'en'\u001b[0m, \u001b[32m'value'\u001b[0m: \u001b[32m'Albrecht Joseph'\u001b[0m\u001b[1m}\u001b[0m,\n",
       "        \u001b[1m{\u001b[0m\u001b[32m'language'\u001b[0m: \u001b[32m'es'\u001b[0m, \u001b[32m'value'\u001b[0m: \u001b[32m'Albrecht Joseph'\u001b[0m\u001b[1m}\u001b[0m,\n",
       "        \u001b[1m{\u001b[0m\u001b[32m'language'\u001b[0m: \u001b[32m'hu'\u001b[0m, \u001b[32m'value'\u001b[0m: \u001b[32m'Albrecht Joseph'\u001b[0m\u001b[1m}\u001b[0m,\n",
       "        \u001b[1m{\u001b[0m\u001b[32m'language'\u001b[0m: \u001b[32m'sl'\u001b[0m, \u001b[32m'value'\u001b[0m: \u001b[32m'Albrecht Joseph'\u001b[0m\u001b[1m}\u001b[0m,\n",
       "        \u001b[1m{\u001b[0m\u001b[32m'language'\u001b[0m: \u001b[32m'ca'\u001b[0m, \u001b[32m'value'\u001b[0m: \u001b[32m'Albrecht Joseph'\u001b[0m\u001b[1m}\u001b[0m,\n",
       "        \u001b[1m{\u001b[0m\u001b[32m'language'\u001b[0m: \u001b[32m'ast'\u001b[0m, \u001b[32m'value'\u001b[0m: \u001b[32m'Albrecht Joseph'\u001b[0m\u001b[1m}\u001b[0m,\n",
       "        \u001b[1m{\u001b[0m\u001b[32m'language'\u001b[0m: \u001b[32m'ar'\u001b[0m, \u001b[32m'value'\u001b[0m: \u001b[32m'ألبرشت جوزيف'\u001b[0m\u001b[1m}\u001b[0m,\n",
       "        \u001b[1m{\u001b[0m\u001b[32m'language'\u001b[0m: \u001b[32m'cs'\u001b[0m, \u001b[32m'value'\u001b[0m: \u001b[32m'Albrecht Joseph'\u001b[0m\u001b[1m}\u001b[0m,\n",
       "        \u001b[1m{\u001b[0m\u001b[32m'language'\u001b[0m: \u001b[32m'sk'\u001b[0m, \u001b[32m'value'\u001b[0m: \u001b[32m'Albrecht Joseph'\u001b[0m\u001b[1m}\u001b[0m,\n",
       "        \u001b[1m{\u001b[0m\u001b[32m'language'\u001b[0m: \u001b[32m'arz'\u001b[0m, \u001b[32m'value'\u001b[0m: \u001b[32m'البرشت چوزيف'\u001b[0m\u001b[1m}\u001b[0m,\n",
       "        \u001b[1m{\u001b[0m\u001b[32m'language'\u001b[0m: \u001b[32m'it'\u001b[0m, \u001b[32m'value'\u001b[0m: \u001b[32m'Albrecht Joseph'\u001b[0m\u001b[1m}\u001b[0m,\n",
       "        \u001b[1m{\u001b[0m\u001b[32m'language'\u001b[0m: \u001b[32m'sq'\u001b[0m, \u001b[32m'value'\u001b[0m: \u001b[32m'Albrecht Joseph'\u001b[0m\u001b[1m}\u001b[0m,\n",
       "        \u001b[1m{\u001b[0m\u001b[32m'language'\u001b[0m: \u001b[32m'he'\u001b[0m, \u001b[32m'value'\u001b[0m: \u001b[32m\"אלברכט ג'וזף\"\u001b[0m\u001b[1m}\u001b[0m,\n",
       "        \u001b[1m{\u001b[0m\u001b[32m'language'\u001b[0m: \u001b[32m'sv'\u001b[0m, \u001b[32m'value'\u001b[0m: \u001b[32m'Albrecht Joseph'\u001b[0m\u001b[1m}\u001b[0m,\n",
       "        \u001b[1m{\u001b[0m\u001b[32m'language'\u001b[0m: \u001b[32m'ga'\u001b[0m, \u001b[32m'value'\u001b[0m: \u001b[32m'Albrecht Joseph'\u001b[0m\u001b[1m}\u001b[0m,\n",
       "        \u001b[1m{\u001b[0m\u001b[32m'language'\u001b[0m: \u001b[32m'fa'\u001b[0m, \u001b[32m'value'\u001b[0m: \u001b[32m'آلبرشت یوزف'\u001b[0m\u001b[1m}\u001b[0m,\n",
       "        \u001b[1m{\u001b[0m\u001b[32m'language'\u001b[0m: \u001b[32m'ru'\u001b[0m, \u001b[32m'value'\u001b[0m: \u001b[32m'Элбрехт Джозеф'\u001b[0m\u001b[1m}\u001b[0m\n",
       "    \u001b[1m]\u001b[0m,\n",
       "    \u001b[32m'aliases'\u001b[0m: \u001b[1m[\u001b[0m\n",
       "        \u001b[1m{\u001b[0m\u001b[32m'language'\u001b[0m: \u001b[32m'de'\u001b[0m, \u001b[32m'value'\u001b[0m: \u001b[32m'Al Joseph'\u001b[0m\u001b[1m}\u001b[0m,\n",
       "        \u001b[1m{\u001b[0m\u001b[32m'language'\u001b[0m: \u001b[32m'en'\u001b[0m, \u001b[32m'value'\u001b[0m: \u001b[32m'Al Joseph'\u001b[0m\u001b[1m}\u001b[0m,\n",
       "        \u001b[1m{\u001b[0m\u001b[32m'language'\u001b[0m: \u001b[32m'cs'\u001b[0m, \u001b[32m'value'\u001b[0m: \u001b[32m'Al Joseph'\u001b[0m\u001b[1m}\u001b[0m,\n",
       "        \u001b[1m{\u001b[0m\u001b[32m'language'\u001b[0m: \u001b[32m'sk'\u001b[0m, \u001b[32m'value'\u001b[0m: \u001b[32m'Al Joseph'\u001b[0m\u001b[1m}\u001b[0m\n",
       "    \u001b[1m]\u001b[0m,\n",
       "    \u001b[32m'instance_of'\u001b[0m: \u001b[1m[\u001b[0m\u001b[1m{\u001b[0m\u001b[32m'numeric_id'\u001b[0m: \u001b[32m'5'\u001b[0m\u001b[1m}\u001b[0m\u001b[1m]\u001b[0m,\n",
       "    \u001b[32m'gender'\u001b[0m: \u001b[1m[\u001b[0m\u001b[1m{\u001b[0m\u001b[32m'numeric_id'\u001b[0m: \u001b[32m'6581097'\u001b[0m\u001b[1m}\u001b[0m\u001b[1m]\u001b[0m,\n",
       "    \u001b[32m'date_of_birth'\u001b[0m: \u001b[1m[\u001b[0m\u001b[1m{\u001b[0m\u001b[32m'time'\u001b[0m: \u001b[32m'+1901-11-20T00:00:00Z'\u001b[0m\u001b[1m}\u001b[0m\u001b[1m]\u001b[0m,\n",
       "    \u001b[32m'date_of_death'\u001b[0m: \u001b[1m[\u001b[0m\u001b[1m{\u001b[0m\u001b[32m'time'\u001b[0m: \u001b[32m'+1901-11-20T00:00:00Z'\u001b[0m\u001b[1m}\u001b[0m\u001b[1m]\u001b[0m,\n",
       "    \u001b[32m'worked_at'\u001b[0m: \u001b[1m[\u001b[0m\u001b[1m]\u001b[0m,\n",
       "    \u001b[32m'country_of_citizenship'\u001b[0m: \u001b[1m[\u001b[0m\u001b[1m{\u001b[0m\u001b[32m'numeric_id'\u001b[0m: \u001b[32m'183'\u001b[0m\u001b[1m}\u001b[0m\u001b[1m]\u001b[0m,\n",
       "    \u001b[32m'country'\u001b[0m: \u001b[1m[\u001b[0m\u001b[1m]\u001b[0m,\n",
       "    \u001b[32m'educated_at'\u001b[0m: \u001b[1m[\u001b[0m\u001b[1m]\u001b[0m,\n",
       "    \u001b[32m'occupation'\u001b[0m: \u001b[1m[\u001b[0m\u001b[1m{\u001b[0m\u001b[32m'numeric_id'\u001b[0m: \u001b[32m'28389'\u001b[0m\u001b[1m}\u001b[0m, \u001b[1m{\u001b[0m\u001b[32m'numeric_id'\u001b[0m: \u001b[32m'7042855'\u001b[0m\u001b[1m}\u001b[0m, \u001b[1m{\u001b[0m\u001b[32m'numeric_id'\u001b[0m: \u001b[32m'36180'\u001b[0m\u001b[1m}\u001b[0m\u001b[1m]\u001b[0m,\n",
       "    \u001b[32m'instrument'\u001b[0m: \u001b[1m[\u001b[0m\u001b[1m]\u001b[0m,\n",
       "    \u001b[32m'genre'\u001b[0m: \u001b[1m[\u001b[0m\u001b[1m]\u001b[0m,\n",
       "    \u001b[32m'industry'\u001b[0m: \u001b[1m[\u001b[0m\u001b[1m]\u001b[0m,\n",
       "    \u001b[32m'subclass_of'\u001b[0m: \u001b[1m[\u001b[0m\u001b[1m]\u001b[0m,\n",
       "    \u001b[32m'coordinate_location'\u001b[0m: \u001b[1m[\u001b[0m\u001b[1m]\u001b[0m,\n",
       "    \u001b[32m'iso_3166_alpha3'\u001b[0m: \u001b[1m[\u001b[0m\u001b[1m]\u001b[0m,\n",
       "    \u001b[32m'member_of'\u001b[0m: \u001b[1m[\u001b[0m\u001b[1m]\u001b[0m,\n",
       "    \u001b[32m'from_fictional_universe'\u001b[0m: \u001b[1m[\u001b[0m\u001b[1m]\u001b[0m\n",
       "\u001b[1m}\u001b[0m\n"
      ]
     },
     "metadata": {},
     "output_type": "display_data"
    }
   ],
   "source": [
    "info_files = (RAW_DATA_DIR / 'wikidata').glob('*')\n",
    "with open(next(info_files)) as f:\n",
    "    for line in f:\n",
    "        d = json.loads(line)\n",
    "        sites = [sitelink['site'] for sitelink in d['sitelinks']]\n",
    "        if 'enwiki' in sites:\n",
    "            print(d)\n",
    "            break\n",
    "    "
   ]
  },
  {
   "cell_type": "code",
   "execution_count": 2,
   "metadata": {},
   "outputs": [
    {
     "data": {
      "text/html": [
       "<div><style>\n",
       ".dataframe > thead > tr,\n",
       ".dataframe > tbody > tr {\n",
       "  text-align: right;\n",
       "  white-space: pre-wrap;\n",
       "}\n",
       "</style>\n",
       "<small>shape: (5, 27)</small><table border=\"1\" class=\"dataframe\"><thead><tr><th>id</th><th>numeric_id</th><th>en_label</th><th>en_wiki</th><th>en_description</th><th>type</th><th>sitelinks</th><th>descriptions</th><th>labels</th><th>aliases</th><th>instance_of</th><th>gender</th><th>date_of_birth</th><th>date_of_death</th><th>worked_at</th><th>country_of_citizenship</th><th>country</th><th>educated_at</th><th>occupation</th><th>instrument</th><th>genre</th><th>industry</th><th>subclass_of</th><th>coordinate_location</th><th>iso_3166_alpha3</th><th>member_of</th><th>from_fictional_universe</th></tr><tr><td>str</td><td>str</td><td>str</td><td>str</td><td>str</td><td>str</td><td>list[struct[3]]</td><td>list[struct[2]]</td><td>list[struct[2]]</td><td>list[struct[2]]</td><td>list[struct[1]]</td><td>list[struct[1]]</td><td>list[struct[1]]</td><td>list[struct[1]]</td><td>list[struct[1]]</td><td>list[struct[1]]</td><td>list[struct[1]]</td><td>list[struct[1]]</td><td>list[struct[1]]</td><td>list[struct[1]]</td><td>list[struct[1]]</td><td>list[struct[1]]</td><td>list[struct[1]]</td><td>list[struct[2]]</td><td>list[null]</td><td>list[struct[1]]</td><td>list[struct[1]]</td></tr></thead><tbody><tr><td>&quot;Q17122148&quot;</td><td>&quot;17122148&quot;</td><td>&quot;Albrecht Josep…</td><td>&quot;Albrecht_Josep…</td><td>&quot;German screenw…</td><td>&quot;item&quot;</td><td>[{&quot;dewiki&quot;,&quot;Albrecht Joseph&quot;,&quot;Albrecht_Joseph&quot;}, {&quot;enwiki&quot;,&quot;Albrecht Joseph&quot;,&quot;Albrecht_Joseph&quot;}, … {&quot;fawiki&quot;,&quot;آلبرشت یوزف&quot;,&quot;آلبرشت_یوزف&quot;}]</td><td>[{&quot;de&quot;,&quot;deutsch-amerikanischer Theater- und Filmschaffender&quot;}, {&quot;fa&quot;,&quot;فیلمنامه‌نویس، تدوینگر، و نویسنده آلمانی&quot;}, … {&quot;sv&quot;,&quot;tysk författare och filmklippare&quot;}]</td><td>[{&quot;de&quot;,&quot;Albrecht Joseph&quot;}, {&quot;fr&quot;,&quot;Albrecht Joseph&quot;}, … {&quot;ru&quot;,&quot;Элбрехт Джозеф&quot;}]</td><td>[{&quot;de&quot;,&quot;Al Joseph&quot;}, {&quot;en&quot;,&quot;Al Joseph&quot;}, … {&quot;sk&quot;,&quot;Al Joseph&quot;}]</td><td>[{&quot;5&quot;}]</td><td>[{&quot;6581097&quot;}]</td><td>[{&quot;+1901-11-20T00:00:00Z&quot;}]</td><td>[{&quot;+1901-11-20T00:00:00Z&quot;}]</td><td>[]</td><td>[{&quot;183&quot;}]</td><td>[]</td><td>[]</td><td>[{&quot;28389&quot;}, {&quot;7042855&quot;}, {&quot;36180&quot;}]</td><td>[]</td><td>[]</td><td>[]</td><td>[]</td><td>[]</td><td>[]</td><td>[]</td><td>[]</td></tr><tr><td>&quot;Q100707809&quot;</td><td>&quot;100707809&quot;</td><td>&quot;Robert Cahaly&quot;</td><td>&quot;Robert_Cahaly&quot;</td><td>&quot;American polls…</td><td>&quot;item&quot;</td><td>[{&quot;enwiki&quot;,&quot;Robert Cahaly&quot;,&quot;Robert_Cahaly&quot;}, {&quot;jawiki&quot;,&quot;ロバート・カヘリー&quot;,&quot;ロバート・カヘリー&quot;}]</td><td>[{&quot;en&quot;,&quot;American pollster and political consultant&quot;}, {&quot;zh&quot;,&quot;美国民调专家&quot;}]</td><td>[{&quot;en&quot;,&quot;Robert Cahaly&quot;}, {&quot;de&quot;,&quot;Robert Cahaly&quot;}, … {&quot;pt-br&quot;,&quot;Robert Cahaly&quot;}]</td><td>[]</td><td>[{&quot;5&quot;}]</td><td>[{&quot;6581097&quot;}]</td><td>[]</td><td>[]</td><td>[{&quot;100704905&quot;}]</td><td>[{&quot;30&quot;}]</td><td>[]</td><td>[{&quot;1024426&quot;}]</td><td>[{&quot;16919156&quot;}, {&quot;8125919&quot;}]</td><td>[]</td><td>[]</td><td>[]</td><td>[]</td><td>[]</td><td>[]</td><td>[]</td><td>[]</td></tr><tr><td>&quot;Q8988407&quot;</td><td>&quot;8988407&quot;</td><td>&quot;Li Fei&quot;</td><td>&quot;Lei_Fei&quot;</td><td>&quot;actor, busines…</td><td>&quot;item&quot;</td><td>[{&quot;zhwiki&quot;,&quot;李菲&quot;,&quot;李菲&quot;}, {&quot;enwiki&quot;,&quot;Lei Fei&quot;,&quot;Lei_Fei&quot;}]</td><td>[{&quot;nl&quot;,&quot;ondernemer&quot;}, {&quot;en&quot;,&quot;actor, businesswoman, and wushu taolu athlete from Macau&quot;}]</td><td>[{&quot;zh&quot;,&quot;李菲&quot;}, {&quot;en&quot;,&quot;Li Fei&quot;}, … {&quot;sq&quot;,&quot;Jewel Lee&quot;}]</td><td>[{&quot;en&quot;,&quot;Jewel Lee&quot;}]</td><td>[{&quot;5&quot;}]</td><td>[{&quot;6581072&quot;}]</td><td>[]</td><td>[]</td><td>[]</td><td>[]</td><td>[]</td><td>[]</td><td>[{&quot;43845&quot;}]</td><td>[]</td><td>[]</td><td>[]</td><td>[]</td><td>[]</td><td>[]</td><td>[]</td><td>[]</td></tr><tr><td>&quot;Q3588237&quot;</td><td>&quot;3588237&quot;</td><td>&quot;Yang Ti-liang&quot;</td><td>&quot;Yang_Ti-liang&quot;</td><td>&quot;Hong Kong judg…</td><td>&quot;item&quot;</td><td>[{&quot;enwiki&quot;,&quot;Yang Ti-liang&quot;,&quot;Yang_Ti-liang&quot;}, {&quot;zhwiki&quot;,&quot;楊鐵樑&quot;,&quot;楊鐵樑&quot;}, … {&quot;kowiki&quot;,&quot;양톄량&quot;,&quot;양톄량&quot;}]</td><td>[{&quot;en&quot;,&quot;Hong Kong judge (1929–2023)&quot;}, {&quot;nl&quot;,&quot;rechter uit Brunei&quot;}, … {&quot;ko&quot;,&quot;홍콩의 판사 (1929–2023)&quot;}]</td><td>[{&quot;en&quot;,&quot;Yang Ti-liang&quot;}, {&quot;en-ca&quot;,&quot;Yang Ti-liang&quot;}, … {&quot;pap&quot;,&quot;Yang Ti-liang&quot;}]</td><td>[{&quot;en&quot;,&quot;Sir Ti-liang Yang&quot;}, {&quot;ko&quot;,&quot;양티량&quot;}, {&quot;ko&quot;,&quot;양철량&quot;}]</td><td>[{&quot;5&quot;}]</td><td>[{&quot;6581097&quot;}]</td><td>[{&quot;+1929-06-30T00:00:00Z&quot;}]</td><td>[{&quot;+1929-06-30T00:00:00Z&quot;}]</td><td>[]</td><td>[{&quot;148&quot;}]</td><td>[]</td><td>[{&quot;1639978&quot;}, {&quot;193196&quot;}]</td><td>[{&quot;16533&quot;}, {&quot;329455&quot;}, {&quot;82955&quot;}]</td><td>[]</td><td>[]</td><td>[]</td><td>[]</td><td>[]</td><td>[]</td><td>[{&quot;157412&quot;}]</td><td>[]</td></tr><tr><td>&quot;Q521785&quot;</td><td>&quot;521785&quot;</td><td>&quot;Mauro Sérgio V…</td><td>&quot;Maurinho_(foot…</td><td>&quot;Brazilian foot…</td><td>&quot;item&quot;</td><td>[{&quot;itwiki&quot;,&quot;Mauro Sérgio Viriato Mendes&quot;,&quot;Mauro_Sérgio_Viriato_Mendes&quot;}, {&quot;plwiki&quot;,&quot;Mauro Sérgio Viriato Mendes&quot;,&quot;Mauro_Sérgio_Viriato_Mendes&quot;}, … {&quot;trwiki&quot;,&quot;Maurinho (1978 doğumlu futbolcu)&quot;,&quot;Maurinho_(1978_doğumlu_futbolcu)&quot;}]</td><td>[{&quot;it&quot;,&quot;calciatore brasiliano&quot;}, {&quot;fr&quot;,&quot;joueur de football brésilien&quot;}, … {&quot;mos&quot;,&quot;Bal tãongra&quot;}]</td><td>[{&quot;it&quot;,&quot;Mauro Sérgio Viriato Mendes&quot;}, {&quot;en&quot;,&quot;Mauro Sérgio Viriato Mendes&quot;}, … {&quot;tr&quot;,&quot;Maurinho (1978 doğumlu futbolcu)&quot;}]</td><td>[{&quot;es&quot;,&quot;Mauro Sergio Viriato Mendes&quot;}, {&quot;es&quot;,&quot;Maurinho&quot;}, … {&quot;fr&quot;,&quot;Maurinho&quot;}]</td><td>[{&quot;5&quot;}]</td><td>[{&quot;6581097&quot;}]</td><td>[{&quot;+1978-10-11T00:00:00Z&quot;}]</td><td>[{&quot;+1978-10-11T00:00:00Z&quot;}]</td><td>[]</td><td>[{&quot;155&quot;}]</td><td>[]</td><td>[]</td><td>[{&quot;937857&quot;}]</td><td>[]</td><td>[]</td><td>[]</td><td>[]</td><td>[]</td><td>[]</td><td>[]</td><td>[]</td></tr></tbody></table></div>"
      ],
      "text/plain": [
       "shape: (5, 27)\n",
       "┌───────────┬───────────┬───────────┬───────────┬───┬───────────┬───────────┬───────────┬──────────┐\n",
       "│ id        ┆ numeric_i ┆ en_label  ┆ en_wiki   ┆ … ┆ coordinat ┆ iso_3166_ ┆ member_of ┆ from_fic │\n",
       "│ ---       ┆ d         ┆ ---       ┆ ---       ┆   ┆ e_locatio ┆ alpha3    ┆ ---       ┆ tional_u │\n",
       "│ str       ┆ ---       ┆ str       ┆ str       ┆   ┆ n         ┆ ---       ┆ list[stru ┆ niverse  │\n",
       "│           ┆ str       ┆           ┆           ┆   ┆ ---       ┆ list[null ┆ ct[1]]    ┆ ---      │\n",
       "│           ┆           ┆           ┆           ┆   ┆ list[stru ┆ ]         ┆           ┆ list[str │\n",
       "│           ┆           ┆           ┆           ┆   ┆ ct[2]]    ┆           ┆           ┆ uct[1]]  │\n",
       "╞═══════════╪═══════════╪═══════════╪═══════════╪═══╪═══════════╪═══════════╪═══════════╪══════════╡\n",
       "│ Q17122148 ┆ 17122148  ┆ Albrecht  ┆ Albrecht_ ┆ … ┆ []        ┆ []        ┆ []        ┆ []       │\n",
       "│           ┆           ┆ Joseph    ┆ Joseph    ┆   ┆           ┆           ┆           ┆          │\n",
       "│ Q10070780 ┆ 100707809 ┆ Robert    ┆ Robert_Ca ┆ … ┆ []        ┆ []        ┆ []        ┆ []       │\n",
       "│ 9         ┆           ┆ Cahaly    ┆ haly      ┆   ┆           ┆           ┆           ┆          │\n",
       "│ Q8988407  ┆ 8988407   ┆ Li Fei    ┆ Lei_Fei   ┆ … ┆ []        ┆ []        ┆ []        ┆ []       │\n",
       "│ Q3588237  ┆ 3588237   ┆ Yang      ┆ Yang_Ti-l ┆ … ┆ []        ┆ []        ┆ [{\"157412 ┆ []       │\n",
       "│           ┆           ┆ Ti-liang  ┆ iang      ┆   ┆           ┆           ┆ \"}]       ┆          │\n",
       "│ Q521785   ┆ 521785    ┆ Mauro     ┆ Maurinho_ ┆ … ┆ []        ┆ []        ┆ []        ┆ []       │\n",
       "│           ┆           ┆ Sérgio    ┆ (football ┆   ┆           ┆           ┆           ┆          │\n",
       "│           ┆           ┆ Viriato   ┆ er,_born_ ┆   ┆           ┆           ┆           ┆          │\n",
       "│           ┆           ┆ Mendes    ┆ 1978)     ┆   ┆           ┆           ┆           ┆          │\n",
       "└───────────┴───────────┴───────────┴───────────┴───┴───────────┴───────────┴───────────┴──────────┘"
      ]
     },
     "execution_count": 2,
     "metadata": {},
     "output_type": "execute_result"
    }
   ],
   "source": [
    "try:\n",
    "    info_df = pl.read_parquet(PROCESSED_DATA_DIR / 'wikidata_all.parquet')\n",
    "except FileNotFoundError:\n",
    "    info_list = []\n",
    "    info_files = (RAW_DATA_DIR / 'wikidata').glob('*')\n",
    "    for file in info_files:\n",
    "        with open(file) as f:\n",
    "            for line in f:\n",
    "                d = json.loads(line)\n",
    "                sites = [sitelink['site'] for sitelink in d['sitelinks']]\n",
    "                if 'enwiki' in sites:\n",
    "                    info_list.append(d)\n",
    "    info_df = pl.DataFrame(info_list)\n",
    "    \n",
    "info_df.head()"
   ]
  },
  {
   "cell_type": "markdown",
   "metadata": {},
   "source": [
    "Clean info dataframe"
   ]
  },
  {
   "cell_type": "code",
   "execution_count": 3,
   "metadata": {},
   "outputs": [
    {
     "data": {
      "text/html": [
       "<pre style=\"white-space:pre;overflow-x:auto;line-height:normal;font-family:Menlo,'DejaVu Sans Mono',consolas,'Courier New',monospace\"><span style=\"font-weight: bold\">{</span>\n",
       "    <span style=\"color: #008000; text-decoration-color: #008000\">'id'</span>: String,\n",
       "    <span style=\"color: #008000; text-decoration-color: #008000\">'numeric_id'</span>: String,\n",
       "    <span style=\"color: #008000; text-decoration-color: #008000\">'en_label'</span>: String,\n",
       "    <span style=\"color: #008000; text-decoration-color: #008000\">'en_wiki'</span>: String,\n",
       "    <span style=\"color: #008000; text-decoration-color: #008000\">'en_description'</span>: String,\n",
       "    <span style=\"color: #008000; text-decoration-color: #008000\">'type'</span>: String,\n",
       "    <span style=\"color: #008000; text-decoration-color: #008000\">'sitelinks'</span>: <span style=\"color: #800080; text-decoration-color: #800080; font-weight: bold\">List</span><span style=\"font-weight: bold\">(</span><span style=\"color: #800080; text-decoration-color: #800080; font-weight: bold\">Struct</span><span style=\"font-weight: bold\">({</span><span style=\"color: #008000; text-decoration-color: #008000\">'site'</span>: String, <span style=\"color: #008000; text-decoration-color: #008000\">'title'</span>: String, <span style=\"color: #008000; text-decoration-color: #008000\">'encoded'</span>: String<span style=\"font-weight: bold\">}))</span>,\n",
       "    <span style=\"color: #008000; text-decoration-color: #008000\">'descriptions'</span>: <span style=\"color: #800080; text-decoration-color: #800080; font-weight: bold\">List</span><span style=\"font-weight: bold\">(</span><span style=\"color: #800080; text-decoration-color: #800080; font-weight: bold\">Struct</span><span style=\"font-weight: bold\">({</span><span style=\"color: #008000; text-decoration-color: #008000\">'language'</span>: String, <span style=\"color: #008000; text-decoration-color: #008000\">'value'</span>: String<span style=\"font-weight: bold\">}))</span>,\n",
       "    <span style=\"color: #008000; text-decoration-color: #008000\">'labels'</span>: <span style=\"color: #800080; text-decoration-color: #800080; font-weight: bold\">List</span><span style=\"font-weight: bold\">(</span><span style=\"color: #800080; text-decoration-color: #800080; font-weight: bold\">Struct</span><span style=\"font-weight: bold\">({</span><span style=\"color: #008000; text-decoration-color: #008000\">'language'</span>: String, <span style=\"color: #008000; text-decoration-color: #008000\">'value'</span>: String<span style=\"font-weight: bold\">}))</span>,\n",
       "    <span style=\"color: #008000; text-decoration-color: #008000\">'aliases'</span>: <span style=\"color: #800080; text-decoration-color: #800080; font-weight: bold\">List</span><span style=\"font-weight: bold\">(</span><span style=\"color: #800080; text-decoration-color: #800080; font-weight: bold\">Struct</span><span style=\"font-weight: bold\">({</span><span style=\"color: #008000; text-decoration-color: #008000\">'language'</span>: String, <span style=\"color: #008000; text-decoration-color: #008000\">'value'</span>: String<span style=\"font-weight: bold\">}))</span>,\n",
       "    <span style=\"color: #008000; text-decoration-color: #008000\">'instance_of'</span>: <span style=\"color: #800080; text-decoration-color: #800080; font-weight: bold\">List</span><span style=\"font-weight: bold\">(</span><span style=\"color: #800080; text-decoration-color: #800080; font-weight: bold\">Struct</span><span style=\"font-weight: bold\">({</span><span style=\"color: #008000; text-decoration-color: #008000\">'numeric_id'</span>: String<span style=\"font-weight: bold\">}))</span>,\n",
       "    <span style=\"color: #008000; text-decoration-color: #008000\">'gender'</span>: <span style=\"color: #800080; text-decoration-color: #800080; font-weight: bold\">List</span><span style=\"font-weight: bold\">(</span><span style=\"color: #800080; text-decoration-color: #800080; font-weight: bold\">Struct</span><span style=\"font-weight: bold\">({</span><span style=\"color: #008000; text-decoration-color: #008000\">'numeric_id'</span>: String<span style=\"font-weight: bold\">}))</span>,\n",
       "    <span style=\"color: #008000; text-decoration-color: #008000\">'date_of_birth'</span>: <span style=\"color: #800080; text-decoration-color: #800080; font-weight: bold\">List</span><span style=\"font-weight: bold\">(</span><span style=\"color: #800080; text-decoration-color: #800080; font-weight: bold\">Struct</span><span style=\"font-weight: bold\">({</span><span style=\"color: #008000; text-decoration-color: #008000\">'time'</span>: String<span style=\"font-weight: bold\">}))</span>,\n",
       "    <span style=\"color: #008000; text-decoration-color: #008000\">'date_of_death'</span>: <span style=\"color: #800080; text-decoration-color: #800080; font-weight: bold\">List</span><span style=\"font-weight: bold\">(</span><span style=\"color: #800080; text-decoration-color: #800080; font-weight: bold\">Struct</span><span style=\"font-weight: bold\">({</span><span style=\"color: #008000; text-decoration-color: #008000\">'time'</span>: String<span style=\"font-weight: bold\">}))</span>,\n",
       "    <span style=\"color: #008000; text-decoration-color: #008000\">'worked_at'</span>: <span style=\"color: #800080; text-decoration-color: #800080; font-weight: bold\">List</span><span style=\"font-weight: bold\">(</span><span style=\"color: #800080; text-decoration-color: #800080; font-weight: bold\">Struct</span><span style=\"font-weight: bold\">({</span><span style=\"color: #008000; text-decoration-color: #008000\">'numeric_id'</span>: String<span style=\"font-weight: bold\">}))</span>,\n",
       "    <span style=\"color: #008000; text-decoration-color: #008000\">'country_of_citizenship'</span>: <span style=\"color: #800080; text-decoration-color: #800080; font-weight: bold\">List</span><span style=\"font-weight: bold\">(</span><span style=\"color: #800080; text-decoration-color: #800080; font-weight: bold\">Struct</span><span style=\"font-weight: bold\">({</span><span style=\"color: #008000; text-decoration-color: #008000\">'numeric_id'</span>: String<span style=\"font-weight: bold\">}))</span>,\n",
       "    <span style=\"color: #008000; text-decoration-color: #008000\">'country'</span>: <span style=\"color: #800080; text-decoration-color: #800080; font-weight: bold\">List</span><span style=\"font-weight: bold\">(</span><span style=\"color: #800080; text-decoration-color: #800080; font-weight: bold\">Struct</span><span style=\"font-weight: bold\">({</span><span style=\"color: #008000; text-decoration-color: #008000\">'numeric_id'</span>: String<span style=\"font-weight: bold\">}))</span>,\n",
       "    <span style=\"color: #008000; text-decoration-color: #008000\">'educated_at'</span>: <span style=\"color: #800080; text-decoration-color: #800080; font-weight: bold\">List</span><span style=\"font-weight: bold\">(</span><span style=\"color: #800080; text-decoration-color: #800080; font-weight: bold\">Struct</span><span style=\"font-weight: bold\">({</span><span style=\"color: #008000; text-decoration-color: #008000\">'numeric_id'</span>: String<span style=\"font-weight: bold\">}))</span>,\n",
       "    <span style=\"color: #008000; text-decoration-color: #008000\">'occupation'</span>: <span style=\"color: #800080; text-decoration-color: #800080; font-weight: bold\">List</span><span style=\"font-weight: bold\">(</span><span style=\"color: #800080; text-decoration-color: #800080; font-weight: bold\">Struct</span><span style=\"font-weight: bold\">({</span><span style=\"color: #008000; text-decoration-color: #008000\">'numeric_id'</span>: String<span style=\"font-weight: bold\">}))</span>,\n",
       "    <span style=\"color: #008000; text-decoration-color: #008000\">'instrument'</span>: <span style=\"color: #800080; text-decoration-color: #800080; font-weight: bold\">List</span><span style=\"font-weight: bold\">(</span><span style=\"color: #800080; text-decoration-color: #800080; font-weight: bold\">Struct</span><span style=\"font-weight: bold\">({</span><span style=\"color: #008000; text-decoration-color: #008000\">'numeric_id'</span>: String<span style=\"font-weight: bold\">}))</span>,\n",
       "    <span style=\"color: #008000; text-decoration-color: #008000\">'genre'</span>: <span style=\"color: #800080; text-decoration-color: #800080; font-weight: bold\">List</span><span style=\"font-weight: bold\">(</span><span style=\"color: #800080; text-decoration-color: #800080; font-weight: bold\">Struct</span><span style=\"font-weight: bold\">({</span><span style=\"color: #008000; text-decoration-color: #008000\">'numeric_id'</span>: String<span style=\"font-weight: bold\">}))</span>,\n",
       "    <span style=\"color: #008000; text-decoration-color: #008000\">'industry'</span>: <span style=\"color: #800080; text-decoration-color: #800080; font-weight: bold\">List</span><span style=\"font-weight: bold\">(</span><span style=\"color: #800080; text-decoration-color: #800080; font-weight: bold\">Struct</span><span style=\"font-weight: bold\">({</span><span style=\"color: #008000; text-decoration-color: #008000\">'numeric_id'</span>: String<span style=\"font-weight: bold\">}))</span>,\n",
       "    <span style=\"color: #008000; text-decoration-color: #008000\">'subclass_of'</span>: <span style=\"color: #800080; text-decoration-color: #800080; font-weight: bold\">List</span><span style=\"font-weight: bold\">(</span><span style=\"color: #800080; text-decoration-color: #800080; font-weight: bold\">Struct</span><span style=\"font-weight: bold\">({</span><span style=\"color: #008000; text-decoration-color: #008000\">'numeric_id'</span>: String<span style=\"font-weight: bold\">}))</span>,\n",
       "    <span style=\"color: #008000; text-decoration-color: #008000\">'coordinate_location'</span>: <span style=\"color: #800080; text-decoration-color: #800080; font-weight: bold\">List</span><span style=\"font-weight: bold\">(</span><span style=\"color: #800080; text-decoration-color: #800080; font-weight: bold\">Struct</span><span style=\"font-weight: bold\">({</span><span style=\"color: #008000; text-decoration-color: #008000\">'latitude'</span>: Float64, <span style=\"color: #008000; text-decoration-color: #008000\">'longitude'</span>: Float64<span style=\"font-weight: bold\">}))</span>,\n",
       "    <span style=\"color: #008000; text-decoration-color: #008000\">'iso_3166_alpha3'</span>: <span style=\"color: #800080; text-decoration-color: #800080; font-weight: bold\">List</span><span style=\"font-weight: bold\">(</span>Null<span style=\"font-weight: bold\">)</span>,\n",
       "    <span style=\"color: #008000; text-decoration-color: #008000\">'member_of'</span>: <span style=\"color: #800080; text-decoration-color: #800080; font-weight: bold\">List</span><span style=\"font-weight: bold\">(</span><span style=\"color: #800080; text-decoration-color: #800080; font-weight: bold\">Struct</span><span style=\"font-weight: bold\">({</span><span style=\"color: #008000; text-decoration-color: #008000\">'numeric_id'</span>: String<span style=\"font-weight: bold\">}))</span>,\n",
       "    <span style=\"color: #008000; text-decoration-color: #008000\">'from_fictional_universe'</span>: <span style=\"color: #800080; text-decoration-color: #800080; font-weight: bold\">List</span><span style=\"font-weight: bold\">(</span><span style=\"color: #800080; text-decoration-color: #800080; font-weight: bold\">Struct</span><span style=\"font-weight: bold\">({</span><span style=\"color: #008000; text-decoration-color: #008000\">'numeric_id'</span>: String<span style=\"font-weight: bold\">}))</span>\n",
       "<span style=\"font-weight: bold\">}</span>\n",
       "</pre>\n"
      ],
      "text/plain": [
       "\u001b[1m{\u001b[0m\n",
       "    \u001b[32m'id'\u001b[0m: String,\n",
       "    \u001b[32m'numeric_id'\u001b[0m: String,\n",
       "    \u001b[32m'en_label'\u001b[0m: String,\n",
       "    \u001b[32m'en_wiki'\u001b[0m: String,\n",
       "    \u001b[32m'en_description'\u001b[0m: String,\n",
       "    \u001b[32m'type'\u001b[0m: String,\n",
       "    \u001b[32m'sitelinks'\u001b[0m: \u001b[1;35mList\u001b[0m\u001b[1m(\u001b[0m\u001b[1;35mStruct\u001b[0m\u001b[1m(\u001b[0m\u001b[1m{\u001b[0m\u001b[32m'site'\u001b[0m: String, \u001b[32m'title'\u001b[0m: String, \u001b[32m'encoded'\u001b[0m: String\u001b[1m}\u001b[0m\u001b[1m)\u001b[0m\u001b[1m)\u001b[0m,\n",
       "    \u001b[32m'descriptions'\u001b[0m: \u001b[1;35mList\u001b[0m\u001b[1m(\u001b[0m\u001b[1;35mStruct\u001b[0m\u001b[1m(\u001b[0m\u001b[1m{\u001b[0m\u001b[32m'language'\u001b[0m: String, \u001b[32m'value'\u001b[0m: String\u001b[1m}\u001b[0m\u001b[1m)\u001b[0m\u001b[1m)\u001b[0m,\n",
       "    \u001b[32m'labels'\u001b[0m: \u001b[1;35mList\u001b[0m\u001b[1m(\u001b[0m\u001b[1;35mStruct\u001b[0m\u001b[1m(\u001b[0m\u001b[1m{\u001b[0m\u001b[32m'language'\u001b[0m: String, \u001b[32m'value'\u001b[0m: String\u001b[1m}\u001b[0m\u001b[1m)\u001b[0m\u001b[1m)\u001b[0m,\n",
       "    \u001b[32m'aliases'\u001b[0m: \u001b[1;35mList\u001b[0m\u001b[1m(\u001b[0m\u001b[1;35mStruct\u001b[0m\u001b[1m(\u001b[0m\u001b[1m{\u001b[0m\u001b[32m'language'\u001b[0m: String, \u001b[32m'value'\u001b[0m: String\u001b[1m}\u001b[0m\u001b[1m)\u001b[0m\u001b[1m)\u001b[0m,\n",
       "    \u001b[32m'instance_of'\u001b[0m: \u001b[1;35mList\u001b[0m\u001b[1m(\u001b[0m\u001b[1;35mStruct\u001b[0m\u001b[1m(\u001b[0m\u001b[1m{\u001b[0m\u001b[32m'numeric_id'\u001b[0m: String\u001b[1m}\u001b[0m\u001b[1m)\u001b[0m\u001b[1m)\u001b[0m,\n",
       "    \u001b[32m'gender'\u001b[0m: \u001b[1;35mList\u001b[0m\u001b[1m(\u001b[0m\u001b[1;35mStruct\u001b[0m\u001b[1m(\u001b[0m\u001b[1m{\u001b[0m\u001b[32m'numeric_id'\u001b[0m: String\u001b[1m}\u001b[0m\u001b[1m)\u001b[0m\u001b[1m)\u001b[0m,\n",
       "    \u001b[32m'date_of_birth'\u001b[0m: \u001b[1;35mList\u001b[0m\u001b[1m(\u001b[0m\u001b[1;35mStruct\u001b[0m\u001b[1m(\u001b[0m\u001b[1m{\u001b[0m\u001b[32m'time'\u001b[0m: String\u001b[1m}\u001b[0m\u001b[1m)\u001b[0m\u001b[1m)\u001b[0m,\n",
       "    \u001b[32m'date_of_death'\u001b[0m: \u001b[1;35mList\u001b[0m\u001b[1m(\u001b[0m\u001b[1;35mStruct\u001b[0m\u001b[1m(\u001b[0m\u001b[1m{\u001b[0m\u001b[32m'time'\u001b[0m: String\u001b[1m}\u001b[0m\u001b[1m)\u001b[0m\u001b[1m)\u001b[0m,\n",
       "    \u001b[32m'worked_at'\u001b[0m: \u001b[1;35mList\u001b[0m\u001b[1m(\u001b[0m\u001b[1;35mStruct\u001b[0m\u001b[1m(\u001b[0m\u001b[1m{\u001b[0m\u001b[32m'numeric_id'\u001b[0m: String\u001b[1m}\u001b[0m\u001b[1m)\u001b[0m\u001b[1m)\u001b[0m,\n",
       "    \u001b[32m'country_of_citizenship'\u001b[0m: \u001b[1;35mList\u001b[0m\u001b[1m(\u001b[0m\u001b[1;35mStruct\u001b[0m\u001b[1m(\u001b[0m\u001b[1m{\u001b[0m\u001b[32m'numeric_id'\u001b[0m: String\u001b[1m}\u001b[0m\u001b[1m)\u001b[0m\u001b[1m)\u001b[0m,\n",
       "    \u001b[32m'country'\u001b[0m: \u001b[1;35mList\u001b[0m\u001b[1m(\u001b[0m\u001b[1;35mStruct\u001b[0m\u001b[1m(\u001b[0m\u001b[1m{\u001b[0m\u001b[32m'numeric_id'\u001b[0m: String\u001b[1m}\u001b[0m\u001b[1m)\u001b[0m\u001b[1m)\u001b[0m,\n",
       "    \u001b[32m'educated_at'\u001b[0m: \u001b[1;35mList\u001b[0m\u001b[1m(\u001b[0m\u001b[1;35mStruct\u001b[0m\u001b[1m(\u001b[0m\u001b[1m{\u001b[0m\u001b[32m'numeric_id'\u001b[0m: String\u001b[1m}\u001b[0m\u001b[1m)\u001b[0m\u001b[1m)\u001b[0m,\n",
       "    \u001b[32m'occupation'\u001b[0m: \u001b[1;35mList\u001b[0m\u001b[1m(\u001b[0m\u001b[1;35mStruct\u001b[0m\u001b[1m(\u001b[0m\u001b[1m{\u001b[0m\u001b[32m'numeric_id'\u001b[0m: String\u001b[1m}\u001b[0m\u001b[1m)\u001b[0m\u001b[1m)\u001b[0m,\n",
       "    \u001b[32m'instrument'\u001b[0m: \u001b[1;35mList\u001b[0m\u001b[1m(\u001b[0m\u001b[1;35mStruct\u001b[0m\u001b[1m(\u001b[0m\u001b[1m{\u001b[0m\u001b[32m'numeric_id'\u001b[0m: String\u001b[1m}\u001b[0m\u001b[1m)\u001b[0m\u001b[1m)\u001b[0m,\n",
       "    \u001b[32m'genre'\u001b[0m: \u001b[1;35mList\u001b[0m\u001b[1m(\u001b[0m\u001b[1;35mStruct\u001b[0m\u001b[1m(\u001b[0m\u001b[1m{\u001b[0m\u001b[32m'numeric_id'\u001b[0m: String\u001b[1m}\u001b[0m\u001b[1m)\u001b[0m\u001b[1m)\u001b[0m,\n",
       "    \u001b[32m'industry'\u001b[0m: \u001b[1;35mList\u001b[0m\u001b[1m(\u001b[0m\u001b[1;35mStruct\u001b[0m\u001b[1m(\u001b[0m\u001b[1m{\u001b[0m\u001b[32m'numeric_id'\u001b[0m: String\u001b[1m}\u001b[0m\u001b[1m)\u001b[0m\u001b[1m)\u001b[0m,\n",
       "    \u001b[32m'subclass_of'\u001b[0m: \u001b[1;35mList\u001b[0m\u001b[1m(\u001b[0m\u001b[1;35mStruct\u001b[0m\u001b[1m(\u001b[0m\u001b[1m{\u001b[0m\u001b[32m'numeric_id'\u001b[0m: String\u001b[1m}\u001b[0m\u001b[1m)\u001b[0m\u001b[1m)\u001b[0m,\n",
       "    \u001b[32m'coordinate_location'\u001b[0m: \u001b[1;35mList\u001b[0m\u001b[1m(\u001b[0m\u001b[1;35mStruct\u001b[0m\u001b[1m(\u001b[0m\u001b[1m{\u001b[0m\u001b[32m'latitude'\u001b[0m: Float64, \u001b[32m'longitude'\u001b[0m: Float64\u001b[1m}\u001b[0m\u001b[1m)\u001b[0m\u001b[1m)\u001b[0m,\n",
       "    \u001b[32m'iso_3166_alpha3'\u001b[0m: \u001b[1;35mList\u001b[0m\u001b[1m(\u001b[0mNull\u001b[1m)\u001b[0m,\n",
       "    \u001b[32m'member_of'\u001b[0m: \u001b[1;35mList\u001b[0m\u001b[1m(\u001b[0m\u001b[1;35mStruct\u001b[0m\u001b[1m(\u001b[0m\u001b[1m{\u001b[0m\u001b[32m'numeric_id'\u001b[0m: String\u001b[1m}\u001b[0m\u001b[1m)\u001b[0m\u001b[1m)\u001b[0m,\n",
       "    \u001b[32m'from_fictional_universe'\u001b[0m: \u001b[1;35mList\u001b[0m\u001b[1m(\u001b[0m\u001b[1;35mStruct\u001b[0m\u001b[1m(\u001b[0m\u001b[1m{\u001b[0m\u001b[32m'numeric_id'\u001b[0m: String\u001b[1m}\u001b[0m\u001b[1m)\u001b[0m\u001b[1m)\u001b[0m\n",
       "\u001b[1m}\u001b[0m\n"
      ]
     },
     "metadata": {},
     "output_type": "display_data"
    }
   ],
   "source": [
    "print(dict(zip(info_df.columns, info_df.dtypes)))"
   ]
  },
  {
   "cell_type": "markdown",
   "metadata": {},
   "source": [
    "**Questions for cleaning the data**\n",
    "1. Can `en_wiki` be a primary key instead of the id columns, in order to match this table to the pageviews one?\n",
    "1. Are there any columns that contain nothing but empty lists or null values? If so - drop them.\n",
    "1. Are there any list/struct columns that always contain a single value? If so - flatten them\n",
    "1. How many unique values does the column `type` contain? If 1 - redundant.\n",
    "1. Can an entity only have one gender? If so - convert from list of structs to a simple string (gender code). Also, can an entity have no gender? If so - why?"
   ]
  },
  {
   "cell_type": "code",
   "execution_count": 51,
   "metadata": {},
   "outputs": [
    {
     "data": {
      "text/html": [
       "<pre style=\"white-space:pre;overflow-x:auto;line-height:normal;font-family:Menlo,'DejaVu Sans Mono',consolas,'Courier New',monospace\"><span style=\"color: #008080; text-decoration-color: #008080; font-weight: bold\">1993447</span> <span style=\"color: #008080; text-decoration-color: #008080; font-weight: bold\">1993459</span>\n",
       "</pre>\n"
      ],
      "text/plain": [
       "\u001b[1;36m1993447\u001b[0m \u001b[1;36m1993459\u001b[0m\n"
      ]
     },
     "metadata": {},
     "output_type": "display_data"
    }
   ],
   "source": [
    "print(info_df['en_wiki'].n_unique(), info_df.height)"
   ]
  },
  {
   "cell_type": "code",
   "execution_count": 53,
   "metadata": {},
   "outputs": [
    {
     "data": {
      "text/html": [
       "<div><style>\n",
       ".dataframe > thead > tr,\n",
       ".dataframe > tbody > tr {\n",
       "  text-align: right;\n",
       "  white-space: pre-wrap;\n",
       "}\n",
       "</style>\n",
       "<small>shape: (24, 27)</small><table border=\"1\" class=\"dataframe\"><thead><tr><th>id</th><th>numeric_id</th><th>en_label</th><th>en_wiki</th><th>en_description</th><th>type</th><th>sitelinks</th><th>descriptions</th><th>labels</th><th>aliases</th><th>instance_of</th><th>gender</th><th>date_of_birth</th><th>date_of_death</th><th>worked_at</th><th>country_of_citizenship</th><th>country</th><th>educated_at</th><th>occupation</th><th>instrument</th><th>genre</th><th>industry</th><th>subclass_of</th><th>coordinate_location</th><th>iso_3166_alpha3</th><th>member_of</th><th>from_fictional_universe</th></tr><tr><td>str</td><td>str</td><td>str</td><td>str</td><td>str</td><td>str</td><td>list[struct[3]]</td><td>list[struct[2]]</td><td>list[struct[2]]</td><td>list[struct[2]]</td><td>list[struct[1]]</td><td>list[struct[1]]</td><td>list[struct[1]]</td><td>list[struct[1]]</td><td>list[struct[1]]</td><td>list[struct[1]]</td><td>list[struct[1]]</td><td>list[struct[1]]</td><td>list[struct[1]]</td><td>list[struct[1]]</td><td>list[struct[1]]</td><td>list[struct[1]]</td><td>list[struct[1]]</td><td>list[struct[2]]</td><td>list[null]</td><td>list[struct[1]]</td><td>list[struct[1]]</td></tr></thead><tbody><tr><td>&quot;Q125017311&quot;</td><td>&quot;125017311&quot;</td><td>&quot;Ashutosh&quot;</td><td>&quot;Ashutosh_(spir…</td><td>null</td><td>&quot;item&quot;</td><td>[{&quot;enwiki&quot;,&quot;Ashutosh (spiritual leader)&quot;,&quot;Ashutosh_(spiritual_leader)&quot;}]</td><td>[]</td><td>[{&quot;en&quot;,&quot;Ashutosh&quot;}]</td><td>[]</td><td>[{&quot;5&quot;}]</td><td>[{&quot;6581097&quot;}]</td><td>[{&quot;+1946-01-01T00:00:00Z&quot;}]</td><td>[{&quot;+1946-01-01T00:00:00Z&quot;}]</td><td>[]</td><td>[]</td><td>[]</td><td>[]</td><td>[]</td><td>[]</td><td>[]</td><td>[]</td><td>[]</td><td>[]</td><td>[]</td><td>[]</td><td>[]</td></tr><tr><td>&quot;Q17488903&quot;</td><td>&quot;17488903&quot;</td><td>&quot;Ashutosh&quot;</td><td>&quot;Ashutosh_(spir…</td><td>&quot;Indian spiritu…</td><td>&quot;item&quot;</td><td>[{&quot;enwiki&quot;,&quot;Ashutosh (spiritual leader)&quot;,&quot;Ashutosh_(spiritual_leader)&quot;}, {&quot;hiwiki&quot;,&quot;आशुतोष (आध्यात्मिक नेता)&quot;,&quot;आशुतोष_(आध्यात्मिक_नेता)&quot;}]</td><td>[{&quot;en&quot;,&quot;Indian spiritual leader&quot;}, {&quot;hi&quot;,&quot;भारतीय आध्यात्मिक गुरु&quot;}]</td><td>[{&quot;en&quot;,&quot;Ashutosh&quot;}, {&quot;fr&quot;,&quot;Ashutosh&quot;}, … {&quot;hi&quot;,&quot;आशुतोष (आध्यात्मिक नेता)&quot;}]</td><td>[{&quot;en&quot;,&quot;Ashutosh Maharaj&quot;}, {&quot;en&quot;,&quot;Mahesh Kumar Jha&quot;}]</td><td>[{&quot;5&quot;}]</td><td>[{&quot;6581097&quot;}]</td><td>[{&quot;+1946-01-01T00:00:00Z&quot;}]</td><td>[{&quot;+1946-01-01T00:00:00Z&quot;}]</td><td>[]</td><td>[{&quot;668&quot;}, {&quot;129286&quot;}, {&quot;1775277&quot;}]</td><td>[]</td><td>[]</td><td>[{&quot;64711780&quot;}, {&quot;484260&quot;}]</td><td>[]</td><td>[]</td><td>[]</td><td>[]</td><td>[]</td><td>[]</td><td>[]</td><td>[]</td></tr><tr><td>&quot;Q99237902&quot;</td><td>&quot;99237902&quot;</td><td>&quot;Ferdinand van …</td><td>&quot;Ferdinand_van_…</td><td>&quot;Italian noblem…</td><td>&quot;item&quot;</td><td>[{&quot;enwiki&quot;,&quot;Ferdinand van den Eynde, 1st Marquess of Castelnuovo&quot;,&quot;Ferdinand_van_den_Eynde,_1st_Marquess_of_Castelnuovo&quot;}, {&quot;nlwiki&quot;,&quot;Ferdinand van den Eynde&quot;,&quot;Ferdinand_van_den_Eynde&quot;}, … {&quot;frwiki&quot;,&quot;Ferdinand van den Eynde (1er marquis de Castelnuovo)&quot;,&quot;Ferdinand_van_den_Eynde_(1er_marquis_de_Castelnuovo)&quot;}]</td><td>[{&quot;en&quot;,&quot;Italian nobleman and magnate of Flemish origin (d.1674)&quot;}, {&quot;fr&quot;,&quot;noble italien&quot;}, {&quot;it&quot;,&quot;nobile, mercante, collezionista d&#x27;arte e mecenate italiano&quot;}]</td><td>[{&quot;en&quot;,&quot;Ferdinand van den Eynde, 1st Marquess of Castelnuovo&quot;}, {&quot;nl&quot;,&quot;Ferdinand van den Eynde, 1st Marquess of Castelnuovo&quot;}, … {&quot;fr&quot;,&quot;Ferdinand van den Eynde&quot;}]</td><td>[{&quot;en&quot;,&quot;Ferdinand van den Eynde&quot;}, {&quot;en&quot;,&quot;Ferdinando Vandeneynden&quot;}, {&quot;nl&quot;,&quot;Ferdinand van den Eynde&quot;}]</td><td>[{&quot;5&quot;}, {&quot;5&quot;}]</td><td>[{&quot;6581097&quot;}]</td><td>[]</td><td>[]</td><td>[]</td><td>[]</td><td>[]</td><td>[]</td><td>[]</td><td>[]</td><td>[]</td><td>[]</td><td>[]</td><td>[]</td><td>[]</td><td>[]</td><td>[]</td></tr><tr><td>&quot;Q99237902&quot;</td><td>&quot;99237902&quot;</td><td>&quot;Ferdinand van …</td><td>&quot;Ferdinand_van_…</td><td>&quot;Italian noblem…</td><td>&quot;item&quot;</td><td>[{&quot;enwiki&quot;,&quot;Ferdinand van den Eynde, 1st Marquess of Castelnuovo&quot;,&quot;Ferdinand_van_den_Eynde,_1st_Marquess_of_Castelnuovo&quot;}, {&quot;nlwiki&quot;,&quot;Ferdinand van den Eynde&quot;,&quot;Ferdinand_van_den_Eynde&quot;}, … {&quot;frwiki&quot;,&quot;Ferdinand van den Eynde (1er marquis de Castelnuovo)&quot;,&quot;Ferdinand_van_den_Eynde_(1er_marquis_de_Castelnuovo)&quot;}]</td><td>[{&quot;en&quot;,&quot;Italian nobleman and magnate of Flemish origin (d.1674)&quot;}, {&quot;fr&quot;,&quot;noble italien&quot;}, {&quot;it&quot;,&quot;nobile, mercante, collezionista d&#x27;arte e mecenate italiano&quot;}]</td><td>[{&quot;en&quot;,&quot;Ferdinand van den Eynde, 1st Marquess of Castelnuovo&quot;}, {&quot;nl&quot;,&quot;Ferdinand van den Eynde, 1st Marquess of Castelnuovo&quot;}, … {&quot;fr&quot;,&quot;Ferdinand van den Eynde&quot;}]</td><td>[{&quot;en&quot;,&quot;Ferdinand van den Eynde&quot;}, {&quot;en&quot;,&quot;Ferdinando Vandeneynden&quot;}, {&quot;nl&quot;,&quot;Ferdinand van den Eynde&quot;}]</td><td>[{&quot;5&quot;}, {&quot;5&quot;}]</td><td>[{&quot;6581097&quot;}]</td><td>[]</td><td>[]</td><td>[]</td><td>[]</td><td>[]</td><td>[]</td><td>[]</td><td>[]</td><td>[]</td><td>[]</td><td>[]</td><td>[]</td><td>[]</td><td>[]</td><td>[]</td></tr><tr><td>&quot;Q5638516&quot;</td><td>&quot;5638516&quot;</td><td>&quot;Hagai Shaham&quot;</td><td>&quot;Hagai_Shaham&quot;</td><td>&quot;Israeli violin…</td><td>&quot;item&quot;</td><td>[{&quot;enwiki&quot;,&quot;Hagai Shaham&quot;,&quot;Hagai_Shaham&quot;}, {&quot;jawiki&quot;,&quot;ハガイ・シャハム&quot;,&quot;ハガイ・シャハム&quot;}, … {&quot;arzwiki&quot;,&quot;حجاى شاحام&quot;,&quot;حجاى_شاحام&quot;}]</td><td>[{&quot;cs&quot;,&quot;izraelský houslista&quot;}, {&quot;en&quot;,&quot;Israeli violinist&quot;}, … {&quot;fi&quot;,&quot;israelilainen viulisti&quot;}]</td><td>[{&quot;en&quot;,&quot;Hagai Shaham&quot;}, {&quot;he&quot;,&quot;חגי שחם&quot;}, … {&quot;arz&quot;,&quot;حجاى شاحام&quot;}]</td><td>[{&quot;en&quot;,&quot;Prof. Hagai Shaham&quot;}]</td><td>[{&quot;5&quot;}, {&quot;5&quot;}]</td><td>[{&quot;6581097&quot;}]</td><td>[{&quot;+1966-07-08T00:00:00Z&quot;}]</td><td>[{&quot;+1966-07-08T00:00:00Z&quot;}]</td><td>[{&quot;4614&quot;}, {&quot;12404543&quot;}]</td><td>[{&quot;801&quot;}]</td><td>[]</td><td>[]</td><td>[{&quot;16145150&quot;}, {&quot;1259917&quot;}, {&quot;1622272&quot;}]</td><td>[{&quot;8355&quot;}]</td><td>[{&quot;9730&quot;}]</td><td>[]</td><td>[]</td><td>[]</td><td>[]</td><td>[]</td><td>[]</td></tr><tr><td>&hellip;</td><td>&hellip;</td><td>&hellip;</td><td>&hellip;</td><td>&hellip;</td><td>&hellip;</td><td>&hellip;</td><td>&hellip;</td><td>&hellip;</td><td>&hellip;</td><td>&hellip;</td><td>&hellip;</td><td>&hellip;</td><td>&hellip;</td><td>&hellip;</td><td>&hellip;</td><td>&hellip;</td><td>&hellip;</td><td>&hellip;</td><td>&hellip;</td><td>&hellip;</td><td>&hellip;</td><td>&hellip;</td><td>&hellip;</td><td>&hellip;</td><td>&hellip;</td><td>&hellip;</td></tr><tr><td>&quot;Q107124843&quot;</td><td>&quot;107124843&quot;</td><td>&quot;Rene Villa&quot;</td><td>&quot;René_Villa&quot;</td><td>&quot;Costa Rican si…</td><td>&quot;item&quot;</td><td>[{&quot;enwiki&quot;,&quot;René Villa&quot;,&quot;René_Villa&quot;}]</td><td>[{&quot;en&quot;,&quot;Costa Rican singer&quot;}, {&quot;es&quot;,&quot;cantante, compositor y modelo costarricense&quot;}, … {&quot;ga&quot;,&quot;Amhránaí Costa Rican&quot;}]</td><td>[{&quot;en&quot;,&quot;Rene Villa&quot;}, {&quot;es&quot;,&quot;René Villa&quot;}, … {&quot;bn&quot;,&quot;রেনে ভিলা&quot;}]</td><td>[{&quot;en&quot;,&quot;José René Villafuerte Flores&quot;}, {&quot;en&quot;,&quot;Rene Flores&quot;}, … {&quot;ga&quot;,&quot;José René Villafuerte Flores&quot;}]</td><td>[{&quot;5&quot;}, {&quot;5&quot;}]</td><td>[{&quot;6581097&quot;}]</td><td>[{&quot;+1997-01-26T00:00:00Z&quot;}]</td><td>[{&quot;+1997-01-26T00:00:00Z&quot;}]</td><td>[]</td><td>[{&quot;800&quot;}, {&quot;27&quot;}]</td><td>[]</td><td>[]</td><td>[{&quot;488205&quot;}, {&quot;4610556&quot;}, … {&quot;177220&quot;}]</td><td>[{&quot;17172850&quot;}]</td><td>[]</td><td>[]</td><td>[]</td><td>[]</td><td>[]</td><td>[]</td><td>[]</td></tr><tr><td>&quot;Q7791373&quot;</td><td>&quot;7791373&quot;</td><td>&quot;Thomas Jones&quot;</td><td>&quot;Thomas_Jones_(…</td><td>&quot;Welsh civil se…</td><td>&quot;item&quot;</td><td>[{&quot;cywiki&quot;,&quot;Thomas Jones (1870-1955)&quot;,&quot;Thomas_Jones_(1870-1955)&quot;}, {&quot;enwiki&quot;,&quot;Thomas Jones (civil servant)&quot;,&quot;Thomas_Jones_(civil_servant)&quot;}, … {&quot;enwikiquote&quot;,&quot;Thomas Jones (civil servant)&quot;,&quot;Thomas_Jones_(civil_servant)&quot;}]</td><td>[{&quot;en&quot;,&quot;Welsh civil servant and educationalist (1870–1955)&quot;}, {&quot;de&quot;,&quot;britischer Pädagoge, geboren 1870&quot;}, … {&quot;ryu&quot;,&quot;インチリーぬ政治家&quot;}]</td><td>[{&quot;cy&quot;,&quot;Thomas Jones&quot;}, {&quot;en&quot;,&quot;Thomas Jones&quot;}, … {&quot;ga&quot;,&quot;Thomas Jones&quot;}]</td><td>[{&quot;cy&quot;,&quot;Thomas Jones (T. J.)&quot;}, {&quot;en&quot;,&quot;Tom Jones&quot;}, … {&quot;nl&quot;,&quot;Dr. Thomas Jones&quot;}]</td><td>[{&quot;5&quot;}, {&quot;5&quot;}]</td><td>[{&quot;6581097&quot;}]</td><td>[{&quot;+1870-09-27T00:00:00Z&quot;}]</td><td>[{&quot;+1870-09-27T00:00:00Z&quot;}]</td><td>[]</td><td>[{&quot;145&quot;}, {&quot;25&quot;}, {&quot;174193&quot;}]</td><td>[]</td><td>[{&quot;6537042&quot;}]</td><td>[{&quot;1231865&quot;}, {&quot;212238&quot;}, {&quot;82955&quot;}]</td><td>[]</td><td>[]</td><td>[]</td><td>[]</td><td>[]</td><td>[]</td><td>[]</td><td>[]</td></tr><tr><td>&quot;Q7791373&quot;</td><td>&quot;7791373&quot;</td><td>&quot;Thomas Jones&quot;</td><td>&quot;Thomas_Jones_(…</td><td>&quot;Welsh civil se…</td><td>&quot;item&quot;</td><td>[{&quot;cywiki&quot;,&quot;Thomas Jones (1870-1955)&quot;,&quot;Thomas_Jones_(1870-1955)&quot;}, {&quot;enwiki&quot;,&quot;Thomas Jones (civil servant)&quot;,&quot;Thomas_Jones_(civil_servant)&quot;}, … {&quot;enwikiquote&quot;,&quot;Thomas Jones (civil servant)&quot;,&quot;Thomas_Jones_(civil_servant)&quot;}]</td><td>[{&quot;en&quot;,&quot;Welsh civil servant and educationalist (1870–1955)&quot;}, {&quot;de&quot;,&quot;britischer Pädagoge, geboren 1870&quot;}, … {&quot;ryu&quot;,&quot;インチリーぬ政治家&quot;}]</td><td>[{&quot;cy&quot;,&quot;Thomas Jones&quot;}, {&quot;en&quot;,&quot;Thomas Jones&quot;}, … {&quot;ga&quot;,&quot;Thomas Jones&quot;}]</td><td>[{&quot;cy&quot;,&quot;Thomas Jones (T. J.)&quot;}, {&quot;en&quot;,&quot;Tom Jones&quot;}, … {&quot;nl&quot;,&quot;Dr. Thomas Jones&quot;}]</td><td>[{&quot;5&quot;}, {&quot;5&quot;}]</td><td>[{&quot;6581097&quot;}]</td><td>[{&quot;+1870-09-27T00:00:00Z&quot;}]</td><td>[{&quot;+1870-09-27T00:00:00Z&quot;}]</td><td>[]</td><td>[{&quot;145&quot;}, {&quot;25&quot;}, {&quot;174193&quot;}]</td><td>[]</td><td>[{&quot;6537042&quot;}]</td><td>[{&quot;1231865&quot;}, {&quot;212238&quot;}, {&quot;82955&quot;}]</td><td>[]</td><td>[]</td><td>[]</td><td>[]</td><td>[]</td><td>[]</td><td>[]</td><td>[]</td></tr><tr><td>&quot;Q106232513&quot;</td><td>&quot;106232513&quot;</td><td>&quot;Oscar Castella…</td><td>&quot;Óscar_Castella…</td><td>&quot;Guatemalan foo…</td><td>&quot;item&quot;</td><td>[{&quot;plwiki&quot;,&quot;Oscar Castellanos&quot;,&quot;Oscar_Castellanos&quot;}, {&quot;enwiki&quot;,&quot;Óscar Castellanos&quot;,&quot;Óscar_Castellanos&quot;}, {&quot;eswiki&quot;,&quot;Óscar Antonio Castellanos&quot;,&quot;Óscar_Antonio_Castellanos&quot;}]</td><td>[{&quot;pl&quot;,&quot;gwatemalski piłkarz&quot;}, {&quot;en&quot;,&quot;Guatemalan footballer&quot;}, … {&quot;ar&quot;,&quot;لاعب كرة قدم غواتيمالي&quot;}]</td><td>[{&quot;pl&quot;,&quot;Oscar Castellanos&quot;}, {&quot;nl&quot;,&quot;Oscar Castellanos&quot;}, … {&quot;pt-br&quot;,&quot;Óscar Castellanos&quot;}]</td><td>[{&quot;en&quot;,&quot;Óscar Castellanos&quot;}, {&quot;nl&quot;,&quot;Óscar Castellanos&quot;}]</td><td>[{&quot;5&quot;}, {&quot;5&quot;}]</td><td>[{&quot;6581097&quot;}]</td><td>[{&quot;+2000-01-01T00:00:00Z&quot;}]</td><td>[{&quot;+2000-01-01T00:00:00Z&quot;}]</td><td>[]</td><td>[]</td><td>[]</td><td>[]</td><td>[{&quot;937857&quot;}]</td><td>[]</td><td>[]</td><td>[]</td><td>[]</td><td>[]</td><td>[]</td><td>[]</td><td>[]</td></tr><tr><td>&quot;Q106232513&quot;</td><td>&quot;106232513&quot;</td><td>&quot;Oscar Castella…</td><td>&quot;Óscar_Castella…</td><td>&quot;Guatemalan foo…</td><td>&quot;item&quot;</td><td>[{&quot;plwiki&quot;,&quot;Oscar Castellanos&quot;,&quot;Oscar_Castellanos&quot;}, {&quot;enwiki&quot;,&quot;Óscar Castellanos&quot;,&quot;Óscar_Castellanos&quot;}, {&quot;eswiki&quot;,&quot;Óscar Antonio Castellanos&quot;,&quot;Óscar_Antonio_Castellanos&quot;}]</td><td>[{&quot;pl&quot;,&quot;gwatemalski piłkarz&quot;}, {&quot;en&quot;,&quot;Guatemalan footballer&quot;}, … {&quot;ar&quot;,&quot;لاعب كرة قدم غواتيمالي&quot;}]</td><td>[{&quot;pl&quot;,&quot;Oscar Castellanos&quot;}, {&quot;nl&quot;,&quot;Oscar Castellanos&quot;}, … {&quot;pt-br&quot;,&quot;Óscar Castellanos&quot;}]</td><td>[{&quot;en&quot;,&quot;Óscar Castellanos&quot;}, {&quot;nl&quot;,&quot;Óscar Castellanos&quot;}]</td><td>[{&quot;5&quot;}, {&quot;5&quot;}]</td><td>[{&quot;6581097&quot;}]</td><td>[{&quot;+2000-01-01T00:00:00Z&quot;}]</td><td>[{&quot;+2000-01-01T00:00:00Z&quot;}]</td><td>[]</td><td>[]</td><td>[]</td><td>[]</td><td>[{&quot;937857&quot;}]</td><td>[]</td><td>[]</td><td>[]</td><td>[]</td><td>[]</td><td>[]</td><td>[]</td><td>[]</td></tr></tbody></table></div>"
      ],
      "text/plain": [
       "shape: (24, 27)\n",
       "┌───────────┬───────────┬───────────┬───────────┬───┬───────────┬───────────┬───────────┬──────────┐\n",
       "│ id        ┆ numeric_i ┆ en_label  ┆ en_wiki   ┆ … ┆ coordinat ┆ iso_3166_ ┆ member_of ┆ from_fic │\n",
       "│ ---       ┆ d         ┆ ---       ┆ ---       ┆   ┆ e_locatio ┆ alpha3    ┆ ---       ┆ tional_u │\n",
       "│ str       ┆ ---       ┆ str       ┆ str       ┆   ┆ n         ┆ ---       ┆ list[stru ┆ niverse  │\n",
       "│           ┆ str       ┆           ┆           ┆   ┆ ---       ┆ list[null ┆ ct[1]]    ┆ ---      │\n",
       "│           ┆           ┆           ┆           ┆   ┆ list[stru ┆ ]         ┆           ┆ list[str │\n",
       "│           ┆           ┆           ┆           ┆   ┆ ct[2]]    ┆           ┆           ┆ uct[1]]  │\n",
       "╞═══════════╪═══════════╪═══════════╪═══════════╪═══╪═══════════╪═══════════╪═══════════╪══════════╡\n",
       "│ Q12501731 ┆ 125017311 ┆ Ashutosh  ┆ Ashutosh_ ┆ … ┆ []        ┆ []        ┆ []        ┆ []       │\n",
       "│ 1         ┆           ┆           ┆ (spiritua ┆   ┆           ┆           ┆           ┆          │\n",
       "│           ┆           ┆           ┆ l_leader) ┆   ┆           ┆           ┆           ┆          │\n",
       "│ Q17488903 ┆ 17488903  ┆ Ashutosh  ┆ Ashutosh_ ┆ … ┆ []        ┆ []        ┆ []        ┆ []       │\n",
       "│           ┆           ┆           ┆ (spiritua ┆   ┆           ┆           ┆           ┆          │\n",
       "│           ┆           ┆           ┆ l_leader) ┆   ┆           ┆           ┆           ┆          │\n",
       "│ Q99237902 ┆ 99237902  ┆ Ferdinand ┆ Ferdinand ┆ … ┆ []        ┆ []        ┆ []        ┆ []       │\n",
       "│           ┆           ┆ van den   ┆ _van_den_ ┆   ┆           ┆           ┆           ┆          │\n",
       "│           ┆           ┆ Eynde,    ┆ Eynde,_1s ┆   ┆           ┆           ┆           ┆          │\n",
       "│           ┆           ┆ 1st Mar…  ┆ t_Mar…    ┆   ┆           ┆           ┆           ┆          │\n",
       "│ Q99237902 ┆ 99237902  ┆ Ferdinand ┆ Ferdinand ┆ … ┆ []        ┆ []        ┆ []        ┆ []       │\n",
       "│           ┆           ┆ van den   ┆ _van_den_ ┆   ┆           ┆           ┆           ┆          │\n",
       "│           ┆           ┆ Eynde,    ┆ Eynde,_1s ┆   ┆           ┆           ┆           ┆          │\n",
       "│           ┆           ┆ 1st Mar…  ┆ t_Mar…    ┆   ┆           ┆           ┆           ┆          │\n",
       "│ Q5638516  ┆ 5638516   ┆ Hagai     ┆ Hagai_Sha ┆ … ┆ []        ┆ []        ┆ []        ┆ []       │\n",
       "│           ┆           ┆ Shaham    ┆ ham       ┆   ┆           ┆           ┆           ┆          │\n",
       "│ …         ┆ …         ┆ …         ┆ …         ┆ … ┆ …         ┆ …         ┆ …         ┆ …        │\n",
       "│ Q10712484 ┆ 107124843 ┆ Rene      ┆ René_Vill ┆ … ┆ []        ┆ []        ┆ []        ┆ []       │\n",
       "│ 3         ┆           ┆ Villa     ┆ a         ┆   ┆           ┆           ┆           ┆          │\n",
       "│ Q7791373  ┆ 7791373   ┆ Thomas    ┆ Thomas_Jo ┆ … ┆ []        ┆ []        ┆ []        ┆ []       │\n",
       "│           ┆           ┆ Jones     ┆ nes_(civi ┆   ┆           ┆           ┆           ┆          │\n",
       "│           ┆           ┆           ┆ l_servant ┆   ┆           ┆           ┆           ┆          │\n",
       "│           ┆           ┆           ┆ )         ┆   ┆           ┆           ┆           ┆          │\n",
       "│ Q7791373  ┆ 7791373   ┆ Thomas    ┆ Thomas_Jo ┆ … ┆ []        ┆ []        ┆ []        ┆ []       │\n",
       "│           ┆           ┆ Jones     ┆ nes_(civi ┆   ┆           ┆           ┆           ┆          │\n",
       "│           ┆           ┆           ┆ l_servant ┆   ┆           ┆           ┆           ┆          │\n",
       "│           ┆           ┆           ┆ )         ┆   ┆           ┆           ┆           ┆          │\n",
       "│ Q10623251 ┆ 106232513 ┆ Oscar Cas ┆ Óscar_Cas ┆ … ┆ []        ┆ []        ┆ []        ┆ []       │\n",
       "│ 3         ┆           ┆ tellanos  ┆ tellanos  ┆   ┆           ┆           ┆           ┆          │\n",
       "│ Q10623251 ┆ 106232513 ┆ Oscar Cas ┆ Óscar_Cas ┆ … ┆ []        ┆ []        ┆ []        ┆ []       │\n",
       "│ 3         ┆           ┆ tellanos  ┆ tellanos  ┆   ┆           ┆           ┆           ┆          │\n",
       "└───────────┴───────────┴───────────┴───────────┴───┴───────────┴───────────┴───────────┴──────────┘"
      ]
     },
     "execution_count": 53,
     "metadata": {},
     "output_type": "execute_result"
    }
   ],
   "source": [
    "info_df.filter(info_df['en_wiki'].is_duplicated()).sort('en_wiki')"
   ]
  },
  {
   "cell_type": "code",
   "execution_count": 24,
   "metadata": {},
   "outputs": [
    {
     "data": {
      "text/html": [
       "<pre style=\"white-space:pre;overflow-x:auto;line-height:normal;font-family:Menlo,'DejaVu Sans Mono',consolas,'Courier New',monospace\">sitelinks shape: <span style=\"font-weight: bold\">(</span><span style=\"color: #008080; text-decoration-color: #008080; font-weight: bold\">260</span>, <span style=\"color: #008080; text-decoration-color: #008080; font-weight: bold\">2</span><span style=\"font-weight: bold\">)</span>\n",
       "┌─────────────────────┬────────┐\n",
       "│ length of sitelinks ┆ count  │\n",
       "│ ---                 ┆ ---    │\n",
       "│ i64                 ┆ u32    │\n",
       "╞═════════════════════╪════════╡\n",
       "│ <span style=\"color: #008080; text-decoration-color: #008080; font-weight: bold\">269</span>                 ┆ <span style=\"color: #008080; text-decoration-color: #008080; font-weight: bold\">1</span>      │\n",
       "│ <span style=\"color: #008080; text-decoration-color: #008080; font-weight: bold\">130</span>                 ┆ <span style=\"color: #008080; text-decoration-color: #008080; font-weight: bold\">11</span>     │\n",
       "│ <span style=\"color: #008080; text-decoration-color: #008080; font-weight: bold\">235</span>                 ┆ <span style=\"color: #008080; text-decoration-color: #008080; font-weight: bold\">2</span>      │\n",
       "│ <span style=\"color: #008080; text-decoration-color: #008080; font-weight: bold\">11</span>                  ┆ <span style=\"color: #008080; text-decoration-color: #008080; font-weight: bold\">29059</span>  │\n",
       "│ <span style=\"color: #008080; text-decoration-color: #008080; font-weight: bold\">5</span>                   ┆ <span style=\"color: #008080; text-decoration-color: #008080; font-weight: bold\">140116</span> │\n",
       "│ …                   ┆ …      │\n",
       "│ <span style=\"color: #008080; text-decoration-color: #008080; font-weight: bold\">68</span>                  ┆ <span style=\"color: #008080; text-decoration-color: #008080; font-weight: bold\">170</span>    │\n",
       "│ <span style=\"color: #008080; text-decoration-color: #008080; font-weight: bold\">293</span>                 ┆ <span style=\"color: #008080; text-decoration-color: #008080; font-weight: bold\">2</span>      │\n",
       "│ <span style=\"color: #008080; text-decoration-color: #008080; font-weight: bold\">54</span>                  ┆ <span style=\"color: #008080; text-decoration-color: #008080; font-weight: bold\">411</span>    │\n",
       "│ <span style=\"color: #008080; text-decoration-color: #008080; font-weight: bold\">91</span>                  ┆ <span style=\"color: #008080; text-decoration-color: #008080; font-weight: bold\">51</span>     │\n",
       "│ <span style=\"color: #008080; text-decoration-color: #008080; font-weight: bold\">256</span>                 ┆ <span style=\"color: #008080; text-decoration-color: #008080; font-weight: bold\">3</span>      │\n",
       "└─────────────────────┴────────┘\n",
       "</pre>\n"
      ],
      "text/plain": [
       "sitelinks shape: \u001b[1m(\u001b[0m\u001b[1;36m260\u001b[0m, \u001b[1;36m2\u001b[0m\u001b[1m)\u001b[0m\n",
       "┌─────────────────────┬────────┐\n",
       "│ length of sitelinks ┆ count  │\n",
       "│ ---                 ┆ ---    │\n",
       "│ i64                 ┆ u32    │\n",
       "╞═════════════════════╪════════╡\n",
       "│ \u001b[1;36m269\u001b[0m                 ┆ \u001b[1;36m1\u001b[0m      │\n",
       "│ \u001b[1;36m130\u001b[0m                 ┆ \u001b[1;36m11\u001b[0m     │\n",
       "│ \u001b[1;36m235\u001b[0m                 ┆ \u001b[1;36m2\u001b[0m      │\n",
       "│ \u001b[1;36m11\u001b[0m                  ┆ \u001b[1;36m29059\u001b[0m  │\n",
       "│ \u001b[1;36m5\u001b[0m                   ┆ \u001b[1;36m140116\u001b[0m │\n",
       "│ …                   ┆ …      │\n",
       "│ \u001b[1;36m68\u001b[0m                  ┆ \u001b[1;36m170\u001b[0m    │\n",
       "│ \u001b[1;36m293\u001b[0m                 ┆ \u001b[1;36m2\u001b[0m      │\n",
       "│ \u001b[1;36m54\u001b[0m                  ┆ \u001b[1;36m411\u001b[0m    │\n",
       "│ \u001b[1;36m91\u001b[0m                  ┆ \u001b[1;36m51\u001b[0m     │\n",
       "│ \u001b[1;36m256\u001b[0m                 ┆ \u001b[1;36m3\u001b[0m      │\n",
       "└─────────────────────┴────────┘\n"
      ]
     },
     "metadata": {},
     "output_type": "display_data"
    },
    {
     "data": {
      "text/html": [
       "<pre style=\"white-space:pre;overflow-x:auto;line-height:normal;font-family:Menlo,'DejaVu Sans Mono',consolas,'Courier New',monospace\">descriptions shape: <span style=\"font-weight: bold\">(</span><span style=\"color: #008080; text-decoration-color: #008080; font-weight: bold\">131</span>, <span style=\"color: #008080; text-decoration-color: #008080; font-weight: bold\">2</span><span style=\"font-weight: bold\">)</span>\n",
       "┌────────────────────────┬────────┐\n",
       "│ length of descriptions ┆ count  │\n",
       "│ ---                    ┆ ---    │\n",
       "│ i64                    ┆ u32    │\n",
       "╞════════════════════════╪════════╡\n",
       "│ <span style=\"color: #008080; text-decoration-color: #008080; font-weight: bold\">4</span>                      ┆ <span style=\"color: #008080; text-decoration-color: #008080; font-weight: bold\">100204</span> │\n",
       "│ <span style=\"color: #008080; text-decoration-color: #008080; font-weight: bold\">32</span>                     ┆ <span style=\"color: #008080; text-decoration-color: #008080; font-weight: bold\">14819</span>  │\n",
       "│ <span style=\"color: #008080; text-decoration-color: #008080; font-weight: bold\">43</span>                     ┆ <span style=\"color: #008080; text-decoration-color: #008080; font-weight: bold\">2297</span>   │\n",
       "│ <span style=\"color: #008080; text-decoration-color: #008080; font-weight: bold\">46</span>                     ┆ <span style=\"color: #008080; text-decoration-color: #008080; font-weight: bold\">1184</span>   │\n",
       "│ <span style=\"color: #008080; text-decoration-color: #008080; font-weight: bold\">18</span>                     ┆ <span style=\"color: #008080; text-decoration-color: #008080; font-weight: bold\">56795</span>  │\n",
       "│ …                      ┆ …      │\n",
       "│ <span style=\"color: #008080; text-decoration-color: #008080; font-weight: bold\">3</span>                      ┆ <span style=\"color: #008080; text-decoration-color: #008080; font-weight: bold\">111702</span> │\n",
       "│ <span style=\"color: #008080; text-decoration-color: #008080; font-weight: bold\">94</span>                     ┆ <span style=\"color: #008080; text-decoration-color: #008080; font-weight: bold\">5</span>      │\n",
       "│ <span style=\"color: #008080; text-decoration-color: #008080; font-weight: bold\">33</span>                     ┆ <span style=\"color: #008080; text-decoration-color: #008080; font-weight: bold\">11452</span>  │\n",
       "│ <span style=\"color: #008080; text-decoration-color: #008080; font-weight: bold\">82</span>                     ┆ <span style=\"color: #008080; text-decoration-color: #008080; font-weight: bold\">10</span>     │\n",
       "│ <span style=\"color: #008080; text-decoration-color: #008080; font-weight: bold\">38</span>                     ┆ <span style=\"color: #008080; text-decoration-color: #008080; font-weight: bold\">4174</span>   │\n",
       "└────────────────────────┴────────┘\n",
       "</pre>\n"
      ],
      "text/plain": [
       "descriptions shape: \u001b[1m(\u001b[0m\u001b[1;36m131\u001b[0m, \u001b[1;36m2\u001b[0m\u001b[1m)\u001b[0m\n",
       "┌────────────────────────┬────────┐\n",
       "│ length of descriptions ┆ count  │\n",
       "│ ---                    ┆ ---    │\n",
       "│ i64                    ┆ u32    │\n",
       "╞════════════════════════╪════════╡\n",
       "│ \u001b[1;36m4\u001b[0m                      ┆ \u001b[1;36m100204\u001b[0m │\n",
       "│ \u001b[1;36m32\u001b[0m                     ┆ \u001b[1;36m14819\u001b[0m  │\n",
       "│ \u001b[1;36m43\u001b[0m                     ┆ \u001b[1;36m2297\u001b[0m   │\n",
       "│ \u001b[1;36m46\u001b[0m                     ┆ \u001b[1;36m1184\u001b[0m   │\n",
       "│ \u001b[1;36m18\u001b[0m                     ┆ \u001b[1;36m56795\u001b[0m  │\n",
       "│ …                      ┆ …      │\n",
       "│ \u001b[1;36m3\u001b[0m                      ┆ \u001b[1;36m111702\u001b[0m │\n",
       "│ \u001b[1;36m94\u001b[0m                     ┆ \u001b[1;36m5\u001b[0m      │\n",
       "│ \u001b[1;36m33\u001b[0m                     ┆ \u001b[1;36m11452\u001b[0m  │\n",
       "│ \u001b[1;36m82\u001b[0m                     ┆ \u001b[1;36m10\u001b[0m     │\n",
       "│ \u001b[1;36m38\u001b[0m                     ┆ \u001b[1;36m4174\u001b[0m   │\n",
       "└────────────────────────┴────────┘\n"
      ]
     },
     "metadata": {},
     "output_type": "display_data"
    },
    {
     "data": {
      "text/html": [
       "<pre style=\"white-space:pre;overflow-x:auto;line-height:normal;font-family:Menlo,'DejaVu Sans Mono',consolas,'Courier New',monospace\">labels shape: <span style=\"font-weight: bold\">(</span><span style=\"color: #008080; text-decoration-color: #008080; font-weight: bold\">290</span>, <span style=\"color: #008080; text-decoration-color: #008080; font-weight: bold\">2</span><span style=\"font-weight: bold\">)</span>\n",
       "┌──────────────────┬───────┐\n",
       "│ length of labels ┆ count │\n",
       "│ ---              ┆ ---   │\n",
       "│ i64              ┆ u32   │\n",
       "╞══════════════════╪═══════╡\n",
       "│ <span style=\"color: #008080; text-decoration-color: #008080; font-weight: bold\">216</span>              ┆ <span style=\"color: #008080; text-decoration-color: #008080; font-weight: bold\">105</span>   │\n",
       "│ <span style=\"color: #008080; text-decoration-color: #008080; font-weight: bold\">225</span>              ┆ <span style=\"color: #008080; text-decoration-color: #008080; font-weight: bold\">90</span>    │\n",
       "│ <span style=\"color: #008080; text-decoration-color: #008080; font-weight: bold\">236</span>              ┆ <span style=\"color: #008080; text-decoration-color: #008080; font-weight: bold\">28</span>    │\n",
       "│ <span style=\"color: #008080; text-decoration-color: #008080; font-weight: bold\">156</span>              ┆ <span style=\"color: #008080; text-decoration-color: #008080; font-weight: bold\">60</span>    │\n",
       "│ <span style=\"color: #008080; text-decoration-color: #008080; font-weight: bold\">93</span>               ┆ <span style=\"color: #008080; text-decoration-color: #008080; font-weight: bold\">762</span>   │\n",
       "│ …                ┆ …     │\n",
       "│ <span style=\"color: #008080; text-decoration-color: #008080; font-weight: bold\">74</span>               ┆ <span style=\"color: #008080; text-decoration-color: #008080; font-weight: bold\">1113</span>  │\n",
       "│ <span style=\"color: #008080; text-decoration-color: #008080; font-weight: bold\">228</span>              ┆ <span style=\"color: #008080; text-decoration-color: #008080; font-weight: bold\">53</span>    │\n",
       "│ <span style=\"color: #008080; text-decoration-color: #008080; font-weight: bold\">152</span>              ┆ <span style=\"color: #008080; text-decoration-color: #008080; font-weight: bold\">97</span>    │\n",
       "│ <span style=\"color: #008080; text-decoration-color: #008080; font-weight: bold\">210</span>              ┆ <span style=\"color: #008080; text-decoration-color: #008080; font-weight: bold\">4</span>     │\n",
       "│ <span style=\"color: #008080; text-decoration-color: #008080; font-weight: bold\">260</span>              ┆ <span style=\"color: #008080; text-decoration-color: #008080; font-weight: bold\">17</span>    │\n",
       "└──────────────────┴───────┘\n",
       "</pre>\n"
      ],
      "text/plain": [
       "labels shape: \u001b[1m(\u001b[0m\u001b[1;36m290\u001b[0m, \u001b[1;36m2\u001b[0m\u001b[1m)\u001b[0m\n",
       "┌──────────────────┬───────┐\n",
       "│ length of labels ┆ count │\n",
       "│ ---              ┆ ---   │\n",
       "│ i64              ┆ u32   │\n",
       "╞══════════════════╪═══════╡\n",
       "│ \u001b[1;36m216\u001b[0m              ┆ \u001b[1;36m105\u001b[0m   │\n",
       "│ \u001b[1;36m225\u001b[0m              ┆ \u001b[1;36m90\u001b[0m    │\n",
       "│ \u001b[1;36m236\u001b[0m              ┆ \u001b[1;36m28\u001b[0m    │\n",
       "│ \u001b[1;36m156\u001b[0m              ┆ \u001b[1;36m60\u001b[0m    │\n",
       "│ \u001b[1;36m93\u001b[0m               ┆ \u001b[1;36m762\u001b[0m   │\n",
       "│ …                ┆ …     │\n",
       "│ \u001b[1;36m74\u001b[0m               ┆ \u001b[1;36m1113\u001b[0m  │\n",
       "│ \u001b[1;36m228\u001b[0m              ┆ \u001b[1;36m53\u001b[0m    │\n",
       "│ \u001b[1;36m152\u001b[0m              ┆ \u001b[1;36m97\u001b[0m    │\n",
       "│ \u001b[1;36m210\u001b[0m              ┆ \u001b[1;36m4\u001b[0m     │\n",
       "│ \u001b[1;36m260\u001b[0m              ┆ \u001b[1;36m17\u001b[0m    │\n",
       "└──────────────────┴───────┘\n"
      ]
     },
     "metadata": {},
     "output_type": "display_data"
    },
    {
     "data": {
      "text/html": [
       "<pre style=\"white-space:pre;overflow-x:auto;line-height:normal;font-family:Menlo,'DejaVu Sans Mono',consolas,'Courier New',monospace\">aliases shape: <span style=\"font-weight: bold\">(</span><span style=\"color: #008080; text-decoration-color: #008080; font-weight: bold\">412</span>, <span style=\"color: #008080; text-decoration-color: #008080; font-weight: bold\">2</span><span style=\"font-weight: bold\">)</span>\n",
       "┌───────────────────┬───────┐\n",
       "│ length of aliases ┆ count │\n",
       "│ ---               ┆ ---   │\n",
       "│ i64               ┆ u32   │\n",
       "╞═══════════════════╪═══════╡\n",
       "│ <span style=\"color: #008080; text-decoration-color: #008080; font-weight: bold\">118</span>               ┆ <span style=\"color: #008080; text-decoration-color: #008080; font-weight: bold\">25</span>    │\n",
       "│ <span style=\"color: #008080; text-decoration-color: #008080; font-weight: bold\">153</span>               ┆ <span style=\"color: #008080; text-decoration-color: #008080; font-weight: bold\">22</span>    │\n",
       "│ <span style=\"color: #008080; text-decoration-color: #008080; font-weight: bold\">177</span>               ┆ <span style=\"color: #008080; text-decoration-color: #008080; font-weight: bold\">7</span>     │\n",
       "│ <span style=\"color: #008080; text-decoration-color: #008080; font-weight: bold\">399</span>               ┆ <span style=\"color: #008080; text-decoration-color: #008080; font-weight: bold\">3</span>     │\n",
       "│ <span style=\"color: #008080; text-decoration-color: #008080; font-weight: bold\">375</span>               ┆ <span style=\"color: #008080; text-decoration-color: #008080; font-weight: bold\">1</span>     │\n",
       "│ …                 ┆ …     │\n",
       "│ <span style=\"color: #008080; text-decoration-color: #008080; font-weight: bold\">69</span>                ┆ <span style=\"color: #008080; text-decoration-color: #008080; font-weight: bold\">104</span>   │\n",
       "│ <span style=\"color: #008080; text-decoration-color: #008080; font-weight: bold\">47</span>                ┆ <span style=\"color: #008080; text-decoration-color: #008080; font-weight: bold\">379</span>   │\n",
       "│ <span style=\"color: #008080; text-decoration-color: #008080; font-weight: bold\">211</span>               ┆ <span style=\"color: #008080; text-decoration-color: #008080; font-weight: bold\">8</span>     │\n",
       "│ <span style=\"color: #008080; text-decoration-color: #008080; font-weight: bold\">645</span>               ┆ <span style=\"color: #008080; text-decoration-color: #008080; font-weight: bold\">3</span>     │\n",
       "│ <span style=\"color: #008080; text-decoration-color: #008080; font-weight: bold\">302</span>               ┆ <span style=\"color: #008080; text-decoration-color: #008080; font-weight: bold\">1</span>     │\n",
       "└───────────────────┴───────┘\n",
       "</pre>\n"
      ],
      "text/plain": [
       "aliases shape: \u001b[1m(\u001b[0m\u001b[1;36m412\u001b[0m, \u001b[1;36m2\u001b[0m\u001b[1m)\u001b[0m\n",
       "┌───────────────────┬───────┐\n",
       "│ length of aliases ┆ count │\n",
       "│ ---               ┆ ---   │\n",
       "│ i64               ┆ u32   │\n",
       "╞═══════════════════╪═══════╡\n",
       "│ \u001b[1;36m118\u001b[0m               ┆ \u001b[1;36m25\u001b[0m    │\n",
       "│ \u001b[1;36m153\u001b[0m               ┆ \u001b[1;36m22\u001b[0m    │\n",
       "│ \u001b[1;36m177\u001b[0m               ┆ \u001b[1;36m7\u001b[0m     │\n",
       "│ \u001b[1;36m399\u001b[0m               ┆ \u001b[1;36m3\u001b[0m     │\n",
       "│ \u001b[1;36m375\u001b[0m               ┆ \u001b[1;36m1\u001b[0m     │\n",
       "│ …                 ┆ …     │\n",
       "│ \u001b[1;36m69\u001b[0m                ┆ \u001b[1;36m104\u001b[0m   │\n",
       "│ \u001b[1;36m47\u001b[0m                ┆ \u001b[1;36m379\u001b[0m   │\n",
       "│ \u001b[1;36m211\u001b[0m               ┆ \u001b[1;36m8\u001b[0m     │\n",
       "│ \u001b[1;36m645\u001b[0m               ┆ \u001b[1;36m3\u001b[0m     │\n",
       "│ \u001b[1;36m302\u001b[0m               ┆ \u001b[1;36m1\u001b[0m     │\n",
       "└───────────────────┴───────┘\n"
      ]
     },
     "metadata": {},
     "output_type": "display_data"
    },
    {
     "data": {
      "text/html": [
       "<pre style=\"white-space:pre;overflow-x:auto;line-height:normal;font-family:Menlo,'DejaVu Sans Mono',consolas,'Courier New',monospace\">instance_of shape: <span style=\"font-weight: bold\">(</span><span style=\"color: #008080; text-decoration-color: #008080; font-weight: bold\">6</span>, <span style=\"color: #008080; text-decoration-color: #008080; font-weight: bold\">2</span><span style=\"font-weight: bold\">)</span>\n",
       "┌───────────────────────┬─────────┐\n",
       "│ length of instance_of ┆ count   │\n",
       "│ ---                   ┆ ---     │\n",
       "│ i64                   ┆ u32     │\n",
       "╞═══════════════════════╪═════════╡\n",
       "│ <span style=\"color: #008080; text-decoration-color: #008080; font-weight: bold\">5</span>                     ┆ <span style=\"color: #008080; text-decoration-color: #008080; font-weight: bold\">2</span>       │\n",
       "│ <span style=\"color: #008080; text-decoration-color: #008080; font-weight: bold\">11</span>                    ┆ <span style=\"color: #008080; text-decoration-color: #008080; font-weight: bold\">1</span>       │\n",
       "│ <span style=\"color: #008080; text-decoration-color: #008080; font-weight: bold\">3</span>                     ┆ <span style=\"color: #008080; text-decoration-color: #008080; font-weight: bold\">81</span>      │\n",
       "│ <span style=\"color: #008080; text-decoration-color: #008080; font-weight: bold\">2</span>                     ┆ <span style=\"color: #008080; text-decoration-color: #008080; font-weight: bold\">1118</span>    │\n",
       "│ <span style=\"color: #008080; text-decoration-color: #008080; font-weight: bold\">1</span>                     ┆ <span style=\"color: #008080; text-decoration-color: #008080; font-weight: bold\">1992244</span> │\n",
       "│ <span style=\"color: #008080; text-decoration-color: #008080; font-weight: bold\">4</span>                     ┆ <span style=\"color: #008080; text-decoration-color: #008080; font-weight: bold\">13</span>      │\n",
       "└───────────────────────┴─────────┘\n",
       "</pre>\n"
      ],
      "text/plain": [
       "instance_of shape: \u001b[1m(\u001b[0m\u001b[1;36m6\u001b[0m, \u001b[1;36m2\u001b[0m\u001b[1m)\u001b[0m\n",
       "┌───────────────────────┬─────────┐\n",
       "│ length of instance_of ┆ count   │\n",
       "│ ---                   ┆ ---     │\n",
       "│ i64                   ┆ u32     │\n",
       "╞═══════════════════════╪═════════╡\n",
       "│ \u001b[1;36m5\u001b[0m                     ┆ \u001b[1;36m2\u001b[0m       │\n",
       "│ \u001b[1;36m11\u001b[0m                    ┆ \u001b[1;36m1\u001b[0m       │\n",
       "│ \u001b[1;36m3\u001b[0m                     ┆ \u001b[1;36m81\u001b[0m      │\n",
       "│ \u001b[1;36m2\u001b[0m                     ┆ \u001b[1;36m1118\u001b[0m    │\n",
       "│ \u001b[1;36m1\u001b[0m                     ┆ \u001b[1;36m1992244\u001b[0m │\n",
       "│ \u001b[1;36m4\u001b[0m                     ┆ \u001b[1;36m13\u001b[0m      │\n",
       "└───────────────────────┴─────────┘\n"
      ]
     },
     "metadata": {},
     "output_type": "display_data"
    },
    {
     "data": {
      "text/html": [
       "<pre style=\"white-space:pre;overflow-x:auto;line-height:normal;font-family:Menlo,'DejaVu Sans Mono',consolas,'Courier New',monospace\">gender shape: <span style=\"font-weight: bold\">(</span><span style=\"color: #008080; text-decoration-color: #008080; font-weight: bold\">5</span>, <span style=\"color: #008080; text-decoration-color: #008080; font-weight: bold\">2</span><span style=\"font-weight: bold\">)</span>\n",
       "┌──────────────────┬─────────┐\n",
       "│ length of gender ┆ count   │\n",
       "│ ---              ┆ ---     │\n",
       "│ i64              ┆ u32     │\n",
       "╞══════════════════╪═════════╡\n",
       "│ <span style=\"color: #008080; text-decoration-color: #008080; font-weight: bold\">4</span>                ┆ <span style=\"color: #008080; text-decoration-color: #008080; font-weight: bold\">3</span>       │\n",
       "│ <span style=\"color: #008080; text-decoration-color: #008080; font-weight: bold\">2</span>                ┆ <span style=\"color: #008080; text-decoration-color: #008080; font-weight: bold\">524</span>     │\n",
       "│ <span style=\"color: #008080; text-decoration-color: #008080; font-weight: bold\">1</span>                ┆ <span style=\"color: #008080; text-decoration-color: #008080; font-weight: bold\">1992615</span> │\n",
       "│ <span style=\"color: #008080; text-decoration-color: #008080; font-weight: bold\">0</span>                ┆ <span style=\"color: #008080; text-decoration-color: #008080; font-weight: bold\">302</span>     │\n",
       "│ <span style=\"color: #008080; text-decoration-color: #008080; font-weight: bold\">3</span>                ┆ <span style=\"color: #008080; text-decoration-color: #008080; font-weight: bold\">15</span>      │\n",
       "└──────────────────┴─────────┘\n",
       "</pre>\n"
      ],
      "text/plain": [
       "gender shape: \u001b[1m(\u001b[0m\u001b[1;36m5\u001b[0m, \u001b[1;36m2\u001b[0m\u001b[1m)\u001b[0m\n",
       "┌──────────────────┬─────────┐\n",
       "│ length of gender ┆ count   │\n",
       "│ ---              ┆ ---     │\n",
       "│ i64              ┆ u32     │\n",
       "╞══════════════════╪═════════╡\n",
       "│ \u001b[1;36m4\u001b[0m                ┆ \u001b[1;36m3\u001b[0m       │\n",
       "│ \u001b[1;36m2\u001b[0m                ┆ \u001b[1;36m524\u001b[0m     │\n",
       "│ \u001b[1;36m1\u001b[0m                ┆ \u001b[1;36m1992615\u001b[0m │\n",
       "│ \u001b[1;36m0\u001b[0m                ┆ \u001b[1;36m302\u001b[0m     │\n",
       "│ \u001b[1;36m3\u001b[0m                ┆ \u001b[1;36m15\u001b[0m      │\n",
       "└──────────────────┴─────────┘\n"
      ]
     },
     "metadata": {},
     "output_type": "display_data"
    },
    {
     "data": {
      "text/html": [
       "<pre style=\"white-space:pre;overflow-x:auto;line-height:normal;font-family:Menlo,'DejaVu Sans Mono',consolas,'Courier New',monospace\">date_of_birth shape: <span style=\"font-weight: bold\">(</span><span style=\"color: #008080; text-decoration-color: #008080; font-weight: bold\">13</span>, <span style=\"color: #008080; text-decoration-color: #008080; font-weight: bold\">2</span><span style=\"font-weight: bold\">)</span>\n",
       "┌─────────────────────────┬─────────┐\n",
       "│ length of date_of_birth ┆ count   │\n",
       "│ ---                     ┆ ---     │\n",
       "│ i64                     ┆ u32     │\n",
       "╞═════════════════════════╪═════════╡\n",
       "│ <span style=\"color: #008080; text-decoration-color: #008080; font-weight: bold\">7</span>                       ┆ <span style=\"color: #008080; text-decoration-color: #008080; font-weight: bold\">9</span>       │\n",
       "│ <span style=\"color: #008080; text-decoration-color: #008080; font-weight: bold\">11</span>                      ┆ <span style=\"color: #008080; text-decoration-color: #008080; font-weight: bold\">1</span>       │\n",
       "│ <span style=\"color: #008080; text-decoration-color: #008080; font-weight: bold\">6</span>                       ┆ <span style=\"color: #008080; text-decoration-color: #008080; font-weight: bold\">12</span>      │\n",
       "│ <span style=\"color: #008080; text-decoration-color: #008080; font-weight: bold\">10</span>                      ┆ <span style=\"color: #008080; text-decoration-color: #008080; font-weight: bold\">1</span>       │\n",
       "│ <span style=\"color: #008080; text-decoration-color: #008080; font-weight: bold\">3</span>                       ┆ <span style=\"color: #008080; text-decoration-color: #008080; font-weight: bold\">3645</span>    │\n",
       "│ …                       ┆ …       │\n",
       "│ <span style=\"color: #008080; text-decoration-color: #008080; font-weight: bold\">9</span>                       ┆ <span style=\"color: #008080; text-decoration-color: #008080; font-weight: bold\">2</span>       │\n",
       "│ <span style=\"color: #008080; text-decoration-color: #008080; font-weight: bold\">0</span>                       ┆ <span style=\"color: #008080; text-decoration-color: #008080; font-weight: bold\">197057</span>  │\n",
       "│ <span style=\"color: #008080; text-decoration-color: #008080; font-weight: bold\">1</span>                       ┆ <span style=\"color: #008080; text-decoration-color: #008080; font-weight: bold\">1717118</span> │\n",
       "│ <span style=\"color: #008080; text-decoration-color: #008080; font-weight: bold\">4</span>                       ┆ <span style=\"color: #008080; text-decoration-color: #008080; font-weight: bold\">380</span>     │\n",
       "│ <span style=\"color: #008080; text-decoration-color: #008080; font-weight: bold\">5</span>                       ┆ <span style=\"color: #008080; text-decoration-color: #008080; font-weight: bold\">75</span>      │\n",
       "└─────────────────────────┴─────────┘\n",
       "</pre>\n"
      ],
      "text/plain": [
       "date_of_birth shape: \u001b[1m(\u001b[0m\u001b[1;36m13\u001b[0m, \u001b[1;36m2\u001b[0m\u001b[1m)\u001b[0m\n",
       "┌─────────────────────────┬─────────┐\n",
       "│ length of date_of_birth ┆ count   │\n",
       "│ ---                     ┆ ---     │\n",
       "│ i64                     ┆ u32     │\n",
       "╞═════════════════════════╪═════════╡\n",
       "│ \u001b[1;36m7\u001b[0m                       ┆ \u001b[1;36m9\u001b[0m       │\n",
       "│ \u001b[1;36m11\u001b[0m                      ┆ \u001b[1;36m1\u001b[0m       │\n",
       "│ \u001b[1;36m6\u001b[0m                       ┆ \u001b[1;36m12\u001b[0m      │\n",
       "│ \u001b[1;36m10\u001b[0m                      ┆ \u001b[1;36m1\u001b[0m       │\n",
       "│ \u001b[1;36m3\u001b[0m                       ┆ \u001b[1;36m3645\u001b[0m    │\n",
       "│ …                       ┆ …       │\n",
       "│ \u001b[1;36m9\u001b[0m                       ┆ \u001b[1;36m2\u001b[0m       │\n",
       "│ \u001b[1;36m0\u001b[0m                       ┆ \u001b[1;36m197057\u001b[0m  │\n",
       "│ \u001b[1;36m1\u001b[0m                       ┆ \u001b[1;36m1717118\u001b[0m │\n",
       "│ \u001b[1;36m4\u001b[0m                       ┆ \u001b[1;36m380\u001b[0m     │\n",
       "│ \u001b[1;36m5\u001b[0m                       ┆ \u001b[1;36m75\u001b[0m      │\n",
       "└─────────────────────────┴─────────┘\n"
      ]
     },
     "metadata": {},
     "output_type": "display_data"
    },
    {
     "data": {
      "text/html": [
       "<pre style=\"white-space:pre;overflow-x:auto;line-height:normal;font-family:Menlo,'DejaVu Sans Mono',consolas,'Courier New',monospace\">date_of_death shape: <span style=\"font-weight: bold\">(</span><span style=\"color: #008080; text-decoration-color: #008080; font-weight: bold\">13</span>, <span style=\"color: #008080; text-decoration-color: #008080; font-weight: bold\">2</span><span style=\"font-weight: bold\">)</span>\n",
       "┌─────────────────────────┬────────┐\n",
       "│ length of date_of_death ┆ count  │\n",
       "│ ---                     ┆ ---    │\n",
       "│ i64                     ┆ u32    │\n",
       "╞═════════════════════════╪════════╡\n",
       "│ <span style=\"color: #008080; text-decoration-color: #008080; font-weight: bold\">0</span>                       ┆ <span style=\"color: #008080; text-decoration-color: #008080; font-weight: bold\">197057</span> │\n",
       "│ <span style=\"color: #008080; text-decoration-color: #008080; font-weight: bold\">5</span>                       ┆ <span style=\"color: #008080; text-decoration-color: #008080; font-weight: bold\">75</span>     │\n",
       "│ <span style=\"color: #008080; text-decoration-color: #008080; font-weight: bold\">7</span>                       ┆ <span style=\"color: #008080; text-decoration-color: #008080; font-weight: bold\">9</span>      │\n",
       "│ <span style=\"color: #008080; text-decoration-color: #008080; font-weight: bold\">4</span>                       ┆ <span style=\"color: #008080; text-decoration-color: #008080; font-weight: bold\">380</span>    │\n",
       "│ <span style=\"color: #008080; text-decoration-color: #008080; font-weight: bold\">11</span>                      ┆ <span style=\"color: #008080; text-decoration-color: #008080; font-weight: bold\">1</span>      │\n",
       "│ …                       ┆ …      │\n",
       "│ <span style=\"color: #008080; text-decoration-color: #008080; font-weight: bold\">14</span>                      ┆ <span style=\"color: #008080; text-decoration-color: #008080; font-weight: bold\">1</span>      │\n",
       "│ <span style=\"color: #008080; text-decoration-color: #008080; font-weight: bold\">10</span>                      ┆ <span style=\"color: #008080; text-decoration-color: #008080; font-weight: bold\">1</span>      │\n",
       "│ <span style=\"color: #008080; text-decoration-color: #008080; font-weight: bold\">9</span>                       ┆ <span style=\"color: #008080; text-decoration-color: #008080; font-weight: bold\">2</span>      │\n",
       "│ <span style=\"color: #008080; text-decoration-color: #008080; font-weight: bold\">3</span>                       ┆ <span style=\"color: #008080; text-decoration-color: #008080; font-weight: bold\">3645</span>   │\n",
       "│ <span style=\"color: #008080; text-decoration-color: #008080; font-weight: bold\">8</span>                       ┆ <span style=\"color: #008080; text-decoration-color: #008080; font-weight: bold\">5</span>      │\n",
       "└─────────────────────────┴────────┘\n",
       "</pre>\n"
      ],
      "text/plain": [
       "date_of_death shape: \u001b[1m(\u001b[0m\u001b[1;36m13\u001b[0m, \u001b[1;36m2\u001b[0m\u001b[1m)\u001b[0m\n",
       "┌─────────────────────────┬────────┐\n",
       "│ length of date_of_death ┆ count  │\n",
       "│ ---                     ┆ ---    │\n",
       "│ i64                     ┆ u32    │\n",
       "╞═════════════════════════╪════════╡\n",
       "│ \u001b[1;36m0\u001b[0m                       ┆ \u001b[1;36m197057\u001b[0m │\n",
       "│ \u001b[1;36m5\u001b[0m                       ┆ \u001b[1;36m75\u001b[0m     │\n",
       "│ \u001b[1;36m7\u001b[0m                       ┆ \u001b[1;36m9\u001b[0m      │\n",
       "│ \u001b[1;36m4\u001b[0m                       ┆ \u001b[1;36m380\u001b[0m    │\n",
       "│ \u001b[1;36m11\u001b[0m                      ┆ \u001b[1;36m1\u001b[0m      │\n",
       "│ …                       ┆ …      │\n",
       "│ \u001b[1;36m14\u001b[0m                      ┆ \u001b[1;36m1\u001b[0m      │\n",
       "│ \u001b[1;36m10\u001b[0m                      ┆ \u001b[1;36m1\u001b[0m      │\n",
       "│ \u001b[1;36m9\u001b[0m                       ┆ \u001b[1;36m2\u001b[0m      │\n",
       "│ \u001b[1;36m3\u001b[0m                       ┆ \u001b[1;36m3645\u001b[0m   │\n",
       "│ \u001b[1;36m8\u001b[0m                       ┆ \u001b[1;36m5\u001b[0m      │\n",
       "└─────────────────────────┴────────┘\n"
      ]
     },
     "metadata": {},
     "output_type": "display_data"
    },
    {
     "data": {
      "text/html": [
       "<pre style=\"white-space:pre;overflow-x:auto;line-height:normal;font-family:Menlo,'DejaVu Sans Mono',consolas,'Courier New',monospace\">worked_at shape: <span style=\"font-weight: bold\">(</span><span style=\"color: #008080; text-decoration-color: #008080; font-weight: bold\">26</span>, <span style=\"color: #008080; text-decoration-color: #008080; font-weight: bold\">2</span><span style=\"font-weight: bold\">)</span>\n",
       "┌─────────────────────┬───────┐\n",
       "│ length of worked_at ┆ count │\n",
       "│ ---                 ┆ ---   │\n",
       "│ i64                 ┆ u32   │\n",
       "╞═════════════════════╪═══════╡\n",
       "│ <span style=\"color: #008080; text-decoration-color: #008080; font-weight: bold\">19</span>                  ┆ <span style=\"color: #008080; text-decoration-color: #008080; font-weight: bold\">2</span>     │\n",
       "│ <span style=\"color: #008080; text-decoration-color: #008080; font-weight: bold\">16</span>                  ┆ <span style=\"color: #008080; text-decoration-color: #008080; font-weight: bold\">6</span>     │\n",
       "│ <span style=\"color: #008080; text-decoration-color: #008080; font-weight: bold\">20</span>                  ┆ <span style=\"color: #008080; text-decoration-color: #008080; font-weight: bold\">1</span>     │\n",
       "│ <span style=\"color: #008080; text-decoration-color: #008080; font-weight: bold\">27</span>                  ┆ <span style=\"color: #008080; text-decoration-color: #008080; font-weight: bold\">1</span>     │\n",
       "│ <span style=\"color: #008080; text-decoration-color: #008080; font-weight: bold\">12</span>                  ┆ <span style=\"color: #008080; text-decoration-color: #008080; font-weight: bold\">26</span>    │\n",
       "│ …                   ┆ …     │\n",
       "│ <span style=\"color: #008080; text-decoration-color: #008080; font-weight: bold\">2</span>                   ┆ <span style=\"color: #008080; text-decoration-color: #008080; font-weight: bold\">33005</span> │\n",
       "│ <span style=\"color: #008080; text-decoration-color: #008080; font-weight: bold\">9</span>                   ┆ <span style=\"color: #008080; text-decoration-color: #008080; font-weight: bold\">185</span>   │\n",
       "│ <span style=\"color: #008080; text-decoration-color: #008080; font-weight: bold\">18</span>                  ┆ <span style=\"color: #008080; text-decoration-color: #008080; font-weight: bold\">3</span>     │\n",
       "│ <span style=\"color: #008080; text-decoration-color: #008080; font-weight: bold\">14</span>                  ┆ <span style=\"color: #008080; text-decoration-color: #008080; font-weight: bold\">14</span>    │\n",
       "│ <span style=\"color: #008080; text-decoration-color: #008080; font-weight: bold\">8</span>                   ┆ <span style=\"color: #008080; text-decoration-color: #008080; font-weight: bold\">334</span>   │\n",
       "└─────────────────────┴───────┘\n",
       "</pre>\n"
      ],
      "text/plain": [
       "worked_at shape: \u001b[1m(\u001b[0m\u001b[1;36m26\u001b[0m, \u001b[1;36m2\u001b[0m\u001b[1m)\u001b[0m\n",
       "┌─────────────────────┬───────┐\n",
       "│ length of worked_at ┆ count │\n",
       "│ ---                 ┆ ---   │\n",
       "│ i64                 ┆ u32   │\n",
       "╞═════════════════════╪═══════╡\n",
       "│ \u001b[1;36m19\u001b[0m                  ┆ \u001b[1;36m2\u001b[0m     │\n",
       "│ \u001b[1;36m16\u001b[0m                  ┆ \u001b[1;36m6\u001b[0m     │\n",
       "│ \u001b[1;36m20\u001b[0m                  ┆ \u001b[1;36m1\u001b[0m     │\n",
       "│ \u001b[1;36m27\u001b[0m                  ┆ \u001b[1;36m1\u001b[0m     │\n",
       "│ \u001b[1;36m12\u001b[0m                  ┆ \u001b[1;36m26\u001b[0m    │\n",
       "│ …                   ┆ …     │\n",
       "│ \u001b[1;36m2\u001b[0m                   ┆ \u001b[1;36m33005\u001b[0m │\n",
       "│ \u001b[1;36m9\u001b[0m                   ┆ \u001b[1;36m185\u001b[0m   │\n",
       "│ \u001b[1;36m18\u001b[0m                  ┆ \u001b[1;36m3\u001b[0m     │\n",
       "│ \u001b[1;36m14\u001b[0m                  ┆ \u001b[1;36m14\u001b[0m    │\n",
       "│ \u001b[1;36m8\u001b[0m                   ┆ \u001b[1;36m334\u001b[0m   │\n",
       "└─────────────────────┴───────┘\n"
      ]
     },
     "metadata": {},
     "output_type": "display_data"
    },
    {
     "data": {
      "text/html": [
       "<pre style=\"white-space:pre;overflow-x:auto;line-height:normal;font-family:Menlo,'DejaVu Sans Mono',consolas,'Courier New',monospace\">country_of_citizenship shape: <span style=\"font-weight: bold\">(</span><span style=\"color: #008080; text-decoration-color: #008080; font-weight: bold\">11</span>, <span style=\"color: #008080; text-decoration-color: #008080; font-weight: bold\">2</span><span style=\"font-weight: bold\">)</span>\n",
       "┌──────────────────────────────────┬─────────┐\n",
       "│ length of country_of_citizenship ┆ count   │\n",
       "│ ---                              ┆ ---     │\n",
       "│ i64                              ┆ u32     │\n",
       "╞══════════════════════════════════╪═════════╡\n",
       "│ <span style=\"color: #008080; text-decoration-color: #008080; font-weight: bold\">3</span>                                ┆ <span style=\"color: #008080; text-decoration-color: #008080; font-weight: bold\">19666</span>   │\n",
       "│ <span style=\"color: #008080; text-decoration-color: #008080; font-weight: bold\">6</span>                                ┆ <span style=\"color: #008080; text-decoration-color: #008080; font-weight: bold\">111</span>     │\n",
       "│ <span style=\"color: #008080; text-decoration-color: #008080; font-weight: bold\">1</span>                                ┆ <span style=\"color: #008080; text-decoration-color: #008080; font-weight: bold\">1403337</span> │\n",
       "│ <span style=\"color: #008080; text-decoration-color: #008080; font-weight: bold\">2</span>                                ┆ <span style=\"color: #008080; text-decoration-color: #008080; font-weight: bold\">119595</span>  │\n",
       "│ <span style=\"color: #008080; text-decoration-color: #008080; font-weight: bold\">9</span>                                ┆ <span style=\"color: #008080; text-decoration-color: #008080; font-weight: bold\">3</span>       │\n",
       "│ …                                ┆ …       │\n",
       "│ <span style=\"color: #008080; text-decoration-color: #008080; font-weight: bold\">5</span>                                ┆ <span style=\"color: #008080; text-decoration-color: #008080; font-weight: bold\">383</span>     │\n",
       "│ <span style=\"color: #008080; text-decoration-color: #008080; font-weight: bold\">10</span>                               ┆ <span style=\"color: #008080; text-decoration-color: #008080; font-weight: bold\">1</span>       │\n",
       "│ <span style=\"color: #008080; text-decoration-color: #008080; font-weight: bold\">7</span>                                ┆ <span style=\"color: #008080; text-decoration-color: #008080; font-weight: bold\">39</span>      │\n",
       "│ <span style=\"color: #008080; text-decoration-color: #008080; font-weight: bold\">0</span>                                ┆ <span style=\"color: #008080; text-decoration-color: #008080; font-weight: bold\">448291</span>  │\n",
       "│ <span style=\"color: #008080; text-decoration-color: #008080; font-weight: bold\">4</span>                                ┆ <span style=\"color: #008080; text-decoration-color: #008080; font-weight: bold\">2025</span>    │\n",
       "└──────────────────────────────────┴─────────┘\n",
       "</pre>\n"
      ],
      "text/plain": [
       "country_of_citizenship shape: \u001b[1m(\u001b[0m\u001b[1;36m11\u001b[0m, \u001b[1;36m2\u001b[0m\u001b[1m)\u001b[0m\n",
       "┌──────────────────────────────────┬─────────┐\n",
       "│ length of country_of_citizenship ┆ count   │\n",
       "│ ---                              ┆ ---     │\n",
       "│ i64                              ┆ u32     │\n",
       "╞══════════════════════════════════╪═════════╡\n",
       "│ \u001b[1;36m3\u001b[0m                                ┆ \u001b[1;36m19666\u001b[0m   │\n",
       "│ \u001b[1;36m6\u001b[0m                                ┆ \u001b[1;36m111\u001b[0m     │\n",
       "│ \u001b[1;36m1\u001b[0m                                ┆ \u001b[1;36m1403337\u001b[0m │\n",
       "│ \u001b[1;36m2\u001b[0m                                ┆ \u001b[1;36m119595\u001b[0m  │\n",
       "│ \u001b[1;36m9\u001b[0m                                ┆ \u001b[1;36m3\u001b[0m       │\n",
       "│ …                                ┆ …       │\n",
       "│ \u001b[1;36m5\u001b[0m                                ┆ \u001b[1;36m383\u001b[0m     │\n",
       "│ \u001b[1;36m10\u001b[0m                               ┆ \u001b[1;36m1\u001b[0m       │\n",
       "│ \u001b[1;36m7\u001b[0m                                ┆ \u001b[1;36m39\u001b[0m      │\n",
       "│ \u001b[1;36m0\u001b[0m                                ┆ \u001b[1;36m448291\u001b[0m  │\n",
       "│ \u001b[1;36m4\u001b[0m                                ┆ \u001b[1;36m2025\u001b[0m    │\n",
       "└──────────────────────────────────┴─────────┘\n"
      ]
     },
     "metadata": {},
     "output_type": "display_data"
    },
    {
     "data": {
      "text/html": [
       "<pre style=\"white-space:pre;overflow-x:auto;line-height:normal;font-family:Menlo,'DejaVu Sans Mono',consolas,'Courier New',monospace\">country shape: <span style=\"font-weight: bold\">(</span><span style=\"color: #008080; text-decoration-color: #008080; font-weight: bold\">4</span>, <span style=\"color: #008080; text-decoration-color: #008080; font-weight: bold\">2</span><span style=\"font-weight: bold\">)</span>\n",
       "┌───────────────────┬─────────┐\n",
       "│ length of country ┆ count   │\n",
       "│ ---               ┆ ---     │\n",
       "│ i64               ┆ u32     │\n",
       "╞═══════════════════╪═════════╡\n",
       "│ <span style=\"color: #008080; text-decoration-color: #008080; font-weight: bold\">2</span>                 ┆ <span style=\"color: #008080; text-decoration-color: #008080; font-weight: bold\">3</span>       │\n",
       "│ <span style=\"color: #008080; text-decoration-color: #008080; font-weight: bold\">3</span>                 ┆ <span style=\"color: #008080; text-decoration-color: #008080; font-weight: bold\">1</span>       │\n",
       "│ <span style=\"color: #008080; text-decoration-color: #008080; font-weight: bold\">0</span>                 ┆ <span style=\"color: #008080; text-decoration-color: #008080; font-weight: bold\">1992220</span> │\n",
       "│ <span style=\"color: #008080; text-decoration-color: #008080; font-weight: bold\">1</span>                 ┆ <span style=\"color: #008080; text-decoration-color: #008080; font-weight: bold\">1235</span>    │\n",
       "└───────────────────┴─────────┘\n",
       "</pre>\n"
      ],
      "text/plain": [
       "country shape: \u001b[1m(\u001b[0m\u001b[1;36m4\u001b[0m, \u001b[1;36m2\u001b[0m\u001b[1m)\u001b[0m\n",
       "┌───────────────────┬─────────┐\n",
       "│ length of country ┆ count   │\n",
       "│ ---               ┆ ---     │\n",
       "│ i64               ┆ u32     │\n",
       "╞═══════════════════╪═════════╡\n",
       "│ \u001b[1;36m2\u001b[0m                 ┆ \u001b[1;36m3\u001b[0m       │\n",
       "│ \u001b[1;36m3\u001b[0m                 ┆ \u001b[1;36m1\u001b[0m       │\n",
       "│ \u001b[1;36m0\u001b[0m                 ┆ \u001b[1;36m1992220\u001b[0m │\n",
       "│ \u001b[1;36m1\u001b[0m                 ┆ \u001b[1;36m1235\u001b[0m    │\n",
       "└───────────────────┴─────────┘\n"
      ]
     },
     "metadata": {},
     "output_type": "display_data"
    },
    {
     "data": {
      "text/html": [
       "<pre style=\"white-space:pre;overflow-x:auto;line-height:normal;font-family:Menlo,'DejaVu Sans Mono',consolas,'Courier New',monospace\">educated_at shape: <span style=\"font-weight: bold\">(</span><span style=\"color: #008080; text-decoration-color: #008080; font-weight: bold\">15</span>, <span style=\"color: #008080; text-decoration-color: #008080; font-weight: bold\">2</span><span style=\"font-weight: bold\">)</span>\n",
       "┌───────────────────────┬────────┐\n",
       "│ length of educated_at ┆ count  │\n",
       "│ ---                   ┆ ---    │\n",
       "│ i64                   ┆ u32    │\n",
       "╞═══════════════════════╪════════╡\n",
       "│ <span style=\"color: #008080; text-decoration-color: #008080; font-weight: bold\">5</span>                     ┆ <span style=\"color: #008080; text-decoration-color: #008080; font-weight: bold\">3795</span>   │\n",
       "│ <span style=\"color: #008080; text-decoration-color: #008080; font-weight: bold\">13</span>                    ┆ <span style=\"color: #008080; text-decoration-color: #008080; font-weight: bold\">1</span>      │\n",
       "│ <span style=\"color: #008080; text-decoration-color: #008080; font-weight: bold\">11</span>                    ┆ <span style=\"color: #008080; text-decoration-color: #008080; font-weight: bold\">6</span>      │\n",
       "│ <span style=\"color: #008080; text-decoration-color: #008080; font-weight: bold\">4</span>                     ┆ <span style=\"color: #008080; text-decoration-color: #008080; font-weight: bold\">14746</span>  │\n",
       "│ <span style=\"color: #008080; text-decoration-color: #008080; font-weight: bold\">8</span>                     ┆ <span style=\"color: #008080; text-decoration-color: #008080; font-weight: bold\">81</span>     │\n",
       "│ …                     ┆ …      │\n",
       "│ <span style=\"color: #008080; text-decoration-color: #008080; font-weight: bold\">10</span>                    ┆ <span style=\"color: #008080; text-decoration-color: #008080; font-weight: bold\">3</span>      │\n",
       "│ <span style=\"color: #008080; text-decoration-color: #008080; font-weight: bold\">1</span>                     ┆ <span style=\"color: #008080; text-decoration-color: #008080; font-weight: bold\">411639</span> │\n",
       "│ <span style=\"color: #008080; text-decoration-color: #008080; font-weight: bold\">2</span>                     ┆ <span style=\"color: #008080; text-decoration-color: #008080; font-weight: bold\">174299</span> │\n",
       "│ <span style=\"color: #008080; text-decoration-color: #008080; font-weight: bold\">9</span>                     ┆ <span style=\"color: #008080; text-decoration-color: #008080; font-weight: bold\">30</span>     │\n",
       "│ <span style=\"color: #008080; text-decoration-color: #008080; font-weight: bold\">3</span>                     ┆ <span style=\"color: #008080; text-decoration-color: #008080; font-weight: bold\">54981</span>  │\n",
       "└───────────────────────┴────────┘\n",
       "</pre>\n"
      ],
      "text/plain": [
       "educated_at shape: \u001b[1m(\u001b[0m\u001b[1;36m15\u001b[0m, \u001b[1;36m2\u001b[0m\u001b[1m)\u001b[0m\n",
       "┌───────────────────────┬────────┐\n",
       "│ length of educated_at ┆ count  │\n",
       "│ ---                   ┆ ---    │\n",
       "│ i64                   ┆ u32    │\n",
       "╞═══════════════════════╪════════╡\n",
       "│ \u001b[1;36m5\u001b[0m                     ┆ \u001b[1;36m3795\u001b[0m   │\n",
       "│ \u001b[1;36m13\u001b[0m                    ┆ \u001b[1;36m1\u001b[0m      │\n",
       "│ \u001b[1;36m11\u001b[0m                    ┆ \u001b[1;36m6\u001b[0m      │\n",
       "│ \u001b[1;36m4\u001b[0m                     ┆ \u001b[1;36m14746\u001b[0m  │\n",
       "│ \u001b[1;36m8\u001b[0m                     ┆ \u001b[1;36m81\u001b[0m     │\n",
       "│ …                     ┆ …      │\n",
       "│ \u001b[1;36m10\u001b[0m                    ┆ \u001b[1;36m3\u001b[0m      │\n",
       "│ \u001b[1;36m1\u001b[0m                     ┆ \u001b[1;36m411639\u001b[0m │\n",
       "│ \u001b[1;36m2\u001b[0m                     ┆ \u001b[1;36m174299\u001b[0m │\n",
       "│ \u001b[1;36m9\u001b[0m                     ┆ \u001b[1;36m30\u001b[0m     │\n",
       "│ \u001b[1;36m3\u001b[0m                     ┆ \u001b[1;36m54981\u001b[0m  │\n",
       "└───────────────────────┴────────┘\n"
      ]
     },
     "metadata": {},
     "output_type": "display_data"
    },
    {
     "data": {
      "text/html": [
       "<pre style=\"white-space:pre;overflow-x:auto;line-height:normal;font-family:Menlo,'DejaVu Sans Mono',consolas,'Courier New',monospace\">occupation shape: <span style=\"font-weight: bold\">(</span><span style=\"color: #008080; text-decoration-color: #008080; font-weight: bold\">29</span>, <span style=\"color: #008080; text-decoration-color: #008080; font-weight: bold\">2</span><span style=\"font-weight: bold\">)</span>\n",
       "┌──────────────────────┬────────┐\n",
       "│ length of occupation ┆ count  │\n",
       "│ ---                  ┆ ---    │\n",
       "│ i64                  ┆ u32    │\n",
       "╞══════════════════════╪════════╡\n",
       "│ <span style=\"color: #008080; text-decoration-color: #008080; font-weight: bold\">10</span>                   ┆ <span style=\"color: #008080; text-decoration-color: #008080; font-weight: bold\">1037</span>   │\n",
       "│ <span style=\"color: #008080; text-decoration-color: #008080; font-weight: bold\">19</span>                   ┆ <span style=\"color: #008080; text-decoration-color: #008080; font-weight: bold\">16</span>     │\n",
       "│ <span style=\"color: #008080; text-decoration-color: #008080; font-weight: bold\">13</span>                   ┆ <span style=\"color: #008080; text-decoration-color: #008080; font-weight: bold\">204</span>    │\n",
       "│ <span style=\"color: #008080; text-decoration-color: #008080; font-weight: bold\">21</span>                   ┆ <span style=\"color: #008080; text-decoration-color: #008080; font-weight: bold\">5</span>      │\n",
       "│ <span style=\"color: #008080; text-decoration-color: #008080; font-weight: bold\">20</span>                   ┆ <span style=\"color: #008080; text-decoration-color: #008080; font-weight: bold\">8</span>      │\n",
       "│ …                    ┆ …      │\n",
       "│ <span style=\"color: #008080; text-decoration-color: #008080; font-weight: bold\">4</span>                    ┆ <span style=\"color: #008080; text-decoration-color: #008080; font-weight: bold\">67268</span>  │\n",
       "│ <span style=\"color: #008080; text-decoration-color: #008080; font-weight: bold\">31</span>                   ┆ <span style=\"color: #008080; text-decoration-color: #008080; font-weight: bold\">1</span>      │\n",
       "│ <span style=\"color: #008080; text-decoration-color: #008080; font-weight: bold\">2</span>                    ┆ <span style=\"color: #008080; text-decoration-color: #008080; font-weight: bold\">383634</span> │\n",
       "│ <span style=\"color: #008080; text-decoration-color: #008080; font-weight: bold\">25</span>                   ┆ <span style=\"color: #008080; text-decoration-color: #008080; font-weight: bold\">1</span>      │\n",
       "│ <span style=\"color: #008080; text-decoration-color: #008080; font-weight: bold\">5</span>                    ┆ <span style=\"color: #008080; text-decoration-color: #008080; font-weight: bold\">30524</span>  │\n",
       "└──────────────────────┴────────┘\n",
       "</pre>\n"
      ],
      "text/plain": [
       "occupation shape: \u001b[1m(\u001b[0m\u001b[1;36m29\u001b[0m, \u001b[1;36m2\u001b[0m\u001b[1m)\u001b[0m\n",
       "┌──────────────────────┬────────┐\n",
       "│ length of occupation ┆ count  │\n",
       "│ ---                  ┆ ---    │\n",
       "│ i64                  ┆ u32    │\n",
       "╞══════════════════════╪════════╡\n",
       "│ \u001b[1;36m10\u001b[0m                   ┆ \u001b[1;36m1037\u001b[0m   │\n",
       "│ \u001b[1;36m19\u001b[0m                   ┆ \u001b[1;36m16\u001b[0m     │\n",
       "│ \u001b[1;36m13\u001b[0m                   ┆ \u001b[1;36m204\u001b[0m    │\n",
       "│ \u001b[1;36m21\u001b[0m                   ┆ \u001b[1;36m5\u001b[0m      │\n",
       "│ \u001b[1;36m20\u001b[0m                   ┆ \u001b[1;36m8\u001b[0m      │\n",
       "│ …                    ┆ …      │\n",
       "│ \u001b[1;36m4\u001b[0m                    ┆ \u001b[1;36m67268\u001b[0m  │\n",
       "│ \u001b[1;36m31\u001b[0m                   ┆ \u001b[1;36m1\u001b[0m      │\n",
       "│ \u001b[1;36m2\u001b[0m                    ┆ \u001b[1;36m383634\u001b[0m │\n",
       "│ \u001b[1;36m25\u001b[0m                   ┆ \u001b[1;36m1\u001b[0m      │\n",
       "│ \u001b[1;36m5\u001b[0m                    ┆ \u001b[1;36m30524\u001b[0m  │\n",
       "└──────────────────────┴────────┘\n"
      ]
     },
     "metadata": {},
     "output_type": "display_data"
    },
    {
     "data": {
      "text/html": [
       "<pre style=\"white-space:pre;overflow-x:auto;line-height:normal;font-family:Menlo,'DejaVu Sans Mono',consolas,'Courier New',monospace\">instrument shape: <span style=\"font-weight: bold\">(</span><span style=\"color: #008080; text-decoration-color: #008080; font-weight: bold\">21</span>, <span style=\"color: #008080; text-decoration-color: #008080; font-weight: bold\">2</span><span style=\"font-weight: bold\">)</span>\n",
       "┌──────────────────────┬───────┐\n",
       "│ length of instrument ┆ count │\n",
       "│ ---                  ┆ ---   │\n",
       "│ i64                  ┆ u32   │\n",
       "╞══════════════════════╪═══════╡\n",
       "│ <span style=\"color: #008080; text-decoration-color: #008080; font-weight: bold\">4</span>                    ┆ <span style=\"color: #008080; text-decoration-color: #008080; font-weight: bold\">858</span>   │\n",
       "│ <span style=\"color: #008080; text-decoration-color: #008080; font-weight: bold\">31</span>                   ┆ <span style=\"color: #008080; text-decoration-color: #008080; font-weight: bold\">1</span>     │\n",
       "│ <span style=\"color: #008080; text-decoration-color: #008080; font-weight: bold\">3</span>                    ┆ <span style=\"color: #008080; text-decoration-color: #008080; font-weight: bold\">2379</span>  │\n",
       "│ <span style=\"color: #008080; text-decoration-color: #008080; font-weight: bold\">6</span>                    ┆ <span style=\"color: #008080; text-decoration-color: #008080; font-weight: bold\">145</span>   │\n",
       "│ <span style=\"color: #008080; text-decoration-color: #008080; font-weight: bold\">20</span>                   ┆ <span style=\"color: #008080; text-decoration-color: #008080; font-weight: bold\">1</span>     │\n",
       "│ …                    ┆ …     │\n",
       "│ <span style=\"color: #008080; text-decoration-color: #008080; font-weight: bold\">15</span>                   ┆ <span style=\"color: #008080; text-decoration-color: #008080; font-weight: bold\">3</span>     │\n",
       "│ <span style=\"color: #008080; text-decoration-color: #008080; font-weight: bold\">10</span>                   ┆ <span style=\"color: #008080; text-decoration-color: #008080; font-weight: bold\">13</span>    │\n",
       "│ <span style=\"color: #008080; text-decoration-color: #008080; font-weight: bold\">5</span>                    ┆ <span style=\"color: #008080; text-decoration-color: #008080; font-weight: bold\">345</span>   │\n",
       "│ <span style=\"color: #008080; text-decoration-color: #008080; font-weight: bold\">28</span>                   ┆ <span style=\"color: #008080; text-decoration-color: #008080; font-weight: bold\">1</span>     │\n",
       "│ <span style=\"color: #008080; text-decoration-color: #008080; font-weight: bold\">24</span>                   ┆ <span style=\"color: #008080; text-decoration-color: #008080; font-weight: bold\">1</span>     │\n",
       "└──────────────────────┴───────┘\n",
       "</pre>\n"
      ],
      "text/plain": [
       "instrument shape: \u001b[1m(\u001b[0m\u001b[1;36m21\u001b[0m, \u001b[1;36m2\u001b[0m\u001b[1m)\u001b[0m\n",
       "┌──────────────────────┬───────┐\n",
       "│ length of instrument ┆ count │\n",
       "│ ---                  ┆ ---   │\n",
       "│ i64                  ┆ u32   │\n",
       "╞══════════════════════╪═══════╡\n",
       "│ \u001b[1;36m4\u001b[0m                    ┆ \u001b[1;36m858\u001b[0m   │\n",
       "│ \u001b[1;36m31\u001b[0m                   ┆ \u001b[1;36m1\u001b[0m     │\n",
       "│ \u001b[1;36m3\u001b[0m                    ┆ \u001b[1;36m2379\u001b[0m  │\n",
       "│ \u001b[1;36m6\u001b[0m                    ┆ \u001b[1;36m145\u001b[0m   │\n",
       "│ \u001b[1;36m20\u001b[0m                   ┆ \u001b[1;36m1\u001b[0m     │\n",
       "│ …                    ┆ …     │\n",
       "│ \u001b[1;36m15\u001b[0m                   ┆ \u001b[1;36m3\u001b[0m     │\n",
       "│ \u001b[1;36m10\u001b[0m                   ┆ \u001b[1;36m13\u001b[0m    │\n",
       "│ \u001b[1;36m5\u001b[0m                    ┆ \u001b[1;36m345\u001b[0m   │\n",
       "│ \u001b[1;36m28\u001b[0m                   ┆ \u001b[1;36m1\u001b[0m     │\n",
       "│ \u001b[1;36m24\u001b[0m                   ┆ \u001b[1;36m1\u001b[0m     │\n",
       "└──────────────────────┴───────┘\n"
      ]
     },
     "metadata": {},
     "output_type": "display_data"
    },
    {
     "data": {
      "text/html": [
       "<pre style=\"white-space:pre;overflow-x:auto;line-height:normal;font-family:Menlo,'DejaVu Sans Mono',consolas,'Courier New',monospace\">genre shape: <span style=\"font-weight: bold\">(</span><span style=\"color: #008080; text-decoration-color: #008080; font-weight: bold\">24</span>, <span style=\"color: #008080; text-decoration-color: #008080; font-weight: bold\">2</span><span style=\"font-weight: bold\">)</span>\n",
       "┌─────────────────┬───────┐\n",
       "│ length of genre ┆ count │\n",
       "│ ---             ┆ ---   │\n",
       "│ i64             ┆ u32   │\n",
       "╞═════════════════╪═══════╡\n",
       "│ <span style=\"color: #008080; text-decoration-color: #008080; font-weight: bold\">3</span>               ┆ <span style=\"color: #008080; text-decoration-color: #008080; font-weight: bold\">3208</span>  │\n",
       "│ <span style=\"color: #008080; text-decoration-color: #008080; font-weight: bold\">16</span>              ┆ <span style=\"color: #008080; text-decoration-color: #008080; font-weight: bold\">1</span>     │\n",
       "│ <span style=\"color: #008080; text-decoration-color: #008080; font-weight: bold\">23</span>              ┆ <span style=\"color: #008080; text-decoration-color: #008080; font-weight: bold\">2</span>     │\n",
       "│ <span style=\"color: #008080; text-decoration-color: #008080; font-weight: bold\">6</span>               ┆ <span style=\"color: #008080; text-decoration-color: #008080; font-weight: bold\">455</span>   │\n",
       "│ <span style=\"color: #008080; text-decoration-color: #008080; font-weight: bold\">13</span>              ┆ <span style=\"color: #008080; text-decoration-color: #008080; font-weight: bold\">7</span>     │\n",
       "│ …               ┆ …     │\n",
       "│ <span style=\"color: #008080; text-decoration-color: #008080; font-weight: bold\">14</span>              ┆ <span style=\"color: #008080; text-decoration-color: #008080; font-weight: bold\">6</span>     │\n",
       "│ <span style=\"color: #008080; text-decoration-color: #008080; font-weight: bold\">18</span>              ┆ <span style=\"color: #008080; text-decoration-color: #008080; font-weight: bold\">2</span>     │\n",
       "│ <span style=\"color: #008080; text-decoration-color: #008080; font-weight: bold\">11</span>              ┆ <span style=\"color: #008080; text-decoration-color: #008080; font-weight: bold\">27</span>    │\n",
       "│ <span style=\"color: #008080; text-decoration-color: #008080; font-weight: bold\">5</span>               ┆ <span style=\"color: #008080; text-decoration-color: #008080; font-weight: bold\">853</span>   │\n",
       "│ <span style=\"color: #008080; text-decoration-color: #008080; font-weight: bold\">25</span>              ┆ <span style=\"color: #008080; text-decoration-color: #008080; font-weight: bold\">1</span>     │\n",
       "└─────────────────┴───────┘\n",
       "</pre>\n"
      ],
      "text/plain": [
       "genre shape: \u001b[1m(\u001b[0m\u001b[1;36m24\u001b[0m, \u001b[1;36m2\u001b[0m\u001b[1m)\u001b[0m\n",
       "┌─────────────────┬───────┐\n",
       "│ length of genre ┆ count │\n",
       "│ ---             ┆ ---   │\n",
       "│ i64             ┆ u32   │\n",
       "╞═════════════════╪═══════╡\n",
       "│ \u001b[1;36m3\u001b[0m               ┆ \u001b[1;36m3208\u001b[0m  │\n",
       "│ \u001b[1;36m16\u001b[0m              ┆ \u001b[1;36m1\u001b[0m     │\n",
       "│ \u001b[1;36m23\u001b[0m              ┆ \u001b[1;36m2\u001b[0m     │\n",
       "│ \u001b[1;36m6\u001b[0m               ┆ \u001b[1;36m455\u001b[0m   │\n",
       "│ \u001b[1;36m13\u001b[0m              ┆ \u001b[1;36m7\u001b[0m     │\n",
       "│ …               ┆ …     │\n",
       "│ \u001b[1;36m14\u001b[0m              ┆ \u001b[1;36m6\u001b[0m     │\n",
       "│ \u001b[1;36m18\u001b[0m              ┆ \u001b[1;36m2\u001b[0m     │\n",
       "│ \u001b[1;36m11\u001b[0m              ┆ \u001b[1;36m27\u001b[0m    │\n",
       "│ \u001b[1;36m5\u001b[0m               ┆ \u001b[1;36m853\u001b[0m   │\n",
       "│ \u001b[1;36m25\u001b[0m              ┆ \u001b[1;36m1\u001b[0m     │\n",
       "└─────────────────┴───────┘\n"
      ]
     },
     "metadata": {},
     "output_type": "display_data"
    },
    {
     "data": {
      "text/html": [
       "<pre style=\"white-space:pre;overflow-x:auto;line-height:normal;font-family:Menlo,'DejaVu Sans Mono',consolas,'Courier New',monospace\">industry shape: <span style=\"font-weight: bold\">(</span><span style=\"color: #008080; text-decoration-color: #008080; font-weight: bold\">5</span>, <span style=\"color: #008080; text-decoration-color: #008080; font-weight: bold\">2</span><span style=\"font-weight: bold\">)</span>\n",
       "┌────────────────────┬─────────┐\n",
       "│ length of industry ┆ count   │\n",
       "│ ---                ┆ ---     │\n",
       "│ i64                ┆ u32     │\n",
       "╞════════════════════╪═════════╡\n",
       "│ <span style=\"color: #008080; text-decoration-color: #008080; font-weight: bold\">1</span>                  ┆ <span style=\"color: #008080; text-decoration-color: #008080; font-weight: bold\">199</span>     │\n",
       "│ <span style=\"color: #008080; text-decoration-color: #008080; font-weight: bold\">3</span>                  ┆ <span style=\"color: #008080; text-decoration-color: #008080; font-weight: bold\">98</span>      │\n",
       "│ <span style=\"color: #008080; text-decoration-color: #008080; font-weight: bold\">2</span>                  ┆ <span style=\"color: #008080; text-decoration-color: #008080; font-weight: bold\">67</span>      │\n",
       "│ <span style=\"color: #008080; text-decoration-color: #008080; font-weight: bold\">4</span>                  ┆ <span style=\"color: #008080; text-decoration-color: #008080; font-weight: bold\">2</span>       │\n",
       "│ <span style=\"color: #008080; text-decoration-color: #008080; font-weight: bold\">0</span>                  ┆ <span style=\"color: #008080; text-decoration-color: #008080; font-weight: bold\">1993093</span> │\n",
       "└────────────────────┴─────────┘\n",
       "</pre>\n"
      ],
      "text/plain": [
       "industry shape: \u001b[1m(\u001b[0m\u001b[1;36m5\u001b[0m, \u001b[1;36m2\u001b[0m\u001b[1m)\u001b[0m\n",
       "┌────────────────────┬─────────┐\n",
       "│ length of industry ┆ count   │\n",
       "│ ---                ┆ ---     │\n",
       "│ i64                ┆ u32     │\n",
       "╞════════════════════╪═════════╡\n",
       "│ \u001b[1;36m1\u001b[0m                  ┆ \u001b[1;36m199\u001b[0m     │\n",
       "│ \u001b[1;36m3\u001b[0m                  ┆ \u001b[1;36m98\u001b[0m      │\n",
       "│ \u001b[1;36m2\u001b[0m                  ┆ \u001b[1;36m67\u001b[0m      │\n",
       "│ \u001b[1;36m4\u001b[0m                  ┆ \u001b[1;36m2\u001b[0m       │\n",
       "│ \u001b[1;36m0\u001b[0m                  ┆ \u001b[1;36m1993093\u001b[0m │\n",
       "└────────────────────┴─────────┘\n"
      ]
     },
     "metadata": {},
     "output_type": "display_data"
    },
    {
     "data": {
      "text/html": [
       "<pre style=\"white-space:pre;overflow-x:auto;line-height:normal;font-family:Menlo,'DejaVu Sans Mono',consolas,'Courier New',monospace\">subclass_of shape: <span style=\"font-weight: bold\">(</span><span style=\"color: #008080; text-decoration-color: #008080; font-weight: bold\">3</span>, <span style=\"color: #008080; text-decoration-color: #008080; font-weight: bold\">2</span><span style=\"font-weight: bold\">)</span>\n",
       "┌───────────────────────┬─────────┐\n",
       "│ length of subclass_of ┆ count   │\n",
       "│ ---                   ┆ ---     │\n",
       "│ i64                   ┆ u32     │\n",
       "╞═══════════════════════╪═════════╡\n",
       "│ <span style=\"color: #008080; text-decoration-color: #008080; font-weight: bold\">0</span>                     ┆ <span style=\"color: #008080; text-decoration-color: #008080; font-weight: bold\">1993442</span> │\n",
       "│ <span style=\"color: #008080; text-decoration-color: #008080; font-weight: bold\">2</span>                     ┆ <span style=\"color: #008080; text-decoration-color: #008080; font-weight: bold\">1</span>       │\n",
       "│ <span style=\"color: #008080; text-decoration-color: #008080; font-weight: bold\">1</span>                     ┆ <span style=\"color: #008080; text-decoration-color: #008080; font-weight: bold\">16</span>      │\n",
       "└───────────────────────┴─────────┘\n",
       "</pre>\n"
      ],
      "text/plain": [
       "subclass_of shape: \u001b[1m(\u001b[0m\u001b[1;36m3\u001b[0m, \u001b[1;36m2\u001b[0m\u001b[1m)\u001b[0m\n",
       "┌───────────────────────┬─────────┐\n",
       "│ length of subclass_of ┆ count   │\n",
       "│ ---                   ┆ ---     │\n",
       "│ i64                   ┆ u32     │\n",
       "╞═══════════════════════╪═════════╡\n",
       "│ \u001b[1;36m0\u001b[0m                     ┆ \u001b[1;36m1993442\u001b[0m │\n",
       "│ \u001b[1;36m2\u001b[0m                     ┆ \u001b[1;36m1\u001b[0m       │\n",
       "│ \u001b[1;36m1\u001b[0m                     ┆ \u001b[1;36m16\u001b[0m      │\n",
       "└───────────────────────┴─────────┘\n"
      ]
     },
     "metadata": {},
     "output_type": "display_data"
    },
    {
     "data": {
      "text/html": [
       "<pre style=\"white-space:pre;overflow-x:auto;line-height:normal;font-family:Menlo,'DejaVu Sans Mono',consolas,'Courier New',monospace\">coordinate_location shape: <span style=\"font-weight: bold\">(</span><span style=\"color: #008080; text-decoration-color: #008080; font-weight: bold\">3</span>, <span style=\"color: #008080; text-decoration-color: #008080; font-weight: bold\">2</span><span style=\"font-weight: bold\">)</span>\n",
       "┌───────────────────────────────┬─────────┐\n",
       "│ length of coordinate_location ┆ count   │\n",
       "│ ---                           ┆ ---     │\n",
       "│ i64                           ┆ u32     │\n",
       "╞═══════════════════════════════╪═════════╡\n",
       "│ <span style=\"color: #008080; text-decoration-color: #008080; font-weight: bold\">1</span>                             ┆ <span style=\"color: #008080; text-decoration-color: #008080; font-weight: bold\">24</span>      │\n",
       "│ <span style=\"color: #008080; text-decoration-color: #008080; font-weight: bold\">2</span>                             ┆ <span style=\"color: #008080; text-decoration-color: #008080; font-weight: bold\">1</span>       │\n",
       "│ <span style=\"color: #008080; text-decoration-color: #008080; font-weight: bold\">0</span>                             ┆ <span style=\"color: #008080; text-decoration-color: #008080; font-weight: bold\">1993434</span> │\n",
       "└───────────────────────────────┴─────────┘\n",
       "</pre>\n"
      ],
      "text/plain": [
       "coordinate_location shape: \u001b[1m(\u001b[0m\u001b[1;36m3\u001b[0m, \u001b[1;36m2\u001b[0m\u001b[1m)\u001b[0m\n",
       "┌───────────────────────────────┬─────────┐\n",
       "│ length of coordinate_location ┆ count   │\n",
       "│ ---                           ┆ ---     │\n",
       "│ i64                           ┆ u32     │\n",
       "╞═══════════════════════════════╪═════════╡\n",
       "│ \u001b[1;36m1\u001b[0m                             ┆ \u001b[1;36m24\u001b[0m      │\n",
       "│ \u001b[1;36m2\u001b[0m                             ┆ \u001b[1;36m1\u001b[0m       │\n",
       "│ \u001b[1;36m0\u001b[0m                             ┆ \u001b[1;36m1993434\u001b[0m │\n",
       "└───────────────────────────────┴─────────┘\n"
      ]
     },
     "metadata": {},
     "output_type": "display_data"
    },
    {
     "data": {
      "text/html": [
       "<pre style=\"white-space:pre;overflow-x:auto;line-height:normal;font-family:Menlo,'DejaVu Sans Mono',consolas,'Courier New',monospace\">iso_3166_alpha3 shape: <span style=\"font-weight: bold\">(</span><span style=\"color: #008080; text-decoration-color: #008080; font-weight: bold\">1</span>, <span style=\"color: #008080; text-decoration-color: #008080; font-weight: bold\">2</span><span style=\"font-weight: bold\">)</span>\n",
       "┌───────────────────────────┬─────────┐\n",
       "│ length of iso_3166_alpha3 ┆ count   │\n",
       "│ ---                       ┆ ---     │\n",
       "│ i64                       ┆ u32     │\n",
       "╞═══════════════════════════╪═════════╡\n",
       "│ <span style=\"color: #008080; text-decoration-color: #008080; font-weight: bold\">0</span>                         ┆ <span style=\"color: #008080; text-decoration-color: #008080; font-weight: bold\">1993459</span> │\n",
       "└───────────────────────────┴─────────┘\n",
       "</pre>\n"
      ],
      "text/plain": [
       "iso_3166_alpha3 shape: \u001b[1m(\u001b[0m\u001b[1;36m1\u001b[0m, \u001b[1;36m2\u001b[0m\u001b[1m)\u001b[0m\n",
       "┌───────────────────────────┬─────────┐\n",
       "│ length of iso_3166_alpha3 ┆ count   │\n",
       "│ ---                       ┆ ---     │\n",
       "│ i64                       ┆ u32     │\n",
       "╞═══════════════════════════╪═════════╡\n",
       "│ \u001b[1;36m0\u001b[0m                         ┆ \u001b[1;36m1993459\u001b[0m │\n",
       "└───────────────────────────┴─────────┘\n"
      ]
     },
     "metadata": {},
     "output_type": "display_data"
    },
    {
     "data": {
      "text/html": [
       "<pre style=\"white-space:pre;overflow-x:auto;line-height:normal;font-family:Menlo,'DejaVu Sans Mono',consolas,'Courier New',monospace\">member_of shape: <span style=\"font-weight: bold\">(</span><span style=\"color: #008080; text-decoration-color: #008080; font-weight: bold\">26</span>, <span style=\"color: #008080; text-decoration-color: #008080; font-weight: bold\">2</span><span style=\"font-weight: bold\">)</span>\n",
       "┌─────────────────────┬───────┐\n",
       "│ length of member_of ┆ count │\n",
       "│ ---                 ┆ ---   │\n",
       "│ i64                 ┆ u32   │\n",
       "╞═════════════════════╪═══════╡\n",
       "│ <span style=\"color: #008080; text-decoration-color: #008080; font-weight: bold\">13</span>                  ┆ <span style=\"color: #008080; text-decoration-color: #008080; font-weight: bold\">48</span>    │\n",
       "│ <span style=\"color: #008080; text-decoration-color: #008080; font-weight: bold\">20</span>                  ┆ <span style=\"color: #008080; text-decoration-color: #008080; font-weight: bold\">3</span>     │\n",
       "│ <span style=\"color: #008080; text-decoration-color: #008080; font-weight: bold\">3</span>                   ┆ <span style=\"color: #008080; text-decoration-color: #008080; font-weight: bold\">7629</span>  │\n",
       "│ <span style=\"color: #008080; text-decoration-color: #008080; font-weight: bold\">7</span>                   ┆ <span style=\"color: #008080; text-decoration-color: #008080; font-weight: bold\">518</span>   │\n",
       "│ <span style=\"color: #008080; text-decoration-color: #008080; font-weight: bold\">5</span>                   ┆ <span style=\"color: #008080; text-decoration-color: #008080; font-weight: bold\">1689</span>  │\n",
       "│ …                   ┆ …     │\n",
       "│ <span style=\"color: #008080; text-decoration-color: #008080; font-weight: bold\">31</span>                  ┆ <span style=\"color: #008080; text-decoration-color: #008080; font-weight: bold\">1</span>     │\n",
       "│ <span style=\"color: #008080; text-decoration-color: #008080; font-weight: bold\">22</span>                  ┆ <span style=\"color: #008080; text-decoration-color: #008080; font-weight: bold\">3</span>     │\n",
       "│ <span style=\"color: #008080; text-decoration-color: #008080; font-weight: bold\">8</span>                   ┆ <span style=\"color: #008080; text-decoration-color: #008080; font-weight: bold\">331</span>   │\n",
       "│ <span style=\"color: #008080; text-decoration-color: #008080; font-weight: bold\">21</span>                  ┆ <span style=\"color: #008080; text-decoration-color: #008080; font-weight: bold\">4</span>     │\n",
       "│ <span style=\"color: #008080; text-decoration-color: #008080; font-weight: bold\">4</span>                   ┆ <span style=\"color: #008080; text-decoration-color: #008080; font-weight: bold\">3423</span>  │\n",
       "└─────────────────────┴───────┘\n",
       "</pre>\n"
      ],
      "text/plain": [
       "member_of shape: \u001b[1m(\u001b[0m\u001b[1;36m26\u001b[0m, \u001b[1;36m2\u001b[0m\u001b[1m)\u001b[0m\n",
       "┌─────────────────────┬───────┐\n",
       "│ length of member_of ┆ count │\n",
       "│ ---                 ┆ ---   │\n",
       "│ i64                 ┆ u32   │\n",
       "╞═════════════════════╪═══════╡\n",
       "│ \u001b[1;36m13\u001b[0m                  ┆ \u001b[1;36m48\u001b[0m    │\n",
       "│ \u001b[1;36m20\u001b[0m                  ┆ \u001b[1;36m3\u001b[0m     │\n",
       "│ \u001b[1;36m3\u001b[0m                   ┆ \u001b[1;36m7629\u001b[0m  │\n",
       "│ \u001b[1;36m7\u001b[0m                   ┆ \u001b[1;36m518\u001b[0m   │\n",
       "│ \u001b[1;36m5\u001b[0m                   ┆ \u001b[1;36m1689\u001b[0m  │\n",
       "│ …                   ┆ …     │\n",
       "│ \u001b[1;36m31\u001b[0m                  ┆ \u001b[1;36m1\u001b[0m     │\n",
       "│ \u001b[1;36m22\u001b[0m                  ┆ \u001b[1;36m3\u001b[0m     │\n",
       "│ \u001b[1;36m8\u001b[0m                   ┆ \u001b[1;36m331\u001b[0m   │\n",
       "│ \u001b[1;36m21\u001b[0m                  ┆ \u001b[1;36m4\u001b[0m     │\n",
       "│ \u001b[1;36m4\u001b[0m                   ┆ \u001b[1;36m3423\u001b[0m  │\n",
       "└─────────────────────┴───────┘\n"
      ]
     },
     "metadata": {},
     "output_type": "display_data"
    },
    {
     "data": {
      "text/html": [
       "<pre style=\"white-space:pre;overflow-x:auto;line-height:normal;font-family:Menlo,'DejaVu Sans Mono',consolas,'Courier New',monospace\">from_fictional_universe shape: <span style=\"font-weight: bold\">(</span><span style=\"color: #008080; text-decoration-color: #008080; font-weight: bold\">2</span>, <span style=\"color: #008080; text-decoration-color: #008080; font-weight: bold\">2</span><span style=\"font-weight: bold\">)</span>\n",
       "┌───────────────────────────────────┬─────────┐\n",
       "│ length of from_fictional_univers… ┆ count   │\n",
       "│ ---                               ┆ ---     │\n",
       "│ i64                               ┆ u32     │\n",
       "╞═══════════════════════════════════╪═════════╡\n",
       "│ <span style=\"color: #008080; text-decoration-color: #008080; font-weight: bold\">0</span>                                 ┆ <span style=\"color: #008080; text-decoration-color: #008080; font-weight: bold\">1993454</span> │\n",
       "│ <span style=\"color: #008080; text-decoration-color: #008080; font-weight: bold\">1</span>                                 ┆ <span style=\"color: #008080; text-decoration-color: #008080; font-weight: bold\">5</span>       │\n",
       "└───────────────────────────────────┴─────────┘\n",
       "</pre>\n"
      ],
      "text/plain": [
       "from_fictional_universe shape: \u001b[1m(\u001b[0m\u001b[1;36m2\u001b[0m, \u001b[1;36m2\u001b[0m\u001b[1m)\u001b[0m\n",
       "┌───────────────────────────────────┬─────────┐\n",
       "│ length of from_fictional_univers… ┆ count   │\n",
       "│ ---                               ┆ ---     │\n",
       "│ i64                               ┆ u32     │\n",
       "╞═══════════════════════════════════╪═════════╡\n",
       "│ \u001b[1;36m0\u001b[0m                                 ┆ \u001b[1;36m1993454\u001b[0m │\n",
       "│ \u001b[1;36m1\u001b[0m                                 ┆ \u001b[1;36m5\u001b[0m       │\n",
       "└───────────────────────────────────┴─────────┘\n"
      ]
     },
     "metadata": {},
     "output_type": "display_data"
    }
   ],
   "source": [
    "# For each list column, view distribution of list lengths \n",
    "list_columns = [c for c in info_df.columns if info_df[c].dtype == pl.List]\n",
    "for column in list_columns:\n",
    "    print(column, info_df[column].map_elements(len).rename(f'length of {column}').value_counts())"
   ]
  },
  {
   "cell_type": "code",
   "execution_count": 6,
   "metadata": {},
   "outputs": [
    {
     "data": {
      "text/plain": [
       "1"
      ]
     },
     "execution_count": 6,
     "metadata": {},
     "output_type": "execute_result"
    }
   ],
   "source": [
    "info_df['type'].n_unique()"
   ]
  },
  {
   "cell_type": "code",
   "execution_count": 16,
   "metadata": {},
   "outputs": [
    {
     "data": {
      "text/html": [
       "<div><style>\n",
       ".dataframe > thead > tr,\n",
       ".dataframe > tbody > tr {\n",
       "  text-align: right;\n",
       "  white-space: pre-wrap;\n",
       "}\n",
       "</style>\n",
       "<small>shape: (5, 2)</small><table border=\"1\" class=\"dataframe\"><thead><tr><th>gender</th><th>count</th></tr><tr><td>i64</td><td>u32</td></tr></thead><tbody><tr><td>3</td><td>15</td></tr><tr><td>0</td><td>302</td></tr><tr><td>1</td><td>1992615</td></tr><tr><td>2</td><td>524</td></tr><tr><td>4</td><td>3</td></tr></tbody></table></div>"
      ],
      "text/plain": [
       "shape: (5, 2)\n",
       "┌────────┬─────────┐\n",
       "│ gender ┆ count   │\n",
       "│ ---    ┆ ---     │\n",
       "│ i64    ┆ u32     │\n",
       "╞════════╪═════════╡\n",
       "│ 3      ┆ 15      │\n",
       "│ 0      ┆ 302     │\n",
       "│ 1      ┆ 1992615 │\n",
       "│ 2      ┆ 524     │\n",
       "│ 4      ┆ 3       │\n",
       "└────────┴─────────┘"
      ]
     },
     "execution_count": 16,
     "metadata": {},
     "output_type": "execute_result"
    }
   ],
   "source": [
    "info_df['gender'].map_elements(len).value_counts()"
   ]
  },
  {
   "cell_type": "markdown",
   "metadata": {},
   "source": [
    "**Observations:**\n",
    "There are a few types of columns:\n",
    "1. Redundant columns: columns that don't add information, either because they contain the same value throughout, have many missing values or do not contribute to our specific needs. The columns are:\n",
    "    - `type` (same value for all rows)\n",
    "    - `numeric_id` (contained in `id`)\n",
    "    - `descriptions` (unneeded information)\n",
    "    - `labels` (unneeded information)\n",
    "    - `coordinate_location`(>99% empty)\n",
    "    - `country` (according to the Wikidata site, this property should not be used for humans)\n",
    "    - `date_of_death` (has wrong values)\n",
    "These columns will be dropped.\n",
    "2. Columns with a single value per row: columns that (should) have zero or one values for each row. These columns are:\n",
    "    - `id`\n",
    "    - `en_label`\n",
    "    - `en_wiki`\n",
    "    - `en_description`\n",
    "    - `date of birth`\n",
    "These columns will be... \n",
    "3. Columns with a few *'interesting'* values per row: columns that contain zero, one or more values for each row, where every value is *interesting* for our purpose. These columns are:\n",
    "    - `instance_of`\n",
    "    - `gender` (apparently an entity can have multiple genders)\n",
    "4. Columns that have multiple values per row: columns that have multiple values per row, where only an aggregation of these values is *interesting* for our purposes. These columns are:\n",
    "    - `sitelinks`\n",
    "    - `aliases`\n",
    "------\n",
    "\n",
    "    - `instrument`\n",
    "    - `worked_at`\n",
    "    - `country_of_citizenship`\n",
    "    - `educated_at`\n",
    "    - `occupation`\n",
    "    - `genre`\n",
    "    - `industry`\n",
    "    - `subclass_of`\n",
    "    - `member_of`\n",
    "    - `from_fictional_universe`\n",
    "\n",
    "\n",
    "- `sitelinks` contains the name of this page in all relevant wikimedia sites\n",
    "    - Convert this to binary columns: `exists_in_{sitename}`\n",
    "    - Also create an aggregated column: `num_sitelinks`\n",
    "- `descriptions`, `labels`\n",
    "    - I will drop these columns\n",
    "- `aliases`\n",
    "    - I will convert this to numeric columns: `num_aliases_in_{sitename}`\n",
    "- `instance_of`\n",
    "    -  will convert this to binary columns: `is_instance_of_{parent}`\n",
    "- `gender` - not always a single one.\n",
    "    - I will convert this to binary columns: `has_gender_{gender}`\n",
    "- `date of birth`, `date of death`:\n",
    "    - Convert to timestamps\n",
    "- All one-dimensional struct columns:\n",
    "    - flatten\n",
    "- `iso_3166_alpha3`\n",
    "    - drop\n"
   ]
  },
  {
   "cell_type": "code",
   "execution_count": 43,
   "metadata": {},
   "outputs": [
    {
     "data": {
      "text/html": [
       "<div><style>\n",
       ".dataframe > thead > tr,\n",
       ".dataframe > tbody > tr {\n",
       "  text-align: right;\n",
       "  white-space: pre-wrap;\n",
       "}\n",
       "</style>\n",
       "<small>shape: (1_993_459,)</small><table border=\"1\" class=\"dataframe\"><thead><tr><th>sitelinks</th></tr><tr><td>list[str]</td></tr></thead><tbody><tr><td>[&quot;dewiki&quot;, &quot;enwiki&quot;, … &quot;fawiki&quot;]</td></tr><tr><td>[&quot;enwiki&quot;, &quot;jawiki&quot;]</td></tr><tr><td>[&quot;zhwiki&quot;, &quot;enwiki&quot;]</td></tr><tr><td>[&quot;enwiki&quot;, &quot;zhwiki&quot;, … &quot;kowiki&quot;]</td></tr><tr><td>[&quot;itwiki&quot;, &quot;plwiki&quot;, … &quot;trwiki&quot;]</td></tr><tr><td>&hellip;</td></tr><tr><td>[&quot;enwiki&quot;, &quot;nowiki&quot;, … &quot;nlwiki&quot;]</td></tr><tr><td>[&quot;frwiki&quot;, &quot;kowiki&quot;, … &quot;anpwiki&quot;]</td></tr><tr><td>[&quot;frwiki&quot;, &quot;fawiki&quot;, … &quot;ruwiki&quot;]</td></tr><tr><td>[&quot;enwiki&quot;, &quot;azbwiki&quot;]</td></tr><tr><td>[&quot;enwiki&quot;]</td></tr></tbody></table></div>"
      ],
      "text/plain": [
       "shape: (1_993_459,)\n",
       "Series: 'sitelinks' [list[str]]\n",
       "[\n",
       "\t[\"dewiki\", \"enwiki\", … \"fawiki\"]\n",
       "\t[\"enwiki\", \"jawiki\"]\n",
       "\t[\"zhwiki\", \"enwiki\"]\n",
       "\t[\"enwiki\", \"zhwiki\", … \"kowiki\"]\n",
       "\t[\"itwiki\", \"plwiki\", … \"trwiki\"]\n",
       "\t…\n",
       "\t[\"enwiki\", \"nowiki\", … \"nlwiki\"]\n",
       "\t[\"frwiki\", \"kowiki\", … \"anpwiki\"]\n",
       "\t[\"frwiki\", \"fawiki\", … \"ruwiki\"]\n",
       "\t[\"enwiki\", \"azbwiki\"]\n",
       "\t[\"enwiki\"]\n",
       "]"
      ]
     },
     "execution_count": 43,
     "metadata": {},
     "output_type": "execute_result"
    }
   ],
   "source": [
    "def unnest_list_of_structs(l: list[pl.Struct]):\n",
    "    '''\n",
    "    Turn a list of structs into a list of the first value of each struct.\n",
    "    For example:\n",
    "    `[{'a': 1, 'b': 2}, {'a': 3, 'b': 4}] --> [1, 3]`\n",
    "    '''\n",
    "    first_key = l[0].fields[0].name\n",
    "    return []\n",
    "\n",
    "info_df['sitelinks'].list.eval(pl.element().struct[0])"
   ]
  },
  {
   "cell_type": "code",
   "execution_count": 46,
   "metadata": {},
   "outputs": [
    {
     "data": {
      "text/html": [
       "<div><style>\n",
       ".dataframe > thead > tr,\n",
       ".dataframe > tbody > tr {\n",
       "  text-align: right;\n",
       "  white-space: pre-wrap;\n",
       "}\n",
       "</style>\n",
       "<small>shape: (21, 23)</small><table border=\"1\" class=\"dataframe\"><thead><tr><th>id</th><th>numeric_id</th><th>en_label</th><th>en_wiki</th><th>en_description</th><th>sitelinks</th><th>aliases</th><th>instance_of</th><th>gender</th><th>date_of_birth</th><th>date_of_death</th><th>worked_at</th><th>country_of_citizenship</th><th>country</th><th>educated_at</th><th>occupation</th><th>instrument</th><th>genre</th><th>industry</th><th>subclass_of</th><th>coordinate_location</th><th>member_of</th><th>from_fictional_universe</th></tr><tr><td>str</td><td>str</td><td>str</td><td>str</td><td>str</td><td>str</td><td>list[str]</td><td>list[str]</td><td>list[str]</td><td>list[str]</td><td>list[str]</td><td>list[str]</td><td>list[str]</td><td>list[str]</td><td>list[str]</td><td>list[str]</td><td>list[str]</td><td>list[str]</td><td>list[str]</td><td>list[str]</td><td>list[f64]</td><td>list[str]</td><td>list[str]</td></tr></thead><tbody><tr><td>&quot;Q17122148&quot;</td><td>&quot;17122148&quot;</td><td>&quot;Albrecht Josep…</td><td>&quot;Albrecht_Josep…</td><td>&quot;German screenw…</td><td>&quot;dewiki&quot;</td><td>[&quot;de&quot;, &quot;en&quot;, … &quot;sk&quot;]</td><td>[&quot;5&quot;]</td><td>[&quot;6581097&quot;]</td><td>[&quot;+1901-11-20T00:00:00Z&quot;]</td><td>[&quot;+1901-11-20T00:00:00Z&quot;]</td><td>[]</td><td>[&quot;183&quot;]</td><td>[]</td><td>[]</td><td>[&quot;28389&quot;, &quot;7042855&quot;, &quot;36180&quot;]</td><td>[]</td><td>[]</td><td>[]</td><td>[]</td><td>[]</td><td>[]</td><td>[]</td></tr><tr><td>&quot;Q17122148&quot;</td><td>&quot;17122148&quot;</td><td>&quot;Albrecht Josep…</td><td>&quot;Albrecht_Josep…</td><td>&quot;German screenw…</td><td>&quot;enwiki&quot;</td><td>[&quot;de&quot;, &quot;en&quot;, … &quot;sk&quot;]</td><td>[&quot;5&quot;]</td><td>[&quot;6581097&quot;]</td><td>[&quot;+1901-11-20T00:00:00Z&quot;]</td><td>[&quot;+1901-11-20T00:00:00Z&quot;]</td><td>[]</td><td>[&quot;183&quot;]</td><td>[]</td><td>[]</td><td>[&quot;28389&quot;, &quot;7042855&quot;, &quot;36180&quot;]</td><td>[]</td><td>[]</td><td>[]</td><td>[]</td><td>[]</td><td>[]</td><td>[]</td></tr><tr><td>&quot;Q17122148&quot;</td><td>&quot;17122148&quot;</td><td>&quot;Albrecht Josep…</td><td>&quot;Albrecht_Josep…</td><td>&quot;German screenw…</td><td>&quot;frwiki&quot;</td><td>[&quot;de&quot;, &quot;en&quot;, … &quot;sk&quot;]</td><td>[&quot;5&quot;]</td><td>[&quot;6581097&quot;]</td><td>[&quot;+1901-11-20T00:00:00Z&quot;]</td><td>[&quot;+1901-11-20T00:00:00Z&quot;]</td><td>[]</td><td>[&quot;183&quot;]</td><td>[]</td><td>[]</td><td>[&quot;28389&quot;, &quot;7042855&quot;, &quot;36180&quot;]</td><td>[]</td><td>[]</td><td>[]</td><td>[]</td><td>[]</td><td>[]</td><td>[]</td></tr><tr><td>&quot;Q17122148&quot;</td><td>&quot;17122148&quot;</td><td>&quot;Albrecht Josep…</td><td>&quot;Albrecht_Josep…</td><td>&quot;German screenw…</td><td>&quot;arwiki&quot;</td><td>[&quot;de&quot;, &quot;en&quot;, … &quot;sk&quot;]</td><td>[&quot;5&quot;]</td><td>[&quot;6581097&quot;]</td><td>[&quot;+1901-11-20T00:00:00Z&quot;]</td><td>[&quot;+1901-11-20T00:00:00Z&quot;]</td><td>[]</td><td>[&quot;183&quot;]</td><td>[]</td><td>[]</td><td>[&quot;28389&quot;, &quot;7042855&quot;, &quot;36180&quot;]</td><td>[]</td><td>[]</td><td>[]</td><td>[]</td><td>[]</td><td>[]</td><td>[]</td></tr><tr><td>&quot;Q17122148&quot;</td><td>&quot;17122148&quot;</td><td>&quot;Albrecht Josep…</td><td>&quot;Albrecht_Josep…</td><td>&quot;German screenw…</td><td>&quot;arzwiki&quot;</td><td>[&quot;de&quot;, &quot;en&quot;, … &quot;sk&quot;]</td><td>[&quot;5&quot;]</td><td>[&quot;6581097&quot;]</td><td>[&quot;+1901-11-20T00:00:00Z&quot;]</td><td>[&quot;+1901-11-20T00:00:00Z&quot;]</td><td>[]</td><td>[&quot;183&quot;]</td><td>[]</td><td>[]</td><td>[&quot;28389&quot;, &quot;7042855&quot;, &quot;36180&quot;]</td><td>[]</td><td>[]</td><td>[]</td><td>[]</td><td>[]</td><td>[]</td><td>[]</td></tr><tr><td>&hellip;</td><td>&hellip;</td><td>&hellip;</td><td>&hellip;</td><td>&hellip;</td><td>&hellip;</td><td>&hellip;</td><td>&hellip;</td><td>&hellip;</td><td>&hellip;</td><td>&hellip;</td><td>&hellip;</td><td>&hellip;</td><td>&hellip;</td><td>&hellip;</td><td>&hellip;</td><td>&hellip;</td><td>&hellip;</td><td>&hellip;</td><td>&hellip;</td><td>&hellip;</td><td>&hellip;</td><td>&hellip;</td></tr><tr><td>&quot;Q521785&quot;</td><td>&quot;521785&quot;</td><td>&quot;Mauro Sérgio V…</td><td>&quot;Maurinho_(foot…</td><td>&quot;Brazilian foot…</td><td>&quot;enwiki&quot;</td><td>[&quot;es&quot;, &quot;es&quot;, … &quot;fr&quot;]</td><td>[&quot;5&quot;]</td><td>[&quot;6581097&quot;]</td><td>[&quot;+1978-10-11T00:00:00Z&quot;]</td><td>[&quot;+1978-10-11T00:00:00Z&quot;]</td><td>[]</td><td>[&quot;155&quot;]</td><td>[]</td><td>[]</td><td>[&quot;937857&quot;]</td><td>[]</td><td>[]</td><td>[]</td><td>[]</td><td>[]</td><td>[]</td><td>[]</td></tr><tr><td>&quot;Q521785&quot;</td><td>&quot;521785&quot;</td><td>&quot;Mauro Sérgio V…</td><td>&quot;Maurinho_(foot…</td><td>&quot;Brazilian foot…</td><td>&quot;arzwiki&quot;</td><td>[&quot;es&quot;, &quot;es&quot;, … &quot;fr&quot;]</td><td>[&quot;5&quot;]</td><td>[&quot;6581097&quot;]</td><td>[&quot;+1978-10-11T00:00:00Z&quot;]</td><td>[&quot;+1978-10-11T00:00:00Z&quot;]</td><td>[]</td><td>[&quot;155&quot;]</td><td>[]</td><td>[]</td><td>[&quot;937857&quot;]</td><td>[]</td><td>[]</td><td>[]</td><td>[]</td><td>[]</td><td>[]</td><td>[]</td></tr><tr><td>&quot;Q521785&quot;</td><td>&quot;521785&quot;</td><td>&quot;Mauro Sérgio V…</td><td>&quot;Maurinho_(foot…</td><td>&quot;Brazilian foot…</td><td>&quot;ptwiki&quot;</td><td>[&quot;es&quot;, &quot;es&quot;, … &quot;fr&quot;]</td><td>[&quot;5&quot;]</td><td>[&quot;6581097&quot;]</td><td>[&quot;+1978-10-11T00:00:00Z&quot;]</td><td>[&quot;+1978-10-11T00:00:00Z&quot;]</td><td>[]</td><td>[&quot;155&quot;]</td><td>[]</td><td>[]</td><td>[&quot;937857&quot;]</td><td>[]</td><td>[]</td><td>[]</td><td>[]</td><td>[]</td><td>[]</td><td>[]</td></tr><tr><td>&quot;Q521785&quot;</td><td>&quot;521785&quot;</td><td>&quot;Mauro Sérgio V…</td><td>&quot;Maurinho_(foot…</td><td>&quot;Brazilian foot…</td><td>&quot;arwiki&quot;</td><td>[&quot;es&quot;, &quot;es&quot;, … &quot;fr&quot;]</td><td>[&quot;5&quot;]</td><td>[&quot;6581097&quot;]</td><td>[&quot;+1978-10-11T00:00:00Z&quot;]</td><td>[&quot;+1978-10-11T00:00:00Z&quot;]</td><td>[]</td><td>[&quot;155&quot;]</td><td>[]</td><td>[]</td><td>[&quot;937857&quot;]</td><td>[]</td><td>[]</td><td>[]</td><td>[]</td><td>[]</td><td>[]</td><td>[]</td></tr><tr><td>&quot;Q521785&quot;</td><td>&quot;521785&quot;</td><td>&quot;Mauro Sérgio V…</td><td>&quot;Maurinho_(foot…</td><td>&quot;Brazilian foot…</td><td>&quot;trwiki&quot;</td><td>[&quot;es&quot;, &quot;es&quot;, … &quot;fr&quot;]</td><td>[&quot;5&quot;]</td><td>[&quot;6581097&quot;]</td><td>[&quot;+1978-10-11T00:00:00Z&quot;]</td><td>[&quot;+1978-10-11T00:00:00Z&quot;]</td><td>[]</td><td>[&quot;155&quot;]</td><td>[]</td><td>[]</td><td>[&quot;937857&quot;]</td><td>[]</td><td>[]</td><td>[]</td><td>[]</td><td>[]</td><td>[]</td><td>[]</td></tr></tbody></table></div>"
      ],
      "text/plain": [
       "shape: (21, 23)\n",
       "┌───────────┬───────────┬───────────┬───────────┬───┬───────────┬───────────┬───────────┬──────────┐\n",
       "│ id        ┆ numeric_i ┆ en_label  ┆ en_wiki   ┆ … ┆ subclass_ ┆ coordinat ┆ member_of ┆ from_fic │\n",
       "│ ---       ┆ d         ┆ ---       ┆ ---       ┆   ┆ of        ┆ e_locatio ┆ ---       ┆ tional_u │\n",
       "│ str       ┆ ---       ┆ str       ┆ str       ┆   ┆ ---       ┆ n         ┆ list[str] ┆ niverse  │\n",
       "│           ┆ str       ┆           ┆           ┆   ┆ list[str] ┆ ---       ┆           ┆ ---      │\n",
       "│           ┆           ┆           ┆           ┆   ┆           ┆ list[f64] ┆           ┆ list[str │\n",
       "│           ┆           ┆           ┆           ┆   ┆           ┆           ┆           ┆ ]        │\n",
       "╞═══════════╪═══════════╪═══════════╪═══════════╪═══╪═══════════╪═══════════╪═══════════╪══════════╡\n",
       "│ Q17122148 ┆ 17122148  ┆ Albrecht  ┆ Albrecht_ ┆ … ┆ []        ┆ []        ┆ []        ┆ []       │\n",
       "│           ┆           ┆ Joseph    ┆ Joseph    ┆   ┆           ┆           ┆           ┆          │\n",
       "│ Q17122148 ┆ 17122148  ┆ Albrecht  ┆ Albrecht_ ┆ … ┆ []        ┆ []        ┆ []        ┆ []       │\n",
       "│           ┆           ┆ Joseph    ┆ Joseph    ┆   ┆           ┆           ┆           ┆          │\n",
       "│ Q17122148 ┆ 17122148  ┆ Albrecht  ┆ Albrecht_ ┆ … ┆ []        ┆ []        ┆ []        ┆ []       │\n",
       "│           ┆           ┆ Joseph    ┆ Joseph    ┆   ┆           ┆           ┆           ┆          │\n",
       "│ Q17122148 ┆ 17122148  ┆ Albrecht  ┆ Albrecht_ ┆ … ┆ []        ┆ []        ┆ []        ┆ []       │\n",
       "│           ┆           ┆ Joseph    ┆ Joseph    ┆   ┆           ┆           ┆           ┆          │\n",
       "│ Q17122148 ┆ 17122148  ┆ Albrecht  ┆ Albrecht_ ┆ … ┆ []        ┆ []        ┆ []        ┆ []       │\n",
       "│           ┆           ┆ Joseph    ┆ Joseph    ┆   ┆           ┆           ┆           ┆          │\n",
       "│ …         ┆ …         ┆ …         ┆ …         ┆ … ┆ …         ┆ …         ┆ …         ┆ …        │\n",
       "│ Q521785   ┆ 521785    ┆ Mauro     ┆ Maurinho_ ┆ … ┆ []        ┆ []        ┆ []        ┆ []       │\n",
       "│           ┆           ┆ Sérgio    ┆ (football ┆   ┆           ┆           ┆           ┆          │\n",
       "│           ┆           ┆ Viriato   ┆ er,_born_ ┆   ┆           ┆           ┆           ┆          │\n",
       "│           ┆           ┆ Mendes    ┆ 1978)     ┆   ┆           ┆           ┆           ┆          │\n",
       "│ Q521785   ┆ 521785    ┆ Mauro     ┆ Maurinho_ ┆ … ┆ []        ┆ []        ┆ []        ┆ []       │\n",
       "│           ┆           ┆ Sérgio    ┆ (football ┆   ┆           ┆           ┆           ┆          │\n",
       "│           ┆           ┆ Viriato   ┆ er,_born_ ┆   ┆           ┆           ┆           ┆          │\n",
       "│           ┆           ┆ Mendes    ┆ 1978)     ┆   ┆           ┆           ┆           ┆          │\n",
       "│ Q521785   ┆ 521785    ┆ Mauro     ┆ Maurinho_ ┆ … ┆ []        ┆ []        ┆ []        ┆ []       │\n",
       "│           ┆           ┆ Sérgio    ┆ (football ┆   ┆           ┆           ┆           ┆          │\n",
       "│           ┆           ┆ Viriato   ┆ er,_born_ ┆   ┆           ┆           ┆           ┆          │\n",
       "│           ┆           ┆ Mendes    ┆ 1978)     ┆   ┆           ┆           ┆           ┆          │\n",
       "│ Q521785   ┆ 521785    ┆ Mauro     ┆ Maurinho_ ┆ … ┆ []        ┆ []        ┆ []        ┆ []       │\n",
       "│           ┆           ┆ Sérgio    ┆ (football ┆   ┆           ┆           ┆           ┆          │\n",
       "│           ┆           ┆ Viriato   ┆ er,_born_ ┆   ┆           ┆           ┆           ┆          │\n",
       "│           ┆           ┆ Mendes    ┆ 1978)     ┆   ┆           ┆           ┆           ┆          │\n",
       "│ Q521785   ┆ 521785    ┆ Mauro     ┆ Maurinho_ ┆ … ┆ []        ┆ []        ┆ []        ┆ []       │\n",
       "│           ┆           ┆ Sérgio    ┆ (football ┆   ┆           ┆           ┆           ┆          │\n",
       "│           ┆           ┆ Viriato   ┆ er,_born_ ┆   ┆           ┆           ┆           ┆          │\n",
       "│           ┆           ┆ Mendes    ┆ 1978)     ┆   ┆           ┆           ┆           ┆          │\n",
       "└───────────┴───────────┴───────────┴───────────┴───┴───────────┴───────────┴───────────┴──────────┘"
      ]
     },
     "execution_count": 46,
     "metadata": {},
     "output_type": "execute_result"
    }
   ],
   "source": [
    "def clean_info_df(df: pl.DataFrame):\n",
    "    columns_to_drop = ['type', 'descriptions', 'labels', 'iso_3166_alpha3', 'coordinate_location']\n",
    "    struct_columns = [c for c in df.columns if df[c].dtype == pl.List and c not in columns_to_drop]\n",
    "    columns_to_encode = [c for c in df.columns if df[c].dtype == pl.List and c not in\n",
    "                         [*columns_to_drop, 'date_of_birth', 'date_of_death']]\n",
    "    \n",
    "    df = (df\n",
    "          .drop(columns_to_drop) # drop columns\n",
    "          .with_columns([pl.col(col).list.eval(pl.element().struct[0]) for col in struct_columns]) # unnest structs\n",
    "    )\n",
    "    \n",
    "    unique_sitelinks = df['sitelinks'].explode().unique()\n",
    "    unique_parents = df['instance_of'].explode().unique()\n",
    "    unique_\n",
    "    \n",
    "    sitelinks_columns = [pl.col('sitelinks').list.contains(site).alias(f'is_in_{site}') for site in unique_sitelinks]\n",
    "    parents_columns = [pl.col('instance_of').list.contains(parent).alias(f'is_instance_of_{parent}') for parent in unique_parents]\n",
    "    \n",
    "    \n",
    "    df = (df\n",
    "          .with_columns([\n",
    "           *sitelinks_columns,\n",
    "           pl.col('aliases').list.len().alias('num_aliases'),\n",
    "           *parents_columns,\n",
    "           \n",
    "          ]))\n",
    "    \n",
    "    return df\n",
    "\n",
    "clean_info_df(info_df.head(5)).explode('sitelinks').pivot(index='id', )"
   ]
  },
  {
   "cell_type": "code",
   "execution_count": 96,
   "metadata": {},
   "outputs": [],
   "source": [
    "info_df.write_parquet(PROCESSED_DATA_DIR / 'wikidata_all.parquet')"
   ]
  },
  {
   "cell_type": "markdown",
   "metadata": {},
   "source": [
    "Aliases not included in the pageviews data"
   ]
  },
  {
   "cell_type": "markdown",
   "metadata": {},
   "source": [
    "Convert code to label description:\n",
    "- https://stackoverflow.com/questions/59737076/how-to-get-a-label-of-a-property-from-wikidata\n",
    "- https://stackoverflow.com/questions/72704205/how-to-convert-wiki-data-qid-to-entity-and-vice-versa-in-python"
   ]
  },
  {
   "cell_type": "code",
   "execution_count": 72,
   "metadata": {},
   "outputs": [
    {
     "data": {
      "text/html": [
       "<div><style>\n",
       ".dataframe > thead > tr,\n",
       ".dataframe > tbody > tr {\n",
       "  text-align: right;\n",
       "  white-space: pre-wrap;\n",
       "}\n",
       "</style>\n",
       "<small>shape: (27, 543)</small><table border=\"1\" class=\"dataframe\"><thead><tr><th>column</th><th>column_0</th><th>column_1</th><th>column_2</th><th>column_3</th><th>column_4</th><th>column_5</th><th>column_6</th><th>column_7</th><th>column_8</th><th>column_9</th><th>column_10</th><th>column_11</th><th>column_12</th><th>column_13</th><th>column_14</th><th>column_15</th><th>column_16</th><th>column_17</th><th>column_18</th><th>column_19</th><th>column_20</th><th>column_21</th><th>column_22</th><th>column_23</th><th>column_24</th><th>column_25</th><th>column_26</th><th>column_27</th><th>column_28</th><th>column_29</th><th>column_30</th><th>column_31</th><th>column_32</th><th>column_33</th><th>column_34</th><th>column_35</th><th>&hellip;</th><th>column_505</th><th>column_506</th><th>column_507</th><th>column_508</th><th>column_509</th><th>column_510</th><th>column_511</th><th>column_512</th><th>column_513</th><th>column_514</th><th>column_515</th><th>column_516</th><th>column_517</th><th>column_518</th><th>column_519</th><th>column_520</th><th>column_521</th><th>column_522</th><th>column_523</th><th>column_524</th><th>column_525</th><th>column_526</th><th>column_527</th><th>column_528</th><th>column_529</th><th>column_530</th><th>column_531</th><th>column_532</th><th>column_533</th><th>column_534</th><th>column_535</th><th>column_536</th><th>column_537</th><th>column_538</th><th>column_539</th><th>column_540</th><th>column_541</th></tr><tr><td>str</td><td>list[str]</td><td>list[str]</td><td>list[str]</td><td>list[str]</td><td>list[str]</td><td>list[str]</td><td>list[str]</td><td>list[str]</td><td>list[str]</td><td>list[str]</td><td>list[str]</td><td>list[str]</td><td>list[str]</td><td>list[str]</td><td>list[str]</td><td>list[str]</td><td>list[str]</td><td>list[str]</td><td>list[str]</td><td>list[str]</td><td>list[str]</td><td>list[str]</td><td>list[str]</td><td>list[str]</td><td>list[str]</td><td>list[str]</td><td>list[str]</td><td>list[str]</td><td>list[str]</td><td>list[str]</td><td>list[str]</td><td>list[str]</td><td>list[str]</td><td>list[str]</td><td>list[str]</td><td>list[str]</td><td>&hellip;</td><td>list[str]</td><td>list[str]</td><td>list[str]</td><td>list[str]</td><td>list[str]</td><td>list[str]</td><td>list[str]</td><td>list[str]</td><td>list[str]</td><td>list[str]</td><td>list[str]</td><td>list[str]</td><td>list[str]</td><td>list[str]</td><td>list[str]</td><td>list[str]</td><td>list[str]</td><td>list[str]</td><td>list[str]</td><td>list[str]</td><td>list[str]</td><td>list[str]</td><td>list[str]</td><td>list[str]</td><td>list[str]</td><td>list[str]</td><td>list[str]</td><td>list[str]</td><td>list[str]</td><td>list[str]</td><td>list[str]</td><td>list[str]</td><td>list[str]</td><td>list[str]</td><td>list[str]</td><td>list[str]</td><td>list[str]</td></tr></thead><tbody><tr><td>&quot;id&quot;</td><td>[&quot;Q7800135&quot;]</td><td>[&quot;Q108381040&quot;]</td><td>[&quot;Q55397010&quot;]</td><td>[&quot;Q5214843&quot;]</td><td>[&quot;Q2994979&quot;]</td><td>[&quot;Q107472755&quot;]</td><td>[&quot;Q4859279&quot;]</td><td>[&quot;Q8051479&quot;]</td><td>[&quot;Q1294046&quot;]</td><td>[&quot;Q18686095&quot;]</td><td>[&quot;Q7116433&quot;]</td><td>[&quot;Q55834726&quot;]</td><td>[&quot;Q20035643&quot;]</td><td>[&quot;Q106785836&quot;]</td><td>[&quot;Q7857048&quot;]</td><td>[&quot;Q85199656&quot;]</td><td>[&quot;Q8023575&quot;]</td><td>[&quot;Q3492524&quot;]</td><td>[&quot;Q89372815&quot;]</td><td>[&quot;Q11467933&quot;]</td><td>[&quot;Q708445&quot;]</td><td>[&quot;Q55731552&quot;]</td><td>[&quot;Q62129117&quot;]</td><td>[&quot;Q16300043&quot;]</td><td>[&quot;Q100994887&quot;]</td><td>[&quot;Q124218234&quot;]</td><td>[&quot;Q6256128&quot;]</td><td>[&quot;Q1347851&quot;]</td><td>[&quot;Q18518779&quot;]</td><td>[&quot;Q21062531&quot;]</td><td>[&quot;Q114632978&quot;]</td><td>[&quot;Q96694248&quot;]</td><td>[&quot;Q11548763&quot;]</td><td>[&quot;Q106095215&quot;]</td><td>[&quot;Q41173&quot;]</td><td>[&quot;Q89377845&quot;]</td><td>&hellip;</td><td>[&quot;Q117552132&quot;]</td><td>[&quot;Q6653592&quot;]</td><td>[&quot;Q20528796&quot;]</td><td>[&quot;Q16731062&quot;]</td><td>[&quot;Q20712237&quot;]</td><td>[&quot;Q59171056&quot;]</td><td>[&quot;Q788298&quot;]</td><td>[&quot;Q55314957&quot;]</td><td>[&quot;Q29908714&quot;]</td><td>[&quot;Q65042596&quot;]</td><td>[&quot;Q107118557&quot;]</td><td>[&quot;Q275025&quot;]</td><td>[&quot;Q706927&quot;]</td><td>[&quot;Q83689574&quot;]</td><td>[&quot;Q1281867&quot;]</td><td>[&quot;Q7802962&quot;]</td><td>[&quot;Q117425346&quot;]</td><td>[&quot;Q19367437&quot;]</td><td>[&quot;Q107118477&quot;]</td><td>[&quot;Q704375&quot;]</td><td>[&quot;Q20508909&quot;]</td><td>[&quot;Q53951730&quot;]</td><td>[&quot;Q84429493&quot;]</td><td>[&quot;Q27244414&quot;]</td><td>[&quot;Q68631381&quot;]</td><td>[&quot;Q24700929&quot;]</td><td>[&quot;Q6574985&quot;]</td><td>[&quot;Q20683861&quot;]</td><td>[&quot;Q84196087&quot;]</td><td>[&quot;Q13129290&quot;]</td><td>[&quot;Q7098066&quot;]</td><td>[&quot;Q1033604&quot;]</td><td>[&quot;Q1368840&quot;]</td><td>[&quot;Q715407&quot;]</td><td>[&quot;Q97930223&quot;]</td><td>[&quot;Q21062831&quot;]</td><td>[&quot;Q42291398&quot;]</td></tr><tr><td>&quot;numeric_id&quot;</td><td>[&quot;7800135&quot;]</td><td>[&quot;108381040&quot;]</td><td>[&quot;55397010&quot;]</td><td>[&quot;5214843&quot;]</td><td>[&quot;2994979&quot;]</td><td>[&quot;107472755&quot;]</td><td>[&quot;4859279&quot;]</td><td>[&quot;8051479&quot;]</td><td>[&quot;1294046&quot;]</td><td>[&quot;18686095&quot;]</td><td>[&quot;7116433&quot;]</td><td>[&quot;55834726&quot;]</td><td>[&quot;20035643&quot;]</td><td>[&quot;106785836&quot;]</td><td>[&quot;7857048&quot;]</td><td>[&quot;85199656&quot;]</td><td>[&quot;8023575&quot;]</td><td>[&quot;3492524&quot;]</td><td>[&quot;89372815&quot;]</td><td>[&quot;11467933&quot;]</td><td>[&quot;708445&quot;]</td><td>[&quot;55731552&quot;]</td><td>[&quot;62129117&quot;]</td><td>[&quot;16300043&quot;]</td><td>[&quot;100994887&quot;]</td><td>[&quot;124218234&quot;]</td><td>[&quot;6256128&quot;]</td><td>[&quot;1347851&quot;]</td><td>[&quot;18518779&quot;]</td><td>[&quot;21062531&quot;]</td><td>[&quot;114632978&quot;]</td><td>[&quot;96694248&quot;]</td><td>[&quot;11548763&quot;]</td><td>[&quot;106095215&quot;]</td><td>[&quot;41173&quot;]</td><td>[&quot;89377845&quot;]</td><td>&hellip;</td><td>[&quot;117552132&quot;]</td><td>[&quot;6653592&quot;]</td><td>[&quot;20528796&quot;]</td><td>[&quot;16731062&quot;]</td><td>[&quot;20712237&quot;]</td><td>[&quot;59171056&quot;]</td><td>[&quot;788298&quot;]</td><td>[&quot;55314957&quot;]</td><td>[&quot;29908714&quot;]</td><td>[&quot;65042596&quot;]</td><td>[&quot;107118557&quot;]</td><td>[&quot;275025&quot;]</td><td>[&quot;706927&quot;]</td><td>[&quot;83689574&quot;]</td><td>[&quot;1281867&quot;]</td><td>[&quot;7802962&quot;]</td><td>[&quot;117425346&quot;]</td><td>[&quot;19367437&quot;]</td><td>[&quot;107118477&quot;]</td><td>[&quot;704375&quot;]</td><td>[&quot;20508909&quot;]</td><td>[&quot;53951730&quot;]</td><td>[&quot;84429493&quot;]</td><td>[&quot;27244414&quot;]</td><td>[&quot;68631381&quot;]</td><td>[&quot;24700929&quot;]</td><td>[&quot;6574985&quot;]</td><td>[&quot;20683861&quot;]</td><td>[&quot;84196087&quot;]</td><td>[&quot;13129290&quot;]</td><td>[&quot;7098066&quot;]</td><td>[&quot;1033604&quot;]</td><td>[&quot;1368840&quot;]</td><td>[&quot;715407&quot;]</td><td>[&quot;97930223&quot;]</td><td>[&quot;21062831&quot;]</td><td>[&quot;42291398&quot;]</td></tr><tr><td>&quot;en_label&quot;</td><td>[&quot;Tian Lingzi&quot;]</td><td>[&quot;Devon Price&quot;]</td><td>[&quot;Rivers Solomon&quot;]</td><td>[&quot;Dana Stone&quot;]</td><td>[&quot;Constantine Gongyles&quot;]</td><td>[&quot;Marietu Tenuche&quot;]</td><td>[&quot;Barbara J. Sahakian&quot;]</td><td>[&quot;Yelena Komarova&quot;]</td><td>[&quot;James Barry&quot;]</td><td>[&quot;Miss Fame&quot;]</td><td>[&quot;Ozaawindib&quot;]</td><td>[&quot;Joss Favela&quot;]</td><td>[&quot;Ebele Oseye&quot;]</td><td>[&quot;Gray Johnson Poole&quot;]</td><td>[&quot;Tutu Chengcui&quot;]</td><td>[&quot;Lori Campbell&quot;]</td><td>[&quot;Wimund&quot;]</td><td>[&quot;B-Complex&quot;]</td><td>[&quot;Mathilde Stuyvesant&quot;]</td><td>[&quot;Nao-cola Yamazaki&quot;]</td><td>[&quot;Ivy Ling Po&quot;]</td><td>[&quot;Kristian Ranđelović&quot;]</td><td>[&quot;Laurin Hendrix&quot;]</td><td>[&quot;Pekka J. Korvenheimo&quot;]</td><td>[&quot;Maya the drag queen&quot;]</td><td>[&quot;Leilani Tominiko&quot;]</td><td>[&quot;John/Eleanor Rykener&quot;]</td><td>[&quot;John the Orphanotrophos&quot;]</td><td>[&quot;Suruli Manohar&quot;]</td><td>[&quot;N.D. Stevenson&quot;]</td><td>[&quot;Romaizah binti Haji Mohd Salleh&quot;]</td><td>[&quot;Brendan Allen&quot;]</td><td>[&quot;Yōko Mizuki&quot;]</td><td>[&quot;Anton Kryzhanovsky&quot;]</td><td>[&quot;Demi Lovato&quot;]</td><td>[&quot;Angela Miri&quot;]</td><td>&hellip;</td><td>[&quot;Iz Hesketh&quot;]</td><td>[&quot;Liu Jishu&quot;]</td><td>[&quot;Romi Mankin&quot;]</td><td>[&quot;Janae Kroc&quot;]</td><td>[&quot;Conn O&#x27;Neill&quot;]</td><td>[&quot;Elisa Rae Shupe&quot;]</td><td>[&quot;Ira Schneider&quot;]</td><td>[&quot;Joan Rosenbaum&quot;]</td><td>[&quot;Gopi Shankar Madurai&quot;]</td><td>[&quot;Narthaki Nataraj&quot;]</td><td>[&quot;To’oto’oali’I Roger Stanley&quot;]</td><td>[&quot;Yumjaagiin Tsedenbal&quot;]</td><td>[&quot;Cao Teng&quot;]</td><td>[&quot;Jean Hewitt&quot;]</td><td>[&quot;Nicetas I of Constantinople&quot;]</td><td>[&quot;Tilsa Tsuchiya&quot;]</td><td>[&quot;Isabel Ruffell&quot;]</td><td>[&quot;Thomas(ine) Hall&quot;]</td><td>[&quot;Ymania Brown&quot;]</td><td>[&quot;Wang Zhen&quot;]</td><td>[&quot;Gohar Muradyan&quot;]</td><td>[&quot;Tunde Olaniran&quot;]</td><td>[&quot;Flor Amargo&quot;]</td><td>[&quot;SJ Sindu&quot;]</td><td>[&quot;River Gallo&quot;]</td><td>[&quot;Liu Chenggui&quot;]</td><td>[&quot;Tessa Violet&quot;]</td><td>[&quot;Ruth Baldacchino&quot;]</td><td>[&quot;Debbie Farhat&quot;]</td><td>[&quot;J. Beverley Smith&quot;]</td><td>[&quot;Ophrah Shemesh&quot;]</td><td>[&quot;Béla Hankó&quot;]</td><td>[&quot;Essie Summers&quot;]</td><td>[&quot;Le Van Duyet&quot;]</td><td>[&quot;Andrea Lawlor&quot;]</td><td>[&quot;Sheena Metal&quot;]</td><td>[&quot;Nadira Ilana&quot;]</td></tr><tr><td>&quot;en_wiki&quot;</td><td>[&quot;Tian_Lingzi&quot;]</td><td>[&quot;Devon_Price&quot;]</td><td>[&quot;Rivers_Solomon&quot;]</td><td>[&quot;Dana_Stone&quot;]</td><td>[&quot;Constantine_Gongyles&quot;]</td><td>[&quot;Marietu_Tenuche&quot;]</td><td>[&quot;Barbara_Sahakian&quot;]</td><td>[&quot;Yelena_Komarova&quot;]</td><td>[&quot;James_Barry_(surgeon)&quot;]</td><td>[&quot;Miss_Fame&quot;]</td><td>[&quot;Ozaawindib&quot;]</td><td>[&quot;Joss_Favela&quot;]</td><td>[&quot;Ebele_Oseye&quot;]</td><td>[&quot;Gray_Johnson_Poole&quot;]</td><td>[&quot;Tutu_Chengcui&quot;]</td><td>[&quot;Lori_Campbell&quot;]</td><td>[&quot;Wimund&quot;]</td><td>[&quot;B-Complex&quot;]</td><td>[&quot;Mathilde_Stuyvesant&quot;]</td><td>[&quot;Nao-Cola_Yamazaki&quot;]</td><td>[&quot;Ivy_Ling_Po&quot;]</td><td>[&quot;Kristian_Ranđelović&quot;]</td><td>[&quot;Laurin_Hendrix&quot;]</td><td>[&quot;Pekka_J._Korvenheimo&quot;]</td><td>[&quot;Maya_the_Drag_Queen&quot;]</td><td>[&quot;Leilani_Tominiko&quot;]</td><td>[&quot;John/Eleanor_Rykener&quot;]</td><td>[&quot;John_the_Orphanotrophos&quot;]</td><td>[&quot;Suruli_Manohar&quot;]</td><td>[&quot;ND_Stevenson&quot;]</td><td>[&quot;Romaizah_Mohd_Salleh&quot;]</td><td>[&quot;Brendan_Allen&quot;]</td><td>[&quot;Yoko_Mizuki&quot;]</td><td>[&quot;Anton_Krzyzanowski&quot;]</td><td>[&quot;Demi_Lovato&quot;]</td><td>[&quot;Angela_Miri&quot;]</td><td>&hellip;</td><td>[&quot;Iz_Hesketh&quot;]</td><td>[&quot;Liu_Jishu&quot;]</td><td>[&quot;Romi_Mankin&quot;]</td><td>[&quot;Janae_Kroc&quot;]</td><td>[&quot;Conn_O&#x27;Neill_(prisoner)&quot;]</td><td>[&quot;Elisa_Rae_Shupe&quot;]</td><td>[&quot;Ira_Schneider&quot;]</td><td>[&quot;Joan_Rosenbaum&quot;]</td><td>[&quot;Gopi_Shankar_Madurai&quot;]</td><td>[&quot;Narthaki_Nataraj&quot;]</td><td>[&quot;Toʻotoʻoaliʻi_Roger_Stanley&quot;]</td><td>[&quot;Yumjaagiin_Tsedenbal&quot;]</td><td>[&quot;Cao_Teng&quot;]</td><td>[&quot;Jean_Hewitt&quot;]</td><td>[&quot;Nicetas_I_of_Constantinople&quot;]</td><td>[&quot;Tilsa_Tsuchiya&quot;]</td><td>[&quot;Isabel_Ruffell&quot;]</td><td>[&quot;Thomas(ine)_Hall&quot;]</td><td>[&quot;Ymania_Brown&quot;]</td><td>[&quot;Wang_Zhen_(eunuch)&quot;]</td><td>[&quot;Gohar_Muradyan&quot;]</td><td>[&quot;Tunde_Olaniran&quot;]</td><td>[&quot;Flor_Amargo&quot;]</td><td>[&quot;S._J._Sindu&quot;]</td><td>[&quot;River_Gallo&quot;]</td><td>[&quot;Liu_Chenggui&quot;]</td><td>[&quot;Tessa_Violet&quot;]</td><td>[&quot;Ruth_Baldacchino&quot;]</td><td>[&quot;Debbie_Farhat&quot;]</td><td>[&quot;J._Beverley_Smith&quot;]</td><td>[&quot;Ophrah_Shemesh&quot;]</td><td>[&quot;Béla_Hankó&quot;]</td><td>[&quot;Essie_Summers&quot;]</td><td>[&quot;Lê_Văn_Duyệt&quot;]</td><td>[&quot;Andrea_Lawlor&quot;]</td><td>[&quot;Sheena_Metal&quot;]</td><td>[&quot;Nadira_Ilana&quot;]</td></tr><tr><td>&quot;en_description…</td><td>[&quot;Eunuch who had a stranglehold on power due to his close personal relationship with Emperor Xizong&quot;]</td><td>[&quot;American social psychologist and writer&quot;]</td><td>[&quot;American science fiction author (1989-)&quot;]</td><td>[&quot;American photojournalist (1939-1970)&quot;]</td><td>[&quot;Byzantine aristocrat and official&quot;]</td><td>[&quot;Nigerian academic&quot;]</td><td>[&quot;neuropsychologist&quot;]</td><td>[&quot;Olympic wrestler&quot;]</td><td>[&quot;19th century British surgeon known for medical reforms and personal life&quot;]</td><td>[&quot;American drag queen&quot;]</td><td>[&quot;19th-century Ojibwa warrior described as an ayaakwe&quot;]</td><td>[&quot;Mexican singer-songwriter&quot;]</td><td>[&quot;poet and fiction writer&quot;]</td><td>null</td><td>[&quot;eunuch during the reign of Emperor Xianzong of Tang&quot;]</td><td>[&quot;Cree-Métis educator&quot;]</td><td>[&quot;English bishop and warlord&quot;]</td><td>[&quot;Slovakian musician and DJ&quot;]</td><td>null</td><td>[&quot;Japanese novelist and essayist (1978-)&quot;]</td><td>[&quot;Hong Kong actress and singer&quot;]</td><td>[&quot;intersex transgender activist&quot;]</td><td>[&quot;American politician&quot;]</td><td>[&quot;Finnish diplomat&quot;]</td><td>[&quot;performer, singer, activist and drag queen&quot;]</td><td>[&quot;Samoan–New Zealand professional wrestler&quot;]</td><td>[&quot;Medieval English sex-worker&quot;]</td><td>[&quot;Chief Court eunuch (1000-1043)&quot;]</td><td>[&quot;actor&quot;]</td><td>[&quot;American comic writer and artist&quot;]</td><td>[&quot;politician in Brunei&quot;]</td><td>[&quot;American mixed martial artist&quot;]</td><td>[&quot;Japanese screenwriter (1910-2003)&quot;]</td><td>[&quot;intersex activist&quot;]</td><td>[&quot;American singer and actress&quot;]</td><td>[&quot;Nigerian academic&quot;]</td><td>&hellip;</td><td>[&quot;English stage actor and drag queen&quot;]</td><td>[&quot;Commander of the Shence Armies&quot;]</td><td>[&quot;researcher&quot;]</td><td>[&quot;American powerlifter and bodybuilder&quot;]</td><td>[&quot;(1601-1622)&quot;]</td><td>[&quot;American writer&quot;]</td><td>[&quot;American artist&quot;]</td><td>[&quot;American museum curator&quot;]</td><td>[&quot;Indian indigenist and politician&quot;]</td><td>[&quot;Indian dancer&quot;]</td><td>[&quot;Samoan fa&#x27;afafine activist&quot;]</td><td>[&quot;Prime Minister and President of Mongolia (1916-1991)&quot;]</td><td>[&quot;2nd century Eastern Han dynasty eunuch official&quot;]</td><td>[&quot;english-American food writer and home economist&quot;]</td><td>[&quot;Patriarch of Constantinople&quot;]</td><td>[&quot;Peruvian painter and printmaker (died 1984)&quot;]</td><td>[&quot;classical philologist&quot;]</td><td>[&quot;English servant&quot;]</td><td>[&quot;trans rights activist&quot;]</td><td>[&quot;Ming Dynasty eunuch, died 1449&quot;]</td><td>[&quot;Armenian philologist, translator&quot;]</td><td>[&quot;musician from Flint, Michigan&quot;]</td><td>[&quot;Mexican musician&quot;]</td><td>[&quot;Sri Lankan American novelist and short story writer&quot;]</td><td>[&quot;American filmmaker, actor, model, and intersex rights activist&quot;]</td><td>[&quot;Song Dynasty official and expert on weights and measures&quot;]</td><td>[&quot;American singer&quot;]</td><td>[&quot;Maltese LGBT and intersex activist&quot;]</td><td>[&quot;American politician&quot;]</td><td>[&quot;Welsh historian and author&quot;]</td><td>[&quot;American-Israeli artist&quot;]</td><td>[&quot;Hungarian zoologist&quot;]</td><td>[&quot;New Zealand writer (1912-1998)&quot;]</td><td>[&quot;Vietnamese general, mandarin&quot;]</td><td>[&quot;writer and professor of English&quot;]</td><td>[&quot;American talk-show host&quot;]</td><td>[&quot;Malaysian writer,  filmmaker and activist&quot;]</td></tr><tr><td>&quot;type&quot;</td><td>[&quot;item&quot;]</td><td>[&quot;item&quot;]</td><td>[&quot;item&quot;]</td><td>[&quot;item&quot;]</td><td>[&quot;item&quot;]</td><td>[&quot;item&quot;]</td><td>[&quot;item&quot;]</td><td>[&quot;item&quot;]</td><td>[&quot;item&quot;]</td><td>[&quot;item&quot;]</td><td>[&quot;item&quot;]</td><td>[&quot;item&quot;]</td><td>[&quot;item&quot;]</td><td>[&quot;item&quot;]</td><td>[&quot;item&quot;]</td><td>[&quot;item&quot;]</td><td>[&quot;item&quot;]</td><td>[&quot;item&quot;]</td><td>[&quot;item&quot;]</td><td>[&quot;item&quot;]</td><td>[&quot;item&quot;]</td><td>[&quot;item&quot;]</td><td>[&quot;item&quot;]</td><td>[&quot;item&quot;]</td><td>[&quot;item&quot;]</td><td>[&quot;item&quot;]</td><td>[&quot;item&quot;]</td><td>[&quot;item&quot;]</td><td>[&quot;item&quot;]</td><td>[&quot;item&quot;]</td><td>[&quot;item&quot;]</td><td>[&quot;item&quot;]</td><td>[&quot;item&quot;]</td><td>[&quot;item&quot;]</td><td>[&quot;item&quot;]</td><td>[&quot;item&quot;]</td><td>&hellip;</td><td>[&quot;item&quot;]</td><td>[&quot;item&quot;]</td><td>[&quot;item&quot;]</td><td>[&quot;item&quot;]</td><td>[&quot;item&quot;]</td><td>[&quot;item&quot;]</td><td>[&quot;item&quot;]</td><td>[&quot;item&quot;]</td><td>[&quot;item&quot;]</td><td>[&quot;item&quot;]</td><td>[&quot;item&quot;]</td><td>[&quot;item&quot;]</td><td>[&quot;item&quot;]</td><td>[&quot;item&quot;]</td><td>[&quot;item&quot;]</td><td>[&quot;item&quot;]</td><td>[&quot;item&quot;]</td><td>[&quot;item&quot;]</td><td>[&quot;item&quot;]</td><td>[&quot;item&quot;]</td><td>[&quot;item&quot;]</td><td>[&quot;item&quot;]</td><td>[&quot;item&quot;]</td><td>[&quot;item&quot;]</td><td>[&quot;item&quot;]</td><td>[&quot;item&quot;]</td><td>[&quot;item&quot;]</td><td>[&quot;item&quot;]</td><td>[&quot;item&quot;]</td><td>[&quot;item&quot;]</td><td>[&quot;item&quot;]</td><td>[&quot;item&quot;]</td><td>[&quot;item&quot;]</td><td>[&quot;item&quot;]</td><td>[&quot;item&quot;]</td><td>[&quot;item&quot;]</td><td>[&quot;item&quot;]</td></tr><tr><td>&quot;sitelinks&quot;</td><td>[&quot;{&quot;enwiki&quot;,&quot;Tian Lingzi&quot;,&quot;Tian_Lingzi&quot;}&quot;, &quot;{&quot;zhwiki&quot;,&quot;田令孜&quot;,&quot;田令孜&quot;}&quot;, … &quot;{&quot;jawiki&quot;,&quot;田令孜&quot;,&quot;田令孜&quot;}&quot;]</td><td>[&quot;{&quot;enwiki&quot;,&quot;Devon Price&quot;,&quot;Devon_Price&quot;}&quot;, &quot;{&quot;dewiki&quot;,&quot;Devon Price&quot;,&quot;Devon_Price&quot;}&quot;, … &quot;{&quot;euwiki&quot;,&quot;Devon Price&quot;,&quot;Devon_Price&quot;}&quot;]</td><td>[&quot;{&quot;enwiki&quot;,&quot;Rivers Solomon&quot;,&quot;Rivers_Solomon&quot;}&quot;, &quot;{&quot;frwiki&quot;,&quot;Rivers Solomon&quot;,&quot;Rivers_Solomon&quot;}&quot;, … &quot;{&quot;eswiki&quot;,&quot;Rivers Solomon&quot;,&quot;Rivers_Solomon&quot;}&quot;]</td><td>[&quot;{&quot;enwiki&quot;,&quot;Dana Stone&quot;,&quot;Dana_Stone&quot;}&quot;, &quot;{&quot;bgwiki&quot;,&quot;Дейна Стоун&quot;,&quot;Дейна_Стоун&quot;}&quot;, … &quot;{&quot;frwiki&quot;,&quot;Dana Stone&quot;,&quot;Dana_Stone&quot;}&quot;]</td><td>[&quot;{&quot;frwiki&quot;,&quot;Constantin Gongylès&quot;,&quot;Constantin_Gongylès&quot;}&quot;, &quot;{&quot;shwiki&quot;,&quot;Konstantin Gongil&quot;,&quot;Konstantin_Gongil&quot;}&quot;, … &quot;{&quot;ruwiki&quot;,&quot;Константин Гонгил&quot;,&quot;Константин_Гонгил&quot;}&quot;]</td><td>[&quot;{&quot;enwiki&quot;,&quot;Marietu Tenuche&quot;,&quot;Marietu_Tenuche&quot;}&quot;, &quot;{&quot;enwikiquote&quot;,&quot;Marietu Tenuche&quot;,&quot;Marietu_Tenuche&quot;}&quot;, … &quot;{&quot;igwiki&quot;,&quot;Marietu Tenuche&quot;,&quot;Marietu_Tenuche&quot;}&quot;]</td><td>[&quot;{&quot;enwiki&quot;,&quot;Barbara Sahakian&quot;,&quot;Barbara_Sahakian&quot;}&quot;, &quot;{&quot;azbwiki&quot;,&quot;باربارا ساکاکیان&quot;,&quot;باربارا_ساکاکیان&quot;}&quot;, … &quot;{&quot;hywiki&quot;,&quot;Բարբարա Սահակյան&quot;,&quot;Բարբարա_Սահակյան&quot;}&quot;]</td><td>[&quot;{&quot;enwiki&quot;,&quot;Yelena Komarova&quot;,&quot;Yelena_Komarova&quot;}&quot;, &quot;{&quot;plwiki&quot;,&quot;Ołena Komarowa&quot;,&quot;Ołena_Komarowa&quot;}&quot;, … &quot;{&quot;azwiki&quot;,&quot;Yelena Komarova&quot;,&quot;Yelena_Komarova&quot;}&quot;]</td><td>[&quot;{&quot;enwiki&quot;,&quot;James Barry (surgeon)&quot;,&quot;James_Barry_(surgeon)&quot;}&quot;, &quot;{&quot;eswiki&quot;,&quot;James Barry&quot;,&quot;James_Barry&quot;}&quot;, … &quot;{&quot;gawiki&quot;,&quot;Margaret Ann Bulkley (James Barry)&quot;,&quot;Margaret_Ann_Bulkley_(James_Barry)&quot;}&quot;]</td><td>[&quot;{&quot;enwiki&quot;,&quot;Miss Fame&quot;,&quot;Miss_Fame&quot;}&quot;, &quot;{&quot;nlwiki&quot;,&quot;Miss Fame&quot;,&quot;Miss_Fame&quot;}&quot;, … &quot;{&quot;pawiki&quot;,&quot;ਮਿਸ ਫੇਮ&quot;,&quot;ਮਿਸ_ਫੇਮ&quot;}&quot;]</td><td>[&quot;{&quot;enwiki&quot;,&quot;Ozaawindib&quot;,&quot;Ozaawindib&quot;}&quot;]</td><td>[&quot;{&quot;eswiki&quot;,&quot;Joss Favela&quot;,&quot;Joss_Favela&quot;}&quot;, &quot;{&quot;commonswiki&quot;,&quot;Category:Joss Favela&quot;,&quot;Category:Joss_Favela&quot;}&quot;, … &quot;{&quot;enwiki&quot;,&quot;Joss Favela&quot;,&quot;Joss_Favela&quot;}&quot;]</td><td>[&quot;{&quot;enwiki&quot;,&quot;Ebele Oseye&quot;,&quot;Ebele_Oseye&quot;}&quot;, &quot;{&quot;igwiki&quot;,&quot;Ebele Oseye&quot;,&quot;Ebele_Oseye&quot;}&quot;]</td><td>[&quot;{&quot;enwiki&quot;,&quot;Gray Johnson Poole&quot;,&quot;Gray_Johnson_Poole&quot;}&quot;]</td><td>[&quot;{&quot;enwiki&quot;,&quot;Tutu Chengcui&quot;,&quot;Tutu_Chengcui&quot;}&quot;, &quot;{&quot;zhwiki&quot;,&quot;吐突承璀&quot;,&quot;吐突承璀&quot;}&quot;]</td><td>[&quot;{&quot;enwiki&quot;,&quot;Lori Campbell&quot;,&quot;Lori_Campbell&quot;}&quot;]</td><td>[&quot;{&quot;enwiki&quot;,&quot;Wimund&quot;,&quot;Wimund&quot;}&quot;, &quot;{&quot;nowiki&quot;,&quot;Wimund&quot;,&quot;Wimund&quot;}&quot;, … &quot;{&quot;eswiki&quot;,&quot;Wimund&quot;,&quot;Wimund&quot;}&quot;]</td><td>[&quot;{&quot;cswiki&quot;,&quot;B-Complex&quot;,&quot;B-Complex&quot;}&quot;, &quot;{&quot;commonswiki&quot;,&quot;Category:B-Complex&quot;,&quot;Category:B-Complex&quot;}&quot;, … &quot;{&quot;ukwiki&quot;,&quot;B-Complex&quot;,&quot;B-Complex&quot;}&quot;]</td><td>[&quot;{&quot;enwiki&quot;,&quot;Mathilde Stuyvesant&quot;,&quot;Mathilde_Stuyvesant&quot;}&quot;]</td><td>[&quot;{&quot;jawiki&quot;,&quot;山崎ナオコーラ&quot;,&quot;山崎ナオコーラ&quot;}&quot;, &quot;{&quot;enwiki&quot;,&quot;Nao-Cola Yamazaki&quot;,&quot;Nao-Cola_Yamazaki&quot;}&quot;, &quot;{&quot;cswiki&quot;,&quot;Nao-Cola Jamazaki&quot;,&quot;Nao-Cola_Jamazaki&quot;}&quot;]</td><td>[&quot;{&quot;enwiki&quot;,&quot;Ivy Ling Po&quot;,&quot;Ivy_Ling_Po&quot;}&quot;, &quot;{&quot;frwiki&quot;,&quot;Ivy Ling Po&quot;,&quot;Ivy_Ling_Po&quot;}&quot;, … &quot;{&quot;thwiki&quot;,&quot;หลิง ปัว&quot;,&quot;หลิง_ปัว&quot;}&quot;]</td><td>[&quot;{&quot;enwiki&quot;,&quot;Kristian Ranđelović&quot;,&quot;Kristian_Ranđelović&quot;}&quot;, &quot;{&quot;ruwiki&quot;,&quot;Ранджелович, Кристиан&quot;,&quot;Ранджелович,_Кристиан&quot;}&quot;, … &quot;{&quot;srwiki&quot;,&quot;Кристиан Ранђеловић&quot;,&quot;Кристиан_Ранђеловић&quot;}&quot;]</td><td>[&quot;{&quot;enwiki&quot;,&quot;Laurin Hendrix&quot;,&quot;Laurin_Hendrix&quot;}&quot;]</td><td>[&quot;{&quot;fiwiki&quot;,&quot;Pekka J. Korvenheimo&quot;,&quot;Pekka_J._Korvenheimo&quot;}&quot;, &quot;{&quot;enwiki&quot;,&quot;Pekka J. Korvenheimo&quot;,&quot;Pekka_J._Korvenheimo&quot;}&quot;]</td><td>[&quot;{&quot;enwiki&quot;,&quot;Maya the Drag Queen&quot;,&quot;Maya_the_Drag_Queen&quot;}&quot;, &quot;{&quot;pawiki&quot;,&quot;ਮਾਇਆ ਦ ਡਰੈਗ ਕੁਈਨ&quot;,&quot;ਮਾਇਆ_ਦ_ਡਰੈਗ_ਕੁਈਨ&quot;}&quot;]</td><td>[&quot;{&quot;enwiki&quot;,&quot;Leilani Tominiko&quot;,&quot;Leilani_Tominiko&quot;}&quot;]</td><td>[&quot;{&quot;ptwiki&quot;,&quot;John Rykener&quot;,&quot;John_Rykener&quot;}&quot;, &quot;{&quot;trwiki&quot;,&quot;John Rykener&quot;,&quot;John_Rykener&quot;}&quot;, … &quot;{&quot;enwiki&quot;,&quot;John/Eleanor Rykener&quot;,&quot;John/Eleanor_Rykener&quot;}&quot;]</td><td>[&quot;{&quot;dewiki&quot;,&quot;Johannes Orphanotrophos&quot;,&quot;Johannes_Orphanotrophos&quot;}&quot;, &quot;{&quot;frwiki&quot;,&quot;Jean l&#x27;Orphanotrophe&quot;,&quot;Jean_l&#x27;Orphanotrophe&quot;}&quot;, … &quot;{&quot;itwiki&quot;,&quot;Giovanni l&#x27;Orfanotrofo&quot;,&quot;Giovanni_l&#x27;Orfanotrofo&quot;}&quot;]</td><td>[&quot;{&quot;enwiki&quot;,&quot;Suruli Manohar&quot;,&quot;Suruli_Manohar&quot;}&quot;, &quot;{&quot;tawiki&quot;,&quot;சுருளி மனோகர்&quot;,&quot;சுருளி_மனோகர்&quot;}&quot;]</td><td>[&quot;{&quot;arwiki&quot;,&quot;نويل ستيفنسون&quot;,&quot;نويل_ستيفنسون&quot;}&quot;, &quot;{&quot;enwiki&quot;,&quot;ND Stevenson&quot;,&quot;ND_Stevenson&quot;}&quot;, … &quot;{&quot;euwiki&quot;,&quot;ND Stevenson&quot;,&quot;ND_Stevenson&quot;}&quot;]</td><td>[&quot;{&quot;commonswiki&quot;,&quot;Category:Romaizah Mohd Salleh&quot;,&quot;Category:Romaizah_Mohd_Salleh&quot;}&quot;, &quot;{&quot;enwiki&quot;,&quot;Romaizah Mohd Salleh&quot;,&quot;Romaizah_Mohd_Salleh&quot;}&quot;]</td><td>[&quot;{&quot;enwiki&quot;,&quot;Brendan Allen&quot;,&quot;Brendan_Allen&quot;}&quot;, &quot;{&quot;ptwiki&quot;,&quot;Brendan Allen&quot;,&quot;Brendan_Allen&quot;}&quot;, … &quot;{&quot;arwiki&quot;,&quot;بريندان ألين&quot;,&quot;بريندان_ألين&quot;}&quot;]</td><td>[&quot;{&quot;jawiki&quot;,&quot;水木洋子&quot;,&quot;水木洋子&quot;}&quot;, &quot;{&quot;enwiki&quot;,&quot;Yoko Mizuki&quot;,&quot;Yoko_Mizuki&quot;}&quot;, … &quot;{&quot;fawiki&quot;,&quot;یوکو میزوکی&quot;,&quot;یوکو_میزوکی&quot;}&quot;]</td><td>[&quot;{&quot;enwiki&quot;,&quot;Anton Krzyzanowski&quot;,&quot;Anton_Krzyzanowski&quot;}&quot;]</td><td>[&quot;{&quot;enwikiquote&quot;,&quot;Demi Lovato&quot;,&quot;Demi_Lovato&quot;}&quot;, &quot;{&quot;plwikiquote&quot;,&quot;Demi Lovato&quot;,&quot;Demi_Lovato&quot;}&quot;, … &quot;{&quot;fawikiquote&quot;,&quot;دمی لواتو&quot;,&quot;دمی_لواتو&quot;}&quot;]</td><td>[&quot;{&quot;enwiki&quot;,&quot;Angela Miri&quot;,&quot;Angela_Miri&quot;}&quot;, &quot;{&quot;igwiki&quot;,&quot;Angela Miri&quot;,&quot;Angela_Miri&quot;}&quot;, … &quot;{&quot;enwikiquote&quot;,&quot;Angela Miri&quot;,&quot;Angela_Miri&quot;}&quot;]</td><td>&hellip;</td><td>[&quot;{&quot;enwiki&quot;,&quot;Iz Hesketh&quot;,&quot;Iz_Hesketh&quot;}&quot;]</td><td>[&quot;{&quot;enwiki&quot;,&quot;Liu Jishu&quot;,&quot;Liu_Jishu&quot;}&quot;, &quot;{&quot;zhwiki&quot;,&quot;劉季述&quot;,&quot;劉季述&quot;}&quot;, &quot;{&quot;jawiki&quot;,&quot;劉季述&quot;,&quot;劉季述&quot;}&quot;]</td><td>[&quot;{&quot;etwiki&quot;,&quot;Romi Mankin&quot;,&quot;Romi_Mankin&quot;}&quot;, &quot;{&quot;enwiki&quot;,&quot;Romi Mankin&quot;,&quot;Romi_Mankin&quot;}&quot;]</td><td>[&quot;{&quot;plwiki&quot;,&quot;Janae Marie Kroc&quot;,&quot;Janae_Marie_Kroc&quot;}&quot;, &quot;{&quot;cswiki&quot;,&quot;Janae Marie Kroc&quot;,&quot;Janae_Marie_Kroc&quot;}&quot;, … &quot;{&quot;fawiki&quot;,&quot;جنای کروک&quot;,&quot;جنای_کروک&quot;}&quot;]</td><td>[&quot;{&quot;enwiki&quot;,&quot;Conn O&#x27;Neill (prisoner)&quot;,&quot;Conn_O&#x27;Neill_(prisoner)&quot;}&quot;]</td><td>[&quot;{&quot;arzwiki&quot;,&quot;جيمس شوبى&quot;,&quot;جيمس_شوبى&quot;}&quot;, &quot;{&quot;enwiki&quot;,&quot;Elisa Rae Shupe&quot;,&quot;Elisa_Rae_Shupe&quot;}&quot;, … &quot;{&quot;frwiki&quot;,&quot;Elisa Rae Shupe&quot;,&quot;Elisa_Rae_Shupe&quot;}&quot;]</td><td>[&quot;{&quot;dewiki&quot;,&quot;Ira Schneider&quot;,&quot;Ira_Schneider&quot;}&quot;, &quot;{&quot;enwiki&quot;,&quot;Ira Schneider&quot;,&quot;Ira_Schneider&quot;}&quot;, … &quot;{&quot;arzwiki&quot;,&quot;ايرا شنايدر&quot;,&quot;ايرا_شنايدر&quot;}&quot;]</td><td>[&quot;{&quot;enwiki&quot;,&quot;Joan Rosenbaum&quot;,&quot;Joan_Rosenbaum&quot;}&quot;]</td><td>[&quot;{&quot;enwiki&quot;,&quot;Gopi Shankar Madurai&quot;,&quot;Gopi_Shankar_Madurai&quot;}&quot;, &quot;{&quot;pnbwiki&quot;,&quot;گوپی شنکر مدورائی&quot;,&quot;گوپی_شنکر_مدورائی&quot;}&quot;, … &quot;{&quot;cawiki&quot;,&quot;Gopi Shankar Madurai&quot;,&quot;Gopi_Shankar_Madurai&quot;}&quot;]</td><td>[&quot;{&quot;tawiki&quot;,&quot;நர்த்தகி நடராஜ்&quot;,&quot;நர்த்தகி_நடராஜ்&quot;}&quot;, &quot;{&quot;enwiki&quot;,&quot;Narthaki Nataraj&quot;,&quot;Narthaki_Nataraj&quot;}&quot;, … &quot;{&quot;tewiki&quot;,&quot;నర్తకి నటరాజ్&quot;,&quot;నర్తకి_నటరాజ్&quot;}&quot;]</td><td>[&quot;{&quot;frwiki&quot;,&quot;To’oto’oali’I Roger Stanley&quot;,&quot;To’oto’oali’I_Roger_Stanley&quot;}&quot;, &quot;{&quot;enwiki&quot;,&quot;Toʻotoʻoaliʻi Roger Stanley&quot;,&quot;Toʻotoʻoaliʻi_Roger_Stanley&quot;}&quot;]</td><td>[&quot;{&quot;commonswiki&quot;,&quot;Category:Yumjaagiin Tsedenbal&quot;,&quot;Category:Yumjaagiin_Tsedenbal&quot;}&quot;, &quot;{&quot;enwiki&quot;,&quot;Yumjaagiin Tsedenbal&quot;,&quot;Yumjaagiin_Tsedenbal&quot;}&quot;, … &quot;{&quot;kkwiki&quot;,&quot;Юмжагийн Цеденбал&quot;,&quot;Юмжагийн_Цеденбал&quot;}&quot;]</td><td>[&quot;{&quot;zhwiki&quot;,&quot;曹騰&quot;,&quot;曹騰&quot;}&quot;, &quot;{&quot;dewiki&quot;,&quot;Cao Teng&quot;,&quot;Cao_Teng&quot;}&quot;, … &quot;{&quot;thwiki&quot;,&quot;โจเท้ง&quot;,&quot;โจเท้ง&quot;}&quot;]</td><td>[&quot;{&quot;enwiki&quot;,&quot;Jean Hewitt&quot;,&quot;Jean_Hewitt&quot;}&quot;]</td><td>[&quot;{&quot;ptwiki&quot;,&quot;Nicetas I de Constantinopla&quot;,&quot;Nicetas_I_de_Constantinopla&quot;}&quot;, &quot;{&quot;skwiki&quot;,&quot;Nikétas I.&quot;,&quot;Nikétas_I.&quot;}&quot;, … &quot;{&quot;cawiki&quot;,&quot;Nicetes I&quot;,&quot;Nicetes_I&quot;}&quot;]</td><td>[&quot;{&quot;enwiki&quot;,&quot;Tilsa Tsuchiya&quot;,&quot;Tilsa_Tsuchiya&quot;}&quot;, &quot;{&quot;eswiki&quot;,&quot;Tilsa Tsuchiya&quot;,&quot;Tilsa_Tsuchiya&quot;}&quot;, … &quot;{&quot;jawiki&quot;,&quot;ティルサ・ツチヤ&quot;,&quot;ティルサ・ツチヤ&quot;}&quot;]</td><td>[&quot;{&quot;enwiki&quot;,&quot;Isabel Ruffell&quot;,&quot;Isabel_Ruffell&quot;}&quot;]</td><td>[&quot;{&quot;enwiki&quot;,&quot;Thomas(ine) Hall&quot;,&quot;Thomas(ine)_Hall&quot;}&quot;, &quot;{&quot;ruwiki&quot;,&quot;Холл, Томас(ин)&quot;,&quot;Холл,_Томас(ин)&quot;}&quot;]</td><td>[&quot;{&quot;enwiki&quot;,&quot;Ymania Brown&quot;,&quot;Ymania_Brown&quot;}&quot;]</td><td>[&quot;{&quot;zhwiki&quot;,&quot;王振&quot;,&quot;王振&quot;}&quot;, &quot;{&quot;dewiki&quot;,&quot;Wang Zhen (Ming)&quot;,&quot;Wang_Zhen_(Ming)&quot;}&quot;, … &quot;{&quot;ptwiki&quot;,&quot;Wang Zhen (eunuco)&quot;,&quot;Wang_Zhen_(eunuco)&quot;}&quot;]</td><td>[&quot;{&quot;hywiki&quot;,&quot;Գոհար Մուրադյան&quot;,&quot;Գոհար_Մուրադյան&quot;}&quot;, &quot;{&quot;enwiki&quot;,&quot;Gohar Muradyan&quot;,&quot;Gohar_Muradyan&quot;}&quot;, … &quot;{&quot;arzwiki&quot;,&quot;جوهر مراديان&quot;,&quot;جوهر_مراديان&quot;}&quot;]</td><td>[&quot;{&quot;enwiki&quot;,&quot;Tunde Olaniran&quot;,&quot;Tunde_Olaniran&quot;}&quot;, &quot;{&quot;igwiki&quot;,&quot;Tunde Olaniran&quot;,&quot;Tunde_Olaniran&quot;}&quot;]</td><td>[&quot;{&quot;eswiki&quot;,&quot;Flor Amargo&quot;,&quot;Flor_Amargo&quot;}&quot;, &quot;{&quot;frwiki&quot;,&quot;Flor Amargo&quot;,&quot;Flor_Amargo&quot;}&quot;, … &quot;{&quot;commonswiki&quot;,&quot;Category:Flor Amargo&quot;,&quot;Category:Flor_Amargo&quot;}&quot;]</td><td>[&quot;{&quot;enwiki&quot;,&quot;S. J. Sindu&quot;,&quot;S._J._Sindu&quot;}&quot;]</td><td>[&quot;{&quot;enwiki&quot;,&quot;River Gallo&quot;,&quot;River_Gallo&quot;}&quot;, &quot;{&quot;ruwiki&quot;,&quot;Галло, Ривер&quot;,&quot;Галло,_Ривер&quot;}&quot;, … &quot;{&quot;arzwiki&quot;,&quot;ريفر جالو&quot;,&quot;ريفر_جالو&quot;}&quot;]</td><td>[&quot;{&quot;enwiki&quot;,&quot;Liu Chenggui&quot;,&quot;Liu_Chenggui&quot;}&quot;, &quot;{&quot;zhwiki&quot;,&quot;劉承規&quot;,&quot;劉承規&quot;}&quot;]</td><td>[&quot;{&quot;commonswiki&quot;,&quot;Category:Tessa Violet&quot;,&quot;Category:Tessa_Violet&quot;}&quot;, &quot;{&quot;enwiki&quot;,&quot;Tessa Violet&quot;,&quot;Tessa_Violet&quot;}&quot;, … &quot;{&quot;ptwiki&quot;,&quot;Tessa Violet&quot;,&quot;Tessa_Violet&quot;}&quot;]</td><td>[&quot;{&quot;enwiki&quot;,&quot;Ruth Baldacchino&quot;,&quot;Ruth_Baldacchino&quot;}&quot;, &quot;{&quot;ruwiki&quot;,&quot;Балдаккино, Рут&quot;,&quot;Балдаккино,_Рут&quot;}&quot;, … &quot;{&quot;eowiki&quot;,&quot;Ruth Baldacchino&quot;,&quot;Ruth_Baldacchino&quot;}&quot;]</td><td>[&quot;{&quot;enwiki&quot;,&quot;Debbie Farhat&quot;,&quot;Debbie_Farhat&quot;}&quot;]</td><td>[&quot;{&quot;cywiki&quot;,&quot;J. Beverley Smith&quot;,&quot;J._Beverley_Smith&quot;}&quot;, &quot;{&quot;enwiki&quot;,&quot;J. Beverley Smith&quot;,&quot;J._Beverley_Smith&quot;}&quot;, &quot;{&quot;arzwiki&quot;,&quot;جيه بيفرلى سميث&quot;,&quot;جيه_بيفرلى_سميث&quot;}&quot;]</td><td>[&quot;{&quot;enwiki&quot;,&quot;Ophrah Shemesh&quot;,&quot;Ophrah_Shemesh&quot;}&quot;, &quot;{&quot;commonswiki&quot;,&quot;Category:Ophrah Shemesh&quot;,&quot;Category:Ophrah_Shemesh&quot;}&quot;, &quot;{&quot;arzwiki&quot;,&quot;اوفراه شيميش&quot;,&quot;اوفراه_شيميش&quot;}&quot;]</td><td>[&quot;{&quot;eowiki&quot;,&quot;Béla Hankó&quot;,&quot;Béla_Hankó&quot;}&quot;, &quot;{&quot;huwiki&quot;,&quot;Hankó Béla&quot;,&quot;Hankó_Béla&quot;}&quot;, … &quot;{&quot;enwiki&quot;,&quot;Béla Hankó&quot;,&quot;Béla_Hankó&quot;}&quot;]</td><td>[&quot;{&quot;enwiki&quot;,&quot;Essie Summers&quot;,&quot;Essie_Summers&quot;}&quot;, &quot;{&quot;dewiki&quot;,&quot;Essie Summers&quot;,&quot;Essie_Summers&quot;}&quot;]</td><td>[&quot;{&quot;enwiki&quot;,&quot;Lê Văn Duyệt&quot;,&quot;Lê_Văn_Duyệt&quot;}&quot;, &quot;{&quot;frwiki&quot;,&quot;Lê Văn Duyệt&quot;,&quot;Lê_Văn_Duyệt&quot;}&quot;, … &quot;{&quot;ruwiki&quot;,&quot;Ле Ван Зует&quot;,&quot;Ле_Ван_Зует&quot;}&quot;]</td><td>[&quot;{&quot;enwiki&quot;,&quot;Andrea Lawlor&quot;,&quot;Andrea_Lawlor&quot;}&quot;]</td><td>[&quot;{&quot;enwiki&quot;,&quot;Sheena Metal&quot;,&quot;Sheena_Metal&quot;}&quot;]</td><td>[&quot;{&quot;enwiki&quot;,&quot;Nadira Ilana&quot;,&quot;Nadira_Ilana&quot;}&quot;]</td></tr><tr><td>&quot;descriptions&quot;</td><td>[&quot;{&quot;en&quot;,&quot;Eunuch who had a stranglehold on power due to his close personal relationship with Emperor Xizong&quot;}&quot;]</td><td>[&quot;{&quot;en&quot;,&quot;American social psychologist and writer&quot;}&quot;, &quot;{&quot;nl&quot;,&quot;Amerikaans academicus&quot;}&quot;, … &quot;{&quot;de&quot;,&quot;US-amerikanischer Psychologe und Autor&quot;}&quot;]</td><td>[&quot;{&quot;en&quot;,&quot;American science fiction author (1989-)&quot;}&quot;, &quot;{&quot;nl&quot;,&quot;sciencefictionschrijver&quot;}&quot;, … &quot;{&quot;it&quot;,&quot;scrittore di fantascienza statunitense (1989-)&quot;}&quot;]</td><td>[&quot;{&quot;fa&quot;,&quot;عکاس آمریکایی&quot;}&quot;, &quot;{&quot;en&quot;,&quot;American photojournalist (1939-1970)&quot;}&quot;, … &quot;{&quot;dag&quot;,&quot;United States of America artist ŋun nyɛ paɣa&quot;}&quot;]</td><td>[&quot;{&quot;en&quot;,&quot;Byzantine aristocrat and official&quot;}&quot;, &quot;{&quot;tr&quot;,&quot;Bizanslı aristokrat ve subay&quot;}&quot;]</td><td>[&quot;{&quot;en&quot;,&quot;Nigerian academic&quot;}&quot;, &quot;{&quot;ar&quot;,&quot;أكاديمية نيجيرية&quot;}&quot;, &quot;{&quot;es&quot;,&quot;académica nigeriana&quot;}&quot;]</td><td>[&quot;{&quot;en&quot;,&quot;neuropsychologist&quot;}&quot;, &quot;{&quot;nl&quot;,&quot;psycholoog&quot;}&quot;]</td><td>[&quot;{&quot;en&quot;,&quot;Olympic wrestler&quot;}&quot;, &quot;{&quot;nl&quot;,&quot;amateurworstelaarster uit Azerbeidzjan&quot;}&quot;, … &quot;{&quot;uk&quot;,&quot;борчиня, учасниця Олімпійських ігор&quot;}&quot;]</td><td>[&quot;{&quot;de&quot;,&quot;Arzt in der englischen Armee&quot;}&quot;, &quot;{&quot;en&quot;,&quot;19th century British surgeon known for medical reforms and personal life&quot;}&quot;, … &quot;{&quot;he&quot;,&quot;כירורג בריטי&quot;}&quot;]</td><td>[&quot;{&quot;en&quot;,&quot;American drag queen&quot;}&quot;, &quot;{&quot;fr&quot;,&quot;drage queen américaine&quot;}&quot;, … &quot;{&quot;dag&quot;,&quot;O nyɛla USA yiliyiinda&quot;}&quot;]</td><td>[&quot;{&quot;en&quot;,&quot;19th-century Ojibwa warrior described as an ayaakwe&quot;}&quot;, &quot;{&quot;ru&quot;,&quot;воин-оджибва XIX века, описанный как аяакве&quot;}&quot;]</td><td>[&quot;{&quot;es&quot;,&quot;compositor y cantante mexicano&quot;}&quot;, &quot;{&quot;ast&quot;,&quot;cantante mexicanu&quot;}&quot;, … &quot;{&quot;et&quot;,&quot;Mehhiko laulja&quot;}&quot;]</td><td>[&quot;{&quot;en&quot;,&quot;poet and fiction writer&quot;}&quot;, &quot;{&quot;nl&quot;,&quot;Amerikaans dichter&quot;}&quot;, … &quot;{&quot;ig&quot;,&quot;Onye na-ede uri na onye ode  akụkọ ifo&quot;}&quot;]</td><td>[]</td><td>[&quot;{&quot;en&quot;,&quot;eunuch during the reign of Emperor Xianzong of Tang&quot;}&quot;, &quot;{&quot;nl&quot;,&quot;politicus&quot;}&quot;]</td><td>[&quot;{&quot;en&quot;,&quot;Cree-Métis educator&quot;}&quot;, &quot;{&quot;ast&quot;,&quot;política canadiana&quot;}&quot;]</td><td>[&quot;{&quot;en&quot;,&quot;English bishop and warlord&quot;}&quot;, &quot;{&quot;nl&quot;,&quot;monnik&quot;}&quot;, &quot;{&quot;de&quot;,&quot;Schottischer Geistlicher und Rebell&quot;}&quot;]</td><td>[&quot;{&quot;en&quot;,&quot;Slovakian musician and DJ&quot;}&quot;, &quot;{&quot;cs&quot;,&quot;slovenská kytaristka a hudební producentka&quot;}&quot;, … &quot;{&quot;ru&quot;,&quot;словацкая диджей и продюсер в жанре драм-н-бейс&quot;}&quot;]</td><td>[]</td><td>[&quot;{&quot;en&quot;,&quot;Japanese novelist and essayist (1978-)&quot;}&quot;, &quot;{&quot;ar&quot;,&quot;روائية يابانية&quot;}&quot;, … &quot;{&quot;ja&quot;,&quot;日本の小説家、エッセイスト (1978-)&quot;}&quot;]</td><td>[&quot;{&quot;en&quot;,&quot;Hong Kong actress and singer&quot;}&quot;, &quot;{&quot;ru&quot;,&quot;китайская, гонконгская и тайваньская киноактриса, певица&quot;}&quot;, … &quot;{&quot;pap&quot;,&quot;aktor chines&quot;}&quot;]</td><td>[&quot;{&quot;en&quot;,&quot;intersex transgender activist&quot;}&quot;]</td><td>[&quot;{&quot;en&quot;,&quot;American politician&quot;}&quot;, &quot;{&quot;fr&quot;,&quot;personnalité politique américaine&quot;}&quot;, … &quot;{&quot;ryu&quot;,&quot;アミリカ合衆国ぬ政治家&quot;}&quot;]</td><td>[&quot;{&quot;ast&quot;,&quot;diplomática finlandesa&quot;}&quot;, &quot;{&quot;es&quot;,&quot;diplomática finlandesa&quot;}&quot;, … &quot;{&quot;fi&quot;,&quot;suomalainen diplomaatti&quot;}&quot;]</td><td>[&quot;{&quot;en&quot;,&quot;performer, singer, activist and drag queen&quot;}&quot;]</td><td>[&quot;{&quot;en&quot;,&quot;Samoan–New Zealand professional wrestler&quot;}&quot;]</td><td>[&quot;{&quot;en&quot;,&quot;Medieval English sex-worker&quot;}&quot;, &quot;{&quot;es&quot;,&quot;trabajador/a sexual inglés/a medieval&quot;}&quot;]</td><td>[&quot;{&quot;de&quot;,&quot;Eunuch im byzantinischen Reich&quot;}&quot;, &quot;{&quot;en&quot;,&quot;Chief Court eunuch (1000-1043)&quot;}&quot;, &quot;{&quot;es&quot;,&quot;eunuco de la corte del Emperador bizantino Romano III&quot;}&quot;]</td><td>[&quot;{&quot;en&quot;,&quot;actor&quot;}&quot;, &quot;{&quot;nl&quot;,&quot;Indiaas acteur (?-2014)&quot;}&quot;, … &quot;{&quot;cy&quot;,&quot;actores&quot;}&quot;]</td><td>[&quot;{&quot;en&quot;,&quot;American comic writer and artist&quot;}&quot;, &quot;{&quot;es&quot;,&quot;ilustrador y escritor de cómics estadounidense&quot;}&quot;, … &quot;{&quot;ca&quot;,&quot;il·lustrador, artista i escriptor de còmics estatunidenc&quot;}&quot;]</td><td>[&quot;{&quot;en&quot;,&quot;politician in Brunei&quot;}&quot;, &quot;{&quot;ar&quot;,&quot;سياسية برونية&quot;}&quot;, … &quot;{&quot;ro&quot;,&quot;politiciană din Brunei&quot;}&quot;]</td><td>[&quot;{&quot;en&quot;,&quot;American mixed martial artist&quot;}&quot;, &quot;{&quot;he&quot;,&quot;אמן לחימה משולבת אמריקאי&quot;}&quot;, … &quot;{&quot;es&quot;,&quot;artista marcial mixto estadounidense&quot;}&quot;]</td><td>[&quot;{&quot;en&quot;,&quot;Japanese screenwriter (1910-2003)&quot;}&quot;, &quot;{&quot;ja&quot;,&quot;日本の脚本家&quot;}&quot;, … &quot;{&quot;tr&quot;,&quot;Japon senarist (1910 – 2003)&quot;}&quot;]</td><td>[&quot;{&quot;en&quot;,&quot;intersex activist&quot;}&quot;]</td><td>[&quot;{&quot;it&quot;,&quot;cantante, compositrice e attrice statunitense&quot;}&quot;, &quot;{&quot;ilo&quot;,&quot;Amerikana a kumakanta&quot;}&quot;, … &quot;{&quot;bug&quot;,&quot;Penyanyi sibawa aktris Amerika&quot;}&quot;]</td><td>[&quot;{&quot;en&quot;,&quot;Nigerian academic&quot;}&quot;, &quot;{&quot;es&quot;,&quot;académica nigeriana&quot;}&quot;, … &quot;{&quot;ig&quot;,&quot;agụmakwụkwọ Naijiria&quot;}&quot;]</td><td>&hellip;</td><td>[&quot;{&quot;en&quot;,&quot;English stage actor and drag queen&quot;}&quot;]</td><td>[&quot;{&quot;en&quot;,&quot;Commander of the Shence Armies&quot;}&quot;, &quot;{&quot;nl&quot;,&quot;politicus&quot;}&quot;]</td><td>[&quot;{&quot;nl&quot;,&quot;natuurkundige&quot;}&quot;, &quot;{&quot;en&quot;,&quot;researcher&quot;}&quot;, … &quot;{&quot;en-us&quot;,&quot;researcher&quot;}&quot;]</td><td>[&quot;{&quot;en&quot;,&quot;American powerlifter and bodybuilder&quot;}&quot;, &quot;{&quot;nl&quot;,&quot;Amerikaans model&quot;}&quot;, … &quot;{&quot;cs&quot;,&quot;americká powerlifterka a bodybuilderka&quot;}&quot;]</td><td>[&quot;{&quot;en&quot;,&quot;(1601-1622)&quot;}&quot;, &quot;{&quot;uk&quot;,&quot;(1601-1622)&quot;}&quot;]</td><td>[&quot;{&quot;en&quot;,&quot;American writer&quot;}&quot;, &quot;{&quot;nl&quot;,&quot;Amerikaans activist&quot;}&quot;, … &quot;{&quot;ja&quot;,&quot;アメリカ合衆国の作家&quot;}&quot;]</td><td>[&quot;{&quot;de&quot;,&quot;US-amerikanischer Videokünstler und Fotograf&quot;}&quot;, &quot;{&quot;en&quot;,&quot;American artist&quot;}&quot;, … &quot;{&quot;hy&quot;,&quot;ամերիկացի արվեստագետ&quot;}&quot;]</td><td>[&quot;{&quot;nl&quot;,&quot;museumdirecteur&quot;}&quot;, &quot;{&quot;en&quot;,&quot;American museum curator&quot;}&quot;, &quot;{&quot;fr&quot;,&quot;Rosenbaum, Joan&quot;}&quot;]</td><td>[&quot;{&quot;en&quot;,&quot;Indian indigenist and politician&quot;}&quot;, &quot;{&quot;de&quot;,&quot;indische intersexuelle Person, aktivistisch tätig für Intersex- und LGBT-Rechte&quot;}&quot;, … &quot;{&quot;ca&quot;,&quot;indigenista i polític indi&quot;}&quot;]</td><td>[&quot;{&quot;en&quot;,&quot;Indian dancer&quot;}&quot;, &quot;{&quot;nl&quot;,&quot;Indiaas danseres&quot;}&quot;, … &quot;{&quot;eu&quot;,&quot;dantzari indiarra&quot;}&quot;]</td><td>[&quot;{&quot;en&quot;,&quot;Samoan fa&#x27;afafine activist&quot;}&quot;, &quot;{&quot;nl&quot;,&quot;activist uit Samoa (?-2018)&quot;}&quot;, … &quot;{&quot;fr&quot;,&quot;millitante samoane&quot;}&quot;]</td><td>[&quot;{&quot;it&quot;,&quot;politico mongolo&quot;}&quot;, &quot;{&quot;de&quot;,&quot;mongolischer Staatsführer&quot;}&quot;, … &quot;{&quot;pl&quot;,&quot;mongolski polityk&quot;}&quot;]</td><td>[&quot;{&quot;de&quot;,&quot;Eunuch der Han-Dynastie&quot;}&quot;, &quot;{&quot;en&quot;,&quot;2nd century Eastern Han dynasty eunuch official&quot;}&quot;, … &quot;{&quot;ja&quot;,&quot;中国後漢末期の宦官。中常侍・大長秋。&quot;}&quot;]</td><td>[&quot;{&quot;en&quot;,&quot;english-American food writer and home economist&quot;}&quot;]</td><td>[&quot;{&quot;el&quot;,&quot;Πατριάρχης Κωνσταντινουπόλεως&quot;}&quot;, &quot;{&quot;en&quot;,&quot;Patriarch of Constantinople&quot;}&quot;, … &quot;{&quot;ca&quot;,&quot;patriarca de Constantinoble&quot;}&quot;]</td><td>[&quot;{&quot;en&quot;,&quot;Peruvian painter and printmaker (died 1984)&quot;}&quot;, &quot;{&quot;nl&quot;,&quot;kunstschilderes uit Peru (1928-1984)&quot;}&quot;, … &quot;{&quot;ja&quot;,&quot;ペルーの画家&quot;}&quot;]</td><td>[&quot;{&quot;fr&quot;,&quot;philologue classique&quot;}&quot;, &quot;{&quot;en&quot;,&quot;classical philologist&quot;}&quot;]</td><td>[&quot;{&quot;en&quot;,&quot;English servant&quot;}&quot;, &quot;{&quot;fr&quot;,&quot;Servant(e) anglais(e) en Virginie coloniale&quot;}&quot;, &quot;{&quot;nl&quot;,&quot;huishoudelijke hulp&quot;}&quot;]</td><td>[&quot;{&quot;en&quot;,&quot;trans rights activist&quot;}&quot;]</td><td>[&quot;{&quot;de&quot;,&quot;chinesischer Eunuch der Ming-Dynastie&quot;}&quot;, &quot;{&quot;en&quot;,&quot;Ming Dynasty eunuch, died 1449&quot;}&quot;, … &quot;{&quot;cs&quot;,&quot;čínský eunuch a politik&quot;}&quot;]</td><td>[&quot;{&quot;hy&quot;,&quot;հայ բանասեր, թարգմանիչ&quot;}&quot;, &quot;{&quot;nl&quot;,&quot;vertaalster uit Armenië&quot;}&quot;, … &quot;{&quot;fr&quot;,&quot;philologue arménienne&quot;}&quot;]</td><td>[&quot;{&quot;nl&quot;,&quot;muzikant&quot;}&quot;, &quot;{&quot;en&quot;,&quot;musician from Flint, Michigan&quot;}&quot;]</td><td>[&quot;{&quot;en&quot;,&quot;Mexican musician&quot;}&quot;, &quot;{&quot;es&quot;,&quot;cantante, letrista, arreglista y pianista de México&quot;}&quot;, … &quot;{&quot;cy&quot;,&quot;cyfansoddwr a aned yn 1988&quot;}&quot;]</td><td>[&quot;{&quot;en&quot;,&quot;Sri Lankan American novelist and short story writer&quot;}&quot;, &quot;{&quot;te&quot;,&quot;శ్రీలంక అమెరికన్ నవలా రచయిత్రి  మరియు చిన్న కథా రచయిత్రి&quot;}&quot;, … &quot;{&quot;dag&quot;,&quot;United States of America karimma ŋun nyɛ paɣa&quot;}&quot;]</td><td>[&quot;{&quot;en&quot;,&quot;American filmmaker, actor, model, and intersex rights activist&quot;}&quot;, &quot;{&quot;nl&quot;,&quot;Amerikaans filmmaker&quot;}&quot;, … &quot;{&quot;arz&quot;,&quot;ناشطه حقوق ال جى بى تى من امريكا&quot;}&quot;]</td><td>[&quot;{&quot;en&quot;,&quot;Song Dynasty official and expert on weights and measures&quot;}&quot;, &quot;{&quot;nl&quot;,&quot;politicus&quot;}&quot;, &quot;{&quot;ast&quot;,&quot;persona de la dinastía Song (CBDB=0001180)&quot;}&quot;]</td><td>[&quot;{&quot;de&quot;,&quot;US-amerikanische Vloggerin, Comedian, Schauspielerin und Model&quot;}&quot;, &quot;{&quot;en&quot;,&quot;American singer&quot;}&quot;, … &quot;{&quot;uk&quot;,&quot;американська співачка&quot;}&quot;]</td><td>[&quot;{&quot;en&quot;,&quot;Maltese LGBT and intersex activist&quot;}&quot;, &quot;{&quot;eo&quot;,&quot;GLAT-a kaj interseksula aktivulo de Malto&quot;}&quot;, &quot;{&quot;de&quot;,&quot;maltesische intersexuelle Person, die sich aktivistisch für Intersex- und LGBT-Rechte einsetzt&quot;}&quot;]</td><td>[&quot;{&quot;en&quot;,&quot;American politician&quot;}&quot;, &quot;{&quot;bn&quot;,&quot;মার্কিন রাজনীতিবিদ&quot;}&quot;, … &quot;{&quot;ryu&quot;,&quot;アミリカ合衆国ぬ政治家&quot;}&quot;]</td><td>[&quot;{&quot;nl&quot;,&quot;historicus&quot;}&quot;, &quot;{&quot;en&quot;,&quot;Welsh historian and author&quot;}&quot;, … &quot;{&quot;cy&quot;,&quot;Hanesydd ac awdur o Gymro&quot;}&quot;]</td><td>[&quot;{&quot;en&quot;,&quot;American-Israeli artist&quot;}&quot;, &quot;{&quot;de&quot;,&quot;US-amerikanisch-israelische Künstlerin&quot;}&quot;, … &quot;{&quot;dag&quot;,&quot;United States of America artist ŋun nyɛ paɣa&quot;}&quot;]</td><td>[&quot;{&quot;hu&quot;,&quot;(1886–1959) magyar zoológus, ichthyológus, ornitológus, muzeológus, egyetemi tanár, természettudományi szakíró&quot;}&quot;, &quot;{&quot;nl&quot;,&quot;Hongaars ichtyoloog (1886-1959)&quot;}&quot;, … &quot;{&quot;es&quot;,&quot;zoólogo húngaro&quot;}&quot;]</td><td>[&quot;{&quot;de&quot;,&quot;neuseeländische Schriftstellerin&quot;}&quot;, &quot;{&quot;fa&quot;,&quot;نویسنده نیوزلندی&quot;}&quot;, … &quot;{&quot;dv&quot;,&quot;ލިޔުންތެރިއެއް&quot;}&quot;]</td><td>[&quot;{&quot;en&quot;,&quot;Vietnamese general, mandarin&quot;}&quot;, &quot;{&quot;nl&quot;,&quot;officier uit Vietnam (?-1832)&quot;}&quot;, … &quot;{&quot;fr&quot;,&quot;général et mandarin vietnamien&quot;}&quot;]</td><td>[&quot;{&quot;en&quot;,&quot;writer and professor of English&quot;}&quot;]</td><td>[&quot;{&quot;nl&quot;,&quot;Amerikaans radiopresentatrice&quot;}&quot;, &quot;{&quot;en&quot;,&quot;American talk-show host&quot;}&quot;]</td><td>[&quot;{&quot;en&quot;,&quot;Malaysian writer,  filmmaker and activist&quot;}&quot;, &quot;{&quot;cy&quot;,&quot;cyfarwyddwr ffilm&quot;}&quot;]</td></tr><tr><td>&quot;labels&quot;</td><td>[&quot;{&quot;en&quot;,&quot;Tian Lingzi&quot;}&quot;, &quot;{&quot;zh&quot;,&quot;田令孜&quot;}&quot;, … &quot;{&quot;zh-hans&quot;,&quot;田令孜&quot;}&quot;]</td><td>[&quot;{&quot;en&quot;,&quot;Devon Price&quot;}&quot;, &quot;{&quot;nl&quot;,&quot;Devon Price&quot;}&quot;, … &quot;{&quot;eu&quot;,&quot;Devon Price&quot;}&quot;]</td><td>[&quot;{&quot;en&quot;,&quot;Rivers Solomon&quot;}&quot;, &quot;{&quot;nl&quot;,&quot;Rivers Solomon&quot;}&quot;, … &quot;{&quot;zh-hans&quot;,&quot;里弗斯·所罗门&quot;}&quot;]</td><td>[&quot;{&quot;en&quot;,&quot;Dana Stone&quot;}&quot;, &quot;{&quot;es&quot;,&quot;Dana Stone&quot;}&quot;, … &quot;{&quot;pt-br&quot;,&quot;Dana Stone&quot;}&quot;]</td><td>[&quot;{&quot;fr&quot;,&quot;Constantin Gongylès&quot;}&quot;, &quot;{&quot;sh&quot;,&quot;Konstantin Gongil&quot;}&quot;, … &quot;{&quot;ru&quot;,&quot;Константин Гонгил&quot;}&quot;]</td><td>[&quot;{&quot;en&quot;,&quot;Marietu Tenuche&quot;}&quot;, &quot;{&quot;nl&quot;,&quot;Marietu Tenuche&quot;}&quot;, … &quot;{&quot;sl&quot;,&quot;Professor Marietu Ohunene Tenuche&quot;}&quot;]</td><td>[&quot;{&quot;en&quot;,&quot;Barbara J. Sahakian&quot;}&quot;, &quot;{&quot;de&quot;,&quot;Barbara J. Sahakian&quot;}&quot;, … &quot;{&quot;tr&quot;,&quot;Barbara J. Sahakian&quot;}&quot;]</td><td>[&quot;{&quot;en&quot;,&quot;Yelena Komarova&quot;}&quot;, &quot;{&quot;fr&quot;,&quot;Yelena Komarova&quot;}&quot;, … &quot;{&quot;az&quot;,&quot;Yelena Komarova&quot;}&quot;]</td><td>[&quot;{&quot;de&quot;,&quot;James Barry&quot;}&quot;, &quot;{&quot;en&quot;,&quot;James Barry&quot;}&quot;, … &quot;{&quot;az&quot;,&quot;Ceyms Berri&quot;}&quot;]</td><td>[&quot;{&quot;en&quot;,&quot;Miss Fame&quot;}&quot;, &quot;{&quot;nl&quot;,&quot;Miss Fame&quot;}&quot;, … &quot;{&quot;sl&quot;,&quot;Miss Fame&quot;}&quot;]</td><td>[&quot;{&quot;en&quot;,&quot;Ozaawindib&quot;}&quot;, &quot;{&quot;fr&quot;,&quot;Ozaawindib&quot;}&quot;, … &quot;{&quot;ru&quot;,&quot;Озаавиндиб&quot;}&quot;]</td><td>[&quot;{&quot;es&quot;,&quot;Joss Favela&quot;}&quot;, &quot;{&quot;nl&quot;,&quot;Joss Favela&quot;}&quot;, … &quot;{&quot;pt-br&quot;,&quot;Joss Favela&quot;}&quot;]</td><td>[&quot;{&quot;en&quot;,&quot;Ebele Oseye&quot;}&quot;, &quot;{&quot;fr&quot;,&quot;Ebele Oseye&quot;}&quot;, … &quot;{&quot;ig&quot;,&quot;Ebele Oseye&quot;}&quot;]</td><td>[&quot;{&quot;en&quot;,&quot;Gray Johnson Poole&quot;}&quot;, &quot;{&quot;de&quot;,&quot;Gray Johnson Poole&quot;}&quot;, … &quot;{&quot;sq&quot;,&quot;Gray Poole&quot;}&quot;]</td><td>[&quot;{&quot;en&quot;,&quot;Tutu Chengcui&quot;}&quot;, &quot;{&quot;zh&quot;,&quot;吐突承璀&quot;}&quot;, … &quot;{&quot;ast&quot;,&quot;Tutu Chengcui&quot;}&quot;]</td><td>[&quot;{&quot;en&quot;,&quot;Lori Campbell&quot;}&quot;, &quot;{&quot;nl&quot;,&quot;Lori Campbell&quot;}&quot;, &quot;{&quot;ast&quot;,&quot;Lori Campbell&quot;}&quot;]</td><td>[&quot;{&quot;en&quot;,&quot;Wimund&quot;}&quot;, &quot;{&quot;nb&quot;,&quot;Wimund&quot;}&quot;, … &quot;{&quot;sq&quot;,&quot;Wimund&quot;}&quot;]</td><td>[&quot;{&quot;sk&quot;,&quot;B-complex&quot;}&quot;, &quot;{&quot;cs&quot;,&quot;B-Complex&quot;}&quot;, … &quot;{&quot;uk&quot;,&quot;B-Complex&quot;}&quot;]</td><td>[&quot;{&quot;fr&quot;,&quot;Mathilde Stuyvesant&quot;}&quot;, &quot;{&quot;pt&quot;,&quot;Mathilde Stuyvesant&quot;}&quot;, … &quot;{&quot;pt-br&quot;,&quot;Mathilde Stuyvesant&quot;}&quot;]</td><td>[&quot;{&quot;ja&quot;,&quot;山崎ナオコーラ&quot;}&quot;, &quot;{&quot;en&quot;,&quot;Nao-cola Yamazaki&quot;}&quot;, … &quot;{&quot;tr&quot;,&quot;Nao-cola Yamazaki&quot;}&quot;]</td><td>[&quot;{&quot;nan&quot;,&quot;Lêng Pho&quot;}&quot;, &quot;{&quot;zh-hans&quot;,&quot;凌波&quot;}&quot;, … &quot;{&quot;pap&quot;,&quot;Ling Po&quot;}&quot;]</td><td>[&quot;{&quot;sq&quot;,&quot;Kristian Ranđelović&quot;}&quot;, &quot;{&quot;en&quot;,&quot;Kristian Ranđelović&quot;}&quot;, … &quot;{&quot;sr&quot;,&quot;Кристиан Ранђеловић&quot;}&quot;]</td><td>[&quot;{&quot;en&quot;,&quot;Laurin Hendrix&quot;}&quot;, &quot;{&quot;fr&quot;,&quot;Laurin Hendrix&quot;}&quot;, … &quot;{&quot;ast&quot;,&quot;Laurin Hendrix&quot;}&quot;]</td><td>[&quot;{&quot;fi&quot;,&quot;Pekka J. Korvenheimo&quot;}&quot;, &quot;{&quot;en&quot;,&quot;Pekka J. Korvenheimo&quot;}&quot;, … &quot;{&quot;cs&quot;,&quot;Pekka J. Korvenheimo&quot;}&quot;]</td><td>[&quot;{&quot;en&quot;,&quot;Maya the drag queen&quot;}&quot;, &quot;{&quot;de&quot;,&quot;Maya the drag queen&quot;}&quot;, … &quot;{&quot;pa&quot;,&quot;ਮਾਇਆ ਦ ਡਰੈਗ ਕੁਈਨ&quot;}&quot;]</td><td>[&quot;{&quot;en&quot;,&quot;Leilani Tominiko&quot;}&quot;]</td><td>[&quot;{&quot;en&quot;,&quot;John/Eleanor Rykener&quot;}&quot;, &quot;{&quot;pt&quot;,&quot;John Rykener&quot;}&quot;, … &quot;{&quot;ar&quot;,&quot;جون/إيليانور رايكنر&quot;}&quot;]</td><td>[&quot;{&quot;pt&quot;,&quot;João, o Eunuco&quot;}&quot;, &quot;{&quot;de&quot;,&quot;Johannes Orphanotrophos&quot;}&quot;, … &quot;{&quot;it&quot;,&quot;Giovanni l&#x27;Orfanotrofo&quot;}&quot;]</td><td>[&quot;{&quot;en&quot;,&quot;Suruli Manohar&quot;}&quot;, &quot;{&quot;fr&quot;,&quot;Suruli Manohar&quot;}&quot;, … &quot;{&quot;bn&quot;,&quot;সুরুলি মনোহর&quot;}&quot;]</td><td>[&quot;{&quot;en&quot;,&quot;N.D. Stevenson&quot;}&quot;, &quot;{&quot;nl&quot;,&quot;N.D. Stevenson&quot;}&quot;, … &quot;{&quot;eu&quot;,&quot;ND Stevenson&quot;}&quot;]</td><td>[&quot;{&quot;en&quot;,&quot;Romaizah binti Haji Mohd Salleh&quot;}&quot;]</td><td>[&quot;{&quot;de&quot;,&quot;Brendan Allen&quot;}&quot;, &quot;{&quot;es&quot;,&quot;Brenda Allen&quot;}&quot;, … &quot;{&quot;ar&quot;,&quot;بريندان ألين&quot;}&quot;]</td><td>[&quot;{&quot;ja&quot;,&quot;水木洋子&quot;}&quot;, &quot;{&quot;en&quot;,&quot;Yōko Mizuki&quot;}&quot;, … &quot;{&quot;ar&quot;,&quot;يوكو ميزوكي&quot;}&quot;]</td><td>[&quot;{&quot;en&quot;,&quot;Anton Kryzhanovsky&quot;}&quot;, &quot;{&quot;de&quot;,&quot;Anton Kryzhanovsky&quot;}&quot;, … &quot;{&quot;pt-br&quot;,&quot;Anton Kryzhanovsky&quot;}&quot;]</td><td>[&quot;{&quot;zh&quot;,&quot;黛咪·洛瓦特&quot;}&quot;, &quot;{&quot;jv&quot;,&quot;Demi Lovato&quot;}&quot;, … &quot;{&quot;dtp&quot;,&quot;Demi Lovato&quot;}&quot;]</td><td>[&quot;{&quot;en&quot;,&quot;Angela Miri&quot;}&quot;, &quot;{&quot;nl&quot;,&quot;Angela Miri&quot;}&quot;, … &quot;{&quot;sl&quot;,&quot;Angela Miri&quot;}&quot;]</td><td>&hellip;</td><td>[&quot;{&quot;en&quot;,&quot;Iz Hesketh&quot;}&quot;, &quot;{&quot;de&quot;,&quot;Iz Hesketh&quot;}&quot;, … &quot;{&quot;pt-br&quot;,&quot;Iz Hesketh&quot;}&quot;]</td><td>[&quot;{&quot;en&quot;,&quot;Liu Jishu&quot;}&quot;, &quot;{&quot;zh&quot;,&quot;劉季述&quot;}&quot;, … &quot;{&quot;ja&quot;,&quot;劉季述&quot;}&quot;]</td><td>[&quot;{&quot;et&quot;,&quot;Romi Mankin&quot;}&quot;, &quot;{&quot;es&quot;,&quot;Romi Mankin&quot;}&quot;, … &quot;{&quot;ast&quot;,&quot;Romi Mankin&quot;}&quot;]</td><td>[&quot;{&quot;en&quot;,&quot;Janae Kroc&quot;}&quot;, &quot;{&quot;cs&quot;,&quot;Janae Marie Kroc&quot;}&quot;, … &quot;{&quot;fa&quot;,&quot;جنای کروک&quot;}&quot;]</td><td>[&quot;{&quot;en&quot;,&quot;Conn O&#x27;Neill&quot;}&quot;, &quot;{&quot;nl&quot;,&quot;Conn O&#x27;Neill&quot;}&quot;, … &quot;{&quot;ga&quot;,&quot;Conn Ó Néill&quot;}&quot;]</td><td>[&quot;{&quot;en&quot;,&quot;Elisa Rae Shupe&quot;}&quot;, &quot;{&quot;nl&quot;,&quot;Elisa Rae Shupe&quot;}&quot;, … &quot;{&quot;ja&quot;,&quot;エリサ・レー・シュウプ&quot;}&quot;]</td><td>[&quot;{&quot;de&quot;,&quot;Ira Schneider&quot;}&quot;, &quot;{&quot;en&quot;,&quot;Ira Schneider&quot;}&quot;, … &quot;{&quot;tr&quot;,&quot;Ira Schneider&quot;}&quot;]</td><td>[&quot;{&quot;en&quot;,&quot;Joan Rosenbaum&quot;}&quot;, &quot;{&quot;nl&quot;,&quot;Joan Rosenbaum&quot;}&quot;, … &quot;{&quot;cs&quot;,&quot;Joan Rosenbaum&quot;}&quot;]</td><td>[&quot;{&quot;en&quot;,&quot;Gopi Shankar Madurai&quot;}&quot;, &quot;{&quot;nl&quot;,&quot;Gopi Shankar Madurai&quot;}&quot;, … &quot;{&quot;ca&quot;,&quot;Gopi Shankar Madurai&quot;}&quot;]</td><td>[&quot;{&quot;ta&quot;,&quot;நர்த்தகி நடராஜ்&quot;}&quot;, &quot;{&quot;en&quot;,&quot;Narthaki Nataraj&quot;}&quot;, … &quot;{&quot;ga&quot;,&quot;Nartaki Natraj&quot;}&quot;]</td><td>[&quot;{&quot;en&quot;,&quot;To’oto’oali’I Roger Stanley&quot;}&quot;, &quot;{&quot;nl&quot;,&quot;To’oto’oali’I Roger Stanley&quot;}&quot;, … &quot;{&quot;sq&quot;,&quot;To’oto’oali’I Roger Stanley&quot;}&quot;]</td><td>[&quot;{&quot;zh-hans&quot;,&quot;尤睦佳·泽登巴尔&quot;}&quot;, &quot;{&quot;zh-hant&quot;,&quot;尤睦佳·澤登巴爾&quot;}&quot;, … &quot;{&quot;kk&quot;,&quot;Цеденбал Юмжагийн&quot;}&quot;]</td><td>[&quot;{&quot;zh-hans&quot;,&quot;曹腾&quot;}&quot;, &quot;{&quot;zh-hant&quot;,&quot;曹騰&quot;}&quot;, … &quot;{&quot;th&quot;,&quot;โจเท้ง&quot;}&quot;]</td><td>[&quot;{&quot;en&quot;,&quot;Jean Hewitt&quot;}&quot;, &quot;{&quot;de&quot;,&quot;Jean Hewitt&quot;}&quot;, &quot;{&quot;nl&quot;,&quot;Jean Hewitt&quot;}&quot;]</td><td>[&quot;{&quot;pt&quot;,&quot;Nicetas I de Constantinopla&quot;}&quot;, &quot;{&quot;sk&quot;,&quot;Nikétas I.&quot;}&quot;, … &quot;{&quot;ca&quot;,&quot;Nicetes I&quot;}&quot;]</td><td>[&quot;{&quot;en&quot;,&quot;Tilsa Tsuchiya&quot;}&quot;, &quot;{&quot;es&quot;,&quot;Tilsa Tsuchiya&quot;}&quot;, … &quot;{&quot;uk&quot;,&quot;Тільса Цучія&quot;}&quot;]</td><td>[&quot;{&quot;en&quot;,&quot;Isabel Ruffell&quot;}&quot;, &quot;{&quot;fr&quot;,&quot;Isabel Ruffell&quot;}&quot;]</td><td>[&quot;{&quot;en&quot;,&quot;Thomas(ine) Hall&quot;}&quot;, &quot;{&quot;fr&quot;,&quot;Thomas(ine) Hall&quot;}&quot;, … &quot;{&quot;ru&quot;,&quot;Холл, Томас(ин)&quot;}&quot;]</td><td>[&quot;{&quot;en&quot;,&quot;Ymania Brown&quot;}&quot;, &quot;{&quot;nl&quot;,&quot;Ymania Brown&quot;}&quot;, &quot;{&quot;sq&quot;,&quot;Ymania Brown&quot;}&quot;]</td><td>[&quot;{&quot;zh-hans&quot;,&quot;王振&quot;}&quot;, &quot;{&quot;zh-hant&quot;,&quot;王振&quot;}&quot;, … &quot;{&quot;pt&quot;,&quot;Wang Zhen (eunuco)&quot;}&quot;]</td><td>[&quot;{&quot;hy&quot;,&quot;Գոհար Մուրադյան&quot;}&quot;, &quot;{&quot;en&quot;,&quot;Gohar Muradyan&quot;}&quot;, … &quot;{&quot;fr&quot;,&quot;Gohar Muradyan&quot;}&quot;]</td><td>[&quot;{&quot;en&quot;,&quot;Tunde Olaniran&quot;}&quot;, &quot;{&quot;nl&quot;,&quot;Tunde Olaniran&quot;}&quot;, … &quot;{&quot;ig&quot;,&quot;Tunde Olaniran&quot;}&quot;]</td><td>[&quot;{&quot;es&quot;,&quot;Flor Amargo&quot;}&quot;, &quot;{&quot;en&quot;,&quot;Flor Amargo&quot;}&quot;, … &quot;{&quot;es-419&quot;,&quot;Flor Amargo&quot;}&quot;]</td><td>[&quot;{&quot;en&quot;,&quot;SJ Sindu&quot;}&quot;, &quot;{&quot;nl&quot;,&quot;SJ Sindu&quot;}&quot;, … &quot;{&quot;dag&quot;,&quot;SJ Sindu&quot;}&quot;]</td><td>[&quot;{&quot;en&quot;,&quot;River Gallo&quot;}&quot;, &quot;{&quot;ast&quot;,&quot;River Gallo&quot;}&quot;, … &quot;{&quot;arz&quot;,&quot;ريفر جالو&quot;}&quot;]</td><td>[&quot;{&quot;en&quot;,&quot;Liu Chenggui&quot;}&quot;, &quot;{&quot;zh&quot;,&quot;劉承規&quot;}&quot;, … &quot;{&quot;zh-hans&quot;,&quot;刘承规&quot;}&quot;]</td><td>[&quot;{&quot;de&quot;,&quot;Tessa Violet&quot;}&quot;, &quot;{&quot;en&quot;,&quot;Tessa Violet&quot;}&quot;, … &quot;{&quot;yo&quot;,&quot;Tessa Violet&quot;}&quot;]</td><td>[&quot;{&quot;en&quot;,&quot;Ruth Baldacchino&quot;}&quot;, &quot;{&quot;nl&quot;,&quot;Ruth Baldacchino&quot;}&quot;, … &quot;{&quot;sq&quot;,&quot;Ruth Baldacchino&quot;}&quot;]</td><td>[&quot;{&quot;fr&quot;,&quot;Debbie Farhat&quot;}&quot;, &quot;{&quot;es&quot;,&quot;Debbie Farhat&quot;}&quot;, … &quot;{&quot;ast&quot;,&quot;Debbie Farhat&quot;}&quot;]</td><td>[&quot;{&quot;cy&quot;,&quot;J. Beverley Smith&quot;}&quot;, &quot;{&quot;en&quot;,&quot;J. Beverley Smith&quot;}&quot;, … &quot;{&quot;sk&quot;,&quot;J. Beverley Smith&quot;}&quot;]</td><td>[&quot;{&quot;en&quot;,&quot;Ophrah Shemesh&quot;}&quot;, &quot;{&quot;it&quot;,&quot;Ophrah Shemesh&quot;}&quot;, … &quot;{&quot;ga&quot;,&quot;Ophrah Shemesh&quot;}&quot;]</td><td>[&quot;{&quot;eo&quot;,&quot;Béla Hankó&quot;}&quot;, &quot;{&quot;hu&quot;,&quot;Hankó Béla&quot;}&quot;, … &quot;{&quot;tr&quot;,&quot;Béla Hankó&quot;}&quot;]</td><td>[&quot;{&quot;de&quot;,&quot;Essie Summers&quot;}&quot;, &quot;{&quot;en&quot;,&quot;Essie Summers&quot;}&quot;, … &quot;{&quot;he&quot;,&quot;סמרס, אסי&quot;}&quot;]</td><td>[&quot;{&quot;zh-hans&quot;,&quot;黎文悦&quot;}&quot;, &quot;{&quot;zh-hant&quot;,&quot;黎文悅&quot;}&quot;, … &quot;{&quot;ga&quot;,&quot;Le Van Duyet&quot;}&quot;]</td><td>[&quot;{&quot;en&quot;,&quot;Andrea Lawlor&quot;}&quot;, &quot;{&quot;nl&quot;,&quot;Andrea Lawlor&quot;}&quot;]</td><td>[&quot;{&quot;en&quot;,&quot;Sheena Metal&quot;}&quot;, &quot;{&quot;nl&quot;,&quot;Sheena Metal&quot;}&quot;, … &quot;{&quot;ca&quot;,&quot;Sheena Metal&quot;}&quot;]</td><td>[&quot;{&quot;en&quot;,&quot;Nadira Ilana&quot;}&quot;, &quot;{&quot;nl&quot;,&quot;Nadira Ilana&quot;}&quot;, … &quot;{&quot;fr&quot;,&quot;Nadira Ilana&quot;}&quot;]</td></tr><tr><td>&quot;aliases&quot;</td><td>[&quot;{&quot;en&quot;,&quot;Lingzi Tian&quot;}&quot;]</td><td>[]</td><td>[]</td><td>[&quot;{&quot;en&quot;,&quot;Dana Hazen Stone&quot;}&quot;, &quot;{&quot;fr&quot;,&quot;Dana Hazen Stone&quot;}&quot;]</td><td>[&quot;{&quot;sh&quot;,&quot;Konstantin Gongiles&quot;}&quot;]</td><td>[&quot;{&quot;en&quot;,&quot;Marietu Ohunene Tenuche&quot;}&quot;]</td><td>[&quot;{&quot;da&quot;,&quot;Barbara Sahakian&quot;}&quot;, &quot;{&quot;da&quot;,&quot;Barbara J Sahakian&quot;}&quot;, … &quot;{&quot;de&quot;,&quot;Barbara Sahakian&quot;}&quot;]</td><td>[]</td><td>[&quot;{&quot;fr&quot;,&quot;James Miranda Stuart Barry&quot;}&quot;, &quot;{&quot;fr&quot;,&quot;Margaret Ann Bulkley&quot;}&quot;, … &quot;{&quot;he&quot;,&quot;מרגרט אן בלקלי&quot;}&quot;]</td><td>[&quot;{&quot;en&quot;,&quot;Kurtis Dam-Mikkelsen&quot;}&quot;, &quot;{&quot;de&quot;,&quot;Kurtis Dam-Mikkelsen&quot;}&quot;, … &quot;{&quot;sv&quot;,&quot;Kurtis Dam-Mikkelsen&quot;}&quot;]</td><td>[]</td><td>[&quot;{&quot;ast&quot;,&quot;José Alberto Inzunza Favela&quot;}&quot;, &quot;{&quot;ca&quot;,&quot;José Alberto Inzunza Favela&quot;}&quot;, … &quot;{&quot;tr&quot;,&quot;José Alberto Inzunza Favela&quot;}&quot;]</td><td>[&quot;{&quot;en&quot;,&quot;Ellease Southerland&quot;}&quot;, &quot;{&quot;it&quot;,&quot;Ellease Southerland&quot;}&quot;, … &quot;{&quot;ig&quot;,&quot;Ellease Southerland&quot;}&quot;]</td><td>[&quot;{&quot;en&quot;,&quot;Poole, Gray Johnson&quot;}&quot;, &quot;{&quot;en&quot;,&quot;Gray Poole&quot;}&quot;, … &quot;{&quot;pt-br&quot;,&quot;Gray Poole&quot;}&quot;]</td><td>[]</td><td>[]</td><td>[&quot;{&quot;de&quot;,&quot;Wimond&quot;}&quot;, &quot;{&quot;de&quot;,&quot;Wymond&quot;}&quot;]</td><td>[&quot;{&quot;sk&quot;,&quot;Matúš Lenický&quot;}&quot;, &quot;{&quot;sk&quot;,&quot;Matia Lenická&quot;}&quot;, … &quot;{&quot;ru&quot;,&quot;Матуш Леницкий&quot;}&quot;]</td><td>[&quot;{&quot;en&quot;,&quot;Mathilde, Princess Alexandre de Caraman Chimay&quot;}&quot;]</td><td>[&quot;{&quot;en&quot;,&quot;Yamazaki Nao-cola&quot;}&quot;, &quot;{&quot;en&quot;,&quot;Naokōra Yamazaki&quot;}&quot;, … &quot;{&quot;ja&quot;,&quot;やまざき ナオコーラ&quot;}&quot;]</td><td>[&quot;{&quot;ru&quot;,&quot;Лин По, Айви&quot;}&quot;, &quot;{&quot;ru&quot;,&quot;Лин Бо&quot;}&quot;, … &quot;{&quot;ga&quot;,&quot;Ling Po&quot;}&quot;]</td><td>[&quot;{&quot;ru&quot;,&quot;Ранджелович, Кристиан&quot;}&quot;]</td><td>[&quot;{&quot;en&quot;,&quot;Michael Laurin Hendrix&quot;}&quot;]</td><td>[&quot;{&quot;en&quot;,&quot;Pekka Juhani Korvenheimo&quot;}&quot;, &quot;{&quot;fi&quot;,&quot;Pekka Juhani Korvenheimo&quot;}&quot;]</td><td>[&quot;{&quot;en&quot;,&quot;Alex Mathew&quot;}&quot;]</td><td>[&quot;{&quot;en&quot;,&quot;Candy Lee&quot;}&quot;]</td><td>[&quot;{&quot;en&quot;,&quot;Eleanor Rykener&quot;}&quot;, &quot;{&quot;en&quot;,&quot;John Rykener&quot;}&quot;, … &quot;{&quot;es&quot;,&quot;John Rykener&quot;}&quot;]</td><td>[&quot;{&quot;de&quot;,&quot;Orphanotrophos&quot;}&quot;, &quot;{&quot;nl&quot;,&quot;Johannes Orphanotrophos&quot;}&quot;]</td><td>[]</td><td>[&quot;{&quot;ja&quot;,&quot;ノエル・スティーブンソン&quot;}&quot;, &quot;{&quot;fr&quot;,&quot;Gingerhaze&quot;}&quot;, … &quot;{&quot;ast&quot;,&quot;Noelle Stevenson&quot;}&quot;]</td><td>[&quot;{&quot;en&quot;,&quot;Datin Seri Paduka Dr Dayang Hajah Romaizah Binti Haji Mohd Salleh&quot;}&quot;, &quot;{&quot;en&quot;,&quot;Romaizah Mohd Salleh&quot;}&quot;]</td><td>[&quot;{&quot;es&quot;,&quot;Brendan Allen&quot;}&quot;, &quot;{&quot;es&quot;,&quot;Brendan Cody Allen&quot;}&quot;, … &quot;{&quot;en&quot;,&quot;Brendan Cody Allen&quot;}&quot;]</td><td>[&quot;{&quot;en&quot;,&quot;Mizuki Yōko&quot;}&quot;, &quot;{&quot;en&quot;,&quot;Yoko Mizuki&quot;}&quot;, … &quot;{&quot;ko&quot;,&quot;요코 미즈키&quot;}&quot;]</td><td>[&quot;{&quot;en&quot;,&quot;Anton Krzyzanowski&quot;}&quot;]</td><td>[&quot;{&quot;zh&quot;,&quot;Demi Lovato&quot;}&quot;, &quot;{&quot;zh&quot;,&quot;黛米·洛瓦托&quot;}&quot;, … &quot;{&quot;bug&quot;,&quot;Demetria Devonne Lovato&quot;}&quot;]</td><td>[&quot;{&quot;en&quot;,&quot;Angela Freeman Miri&quot;}&quot;, &quot;{&quot;ha&quot;,&quot;Angela Freeman Miri&quot;}&quot;, … &quot;{&quot;sl&quot;,&quot;Professor Angela Freeman Miri&quot;}&quot;]</td><td>&hellip;</td><td>[]</td><td>[]</td><td>[]</td><td>[&quot;{&quot;pl&quot;,&quot;Matthew Raymond Kroczaleski&quot;}&quot;, &quot;{&quot;en&quot;,&quot;Matt Kroczaleski&quot;}&quot;, … &quot;{&quot;es&quot;,&quot;Janae Marie Kroczaleski&quot;}&quot;]</td><td>[&quot;{&quot;en&quot;,&quot;Conn &#x27;na Creige&#x27; O&#x27;Neill&quot;}&quot;]</td><td>[&quot;{&quot;en&quot;,&quot;Jamie Shupe&quot;}&quot;, &quot;{&quot;en&quot;,&quot;James Clifford Shupe&quot;}&quot;, … &quot;{&quot;ja&quot;,&quot;エリサ・レー・シュープ&quot;}&quot;]</td><td>[]</td><td>[]</td><td>[&quot;{&quot;zh&quot;,&quot;戈皮·香卡·马杜赖&quot;}&quot;]</td><td>[&quot;{&quot;en&quot;,&quot;Nartaki Natraj&quot;}&quot;, &quot;{&quot;sq&quot;,&quot;Nartaki Natraj&quot;}&quot;]</td><td>[]</td><td>[&quot;{&quot;pl&quot;,&quot;Jumdżagijn Cedenbal&quot;}&quot;, &quot;{&quot;pl&quot;,&quot;Jumdżagijn Cedenbał&quot;}&quot;, … &quot;{&quot;pt-br&quot;,&quot;Yumzhagiin Tsedenbal&quot;}&quot;]</td><td>[&quot;{&quot;de&quot;,&quot;Jixing&quot;}&quot;, &quot;{&quot;zh-hant&quot;,&quot;高皇帝&quot;}&quot;, … &quot;{&quot;ja&quot;,&quot;高皇帝&quot;}&quot;]</td><td>[]</td><td>[&quot;{&quot;sk&quot;,&quot;Nikétas&quot;}&quot;, &quot;{&quot;sh&quot;,&quot;Vaseljenski patrijarh Nikita I od Konstantinopola&quot;}&quot;, … &quot;{&quot;ca&quot;,&quot;Nicetes I de Constantinoble&quot;}&quot;]</td><td>[&quot;{&quot;es&quot;,&quot;Tilsa Tsuchiya Castillo&quot;}&quot;, &quot;{&quot;es&quot;,&quot;Tilsa Tschusiya&quot;}&quot;, … &quot;{&quot;sl&quot;,&quot;Tilsa Tschusiya&quot;}&quot;]</td><td>[&quot;{&quot;en&quot;,&quot;Ian Ruffell&quot;}&quot;, &quot;{&quot;en&quot;,&quot;I. Ruffell&quot;}&quot;, … &quot;{&quot;fr&quot;,&quot;Ian Ruffell&quot;}&quot;]</td><td>[&quot;{&quot;en&quot;,&quot;Thomas Hall&quot;}&quot;, &quot;{&quot;en&quot;,&quot;Thomasine Hall&quot;}&quot;, … &quot;{&quot;fr&quot;,&quot;Thomas/ine Hall&quot;}&quot;]</td><td>[]</td><td>[&quot;{&quot;de&quot;,&quot;Wáng Zhēn&quot;}&quot;, &quot;{&quot;en&quot;,&quot;Jingzhong&quot;}&quot;, … &quot;{&quot;zh&quot;,&quot;旌忠&quot;}&quot;]</td><td>[&quot;{&quot;hy&quot;,&quot;Մուրադյան, Գոհար&quot;}&quot;, &quot;{&quot;gl&quot;,&quot;Gohar Sarkis Muradyan&quot;}&quot;, … &quot;{&quot;de&quot;,&quot;Gohar Mowradean&quot;}&quot;]</td><td>[]</td><td>[&quot;{&quot;en&quot;,&quot;Emma Mayte Carballo Hernández&quot;}&quot;]</td><td>[&quot;{&quot;en&quot;,&quot;S.J. Sindu&quot;}&quot;, &quot;{&quot;fr&quot;,&quot;S.J. Sindu&quot;}&quot;, … &quot;{&quot;sv&quot;,&quot;S.J. Sindu&quot;}&quot;]</td><td>[&quot;{&quot;ru&quot;,&quot;Галло, Ривер&quot;}&quot;]</td><td>[&quot;{&quot;zh&quot;,&quot;忠肅&quot;}&quot;, &quot;{&quot;zh&quot;,&quot;劉承珪&quot;}&quot;, … &quot;{&quot;lzh&quot;,&quot;劉承規&quot;}&quot;]</td><td>[&quot;{&quot;de&quot;,&quot;Meekakitty&quot;}&quot;, &quot;{&quot;hu&quot;,&quot;Meekakitty&quot;}&quot;, … &quot;{&quot;ru&quot;,&quot;Вайолет, Тесса&quot;}&quot;]</td><td>[&quot;{&quot;ru&quot;,&quot;Балдаккино, Рут&quot;}&quot;]</td><td>[]</td><td>[&quot;{&quot;en&quot;,&quot;Jenkyn Beverley Smith&quot;}&quot;, &quot;{&quot;cs&quot;,&quot;Jenkyn Beverley Smith&quot;}&quot;, &quot;{&quot;cy&quot;,&quot;Jenkyn Beverley Smith&quot;}&quot;]</td><td>[&quot;{&quot;he&quot;,&quot;עפרה שמש&quot;}&quot;, &quot;{&quot;de&quot;,&quot;Opra Shemesh&quot;}&quot;, … &quot;{&quot;nl&quot;,&quot;Opra Shemesh&quot;}&quot;]</td><td>[&quot;{&quot;en&quot;,&quot;Bela Hanko&quot;}&quot;, &quot;{&quot;en&quot;,&quot;Hankó&quot;}&quot;, … &quot;{&quot;tr&quot;,&quot;Bela Hanko&quot;}&quot;]</td><td>[&quot;{&quot;en&quot;,&quot;Ethel Snelson Summers&quot;}&quot;, &quot;{&quot;en&quot;,&quot;Ethel Summers&quot;}&quot;, … &quot;{&quot;he&quot;,&quot;סומרס, אסי&quot;}&quot;]</td><td>[&quot;{&quot;ko&quot;,&quot;예문열&quot;}&quot;, &quot;{&quot;ko&quot;,&quot;레반두예트&quot;}&quot;, … &quot;{&quot;ja&quot;,&quot;黎文悅&quot;}&quot;]</td><td>[]</td><td>[]</td><td>[]</td></tr><tr><td>&quot;instance_of&quot;</td><td>[&quot;{&quot;5&quot;}&quot;]</td><td>[&quot;{&quot;5&quot;}&quot;]</td><td>[&quot;{&quot;5&quot;}&quot;]</td><td>[&quot;{&quot;5&quot;}&quot;]</td><td>[&quot;{&quot;5&quot;}&quot;]</td><td>[&quot;{&quot;5&quot;}&quot;]</td><td>[&quot;{&quot;5&quot;}&quot;]</td><td>[&quot;{&quot;5&quot;}&quot;]</td><td>[&quot;{&quot;5&quot;}&quot;]</td><td>[&quot;{&quot;5&quot;}&quot;]</td><td>[&quot;{&quot;5&quot;}&quot;]</td><td>[&quot;{&quot;5&quot;}&quot;]</td><td>[&quot;{&quot;5&quot;}&quot;]</td><td>[&quot;{&quot;5&quot;}&quot;]</td><td>[&quot;{&quot;5&quot;}&quot;]</td><td>[&quot;{&quot;5&quot;}&quot;]</td><td>[&quot;{&quot;5&quot;}&quot;]</td><td>[&quot;{&quot;5&quot;}&quot;]</td><td>[&quot;{&quot;5&quot;}&quot;]</td><td>[&quot;{&quot;5&quot;}&quot;]</td><td>[&quot;{&quot;5&quot;}&quot;]</td><td>[&quot;{&quot;5&quot;}&quot;]</td><td>[&quot;{&quot;5&quot;}&quot;]</td><td>[&quot;{&quot;5&quot;}&quot;]</td><td>[&quot;{&quot;5&quot;}&quot;]</td><td>[&quot;{&quot;5&quot;}&quot;]</td><td>[&quot;{&quot;5&quot;}&quot;]</td><td>[&quot;{&quot;5&quot;}&quot;]</td><td>[&quot;{&quot;5&quot;}&quot;]</td><td>[&quot;{&quot;5&quot;}&quot;]</td><td>[&quot;{&quot;5&quot;}&quot;]</td><td>[&quot;{&quot;5&quot;}&quot;]</td><td>[&quot;{&quot;5&quot;}&quot;]</td><td>[&quot;{&quot;5&quot;}&quot;]</td><td>[&quot;{&quot;5&quot;}&quot;]</td><td>[&quot;{&quot;5&quot;}&quot;]</td><td>&hellip;</td><td>[&quot;{&quot;5&quot;}&quot;]</td><td>[&quot;{&quot;5&quot;}&quot;]</td><td>[&quot;{&quot;5&quot;}&quot;]</td><td>[&quot;{&quot;5&quot;}&quot;]</td><td>[&quot;{&quot;5&quot;}&quot;]</td><td>[&quot;{&quot;5&quot;}&quot;]</td><td>[&quot;{&quot;5&quot;}&quot;]</td><td>[&quot;{&quot;5&quot;}&quot;]</td><td>[&quot;{&quot;5&quot;}&quot;]</td><td>[&quot;{&quot;5&quot;}&quot;]</td><td>[&quot;{&quot;5&quot;}&quot;]</td><td>[&quot;{&quot;5&quot;}&quot;]</td><td>[&quot;{&quot;5&quot;}&quot;]</td><td>[&quot;{&quot;5&quot;}&quot;]</td><td>[&quot;{&quot;5&quot;}&quot;]</td><td>[&quot;{&quot;5&quot;}&quot;]</td><td>[&quot;{&quot;5&quot;}&quot;]</td><td>[&quot;{&quot;5&quot;}&quot;]</td><td>[&quot;{&quot;5&quot;}&quot;]</td><td>[&quot;{&quot;5&quot;}&quot;]</td><td>[&quot;{&quot;5&quot;}&quot;]</td><td>[&quot;{&quot;5&quot;}&quot;]</td><td>[&quot;{&quot;5&quot;}&quot;]</td><td>[&quot;{&quot;5&quot;}&quot;]</td><td>[&quot;{&quot;5&quot;}&quot;]</td><td>[&quot;{&quot;5&quot;}&quot;]</td><td>[&quot;{&quot;5&quot;}&quot;]</td><td>[&quot;{&quot;5&quot;}&quot;]</td><td>[&quot;{&quot;5&quot;}&quot;]</td><td>[&quot;{&quot;5&quot;}&quot;]</td><td>[&quot;{&quot;5&quot;}&quot;]</td><td>[&quot;{&quot;5&quot;}&quot;]</td><td>[&quot;{&quot;5&quot;}&quot;]</td><td>[&quot;{&quot;5&quot;}&quot;]</td><td>[&quot;{&quot;5&quot;}&quot;]</td><td>[&quot;{&quot;5&quot;}&quot;]</td><td>[&quot;{&quot;5&quot;}&quot;]</td></tr><tr><td>&quot;gender&quot;</td><td>[&quot;{&quot;6581097&quot;}&quot;, &quot;{&quot;179294&quot;}&quot;]</td><td>[&quot;{&quot;48270&quot;}&quot;, &quot;{&quot;2449503&quot;}&quot;]</td><td>[&quot;{&quot;48270&quot;}&quot;, &quot;{&quot;1097630&quot;}&quot;]</td><td>[&quot;{&quot;6581097&quot;}&quot;, &quot;{&quot;6581072&quot;}&quot;]</td><td>[&quot;{&quot;6581097&quot;}&quot;, &quot;{&quot;179294&quot;}&quot;]</td><td>[&quot;{&quot;6581072&quot;}&quot;, &quot;{&quot;6581097&quot;}&quot;]</td><td>[&quot;{&quot;6581072&quot;}&quot;, &quot;{&quot;6581097&quot;}&quot;]</td><td>[&quot;{&quot;6581072&quot;}&quot;, &quot;{&quot;6581097&quot;}&quot;]</td><td>[&quot;{&quot;2449503&quot;}&quot;, &quot;{&quot;6581097&quot;}&quot;, … &quot;{&quot;104717073&quot;}&quot;]</td><td>[&quot;{&quot;6581097&quot;}&quot;, &quot;{&quot;18116794&quot;}&quot;]</td><td>[&quot;{&quot;6581097&quot;}&quot;, &quot;{&quot;301702&quot;}&quot;]</td><td>[&quot;{&quot;6581097&quot;}&quot;, &quot;{&quot;6581072&quot;}&quot;]</td><td>[&quot;{&quot;6581097&quot;}&quot;, &quot;{&quot;6581072&quot;}&quot;]</td><td>[&quot;{&quot;6581097&quot;}&quot;, &quot;{&quot;6581072&quot;}&quot;]</td><td>[&quot;{&quot;6581097&quot;}&quot;, &quot;{&quot;179294&quot;}&quot;]</td><td>[&quot;{&quot;6581072&quot;}&quot;, &quot;{&quot;301702&quot;}&quot;]</td><td>[&quot;{&quot;6581097&quot;}&quot;, &quot;{&quot;179294&quot;}&quot;]</td><td>[&quot;{&quot;48270&quot;}&quot;, &quot;{&quot;859614&quot;}&quot;]</td><td>[&quot;{&quot;6581072&quot;}&quot;, &quot;{&quot;6581097&quot;}&quot;]</td><td>[&quot;{&quot;505371&quot;}&quot;, &quot;{&quot;6581072&quot;}&quot;]</td><td>[&quot;{&quot;6581072&quot;}&quot;, &quot;{&quot;6581097&quot;}&quot;]</td><td>[&quot;{&quot;1097630&quot;}&quot;, &quot;{&quot;2449503&quot;}&quot;]</td><td>[&quot;{&quot;6581072&quot;}&quot;, &quot;{&quot;6581097&quot;}&quot;]</td><td>[&quot;{&quot;6581072&quot;}&quot;, &quot;{&quot;6581097&quot;}&quot;]</td><td>[&quot;{&quot;6581072&quot;}&quot;, &quot;{&quot;6581097&quot;}&quot;]</td><td>[&quot;{&quot;1399232&quot;}&quot;, &quot;{&quot;1052281&quot;}&quot;]</td><td>[&quot;{&quot;6581097&quot;}&quot;, &quot;{&quot;1052281&quot;}&quot;]</td><td>[&quot;{&quot;6581097&quot;}&quot;, &quot;{&quot;179294&quot;}&quot;]</td><td>[&quot;{&quot;6581097&quot;}&quot;, &quot;{&quot;6581072&quot;}&quot;]</td><td>[&quot;{&quot;27679766&quot;}&quot;, &quot;{&quot;859614&quot;}&quot;, &quot;{&quot;48270&quot;}&quot;]</td><td>[&quot;{&quot;6581072&quot;}&quot;, &quot;{&quot;6581097&quot;}&quot;]</td><td>[&quot;{&quot;6581097&quot;}&quot;, &quot;{&quot;6581072&quot;}&quot;]</td><td>[&quot;{&quot;6581072&quot;}&quot;, &quot;{&quot;6581097&quot;}&quot;]</td><td>[&quot;{&quot;1097630&quot;}&quot;, &quot;{&quot;48270&quot;}&quot;]</td><td>[&quot;{&quot;18116794&quot;}&quot;, &quot;{&quot;48270&quot;}&quot;]</td><td>[&quot;{&quot;6581072&quot;}&quot;, &quot;{&quot;6581097&quot;}&quot;]</td><td>&hellip;</td><td>[&quot;{&quot;189125&quot;}&quot;, &quot;{&quot;48270&quot;}&quot;]</td><td>[&quot;{&quot;6581097&quot;}&quot;, &quot;{&quot;179294&quot;}&quot;]</td><td>[&quot;{&quot;6581097&quot;}&quot;, &quot;{&quot;6581072&quot;}&quot;]</td><td>[&quot;{&quot;48270&quot;}&quot;, &quot;{&quot;18116794&quot;}&quot;]</td><td>[&quot;{&quot;6581097&quot;}&quot;, &quot;{&quot;6581072&quot;}&quot;]</td><td>[&quot;{&quot;48270&quot;}&quot;, &quot;{&quot;1052281&quot;}&quot;]</td><td>[&quot;{&quot;6581097&quot;}&quot;, &quot;{&quot;6581072&quot;}&quot;]</td><td>[&quot;{&quot;6581072&quot;}&quot;, &quot;{&quot;6581097&quot;}&quot;]</td><td>[&quot;{&quot;1097630&quot;}&quot;, &quot;{&quot;48270&quot;}&quot;, &quot;{&quot;12964198&quot;}&quot;]</td><td>[&quot;{&quot;1052281&quot;}&quot;, &quot;{&quot;6581072&quot;}&quot;]</td><td>[&quot;{&quot;1399232&quot;}&quot;, &quot;{&quot;1052281&quot;}&quot;]</td><td>[&quot;{&quot;6581097&quot;}&quot;, &quot;{&quot;6581072&quot;}&quot;]</td><td>[&quot;{&quot;6581097&quot;}&quot;, &quot;{&quot;179294&quot;}&quot;]</td><td>[&quot;{&quot;6581072&quot;}&quot;, &quot;{&quot;6581097&quot;}&quot;]</td><td>[&quot;{&quot;6581097&quot;}&quot;, &quot;{&quot;179294&quot;}&quot;]</td><td>[&quot;{&quot;6581072&quot;}&quot;, &quot;{&quot;6581097&quot;}&quot;]</td><td>[&quot;{&quot;6581072&quot;}&quot;, &quot;{&quot;6581097&quot;}&quot;]</td><td>[&quot;{&quot;1097630&quot;}&quot;, &quot;{&quot;48270&quot;}&quot;]</td><td>[&quot;{&quot;1399232&quot;}&quot;, &quot;{&quot;1052281&quot;}&quot;]</td><td>[&quot;{&quot;6581097&quot;}&quot;, &quot;{&quot;179294&quot;}&quot;]</td><td>[&quot;{&quot;6581072&quot;}&quot;, &quot;{&quot;6581097&quot;}&quot;]</td><td>[&quot;{&quot;6581097&quot;}&quot;, &quot;{&quot;12964198&quot;}&quot;]</td><td>[&quot;{&quot;48270&quot;}&quot;, &quot;{&quot;189125&quot;}&quot;]</td><td>[&quot;{&quot;6581072&quot;}&quot;, &quot;{&quot;12964198&quot;}&quot;]</td><td>[&quot;{&quot;1097630&quot;}&quot;, &quot;{&quot;48270&quot;}&quot;]</td><td>[&quot;{&quot;6581097&quot;}&quot;, &quot;{&quot;179294&quot;}&quot;]</td><td>[&quot;{&quot;15145779&quot;}&quot;, &quot;{&quot;6581072&quot;}&quot;]</td><td>[&quot;{&quot;48270&quot;}&quot;, &quot;{&quot;1097630&quot;}&quot;]</td><td>[&quot;{&quot;6581072&quot;}&quot;, &quot;{&quot;6581097&quot;}&quot;]</td><td>[&quot;{&quot;6581097&quot;}&quot;, &quot;{&quot;6581072&quot;}&quot;]</td><td>[&quot;{&quot;6581072&quot;}&quot;, &quot;{&quot;6581097&quot;}&quot;]</td><td>[&quot;{&quot;6581097&quot;}&quot;, &quot;{&quot;6581072&quot;}&quot;]</td><td>[&quot;{&quot;6581072&quot;}&quot;, &quot;{&quot;6581097&quot;}&quot;]</td><td>[&quot;{&quot;6581097&quot;}&quot;, &quot;{&quot;1097630&quot;}&quot;]</td><td>[&quot;{&quot;6581072&quot;}&quot;, &quot;{&quot;48270&quot;}&quot;]</td><td>[&quot;{&quot;6581072&quot;}&quot;, &quot;{&quot;1097630&quot;}&quot;]</td><td>[&quot;{&quot;6581097&quot;}&quot;, &quot;{&quot;6581072&quot;}&quot;]</td></tr><tr><td>&quot;date_of_birth&quot;</td><td>[&quot;{&quot;+0900-00-00T00:00:00Z&quot;}&quot;]</td><td>[]</td><td>[&quot;{&quot;+1988-11-17T00:00:00Z&quot;}&quot;]</td><td>[&quot;{&quot;+1939-04-18T00:00:00Z&quot;}&quot;]</td><td>[&quot;{&quot;+0801-01-01T00:00:00Z&quot;}&quot;]</td><td>[&quot;{&quot;+1959-01-01T00:00:00Z&quot;}&quot;]</td><td>[&quot;{&quot;+1952-03-17T00:00:00Z&quot;}&quot;]</td><td>[&quot;{&quot;+1985-07-13T00:00:00Z&quot;}&quot;]</td><td>[&quot;{&quot;+1795-00-00T00:00:00Z&quot;}&quot;, &quot;{&quot;+1792-00-00T00:00:00Z&quot;}&quot;, … &quot;{&quot;+1789-00-00T00:00:00Z&quot;}&quot;]</td><td>[&quot;{&quot;+1985-03-30T00:00:00Z&quot;}&quot;]</td><td>[&quot;{&quot;+1797-00-00T00:00:00Z&quot;}&quot;]</td><td>[&quot;{&quot;+1990-12-10T00:00:00Z&quot;}&quot;]</td><td>[]</td><td>[]</td><td>[&quot;{&quot;+0701-01-01T00:00:00Z&quot;}&quot;]</td><td>[]</td><td>[]</td><td>[&quot;{&quot;+1984-05-09T00:00:00Z&quot;}&quot;]</td><td>[&quot;{&quot;+1877-11-29T00:00:00Z&quot;}&quot;]</td><td>[&quot;{&quot;+1978-09-15T00:00:00Z&quot;}&quot;]</td><td>[&quot;{&quot;+1939-11-16T00:00:00Z&quot;}&quot;]</td><td>[&quot;{&quot;+1973-01-01T00:00:00Z&quot;}&quot;]</td><td>[]</td><td>[&quot;{&quot;+1941-01-17T00:00:00Z&quot;}&quot;]</td><td>[&quot;{&quot;+1988-10-12T00:00:00Z&quot;}&quot;]</td><td>[]</td><td>[]</td><td>[&quot;{&quot;+1000-00-00T00:00:00Z&quot;}&quot;]</td><td>[]</td><td>[&quot;{&quot;+1991-12-31T00:00:00Z&quot;}&quot;]</td><td>[]</td><td>[&quot;{&quot;+1995-12-28T00:00:00Z&quot;}&quot;]</td><td>[&quot;{&quot;+1910-08-25T00:00:00Z&quot;}&quot;]</td><td>[&quot;{&quot;+1995-03-03T00:00:00Z&quot;}&quot;]</td><td>[&quot;{&quot;+1992-08-20T00:00:00Z&quot;}&quot;]</td><td>[&quot;{&quot;+1959-08-22T00:00:00Z&quot;}&quot;]</td><td>&hellip;</td><td>[&quot;{&quot;+1997-09-22T00:00:00Z&quot;}&quot;]</td><td>[&quot;{&quot;+0801-01-01T00:00:00Z&quot;}&quot;]</td><td>[&quot;{&quot;+1947-11-07T00:00:00Z&quot;}&quot;]</td><td>[&quot;{&quot;+1972-12-08T00:00:00Z&quot;}&quot;]</td><td>[&quot;{&quot;+1601-01-01T00:00:00Z&quot;}&quot;]</td><td>[&quot;{&quot;+1963-08-10T00:00:00Z&quot;}&quot;]</td><td>[&quot;{&quot;+1939-03-02T00:00:00Z&quot;}&quot;, &quot;{&quot;+1939-00-00T00:00:00Z&quot;}&quot;]</td><td>[]</td><td>[&quot;{&quot;+1991-04-13T00:00:00Z&quot;}&quot;]</td><td>[&quot;{&quot;+0006-07-00T00:00:00Z&quot;}&quot;]</td><td>[&quot;{&quot;+1976-00-00T00:00:00Z&quot;}&quot;]</td><td>[&quot;{&quot;+1916-09-17T00:00:00Z&quot;}&quot;, &quot;{&quot;+1916-01-01T00:00:00Z&quot;}&quot;, &quot;{&quot;+1916-09-17T00:00:00Z&quot;}&quot;]</td><td>[&quot;{&quot;+0100-00-00T00:00:00Z&quot;}&quot;, &quot;{&quot;+0100-00-00T00:00:00Z&quot;}&quot;]</td><td>[&quot;{&quot;+1925-00-00T00:00:00Z&quot;}&quot;]</td><td>[]</td><td>[&quot;{&quot;+1928-09-24T00:00:00Z&quot;}&quot;, &quot;{&quot;+1936-01-01T00:00:00Z&quot;}&quot;, … &quot;{&quot;+1932-00-00T00:00:00Z&quot;}&quot;]</td><td>[]</td><td>[&quot;{&quot;+1603-00-00T00:00:00Z&quot;}&quot;]</td><td>[]</td><td>[&quot;{&quot;+1500-00-00T00:00:00Z&quot;}&quot;, &quot;{&quot;+1500-00-00T00:00:00Z&quot;}&quot;]</td><td>[&quot;{&quot;+1957-10-28T00:00:00Z&quot;}&quot;, &quot;{&quot;+1957-00-00T00:00:00Z&quot;}&quot;]</td><td>[]</td><td>[&quot;{&quot;+1988-02-25T00:00:00Z&quot;}&quot;]</td><td>[&quot;{&quot;+1987-11-27T00:00:00Z&quot;}&quot;]</td><td>[&quot;{&quot;+1990-00-00T00:00:00Z&quot;}&quot;]</td><td>[&quot;{&quot;+0951-01-01T00:00:00Z&quot;}&quot;]</td><td>[&quot;{&quot;+1990-03-20T00:00:00Z&quot;}&quot;]</td><td>[&quot;{&quot;+1979-12-00T00:00:00Z&quot;}&quot;]</td><td>[&quot;{&quot;+1954-09-27T00:00:00Z&quot;}&quot;]</td><td>[&quot;{&quot;+1931-09-27T00:00:00Z&quot;}&quot;, &quot;{&quot;+1931-00-00T00:00:00Z&quot;}&quot;]</td><td>[&quot;{&quot;+1952-12-09T00:00:00Z&quot;}&quot;]</td><td>[&quot;{&quot;+1886-07-05T00:00:00Z&quot;}&quot;]</td><td>[&quot;{&quot;+1912-07-24T00:00:00Z&quot;}&quot;]</td><td>[&quot;{&quot;+1763-00-00T00:00:00Z&quot;}&quot;]</td><td>[&quot;{&quot;+1971-00-00T00:00:00Z&quot;}&quot;, &quot;{&quot;+1982-00-00T00:00:00Z&quot;}&quot;]</td><td>[&quot;{&quot;+1967-04-02T00:00:00Z&quot;}&quot;]</td><td>[]</td></tr><tr><td>&quot;date_of_death&quot;</td><td>[&quot;{&quot;+0900-00-00T00:00:00Z&quot;}&quot;]</td><td>[]</td><td>[&quot;{&quot;+1988-11-17T00:00:00Z&quot;}&quot;]</td><td>[&quot;{&quot;+1939-04-18T00:00:00Z&quot;}&quot;]</td><td>[&quot;{&quot;+0801-01-01T00:00:00Z&quot;}&quot;]</td><td>[&quot;{&quot;+1959-01-01T00:00:00Z&quot;}&quot;]</td><td>[&quot;{&quot;+1952-03-17T00:00:00Z&quot;}&quot;]</td><td>[&quot;{&quot;+1985-07-13T00:00:00Z&quot;}&quot;]</td><td>[&quot;{&quot;+1795-00-00T00:00:00Z&quot;}&quot;, &quot;{&quot;+1792-00-00T00:00:00Z&quot;}&quot;, … &quot;{&quot;+1789-00-00T00:00:00Z&quot;}&quot;]</td><td>[&quot;{&quot;+1985-03-30T00:00:00Z&quot;}&quot;]</td><td>[&quot;{&quot;+1797-00-00T00:00:00Z&quot;}&quot;]</td><td>[&quot;{&quot;+1990-12-10T00:00:00Z&quot;}&quot;]</td><td>[]</td><td>[]</td><td>[&quot;{&quot;+0701-01-01T00:00:00Z&quot;}&quot;]</td><td>[]</td><td>[]</td><td>[&quot;{&quot;+1984-05-09T00:00:00Z&quot;}&quot;]</td><td>[&quot;{&quot;+1877-11-29T00:00:00Z&quot;}&quot;]</td><td>[&quot;{&quot;+1978-09-15T00:00:00Z&quot;}&quot;]</td><td>[&quot;{&quot;+1939-11-16T00:00:00Z&quot;}&quot;]</td><td>[&quot;{&quot;+1973-01-01T00:00:00Z&quot;}&quot;]</td><td>[]</td><td>[&quot;{&quot;+1941-01-17T00:00:00Z&quot;}&quot;]</td><td>[&quot;{&quot;+1988-10-12T00:00:00Z&quot;}&quot;]</td><td>[]</td><td>[]</td><td>[&quot;{&quot;+1000-00-00T00:00:00Z&quot;}&quot;]</td><td>[]</td><td>[&quot;{&quot;+1991-12-31T00:00:00Z&quot;}&quot;]</td><td>[]</td><td>[&quot;{&quot;+1995-12-28T00:00:00Z&quot;}&quot;]</td><td>[&quot;{&quot;+1910-08-25T00:00:00Z&quot;}&quot;]</td><td>[&quot;{&quot;+1995-03-03T00:00:00Z&quot;}&quot;]</td><td>[&quot;{&quot;+1992-08-20T00:00:00Z&quot;}&quot;]</td><td>[&quot;{&quot;+1959-08-22T00:00:00Z&quot;}&quot;]</td><td>&hellip;</td><td>[&quot;{&quot;+1997-09-22T00:00:00Z&quot;}&quot;]</td><td>[&quot;{&quot;+0801-01-01T00:00:00Z&quot;}&quot;]</td><td>[&quot;{&quot;+1947-11-07T00:00:00Z&quot;}&quot;]</td><td>[&quot;{&quot;+1972-12-08T00:00:00Z&quot;}&quot;]</td><td>[&quot;{&quot;+1601-01-01T00:00:00Z&quot;}&quot;]</td><td>[&quot;{&quot;+1963-08-10T00:00:00Z&quot;}&quot;]</td><td>[&quot;{&quot;+1939-03-02T00:00:00Z&quot;}&quot;, &quot;{&quot;+1939-00-00T00:00:00Z&quot;}&quot;]</td><td>[]</td><td>[&quot;{&quot;+1991-04-13T00:00:00Z&quot;}&quot;]</td><td>[&quot;{&quot;+0006-07-00T00:00:00Z&quot;}&quot;]</td><td>[&quot;{&quot;+1976-00-00T00:00:00Z&quot;}&quot;]</td><td>[&quot;{&quot;+1916-09-17T00:00:00Z&quot;}&quot;, &quot;{&quot;+1916-01-01T00:00:00Z&quot;}&quot;, &quot;{&quot;+1916-09-17T00:00:00Z&quot;}&quot;]</td><td>[&quot;{&quot;+0100-00-00T00:00:00Z&quot;}&quot;, &quot;{&quot;+0100-00-00T00:00:00Z&quot;}&quot;]</td><td>[&quot;{&quot;+1925-00-00T00:00:00Z&quot;}&quot;]</td><td>[]</td><td>[&quot;{&quot;+1928-09-24T00:00:00Z&quot;}&quot;, &quot;{&quot;+1936-01-01T00:00:00Z&quot;}&quot;, … &quot;{&quot;+1932-00-00T00:00:00Z&quot;}&quot;]</td><td>[]</td><td>[&quot;{&quot;+1603-00-00T00:00:00Z&quot;}&quot;]</td><td>[]</td><td>[&quot;{&quot;+1500-00-00T00:00:00Z&quot;}&quot;, &quot;{&quot;+1500-00-00T00:00:00Z&quot;}&quot;]</td><td>[&quot;{&quot;+1957-10-28T00:00:00Z&quot;}&quot;, &quot;{&quot;+1957-00-00T00:00:00Z&quot;}&quot;]</td><td>[]</td><td>[&quot;{&quot;+1988-02-25T00:00:00Z&quot;}&quot;]</td><td>[&quot;{&quot;+1987-11-27T00:00:00Z&quot;}&quot;]</td><td>[&quot;{&quot;+1990-00-00T00:00:00Z&quot;}&quot;]</td><td>[&quot;{&quot;+0951-01-01T00:00:00Z&quot;}&quot;]</td><td>[&quot;{&quot;+1990-03-20T00:00:00Z&quot;}&quot;]</td><td>[&quot;{&quot;+1979-12-00T00:00:00Z&quot;}&quot;]</td><td>[&quot;{&quot;+1954-09-27T00:00:00Z&quot;}&quot;]</td><td>[&quot;{&quot;+1931-09-27T00:00:00Z&quot;}&quot;, &quot;{&quot;+1931-00-00T00:00:00Z&quot;}&quot;]</td><td>[&quot;{&quot;+1952-12-09T00:00:00Z&quot;}&quot;]</td><td>[&quot;{&quot;+1886-07-05T00:00:00Z&quot;}&quot;]</td><td>[&quot;{&quot;+1912-07-24T00:00:00Z&quot;}&quot;]</td><td>[&quot;{&quot;+1763-00-00T00:00:00Z&quot;}&quot;]</td><td>[&quot;{&quot;+1971-00-00T00:00:00Z&quot;}&quot;, &quot;{&quot;+1982-00-00T00:00:00Z&quot;}&quot;]</td><td>[&quot;{&quot;+1967-04-02T00:00:00Z&quot;}&quot;]</td><td>[]</td></tr><tr><td>&quot;worked_at&quot;</td><td>[]</td><td>[]</td><td>[]</td><td>[&quot;{&quot;40469&quot;}&quot;, &quot;{&quot;493845&quot;}&quot;, &quot;{&quot;43380&quot;}&quot;]</td><td>[]</td><td>[]</td><td>[&quot;{&quot;35794&quot;}&quot;]</td><td>[]</td><td>[]</td><td>[]</td><td>[]</td><td>[]</td><td>[]</td><td>[]</td><td>[]</td><td>[&quot;{&quot;1049470&quot;}&quot;]</td><td>[]</td><td>[]</td><td>[]</td><td>[]</td><td>[]</td><td>[]</td><td>[]</td><td>[]</td><td>[]</td><td>[]</td><td>[]</td><td>[]</td><td>[]</td><td>[]</td><td>[]</td><td>[]</td><td>[]</td><td>[]</td><td>[]</td><td>[]</td><td>&hellip;</td><td>[]</td><td>[]</td><td>[&quot;{&quot;604487&quot;}&quot;, &quot;{&quot;1257946&quot;}&quot;]</td><td>[&quot;{&quot;503224&quot;}&quot;]</td><td>[]</td><td>[]</td><td>[]</td><td>[]</td><td>[]</td><td>[]</td><td>[]</td><td>[]</td><td>[]</td><td>[]</td><td>[]</td><td>[]</td><td>[&quot;{&quot;192775&quot;}&quot;]</td><td>[]</td><td>[]</td><td>[]</td><td>[&quot;{&quot;1322278&quot;}&quot;]</td><td>[]</td><td>[]</td><td>[]</td><td>[]</td><td>[]</td><td>[]</td><td>[]</td><td>[]</td><td>[&quot;{&quot;319761&quot;}&quot;, &quot;{&quot;666063&quot;}&quot;]</td><td>[]</td><td>[]</td><td>[]</td><td>[]</td><td>[&quot;{&quot;1140542&quot;}&quot;]</td><td>[]</td><td>[]</td></tr><tr><td>&quot;country_of_cit…</td><td>[&quot;{&quot;9683&quot;}&quot;]</td><td>[&quot;{&quot;30&quot;}&quot;]</td><td>[&quot;{&quot;30&quot;}&quot;]</td><td>[&quot;{&quot;30&quot;}&quot;]</td><td>[&quot;{&quot;12544&quot;}&quot;]</td><td>[&quot;{&quot;1033&quot;}&quot;]</td><td>[]</td><td>[&quot;{&quot;227&quot;}&quot;, &quot;{&quot;212&quot;}&quot;]</td><td>[&quot;{&quot;174193&quot;}&quot;]</td><td>[&quot;{&quot;30&quot;}&quot;]</td><td>[&quot;{&quot;30&quot;}&quot;]</td><td>[&quot;{&quot;96&quot;}&quot;]</td><td>[&quot;{&quot;30&quot;}&quot;]</td><td>[]</td><td>[&quot;{&quot;9683&quot;}&quot;]</td><td>[&quot;{&quot;16&quot;}&quot;]</td><td>[]</td><td>[&quot;{&quot;214&quot;}&quot;]</td><td>[]</td><td>[&quot;{&quot;17&quot;}&quot;]</td><td>[&quot;{&quot;8646&quot;}&quot;, &quot;{&quot;148&quot;}&quot;]</td><td>[&quot;{&quot;403&quot;}&quot;]</td><td>[&quot;{&quot;30&quot;}&quot;]</td><td>[&quot;{&quot;33&quot;}&quot;]</td><td>[]</td><td>[]</td><td>[]</td><td>[&quot;{&quot;12544&quot;}&quot;]</td><td>[&quot;{&quot;668&quot;}&quot;]</td><td>[&quot;{&quot;30&quot;}&quot;]</td><td>[]</td><td>[&quot;{&quot;30&quot;}&quot;]</td><td>[&quot;{&quot;17&quot;}&quot;]</td><td>[]</td><td>[&quot;{&quot;30&quot;}&quot;]</td><td>[&quot;{&quot;1033&quot;}&quot;]</td><td>&hellip;</td><td>[&quot;{&quot;145&quot;}&quot;]</td><td>[&quot;{&quot;9683&quot;}&quot;]</td><td>[&quot;{&quot;191&quot;}&quot;]</td><td>[&quot;{&quot;30&quot;}&quot;]</td><td>[]</td><td>[&quot;{&quot;30&quot;}&quot;]</td><td>[&quot;{&quot;30&quot;}&quot;]</td><td>[]</td><td>[&quot;{&quot;668&quot;}&quot;]</td><td>[&quot;{&quot;668&quot;}&quot;]</td><td>[&quot;{&quot;683&quot;}&quot;]</td><td>[&quot;{&quot;212056&quot;}&quot;]</td><td>[&quot;{&quot;29520&quot;}&quot;, &quot;{&quot;1147037&quot;}&quot;, &quot;{&quot;320930&quot;}&quot;]</td><td>[]</td><td>[&quot;{&quot;12544&quot;}&quot;]</td><td>[&quot;{&quot;419&quot;}&quot;]</td><td>[]</td><td>[]</td><td>[]</td><td>[&quot;{&quot;29520&quot;}&quot;, &quot;{&quot;9903&quot;}&quot;]</td><td>[&quot;{&quot;399&quot;}&quot;]</td><td>[]</td><td>[&quot;{&quot;96&quot;}&quot;]</td><td>[&quot;{&quot;30&quot;}&quot;]</td><td>[&quot;{&quot;30&quot;}&quot;]</td><td>[&quot;{&quot;319460&quot;}&quot;, &quot;{&quot;7462&quot;}&quot;]</td><td>[&quot;{&quot;30&quot;}&quot;]</td><td>[&quot;{&quot;233&quot;}&quot;]</td><td>[&quot;{&quot;30&quot;}&quot;]</td><td>[&quot;{&quot;145&quot;}&quot;, &quot;{&quot;25&quot;}&quot;]</td><td>[&quot;{&quot;30&quot;}&quot;]</td><td>[&quot;{&quot;28&quot;}&quot;]</td><td>[&quot;{&quot;664&quot;}&quot;]</td><td>[&quot;{&quot;881&quot;}&quot;]</td><td>[&quot;{&quot;30&quot;}&quot;]</td><td>[&quot;{&quot;30&quot;}&quot;]</td><td>[]</td></tr><tr><td>&quot;country&quot;</td><td>[]</td><td>[]</td><td>[]</td><td>[]</td><td>[]</td><td>[]</td><td>[]</td><td>[]</td><td>[]</td><td>[]</td><td>[]</td><td>[]</td><td>[]</td><td>[]</td><td>[]</td><td>[]</td><td>[]</td><td>[]</td><td>[]</td><td>[]</td><td>[]</td><td>[]</td><td>[]</td><td>[]</td><td>[]</td><td>[]</td><td>[]</td><td>[]</td><td>[]</td><td>[]</td><td>[]</td><td>[]</td><td>[]</td><td>[]</td><td>[]</td><td>[]</td><td>&hellip;</td><td>[]</td><td>[]</td><td>[]</td><td>[]</td><td>[]</td><td>[]</td><td>[]</td><td>[]</td><td>[]</td><td>[]</td><td>[]</td><td>[]</td><td>[]</td><td>[]</td><td>[]</td><td>[]</td><td>[]</td><td>[]</td><td>[]</td><td>[]</td><td>[]</td><td>[]</td><td>[]</td><td>[]</td><td>[]</td><td>[]</td><td>[]</td><td>[]</td><td>[]</td><td>[]</td><td>[]</td><td>[]</td><td>[]</td><td>[]</td><td>[]</td><td>[]</td><td>[]</td></tr><tr><td>&quot;educated_at&quot;</td><td>[]</td><td>[]</td><td>[&quot;{&quot;41506&quot;}&quot;, &quot;{&quot;6837334&quot;}&quot;, &quot;{&quot;49213&quot;}&quot;]</td><td>[&quot;{&quot;6409777&quot;}&quot;]</td><td>[]</td><td>[]</td><td>[&quot;{&quot;35794&quot;}&quot;]</td><td>[]</td><td>[&quot;{&quot;160302&quot;}&quot;]</td><td>[]</td><td>[]</td><td>[]</td><td>[&quot;{&quot;1760438&quot;}&quot;]</td><td>[]</td><td>[]</td><td>[&quot;{&quot;3104287&quot;}&quot;]</td><td>[&quot;{&quot;1475061&quot;}&quot;]</td><td>[&quot;{&quot;3087473&quot;}&quot;]</td><td>[]</td><td>[&quot;{&quot;495330&quot;}&quot;]</td><td>[]</td><td>[]</td><td>[]</td><td>[]</td><td>[]</td><td>[]</td><td>[]</td><td>[]</td><td>[]</td><td>[&quot;{&quot;6781349&quot;}&quot;, &quot;{&quot;4647054&quot;}&quot;]</td><td>[]</td><td>[]</td><td>[&quot;{&quot;4711817&quot;}&quot;]</td><td>[]</td><td>[&quot;{&quot;5597042&quot;}&quot;]</td><td>[&quot;{&quot;1412551&quot;}&quot;, &quot;{&quot;3509668&quot;}&quot;, … &quot;{&quot;1412551&quot;}&quot;]</td><td>&hellip;</td><td>[]</td><td>[]</td><td>[&quot;{&quot;204181&quot;}&quot;]</td><td>[&quot;{&quot;1407897&quot;}&quot;]</td><td>[&quot;{&quot;192088&quot;}&quot;]</td><td>[&quot;{&quot;5104889&quot;}&quot;]</td><td>[&quot;{&quot;49114&quot;}&quot;, &quot;{&quot;838330&quot;}&quot;]</td><td>[&quot;{&quot;49110&quot;}&quot;]</td><td>[&quot;{&quot;3276104&quot;}&quot;, &quot;{&quot;4743438&quot;}&quot;]</td><td>[]</td><td>[]</td><td>[&quot;{&quot;4874546&quot;}&quot;]</td><td>[]</td><td>[&quot;{&quot;170027&quot;}&quot;]</td><td>[]</td><td>[&quot;{&quot;5202236&quot;}&quot;, &quot;{&quot;1056289&quot;}&quot;, &quot;{&quot;214654&quot;}&quot;]</td><td>[]</td><td>[]</td><td>[]</td><td>[]</td><td>[&quot;{&quot;27621&quot;}&quot;]</td><td>[]</td><td>[]</td><td>[&quot;{&quot;1353679&quot;}&quot;, &quot;{&quot;861548&quot;}&quot;]</td><td>[&quot;{&quot;797078&quot;}&quot;, &quot;{&quot;1583249&quot;}&quot;]</td><td>[]</td><td>[&quot;{&quot;4805251&quot;}&quot;]</td><td>[&quot;{&quot;1068258&quot;}&quot;]</td><td>[&quot;{&quot;250205&quot;}&quot;, &quot;{&quot;6942754&quot;}&quot;]</td><td>[&quot;{&quot;319761&quot;}&quot;, &quot;{&quot;5590060&quot;}&quot;]</td><td>[&quot;{&quot;492519&quot;}&quot;, &quot;{&quot;7014742&quot;}&quot;]</td><td>[&quot;{&quot;390287&quot;}&quot;]</td><td>[]</td><td>[]</td><td>[]</td><td>[]</td><td>[]</td></tr><tr><td>&quot;occupation&quot;</td><td>[&quot;{&quot;1402561&quot;}&quot;, &quot;{&quot;179294&quot;}&quot;]</td><td>[&quot;{&quot;3400985&quot;}&quot;, &quot;{&quot;15980158&quot;}&quot;, … &quot;{&quot;212980&quot;}&quot;]</td><td>[&quot;{&quot;18844224&quot;}&quot;, &quot;{&quot;36180&quot;}&quot;]</td><td>[&quot;{&quot;33231&quot;}&quot;, &quot;{&quot;11496048&quot;}&quot;, … &quot;{&quot;1930187&quot;}&quot;]</td><td>[&quot;{&quot;10669499&quot;}&quot;, &quot;{&quot;179294&quot;}&quot;]</td><td>[]</td><td>[&quot;{&quot;6337803&quot;}&quot;, &quot;{&quot;212980&quot;}&quot;, &quot;{&quot;115088092&quot;}&quot;]</td><td>[&quot;{&quot;12369333&quot;}&quot;]</td><td>[&quot;{&quot;4002666&quot;}&quot;, &quot;{&quot;774306&quot;}&quot;]</td><td>[&quot;{&quot;337084&quot;}&quot;, &quot;{&quot;4610556&quot;}&quot;, … &quot;{&quot;578109&quot;}&quot;]</td><td>[&quot;{&quot;1250916&quot;}&quot;, &quot;{&quot;14290559&quot;}&quot;]</td><td>[&quot;{&quot;177220&quot;}&quot;, &quot;{&quot;753110&quot;}&quot;, &quot;{&quot;183945&quot;}&quot;]</td><td>[&quot;{&quot;49757&quot;}&quot;, &quot;{&quot;36180&quot;}&quot;]</td><td>[&quot;{&quot;482980&quot;}&quot;]</td><td>[&quot;{&quot;82955&quot;}&quot;, &quot;{&quot;179294&quot;}&quot;]</td><td>[&quot;{&quot;82955&quot;}&quot;]</td><td>[&quot;{&quot;733786&quot;}&quot;, &quot;{&quot;179294&quot;}&quot;]</td><td>[&quot;{&quot;36834&quot;}&quot;]</td><td>[]</td><td>[&quot;{&quot;6625963&quot;}&quot;, &quot;{&quot;11774202&quot;}&quot;, &quot;{&quot;822146&quot;}&quot;]</td><td>[&quot;{&quot;33999&quot;}&quot;, &quot;{&quot;177220&quot;}&quot;, &quot;{&quot;2526255&quot;}&quot;]</td><td>[&quot;{&quot;19509201&quot;}&quot;]</td><td>[&quot;{&quot;82955&quot;}&quot;]</td><td>[&quot;{&quot;193391&quot;}&quot;]</td><td>[]</td><td>[&quot;{&quot;13474373&quot;}&quot;]</td><td>[&quot;{&quot;852857&quot;}&quot;, &quot;{&quot;67205775&quot;}&quot;]</td><td>[&quot;{&quot;82955&quot;}&quot;, &quot;{&quot;179294&quot;}&quot;]</td><td>[&quot;{&quot;33999&quot;}&quot;, &quot;{&quot;245068&quot;}&quot;]</td><td>[&quot;{&quot;715301&quot;}&quot;, &quot;{&quot;11892507&quot;}&quot;, … &quot;{&quot;2405480&quot;}&quot;]</td><td>[&quot;{&quot;82955&quot;}&quot;, &quot;{&quot;212238&quot;}&quot;]</td><td>[&quot;{&quot;11607585&quot;}&quot;]</td><td>[&quot;{&quot;28389&quot;}&quot;]</td><td>[]</td><td>[&quot;{&quot;488205&quot;}&quot;, &quot;{&quot;33999&quot;}&quot;, … &quot;{&quot;177220&quot;}&quot;]</td><td>[&quot;{&quot;12416358&quot;}&quot;, &quot;{&quot;3400985&quot;}&quot;]</td><td>&hellip;</td><td>[&quot;{&quot;2259451&quot;}&quot;, &quot;{&quot;177220&quot;}&quot;, &quot;{&quot;33999&quot;}&quot;]</td><td>[&quot;{&quot;82955&quot;}&quot;, &quot;{&quot;179294&quot;}&quot;]</td><td>[&quot;{&quot;169470&quot;}&quot;, &quot;{&quot;1650915&quot;}&quot;]</td><td>[&quot;{&quot;4610556&quot;}&quot;, &quot;{&quot;23845879&quot;}&quot;, … &quot;{&quot;123853167&quot;}&quot;]</td><td>[]</td><td>[&quot;{&quot;15253558&quot;}&quot;, &quot;{&quot;36180&quot;}&quot;, &quot;{&quot;4991371&quot;}&quot;]</td><td>[&quot;{&quot;483501&quot;}&quot;, &quot;{&quot;33231&quot;}&quot;, … &quot;{&quot;18074503&quot;}&quot;]</td><td>[&quot;{&quot;674426&quot;}&quot;]</td><td>[&quot;{&quot;10301984&quot;}&quot;, &quot;{&quot;82955&quot;}&quot;, &quot;{&quot;19509201&quot;}&quot;]</td><td>[&quot;{&quot;5716684&quot;}&quot;]</td><td>[&quot;{&quot;15253558&quot;}&quot;]</td><td>[&quot;{&quot;82955&quot;}&quot;, &quot;{&quot;188094&quot;}&quot;]</td><td>[&quot;{&quot;82955&quot;}&quot;, &quot;{&quot;179294&quot;}&quot;]</td><td>[&quot;{&quot;36180&quot;}&quot;]</td><td>[&quot;{&quot;42603&quot;}&quot;, &quot;{&quot;179294&quot;}&quot;]</td><td>[&quot;{&quot;1028181&quot;}&quot;, &quot;{&quot;329439&quot;}&quot;]</td><td>[&quot;{&quot;201788&quot;}&quot;, &quot;{&quot;16267607&quot;}&quot;]</td><td>[&quot;{&quot;54128&quot;}&quot;]</td><td>[&quot;{&quot;15253558&quot;}&quot;]</td><td>[&quot;{&quot;82955&quot;}&quot;]</td><td>[&quot;{&quot;333634&quot;}&quot;, &quot;{&quot;13418253&quot;}&quot;]</td><td>[&quot;{&quot;639669&quot;}&quot;]</td><td>[&quot;{&quot;36834&quot;}&quot;, &quot;{&quot;177220&quot;}&quot;, &quot;{&quot;486748&quot;}&quot;]</td><td>[&quot;{&quot;6625963&quot;}&quot;, &quot;{&quot;1622272&quot;}&quot;]</td><td>[&quot;{&quot;1414443&quot;}&quot;, &quot;{&quot;36180&quot;}&quot;, … &quot;{&quot;2526255&quot;}&quot;]</td><td>[&quot;{&quot;82955&quot;}&quot;, &quot;{&quot;11545923&quot;}&quot;, &quot;{&quot;179294&quot;}&quot;]</td><td>[&quot;{&quot;488205&quot;}&quot;, &quot;{&quot;17125263&quot;}&quot;, … &quot;{&quot;578109&quot;}&quot;]</td><td>[&quot;{&quot;19509201&quot;}&quot;]</td><td>[&quot;{&quot;82955&quot;}&quot;]</td><td>[&quot;{&quot;201788&quot;}&quot;, &quot;{&quot;36180&quot;}&quot;, &quot;{&quot;1622272&quot;}&quot;]</td><td>[&quot;{&quot;1028181&quot;}&quot;, &quot;{&quot;33999&quot;}&quot;]</td><td>[&quot;{&quot;4205432&quot;}&quot;, &quot;{&quot;350979&quot;}&quot;, … &quot;{&quot;2374149&quot;}&quot;]</td><td>[&quot;{&quot;36180&quot;}&quot;, &quot;{&quot;1086863&quot;}&quot;]</td><td>[&quot;{&quot;189290&quot;}&quot;]</td><td>[&quot;{&quot;36180&quot;}&quot;, &quot;{&quot;1622272&quot;}&quot;, … &quot;{&quot;6625963&quot;}&quot;]</td><td>[&quot;{&quot;2722764&quot;}&quot;]</td><td>[&quot;{&quot;2526255&quot;}&quot;]</td></tr><tr><td>&quot;instrument&quot;</td><td>[]</td><td>[]</td><td>[]</td><td>[]</td><td>[]</td><td>[]</td><td>[]</td><td>[]</td><td>[]</td><td>[]</td><td>[]</td><td>[&quot;{&quot;17172850&quot;}&quot;, &quot;{&quot;6607&quot;}&quot;, &quot;{&quot;678090&quot;}&quot;]</td><td>[]</td><td>[]</td><td>[]</td><td>[]</td><td>[]</td><td>[]</td><td>[]</td><td>[]</td><td>[&quot;{&quot;17172850&quot;}&quot;]</td><td>[]</td><td>[]</td><td>[]</td><td>[]</td><td>[]</td><td>[]</td><td>[]</td><td>[]</td><td>[]</td><td>[]</td><td>[]</td><td>[]</td><td>[]</td><td>[&quot;{&quot;17172850&quot;}&quot;, &quot;{&quot;6607&quot;}&quot;, … &quot;{&quot;128309&quot;}&quot;]</td><td>[]</td><td>&hellip;</td><td>[]</td><td>[]</td><td>[]</td><td>[]</td><td>[]</td><td>[]</td><td>[]</td><td>[]</td><td>[]</td><td>[]</td><td>[]</td><td>[]</td><td>[]</td><td>[]</td><td>[]</td><td>[]</td><td>[]</td><td>[]</td><td>[]</td><td>[]</td><td>[]</td><td>[]</td><td>[&quot;{&quot;17172850&quot;}&quot;, &quot;{&quot;5994&quot;}&quot;]</td><td>[]</td><td>[]</td><td>[]</td><td>[]</td><td>[]</td><td>[]</td><td>[]</td><td>[]</td><td>[]</td><td>[]</td><td>[]</td><td>[]</td><td>[]</td><td>[]</td></tr><tr><td>&quot;genre&quot;</td><td>[]</td><td>[]</td><td>[&quot;{&quot;24925&quot;}&quot;, &quot;{&quot;3362516&quot;}&quot;]</td><td>[]</td><td>[]</td><td>[]</td><td>[]</td><td>[]</td><td>[]</td><td>[&quot;{&quot;37073&quot;}&quot;, &quot;{&quot;851213&quot;}&quot;]</td><td>[]</td><td>[]</td><td>[]</td><td>[]</td><td>[]</td><td>[]</td><td>[]</td><td>[&quot;{&quot;188994&quot;}&quot;]</td><td>[]</td><td>[]</td><td>[]</td><td>[]</td><td>[]</td><td>[]</td><td>[]</td><td>[]</td><td>[]</td><td>[]</td><td>[]</td><td>[]</td><td>[]</td><td>[]</td><td>[]</td><td>[]</td><td>[&quot;{&quot;484641&quot;}&quot;, &quot;{&quot;37073&quot;}&quot;, … &quot;{&quot;263734&quot;}&quot;]</td><td>[]</td><td>&hellip;</td><td>[]</td><td>[]</td><td>[]</td><td>[]</td><td>[]</td><td>[]</td><td>[]</td><td>[]</td><td>[]</td><td>[]</td><td>[]</td><td>[]</td><td>[]</td><td>[]</td><td>[]</td><td>[]</td><td>[]</td><td>[]</td><td>[]</td><td>[]</td><td>[]</td><td>[]</td><td>[]</td><td>[]</td><td>[]</td><td>[]</td><td>[&quot;{&quot;37073&quot;}&quot;, &quot;{&quot;842324&quot;}&quot;]</td><td>[]</td><td>[]</td><td>[]</td><td>[]</td><td>[]</td><td>[]</td><td>[]</td><td>[&quot;{&quot;99596429&quot;}&quot;]</td><td>[]</td><td>[]</td></tr><tr><td>&quot;industry&quot;</td><td>[]</td><td>[]</td><td>[]</td><td>[]</td><td>[]</td><td>[]</td><td>[]</td><td>[]</td><td>[]</td><td>[]</td><td>[]</td><td>[]</td><td>[]</td><td>[]</td><td>[]</td><td>[]</td><td>[]</td><td>[]</td><td>[]</td><td>[]</td><td>[]</td><td>[]</td><td>[]</td><td>[]</td><td>[]</td><td>[]</td><td>[]</td><td>[]</td><td>[]</td><td>[]</td><td>[]</td><td>[]</td><td>[]</td><td>[]</td><td>[]</td><td>[]</td><td>&hellip;</td><td>[]</td><td>[]</td><td>[]</td><td>[]</td><td>[]</td><td>[]</td><td>[]</td><td>[]</td><td>[]</td><td>[]</td><td>[]</td><td>[]</td><td>[]</td><td>[]</td><td>[]</td><td>[]</td><td>[]</td><td>[]</td><td>[]</td><td>[]</td><td>[]</td><td>[]</td><td>[]</td><td>[]</td><td>[]</td><td>[]</td><td>[]</td><td>[]</td><td>[]</td><td>[]</td><td>[]</td><td>[]</td><td>[]</td><td>[]</td><td>[]</td><td>[]</td><td>[]</td></tr><tr><td>&quot;subclass_of&quot;</td><td>[]</td><td>[]</td><td>[]</td><td>[]</td><td>[]</td><td>[]</td><td>[]</td><td>[]</td><td>[]</td><td>[]</td><td>[]</td><td>[]</td><td>[]</td><td>[]</td><td>[]</td><td>[]</td><td>[]</td><td>[]</td><td>[]</td><td>[]</td><td>[]</td><td>[]</td><td>[]</td><td>[]</td><td>[]</td><td>[]</td><td>[]</td><td>[]</td><td>[]</td><td>[]</td><td>[]</td><td>[]</td><td>[]</td><td>[]</td><td>[]</td><td>[]</td><td>&hellip;</td><td>[]</td><td>[]</td><td>[]</td><td>[]</td><td>[]</td><td>[]</td><td>[]</td><td>[]</td><td>[]</td><td>[]</td><td>[]</td><td>[]</td><td>[]</td><td>[]</td><td>[]</td><td>[]</td><td>[]</td><td>[]</td><td>[]</td><td>[]</td><td>[]</td><td>[]</td><td>[]</td><td>[]</td><td>[]</td><td>[]</td><td>[]</td><td>[]</td><td>[]</td><td>[]</td><td>[]</td><td>[]</td><td>[]</td><td>[]</td><td>[]</td><td>[]</td><td>[]</td></tr><tr><td>&quot;coordinate_loc…</td><td>[]</td><td>[]</td><td>[]</td><td>[]</td><td>[]</td><td>[]</td><td>[]</td><td>[]</td><td>[]</td><td>[]</td><td>[]</td><td>[]</td><td>[]</td><td>[]</td><td>[]</td><td>[]</td><td>[]</td><td>[]</td><td>[]</td><td>[]</td><td>[]</td><td>[]</td><td>[]</td><td>[]</td><td>[]</td><td>[]</td><td>[]</td><td>[]</td><td>[]</td><td>[]</td><td>[]</td><td>[]</td><td>[]</td><td>[]</td><td>[]</td><td>[]</td><td>&hellip;</td><td>[]</td><td>[]</td><td>[]</td><td>[]</td><td>[]</td><td>[]</td><td>[]</td><td>[]</td><td>[]</td><td>[]</td><td>[]</td><td>[]</td><td>[]</td><td>[]</td><td>[]</td><td>[]</td><td>[]</td><td>[]</td><td>[]</td><td>[]</td><td>[]</td><td>[]</td><td>[]</td><td>[]</td><td>[]</td><td>[]</td><td>[]</td><td>[]</td><td>[]</td><td>[]</td><td>[]</td><td>[]</td><td>[]</td><td>[]</td><td>[]</td><td>[]</td><td>[]</td></tr><tr><td>&quot;iso_3166_alpha…</td><td>[]</td><td>[]</td><td>[]</td><td>[]</td><td>[]</td><td>[]</td><td>[]</td><td>[]</td><td>[]</td><td>[]</td><td>[]</td><td>[]</td><td>[]</td><td>[]</td><td>[]</td><td>[]</td><td>[]</td><td>[]</td><td>[]</td><td>[]</td><td>[]</td><td>[]</td><td>[]</td><td>[]</td><td>[]</td><td>[]</td><td>[]</td><td>[]</td><td>[]</td><td>[]</td><td>[]</td><td>[]</td><td>[]</td><td>[]</td><td>[]</td><td>[]</td><td>&hellip;</td><td>[]</td><td>[]</td><td>[]</td><td>[]</td><td>[]</td><td>[]</td><td>[]</td><td>[]</td><td>[]</td><td>[]</td><td>[]</td><td>[]</td><td>[]</td><td>[]</td><td>[]</td><td>[]</td><td>[]</td><td>[]</td><td>[]</td><td>[]</td><td>[]</td><td>[]</td><td>[]</td><td>[]</td><td>[]</td><td>[]</td><td>[]</td><td>[]</td><td>[]</td><td>[]</td><td>[]</td><td>[]</td><td>[]</td><td>[]</td><td>[]</td><td>[]</td><td>[]</td></tr><tr><td>&quot;member_of&quot;</td><td>[]</td><td>[]</td><td>[]</td><td>[]</td><td>[]</td><td>[]</td><td>[]</td><td>[]</td><td>[]</td><td>[]</td><td>[]</td><td>[]</td><td>[]</td><td>[]</td><td>[]</td><td>[]</td><td>[]</td><td>[]</td><td>[]</td><td>[]</td><td>[]</td><td>[]</td><td>[]</td><td>[]</td><td>[]</td><td>[]</td><td>[]</td><td>[]</td><td>[]</td><td>[]</td><td>[]</td><td>[]</td><td>[]</td><td>[]</td><td>[]</td><td>[]</td><td>&hellip;</td><td>[]</td><td>[]</td><td>[]</td><td>[]</td><td>[]</td><td>[]</td><td>[]</td><td>[]</td><td>[&quot;{&quot;106348604&quot;}&quot;]</td><td>[]</td><td>[]</td><td>[]</td><td>[]</td><td>[]</td><td>[]</td><td>[]</td><td>[]</td><td>[]</td><td>[]</td><td>[]</td><td>[]</td><td>[]</td><td>[]</td><td>[]</td><td>[]</td><td>[]</td><td>[]</td><td>[]</td><td>[]</td><td>[&quot;{&quot;371160&quot;}&quot;, &quot;{&quot;3445958&quot;}&quot;]</td><td>[]</td><td>[]</td><td>[]</td><td>[]</td><td>[]</td><td>[]</td><td>[]</td></tr><tr><td>&quot;from_fictional…</td><td>[]</td><td>[]</td><td>[]</td><td>[]</td><td>[]</td><td>[]</td><td>[]</td><td>[]</td><td>[]</td><td>[]</td><td>[]</td><td>[]</td><td>[]</td><td>[]</td><td>[]</td><td>[]</td><td>[]</td><td>[]</td><td>[]</td><td>[]</td><td>[]</td><td>[]</td><td>[]</td><td>[]</td><td>[]</td><td>[]</td><td>[]</td><td>[]</td><td>[]</td><td>[]</td><td>[]</td><td>[]</td><td>[]</td><td>[]</td><td>[]</td><td>[]</td><td>&hellip;</td><td>[]</td><td>[]</td><td>[]</td><td>[]</td><td>[]</td><td>[]</td><td>[]</td><td>[]</td><td>[]</td><td>[]</td><td>[]</td><td>[]</td><td>[]</td><td>[]</td><td>[]</td><td>[]</td><td>[]</td><td>[]</td><td>[]</td><td>[]</td><td>[]</td><td>[]</td><td>[]</td><td>[]</td><td>[]</td><td>[]</td><td>[]</td><td>[]</td><td>[]</td><td>[]</td><td>[]</td><td>[]</td><td>[]</td><td>[]</td><td>[]</td><td>[]</td><td>[]</td></tr></tbody></table></div>"
      ],
      "text/plain": [
       "shape: (27, 543)\n",
       "┌───────────┬───────────┬───────────┬───────────┬───┬───────────┬───────────┬───────────┬──────────┐\n",
       "│ column    ┆ column_0  ┆ column_1  ┆ column_2  ┆ … ┆ column_53 ┆ column_53 ┆ column_54 ┆ column_5 │\n",
       "│ ---       ┆ ---       ┆ ---       ┆ ---       ┆   ┆ 8         ┆ 9         ┆ 0         ┆ 41       │\n",
       "│ str       ┆ list[str] ┆ list[str] ┆ list[str] ┆   ┆ ---       ┆ ---       ┆ ---       ┆ ---      │\n",
       "│           ┆           ┆           ┆           ┆   ┆ list[str] ┆ list[str] ┆ list[str] ┆ list[str │\n",
       "│           ┆           ┆           ┆           ┆   ┆           ┆           ┆           ┆ ]        │\n",
       "╞═══════════╪═══════════╪═══════════╪═══════════╪═══╪═══════════╪═══════════╪═══════════╪══════════╡\n",
       "│ id        ┆ [\"Q780013 ┆ [\"Q108381 ┆ [\"Q553970 ┆ … ┆ [\"Q715407 ┆ [\"Q979302 ┆ [\"Q210628 ┆ [\"Q42291 │\n",
       "│           ┆ 5\"]       ┆ 040\"]     ┆ 10\"]      ┆   ┆ \"]        ┆ 23\"]      ┆ 31\"]      ┆ 398\"]    │\n",
       "│ numeric_i ┆ [\"7800135 ┆ [\"1083810 ┆ [\"5539701 ┆ … ┆ [\"715407\" ┆ [\"9793022 ┆ [\"2106283 ┆ [\"422913 │\n",
       "│ d         ┆ \"]        ┆ 40\"]      ┆ 0\"]       ┆   ┆ ]         ┆ 3\"]       ┆ 1\"]       ┆ 98\"]     │\n",
       "│ en_label  ┆ [\"Tian    ┆ [\"Devon   ┆ [\"Rivers  ┆ … ┆ [\"Le Van  ┆ [\"Andrea  ┆ [\"Sheena  ┆ [\"Nadira │\n",
       "│           ┆ Lingzi\"]  ┆ Price\"]   ┆ Solomon\"] ┆   ┆ Duyet\"]   ┆ Lawlor\"]  ┆ Metal\"]   ┆ Ilana\"]  │\n",
       "│ en_wiki   ┆ [\"Tian_Li ┆ [\"Devon_P ┆ [\"Rivers_ ┆ … ┆ [\"Lê_Văn_ ┆ [\"Andrea_ ┆ [\"Sheena_ ┆ [\"Nadira │\n",
       "│           ┆ ngzi\"]    ┆ rice\"]    ┆ Solomon\"] ┆   ┆ Duyệt\"]   ┆ Lawlor\"]  ┆ Metal\"]   ┆ _Ilana\"] │\n",
       "│ en_descri ┆ [\"Eunuch  ┆ [\"America ┆ [\"America ┆ … ┆ [\"Vietnam ┆ [\"writer  ┆ [\"America ┆ [\"Malays │\n",
       "│ ption     ┆ who had a ┆ n social  ┆ n science ┆   ┆ ese       ┆ and       ┆ n         ┆ ian      │\n",
       "│           ┆ strangleh ┆ psycholog ┆ fiction   ┆   ┆ general,  ┆ professor ┆ talk-show ┆ writer,  │\n",
       "│           ┆ old …     ┆ ist a…    ┆ autho…    ┆   ┆ mandarin\" ┆ of        ┆ host\"]    ┆ filmmake │\n",
       "│           ┆           ┆           ┆           ┆   ┆ ]         ┆ Englis…   ┆           ┆ r a…     │\n",
       "│ type      ┆ [\"item\"]  ┆ [\"item\"]  ┆ [\"item\"]  ┆ … ┆ [\"item\"]  ┆ [\"item\"]  ┆ [\"item\"]  ┆ [\"item\"] │\n",
       "│ sitelinks ┆ [\"{\"enwik ┆ [\"{\"enwik ┆ [\"{\"enwik ┆ … ┆ [\"{\"enwik ┆ [\"{\"enwik ┆ [\"{\"enwik ┆ [\"{\"enwi │\n",
       "│           ┆ i\",\"Tian  ┆ i\",\"Devon ┆ i\",\"River ┆   ┆ i\",\"Lê    ┆ i\",\"Andre ┆ i\",\"Sheen ┆ ki\",\"Nad │\n",
       "│           ┆ Lingzi\",\" ┆ Price\",\"D ┆ s Solomon ┆   ┆ Văn Duyệt ┆ a Lawlor\" ┆ a Metal\", ┆ ira Ilan │\n",
       "│           ┆ Tian_…    ┆ evon…     ┆ \",\"Ri…    ┆   ┆ \",\"Lê_V…  ┆ ,\"And…    ┆ \"Shee…    ┆ a\",\"Nadi │\n",
       "│           ┆           ┆           ┆           ┆   ┆           ┆           ┆           ┆ …        │\n",
       "│ descripti ┆ [\"{\"en\",\" ┆ [\"{\"en\",\" ┆ [\"{\"en\",\" ┆ … ┆ [\"{\"en\",\" ┆ [\"{\"en\",\" ┆ [\"{\"nl\",\" ┆ [\"{\"en\", │\n",
       "│ ons       ┆ Eunuch    ┆ American  ┆ American  ┆   ┆ Vietnames ┆ writer    ┆ Amerikaan ┆ \"Malaysi │\n",
       "│           ┆ who had a ┆ social    ┆ science   ┆   ┆ e         ┆ and       ┆ s radiopr ┆ an       │\n",
       "│           ┆ strang…   ┆ psychol…  ┆ fictio…   ┆   ┆ general,  ┆ professor ┆ esent…    ┆ writer,  │\n",
       "│           ┆           ┆           ┆           ┆   ┆ man…      ┆ of…       ┆           ┆ film…    │\n",
       "│ labels    ┆ [\"{\"en\",\" ┆ [\"{\"en\",\" ┆ [\"{\"en\",\" ┆ … ┆ [\"{\"zh-ha ┆ [\"{\"en\",\" ┆ [\"{\"en\",\" ┆ [\"{\"en\", │\n",
       "│           ┆ Tian Ling ┆ Devon     ┆ Rivers    ┆   ┆ ns\",\"黎文 ┆ Andrea    ┆ Sheena    ┆ \"Nadira  │\n",
       "│           ┆ zi\"}\",    ┆ Price\"}\", ┆ Solomon\"} ┆   ┆ 悦\"}\",    ┆ Lawlor\"}\" ┆ Metal\"}\", ┆ Ilana\"}\" │\n",
       "│           ┆ \"{\"zh\",…  ┆ \"{\"nl\",…  ┆ \", \"{\"n…  ┆   ┆ \"{\"zh-han ┆ , \"{\"nl…  ┆ \"{\"nl\"…   ┆ ,        │\n",
       "│           ┆           ┆           ┆           ┆   ┆ t…        ┆           ┆           ┆ \"{\"nl\"…  │\n",
       "│ aliases   ┆ [\"{\"en\",\" ┆ []        ┆ []        ┆ … ┆ [\"{\"ko\",\" ┆ []        ┆ []        ┆ []       │\n",
       "│           ┆ Lingzi    ┆           ┆           ┆   ┆ 예문열\"}\" ┆           ┆           ┆          │\n",
       "│           ┆ Tian\"}\"]  ┆           ┆           ┆   ┆ , \"{\"ko\", ┆           ┆           ┆          │\n",
       "│           ┆           ┆           ┆           ┆   ┆ \"레반두예 ┆           ┆           ┆          │\n",
       "│           ┆           ┆           ┆           ┆   ┆ 트\"}…     ┆           ┆           ┆          │\n",
       "│ instance_ ┆ [\"{\"5\"}\"] ┆ [\"{\"5\"}\"] ┆ [\"{\"5\"}\"] ┆ … ┆ [\"{\"5\"}\"] ┆ [\"{\"5\"}\"] ┆ [\"{\"5\"}\"] ┆ [\"{\"5\"}\" │\n",
       "│ of        ┆           ┆           ┆           ┆   ┆           ┆           ┆           ┆ ]        │\n",
       "│ gender    ┆ [\"{\"65810 ┆ [\"{\"48270 ┆ [\"{\"48270 ┆ … ┆ [\"{\"65810 ┆ [\"{\"65810 ┆ [\"{\"65810 ┆ [\"{\"6581 │\n",
       "│           ┆ 97\"}\",    ┆ \"}\", \"{\"2 ┆ \"}\", \"{\"1 ┆   ┆ 97\"}\",    ┆ 72\"}\",    ┆ 72\"}\",    ┆ 097\"}\",  │\n",
       "│           ┆ \"{\"179294 ┆ 449503\"}\" ┆ 097630\"}\" ┆   ┆ \"{\"109763 ┆ \"{\"48270\" ┆ \"{\"109763 ┆ \"{\"65810 │\n",
       "│           ┆ \"}\"]      ┆ ]         ┆ ]         ┆   ┆ 0\"}\"]     ┆ }\"]       ┆ 0\"}\"]     ┆ 72\"}\"]   │\n",
       "│ date_of_b ┆ [\"{\"+0900 ┆ []        ┆ [\"{\"+1988 ┆ … ┆ [\"{\"+1763 ┆ [\"{\"+1971 ┆ [\"{\"+1967 ┆ []       │\n",
       "│ irth      ┆ -00-00T00 ┆           ┆ -11-17T00 ┆   ┆ -00-00T00 ┆ -00-00T00 ┆ -04-02T00 ┆          │\n",
       "│           ┆ :00:00Z\"} ┆           ┆ :00:00Z\"} ┆   ┆ :00:00Z\"} ┆ :00:00Z\"} ┆ :00:00Z\"} ┆          │\n",
       "│           ┆ \"]        ┆           ┆ \"]        ┆   ┆ \"]        ┆ \", \"{…    ┆ \"]        ┆          │\n",
       "│ date_of_d ┆ [\"{\"+0900 ┆ []        ┆ [\"{\"+1988 ┆ … ┆ [\"{\"+1763 ┆ [\"{\"+1971 ┆ [\"{\"+1967 ┆ []       │\n",
       "│ eath      ┆ -00-00T00 ┆           ┆ -11-17T00 ┆   ┆ -00-00T00 ┆ -00-00T00 ┆ -04-02T00 ┆          │\n",
       "│           ┆ :00:00Z\"} ┆           ┆ :00:00Z\"} ┆   ┆ :00:00Z\"} ┆ :00:00Z\"} ┆ :00:00Z\"} ┆          │\n",
       "│           ┆ \"]        ┆           ┆ \"]        ┆   ┆ \"]        ┆ \", \"{…    ┆ \"]        ┆          │\n",
       "│ worked_at ┆ []        ┆ []        ┆ []        ┆ … ┆ []        ┆ [\"{\"11405 ┆ []        ┆ []       │\n",
       "│           ┆           ┆           ┆           ┆   ┆           ┆ 42\"}\"]    ┆           ┆          │\n",
       "│ country_o ┆ [\"{\"9683\" ┆ [\"{\"30\"}\" ┆ [\"{\"30\"}\" ┆ … ┆ [\"{\"881\"} ┆ [\"{\"30\"}\" ┆ [\"{\"30\"}\" ┆ []       │\n",
       "│ f_citizen ┆ }\"]       ┆ ]         ┆ ]         ┆   ┆ \"]        ┆ ]         ┆ ]         ┆          │\n",
       "│ ship      ┆           ┆           ┆           ┆   ┆           ┆           ┆           ┆          │\n",
       "│ country   ┆ []        ┆ []        ┆ []        ┆ … ┆ []        ┆ []        ┆ []        ┆ []       │\n",
       "│ educated_ ┆ []        ┆ []        ┆ [\"{\"41506 ┆ … ┆ []        ┆ []        ┆ []        ┆ []       │\n",
       "│ at        ┆           ┆           ┆ \"}\", \"{\"6 ┆   ┆           ┆           ┆           ┆          │\n",
       "│           ┆           ┆           ┆ 837334\"}\" ┆   ┆           ┆           ┆           ┆          │\n",
       "│           ┆           ┆           ┆ , \"{\"…    ┆   ┆           ┆           ┆           ┆          │\n",
       "│ occupatio ┆ [\"{\"14025 ┆ [\"{\"34009 ┆ [\"{\"18844 ┆ … ┆ [\"{\"18929 ┆ [\"{\"36180 ┆ [\"{\"27227 ┆ [\"{\"2526 │\n",
       "│ n         ┆ 61\"}\",    ┆ 85\"}\",    ┆ 224\"}\",   ┆   ┆ 0\"}\"]     ┆ \"}\", \"{\"1 ┆ 64\"}\"]    ┆ 255\"}\"]  │\n",
       "│           ┆ \"{\"179294 ┆ \"{\"159801 ┆ \"{\"36180\" ┆   ┆           ┆ 622272\"}\" ┆           ┆          │\n",
       "│           ┆ \"}\"]      ┆ 58\"}\", …  ┆ }\"]       ┆   ┆           ┆ , … \"…    ┆           ┆          │\n",
       "│ instrumen ┆ []        ┆ []        ┆ []        ┆ … ┆ []        ┆ []        ┆ []        ┆ []       │\n",
       "│ t         ┆           ┆           ┆           ┆   ┆           ┆           ┆           ┆          │\n",
       "│ genre     ┆ []        ┆ []        ┆ [\"{\"24925 ┆ … ┆ []        ┆ [\"{\"99596 ┆ []        ┆ []       │\n",
       "│           ┆           ┆           ┆ \"}\", \"{\"3 ┆   ┆           ┆ 429\"}\"]   ┆           ┆          │\n",
       "│           ┆           ┆           ┆ 362516\"}\" ┆   ┆           ┆           ┆           ┆          │\n",
       "│           ┆           ┆           ┆ ]         ┆   ┆           ┆           ┆           ┆          │\n",
       "│ industry  ┆ []        ┆ []        ┆ []        ┆ … ┆ []        ┆ []        ┆ []        ┆ []       │\n",
       "│ subclass_ ┆ []        ┆ []        ┆ []        ┆ … ┆ []        ┆ []        ┆ []        ┆ []       │\n",
       "│ of        ┆           ┆           ┆           ┆   ┆           ┆           ┆           ┆          │\n",
       "│ coordinat ┆ []        ┆ []        ┆ []        ┆ … ┆ []        ┆ []        ┆ []        ┆ []       │\n",
       "│ e_locatio ┆           ┆           ┆           ┆   ┆           ┆           ┆           ┆          │\n",
       "│ n         ┆           ┆           ┆           ┆   ┆           ┆           ┆           ┆          │\n",
       "│ iso_3166_ ┆ []        ┆ []        ┆ []        ┆ … ┆ []        ┆ []        ┆ []        ┆ []       │\n",
       "│ alpha3    ┆           ┆           ┆           ┆   ┆           ┆           ┆           ┆          │\n",
       "│ member_of ┆ []        ┆ []        ┆ []        ┆ … ┆ []        ┆ []        ┆ []        ┆ []       │\n",
       "│ from_fict ┆ []        ┆ []        ┆ []        ┆ … ┆ []        ┆ []        ┆ []        ┆ []       │\n",
       "│ ional_uni ┆           ┆           ┆           ┆   ┆           ┆           ┆           ┆          │\n",
       "│ verse     ┆           ┆           ┆           ┆   ┆           ┆           ┆           ┆          │\n",
       "└───────────┴───────────┴───────────┴───────────┴───┴───────────┴───────────┴───────────┴──────────┘"
      ]
     },
     "metadata": {},
     "output_type": "display_data"
    }
   ],
   "source": [
    "with pl.Config(tbl_rows=500):\n",
    "    display(info_df.filter(pl.col('gender').list.len() > 1).transpose(include_header=True))"
   ]
  },
  {
   "cell_type": "code",
   "execution_count": 60,
   "metadata": {},
   "outputs": [
    {
     "data": {
      "text/plain": [
       "True"
      ]
     },
     "execution_count": 60,
     "metadata": {},
     "output_type": "execute_result"
    }
   ],
   "source": [
    "(info_df['numeric_id'] == info_df['id'].str.replace('Q', '')).all()"
   ]
  },
  {
   "cell_type": "markdown",
   "metadata": {},
   "source": [
    "# Time Series Clustering"
   ]
  },
  {
   "cell_type": "code",
   "execution_count": null,
   "metadata": {},
   "outputs": [],
   "source": [
    "views_df = pl.read_parquet(PROCESSED_DATA_DIR / 'pageviews_all.parquet')"
   ]
  },
  {
   "cell_type": "code",
   "execution_count": 98,
   "metadata": {},
   "outputs": [
    {
     "data": {
      "text/html": [
       "<div><style>\n",
       ".dataframe > thead > tr,\n",
       ".dataframe > tbody > tr {\n",
       "  text-align: right;\n",
       "  white-space: pre-wrap;\n",
       "}\n",
       "</style>\n",
       "<small>shape: (30, 105)</small><table border=\"1\" class=\"dataframe\"><thead><tr><th>title</th><th>2015-05</th><th>2015-06</th><th>2015-07</th><th>2015-08</th><th>2015-09</th><th>2015-10</th><th>2015-11</th><th>2015-12</th><th>2016-01</th><th>2016-02</th><th>2016-03</th><th>2016-04</th><th>2016-05</th><th>2016-06</th><th>2016-07</th><th>2016-08</th><th>2016-09</th><th>2016-10</th><th>2016-11</th><th>2016-12</th><th>2017-01</th><th>2017-02</th><th>2017-03</th><th>2017-04</th><th>2017-05</th><th>2017-06</th><th>2017-07</th><th>2017-08</th><th>2017-09</th><th>2017-10</th><th>2017-11</th><th>2017-12</th><th>2018-01</th><th>2018-02</th><th>2018-03</th><th>2018-04</th><th>&hellip;</th><th>2020-12</th><th>2021-01</th><th>2021-02</th><th>2021-03</th><th>2021-04</th><th>2021-05</th><th>2021-06</th><th>2021-07</th><th>2021-08</th><th>2021-09</th><th>2021-10</th><th>2021-11</th><th>2021-12</th><th>2022-01</th><th>2022-02</th><th>2022-03</th><th>2022-04</th><th>2022-05</th><th>2022-06</th><th>2022-07</th><th>2022-08</th><th>2022-09</th><th>2022-10</th><th>2022-11</th><th>2022-12</th><th>2023-01</th><th>2023-02</th><th>2023-03</th><th>2023-04</th><th>2023-05</th><th>2023-06</th><th>2023-07</th><th>2023-08</th><th>2023-09</th><th>2023-10</th><th>2023-11</th><th>2023-12</th></tr><tr><td>str</td><td>i64</td><td>i64</td><td>i64</td><td>i64</td><td>i64</td><td>i64</td><td>i64</td><td>i64</td><td>i64</td><td>i64</td><td>i64</td><td>i64</td><td>i64</td><td>i64</td><td>i64</td><td>i64</td><td>i64</td><td>i64</td><td>i64</td><td>i64</td><td>i64</td><td>i64</td><td>i64</td><td>i64</td><td>i64</td><td>i64</td><td>i64</td><td>i64</td><td>i64</td><td>i64</td><td>i64</td><td>i64</td><td>i64</td><td>i64</td><td>i64</td><td>i64</td><td>&hellip;</td><td>i64</td><td>i64</td><td>i64</td><td>i64</td><td>i64</td><td>i64</td><td>i64</td><td>i64</td><td>i64</td><td>i64</td><td>i64</td><td>i64</td><td>i64</td><td>i64</td><td>i64</td><td>i64</td><td>i64</td><td>i64</td><td>i64</td><td>i64</td><td>i64</td><td>i64</td><td>i64</td><td>i64</td><td>i64</td><td>i64</td><td>i64</td><td>i64</td><td>i64</td><td>i64</td><td>i64</td><td>i64</td><td>i64</td><td>i64</td><td>i64</td><td>i64</td><td>i64</td></tr></thead><tbody><tr><td>&quot;Neophyte_II_of…</td><td>null</td><td>null</td><td>null</td><td>null</td><td>null</td><td>null</td><td>null</td><td>null</td><td>null</td><td>null</td><td>null</td><td>null</td><td>null</td><td>null</td><td>null</td><td>null</td><td>null</td><td>null</td><td>null</td><td>null</td><td>null</td><td>null</td><td>null</td><td>null</td><td>null</td><td>null</td><td>null</td><td>null</td><td>null</td><td>null</td><td>null</td><td>null</td><td>null</td><td>null</td><td>null</td><td>null</td><td>&hellip;</td><td>null</td><td>null</td><td>null</td><td>null</td><td>null</td><td>14</td><td>17</td><td>26</td><td>10</td><td>17</td><td>24</td><td>29</td><td>32</td><td>51</td><td>20</td><td>36</td><td>46</td><td>32</td><td>119</td><td>27</td><td>32</td><td>18</td><td>26</td><td>22</td><td>30</td><td>30</td><td>26</td><td>35</td><td>33</td><td>33</td><td>26</td><td>25</td><td>24</td><td>29</td><td>44</td><td>23</td><td>25</td></tr><tr><td>&quot;Olivia_Giovett…</td><td>26</td><td>34</td><td>52</td><td>20</td><td>41</td><td>40</td><td>19</td><td>21</td><td>27</td><td>23</td><td>32</td><td>21</td><td>32</td><td>29</td><td>57</td><td>47</td><td>31</td><td>21</td><td>24</td><td>15</td><td>42</td><td>17</td><td>45</td><td>30</td><td>25</td><td>34</td><td>36</td><td>22</td><td>22</td><td>22</td><td>16</td><td>28</td><td>30</td><td>34</td><td>22</td><td>19</td><td>&hellip;</td><td>39</td><td>30</td><td>32</td><td>34</td><td>37</td><td>29</td><td>14</td><td>26</td><td>24</td><td>36</td><td>39</td><td>35</td><td>20</td><td>63</td><td>33</td><td>39</td><td>19</td><td>19</td><td>30</td><td>20</td><td>14</td><td>21</td><td>35</td><td>52</td><td>25</td><td>25</td><td>33</td><td>20</td><td>18</td><td>22</td><td>31</td><td>26</td><td>16</td><td>20</td><td>59</td><td>41</td><td>19</td></tr><tr><td>&quot;Alexander_Gran…</td><td>9</td><td>48</td><td>24</td><td>23</td><td>32</td><td>24</td><td>12</td><td>20</td><td>19</td><td>7</td><td>8</td><td>14</td><td>18</td><td>27</td><td>11</td><td>23</td><td>12</td><td>19</td><td>15</td><td>17</td><td>11</td><td>13</td><td>26</td><td>14</td><td>16</td><td>18</td><td>13</td><td>20</td><td>13</td><td>26</td><td>16</td><td>19</td><td>32</td><td>14</td><td>18</td><td>12</td><td>&hellip;</td><td>5</td><td>13</td><td>9</td><td>12</td><td>11</td><td>9</td><td>14</td><td>19</td><td>9</td><td>7</td><td>5</td><td>11</td><td>4</td><td>11</td><td>9</td><td>7</td><td>9</td><td>9</td><td>4</td><td>5</td><td>12</td><td>72</td><td>6</td><td>10</td><td>10</td><td>10</td><td>2</td><td>7</td><td>10</td><td>7</td><td>2</td><td>7</td><td>4</td><td>9</td><td>10</td><td>1</td><td>5</td></tr><tr><td>&quot;Bernard_H._Rae…</td><td>17</td><td>16</td><td>21</td><td>20</td><td>19</td><td>18</td><td>10</td><td>9</td><td>17</td><td>5</td><td>8</td><td>10</td><td>5</td><td>28</td><td>19</td><td>11</td><td>17</td><td>14</td><td>13</td><td>19</td><td>16</td><td>13</td><td>24</td><td>18</td><td>10</td><td>10</td><td>14</td><td>13</td><td>14</td><td>19</td><td>5</td><td>15</td><td>26</td><td>12</td><td>13</td><td>10</td><td>&hellip;</td><td>2</td><td>1</td><td>4</td><td>1</td><td>5</td><td>5</td><td>3</td><td>5</td><td>2</td><td>2</td><td>3</td><td>4</td><td>null</td><td>12</td><td>4</td><td>3</td><td>2</td><td>1</td><td>4</td><td>null</td><td>1</td><td>3</td><td>8</td><td>6</td><td>3</td><td>1</td><td>5</td><td>1</td><td>3</td><td>5</td><td>7</td><td>3</td><td>1</td><td>2</td><td>null</td><td>1</td><td>2</td></tr><tr><td>&quot;Leigh_Magar&quot;</td><td>47</td><td>46</td><td>64</td><td>36</td><td>56</td><td>45</td><td>41</td><td>26</td><td>30</td><td>48</td><td>15</td><td>26</td><td>19</td><td>38</td><td>28</td><td>38</td><td>37</td><td>51</td><td>24</td><td>36</td><td>17</td><td>15</td><td>45</td><td>39</td><td>26</td><td>22</td><td>21</td><td>14</td><td>19</td><td>23</td><td>16</td><td>32</td><td>36</td><td>21</td><td>18</td><td>20</td><td>&hellip;</td><td>8</td><td>8</td><td>9</td><td>13</td><td>6</td><td>3</td><td>12</td><td>13</td><td>12</td><td>5</td><td>8</td><td>8</td><td>11</td><td>3</td><td>9</td><td>8</td><td>13</td><td>13</td><td>9</td><td>20</td><td>9</td><td>8</td><td>14</td><td>27</td><td>14</td><td>13</td><td>20</td><td>13</td><td>10</td><td>9</td><td>5</td><td>9</td><td>9</td><td>8</td><td>5</td><td>10</td><td>2</td></tr><tr><td>&quot;Carolyn_Stanfo…</td><td>null</td><td>null</td><td>null</td><td>null</td><td>null</td><td>null</td><td>null</td><td>null</td><td>null</td><td>null</td><td>null</td><td>null</td><td>null</td><td>null</td><td>null</td><td>null</td><td>null</td><td>null</td><td>null</td><td>null</td><td>null</td><td>null</td><td>null</td><td>null</td><td>null</td><td>null</td><td>null</td><td>null</td><td>null</td><td>null</td><td>null</td><td>null</td><td>null</td><td>null</td><td>null</td><td>null</td><td>&hellip;</td><td>221</td><td>294</td><td>359</td><td>286</td><td>650</td><td>202</td><td>170</td><td>169</td><td>83</td><td>97</td><td>107</td><td>112</td><td>70</td><td>78</td><td>88</td><td>64</td><td>54</td><td>78</td><td>84</td><td>74</td><td>131</td><td>74</td><td>86</td><td>180</td><td>105</td><td>75</td><td>76</td><td>73</td><td>105</td><td>56</td><td>50</td><td>89</td><td>86</td><td>59</td><td>58</td><td>50</td><td>42</td></tr><tr><td>&quot;Boncho_Novakov…</td><td>16</td><td>18</td><td>26</td><td>19</td><td>21</td><td>16</td><td>11</td><td>14</td><td>18</td><td>6</td><td>6</td><td>15</td><td>4</td><td>10</td><td>10</td><td>15</td><td>14</td><td>12</td><td>11</td><td>18</td><td>14</td><td>4</td><td>22</td><td>13</td><td>15</td><td>16</td><td>8</td><td>13</td><td>11</td><td>8</td><td>7</td><td>14</td><td>18</td><td>9</td><td>7</td><td>11</td><td>&hellip;</td><td>4</td><td>7</td><td>5</td><td>3</td><td>18</td><td>39</td><td>5</td><td>3</td><td>5</td><td>5</td><td>2</td><td>4</td><td>5</td><td>3</td><td>5</td><td>5</td><td>4</td><td>6</td><td>7</td><td>3</td><td>4</td><td>5</td><td>5</td><td>5</td><td>3</td><td>9</td><td>2</td><td>3</td><td>4</td><td>4</td><td>3</td><td>7</td><td>9</td><td>2</td><td>3</td><td>2</td><td>3</td></tr><tr><td>&quot;Margaret_Hodge…</td><td>5665</td><td>2932</td><td>2420</td><td>2482</td><td>3097</td><td>2693</td><td>1955</td><td>1867</td><td>3365</td><td>2059</td><td>1808</td><td>3435</td><td>4174</td><td>12893</td><td>4331</td><td>4311</td><td>3434</td><td>2573</td><td>2110</td><td>1829</td><td>1813</td><td>1953</td><td>1667</td><td>2523</td><td>2442</td><td>3777</td><td>1705</td><td>1577</td><td>5159</td><td>1650</td><td>3699</td><td>1623</td><td>2057</td><td>1368</td><td>2277</td><td>2749</td><td>&hellip;</td><td>2260</td><td>1819</td><td>2069</td><td>1605</td><td>1630</td><td>1890</td><td>2082</td><td>1391</td><td>1126</td><td>1351</td><td>2217</td><td>1430</td><td>4400</td><td>1788</td><td>2612</td><td>1680</td><td>1471</td><td>1743</td><td>1336</td><td>2097</td><td>1272</td><td>1918</td><td>2196</td><td>1194</td><td>1204</td><td>1536</td><td>2234</td><td>1909</td><td>1311</td><td>1261</td><td>3170</td><td>2097</td><td>1026</td><td>1335</td><td>5767</td><td>2327</td><td>3310</td></tr><tr><td>&quot;Carmen_Belén_R…</td><td>null</td><td>null</td><td>null</td><td>null</td><td>null</td><td>25</td><td>26</td><td>31</td><td>27</td><td>60</td><td>35</td><td>32</td><td>29</td><td>20</td><td>20</td><td>51</td><td>23</td><td>31</td><td>37</td><td>31</td><td>59</td><td>46</td><td>51</td><td>35</td><td>28</td><td>31</td><td>34</td><td>34</td><td>25</td><td>42</td><td>27</td><td>39</td><td>118</td><td>56</td><td>36</td><td>46</td><td>&hellip;</td><td>17</td><td>24</td><td>56</td><td>80</td><td>25</td><td>32</td><td>31</td><td>13</td><td>24</td><td>25</td><td>18</td><td>27</td><td>27</td><td>18</td><td>46</td><td>54</td><td>20</td><td>24</td><td>30</td><td>12</td><td>14</td><td>12</td><td>25</td><td>27</td><td>10</td><td>31</td><td>36</td><td>63</td><td>29</td><td>12</td><td>10</td><td>15</td><td>36</td><td>20</td><td>15</td><td>20</td><td>17</td></tr><tr><td>&quot;M._Satish_Redd…</td><td>null</td><td>null</td><td>null</td><td>null</td><td>null</td><td>null</td><td>null</td><td>null</td><td>null</td><td>null</td><td>null</td><td>null</td><td>null</td><td>null</td><td>null</td><td>null</td><td>null</td><td>null</td><td>null</td><td>null</td><td>null</td><td>null</td><td>null</td><td>null</td><td>null</td><td>null</td><td>null</td><td>null</td><td>null</td><td>32</td><td>49</td><td>104</td><td>102</td><td>84</td><td>138</td><td>277</td><td>&hellip;</td><td>111</td><td>152</td><td>78</td><td>79</td><td>62</td><td>590</td><td>93</td><td>119</td><td>317</td><td>128</td><td>66</td><td>63</td><td>99</td><td>78</td><td>79</td><td>104</td><td>109</td><td>121</td><td>200</td><td>129</td><td>144</td><td>156</td><td>121</td><td>158</td><td>266</td><td>233</td><td>280</td><td>313</td><td>517</td><td>1188</td><td>155</td><td>119</td><td>136</td><td>128</td><td>90</td><td>124</td><td>158</td></tr><tr><td>&quot;Carlos_Carneir…</td><td>null</td><td>null</td><td>null</td><td>null</td><td>null</td><td>null</td><td>null</td><td>null</td><td>null</td><td>null</td><td>null</td><td>null</td><td>null</td><td>null</td><td>null</td><td>null</td><td>null</td><td>null</td><td>null</td><td>null</td><td>null</td><td>null</td><td>null</td><td>null</td><td>null</td><td>null</td><td>null</td><td>null</td><td>null</td><td>null</td><td>null</td><td>null</td><td>null</td><td>null</td><td>null</td><td>null</td><td>&hellip;</td><td>5</td><td>4</td><td>7</td><td>3</td><td>5</td><td>7</td><td>4</td><td>6</td><td>5</td><td>3</td><td>10</td><td>17</td><td>5</td><td>5</td><td>5</td><td>4</td><td>7</td><td>3</td><td>10</td><td>1</td><td>6</td><td>10</td><td>10</td><td>10</td><td>4</td><td>2</td><td>1</td><td>5</td><td>6</td><td>7</td><td>3</td><td>3</td><td>3</td><td>2</td><td>3</td><td>5</td><td>1</td></tr><tr><td>&quot;Niko_Springer&quot;</td><td>null</td><td>null</td><td>null</td><td>null</td><td>null</td><td>null</td><td>null</td><td>null</td><td>null</td><td>null</td><td>null</td><td>null</td><td>null</td><td>null</td><td>null</td><td>null</td><td>null</td><td>null</td><td>null</td><td>null</td><td>null</td><td>null</td><td>null</td><td>null</td><td>null</td><td>null</td><td>null</td><td>null</td><td>null</td><td>null</td><td>null</td><td>null</td><td>null</td><td>null</td><td>null</td><td>null</td><td>&hellip;</td><td>null</td><td>null</td><td>null</td><td>null</td><td>null</td><td>null</td><td>null</td><td>null</td><td>null</td><td>null</td><td>null</td><td>null</td><td>null</td><td>null</td><td>null</td><td>32</td><td>19</td><td>9</td><td>42</td><td>20</td><td>14</td><td>24</td><td>35</td><td>106</td><td>71</td><td>103</td><td>160</td><td>66</td><td>137</td><td>14</td><td>8</td><td>9</td><td>13</td><td>4</td><td>21</td><td>73</td><td>23</td></tr><tr><td>&quot;Arnd_Goldschmi…</td><td>30</td><td>33</td><td>24</td><td>33</td><td>41</td><td>20</td><td>8</td><td>22</td><td>14</td><td>9</td><td>22</td><td>13</td><td>19</td><td>24</td><td>11</td><td>16</td><td>25</td><td>22</td><td>13</td><td>23</td><td>16</td><td>9</td><td>31</td><td>22</td><td>17</td><td>19</td><td>15</td><td>22</td><td>24</td><td>12</td><td>11</td><td>17</td><td>25</td><td>12</td><td>12</td><td>15</td><td>&hellip;</td><td>6</td><td>8</td><td>6</td><td>5</td><td>4</td><td>6</td><td>3</td><td>4</td><td>12</td><td>5</td><td>3</td><td>3</td><td>6</td><td>2</td><td>null</td><td>3</td><td>6</td><td>16</td><td>4</td><td>6</td><td>2</td><td>3</td><td>6</td><td>2</td><td>2</td><td>1</td><td>5</td><td>1</td><td>5</td><td>7</td><td>3</td><td>2</td><td>5</td><td>1</td><td>1</td><td>3</td><td>3</td></tr><tr><td>&quot;Douglas_Durst&quot;</td><td>5586</td><td>4709</td><td>3786</td><td>3935</td><td>3832</td><td>3260</td><td>3946</td><td>6639</td><td>6854</td><td>4619</td><td>2613</td><td>3380</td><td>2588</td><td>1947</td><td>2138</td><td>3486</td><td>2927</td><td>2395</td><td>2651</td><td>4052</td><td>2498</td><td>3319</td><td>2000</td><td>1819</td><td>2278</td><td>1822</td><td>2251</td><td>1965</td><td>2438</td><td>2011</td><td>2639</td><td>1562</td><td>1925</td><td>1780</td><td>2212</td><td>2293</td><td>&hellip;</td><td>1435</td><td>1451</td><td>1496</td><td>1836</td><td>4293</td><td>2973</td><td>1998</td><td>2027</td><td>4772</td><td>11096</td><td>12383</td><td>2670</td><td>1549</td><td>13969</td><td>1447</td><td>2341</td><td>1557</td><td>1305</td><td>1342</td><td>1260</td><td>1552</td><td>1112</td><td>1093</td><td>1036</td><td>1060</td><td>1150</td><td>1153</td><td>1489</td><td>1039</td><td>1152</td><td>1224</td><td>1133</td><td>1177</td><td>881</td><td>985</td><td>898</td><td>1032</td></tr><tr><td>&quot;Tássio&quot;</td><td>null</td><td>null</td><td>null</td><td>null</td><td>null</td><td>null</td><td>null</td><td>null</td><td>null</td><td>null</td><td>null</td><td>null</td><td>null</td><td>null</td><td>null</td><td>null</td><td>null</td><td>null</td><td>null</td><td>null</td><td>null</td><td>null</td><td>null</td><td>null</td><td>null</td><td>null</td><td>null</td><td>null</td><td>null</td><td>null</td><td>null</td><td>null</td><td>null</td><td>null</td><td>null</td><td>null</td><td>&hellip;</td><td>null</td><td>null</td><td>null</td><td>null</td><td>null</td><td>null</td><td>null</td><td>null</td><td>null</td><td>null</td><td>null</td><td>6</td><td>9</td><td>14</td><td>10</td><td>10</td><td>11</td><td>8</td><td>15</td><td>23</td><td>25</td><td>13</td><td>21</td><td>14</td><td>16</td><td>14</td><td>10</td><td>11</td><td>17</td><td>12</td><td>8</td><td>13</td><td>6</td><td>19</td><td>8</td><td>10</td><td>16</td></tr><tr><td>&quot;Bryant_Bowles&quot;</td><td>123</td><td>151</td><td>122</td><td>103</td><td>161</td><td>125</td><td>87</td><td>102</td><td>96</td><td>126</td><td>131</td><td>225</td><td>110</td><td>71</td><td>111</td><td>107</td><td>104</td><td>88</td><td>107</td><td>94</td><td>109</td><td>93</td><td>123</td><td>246</td><td>98</td><td>85</td><td>77</td><td>138</td><td>60</td><td>75</td><td>93</td><td>87</td><td>106</td><td>90</td><td>79</td><td>208</td><td>&hellip;</td><td>50</td><td>78</td><td>81</td><td>71</td><td>123</td><td>59</td><td>51</td><td>55</td><td>64</td><td>53</td><td>58</td><td>48</td><td>84</td><td>32</td><td>49</td><td>46</td><td>92</td><td>65</td><td>41</td><td>38</td><td>40</td><td>32</td><td>53</td><td>40</td><td>47</td><td>49</td><td>43</td><td>41</td><td>114</td><td>48</td><td>53</td><td>16</td><td>293</td><td>101</td><td>60</td><td>55</td><td>54</td></tr><tr><td>&quot;Josef_Hermann_…</td><td>51</td><td>48</td><td>32</td><td>40</td><td>37</td><td>33</td><td>28</td><td>25</td><td>25</td><td>18</td><td>12</td><td>23</td><td>24</td><td>25</td><td>22</td><td>31</td><td>21</td><td>30</td><td>32</td><td>31</td><td>37</td><td>16</td><td>36</td><td>32</td><td>25</td><td>27</td><td>21</td><td>12</td><td>13</td><td>20</td><td>15</td><td>16</td><td>24</td><td>24</td><td>33</td><td>17</td><td>&hellip;</td><td>22</td><td>36</td><td>46</td><td>29</td><td>38</td><td>30</td><td>32</td><td>24</td><td>18</td><td>24</td><td>23</td><td>26</td><td>28</td><td>39</td><td>30</td><td>47</td><td>23</td><td>33</td><td>25</td><td>32</td><td>41</td><td>53</td><td>30</td><td>22</td><td>15</td><td>27</td><td>18</td><td>20</td><td>23</td><td>20</td><td>24</td><td>8</td><td>23</td><td>24</td><td>19</td><td>13</td><td>19</td></tr><tr><td>&quot;Mark_Fox_(bask…</td><td>506</td><td>311</td><td>325</td><td>306</td><td>320</td><td>470</td><td>633</td><td>868</td><td>1026</td><td>889</td><td>1936</td><td>619</td><td>279</td><td>220</td><td>242</td><td>242</td><td>259</td><td>327</td><td>875</td><td>699</td><td>1274</td><td>2452</td><td>2669</td><td>610</td><td>288</td><td>256</td><td>189</td><td>221</td><td>246</td><td>446</td><td>659</td><td>760</td><td>1630</td><td>2895</td><td>7533</td><td>771</td><td>&hellip;</td><td>758</td><td>864</td><td>878</td><td>1932</td><td>1100</td><td>334</td><td>240</td><td>184</td><td>221</td><td>251</td><td>376</td><td>911</td><td>618</td><td>1029</td><td>1140</td><td>2474</td><td>477</td><td>286</td><td>282</td><td>241</td><td>294</td><td>315</td><td>367</td><td>1485</td><td>1774</td><td>1056</td><td>1594</td><td>5186</td><td>624</td><td>330</td><td>252</td><td>239</td><td>253</td><td>266</td><td>253</td><td>586</td><td>398</td></tr><tr><td>&quot;Nina_Kemppel&quot;</td><td>23</td><td>34</td><td>35</td><td>28</td><td>62</td><td>26</td><td>15</td><td>24</td><td>28</td><td>19</td><td>21</td><td>28</td><td>15</td><td>19</td><td>28</td><td>38</td><td>25</td><td>28</td><td>16</td><td>30</td><td>29</td><td>17</td><td>28</td><td>25</td><td>17</td><td>28</td><td>17</td><td>21</td><td>20</td><td>32</td><td>22</td><td>28</td><td>50</td><td>95</td><td>35</td><td>34</td><td>&hellip;</td><td>16</td><td>22</td><td>10</td><td>15</td><td>11</td><td>7</td><td>16</td><td>27</td><td>15</td><td>9</td><td>11</td><td>17</td><td>16</td><td>30</td><td>34</td><td>10</td><td>18</td><td>4</td><td>11</td><td>17</td><td>13</td><td>15</td><td>12</td><td>17</td><td>11</td><td>13</td><td>10</td><td>25</td><td>10</td><td>9</td><td>8</td><td>15</td><td>15</td><td>14</td><td>13</td><td>9</td><td>10</td></tr><tr><td>&quot;Mirza_Abu_Tale…</td><td>null</td><td>null</td><td>null</td><td>null</td><td>null</td><td>null</td><td>null</td><td>null</td><td>null</td><td>null</td><td>null</td><td>null</td><td>null</td><td>null</td><td>null</td><td>null</td><td>null</td><td>209</td><td>131</td><td>57</td><td>127</td><td>132</td><td>129</td><td>106</td><td>106</td><td>104</td><td>68</td><td>80</td><td>76</td><td>80</td><td>105</td><td>125</td><td>134</td><td>131</td><td>112</td><td>93</td><td>&hellip;</td><td>104</td><td>130</td><td>147</td><td>181</td><td>142</td><td>124</td><td>115</td><td>99</td><td>97</td><td>80</td><td>145</td><td>164</td><td>79</td><td>103</td><td>130</td><td>139</td><td>164</td><td>130</td><td>61</td><td>79</td><td>85</td><td>96</td><td>94</td><td>83</td><td>66</td><td>115</td><td>108</td><td>129</td><td>102</td><td>92</td><td>84</td><td>105</td><td>121</td><td>106</td><td>138</td><td>114</td><td>115</td></tr><tr><td>&quot;George_Rea&quot;</td><td>49</td><td>57</td><td>46</td><td>121</td><td>56</td><td>36</td><td>24</td><td>28</td><td>27</td><td>17</td><td>18</td><td>22</td><td>14</td><td>13</td><td>24</td><td>21</td><td>30</td><td>30</td><td>20</td><td>34</td><td>25</td><td>15</td><td>29</td><td>36</td><td>49</td><td>38</td><td>36</td><td>40</td><td>47</td><td>51</td><td>57</td><td>55</td><td>92</td><td>30</td><td>38</td><td>25</td><td>&hellip;</td><td>20</td><td>16</td><td>19</td><td>25</td><td>15</td><td>33</td><td>16</td><td>21</td><td>30</td><td>14</td><td>18</td><td>27</td><td>22</td><td>20</td><td>18</td><td>19</td><td>20</td><td>32</td><td>25</td><td>19</td><td>17</td><td>23</td><td>28</td><td>21</td><td>9</td><td>19</td><td>9</td><td>15</td><td>26</td><td>26</td><td>18</td><td>29</td><td>11</td><td>11</td><td>16</td><td>15</td><td>11</td></tr><tr><td>&quot;Helena_Carr&quot;</td><td>232</td><td>207</td><td>209</td><td>306</td><td>387</td><td>226</td><td>202</td><td>201</td><td>174</td><td>320</td><td>183</td><td>176</td><td>193</td><td>176</td><td>254</td><td>327</td><td>262</td><td>189</td><td>242</td><td>164</td><td>218</td><td>214</td><td>201</td><td>198</td><td>169</td><td>204</td><td>179</td><td>178</td><td>163</td><td>206</td><td>207</td><td>133</td><td>163</td><td>190</td><td>291</td><td>209</td><td>&hellip;</td><td>148</td><td>107</td><td>136</td><td>180</td><td>116</td><td>152</td><td>155</td><td>178</td><td>188</td><td>239</td><td>404</td><td>192</td><td>158</td><td>150</td><td>298</td><td>149</td><td>108</td><td>265</td><td>160</td><td>128</td><td>103</td><td>89</td><td>112</td><td>87</td><td>71</td><td>135</td><td>100</td><td>246</td><td>113</td><td>112</td><td>109</td><td>91</td><td>115</td><td>131</td><td>14895</td><td>7987</td><td>148</td></tr><tr><td>&quot;Ólöf_Pálsdótti…</td><td>null</td><td>null</td><td>null</td><td>null</td><td>null</td><td>null</td><td>null</td><td>null</td><td>null</td><td>null</td><td>null</td><td>null</td><td>null</td><td>null</td><td>null</td><td>null</td><td>null</td><td>null</td><td>null</td><td>null</td><td>null</td><td>null</td><td>null</td><td>null</td><td>null</td><td>null</td><td>null</td><td>null</td><td>null</td><td>null</td><td>null</td><td>null</td><td>null</td><td>null</td><td>null</td><td>null</td><td>&hellip;</td><td>28</td><td>21</td><td>17</td><td>18</td><td>17</td><td>12</td><td>13</td><td>7</td><td>7</td><td>20</td><td>25</td><td>10</td><td>8</td><td>23</td><td>10</td><td>18</td><td>12</td><td>18</td><td>9</td><td>15</td><td>12</td><td>22</td><td>20</td><td>18</td><td>12</td><td>24</td><td>12</td><td>11</td><td>31</td><td>22</td><td>12</td><td>12</td><td>9</td><td>16</td><td>14</td><td>15</td><td>13</td></tr><tr><td>&quot;Mosese_Tuipulo…</td><td>null</td><td>null</td><td>null</td><td>null</td><td>null</td><td>null</td><td>null</td><td>null</td><td>null</td><td>null</td><td>null</td><td>null</td><td>null</td><td>null</td><td>null</td><td>null</td><td>null</td><td>null</td><td>null</td><td>null</td><td>null</td><td>null</td><td>null</td><td>null</td><td>null</td><td>null</td><td>null</td><td>null</td><td>null</td><td>null</td><td>null</td><td>null</td><td>null</td><td>null</td><td>null</td><td>null</td><td>&hellip;</td><td>null</td><td>null</td><td>null</td><td>null</td><td>null</td><td>null</td><td>null</td><td>null</td><td>null</td><td>null</td><td>null</td><td>null</td><td>null</td><td>null</td><td>null</td><td>null</td><td>null</td><td>null</td><td>null</td><td>null</td><td>null</td><td>null</td><td>null</td><td>null</td><td>null</td><td>null</td><td>null</td><td>125</td><td>99</td><td>126</td><td>92</td><td>72</td><td>170</td><td>350</td><td>121</td><td>74</td><td>53</td></tr><tr><td>&quot;Ali-Akbar_Fayy…</td><td>30</td><td>52</td><td>32</td><td>27</td><td>36</td><td>32</td><td>27</td><td>24</td><td>26</td><td>22</td><td>16</td><td>12</td><td>23</td><td>23</td><td>26</td><td>15</td><td>23</td><td>8</td><td>10</td><td>18</td><td>16</td><td>19</td><td>21</td><td>21</td><td>9</td><td>12</td><td>18</td><td>9</td><td>15</td><td>17</td><td>13</td><td>23</td><td>25</td><td>8</td><td>10</td><td>12</td><td>&hellip;</td><td>4</td><td>4</td><td>5</td><td>19</td><td>4</td><td>5</td><td>11</td><td>4</td><td>7</td><td>5</td><td>13</td><td>12</td><td>3</td><td>6</td><td>7</td><td>7</td><td>4</td><td>19</td><td>28</td><td>13</td><td>3</td><td>72</td><td>9</td><td>7</td><td>5</td><td>8</td><td>1</td><td>6</td><td>6</td><td>5</td><td>9</td><td>8</td><td>5</td><td>2</td><td>5</td><td>2</td><td>9</td></tr><tr><td>&quot;Caleb_Hopkins_…</td><td>43</td><td>27</td><td>47</td><td>81</td><td>31</td><td>38</td><td>28</td><td>26</td><td>43</td><td>31</td><td>77</td><td>31</td><td>20</td><td>26</td><td>25</td><td>38</td><td>34</td><td>36</td><td>31</td><td>62</td><td>59</td><td>23</td><td>42</td><td>38</td><td>45</td><td>23</td><td>20</td><td>27</td><td>25</td><td>38</td><td>23</td><td>53</td><td>45</td><td>26</td><td>19</td><td>42</td><td>&hellip;</td><td>17</td><td>18</td><td>24</td><td>29</td><td>16</td><td>18</td><td>18</td><td>19</td><td>16</td><td>17</td><td>14</td><td>28</td><td>41</td><td>16</td><td>17</td><td>18</td><td>22</td><td>13</td><td>19</td><td>17</td><td>27</td><td>21</td><td>31</td><td>16</td><td>14</td><td>20</td><td>20</td><td>17</td><td>14</td><td>18</td><td>27</td><td>12</td><td>20</td><td>21</td><td>23</td><td>11</td><td>8</td></tr><tr><td>&quot;Alan_van_der_M…</td><td>195</td><td>232</td><td>238</td><td>233</td><td>225</td><td>255</td><td>205</td><td>151</td><td>173</td><td>124</td><td>156</td><td>174</td><td>180</td><td>185</td><td>192</td><td>192</td><td>194</td><td>153</td><td>179</td><td>161</td><td>209</td><td>234</td><td>189</td><td>159</td><td>172</td><td>146</td><td>171</td><td>117</td><td>399</td><td>228</td><td>353</td><td>130</td><td>153</td><td>122</td><td>241</td><td>186</td><td>&hellip;</td><td>5049</td><td>991</td><td>566</td><td>2098</td><td>1315</td><td>982</td><td>719</td><td>1142</td><td>3452</td><td>1118</td><td>2061</td><td>795</td><td>1294</td><td>1712</td><td>572</td><td>925</td><td>670</td><td>555</td><td>633</td><td>841</td><td>534</td><td>373</td><td>560</td><td>314</td><td>334</td><td>264</td><td>338</td><td>607</td><td>369</td><td>316</td><td>373</td><td>360</td><td>288</td><td>351</td><td>352</td><td>350</td><td>243</td></tr><tr><td>&quot;John_Cassidy_(…</td><td>85</td><td>80</td><td>115</td><td>89</td><td>83</td><td>83</td><td>81</td><td>77</td><td>60</td><td>76</td><td>64</td><td>42</td><td>72</td><td>41</td><td>51</td><td>92</td><td>63</td><td>65</td><td>45</td><td>61</td><td>56</td><td>56</td><td>75</td><td>56</td><td>51</td><td>48</td><td>54</td><td>48</td><td>39</td><td>46</td><td>47</td><td>33</td><td>64</td><td>53</td><td>42</td><td>59</td><td>&hellip;</td><td>20</td><td>42</td><td>25</td><td>31</td><td>45</td><td>22</td><td>29</td><td>20</td><td>32</td><td>38</td><td>24</td><td>19</td><td>26</td><td>39</td><td>25</td><td>34</td><td>35</td><td>33</td><td>40</td><td>41</td><td>39</td><td>36</td><td>47</td><td>31</td><td>27</td><td>42</td><td>34</td><td>29</td><td>14</td><td>26</td><td>24</td><td>30</td><td>45</td><td>49</td><td>32</td><td>26</td><td>26</td></tr><tr><td>&quot;Gaston_Amson&quot;</td><td>38</td><td>29</td><td>43</td><td>32</td><td>37</td><td>43</td><td>24</td><td>45</td><td>27</td><td>22</td><td>18</td><td>22</td><td>28</td><td>27</td><td>27</td><td>41</td><td>36</td><td>47</td><td>43</td><td>51</td><td>53</td><td>35</td><td>75</td><td>57</td><td>50</td><td>27</td><td>17</td><td>15</td><td>16</td><td>17</td><td>18</td><td>40</td><td>37</td><td>24</td><td>24</td><td>31</td><td>&hellip;</td><td>9</td><td>6</td><td>9</td><td>12</td><td>12</td><td>8</td><td>9</td><td>15</td><td>13</td><td>9</td><td>8</td><td>11</td><td>11</td><td>21</td><td>10</td><td>16</td><td>11</td><td>8</td><td>7</td><td>11</td><td>10</td><td>15</td><td>12</td><td>9</td><td>9</td><td>11</td><td>11</td><td>3</td><td>11</td><td>4</td><td>18</td><td>13</td><td>14</td><td>14</td><td>6</td><td>9</td><td>11</td></tr><tr><td>&quot;Mike_Prax&quot;</td><td>null</td><td>null</td><td>null</td><td>null</td><td>null</td><td>null</td><td>null</td><td>null</td><td>null</td><td>null</td><td>null</td><td>null</td><td>null</td><td>null</td><td>null</td><td>null</td><td>null</td><td>null</td><td>null</td><td>null</td><td>null</td><td>null</td><td>null</td><td>null</td><td>null</td><td>null</td><td>null</td><td>null</td><td>null</td><td>null</td><td>null</td><td>null</td><td>null</td><td>null</td><td>null</td><td>null</td><td>&hellip;</td><td>64</td><td>92</td><td>57</td><td>67</td><td>39</td><td>34</td><td>39</td><td>34</td><td>23</td><td>20</td><td>32</td><td>37</td><td>24</td><td>29</td><td>36</td><td>29</td><td>64</td><td>35</td><td>38</td><td>22</td><td>49</td><td>48</td><td>23</td><td>45</td><td>35</td><td>65</td><td>57</td><td>41</td><td>38</td><td>32</td><td>37</td><td>30</td><td>34</td><td>24</td><td>47</td><td>27</td><td>30</td></tr></tbody></table></div>"
      ],
      "text/plain": [
       "shape: (30, 105)\n",
       "┌────────────────────────┬─────────┬─────────┬─────────┬───┬─────────┬─────────┬─────────┬─────────┐\n",
       "│ title                  ┆ 2015-05 ┆ 2015-06 ┆ 2015-07 ┆ … ┆ 2023-09 ┆ 2023-10 ┆ 2023-11 ┆ 2023-12 │\n",
       "│ ---                    ┆ ---     ┆ ---     ┆ ---     ┆   ┆ ---     ┆ ---     ┆ ---     ┆ ---     │\n",
       "│ str                    ┆ i64     ┆ i64     ┆ i64     ┆   ┆ i64     ┆ i64     ┆ i64     ┆ i64     │\n",
       "╞════════════════════════╪═════════╪═════════╪═════════╪═══╪═════════╪═════════╪═════════╪═════════╡\n",
       "│ Neophyte_II_of_Ungro-W ┆ null    ┆ null    ┆ null    ┆ … ┆ 29      ┆ 44      ┆ 23      ┆ 25      │\n",
       "│ allachia               ┆         ┆         ┆         ┆   ┆         ┆         ┆         ┆         │\n",
       "│ Olivia_Giovetti        ┆ 26      ┆ 34      ┆ 52      ┆ … ┆ 20      ┆ 59      ┆ 41      ┆ 19      │\n",
       "│ Alexander_Grant_McLean ┆ 9       ┆ 48      ┆ 24      ┆ … ┆ 9       ┆ 10      ┆ 1       ┆ 5       │\n",
       "│ Bernard_H._Raether     ┆ 17      ┆ 16      ┆ 21      ┆ … ┆ 2       ┆ null    ┆ 1       ┆ 2       │\n",
       "│ Leigh_Magar            ┆ 47      ┆ 46      ┆ 64      ┆ … ┆ 8       ┆ 5       ┆ 10      ┆ 2       │\n",
       "│ Carolyn_Stanford_Taylo ┆ null    ┆ null    ┆ null    ┆ … ┆ 59      ┆ 58      ┆ 50      ┆ 42      │\n",
       "│ r                      ┆         ┆         ┆         ┆   ┆         ┆         ┆         ┆         │\n",
       "│ Boncho_Novakov         ┆ 16      ┆ 18      ┆ 26      ┆ … ┆ 2       ┆ 3       ┆ 2       ┆ 3       │\n",
       "│ Margaret_Hodge         ┆ 5665    ┆ 2932    ┆ 2420    ┆ … ┆ 1335    ┆ 5767    ┆ 2327    ┆ 3310    │\n",
       "│ Carmen_Belén_Richardso ┆ null    ┆ null    ┆ null    ┆ … ┆ 20      ┆ 15      ┆ 20      ┆ 17      │\n",
       "│ n                      ┆         ┆         ┆         ┆   ┆         ┆         ┆         ┆         │\n",
       "│ M._Satish_Reddy        ┆ null    ┆ null    ┆ null    ┆ … ┆ 128     ┆ 90      ┆ 124     ┆ 158     │\n",
       "│ Carlos_Carneiro_(cycli ┆ null    ┆ null    ┆ null    ┆ … ┆ 2       ┆ 3       ┆ 5       ┆ 1       │\n",
       "│ st)                    ┆         ┆         ┆         ┆   ┆         ┆         ┆         ┆         │\n",
       "│ Niko_Springer          ┆ null    ┆ null    ┆ null    ┆ … ┆ 4       ┆ 21      ┆ 73      ┆ 23      │\n",
       "│ Arnd_Goldschmidt       ┆ 30      ┆ 33      ┆ 24      ┆ … ┆ 1       ┆ 1       ┆ 3       ┆ 3       │\n",
       "│ Douglas_Durst          ┆ 5586    ┆ 4709    ┆ 3786    ┆ … ┆ 881     ┆ 985     ┆ 898     ┆ 1032    │\n",
       "│ Tássio                 ┆ null    ┆ null    ┆ null    ┆ … ┆ 19      ┆ 8       ┆ 10      ┆ 16      │\n",
       "│ Bryant_Bowles          ┆ 123     ┆ 151     ┆ 122     ┆ … ┆ 101     ┆ 60      ┆ 55      ┆ 54      │\n",
       "│ Josef_Hermann_Tautenha ┆ 51      ┆ 48      ┆ 32      ┆ … ┆ 24      ┆ 19      ┆ 13      ┆ 19      │\n",
       "│ yn                     ┆         ┆         ┆         ┆   ┆         ┆         ┆         ┆         │\n",
       "│ Mark_Fox_(basketball)  ┆ 506     ┆ 311     ┆ 325     ┆ … ┆ 266     ┆ 253     ┆ 586     ┆ 398     │\n",
       "│ Nina_Kemppel           ┆ 23      ┆ 34      ┆ 35      ┆ … ┆ 14      ┆ 13      ┆ 9       ┆ 10      │\n",
       "│ Mirza_Abu_Taleb_Khan   ┆ null    ┆ null    ┆ null    ┆ … ┆ 106     ┆ 138     ┆ 114     ┆ 115     │\n",
       "│ George_Rea             ┆ 49      ┆ 57      ┆ 46      ┆ … ┆ 11      ┆ 16      ┆ 15      ┆ 11      │\n",
       "│ Helena_Carr            ┆ 232     ┆ 207     ┆ 209     ┆ … ┆ 131     ┆ 14895   ┆ 7987    ┆ 148     │\n",
       "│ Ólöf_Pálsdóttir        ┆ null    ┆ null    ┆ null    ┆ … ┆ 16      ┆ 14      ┆ 15      ┆ 13      │\n",
       "│ Mosese_Tuipulotu       ┆ null    ┆ null    ┆ null    ┆ … ┆ 350     ┆ 121     ┆ 74      ┆ 53      │\n",
       "│ Ali-Akbar_Fayyaz       ┆ 30      ┆ 52      ┆ 32      ┆ … ┆ 2       ┆ 5       ┆ 2       ┆ 9       │\n",
       "│ Caleb_Hopkins_(colonel ┆ 43      ┆ 27      ┆ 47      ┆ … ┆ 21      ┆ 23      ┆ 11      ┆ 8       │\n",
       "│ )                      ┆         ┆         ┆         ┆   ┆         ┆         ┆         ┆         │\n",
       "│ Alan_van_der_Merwe     ┆ 195     ┆ 232     ┆ 238     ┆ … ┆ 351     ┆ 352     ┆ 350     ┆ 243     │\n",
       "│ John_Cassidy_(magician ┆ 85      ┆ 80      ┆ 115     ┆ … ┆ 49      ┆ 32      ┆ 26      ┆ 26      │\n",
       "│ )                      ┆         ┆         ┆         ┆   ┆         ┆         ┆         ┆         │\n",
       "│ Gaston_Amson           ┆ 38      ┆ 29      ┆ 43      ┆ … ┆ 14      ┆ 6       ┆ 9       ┆ 11      │\n",
       "│ Mike_Prax              ┆ null    ┆ null    ┆ null    ┆ … ┆ 24      ┆ 47      ┆ 27      ┆ 30      │\n",
       "└────────────────────────┴─────────┴─────────┴─────────┴───┴─────────┴─────────┴─────────┴─────────┘"
      ]
     },
     "execution_count": 98,
     "metadata": {},
     "output_type": "execute_result"
    }
   ],
   "source": [
    "views_df[:30]"
   ]
  },
  {
   "cell_type": "code",
   "execution_count": 118,
   "metadata": {},
   "outputs": [
    {
     "data": {
      "text/plain": [
       "array([[ 0,  0,  0, ..., 44, 23, 25],\n",
       "       [26, 34, 52, ..., 59, 41, 19],\n",
       "       [ 9, 48, 24, ..., 10,  1,  5],\n",
       "       ...,\n",
       "       [40, 29, 34, ...,  3,  1,  2],\n",
       "       [23, 52, 38, ...,  8,  7,  6],\n",
       "       [ 0,  0,  0, ..., 16,  8,  7]])"
      ]
     },
     "execution_count": 118,
     "metadata": {},
     "output_type": "execute_result"
    }
   ],
   "source": [
    "X_train = views_df.select([col for col in views_df.columns if col != 'title']).fill_null(0).to_numpy()\n",
    "X_train"
   ]
  },
  {
   "cell_type": "code",
   "execution_count": 119,
   "metadata": {},
   "outputs": [
    {
     "data": {
      "text/plain": [
       "(1976658, 104)"
      ]
     },
     "execution_count": 119,
     "metadata": {},
     "output_type": "execute_result"
    }
   ],
   "source": [
    "X_train.shape"
   ]
  },
  {
   "cell_type": "code",
   "execution_count": 120,
   "metadata": {},
   "outputs": [
    {
     "data": {
      "text/html": [
       "<pre style=\"white-space:pre;overflow-x:auto;line-height:normal;font-family:Menlo,'DejaVu Sans Mono',consolas,'Courier New',monospace\">Euclidean k-means\n",
       "</pre>\n"
      ],
      "text/plain": [
       "Euclidean k-means\n"
      ]
     },
     "metadata": {},
     "output_type": "display_data"
    },
    {
     "name": "stdout",
     "output_type": "stream",
     "text": [
      "143.854 --> 76.592 --> "
     ]
    },
    {
     "ename": "KeyboardInterrupt",
     "evalue": "",
     "output_type": "error",
     "traceback": [
      "\u001b[0;31m---------------------------------------------------------------------------\u001b[0m",
      "\u001b[0;31mKeyboardInterrupt\u001b[0m                         Traceback (most recent call last)",
      "Cell \u001b[0;32mIn[120], line 20\u001b[0m\n\u001b[1;32m     17\u001b[0m \u001b[38;5;28mprint\u001b[39m(\u001b[38;5;124m\"\u001b[39m\u001b[38;5;124mEuclidean k-means\u001b[39m\u001b[38;5;124m\"\u001b[39m)\n\u001b[1;32m     18\u001b[0m km \u001b[38;5;241m=\u001b[39m TimeSeriesKMeans(n_clusters\u001b[38;5;241m=\u001b[39m\u001b[38;5;241m3\u001b[39m, verbose\u001b[38;5;241m=\u001b[39m\u001b[38;5;28;01mTrue\u001b[39;00m, random_state\u001b[38;5;241m=\u001b[39mseed,\n\u001b[1;32m     19\u001b[0m n_jobs\u001b[38;5;241m=\u001b[39m\u001b[38;5;241m-\u001b[39m\u001b[38;5;241m1\u001b[39m)\n\u001b[0;32m---> 20\u001b[0m y_pred \u001b[38;5;241m=\u001b[39m \u001b[43mkm\u001b[49m\u001b[38;5;241;43m.\u001b[39;49m\u001b[43mfit_predict\u001b[49m\u001b[43m(\u001b[49m\u001b[43mX_train\u001b[49m\u001b[43m)\u001b[49m\n\u001b[1;32m     22\u001b[0m plt\u001b[38;5;241m.\u001b[39mfigure()\n\u001b[1;32m     23\u001b[0m \u001b[38;5;28;01mfor\u001b[39;00m yi \u001b[38;5;129;01min\u001b[39;00m \u001b[38;5;28mrange\u001b[39m(\u001b[38;5;241m3\u001b[39m):\n",
      "File \u001b[0;32m~/.conda/envs/big_data_project/lib/python3.12/site-packages/tslearn/clustering/kmeans.py:854\u001b[0m, in \u001b[0;36mTimeSeriesKMeans.fit_predict\u001b[0;34m(self, X, y)\u001b[0m\n\u001b[1;32m    834\u001b[0m \u001b[38;5;250m\u001b[39m\u001b[38;5;124;03m\"\"\"Fit k-means clustering using X and then predict the closest cluster\u001b[39;00m\n\u001b[1;32m    835\u001b[0m \u001b[38;5;124;03meach time series in X belongs to.\u001b[39;00m\n\u001b[1;32m    836\u001b[0m \n\u001b[0;32m   (...)\u001b[0m\n\u001b[1;32m    851\u001b[0m \u001b[38;5;124;03m    Index of the cluster each sample belongs to.\u001b[39;00m\n\u001b[1;32m    852\u001b[0m \u001b[38;5;124;03m\"\"\"\u001b[39;00m\n\u001b[1;32m    853\u001b[0m X \u001b[38;5;241m=\u001b[39m check_array(X, allow_nd\u001b[38;5;241m=\u001b[39m\u001b[38;5;28;01mTrue\u001b[39;00m, force_all_finite\u001b[38;5;241m=\u001b[39m\u001b[38;5;124m\"\u001b[39m\u001b[38;5;124mallow-nan\u001b[39m\u001b[38;5;124m\"\u001b[39m)\n\u001b[0;32m--> 854\u001b[0m \u001b[38;5;28;01mreturn\u001b[39;00m \u001b[38;5;28;43mself\u001b[39;49m\u001b[38;5;241;43m.\u001b[39;49m\u001b[43mfit\u001b[49m\u001b[43m(\u001b[49m\u001b[43mX\u001b[49m\u001b[43m,\u001b[49m\u001b[43m \u001b[49m\u001b[43my\u001b[49m\u001b[43m)\u001b[49m\u001b[38;5;241m.\u001b[39mlabels_\n",
      "File \u001b[0;32m~/.conda/envs/big_data_project/lib/python3.12/site-packages/tslearn/clustering/kmeans.py:821\u001b[0m, in \u001b[0;36mTimeSeriesKMeans.fit\u001b[0;34m(self, X, y)\u001b[0m\n\u001b[1;32m    819\u001b[0m     \u001b[38;5;28mprint\u001b[39m(\u001b[38;5;124m\"\u001b[39m\u001b[38;5;124mInit \u001b[39m\u001b[38;5;132;01m%d\u001b[39;00m\u001b[38;5;124m\"\u001b[39m \u001b[38;5;241m%\u001b[39m (n_successful \u001b[38;5;241m+\u001b[39m \u001b[38;5;241m1\u001b[39m))\n\u001b[1;32m    820\u001b[0m n_attempts \u001b[38;5;241m+\u001b[39m\u001b[38;5;241m=\u001b[39m \u001b[38;5;241m1\u001b[39m\n\u001b[0;32m--> 821\u001b[0m \u001b[38;5;28;43mself\u001b[39;49m\u001b[38;5;241;43m.\u001b[39;49m\u001b[43m_fit_one_init\u001b[49m\u001b[43m(\u001b[49m\u001b[43mX_\u001b[49m\u001b[43m,\u001b[49m\u001b[43m \u001b[49m\u001b[43mx_squared_norms\u001b[49m\u001b[43m,\u001b[49m\u001b[43m \u001b[49m\u001b[43mrs\u001b[49m\u001b[43m)\u001b[49m\n\u001b[1;32m    822\u001b[0m \u001b[38;5;28;01mif\u001b[39;00m \u001b[38;5;28mself\u001b[39m\u001b[38;5;241m.\u001b[39minertia_ \u001b[38;5;241m<\u001b[39m min_inertia:\n\u001b[1;32m    823\u001b[0m     best_correct_centroids \u001b[38;5;241m=\u001b[39m \u001b[38;5;28mself\u001b[39m\u001b[38;5;241m.\u001b[39mcluster_centers_\u001b[38;5;241m.\u001b[39mcopy()\n",
      "File \u001b[0;32m~/.conda/envs/big_data_project/lib/python3.12/site-packages/tslearn/clustering/kmeans.py:690\u001b[0m, in \u001b[0;36mTimeSeriesKMeans._fit_one_init\u001b[0;34m(self, X, x_squared_norms, rs)\u001b[0m\n\u001b[1;32m    688\u001b[0m \u001b[38;5;28;01mif\u001b[39;00m \u001b[38;5;28mself\u001b[39m\u001b[38;5;241m.\u001b[39mverbose:\n\u001b[1;32m    689\u001b[0m     \u001b[38;5;28mprint\u001b[39m(\u001b[38;5;124m\"\u001b[39m\u001b[38;5;132;01m%.3f\u001b[39;00m\u001b[38;5;124m\"\u001b[39m \u001b[38;5;241m%\u001b[39m \u001b[38;5;28mself\u001b[39m\u001b[38;5;241m.\u001b[39minertia_, end\u001b[38;5;241m=\u001b[39m\u001b[38;5;124m\"\u001b[39m\u001b[38;5;124m --> \u001b[39m\u001b[38;5;124m\"\u001b[39m)\n\u001b[0;32m--> 690\u001b[0m \u001b[38;5;28;43mself\u001b[39;49m\u001b[38;5;241;43m.\u001b[39;49m\u001b[43m_update_centroids\u001b[49m\u001b[43m(\u001b[49m\u001b[43mX\u001b[49m\u001b[43m)\u001b[49m\n\u001b[1;32m    692\u001b[0m \u001b[38;5;28;01mif\u001b[39;00m numpy\u001b[38;5;241m.\u001b[39mabs(old_inertia \u001b[38;5;241m-\u001b[39m \u001b[38;5;28mself\u001b[39m\u001b[38;5;241m.\u001b[39minertia_) \u001b[38;5;241m<\u001b[39m \u001b[38;5;28mself\u001b[39m\u001b[38;5;241m.\u001b[39mtol:\n\u001b[1;32m    693\u001b[0m     \u001b[38;5;28;01mbreak\u001b[39;00m\n",
      "File \u001b[0;32m~/.conda/envs/big_data_project/lib/python3.12/site-packages/tslearn/clustering/kmeans.py:762\u001b[0m, in \u001b[0;36mTimeSeriesKMeans._update_centroids\u001b[0;34m(self, X)\u001b[0m\n\u001b[1;32m    755\u001b[0m     \u001b[38;5;28mself\u001b[39m\u001b[38;5;241m.\u001b[39mcluster_centers_[k] \u001b[38;5;241m=\u001b[39m softdtw_barycenter(\n\u001b[1;32m    756\u001b[0m         X\u001b[38;5;241m=\u001b[39mX[\u001b[38;5;28mself\u001b[39m\u001b[38;5;241m.\u001b[39mlabels_ \u001b[38;5;241m==\u001b[39m k],\n\u001b[1;32m    757\u001b[0m         max_iter\u001b[38;5;241m=\u001b[39m\u001b[38;5;28mself\u001b[39m\u001b[38;5;241m.\u001b[39mmax_iter_barycenter,\n\u001b[1;32m    758\u001b[0m         init\u001b[38;5;241m=\u001b[39m\u001b[38;5;28mself\u001b[39m\u001b[38;5;241m.\u001b[39mcluster_centers_[k],\n\u001b[1;32m    759\u001b[0m         \u001b[38;5;241m*\u001b[39m\u001b[38;5;241m*\u001b[39mmetric_params\n\u001b[1;32m    760\u001b[0m     )\n\u001b[1;32m    761\u001b[0m \u001b[38;5;28;01melse\u001b[39;00m:\n\u001b[0;32m--> 762\u001b[0m     \u001b[38;5;28mself\u001b[39m\u001b[38;5;241m.\u001b[39mcluster_centers_[k] \u001b[38;5;241m=\u001b[39m \u001b[43meuclidean_barycenter\u001b[49m\u001b[43m(\u001b[49m\u001b[43mX\u001b[49m\u001b[38;5;241;43m=\u001b[39;49m\u001b[43mX\u001b[49m\u001b[43m[\u001b[49m\u001b[38;5;28;43mself\u001b[39;49m\u001b[38;5;241;43m.\u001b[39;49m\u001b[43mlabels_\u001b[49m\u001b[43m \u001b[49m\u001b[38;5;241;43m==\u001b[39;49m\u001b[43m \u001b[49m\u001b[43mk\u001b[49m\u001b[43m]\u001b[49m\u001b[43m)\u001b[49m\n",
      "File \u001b[0;32m~/.conda/envs/big_data_project/lib/python3.12/site-packages/tslearn/barycenters/euclidean.py:42\u001b[0m, in \u001b[0;36meuclidean_barycenter\u001b[0;34m(X, weights)\u001b[0m\n\u001b[1;32m      9\u001b[0m \u001b[38;5;28;01mdef\u001b[39;00m \u001b[38;5;21meuclidean_barycenter\u001b[39m(X, weights\u001b[38;5;241m=\u001b[39m\u001b[38;5;28;01mNone\u001b[39;00m):\n\u001b[1;32m     10\u001b[0m \u001b[38;5;250m    \u001b[39m\u001b[38;5;124;03m\"\"\"Standard Euclidean barycenter computed from a set of time series.\u001b[39;00m\n\u001b[1;32m     11\u001b[0m \n\u001b[1;32m     12\u001b[0m \u001b[38;5;124;03m    Parameters\u001b[39;00m\n\u001b[0;32m   (...)\u001b[0m\n\u001b[1;32m     40\u001b[0m \u001b[38;5;124;03m           [4.5]])\u001b[39;00m\n\u001b[1;32m     41\u001b[0m \u001b[38;5;124;03m    \"\"\"\u001b[39;00m\n\u001b[0;32m---> 42\u001b[0m     X_ \u001b[38;5;241m=\u001b[39m \u001b[43mto_time_series_dataset\u001b[49m\u001b[43m(\u001b[49m\u001b[43mX\u001b[49m\u001b[43m)\u001b[49m\n\u001b[1;32m     43\u001b[0m     weights \u001b[38;5;241m=\u001b[39m _set_weights(weights, X_\u001b[38;5;241m.\u001b[39mshape[\u001b[38;5;241m0\u001b[39m])\n\u001b[1;32m     44\u001b[0m     \u001b[38;5;28;01mreturn\u001b[39;00m numpy\u001b[38;5;241m.\u001b[39maverage(X_, axis\u001b[38;5;241m=\u001b[39m\u001b[38;5;241m0\u001b[39m, weights\u001b[38;5;241m=\u001b[39mweights)\n",
      "File \u001b[0;32m~/.conda/envs/big_data_project/lib/python3.12/site-packages/tslearn/utils/utils.py:226\u001b[0m, in \u001b[0;36mto_time_series_dataset\u001b[0;34m(dataset, dtype, be)\u001b[0m\n\u001b[1;32m    223\u001b[0m     dataset \u001b[38;5;241m=\u001b[39m [dataset]\n\u001b[1;32m    224\u001b[0m n_ts \u001b[38;5;241m=\u001b[39m \u001b[38;5;28mlen\u001b[39m(dataset)\n\u001b[1;32m    225\u001b[0m max_sz \u001b[38;5;241m=\u001b[39m \u001b[38;5;28mmax\u001b[39m(\n\u001b[0;32m--> 226\u001b[0m     [\u001b[43mts_size\u001b[49m\u001b[43m(\u001b[49m\u001b[43mto_time_series\u001b[49m\u001b[43m(\u001b[49m\u001b[43mts\u001b[49m\u001b[43m,\u001b[49m\u001b[43m \u001b[49m\u001b[43mremove_nans\u001b[49m\u001b[38;5;241;43m=\u001b[39;49m\u001b[38;5;28;43;01mTrue\u001b[39;49;00m\u001b[43m,\u001b[49m\u001b[43m \u001b[49m\u001b[43mbe\u001b[49m\u001b[38;5;241;43m=\u001b[39;49m\u001b[43mbe\u001b[49m\u001b[43m)\u001b[49m\u001b[43m)\u001b[49m \u001b[38;5;28;01mfor\u001b[39;00m ts \u001b[38;5;129;01min\u001b[39;00m dataset]\n\u001b[1;32m    227\u001b[0m )\n\u001b[1;32m    228\u001b[0m d \u001b[38;5;241m=\u001b[39m be\u001b[38;5;241m.\u001b[39mshape(to_time_series(dataset[\u001b[38;5;241m0\u001b[39m], be\u001b[38;5;241m=\u001b[39mbe))[\u001b[38;5;241m1\u001b[39m]\n\u001b[1;32m    229\u001b[0m dataset_out \u001b[38;5;241m=\u001b[39m be\u001b[38;5;241m.\u001b[39mzeros((n_ts, max_sz, d), dtype\u001b[38;5;241m=\u001b[39mdtype) \u001b[38;5;241m+\u001b[39m be\u001b[38;5;241m.\u001b[39mnan\n",
      "File \u001b[0;32m~/.conda/envs/big_data_project/lib/python3.12/site-packages/tslearn/utils/utils.py:445\u001b[0m, in \u001b[0;36mts_size\u001b[0;34m(ts, be)\u001b[0m\n\u001b[1;32m    404\u001b[0m \u001b[38;5;28;01mdef\u001b[39;00m \u001b[38;5;21mts_size\u001b[39m(ts, be\u001b[38;5;241m=\u001b[39m\u001b[38;5;28;01mNone\u001b[39;00m):\n\u001b[1;32m    405\u001b[0m \u001b[38;5;250m    \u001b[39m\u001b[38;5;124;03m\"\"\"Returns actual time series size.\u001b[39;00m\n\u001b[1;32m    406\u001b[0m \n\u001b[1;32m    407\u001b[0m \u001b[38;5;124;03m    Final timesteps that have `NaN` values for all dimensions will be removed\u001b[39;00m\n\u001b[0;32m   (...)\u001b[0m\n\u001b[1;32m    443\u001b[0m \u001b[38;5;124;03m    3\u001b[39;00m\n\u001b[1;32m    444\u001b[0m \u001b[38;5;124;03m    \"\"\"\u001b[39;00m\n\u001b[0;32m--> 445\u001b[0m     be \u001b[38;5;241m=\u001b[39m \u001b[43minstantiate_backend\u001b[49m\u001b[43m(\u001b[49m\u001b[43mbe\u001b[49m\u001b[43m,\u001b[49m\u001b[43m \u001b[49m\u001b[43mts\u001b[49m\u001b[43m)\u001b[49m\n\u001b[1;32m    446\u001b[0m     ts_ \u001b[38;5;241m=\u001b[39m to_time_series(ts, be\u001b[38;5;241m=\u001b[39mbe)\n\u001b[1;32m    447\u001b[0m     sz \u001b[38;5;241m=\u001b[39m be\u001b[38;5;241m.\u001b[39mshape(ts_)[\u001b[38;5;241m0\u001b[39m]\n",
      "File \u001b[0;32m~/.conda/envs/big_data_project/lib/python3.12/site-packages/tslearn/backend/backend.py:35\u001b[0m, in \u001b[0;36minstantiate_backend\u001b[0;34m(*args)\u001b[0m\n\u001b[1;32m     33\u001b[0m     \u001b[38;5;28;01mreturn\u001b[39;00m arg\n\u001b[1;32m     34\u001b[0m \u001b[38;5;28;01mif\u001b[39;00m \u001b[38;5;124m\"\u001b[39m\u001b[38;5;124mnumpy\u001b[39m\u001b[38;5;124m\"\u001b[39m \u001b[38;5;129;01min\u001b[39;00m \u001b[38;5;124mf\u001b[39m\u001b[38;5;124m\"\u001b[39m\u001b[38;5;132;01m{\u001b[39;00m\u001b[38;5;28mtype\u001b[39m(arg)\u001b[38;5;132;01m}\u001b[39;00m\u001b[38;5;124m\"\u001b[39m \u001b[38;5;129;01mor\u001b[39;00m \u001b[38;5;124m\"\u001b[39m\u001b[38;5;124mnumpy\u001b[39m\u001b[38;5;124m\"\u001b[39m \u001b[38;5;129;01min\u001b[39;00m \u001b[38;5;124mf\u001b[39m\u001b[38;5;124m\"\u001b[39m\u001b[38;5;132;01m{\u001b[39;00marg\u001b[38;5;132;01m}\u001b[39;00m\u001b[38;5;124m\"\u001b[39m\u001b[38;5;241m.\u001b[39mlower():\n\u001b[0;32m---> 35\u001b[0m     \u001b[38;5;28;01mreturn\u001b[39;00m \u001b[43mBackend\u001b[49m\u001b[43m(\u001b[49m\u001b[38;5;124;43m\"\u001b[39;49m\u001b[38;5;124;43mnumpy\u001b[39;49m\u001b[38;5;124;43m\"\u001b[39;49m\u001b[43m)\u001b[49m\n\u001b[1;32m     36\u001b[0m \u001b[38;5;28;01mif\u001b[39;00m \u001b[38;5;124m\"\u001b[39m\u001b[38;5;124mtorch\u001b[39m\u001b[38;5;124m\"\u001b[39m \u001b[38;5;129;01min\u001b[39;00m \u001b[38;5;124mf\u001b[39m\u001b[38;5;124m\"\u001b[39m\u001b[38;5;132;01m{\u001b[39;00m\u001b[38;5;28mtype\u001b[39m(arg)\u001b[38;5;132;01m}\u001b[39;00m\u001b[38;5;124m\"\u001b[39m \u001b[38;5;129;01mor\u001b[39;00m \u001b[38;5;124m\"\u001b[39m\u001b[38;5;124mtorch\u001b[39m\u001b[38;5;124m\"\u001b[39m \u001b[38;5;129;01min\u001b[39;00m \u001b[38;5;124mf\u001b[39m\u001b[38;5;124m\"\u001b[39m\u001b[38;5;132;01m{\u001b[39;00marg\u001b[38;5;132;01m}\u001b[39;00m\u001b[38;5;124m\"\u001b[39m\u001b[38;5;241m.\u001b[39mlower():\n\u001b[1;32m     37\u001b[0m     \u001b[38;5;28;01mreturn\u001b[39;00m Backend(\u001b[38;5;124m\"\u001b[39m\u001b[38;5;124mpytorch\u001b[39m\u001b[38;5;124m\"\u001b[39m)\n",
      "File \u001b[0;32m~/.conda/envs/big_data_project/lib/python3.12/site-packages/tslearn/backend/backend.py:83\u001b[0m, in \u001b[0;36mBackend.__init__\u001b[0;34m(self, data)\u001b[0m\n\u001b[1;32m     81\u001b[0m \u001b[38;5;28;01mfor\u001b[39;00m element \u001b[38;5;129;01min\u001b[39;00m \u001b[38;5;28mdir\u001b[39m(\u001b[38;5;28mself\u001b[39m\u001b[38;5;241m.\u001b[39mbackend):\n\u001b[1;32m     82\u001b[0m     \u001b[38;5;28;01mif\u001b[39;00m \u001b[38;5;124m\"\u001b[39m\u001b[38;5;124m__\u001b[39m\u001b[38;5;124m\"\u001b[39m \u001b[38;5;129;01mnot\u001b[39;00m \u001b[38;5;129;01min\u001b[39;00m element:\n\u001b[0;32m---> 83\u001b[0m         \u001b[38;5;28;43msetattr\u001b[39;49m\u001b[43m(\u001b[49m\u001b[38;5;28;43mself\u001b[39;49m\u001b[43m,\u001b[49m\u001b[43m \u001b[49m\u001b[43melement\u001b[49m\u001b[43m,\u001b[49m\u001b[43m \u001b[49m\u001b[38;5;28;43mgetattr\u001b[39;49m\u001b[43m(\u001b[49m\u001b[38;5;28;43mself\u001b[39;49m\u001b[38;5;241;43m.\u001b[39;49m\u001b[43mbackend\u001b[49m\u001b[43m,\u001b[49m\u001b[43m \u001b[49m\u001b[43melement\u001b[49m\u001b[43m)\u001b[49m\u001b[43m)\u001b[49m\n\u001b[1;32m     85\u001b[0m \u001b[38;5;28mself\u001b[39m\u001b[38;5;241m.\u001b[39mis_numpy \u001b[38;5;241m=\u001b[39m \u001b[38;5;28mself\u001b[39m\u001b[38;5;241m.\u001b[39mbackend_string \u001b[38;5;241m==\u001b[39m \u001b[38;5;124m\"\u001b[39m\u001b[38;5;124mnumpy\u001b[39m\u001b[38;5;124m\"\u001b[39m\n\u001b[1;32m     86\u001b[0m \u001b[38;5;28mself\u001b[39m\u001b[38;5;241m.\u001b[39mis_pytorch \u001b[38;5;241m=\u001b[39m \u001b[38;5;28mself\u001b[39m\u001b[38;5;241m.\u001b[39mbackend_string \u001b[38;5;241m==\u001b[39m \u001b[38;5;124m\"\u001b[39m\u001b[38;5;124mpytorch\u001b[39m\u001b[38;5;124m\"\u001b[39m\n",
      "\u001b[0;31mKeyboardInterrupt\u001b[0m: "
     ]
    }
   ],
   "source": [
    "import numpy\n",
    "import matplotlib.pyplot as plt\n",
    "\n",
    "from tslearn.clustering import TimeSeriesKMeans\n",
    "from tslearn.datasets import CachedDatasets\n",
    "from tslearn.preprocessing import TimeSeriesScalerMeanVariance, \\\n",
    "    TimeSeriesResampler\n",
    "\n",
    "seed = 0\n",
    "numpy.random.seed(seed)\n",
    "\n",
    "sz = X_train.shape[1]\n",
    "\n",
    "X_train = TimeSeriesScalerMeanVariance().fit_transform(X_train)\n",
    "\n",
    "# Euclidean k-means\n",
    "print(\"Euclidean k-means\")\n",
    "km = TimeSeriesKMeans(n_clusters=3, verbose=True, random_state=seed,\n",
    "n_jobs=-1)\n",
    "y_pred = km.fit_predict(X_train)\n",
    "\n",
    "plt.figure()\n",
    "for yi in range(3):\n",
    "    plt.subplot(3, 3, yi + 1)\n",
    "    for xx in X_train[y_pred == yi]:\n",
    "        plt.plot(xx.ravel(), \"k-\", alpha=.2)\n",
    "    plt.plot(km.cluster_centers_[yi].ravel(), \"r-\")\n",
    "    plt.xlim(0, sz)\n",
    "    plt.ylim(-4, 4)\n",
    "    plt.text(0.55, 0.85,'Cluster %d' % (yi + 1),\n",
    "             transform=plt.gca().transAxes)\n",
    "    if yi == 1:\n",
    "        plt.title(\"Euclidean $k$-means\")\n",
    "\n",
    "# DBA-k-means\n",
    "print(\"DBA k-means\")\n",
    "dba_km = TimeSeriesKMeans(n_clusters=3,\n",
    "                          n_init=2,\n",
    "                          metric=\"dtw\",\n",
    "                          verbose=True,\n",
    "                          max_iter_barycenter=10,\n",
    "                          random_state=seed,\n",
    "                          n_jobs=-1)\n",
    "y_pred = dba_km.fit_predict(X_train)\n",
    "\n",
    "for yi in range(3):\n",
    "    plt.subplot(3, 3, 4 + yi)\n",
    "    for xx in X_train[y_pred == yi]:\n",
    "        plt.plot(xx.ravel(), \"k-\", alpha=.2)\n",
    "    plt.plot(dba_km.cluster_centers_[yi].ravel(), \"r-\")\n",
    "    plt.xlim(0, sz)\n",
    "    plt.ylim(-4, 4)\n",
    "    plt.text(0.55, 0.85,'Cluster %d' % (yi + 1),\n",
    "             transform=plt.gca().transAxes)\n",
    "    if yi == 1:\n",
    "        plt.title(\"DBA $k$-means\")\n",
    "\n",
    "\n",
    "plt.tight_layout()\n",
    "plt.show()"
   ]
  },
  {
   "cell_type": "code",
   "execution_count": 112,
   "metadata": {},
   "outputs": [
    {
     "data": {
      "text/plain": [
       "70.60124743054607"
      ]
     },
     "execution_count": 112,
     "metadata": {},
     "output_type": "execute_result"
    }
   ],
   "source": [
    "km.inertia_"
   ]
  },
  {
   "cell_type": "code",
   "execution_count": 114,
   "metadata": {},
   "outputs": [
    {
     "data": {
      "text/plain": [
       "array([2, 1, 1, 0, 0, 2, 0, 1, 2, 1, 2, 2, 0, 0, 2, 0, 0, 1, 1, 2, 0, 1,\n",
       "       2, 2, 0, 0, 1, 0, 0, 2, 0, 1, 1, 2, 0, 0, 0, 0, 0, 0, 0, 0, 0, 0,\n",
       "       0, 0, 1, 0, 0, 0, 1, 1, 0, 2, 0, 1, 0, 2, 1, 0, 2, 0, 2, 0, 1, 2,\n",
       "       2, 2, 0, 0, 1, 1, 2, 2, 1, 1, 0, 1, 1, 0, 2, 0, 2, 0, 2, 1, 2, 0,\n",
       "       1, 1, 1, 1, 1, 0, 1, 0, 0, 2, 2, 2])"
      ]
     },
     "execution_count": 114,
     "metadata": {},
     "output_type": "execute_result"
    }
   ],
   "source": [
    "y_pred"
   ]
  },
  {
   "cell_type": "code",
   "execution_count": 115,
   "metadata": {},
   "outputs": [],
   "source": [
    "y = views_df[:100].with_columns(pl.Series(name='cluster', values=y_pred))"
   ]
  },
  {
   "cell_type": "markdown",
   "metadata": {},
   "source": [
    "https://github.com/aeon-toolkit/aeon/blob/4a58c4dba5bb37e43979368ad9cf092540e71786/examples/segmentation/segmentation_with_clasp.ipynb"
   ]
  }
 ],
 "metadata": {
  "kernelspec": {
   "display_name": "big_data_project",
   "language": "python",
   "name": "python3"
  },
  "language_info": {
   "codemirror_mode": {
    "name": "ipython",
    "version": 3
   },
   "file_extension": ".py",
   "mimetype": "text/x-python",
   "name": "python",
   "nbconvert_exporter": "python",
   "pygments_lexer": "ipython3",
   "version": "3.12.2"
  }
 },
 "nbformat": 4,
 "nbformat_minor": 2
}

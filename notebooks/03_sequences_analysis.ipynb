{
 "cells": [
  {
   "cell_type": "code",
   "execution_count": 1,
   "metadata": {},
   "outputs": [],
   "source": [
    "# imports\n",
    "import numpy as np\n",
    "import pandas as pd\n",
    "import polars as pl\n",
    "from pathlib import Path\n",
    "from tqdm import tqdm\n",
    "import matplotlib.pyplot as plt\n",
    "from dotenv import load_dotenv\n",
    "import os\n",
    "import json\n",
    "import seaborn as sns\n",
    "from rich import print\n",
    "import time\n",
    "\n",
    "load_dotenv()\n",
    "\n",
    "RAW_DATA_DIR = Path(os.getenv('RAW_DATA_DIR'))\n",
    "PROCESSED_DATA_DIR = Path(os.getenv('PROCESSED_DATA_DIR'))"
   ]
  },
  {
   "cell_type": "code",
   "execution_count": 2,
   "metadata": {},
   "outputs": [],
   "source": [
    "views_df = pl.read_parquet(PROCESSED_DATA_DIR / 'pageviews_all.parquet')\n",
    "info_df = pl.read_parquet(PROCESSED_DATA_DIR / 'people_data_all.parquet')"
   ]
  },
  {
   "cell_type": "code",
   "execution_count": 5,
   "metadata": {},
   "outputs": [
    {
     "data": {
      "text/html": [
       "<div><style>\n",
       ".dataframe > thead > tr,\n",
       ".dataframe > tbody > tr {\n",
       "  text-align: right;\n",
       "  white-space: pre-wrap;\n",
       "}\n",
       "</style>\n",
       "<small>shape: (1_976_658, 105)</small><table border=\"1\" class=\"dataframe\"><thead><tr><th>title</th><th>2015-05</th><th>2015-06</th><th>2015-07</th><th>2015-08</th><th>2015-09</th><th>2015-10</th><th>2015-11</th><th>2015-12</th><th>2016-01</th><th>2016-02</th><th>2016-03</th><th>2016-04</th><th>2016-05</th><th>2016-06</th><th>2016-07</th><th>2016-08</th><th>2016-09</th><th>2016-10</th><th>2016-11</th><th>2016-12</th><th>2017-01</th><th>2017-02</th><th>2017-03</th><th>2017-04</th><th>2017-05</th><th>2017-06</th><th>2017-07</th><th>2017-08</th><th>2017-09</th><th>2017-10</th><th>2017-11</th><th>2017-12</th><th>2018-01</th><th>2018-02</th><th>2018-03</th><th>2018-04</th><th>&hellip;</th><th>2020-12</th><th>2021-01</th><th>2021-02</th><th>2021-03</th><th>2021-04</th><th>2021-05</th><th>2021-06</th><th>2021-07</th><th>2021-08</th><th>2021-09</th><th>2021-10</th><th>2021-11</th><th>2021-12</th><th>2022-01</th><th>2022-02</th><th>2022-03</th><th>2022-04</th><th>2022-05</th><th>2022-06</th><th>2022-07</th><th>2022-08</th><th>2022-09</th><th>2022-10</th><th>2022-11</th><th>2022-12</th><th>2023-01</th><th>2023-02</th><th>2023-03</th><th>2023-04</th><th>2023-05</th><th>2023-06</th><th>2023-07</th><th>2023-08</th><th>2023-09</th><th>2023-10</th><th>2023-11</th><th>2023-12</th></tr><tr><td>str</td><td>i64</td><td>i64</td><td>i64</td><td>i64</td><td>i64</td><td>i64</td><td>i64</td><td>i64</td><td>i64</td><td>i64</td><td>i64</td><td>i64</td><td>i64</td><td>i64</td><td>i64</td><td>i64</td><td>i64</td><td>i64</td><td>i64</td><td>i64</td><td>i64</td><td>i64</td><td>i64</td><td>i64</td><td>i64</td><td>i64</td><td>i64</td><td>i64</td><td>i64</td><td>i64</td><td>i64</td><td>i64</td><td>i64</td><td>i64</td><td>i64</td><td>i64</td><td>&hellip;</td><td>i64</td><td>i64</td><td>i64</td><td>i64</td><td>i64</td><td>i64</td><td>i64</td><td>i64</td><td>i64</td><td>i64</td><td>i64</td><td>i64</td><td>i64</td><td>i64</td><td>i64</td><td>i64</td><td>i64</td><td>i64</td><td>i64</td><td>i64</td><td>i64</td><td>i64</td><td>i64</td><td>i64</td><td>i64</td><td>i64</td><td>i64</td><td>i64</td><td>i64</td><td>i64</td><td>i64</td><td>i64</td><td>i64</td><td>i64</td><td>i64</td><td>i64</td><td>i64</td></tr></thead><tbody><tr><td>&quot;Neophyte_II_of…</td><td>null</td><td>null</td><td>null</td><td>null</td><td>null</td><td>null</td><td>null</td><td>null</td><td>null</td><td>null</td><td>null</td><td>null</td><td>null</td><td>null</td><td>null</td><td>null</td><td>null</td><td>null</td><td>null</td><td>null</td><td>null</td><td>null</td><td>null</td><td>null</td><td>null</td><td>null</td><td>null</td><td>null</td><td>null</td><td>null</td><td>null</td><td>null</td><td>null</td><td>null</td><td>null</td><td>null</td><td>&hellip;</td><td>null</td><td>null</td><td>null</td><td>null</td><td>null</td><td>14</td><td>17</td><td>26</td><td>10</td><td>17</td><td>24</td><td>29</td><td>32</td><td>51</td><td>20</td><td>36</td><td>46</td><td>32</td><td>119</td><td>27</td><td>32</td><td>18</td><td>26</td><td>22</td><td>30</td><td>30</td><td>26</td><td>35</td><td>33</td><td>33</td><td>26</td><td>25</td><td>24</td><td>29</td><td>44</td><td>23</td><td>25</td></tr><tr><td>&quot;Olivia_Giovett…</td><td>26</td><td>34</td><td>52</td><td>20</td><td>41</td><td>40</td><td>19</td><td>21</td><td>27</td><td>23</td><td>32</td><td>21</td><td>32</td><td>29</td><td>57</td><td>47</td><td>31</td><td>21</td><td>24</td><td>15</td><td>42</td><td>17</td><td>45</td><td>30</td><td>25</td><td>34</td><td>36</td><td>22</td><td>22</td><td>22</td><td>16</td><td>28</td><td>30</td><td>34</td><td>22</td><td>19</td><td>&hellip;</td><td>39</td><td>30</td><td>32</td><td>34</td><td>37</td><td>29</td><td>14</td><td>26</td><td>24</td><td>36</td><td>39</td><td>35</td><td>20</td><td>63</td><td>33</td><td>39</td><td>19</td><td>19</td><td>30</td><td>20</td><td>14</td><td>21</td><td>35</td><td>52</td><td>25</td><td>25</td><td>33</td><td>20</td><td>18</td><td>22</td><td>31</td><td>26</td><td>16</td><td>20</td><td>59</td><td>41</td><td>19</td></tr><tr><td>&quot;Alexander_Gran…</td><td>9</td><td>48</td><td>24</td><td>23</td><td>32</td><td>24</td><td>12</td><td>20</td><td>19</td><td>7</td><td>8</td><td>14</td><td>18</td><td>27</td><td>11</td><td>23</td><td>12</td><td>19</td><td>15</td><td>17</td><td>11</td><td>13</td><td>26</td><td>14</td><td>16</td><td>18</td><td>13</td><td>20</td><td>13</td><td>26</td><td>16</td><td>19</td><td>32</td><td>14</td><td>18</td><td>12</td><td>&hellip;</td><td>5</td><td>13</td><td>9</td><td>12</td><td>11</td><td>9</td><td>14</td><td>19</td><td>9</td><td>7</td><td>5</td><td>11</td><td>4</td><td>11</td><td>9</td><td>7</td><td>9</td><td>9</td><td>4</td><td>5</td><td>12</td><td>72</td><td>6</td><td>10</td><td>10</td><td>10</td><td>2</td><td>7</td><td>10</td><td>7</td><td>2</td><td>7</td><td>4</td><td>9</td><td>10</td><td>1</td><td>5</td></tr><tr><td>&quot;Bernard_H._Rae…</td><td>17</td><td>16</td><td>21</td><td>20</td><td>19</td><td>18</td><td>10</td><td>9</td><td>17</td><td>5</td><td>8</td><td>10</td><td>5</td><td>28</td><td>19</td><td>11</td><td>17</td><td>14</td><td>13</td><td>19</td><td>16</td><td>13</td><td>24</td><td>18</td><td>10</td><td>10</td><td>14</td><td>13</td><td>14</td><td>19</td><td>5</td><td>15</td><td>26</td><td>12</td><td>13</td><td>10</td><td>&hellip;</td><td>2</td><td>1</td><td>4</td><td>1</td><td>5</td><td>5</td><td>3</td><td>5</td><td>2</td><td>2</td><td>3</td><td>4</td><td>null</td><td>12</td><td>4</td><td>3</td><td>2</td><td>1</td><td>4</td><td>null</td><td>1</td><td>3</td><td>8</td><td>6</td><td>3</td><td>1</td><td>5</td><td>1</td><td>3</td><td>5</td><td>7</td><td>3</td><td>1</td><td>2</td><td>null</td><td>1</td><td>2</td></tr><tr><td>&quot;Leigh_Magar&quot;</td><td>47</td><td>46</td><td>64</td><td>36</td><td>56</td><td>45</td><td>41</td><td>26</td><td>30</td><td>48</td><td>15</td><td>26</td><td>19</td><td>38</td><td>28</td><td>38</td><td>37</td><td>51</td><td>24</td><td>36</td><td>17</td><td>15</td><td>45</td><td>39</td><td>26</td><td>22</td><td>21</td><td>14</td><td>19</td><td>23</td><td>16</td><td>32</td><td>36</td><td>21</td><td>18</td><td>20</td><td>&hellip;</td><td>8</td><td>8</td><td>9</td><td>13</td><td>6</td><td>3</td><td>12</td><td>13</td><td>12</td><td>5</td><td>8</td><td>8</td><td>11</td><td>3</td><td>9</td><td>8</td><td>13</td><td>13</td><td>9</td><td>20</td><td>9</td><td>8</td><td>14</td><td>27</td><td>14</td><td>13</td><td>20</td><td>13</td><td>10</td><td>9</td><td>5</td><td>9</td><td>9</td><td>8</td><td>5</td><td>10</td><td>2</td></tr><tr><td>&hellip;</td><td>&hellip;</td><td>&hellip;</td><td>&hellip;</td><td>&hellip;</td><td>&hellip;</td><td>&hellip;</td><td>&hellip;</td><td>&hellip;</td><td>&hellip;</td><td>&hellip;</td><td>&hellip;</td><td>&hellip;</td><td>&hellip;</td><td>&hellip;</td><td>&hellip;</td><td>&hellip;</td><td>&hellip;</td><td>&hellip;</td><td>&hellip;</td><td>&hellip;</td><td>&hellip;</td><td>&hellip;</td><td>&hellip;</td><td>&hellip;</td><td>&hellip;</td><td>&hellip;</td><td>&hellip;</td><td>&hellip;</td><td>&hellip;</td><td>&hellip;</td><td>&hellip;</td><td>&hellip;</td><td>&hellip;</td><td>&hellip;</td><td>&hellip;</td><td>&hellip;</td><td>&hellip;</td><td>&hellip;</td><td>&hellip;</td><td>&hellip;</td><td>&hellip;</td><td>&hellip;</td><td>&hellip;</td><td>&hellip;</td><td>&hellip;</td><td>&hellip;</td><td>&hellip;</td><td>&hellip;</td><td>&hellip;</td><td>&hellip;</td><td>&hellip;</td><td>&hellip;</td><td>&hellip;</td><td>&hellip;</td><td>&hellip;</td><td>&hellip;</td><td>&hellip;</td><td>&hellip;</td><td>&hellip;</td><td>&hellip;</td><td>&hellip;</td><td>&hellip;</td><td>&hellip;</td><td>&hellip;</td><td>&hellip;</td><td>&hellip;</td><td>&hellip;</td><td>&hellip;</td><td>&hellip;</td><td>&hellip;</td><td>&hellip;</td><td>&hellip;</td><td>&hellip;</td><td>&hellip;</td></tr><tr><td>&quot;Edgar_Dibden&quot;</td><td>null</td><td>null</td><td>null</td><td>null</td><td>null</td><td>null</td><td>null</td><td>null</td><td>null</td><td>null</td><td>null</td><td>null</td><td>null</td><td>null</td><td>null</td><td>null</td><td>null</td><td>null</td><td>null</td><td>null</td><td>null</td><td>null</td><td>null</td><td>null</td><td>null</td><td>null</td><td>null</td><td>null</td><td>null</td><td>null</td><td>null</td><td>null</td><td>null</td><td>null</td><td>null</td><td>null</td><td>&hellip;</td><td>null</td><td>null</td><td>null</td><td>null</td><td>null</td><td>null</td><td>null</td><td>null</td><td>null</td><td>null</td><td>null</td><td>null</td><td>null</td><td>null</td><td>null</td><td>null</td><td>null</td><td>null</td><td>null</td><td>null</td><td>null</td><td>null</td><td>null</td><td>null</td><td>null</td><td>null</td><td>null</td><td>null</td><td>null</td><td>null</td><td>16</td><td>6</td><td>10</td><td>6</td><td>7</td><td>4</td><td>2</td></tr><tr><td>&quot;David_Mulready…</td><td>56</td><td>51</td><td>78</td><td>51</td><td>54</td><td>59</td><td>36</td><td>44</td><td>31</td><td>33</td><td>29</td><td>29</td><td>29</td><td>54</td><td>44</td><td>45</td><td>23</td><td>36</td><td>38</td><td>35</td><td>32</td><td>31</td><td>42</td><td>27</td><td>44</td><td>33</td><td>27</td><td>52</td><td>29</td><td>41</td><td>21</td><td>36</td><td>47</td><td>64</td><td>37</td><td>30</td><td>&hellip;</td><td>16</td><td>21</td><td>27</td><td>33</td><td>15</td><td>22</td><td>31</td><td>15</td><td>25</td><td>16</td><td>25</td><td>12</td><td>25</td><td>27</td><td>31</td><td>18</td><td>27</td><td>25</td><td>20</td><td>21</td><td>34</td><td>15</td><td>16</td><td>14</td><td>15</td><td>19</td><td>26</td><td>19</td><td>18</td><td>12</td><td>7</td><td>19</td><td>12</td><td>14</td><td>14</td><td>7</td><td>6</td></tr><tr><td>&quot;Bruno_Riem&quot;</td><td>40</td><td>29</td><td>34</td><td>17</td><td>31</td><td>29</td><td>22</td><td>31</td><td>14</td><td>8</td><td>8</td><td>16</td><td>13</td><td>16</td><td>7</td><td>17</td><td>24</td><td>16</td><td>20</td><td>14</td><td>14</td><td>7</td><td>23</td><td>16</td><td>25</td><td>14</td><td>13</td><td>15</td><td>13</td><td>20</td><td>10</td><td>17</td><td>31</td><td>14</td><td>13</td><td>12</td><td>&hellip;</td><td>4</td><td>9</td><td>2</td><td>4</td><td>5</td><td>4</td><td>7</td><td>8</td><td>6</td><td>7</td><td>8</td><td>5</td><td>5</td><td>4</td><td>4</td><td>7</td><td>2</td><td>5</td><td>4</td><td>11</td><td>2</td><td>4</td><td>5</td><td>5</td><td>3</td><td>5</td><td>2</td><td>2</td><td>4</td><td>3</td><td>7</td><td>5</td><td>4</td><td>3</td><td>3</td><td>1</td><td>2</td></tr><tr><td>&quot;Bon_Spence&quot;</td><td>23</td><td>52</td><td>38</td><td>26</td><td>40</td><td>23</td><td>16</td><td>22</td><td>21</td><td>12</td><td>18</td><td>13</td><td>31</td><td>10</td><td>30</td><td>27</td><td>17</td><td>14</td><td>11</td><td>19</td><td>18</td><td>10</td><td>29</td><td>27</td><td>24</td><td>17</td><td>24</td><td>19</td><td>19</td><td>26</td><td>21</td><td>27</td><td>48</td><td>17</td><td>17</td><td>19</td><td>&hellip;</td><td>13</td><td>5</td><td>15</td><td>10</td><td>8</td><td>14</td><td>9</td><td>13</td><td>16</td><td>8</td><td>10</td><td>12</td><td>7</td><td>14</td><td>8</td><td>11</td><td>6</td><td>6</td><td>4</td><td>10</td><td>12</td><td>14</td><td>10</td><td>14</td><td>10</td><td>12</td><td>5</td><td>4</td><td>10</td><td>17</td><td>11</td><td>8</td><td>8</td><td>10</td><td>8</td><td>7</td><td>6</td></tr><tr><td>&quot;John_Bain_(foo…</td><td>null</td><td>null</td><td>null</td><td>null</td><td>null</td><td>null</td><td>null</td><td>null</td><td>null</td><td>null</td><td>null</td><td>null</td><td>null</td><td>null</td><td>null</td><td>null</td><td>null</td><td>null</td><td>null</td><td>null</td><td>null</td><td>null</td><td>null</td><td>null</td><td>null</td><td>null</td><td>null</td><td>null</td><td>null</td><td>null</td><td>null</td><td>null</td><td>null</td><td>null</td><td>null</td><td>null</td><td>&hellip;</td><td>null</td><td>null</td><td>null</td><td>null</td><td>null</td><td>null</td><td>null</td><td>null</td><td>null</td><td>null</td><td>null</td><td>null</td><td>null</td><td>null</td><td>null</td><td>null</td><td>54</td><td>6</td><td>14</td><td>17</td><td>18</td><td>6</td><td>18</td><td>12</td><td>9</td><td>21</td><td>11</td><td>8</td><td>7</td><td>19</td><td>10</td><td>6</td><td>6</td><td>5</td><td>16</td><td>8</td><td>7</td></tr></tbody></table></div>"
      ],
      "text/plain": [
       "shape: (1_976_658, 105)\n",
       "┌────────────────────────┬─────────┬─────────┬─────────┬───┬─────────┬─────────┬─────────┬─────────┐\n",
       "│ title                  ┆ 2015-05 ┆ 2015-06 ┆ 2015-07 ┆ … ┆ 2023-09 ┆ 2023-10 ┆ 2023-11 ┆ 2023-12 │\n",
       "│ ---                    ┆ ---     ┆ ---     ┆ ---     ┆   ┆ ---     ┆ ---     ┆ ---     ┆ ---     │\n",
       "│ str                    ┆ i64     ┆ i64     ┆ i64     ┆   ┆ i64     ┆ i64     ┆ i64     ┆ i64     │\n",
       "╞════════════════════════╪═════════╪═════════╪═════════╪═══╪═════════╪═════════╪═════════╪═════════╡\n",
       "│ Neophyte_II_of_Ungro-W ┆ null    ┆ null    ┆ null    ┆ … ┆ 29      ┆ 44      ┆ 23      ┆ 25      │\n",
       "│ allachia               ┆         ┆         ┆         ┆   ┆         ┆         ┆         ┆         │\n",
       "│ Olivia_Giovetti        ┆ 26      ┆ 34      ┆ 52      ┆ … ┆ 20      ┆ 59      ┆ 41      ┆ 19      │\n",
       "│ Alexander_Grant_McLean ┆ 9       ┆ 48      ┆ 24      ┆ … ┆ 9       ┆ 10      ┆ 1       ┆ 5       │\n",
       "│ Bernard_H._Raether     ┆ 17      ┆ 16      ┆ 21      ┆ … ┆ 2       ┆ null    ┆ 1       ┆ 2       │\n",
       "│ Leigh_Magar            ┆ 47      ┆ 46      ┆ 64      ┆ … ┆ 8       ┆ 5       ┆ 10      ┆ 2       │\n",
       "│ …                      ┆ …       ┆ …       ┆ …       ┆ … ┆ …       ┆ …       ┆ …       ┆ …       │\n",
       "│ Edgar_Dibden           ┆ null    ┆ null    ┆ null    ┆ … ┆ 6       ┆ 7       ┆ 4       ┆ 2       │\n",
       "│ David_Mulready         ┆ 56      ┆ 51      ┆ 78      ┆ … ┆ 14      ┆ 14      ┆ 7       ┆ 6       │\n",
       "│ Bruno_Riem             ┆ 40      ┆ 29      ┆ 34      ┆ … ┆ 3       ┆ 3       ┆ 1       ┆ 2       │\n",
       "│ Bon_Spence             ┆ 23      ┆ 52      ┆ 38      ┆ … ┆ 10      ┆ 8       ┆ 7       ┆ 6       │\n",
       "│ John_Bain_(footballer, ┆ null    ┆ null    ┆ null    ┆ … ┆ 5       ┆ 16      ┆ 8       ┆ 7       │\n",
       "│ _born_1923…            ┆         ┆         ┆         ┆   ┆         ┆         ┆         ┆         │\n",
       "└────────────────────────┴─────────┴─────────┴─────────┴───┴─────────┴─────────┴─────────┴─────────┘"
      ]
     },
     "execution_count": 5,
     "metadata": {},
     "output_type": "execute_result"
    }
   ],
   "source": [
    "views_df"
   ]
  },
  {
   "cell_type": "code",
   "execution_count": 3,
   "metadata": {},
   "outputs": [
    {
     "data": {
      "text/html": [
       "<div><style>\n",
       ".dataframe > thead > tr,\n",
       ".dataframe > tbody > tr {\n",
       "  text-align: right;\n",
       "  white-space: pre-wrap;\n",
       "}\n",
       "</style>\n",
       "<small>shape: (1_572_844, 33)</small><table border=\"1\" class=\"dataframe\"><thead><tr><th>wikidata_code</th><th>birth</th><th>death</th><th>gender</th><th>level1_main_occ</th><th>name</th><th>un_subregion</th><th>level2_main_occ</th><th>level3_main_occ</th><th>bigperiod_birth</th><th>bigperiod_death</th><th>sum_visib_ln_5criteria</th><th>ranking_visib_5criteria</th><th>citizenship_1_b</th><th>un_region</th><th>bplo1</th><th>dplo1</th><th>bpla1</th><th>dpla1</th><th>en_label</th><th>en_description</th><th>worked_at</th><th>educated_at</th><th>instrument</th><th>genre</th><th>birth_month</th><th>count_gender</th><th>count_instrument</th><th>count_worked_at</th><th>count_country_of_citizenship</th><th>count_educated_at</th><th>count_occupation</th><th>count_genre</th></tr><tr><td>str</td><td>i64</td><td>i64</td><td>str</td><td>str</td><td>str</td><td>str</td><td>str</td><td>str</td><td>str</td><td>str</td><td>f64</td><td>f64</td><td>str</td><td>str</td><td>f64</td><td>f64</td><td>f64</td><td>f64</td><td>str</td><td>str</td><td>list[str]</td><td>list[str]</td><td>list[str]</td><td>list[str]</td><td>str</td><td>u32</td><td>u32</td><td>u32</td><td>u32</td><td>u32</td><td>u32</td><td>u32</td></tr></thead><tbody><tr><td>&quot;Q1000005&quot;</td><td>1860</td><td>1927</td><td>&quot;Male&quot;</td><td>&quot;Culture&quot;</td><td>&quot;Karel_Matěj_Ča…</td><td>&quot;Western Europe…</td><td>&quot;Culture-core&quot;</td><td>&quot;writer&quot;</td><td>&quot;4.Mid Modern P…</td><td>&quot;5.Contemporary…</td><td>23.98061</td><td>131428.0</td><td>&quot;Czech_Republic…</td><td>&quot;Europe&quot;</td><td>12.929798</td><td>14.421389</td><td>49.440605</td><td>50.087502</td><td>&quot;Karel Matěj Ča…</td><td>&quot;Czech writer a…</td><td>[]</td><td>[]</td><td>[]</td><td>[]</td><td>&quot;02&quot;</td><td>1</td><td>0</td><td>0</td><td>1</td><td>0</td><td>4</td><td>0</td></tr><tr><td>&quot;Q100005&quot;</td><td>1922</td><td>1951</td><td>&quot;Male&quot;</td><td>&quot;Culture&quot;</td><td>&quot;Tadeusz_Borows…</td><td>&quot;Eastern Europe…</td><td>&quot;Culture-core&quot;</td><td>&quot;writer&quot;</td><td>&quot;5.Contemporary…</td><td>&quot;5.Contemporary…</td><td>28.841227</td><td>21473.5</td><td>&quot;Poland&quot;</td><td>&quot;Europe&quot;</td><td>28.657778</td><td>21.01111</td><td>50.254444</td><td>52.23</td><td>&quot;Tadeusz Borows…</td><td>&quot;Polish writer …</td><td>[]</td><td>[&quot;University of Warsaw&quot;]</td><td>[]</td><td>[]</td><td>&quot;11&quot;</td><td>1</td><td>0</td><td>0</td><td>1</td><td>1</td><td>5</td><td>0</td></tr><tr><td>&quot;Q1000051&quot;</td><td>1884</td><td>1962</td><td>&quot;Male&quot;</td><td>&quot;Leadership&quot;</td><td>&quot;Joseph_C._O&#x27;Ma…</td><td>&quot;Northern Ameri…</td><td>&quot;Politics&quot;</td><td>&quot;politician&quot;</td><td>&quot;4.Mid Modern P…</td><td>&quot;5.Contemporary…</td><td>23.15431</td><td>170792.0</td><td>&quot;US&quot;</td><td>&quot;America&quot;</td><td>-71.033333</td><td>-77.094643</td><td>42.391666</td><td>38.984825</td><td>&quot;Joseph C. O&#x27;Ma…</td><td>&quot;American journ…</td><td>[]</td><td>[&quot;Georgetown University Law Center&quot;, &quot;Columbia University&quot;]</td><td>[]</td><td>[]</td><td>&quot;11&quot;</td><td>1</td><td>0</td><td>0</td><td>1</td><td>2</td><td>3</td><td>0</td></tr><tr><td>&quot;Q1000053&quot;</td><td>1962</td><td>null</td><td>&quot;Male&quot;</td><td>&quot;Leadership&quot;</td><td>&quot;Vasily_Nebenzy…</td><td>&quot;Eastern Europe…</td><td>&quot;Administration…</td><td>&quot;diplomat&quot;</td><td>&quot;5.Contemporary…</td><td>&quot;Missing&quot;</td><td>25.141882</td><td>230781.0</td><td>&quot;Russia&quot;</td><td>&quot;Europe&quot;</td><td>44.514721</td><td>null</td><td>48.708611</td><td>null</td><td>&quot;Vasily Nebenzy…</td><td>&quot;Russian diplom…</td><td>[&quot;United Nations&quot;]</td><td>[&quot;Moscow State Institute of International Relations&quot;]</td><td>[]</td><td>[]</td><td>&quot;02&quot;</td><td>1</td><td>0</td><td>1</td><td>2</td><td>1</td><td>2</td><td>0</td></tr><tr><td>&quot;Q1000061&quot;</td><td>1940</td><td>null</td><td>&quot;Male&quot;</td><td>&quot;Leadership&quot;</td><td>&quot;Valentyn_Symon…</td><td>&quot;Eastern Europe…</td><td>&quot;Politics&quot;</td><td>&quot;politician&quot;</td><td>&quot;5.Contemporary…</td><td>&quot;Missing&quot;</td><td>23.340572</td><td>219961.0</td><td>&quot;Ukraine&quot;</td><td>&quot;Europe&quot;</td><td>30.73262</td><td>null</td><td>46.47747</td><td>null</td><td>&quot;Valentyn Symon…</td><td>&quot;Ukrainian stat…</td><td>[&quot;State University of Trade and Economics&quot;]</td><td>[&quot;Odesa State Academy of Civil Engineering and Architecture&quot;]</td><td>[]</td><td>[]</td><td>&quot;07&quot;</td><td>1</td><td>0</td><td>1</td><td>1</td><td>1</td><td>2</td><td>0</td></tr><tr><td>&hellip;</td><td>&hellip;</td><td>&hellip;</td><td>&hellip;</td><td>&hellip;</td><td>&hellip;</td><td>&hellip;</td><td>&hellip;</td><td>&hellip;</td><td>&hellip;</td><td>&hellip;</td><td>&hellip;</td><td>&hellip;</td><td>&hellip;</td><td>&hellip;</td><td>&hellip;</td><td>&hellip;</td><td>&hellip;</td><td>&hellip;</td><td>&hellip;</td><td>&hellip;</td><td>&hellip;</td><td>&hellip;</td><td>&hellip;</td><td>&hellip;</td><td>&hellip;</td><td>&hellip;</td><td>&hellip;</td><td>&hellip;</td><td>&hellip;</td><td>&hellip;</td><td>&hellip;</td><td>&hellip;</td></tr><tr><td>&quot;Q999994&quot;</td><td>1988</td><td>null</td><td>&quot;Male&quot;</td><td>&quot;Sports/Games&quot;</td><td>&quot;Mitja_Mežnar&quot;</td><td>&quot;Southern Europ…</td><td>&quot;Sports/Games&quot;</td><td>&quot;ski&quot;</td><td>&quot;5.Contemporary…</td><td>&quot;Missing&quot;</td><td>21.543238</td><td>350041.5</td><td>&quot;Slovenia&quot;</td><td>&quot;Europe&quot;</td><td>14.35561</td><td>null</td><td>46.238869</td><td>null</td><td>&quot;Mitja Mežnar&quot;</td><td>&quot;Slovenian ski …</td><td>[]</td><td>[]</td><td>[]</td><td>[]</td><td>&quot;06&quot;</td><td>1</td><td>0</td><td>0</td><td>1</td><td>0</td><td>1</td><td>0</td></tr><tr><td>&quot;Q999995&quot;</td><td>1987</td><td>null</td><td>&quot;Male&quot;</td><td>&quot;Sports/Games&quot;</td><td>&quot;Martin_Cikl&quot;</td><td>&quot;Western Europe…</td><td>&quot;Sports/Games&quot;</td><td>&quot;ski&quot;</td><td>&quot;5.Contemporary…</td><td>&quot;Missing&quot;</td><td>21.71133</td><td>339942.5</td><td>&quot;Czech_Republic…</td><td>&quot;Europe&quot;</td><td>14.618354</td><td>null</td><td>50.911613</td><td>null</td><td>&quot;Martin Cikl&quot;</td><td>&quot;Czech ski jump…</td><td>[]</td><td>[]</td><td>[]</td><td>[]</td><td>&quot;08&quot;</td><td>1</td><td>0</td><td>0</td><td>1</td><td>0</td><td>1</td><td>0</td></tr><tr><td>&quot;Q999997&quot;</td><td>1984</td><td>null</td><td>&quot;Male&quot;</td><td>&quot;Sports/Games&quot;</td><td>&quot;Vincent_Descom…</td><td>&quot;Western Europe…</td><td>&quot;Sports/Games&quot;</td><td>&quot;ski&quot;</td><td>&quot;5.Contemporary…</td><td>&quot;Missing&quot;</td><td>24.453411</td><td>154890.0</td><td>&quot;France&quot;</td><td>&quot;Europe&quot;</td><td>6.868889</td><td>null</td><td>45.922222</td><td>null</td><td>&quot;Vincent Descom…</td><td>&quot;French ski jum…</td><td>[]</td><td>[]</td><td>[]</td><td>[]</td><td>&quot;01&quot;</td><td>1</td><td>0</td><td>0</td><td>1</td><td>0</td><td>2</td><td>0</td></tr><tr><td>&quot;Q999998&quot;</td><td>1952</td><td>null</td><td>&quot;Male&quot;</td><td>&quot;Culture&quot;</td><td>&quot;José_Massaroli…</td><td>&quot;South America&quot;</td><td>&quot;Culture-core&quot;</td><td>&quot;artist&quot;</td><td>&quot;5.Contemporary…</td><td>&quot;Missing&quot;</td><td>20.193954</td><td>453953.0</td><td>&quot;Argentina&quot;</td><td>&quot;America&quot;</td><td>-60.0</td><td>null</td><td>-33.483334</td><td>null</td><td>&quot;José Massaroli…</td><td>&quot;Argentine comi…</td><td>[]</td><td>[]</td><td>[]</td><td>[]</td><td>&quot;09&quot;</td><td>1</td><td>0</td><td>0</td><td>1</td><td>0</td><td>1</td><td>0</td></tr><tr><td>&quot;Q999999&quot;</td><td>1982</td><td>null</td><td>&quot;Female&quot;</td><td>&quot;Sports/Games&quot;</td><td>&quot;Seraina_Boner&quot;</td><td>&quot;Western Europe…</td><td>&quot;Sports/Games&quot;</td><td>&quot;skier&quot;</td><td>&quot;5.Contemporary…</td><td>&quot;Missing&quot;</td><td>22.013247</td><td>344726.0</td><td>&quot;Switzerland&quot;</td><td>&quot;Europe&quot;</td><td>9.839833</td><td>null</td><td>46.809055</td><td>null</td><td>&quot;Seraina Boner&quot;</td><td>&quot;cross-country …</td><td>[]</td><td>[]</td><td>[]</td><td>[]</td><td>&quot;04&quot;</td><td>1</td><td>0</td><td>0</td><td>1</td><td>0</td><td>1</td><td>0</td></tr></tbody></table></div>"
      ],
      "text/plain": [
       "shape: (1_572_844, 33)\n",
       "┌─────────────┬───────┬───────┬────────┬───┬─────────────┬─────────────┬─────────────┬─────────────┐\n",
       "│ wikidata_co ┆ birth ┆ death ┆ gender ┆ … ┆ count_count ┆ count_educa ┆ count_occup ┆ count_genre │\n",
       "│ de          ┆ ---   ┆ ---   ┆ ---    ┆   ┆ ry_of_citiz ┆ ted_at      ┆ ation       ┆ ---         │\n",
       "│ ---         ┆ i64   ┆ i64   ┆ str    ┆   ┆ enship      ┆ ---         ┆ ---         ┆ u32         │\n",
       "│ str         ┆       ┆       ┆        ┆   ┆ ---         ┆ u32         ┆ u32         ┆             │\n",
       "│             ┆       ┆       ┆        ┆   ┆ u32         ┆             ┆             ┆             │\n",
       "╞═════════════╪═══════╪═══════╪════════╪═══╪═════════════╪═════════════╪═════════════╪═════════════╡\n",
       "│ Q1000005    ┆ 1860  ┆ 1927  ┆ Male   ┆ … ┆ 1           ┆ 0           ┆ 4           ┆ 0           │\n",
       "│ Q100005     ┆ 1922  ┆ 1951  ┆ Male   ┆ … ┆ 1           ┆ 1           ┆ 5           ┆ 0           │\n",
       "│ Q1000051    ┆ 1884  ┆ 1962  ┆ Male   ┆ … ┆ 1           ┆ 2           ┆ 3           ┆ 0           │\n",
       "│ Q1000053    ┆ 1962  ┆ null  ┆ Male   ┆ … ┆ 2           ┆ 1           ┆ 2           ┆ 0           │\n",
       "│ Q1000061    ┆ 1940  ┆ null  ┆ Male   ┆ … ┆ 1           ┆ 1           ┆ 2           ┆ 0           │\n",
       "│ …           ┆ …     ┆ …     ┆ …      ┆ … ┆ …           ┆ …           ┆ …           ┆ …           │\n",
       "│ Q999994     ┆ 1988  ┆ null  ┆ Male   ┆ … ┆ 1           ┆ 0           ┆ 1           ┆ 0           │\n",
       "│ Q999995     ┆ 1987  ┆ null  ┆ Male   ┆ … ┆ 1           ┆ 0           ┆ 1           ┆ 0           │\n",
       "│ Q999997     ┆ 1984  ┆ null  ┆ Male   ┆ … ┆ 1           ┆ 0           ┆ 2           ┆ 0           │\n",
       "│ Q999998     ┆ 1952  ┆ null  ┆ Male   ┆ … ┆ 1           ┆ 0           ┆ 1           ┆ 0           │\n",
       "│ Q999999     ┆ 1982  ┆ null  ┆ Female ┆ … ┆ 1           ┆ 0           ┆ 1           ┆ 0           │\n",
       "└─────────────┴───────┴───────┴────────┴───┴─────────────┴─────────────┴─────────────┴─────────────┘"
      ]
     },
     "execution_count": 3,
     "metadata": {},
     "output_type": "execute_result"
    }
   ],
   "source": [
    "info_df"
   ]
  },
  {
   "cell_type": "code",
   "execution_count": 4,
   "metadata": {},
   "outputs": [
    {
     "data": {
      "text/html": [
       "<div><style>\n",
       ".dataframe > thead > tr,\n",
       ".dataframe > tbody > tr {\n",
       "  text-align: right;\n",
       "  white-space: pre-wrap;\n",
       "}\n",
       "</style>\n",
       "<small>shape: (15, 2)</small><table border=\"1\" class=\"dataframe\"><thead><tr><th>level2_main_occ</th><th>count</th></tr><tr><td>str</td><td>u32</td></tr></thead><tbody><tr><td>&quot;Politics&quot;</td><td>204040</td></tr><tr><td>&quot;Corporate/Exec…</td><td>31113</td></tr><tr><td>&quot;Nobility&quot;</td><td>28655</td></tr><tr><td>&quot;Military&quot;</td><td>47350</td></tr><tr><td>&quot;Academia&quot;</td><td>148053</td></tr><tr><td>&hellip;</td><td>&hellip;</td></tr><tr><td>&quot;Culture-periph…</td><td>57818</td></tr><tr><td>&quot;Sports/Games&quot;</td><td>525584</td></tr><tr><td>&quot;Missing&quot;</td><td>6709</td></tr><tr><td>&quot;Explorer/Inven…</td><td>16067</td></tr><tr><td>&quot;Family&quot;</td><td>8325</td></tr></tbody></table></div>"
      ],
      "text/plain": [
       "shape: (15, 2)\n",
       "┌───────────────────────────────────┬────────┐\n",
       "│ level2_main_occ                   ┆ count  │\n",
       "│ ---                               ┆ ---    │\n",
       "│ str                               ┆ u32    │\n",
       "╞═══════════════════════════════════╪════════╡\n",
       "│ Politics                          ┆ 204040 │\n",
       "│ Corporate/Executive/Business (la… ┆ 31113  │\n",
       "│ Nobility                          ┆ 28655  │\n",
       "│ Military                          ┆ 47350  │\n",
       "│ Academia                          ┆ 148053 │\n",
       "│ …                                 ┆ …      │\n",
       "│ Culture-periphery                 ┆ 57818  │\n",
       "│ Sports/Games                      ┆ 525584 │\n",
       "│ Missing                           ┆ 6709   │\n",
       "│ Explorer/Inventor/Developer       ┆ 16067  │\n",
       "│ Family                            ┆ 8325   │\n",
       "└───────────────────────────────────┴────────┘"
      ]
     },
     "execution_count": 4,
     "metadata": {},
     "output_type": "execute_result"
    }
   ],
   "source": [
    "info_df['level2_main_occ'].value_counts()"
   ]
  },
  {
   "cell_type": "code",
   "execution_count": 20,
   "metadata": {},
   "outputs": [],
   "source": [
    "X = views_df.filter(pl.col('title').is_in(info_df.filter(pl.col('level2_main_occ') == 'Politics').select('name'))).drop('title').drop_nulls().to_numpy()\n",
    "y = np.ones((X.shape[0],))"
   ]
  },
  {
   "cell_type": "code",
   "execution_count": 21,
   "metadata": {},
   "outputs": [],
   "source": [
    "import numpy as np\n",
    "import matplotlib.pyplot as plt\n",
    "from pyts.transformation import ShapeletTransform\n",
    "\n",
    "\n",
    "X_train, y_train = X, y\n",
    "\n",
    "# Shapelet transformation\n",
    "st = ShapeletTransform(window_sizes=[12, 24, 36, 48],\n",
    "                       random_state=42, sort=True)\n",
    "X_new = st.fit_transform(X_train, y_train)\n",
    "\n",
    "# Visualize the four most discriminative shapelets\n",
    "plt.figure(figsize=(6, 4))\n",
    "for i, index in enumerate(st.indices_[:4]):\n",
    "    idx, start, end = index\n",
    "    plt.plot(X_train[idx], color='C{}'.format(i),\n",
    "             label='Sample {}'.format(idx))\n",
    "    plt.plot(np.arange(start, end), X_train[idx, start:end],\n",
    "             lw=5, color='C{}'.format(i))\n",
    "\n",
    "plt.xlabel('Time', fontsize=12)\n",
    "plt.title('The four most discriminative shapelets', fontsize=14)\n",
    "plt.legend(loc='best', fontsize=8)\n",
    "plt.show()"
   ]
  }
 ],
 "metadata": {
  "kernelspec": {
   "display_name": "big_data_project",
   "language": "python",
   "name": "python3"
  },
  "language_info": {
   "codemirror_mode": {
    "name": "ipython",
    "version": 3
   },
   "file_extension": ".py",
   "mimetype": "text/x-python",
   "name": "python",
   "nbconvert_exporter": "python",
   "pygments_lexer": "ipython3",
   "version": "3.12.2"
  }
 },
 "nbformat": 4,
 "nbformat_minor": 2
}

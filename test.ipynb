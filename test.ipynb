{
 "cells": [
  {
   "cell_type": "code",
   "execution_count": 2,
   "metadata": {},
   "outputs": [],
   "source": [
    "# imports\n",
    "import numpy as np\n",
    "import pandas as pd\n",
    "import polars as pl\n",
    "from pathlib import Path\n",
    "from tqdm import tqdm\n",
    "import matplotlib.pyplot as plt\n",
    "from dotenv import load_dotenv\n",
    "import os\n",
    "import json\n",
    "import seaborn as sns\n",
    "from rich import print\n",
    "import time\n",
    "\n",
    "load_dotenv()\n",
    "\n",
    "RAW_DATA_DIR = Path(os.getenv('RAW_DATA_DIR'))\n",
    "PROCESSED_DATA_DIR = Path(os.getenv('PROCESSED_DATA_DIR'))"
   ]
  },
  {
   "cell_type": "code",
   "execution_count": 10,
   "metadata": {},
   "outputs": [],
   "source": [
    "ext = pl.read_csv(RAW_DATA_DIR / 'cross-verified-database.csv',\n",
    "                  ignore_errors=True)"
   ]
  },
  {
   "cell_type": "code",
   "execution_count": 11,
   "metadata": {},
   "outputs": [
    {
     "data": {
      "text/html": [
       "<div><style>\n",
       ".dataframe > thead > tr,\n",
       ".dataframe > tbody > tr {\n",
       "  text-align: right;\n",
       "  white-space: pre-wrap;\n",
       "}\n",
       "</style>\n",
       "<small>shape: (2_291_817, 49)</small><table border=\"1\" class=\"dataframe\"><thead><tr><th>wikidata_code</th><th>birth</th><th>death</th><th>updated_death_date</th><th>approx_birth</th><th>approx_death</th><th>birth_min</th><th>birth_max</th><th>death_min</th><th>death_max</th><th>gender</th><th>level1_main_occ</th><th>name</th><th>un_subregion</th><th>birth_estimation</th><th>death_estimation</th><th>bigperiod_birth_graph_b</th><th>bigperiod_death_graph_b</th><th>curid</th><th>level2_main_occ</th><th>freq_main_occ</th><th>freq_second_occ</th><th>level2_second_occ</th><th>level3_main_occ</th><th>bigperiod_birth</th><th>bigperiod_death</th><th>wiki_readers_2015_2018</th><th>non_missing_score</th><th>total_count_words_b</th><th>number_wiki_editions</th><th>total_noccur_links_b</th><th>sum_visib_ln_5criteria</th><th>ranking_visib_5criteria</th><th>all_geography_groups</th><th>string_citizenship_raw_d</th><th>citizenship_1_b</th><th>citizenship_2_b</th><th>list_areas_of_rattach</th><th>area1_of_rattachment</th><th>area2_of_rattachment</th><th>list_wikipedia_editions</th><th>un_region</th><th>group_wikipedia_editions</th><th>bplo1</th><th>dplo1</th><th>bpla1</th><th>dpla1</th><th>pantheon_1</th><th>level3_all_occ</th></tr><tr><td>str</td><td>i64</td><td>i64</td><td>i64</td><td>str</td><td>str</td><td>i64</td><td>i64</td><td>i64</td><td>i64</td><td>str</td><td>str</td><td>str</td><td>str</td><td>f64</td><td>f64</td><td>str</td><td>str</td><td>i64</td><td>str</td><td>f64</td><td>f64</td><td>str</td><td>str</td><td>str</td><td>str</td><td>i64</td><td>i64</td><td>i64</td><td>i64</td><td>i64</td><td>f64</td><td>f64</td><td>str</td><td>str</td><td>str</td><td>str</td><td>str</td><td>str</td><td>str</td><td>str</td><td>str</td><td>str</td><td>f64</td><td>f64</td><td>f64</td><td>f64</td><td>i64</td><td>str</td></tr></thead><tbody><tr><td>&quot;Q1000002&quot;</td><td>1932</td><td>1990</td><td>null</td><td>null</td><td>null</td><td>1932</td><td>1932</td><td>1990</td><td>1990</td><td>&quot;Male&quot;</td><td>&quot;Culture&quot;</td><td>&quot;Claus_Hammel&quot;</td><td>&quot;Western Europe…</td><td>1932.0</td><td>1990.0</td><td>&quot;5.Contemporary…</td><td>&quot;5.Contemporary…</td><td>2949539</td><td>&quot;Culture-core&quot;</td><td>0.8</td><td>0.2</td><td>&quot;Culture-periph…</td><td>&quot;playwright&quot;</td><td>&quot;5.Contemporary…</td><td>&quot;5.Contemporary…</td><td>1669</td><td>3</td><td>1777</td><td>1</td><td>11</td><td>18.083672</td><td>1.058542e6</td><td>&quot;Germany&quot;</td><td>&quot;&#x27;Germany&#x27;&quot;</td><td>&quot;Germany&quot;</td><td>null</td><td>&quot;D:_&#x27;Germany&#x27;_m…</td><td>&quot;Germany&quot;</td><td>&quot;Missing&quot;</td><td>&quot;dewiki&quot;</td><td>&quot;Europe&quot;</td><td>&quot;grB&quot;</td><td>11.833333</td><td>12.42</td><td>53.416668</td><td>54.38139</td><td>0</td><td>&quot;D:_playwright_…</td></tr><tr><td>&quot;Q1000005&quot;</td><td>1860</td><td>1927</td><td>null</td><td>null</td><td>null</td><td>1860</td><td>1860</td><td>1927</td><td>1927</td><td>&quot;Male&quot;</td><td>&quot;Culture&quot;</td><td>&quot;Karel_Matěj_Ča…</td><td>&quot;Western Europe…</td><td>1860.0</td><td>1927.0</td><td>&quot;4.Mid Modern P…</td><td>&quot;5.Contemporary…</td><td>4217319</td><td>&quot;Culture-core&quot;</td><td>0.538462</td><td>0.307692</td><td>&quot;Culture-periph…</td><td>&quot;writer&quot;</td><td>&quot;4.Mid Modern P…</td><td>&quot;5.Contemporary…</td><td>25008</td><td>3</td><td>6491</td><td>9</td><td>15</td><td>23.98061</td><td>131428.0</td><td>&quot;Czech_Republic…</td><td>&quot;&#x27;Czech_Republi…</td><td>&quot;Czech_Republic…</td><td>null</td><td>&quot;D:_&#x27;Czech_Repu…</td><td>&quot;Old_(before_ye…</td><td>&quot;Missing&quot;</td><td>&quot;dewiki|cswiki|…</td><td>&quot;Europe&quot;</td><td>&quot;grA&quot;</td><td>12.929798</td><td>14.421389</td><td>49.440605</td><td>50.087502</td><td>0</td><td>&quot;D:_writer_jour…</td></tr><tr><td>&quot;Q1000006&quot;</td><td>1971</td><td>null</td><td>null</td><td>null</td><td>null</td><td>1971</td><td>1971</td><td>null</td><td>null</td><td>&quot;Male&quot;</td><td>&quot;Culture&quot;</td><td>&quot;Florian_Eichin…</td><td>&quot;Western Europe…</td><td>1971.0</td><td>2053.8447</td><td>&quot;5.Contemporary…</td><td>&quot;5.Contemporary…</td><td>5050967</td><td>&quot;Culture-core&quot;</td><td>1.0</td><td>null</td><td>&quot;Missing&quot;</td><td>&quot;film&quot;</td><td>&quot;5.Contemporary…</td><td>&quot;Missing&quot;</td><td>27285</td><td>3</td><td>1573</td><td>1</td><td>10</td><td>20.666656</td><td>775768.0</td><td>&quot;Germany&quot;</td><td>&quot;&#x27;Germany&#x27;&quot;</td><td>&quot;Germany&quot;</td><td>null</td><td>&quot;D:_&#x27;Germany&#x27;_m…</td><td>&quot;Germany&quot;</td><td>&quot;Missing&quot;</td><td>&quot;dewiki&quot;</td><td>&quot;Europe&quot;</td><td>&quot;grB&quot;</td><td>9.191944</td><td>null</td><td>48.897499</td><td>null</td><td>0</td><td>&quot;D:_film_screen…</td></tr><tr><td>&quot;Q1000015&quot;</td><td>1983</td><td>null</td><td>null</td><td>null</td><td>null</td><td>1983</td><td>1983</td><td>null</td><td>null</td><td>&quot;Male&quot;</td><td>&quot;Culture&quot;</td><td>&quot;Florian_Jahr&quot;</td><td>&quot;Western Europe…</td><td>1983.0</td><td>2067.1899</td><td>&quot;5.Contemporary…</td><td>&quot;5.Contemporary…</td><td>2588583</td><td>&quot;Culture-core&quot;</td><td>1.0</td><td>null</td><td>&quot;Missing&quot;</td><td>&quot;actor&quot;</td><td>&quot;5.Contemporary…</td><td>&quot;Missing&quot;</td><td>37331</td><td>3</td><td>1931</td><td>1</td><td>10</td><td>21.18504</td><td>691735.0</td><td>&quot;Germany&quot;</td><td>&quot;&#x27;Germany&#x27;&quot;</td><td>&quot;Germany&quot;</td><td>null</td><td>&quot;D:_&#x27;Germany&#x27;_m…</td><td>&quot;Germany&quot;</td><td>&quot;Missing&quot;</td><td>&quot;dewiki&quot;</td><td>&quot;Europe&quot;</td><td>&quot;grB&quot;</td><td>13.383333</td><td>null</td><td>52.516666</td><td>null</td><td>0</td><td>&quot;D:_actor_P:_sc…</td></tr><tr><td>&quot;Q1000023&quot;</td><td>1912</td><td>1977</td><td>null</td><td>null</td><td>null</td><td>1912</td><td>1912</td><td>1977</td><td>1977</td><td>&quot;Female&quot;</td><td>&quot;Leadership&quot;</td><td>&quot;Wiltraut_Rupp-…</td><td>&quot;Western Europe…</td><td>1912.0</td><td>1977.0</td><td>&quot;5.Contemporary…</td><td>&quot;5.Contemporary…</td><td>922120</td><td>&quot;Administration…</td><td>0.833333</td><td>0.166667</td><td>&quot;Politics&quot;</td><td>&quot;judge&quot;</td><td>&quot;5.Contemporary…</td><td>&quot;5.Contemporary…</td><td>2955</td><td>3</td><td>1578</td><td>1</td><td>6</td><td>17.99621</td><td>1.103282e6</td><td>&quot;Germany&quot;</td><td>&quot;&#x27;Germany&#x27;&quot;</td><td>&quot;Germany&quot;</td><td>null</td><td>&quot;D:_&#x27;Germany&#x27;_m…</td><td>&quot;Old_(before_ye…</td><td>&quot;Missing&quot;</td><td>&quot;dewiki&quot;</td><td>&quot;Europe&quot;</td><td>&quot;grB&quot;</td><td>13.35</td><td>8.4</td><td>52.4333</td><td>49.016666</td><td>0</td><td>&quot;D:_judge_juris…</td></tr><tr><td>&hellip;</td><td>&hellip;</td><td>&hellip;</td><td>&hellip;</td><td>&hellip;</td><td>&hellip;</td><td>&hellip;</td><td>&hellip;</td><td>&hellip;</td><td>&hellip;</td><td>&hellip;</td><td>&hellip;</td><td>&hellip;</td><td>&hellip;</td><td>&hellip;</td><td>&hellip;</td><td>&hellip;</td><td>&hellip;</td><td>&hellip;</td><td>&hellip;</td><td>&hellip;</td><td>&hellip;</td><td>&hellip;</td><td>&hellip;</td><td>&hellip;</td><td>&hellip;</td><td>&hellip;</td><td>&hellip;</td><td>&hellip;</td><td>&hellip;</td><td>&hellip;</td><td>&hellip;</td><td>&hellip;</td><td>&hellip;</td><td>&hellip;</td><td>&hellip;</td><td>&hellip;</td><td>&hellip;</td><td>&hellip;</td><td>&hellip;</td><td>&hellip;</td><td>&hellip;</td><td>&hellip;</td><td>&hellip;</td><td>&hellip;</td><td>&hellip;</td><td>&hellip;</td><td>&hellip;</td><td>&hellip;</td></tr><tr><td>&quot;Q999994&quot;</td><td>1988</td><td>null</td><td>null</td><td>null</td><td>null</td><td>1988</td><td>1988</td><td>null</td><td>null</td><td>&quot;Male&quot;</td><td>&quot;Sports/Games&quot;</td><td>&quot;Mitja_Mežnar&quot;</td><td>&quot;Southern Europ…</td><td>1988.0</td><td>2065.3259</td><td>&quot;5.Contemporary…</td><td>&quot;5.Contemporary…</td><td>20581328</td><td>&quot;Sports/Games&quot;</td><td>0.9</td><td>null</td><td>&quot;Missing&quot;</td><td>&quot;ski&quot;</td><td>&quot;5.Contemporary…</td><td>&quot;Missing&quot;</td><td>8896</td><td>3</td><td>5668</td><td>8</td><td>4</td><td>21.543238</td><td>350041.5</td><td>&quot;Slovenia&quot;</td><td>&quot;&#x27;Slovenia&#x27;&quot;</td><td>&quot;Slovenia&quot;</td><td>null</td><td>&quot;D:_&#x27;Slovenia&#x27;_…</td><td>&quot;Slovenia&quot;</td><td>&quot;Missing&quot;</td><td>&quot;fiwiki|dewiki|…</td><td>&quot;Europe&quot;</td><td>&quot;grA&quot;</td><td>14.35561</td><td>null</td><td>46.238869</td><td>null</td><td>0</td><td>&quot;D:_ski_P:_ ski…</td></tr><tr><td>&quot;Q999995&quot;</td><td>1987</td><td>null</td><td>null</td><td>&quot;circa&quot;</td><td>null</td><td>1987</td><td>1987</td><td>null</td><td>null</td><td>&quot;Male&quot;</td><td>&quot;Sports/Games&quot;</td><td>&quot;Martin_Cikl&quot;</td><td>&quot;Western Europe…</td><td>1987.0</td><td>2065.1482</td><td>&quot;5.Contemporary…</td><td>&quot;5.Contemporary…</td><td>16791925</td><td>&quot;Sports/Games&quot;</td><td>0.923077</td><td>null</td><td>&quot;Missing&quot;</td><td>&quot;ski&quot;</td><td>&quot;5.Contemporary…</td><td>&quot;Missing&quot;</td><td>8807</td><td>3</td><td>6096</td><td>9</td><td>4</td><td>21.71133</td><td>339942.5</td><td>&quot;Czech_Republic…</td><td>&quot;&#x27;Czech_Republi…</td><td>&quot;Czech_Republic…</td><td>null</td><td>&quot;D:_&#x27;Czech_Repu…</td><td>&quot;Czech_Republic…</td><td>&quot;Missing&quot;</td><td>&quot;fiwiki|dewiki|…</td><td>&quot;Europe&quot;</td><td>&quot;grA&quot;</td><td>14.618354</td><td>null</td><td>50.911613</td><td>null</td><td>0</td><td>&quot;D:_ski_P:_ ski…</td></tr><tr><td>&quot;Q999997&quot;</td><td>1984</td><td>null</td><td>null</td><td>null</td><td>null</td><td>1984</td><td>1984</td><td>null</td><td>null</td><td>&quot;Male&quot;</td><td>&quot;Sports/Games&quot;</td><td>&quot;Vincent_Descom…</td><td>&quot;Western Europe…</td><td>1984.0</td><td>2061.8308</td><td>&quot;5.Contemporary…</td><td>&quot;5.Contemporary…</td><td>21384087</td><td>&quot;Sports/Games&quot;</td><td>0.909091</td><td>null</td><td>&quot;Missing&quot;</td><td>&quot;ski&quot;</td><td>&quot;5.Contemporary…</td><td>&quot;Missing&quot;</td><td>51786</td><td>3</td><td>14372</td><td>7</td><td>6</td><td>24.453411</td><td>154890.0</td><td>&quot;France&quot;</td><td>&quot;&#x27;France&#x27;&quot;</td><td>&quot;France&quot;</td><td>null</td><td>&quot;D:_&#x27;France&#x27;_ma…</td><td>&quot;France&quot;</td><td>&quot;Missing&quot;</td><td>&quot;fiwiki|dewiki|…</td><td>&quot;Europe&quot;</td><td>&quot;grA&quot;</td><td>6.868889</td><td>null</td><td>45.922222</td><td>null</td><td>0</td><td>&quot;D:_ski_skier_P…</td></tr><tr><td>&quot;Q999998&quot;</td><td>1952</td><td>null</td><td>null</td><td>null</td><td>null</td><td>1952</td><td>1952</td><td>null</td><td>null</td><td>&quot;Male&quot;</td><td>&quot;Culture&quot;</td><td>&quot;José_Massaroli…</td><td>&quot;South America&quot;</td><td>1952.0</td><td>2032.8303</td><td>&quot;5.Contemporary…</td><td>&quot;5.Contemporary…</td><td>11512070</td><td>&quot;Culture-core&quot;</td><td>0.875</td><td>null</td><td>&quot;Missing&quot;</td><td>&quot;artist&quot;</td><td>&quot;5.Contemporary…</td><td>&quot;Missing&quot;</td><td>3772</td><td>3</td><td>5570</td><td>3</td><td>6</td><td>20.193954</td><td>453953.0</td><td>&quot;Argentina&quot;</td><td>&quot;&#x27;Argentina&#x27;&quot;</td><td>&quot;Argentina&quot;</td><td>null</td><td>&quot;D:_&#x27;Argentina&#x27;…</td><td>&quot;Argentina&quot;</td><td>&quot;Missing&quot;</td><td>&quot;fiwiki|enwiki|…</td><td>&quot;America&quot;</td><td>&quot;grA&quot;</td><td>-60.0</td><td>null</td><td>-33.483334</td><td>null</td><td>0</td><td>&quot;D:_artist_P:_ …</td></tr><tr><td>&quot;Q999999&quot;</td><td>1982</td><td>null</td><td>null</td><td>null</td><td>null</td><td>1982</td><td>1982</td><td>null</td><td>null</td><td>&quot;Female&quot;</td><td>&quot;Sports/Games&quot;</td><td>&quot;Seraina_Boner&quot;</td><td>&quot;Western Europe…</td><td>1982.0</td><td>2055.6638</td><td>&quot;5.Contemporary…</td><td>&quot;5.Contemporary…</td><td>41897786</td><td>&quot;Sports/Games&quot;</td><td>1.0</td><td>null</td><td>&quot;Missing&quot;</td><td>&quot;skier&quot;</td><td>&quot;5.Contemporary…</td><td>&quot;Missing&quot;</td><td>12052</td><td>3</td><td>8369</td><td>8</td><td>3</td><td>22.013247</td><td>344726.0</td><td>&quot;Switzerland&quot;</td><td>&quot;&#x27;Switzerland&#x27;&quot;</td><td>&quot;Switzerland&quot;</td><td>null</td><td>&quot;D:_&#x27;Switzerlan…</td><td>&quot;Switzerland&quot;</td><td>&quot;Missing&quot;</td><td>&quot;fiwiki|nowiki|…</td><td>&quot;Europe&quot;</td><td>&quot;grA&quot;</td><td>9.839833</td><td>null</td><td>46.809055</td><td>null</td><td>0</td><td>&quot;D:_skier_P:_cr…</td></tr></tbody></table></div>"
      ],
      "text/plain": [
       "shape: (2_291_817, 49)\n",
       "┌─────────────┬───────┬───────┬─────────────┬───┬────────────┬───────────┬────────────┬────────────┐\n",
       "│ wikidata_co ┆ birth ┆ death ┆ updated_dea ┆ … ┆ bpla1      ┆ dpla1     ┆ pantheon_1 ┆ level3_all │\n",
       "│ de          ┆ ---   ┆ ---   ┆ th_date     ┆   ┆ ---        ┆ ---       ┆ ---        ┆ _occ       │\n",
       "│ ---         ┆ i64   ┆ i64   ┆ ---         ┆   ┆ f64        ┆ f64       ┆ i64        ┆ ---        │\n",
       "│ str         ┆       ┆       ┆ i64         ┆   ┆            ┆           ┆            ┆ str        │\n",
       "╞═════════════╪═══════╪═══════╪═════════════╪═══╪════════════╪═══════════╪════════════╪════════════╡\n",
       "│ Q1000002    ┆ 1932  ┆ 1990  ┆ null        ┆ … ┆ 53.416668  ┆ 54.38139  ┆ 0          ┆ D:_playwri │\n",
       "│             ┆       ┆       ┆             ┆   ┆            ┆           ┆            ┆ ght_journa │\n",
       "│             ┆       ┆       ┆             ┆   ┆            ┆           ┆            ┆ list_write │\n",
       "│             ┆       ┆       ┆             ┆   ┆            ┆           ┆            ┆ r_…        │\n",
       "│ Q1000005    ┆ 1860  ┆ 1927  ┆ null        ┆ … ┆ 49.440605  ┆ 50.087502 ┆ 0          ┆ D:_writer_ │\n",
       "│             ┆       ┆       ┆             ┆   ┆            ┆           ┆            ┆ journalist │\n",
       "│             ┆       ┆       ┆             ┆   ┆            ┆           ┆            ┆ _P:_natura │\n",
       "│             ┆       ┆       ┆             ┆   ┆            ┆           ┆            ┆ li…        │\n",
       "│ Q1000006    ┆ 1971  ┆ null  ┆ null        ┆ … ┆ 48.897499  ┆ null      ┆ 0          ┆ D:_film_sc │\n",
       "│             ┆       ┆       ┆             ┆   ┆            ┆           ┆            ┆ reenwriter │\n",
       "│             ┆       ┆       ┆             ┆   ┆            ┆           ┆            ┆ _film_P:_r │\n",
       "│             ┆       ┆       ┆             ┆   ┆            ┆           ┆            ┆ eg…        │\n",
       "│ Q1000015    ┆ 1983  ┆ null  ┆ null        ┆ … ┆ 52.516666  ┆ null      ┆ 0          ┆ D:_actor_P │\n",
       "│             ┆       ┆       ┆             ┆   ┆            ┆           ┆            ┆ :_schauspi │\n",
       "│             ┆       ┆       ┆             ┆   ┆            ┆           ┆            ┆ el_German  │\n",
       "│ Q1000023    ┆ 1912  ┆ 1977  ┆ null        ┆ … ┆ 52.4333    ┆ 49.016666 ┆ 0          ┆ D:_judge_j │\n",
       "│             ┆       ┆       ┆             ┆   ┆            ┆           ┆            ┆ urist_P:_  │\n",
       "│             ┆       ┆       ┆             ┆   ┆            ┆           ┆            ┆ richter_ve │\n",
       "│             ┆       ┆       ┆             ┆   ┆            ┆           ┆            ┆ rf…        │\n",
       "│ …           ┆ …     ┆ …     ┆ …           ┆ … ┆ …          ┆ …         ┆ …          ┆ …          │\n",
       "│ Q999994     ┆ 1988  ┆ null  ┆ null        ┆ … ┆ 46.238869  ┆ null      ┆ 0          ┆ D:_ski_P:_ │\n",
       "│             ┆       ┆       ┆             ┆   ┆            ┆           ┆            ┆ ski_jumper │\n",
       "│             ┆       ┆       ┆             ┆   ┆            ┆           ┆            ┆ _olympic_E │\n",
       "│             ┆       ┆       ┆             ┆   ┆            ┆           ┆            ┆ n…         │\n",
       "│ Q999995     ┆ 1987  ┆ null  ┆ null        ┆ … ┆ 50.911613  ┆ null      ┆ 0          ┆ D:_ski_P:_ │\n",
       "│             ┆       ┆       ┆             ┆   ┆            ┆           ┆            ┆ ski_jumper │\n",
       "│             ┆       ┆       ┆             ┆   ┆            ┆           ┆            ┆ _olympic_E │\n",
       "│             ┆       ┆       ┆             ┆   ┆            ┆           ┆            ┆ n…         │\n",
       "│ Q999997     ┆ 1984  ┆ null  ┆ null        ┆ … ┆ 45.922222  ┆ null      ┆ 0          ┆ D:_ski_ski │\n",
       "│             ┆       ┆       ┆             ┆   ┆            ┆           ┆            ┆ er_P:_ ski │\n",
       "│             ┆       ┆       ┆             ┆   ┆            ┆           ┆            ┆ _jumper_En │\n",
       "│             ┆       ┆       ┆             ┆   ┆            ┆           ┆            ┆ gl…        │\n",
       "│ Q999998     ┆ 1952  ┆ null  ┆ null        ┆ … ┆ -33.483334 ┆ null      ┆ 0          ┆ D:_artist_ │\n",
       "│             ┆       ┆       ┆             ┆   ┆            ┆           ┆            ┆ P:_ comic_ │\n",
       "│             ┆       ┆       ┆             ┆   ┆            ┆           ┆            ┆ artist_com │\n",
       "│             ┆       ┆       ┆             ┆   ┆            ┆           ┆            ┆ ic…        │\n",
       "│ Q999999     ┆ 1982  ┆ null  ┆ null        ┆ … ┆ 46.809055  ┆ null      ┆ 0          ┆ D:_skier_P │\n",
       "│             ┆       ┆       ┆             ┆   ┆            ┆           ┆            ┆ :_cross    │\n",
       "│             ┆       ┆       ┆             ┆   ┆            ┆           ┆            ┆ country_sk │\n",
       "│             ┆       ┆       ┆             ┆   ┆            ┆           ┆            ┆ ier_…      │\n",
       "└─────────────┴───────┴───────┴─────────────┴───┴────────────┴───────────┴────────────┴────────────┘"
      ]
     },
     "execution_count": 11,
     "metadata": {},
     "output_type": "execute_result"
    }
   ],
   "source": [
    "ext"
   ]
  },
  {
   "cell_type": "markdown",
   "metadata": {},
   "source": [
    "- `name`: full name of the individual; \n",
    "- `group_wikipedia_editions`: partition category of the individual (from the A (*English*) edition of Wikipedia to F (\\texttt{Wikidata} only) as described in Table 1.); \n",
    "- birth: birth date of the individual (either reported or estimated); \n",
    "- death: death date of the individual (either reported or estimated); \n",
    "- level1_main_occ & level2_main_occ & level2_second_occ & level3_all_occ & level3_main_occ & freq_main_ occ & freq_second_occ: set of seven variables for the main domain of influence of each individual in three"
   ]
  },
  {
   "cell_type": "markdown",
   "metadata": {},
   "source": [
    "- `wikidata_code` - identifier\n",
    "- `birth` - birth year of the individual\n",
    "- `death` - death year of the individual\n",
    "- `updated_death_date`\n",
    "- `approx_birth`\n",
    "- `approx_death`\n",
    "- `birth_min`\n",
    "- `birth_max`\n",
    "- `death_min`\n",
    "- `death_max`\n",
    "- `gender`\n",
    "- `level1_main_occ`\n",
    "- `name`\n",
    "- `un_subregion`\n",
    "- `birth_estimation`\n",
    "- `death_estimation`\n",
    "- `bigperiod_birth_graph_b`\n",
    "- `bigperiod_death_graph_b`\n",
    "- `curid`\n",
    "- `level2_main_occ`\n",
    "- `freq_main_occ`\n",
    "- `freq_second_occ`\n",
    "- `level2_second_occ`\n",
    "- `level3_main_occ`\n",
    "- `bigperiod_birth`\n",
    "- `bigperiod_death`\n",
    "- `wiki_readers_2015_2018`\n",
    "- `non_missing_score`\n",
    "- `total_count_words_b`\n",
    "- `number_wiki_editions`\n",
    "- `total_noccur_links_b`\n",
    "- `sum_visib_ln_5criteria`\n",
    "- `ranking_visib_5criteria`\n",
    "- `all_geography_groups`\n",
    "- `string_citizenship_raw_d`\n",
    "- `citizenship_1_b`\n",
    "- `citizenship_2_b`\n",
    "- `list_areas_of_rattach`\n",
    "- `area1_of_rattachment`\n",
    "- `area2_of_rattachment`\n",
    "- `list_wikipedia_editions`\n",
    "- `un_region`\n",
    "- `group_wikipedia_editions`\n",
    "- `bplo1`\n",
    "- `dplo1`\n",
    "- `bpla1`\n",
    "- `dpla1`\n",
    "- `pantheon_1`\n",
    "- `level3_all_occ`"
   ]
  },
  {
   "cell_type": "code",
   "execution_count": 18,
   "metadata": {},
   "outputs": [
    {
     "data": {
      "text/html": [
       "<div><style>\n",
       ".dataframe > thead > tr,\n",
       ".dataframe > tbody > tr {\n",
       "  text-align: right;\n",
       "  white-space: pre-wrap;\n",
       "}\n",
       "</style>\n",
       "<small>shape: (2_291_817, 2)</small><table border=\"1\" class=\"dataframe\"><thead><tr><th>wikidata_code</th><th>count</th></tr><tr><td>str</td><td>u32</td></tr></thead><tbody><tr><td>&quot;Q1000002&quot;</td><td>1</td></tr><tr><td>&quot;Q1000005&quot;</td><td>1</td></tr><tr><td>&quot;Q1000006&quot;</td><td>1</td></tr><tr><td>&quot;Q1000015&quot;</td><td>1</td></tr><tr><td>&quot;Q1000023&quot;</td><td>1</td></tr><tr><td>&hellip;</td><td>&hellip;</td></tr><tr><td>&quot;Q999994&quot;</td><td>1</td></tr><tr><td>&quot;Q999995&quot;</td><td>1</td></tr><tr><td>&quot;Q999997&quot;</td><td>1</td></tr><tr><td>&quot;Q999998&quot;</td><td>1</td></tr><tr><td>&quot;Q999999&quot;</td><td>1</td></tr></tbody></table></div>"
      ],
      "text/plain": [
       "shape: (2_291_817, 2)\n",
       "┌───────────────┬───────┐\n",
       "│ wikidata_code ┆ count │\n",
       "│ ---           ┆ ---   │\n",
       "│ str           ┆ u32   │\n",
       "╞═══════════════╪═══════╡\n",
       "│ Q1000002      ┆ 1     │\n",
       "│ Q1000005      ┆ 1     │\n",
       "│ Q1000006      ┆ 1     │\n",
       "│ Q1000015      ┆ 1     │\n",
       "│ Q1000023      ┆ 1     │\n",
       "│ …             ┆ …     │\n",
       "│ Q999994       ┆ 1     │\n",
       "│ Q999995       ┆ 1     │\n",
       "│ Q999997       ┆ 1     │\n",
       "│ Q999998       ┆ 1     │\n",
       "│ Q999999       ┆ 1     │\n",
       "└───────────────┴───────┘"
      ]
     },
     "metadata": {},
     "output_type": "display_data"
    },
    {
     "data": {
      "text/html": [
       "<div><style>\n",
       ".dataframe > thead > tr,\n",
       ".dataframe > tbody > tr {\n",
       "  text-align: right;\n",
       "  white-space: pre-wrap;\n",
       "}\n",
       "</style>\n",
       "<small>shape: (2_639, 2)</small><table border=\"1\" class=\"dataframe\"><thead><tr><th>birth</th><th>count</th></tr><tr><td>i64</td><td>u32</td></tr></thead><tbody><tr><td>null</td><td>195919</td></tr><tr><td>1950</td><td>20227</td></tr><tr><td>1988</td><td>20215</td></tr><tr><td>1985</td><td>20134</td></tr><tr><td>1986</td><td>19998</td></tr><tr><td>&hellip;</td><td>&hellip;</td></tr><tr><td>-599</td><td>1</td></tr><tr><td>-274</td><td>1</td></tr><tr><td>-1440</td><td>1</td></tr><tr><td>-1648</td><td>1</td></tr><tr><td>-586</td><td>1</td></tr></tbody></table></div>"
      ],
      "text/plain": [
       "shape: (2_639, 2)\n",
       "┌───────┬────────┐\n",
       "│ birth ┆ count  │\n",
       "│ ---   ┆ ---    │\n",
       "│ i64   ┆ u32    │\n",
       "╞═══════╪════════╡\n",
       "│ null  ┆ 195919 │\n",
       "│ 1950  ┆ 20227  │\n",
       "│ 1988  ┆ 20215  │\n",
       "│ 1985  ┆ 20134  │\n",
       "│ 1986  ┆ 19998  │\n",
       "│ …     ┆ …      │\n",
       "│ -599  ┆ 1      │\n",
       "│ -274  ┆ 1      │\n",
       "│ -1440 ┆ 1      │\n",
       "│ -1648 ┆ 1      │\n",
       "│ -586  ┆ 1      │\n",
       "└───────┴────────┘"
      ]
     },
     "metadata": {},
     "output_type": "display_data"
    },
    {
     "data": {
      "text/html": [
       "<div><style>\n",
       ".dataframe > thead > tr,\n",
       ".dataframe > tbody > tr {\n",
       "  text-align: right;\n",
       "  white-space: pre-wrap;\n",
       "}\n",
       "</style>\n",
       "<small>shape: (2_941, 2)</small><table border=\"1\" class=\"dataframe\"><thead><tr><th>death</th><th>count</th></tr><tr><td>i64</td><td>u32</td></tr></thead><tbody><tr><td>null</td><td>1244507</td></tr><tr><td>2015</td><td>12406</td></tr><tr><td>2013</td><td>12352</td></tr><tr><td>2014</td><td>12308</td></tr><tr><td>2016</td><td>12039</td></tr><tr><td>&hellip;</td><td>&hellip;</td></tr><tr><td>-452</td><td>1</td></tr><tr><td>-540</td><td>1</td></tr><tr><td>-1415</td><td>1</td></tr><tr><td>-593</td><td>1</td></tr><tr><td>-532</td><td>1</td></tr></tbody></table></div>"
      ],
      "text/plain": [
       "shape: (2_941, 2)\n",
       "┌───────┬─────────┐\n",
       "│ death ┆ count   │\n",
       "│ ---   ┆ ---     │\n",
       "│ i64   ┆ u32     │\n",
       "╞═══════╪═════════╡\n",
       "│ null  ┆ 1244507 │\n",
       "│ 2015  ┆ 12406   │\n",
       "│ 2013  ┆ 12352   │\n",
       "│ 2014  ┆ 12308   │\n",
       "│ 2016  ┆ 12039   │\n",
       "│ …     ┆ …       │\n",
       "│ -452  ┆ 1       │\n",
       "│ -540  ┆ 1       │\n",
       "│ -1415 ┆ 1       │\n",
       "│ -593  ┆ 1       │\n",
       "│ -532  ┆ 1       │\n",
       "└───────┴─────────┘"
      ]
     },
     "metadata": {},
     "output_type": "display_data"
    },
    {
     "data": {
      "text/html": [
       "<div><style>\n",
       ".dataframe > thead > tr,\n",
       ".dataframe > tbody > tr {\n",
       "  text-align: right;\n",
       "  white-space: pre-wrap;\n",
       "}\n",
       "</style>\n",
       "<small>shape: (4, 2)</small><table border=\"1\" class=\"dataframe\"><thead><tr><th>updated_death_date</th><th>count</th></tr><tr><td>i64</td><td>u32</td></tr></thead><tbody><tr><td>null</td><td>2275077</td></tr><tr><td>2021</td><td>10321</td></tr><tr><td>2022</td><td>4194</td></tr><tr><td>2020</td><td>2225</td></tr></tbody></table></div>"
      ],
      "text/plain": [
       "shape: (4, 2)\n",
       "┌────────────────────┬─────────┐\n",
       "│ updated_death_date ┆ count   │\n",
       "│ ---                ┆ ---     │\n",
       "│ i64                ┆ u32     │\n",
       "╞════════════════════╪═════════╡\n",
       "│ null               ┆ 2275077 │\n",
       "│ 2021               ┆ 10321   │\n",
       "│ 2022               ┆ 4194    │\n",
       "│ 2020               ┆ 2225    │\n",
       "└────────────────────┴─────────┘"
      ]
     },
     "metadata": {},
     "output_type": "display_data"
    },
    {
     "data": {
      "text/html": [
       "<div><style>\n",
       ".dataframe > thead > tr,\n",
       ".dataframe > tbody > tr {\n",
       "  text-align: right;\n",
       "  white-space: pre-wrap;\n",
       "}\n",
       "</style>\n",
       "<small>shape: (4, 2)</small><table border=\"1\" class=\"dataframe\"><thead><tr><th>approx_birth</th><th>count</th></tr><tr><td>str</td><td>u32</td></tr></thead><tbody><tr><td>null</td><td>2201780</td></tr><tr><td>&quot;century&quot;</td><td>52613</td></tr><tr><td>&quot;circa&quot;</td><td>37390</td></tr><tr><td>&quot;millenium&quot;</td><td>34</td></tr></tbody></table></div>"
      ],
      "text/plain": [
       "shape: (4, 2)\n",
       "┌──────────────┬─────────┐\n",
       "│ approx_birth ┆ count   │\n",
       "│ ---          ┆ ---     │\n",
       "│ str          ┆ u32     │\n",
       "╞══════════════╪═════════╡\n",
       "│ null         ┆ 2201780 │\n",
       "│ century      ┆ 52613   │\n",
       "│ circa        ┆ 37390   │\n",
       "│ millenium    ┆ 34      │\n",
       "└──────────────┴─────────┘"
      ]
     },
     "metadata": {},
     "output_type": "display_data"
    },
    {
     "data": {
      "text/html": [
       "<div><style>\n",
       ".dataframe > thead > tr,\n",
       ".dataframe > tbody > tr {\n",
       "  text-align: right;\n",
       "  white-space: pre-wrap;\n",
       "}\n",
       "</style>\n",
       "<small>shape: (4, 2)</small><table border=\"1\" class=\"dataframe\"><thead><tr><th>approx_death</th><th>count</th></tr><tr><td>str</td><td>u32</td></tr></thead><tbody><tr><td>null</td><td>2259756</td></tr><tr><td>&quot;century&quot;</td><td>16353</td></tr><tr><td>&quot;circa&quot;</td><td>15666</td></tr><tr><td>&quot;millenium&quot;</td><td>42</td></tr></tbody></table></div>"
      ],
      "text/plain": [
       "shape: (4, 2)\n",
       "┌──────────────┬─────────┐\n",
       "│ approx_death ┆ count   │\n",
       "│ ---          ┆ ---     │\n",
       "│ str          ┆ u32     │\n",
       "╞══════════════╪═════════╡\n",
       "│ null         ┆ 2259756 │\n",
       "│ century      ┆ 16353   │\n",
       "│ circa        ┆ 15666   │\n",
       "│ millenium    ┆ 42      │\n",
       "└──────────────┴─────────┘"
      ]
     },
     "metadata": {},
     "output_type": "display_data"
    },
    {
     "data": {
      "text/html": [
       "<div><style>\n",
       ".dataframe > thead > tr,\n",
       ".dataframe > tbody > tr {\n",
       "  text-align: right;\n",
       "  white-space: pre-wrap;\n",
       "}\n",
       "</style>\n",
       "<small>shape: (2_653, 2)</small><table border=\"1\" class=\"dataframe\"><thead><tr><th>birth_min</th><th>count</th></tr><tr><td>i64</td><td>u32</td></tr></thead><tbody><tr><td>null</td><td>142965</td></tr><tr><td>1901</td><td>35437</td></tr><tr><td>1950</td><td>20230</td></tr><tr><td>1988</td><td>20215</td></tr><tr><td>1985</td><td>20134</td></tr><tr><td>&hellip;</td><td>&hellip;</td></tr><tr><td>-599</td><td>1</td></tr><tr><td>-274</td><td>1</td></tr><tr><td>-1440</td><td>1</td></tr><tr><td>-1648</td><td>1</td></tr><tr><td>-586</td><td>1</td></tr></tbody></table></div>"
      ],
      "text/plain": [
       "shape: (2_653, 2)\n",
       "┌───────────┬────────┐\n",
       "│ birth_min ┆ count  │\n",
       "│ ---       ┆ ---    │\n",
       "│ i64       ┆ u32    │\n",
       "╞═══════════╪════════╡\n",
       "│ null      ┆ 142965 │\n",
       "│ 1901      ┆ 35437  │\n",
       "│ 1950      ┆ 20230  │\n",
       "│ 1988      ┆ 20215  │\n",
       "│ 1985      ┆ 20134  │\n",
       "│ …         ┆ …      │\n",
       "│ -599      ┆ 1      │\n",
       "│ -274      ┆ 1      │\n",
       "│ -1440     ┆ 1      │\n",
       "│ -1648     ┆ 1      │\n",
       "│ -586      ┆ 1      │\n",
       "└───────────┴────────┘"
      ]
     },
     "metadata": {},
     "output_type": "display_data"
    },
    {
     "data": {
      "text/html": [
       "<div><style>\n",
       ".dataframe > thead > tr,\n",
       ".dataframe > tbody > tr {\n",
       "  text-align: right;\n",
       "  white-space: pre-wrap;\n",
       "}\n",
       "</style>\n",
       "<small>shape: (2_669, 2)</small><table border=\"1\" class=\"dataframe\"><thead><tr><th>birth_max</th><th>count</th></tr><tr><td>i64</td><td>u32</td></tr></thead><tbody><tr><td>null</td><td>142965</td></tr><tr><td>2000</td><td>30250</td></tr><tr><td>1950</td><td>20228</td></tr><tr><td>1988</td><td>20215</td></tr><tr><td>1985</td><td>20134</td></tr><tr><td>&hellip;</td><td>&hellip;</td></tr><tr><td>-599</td><td>1</td></tr><tr><td>-274</td><td>1</td></tr><tr><td>-1440</td><td>1</td></tr><tr><td>-1648</td><td>1</td></tr><tr><td>-586</td><td>1</td></tr></tbody></table></div>"
      ],
      "text/plain": [
       "shape: (2_669, 2)\n",
       "┌───────────┬────────┐\n",
       "│ birth_max ┆ count  │\n",
       "│ ---       ┆ ---    │\n",
       "│ i64       ┆ u32    │\n",
       "╞═══════════╪════════╡\n",
       "│ null      ┆ 142965 │\n",
       "│ 2000      ┆ 30250  │\n",
       "│ 1950      ┆ 20228  │\n",
       "│ 1988      ┆ 20215  │\n",
       "│ 1985      ┆ 20134  │\n",
       "│ …         ┆ …      │\n",
       "│ -599      ┆ 1      │\n",
       "│ -274      ┆ 1      │\n",
       "│ -1440     ┆ 1      │\n",
       "│ -1648     ┆ 1      │\n",
       "│ -586      ┆ 1      │\n",
       "└───────────┴────────┘"
      ]
     },
     "metadata": {},
     "output_type": "display_data"
    },
    {
     "data": {
      "text/html": [
       "<div><style>\n",
       ".dataframe > thead > tr,\n",
       ".dataframe > tbody > tr {\n",
       "  text-align: right;\n",
       "  white-space: pre-wrap;\n",
       "}\n",
       "</style>\n",
       "<small>shape: (2_972, 2)</small><table border=\"1\" class=\"dataframe\"><thead><tr><th>death_min</th><th>count</th></tr><tr><td>i64</td><td>u32</td></tr></thead><tbody><tr><td>null</td><td>1228132</td></tr><tr><td>2015</td><td>12406</td></tr><tr><td>2013</td><td>12352</td></tr><tr><td>2014</td><td>12308</td></tr><tr><td>2016</td><td>12039</td></tr><tr><td>&hellip;</td><td>&hellip;</td></tr><tr><td>-452</td><td>1</td></tr><tr><td>-540</td><td>1</td></tr><tr><td>-1415</td><td>1</td></tr><tr><td>-593</td><td>1</td></tr><tr><td>-532</td><td>1</td></tr></tbody></table></div>"
      ],
      "text/plain": [
       "shape: (2_972, 2)\n",
       "┌───────────┬─────────┐\n",
       "│ death_min ┆ count   │\n",
       "│ ---       ┆ ---     │\n",
       "│ i64       ┆ u32     │\n",
       "╞═══════════╪═════════╡\n",
       "│ null      ┆ 1228132 │\n",
       "│ 2015      ┆ 12406   │\n",
       "│ 2013      ┆ 12352   │\n",
       "│ 2014      ┆ 12308   │\n",
       "│ 2016      ┆ 12039   │\n",
       "│ …         ┆ …       │\n",
       "│ -452      ┆ 1       │\n",
       "│ -540      ┆ 1       │\n",
       "│ -1415     ┆ 1       │\n",
       "│ -593      ┆ 1       │\n",
       "│ -532      ┆ 1       │\n",
       "└───────────┴─────────┘"
      ]
     },
     "metadata": {},
     "output_type": "display_data"
    },
    {
     "data": {
      "text/html": [
       "<div><style>\n",
       ".dataframe > thead > tr,\n",
       ".dataframe > tbody > tr {\n",
       "  text-align: right;\n",
       "  white-space: pre-wrap;\n",
       "}\n",
       "</style>\n",
       "<small>shape: (2_974, 2)</small><table border=\"1\" class=\"dataframe\"><thead><tr><th>death_max</th><th>count</th></tr><tr><td>i64</td><td>u32</td></tr></thead><tbody><tr><td>null</td><td>1228132</td></tr><tr><td>2000</td><td>13205</td></tr><tr><td>2015</td><td>12406</td></tr><tr><td>2013</td><td>12352</td></tr><tr><td>2014</td><td>12308</td></tr><tr><td>&hellip;</td><td>&hellip;</td></tr><tr><td>-452</td><td>1</td></tr><tr><td>-540</td><td>1</td></tr><tr><td>-1415</td><td>1</td></tr><tr><td>-593</td><td>1</td></tr><tr><td>-532</td><td>1</td></tr></tbody></table></div>"
      ],
      "text/plain": [
       "shape: (2_974, 2)\n",
       "┌───────────┬─────────┐\n",
       "│ death_max ┆ count   │\n",
       "│ ---       ┆ ---     │\n",
       "│ i64       ┆ u32     │\n",
       "╞═══════════╪═════════╡\n",
       "│ null      ┆ 1228132 │\n",
       "│ 2000      ┆ 13205   │\n",
       "│ 2015      ┆ 12406   │\n",
       "│ 2013      ┆ 12352   │\n",
       "│ 2014      ┆ 12308   │\n",
       "│ …         ┆ …       │\n",
       "│ -452      ┆ 1       │\n",
       "│ -540      ┆ 1       │\n",
       "│ -1415     ┆ 1       │\n",
       "│ -593      ┆ 1       │\n",
       "│ -532      ┆ 1       │\n",
       "└───────────┴─────────┘"
      ]
     },
     "metadata": {},
     "output_type": "display_data"
    },
    {
     "data": {
      "text/html": [
       "<div><style>\n",
       ".dataframe > thead > tr,\n",
       ".dataframe > tbody > tr {\n",
       "  text-align: right;\n",
       "  white-space: pre-wrap;\n",
       "}\n",
       "</style>\n",
       "<small>shape: (4, 2)</small><table border=\"1\" class=\"dataframe\"><thead><tr><th>gender</th><th>count</th></tr><tr><td>str</td><td>u32</td></tr></thead><tbody><tr><td>&quot;Male&quot;</td><td>1901904</td></tr><tr><td>&quot;Female&quot;</td><td>387906</td></tr><tr><td>null</td><td>1398</td></tr><tr><td>&quot;Other&quot;</td><td>609</td></tr></tbody></table></div>"
      ],
      "text/plain": [
       "shape: (4, 2)\n",
       "┌────────┬─────────┐\n",
       "│ gender ┆ count   │\n",
       "│ ---    ┆ ---     │\n",
       "│ str    ┆ u32     │\n",
       "╞════════╪═════════╡\n",
       "│ Male   ┆ 1901904 │\n",
       "│ Female ┆ 387906  │\n",
       "│ null   ┆ 1398    │\n",
       "│ Other  ┆ 609     │\n",
       "└────────┴─────────┘"
      ]
     },
     "metadata": {},
     "output_type": "display_data"
    },
    {
     "data": {
      "text/html": [
       "<div><style>\n",
       ".dataframe > thead > tr,\n",
       ".dataframe > tbody > tr {\n",
       "  text-align: right;\n",
       "  white-space: pre-wrap;\n",
       "}\n",
       "</style>\n",
       "<small>shape: (6, 2)</small><table border=\"1\" class=\"dataframe\"><thead><tr><th>level1_main_occ</th><th>count</th></tr><tr><td>str</td><td>u32</td></tr></thead><tbody><tr><td>&quot;Culture&quot;</td><td>702330</td></tr><tr><td>&quot;Sports/Games&quot;</td><td>633450</td></tr><tr><td>&quot;Leadership&quot;</td><td>619146</td></tr><tr><td>&quot;Discovery/Scie…</td><td>273229</td></tr><tr><td>&quot;Other&quot;</td><td>48245</td></tr><tr><td>&quot;Missing&quot;</td><td>15417</td></tr></tbody></table></div>"
      ],
      "text/plain": [
       "shape: (6, 2)\n",
       "┌───────────────────┬────────┐\n",
       "│ level1_main_occ   ┆ count  │\n",
       "│ ---               ┆ ---    │\n",
       "│ str               ┆ u32    │\n",
       "╞═══════════════════╪════════╡\n",
       "│ Culture           ┆ 702330 │\n",
       "│ Sports/Games      ┆ 633450 │\n",
       "│ Leadership        ┆ 619146 │\n",
       "│ Discovery/Science ┆ 273229 │\n",
       "│ Other             ┆ 48245  │\n",
       "│ Missing           ┆ 15417  │\n",
       "└───────────────────┴────────┘"
      ]
     },
     "metadata": {},
     "output_type": "display_data"
    },
    {
     "data": {
      "text/html": [
       "<div><style>\n",
       ".dataframe > thead > tr,\n",
       ".dataframe > tbody > tr {\n",
       "  text-align: right;\n",
       "  white-space: pre-wrap;\n",
       "}\n",
       "</style>\n",
       "<small>shape: (2_281_730, 2)</small><table border=\"1\" class=\"dataframe\"><thead><tr><th>name</th><th>count</th></tr><tr><td>str</td><td>u32</td></tr></thead><tbody><tr><td>null</td><td>333</td></tr><tr><td>&quot;Harald_Hansen&quot;</td><td>4</td></tr><tr><td>&quot;Rudolf_Abel&quot;</td><td>3</td></tr><tr><td>&quot;Luís_de_Almeid…</td><td>3</td></tr><tr><td>&quot;Marco_Bianchi&quot;</td><td>3</td></tr><tr><td>&hellip;</td><td>&hellip;</td></tr><tr><td>&quot;Mitja_Mežnar&quot;</td><td>1</td></tr><tr><td>&quot;Martin_Cikl&quot;</td><td>1</td></tr><tr><td>&quot;Vincent_Descom…</td><td>1</td></tr><tr><td>&quot;José_Massaroli…</td><td>1</td></tr><tr><td>&quot;Seraina_Boner&quot;</td><td>1</td></tr></tbody></table></div>"
      ],
      "text/plain": [
       "shape: (2_281_730, 2)\n",
       "┌──────────────────────────┬───────┐\n",
       "│ name                     ┆ count │\n",
       "│ ---                      ┆ ---   │\n",
       "│ str                      ┆ u32   │\n",
       "╞══════════════════════════╪═══════╡\n",
       "│ null                     ┆ 333   │\n",
       "│ Harald_Hansen            ┆ 4     │\n",
       "│ Rudolf_Abel              ┆ 3     │\n",
       "│ Luís_de_Almeida          ┆ 3     │\n",
       "│ Marco_Bianchi            ┆ 3     │\n",
       "│ …                        ┆ …     │\n",
       "│ Mitja_Mežnar             ┆ 1     │\n",
       "│ Martin_Cikl              ┆ 1     │\n",
       "│ Vincent_Descombes_Sevoie ┆ 1     │\n",
       "│ José_Massaroli           ┆ 1     │\n",
       "│ Seraina_Boner            ┆ 1     │\n",
       "└──────────────────────────┴───────┘"
      ]
     },
     "metadata": {},
     "output_type": "display_data"
    },
    {
     "data": {
      "text/html": [
       "<div><style>\n",
       ".dataframe > thead > tr,\n",
       ".dataframe > tbody > tr {\n",
       "  text-align: right;\n",
       "  white-space: pre-wrap;\n",
       "}\n",
       "</style>\n",
       "<small>shape: (21, 2)</small><table border=\"1\" class=\"dataframe\"><thead><tr><th>un_subregion</th><th>count</th></tr><tr><td>str</td><td>u32</td></tr></thead><tbody><tr><td>&quot;Western Europe…</td><td>779670</td></tr><tr><td>&quot;Northern Ameri…</td><td>474983</td></tr><tr><td>&quot;Southern Europ…</td><td>223089</td></tr><tr><td>&quot;Northern Europ…</td><td>138728</td></tr><tr><td>&quot;South America&quot;</td><td>108613</td></tr><tr><td>&hellip;</td><td>&hellip;</td></tr><tr><td>&quot;Southern Afric…</td><td>13170</td></tr><tr><td>&quot;East Africa&quot;</td><td>12841</td></tr><tr><td>&quot;Central Africa…</td><td>5634</td></tr><tr><td>&quot;Central Asia&quot;</td><td>4017</td></tr><tr><td>&quot;Oceania not Au…</td><td>2035</td></tr></tbody></table></div>"
      ],
      "text/plain": [
       "shape: (21, 2)\n",
       "┌─────────────────────┬────────┐\n",
       "│ un_subregion        ┆ count  │\n",
       "│ ---                 ┆ ---    │\n",
       "│ str                 ┆ u32    │\n",
       "╞═════════════════════╪════════╡\n",
       "│ Western Europe      ┆ 779670 │\n",
       "│ Northern America    ┆ 474983 │\n",
       "│ Southern Europe     ┆ 223089 │\n",
       "│ Northern Europe     ┆ 138728 │\n",
       "│ South America       ┆ 108613 │\n",
       "│ …                   ┆ …      │\n",
       "│ Southern Africa     ┆ 13170  │\n",
       "│ East Africa         ┆ 12841  │\n",
       "│ Central Africa      ┆ 5634   │\n",
       "│ Central Asia        ┆ 4017   │\n",
       "│ Oceania not Aus Nze ┆ 2035   │\n",
       "└─────────────────────┴────────┘"
      ]
     },
     "metadata": {},
     "output_type": "display_data"
    },
    {
     "data": {
      "text/html": [
       "<div><style>\n",
       ".dataframe > thead > tr,\n",
       ".dataframe > tbody > tr {\n",
       "  text-align: right;\n",
       "  white-space: pre-wrap;\n",
       "}\n",
       "</style>\n",
       "<small>shape: (14_292, 2)</small><table border=\"1\" class=\"dataframe\"><thead><tr><th>birth_estimation</th><th>count</th></tr><tr><td>f64</td><td>u32</td></tr></thead><tbody><tr><td>null</td><td>112528</td></tr><tr><td>1951.0</td><td>43628</td></tr><tr><td>1950.0</td><td>20248</td></tr><tr><td>1988.0</td><td>20215</td></tr><tr><td>1985.0</td><td>20136</td></tr><tr><td>&hellip;</td><td>&hellip;</td></tr><tr><td>1183.2982</td><td>1</td></tr><tr><td>1287.3851</td><td>1</td></tr><tr><td>915.74115</td><td>1</td></tr><tr><td>1009.1835</td><td>1</td></tr><tr><td>1511.228</td><td>1</td></tr></tbody></table></div>"
      ],
      "text/plain": [
       "shape: (14_292, 2)\n",
       "┌──────────────────┬────────┐\n",
       "│ birth_estimation ┆ count  │\n",
       "│ ---              ┆ ---    │\n",
       "│ f64              ┆ u32    │\n",
       "╞══════════════════╪════════╡\n",
       "│ null             ┆ 112528 │\n",
       "│ 1951.0           ┆ 43628  │\n",
       "│ 1950.0           ┆ 20248  │\n",
       "│ 1988.0           ┆ 20215  │\n",
       "│ 1985.0           ┆ 20136  │\n",
       "│ …                ┆ …      │\n",
       "│ 1183.2982        ┆ 1      │\n",
       "│ 1287.3851        ┆ 1      │\n",
       "│ 915.74115        ┆ 1      │\n",
       "│ 1009.1835        ┆ 1      │\n",
       "│ 1511.228         ┆ 1      │\n",
       "└──────────────────┴────────┘"
      ]
     },
     "metadata": {},
     "output_type": "display_data"
    },
    {
     "data": {
      "text/html": [
       "<div><style>\n",
       ".dataframe > thead > tr,\n",
       ".dataframe > tbody > tr {\n",
       "  text-align: right;\n",
       "  white-space: pre-wrap;\n",
       "}\n",
       "</style>\n",
       "<small>shape: (23_596, 2)</small><table border=\"1\" class=\"dataframe\"><thead><tr><th>death_estimation</th><th>count</th></tr><tr><td>f64</td><td>u32</td></tr></thead><tbody><tr><td>null</td><td>112528</td></tr><tr><td>2015.0</td><td>12406</td></tr><tr><td>2013.0</td><td>12352</td></tr><tr><td>2014.0</td><td>12308</td></tr><tr><td>2016.0</td><td>12039</td></tr><tr><td>&hellip;</td><td>&hellip;</td></tr><tr><td>1999.1826</td><td>1</td></tr><tr><td>2062.5371</td><td>1</td></tr><tr><td>1972.4149</td><td>1</td></tr><tr><td>-960.46045</td><td>1</td></tr><tr><td>1967.3408</td><td>1</td></tr></tbody></table></div>"
      ],
      "text/plain": [
       "shape: (23_596, 2)\n",
       "┌──────────────────┬────────┐\n",
       "│ death_estimation ┆ count  │\n",
       "│ ---              ┆ ---    │\n",
       "│ f64              ┆ u32    │\n",
       "╞══════════════════╪════════╡\n",
       "│ null             ┆ 112528 │\n",
       "│ 2015.0           ┆ 12406  │\n",
       "│ 2013.0           ┆ 12352  │\n",
       "│ 2014.0           ┆ 12308  │\n",
       "│ 2016.0           ┆ 12039  │\n",
       "│ …                ┆ …      │\n",
       "│ 1999.1826        ┆ 1      │\n",
       "│ 2062.5371        ┆ 1      │\n",
       "│ 1972.4149        ┆ 1      │\n",
       "│ -960.46045       ┆ 1      │\n",
       "│ 1967.3408        ┆ 1      │\n",
       "└──────────────────┴────────┘"
      ]
     },
     "metadata": {},
     "output_type": "display_data"
    },
    {
     "data": {
      "text/html": [
       "<div><style>\n",
       ".dataframe > thead > tr,\n",
       ".dataframe > tbody > tr {\n",
       "  text-align: right;\n",
       "  white-space: pre-wrap;\n",
       "}\n",
       "</style>\n",
       "<small>shape: (6, 2)</small><table border=\"1\" class=\"dataframe\"><thead><tr><th>bigperiod_birth_graph_b</th><th>count</th></tr><tr><td>str</td><td>u32</td></tr></thead><tbody><tr><td>&quot;5.Contemporary…</td><td>1518405</td></tr><tr><td>&quot;4.Mid Modern P…</td><td>487305</td></tr><tr><td>null</td><td>112528</td></tr><tr><td>&quot;3.Early Modern…</td><td>103722</td></tr><tr><td>&quot;2.Post-Classic…</td><td>55297</td></tr><tr><td>&quot;1.Ancient Hist…</td><td>14560</td></tr></tbody></table></div>"
      ],
      "text/plain": [
       "shape: (6, 2)\n",
       "┌───────────────────────────────────┬─────────┐\n",
       "│ bigperiod_birth_graph_b           ┆ count   │\n",
       "│ ---                               ┆ ---     │\n",
       "│ str                               ┆ u32     │\n",
       "╞═══════════════════════════════════╪═════════╡\n",
       "│ 5.Contemporary period 1901-2020A… ┆ 1518405 │\n",
       "│ 4.Mid Modern Period 1751-1900AD   ┆ 487305  │\n",
       "│ null                              ┆ 112528  │\n",
       "│ 3.Early Modern Period 1501-1750A… ┆ 103722  │\n",
       "│ 2.Post-Classical History 501-150… ┆ 55297   │\n",
       "│ 1.Ancient History Before 500AD    ┆ 14560   │\n",
       "└───────────────────────────────────┴─────────┘"
      ]
     },
     "metadata": {},
     "output_type": "display_data"
    },
    {
     "data": {
      "text/html": [
       "<div><style>\n",
       ".dataframe > thead > tr,\n",
       ".dataframe > tbody > tr {\n",
       "  text-align: right;\n",
       "  white-space: pre-wrap;\n",
       "}\n",
       "</style>\n",
       "<small>shape: (6, 2)</small><table border=\"1\" class=\"dataframe\"><thead><tr><th>bigperiod_death_graph_b</th><th>count</th></tr><tr><td>str</td><td>u32</td></tr></thead><tbody><tr><td>&quot;5.Contemporary…</td><td>1862123</td></tr><tr><td>&quot;4.Mid Modern P…</td><td>182459</td></tr><tr><td>null</td><td>112528</td></tr><tr><td>&quot;3.Early Modern…</td><td>76031</td></tr><tr><td>&quot;2.Post-Classic…</td><td>45037</td></tr><tr><td>&quot;1.Ancient Hist…</td><td>13639</td></tr></tbody></table></div>"
      ],
      "text/plain": [
       "shape: (6, 2)\n",
       "┌───────────────────────────────────┬─────────┐\n",
       "│ bigperiod_death_graph_b           ┆ count   │\n",
       "│ ---                               ┆ ---     │\n",
       "│ str                               ┆ u32     │\n",
       "╞═══════════════════════════════════╪═════════╡\n",
       "│ 5.Contemporary period 1901-2020A… ┆ 1862123 │\n",
       "│ 4.Mid Modern Period 1751-1900AD   ┆ 182459  │\n",
       "│ null                              ┆ 112528  │\n",
       "│ 3.Early Modern Period 1501-1750A… ┆ 76031   │\n",
       "│ 2.Post-Classical History 501-150… ┆ 45037   │\n",
       "│ 1.Ancient History Before 500AD    ┆ 13639   │\n",
       "└───────────────────────────────────┴─────────┘"
      ]
     },
     "metadata": {},
     "output_type": "display_data"
    },
    {
     "data": {
      "text/html": [
       "<div><style>\n",
       ".dataframe > thead > tr,\n",
       ".dataframe > tbody > tr {\n",
       "  text-align: right;\n",
       "  white-space: pre-wrap;\n",
       "}\n",
       "</style>\n",
       "<small>shape: (2_248_318, 2)</small><table border=\"1\" class=\"dataframe\"><thead><tr><th>curid</th><th>count</th></tr><tr><td>i64</td><td>u32</td></tr></thead><tbody><tr><td>2487564</td><td>4</td></tr><tr><td>5907876</td><td>4</td></tr><tr><td>2468499</td><td>4</td></tr><tr><td>1285971</td><td>4</td></tr><tr><td>4079979</td><td>4</td></tr><tr><td>&hellip;</td><td>&hellip;</td></tr><tr><td>20581328</td><td>1</td></tr><tr><td>16791925</td><td>1</td></tr><tr><td>21384087</td><td>1</td></tr><tr><td>11512070</td><td>1</td></tr><tr><td>41897786</td><td>1</td></tr></tbody></table></div>"
      ],
      "text/plain": [
       "shape: (2_248_318, 2)\n",
       "┌──────────┬───────┐\n",
       "│ curid    ┆ count │\n",
       "│ ---      ┆ ---   │\n",
       "│ i64      ┆ u32   │\n",
       "╞══════════╪═══════╡\n",
       "│ 2487564  ┆ 4     │\n",
       "│ 5907876  ┆ 4     │\n",
       "│ 2468499  ┆ 4     │\n",
       "│ 1285971  ┆ 4     │\n",
       "│ 4079979  ┆ 4     │\n",
       "│ …        ┆ …     │\n",
       "│ 20581328 ┆ 1     │\n",
       "│ 16791925 ┆ 1     │\n",
       "│ 21384087 ┆ 1     │\n",
       "│ 11512070 ┆ 1     │\n",
       "│ 41897786 ┆ 1     │\n",
       "└──────────┴───────┘"
      ]
     },
     "metadata": {},
     "output_type": "display_data"
    },
    {
     "data": {
      "text/html": [
       "<div><style>\n",
       ".dataframe > thead > tr,\n",
       ".dataframe > tbody > tr {\n",
       "  text-align: right;\n",
       "  white-space: pre-wrap;\n",
       "}\n",
       "</style>\n",
       "<small>shape: (15, 2)</small><table border=\"1\" class=\"dataframe\"><thead><tr><th>level2_main_occ</th><th>count</th></tr><tr><td>str</td><td>u32</td></tr></thead><tbody><tr><td>&quot;Sports/Games&quot;</td><td>634945</td></tr><tr><td>&quot;Culture-core&quot;</td><td>604250</td></tr><tr><td>&quot;Politics&quot;</td><td>314558</td></tr><tr><td>&quot;Academia&quot;</td><td>249298</td></tr><tr><td>&quot;Culture-periph…</td><td>97702</td></tr><tr><td>&hellip;</td><td>&hellip;</td></tr><tr><td>&quot;Explorer/Inven…</td><td>22814</td></tr><tr><td>&quot;Worker/Busines…</td><td>22796</td></tr><tr><td>&quot;Missing&quot;</td><td>15417</td></tr><tr><td>&quot;Other&quot;</td><td>14579</td></tr><tr><td>&quot;Family&quot;</td><td>10870</td></tr></tbody></table></div>"
      ],
      "text/plain": [
       "shape: (15, 2)\n",
       "┌─────────────────────────────┬────────┐\n",
       "│ level2_main_occ             ┆ count  │\n",
       "│ ---                         ┆ ---    │\n",
       "│ str                         ┆ u32    │\n",
       "╞═════════════════════════════╪════════╡\n",
       "│ Sports/Games                ┆ 634945 │\n",
       "│ Culture-core                ┆ 604250 │\n",
       "│ Politics                    ┆ 314558 │\n",
       "│ Academia                    ┆ 249298 │\n",
       "│ Culture-periphery           ┆ 97702  │\n",
       "│ …                           ┆ …      │\n",
       "│ Explorer/Inventor/Developer ┆ 22814  │\n",
       "│ Worker/Business (small)     ┆ 22796  │\n",
       "│ Missing                     ┆ 15417  │\n",
       "│ Other                       ┆ 14579  │\n",
       "│ Family                      ┆ 10870  │\n",
       "└─────────────────────────────┴────────┘"
      ]
     },
     "metadata": {},
     "output_type": "display_data"
    },
    {
     "data": {
      "text/html": [
       "<div><style>\n",
       ".dataframe > thead > tr,\n",
       ".dataframe > tbody > tr {\n",
       "  text-align: right;\n",
       "  white-space: pre-wrap;\n",
       "}\n",
       "</style>\n",
       "<small>shape: (502, 2)</small><table border=\"1\" class=\"dataframe\"><thead><tr><th>freq_main_occ</th><th>count</th></tr><tr><td>f64</td><td>u32</td></tr></thead><tbody><tr><td>1.0</td><td>1223469</td></tr><tr><td>0.8</td><td>157649</td></tr><tr><td>0.6</td><td>127020</td></tr><tr><td>0.666667</td><td>105425</td></tr><tr><td>0.75</td><td>89919</td></tr><tr><td>&hellip;</td><td>&hellip;</td></tr><tr><td>0.9074074</td><td>1</td></tr><tr><td>0.58</td><td>1</td></tr><tr><td>0.975</td><td>1</td></tr><tr><td>0.55814</td><td>1</td></tr><tr><td>0.744681</td><td>1</td></tr></tbody></table></div>"
      ],
      "text/plain": [
       "shape: (502, 2)\n",
       "┌───────────────┬─────────┐\n",
       "│ freq_main_occ ┆ count   │\n",
       "│ ---           ┆ ---     │\n",
       "│ f64           ┆ u32     │\n",
       "╞═══════════════╪═════════╡\n",
       "│ 1.0           ┆ 1223469 │\n",
       "│ 0.8           ┆ 157649  │\n",
       "│ 0.6           ┆ 127020  │\n",
       "│ 0.666667      ┆ 105425  │\n",
       "│ 0.75          ┆ 89919   │\n",
       "│ …             ┆ …       │\n",
       "│ 0.9074074     ┆ 1       │\n",
       "│ 0.58          ┆ 1       │\n",
       "│ 0.975         ┆ 1       │\n",
       "│ 0.55814       ┆ 1       │\n",
       "│ 0.744681      ┆ 1       │\n",
       "└───────────────┴─────────┘"
      ]
     },
     "metadata": {},
     "output_type": "display_data"
    },
    {
     "data": {
      "text/html": [
       "<div><style>\n",
       ".dataframe > thead > tr,\n",
       ".dataframe > tbody > tr {\n",
       "  text-align: right;\n",
       "  white-space: pre-wrap;\n",
       "}\n",
       "</style>\n",
       "<small>shape: (205, 2)</small><table border=\"1\" class=\"dataframe\"><thead><tr><th>freq_second_occ</th><th>count</th></tr><tr><td>f64</td><td>u32</td></tr></thead><tbody><tr><td>null</td><td>1443910</td></tr><tr><td>0.2</td><td>230220</td></tr><tr><td>0.333333</td><td>137112</td></tr><tr><td>0.25</td><td>107689</td></tr><tr><td>0.4</td><td>85181</td></tr><tr><td>&hellip;</td><td>&hellip;</td></tr><tr><td>0.22449</td><td>1</td></tr><tr><td>0.2888889</td><td>1</td></tr><tr><td>0.34</td><td>1</td></tr><tr><td>0.372093</td><td>1</td></tr><tr><td>0.414634</td><td>1</td></tr></tbody></table></div>"
      ],
      "text/plain": [
       "shape: (205, 2)\n",
       "┌─────────────────┬─────────┐\n",
       "│ freq_second_occ ┆ count   │\n",
       "│ ---             ┆ ---     │\n",
       "│ f64             ┆ u32     │\n",
       "╞═════════════════╪═════════╡\n",
       "│ null            ┆ 1443910 │\n",
       "│ 0.2             ┆ 230220  │\n",
       "│ 0.333333        ┆ 137112  │\n",
       "│ 0.25            ┆ 107689  │\n",
       "│ 0.4             ┆ 85181   │\n",
       "│ …               ┆ …       │\n",
       "│ 0.22449         ┆ 1       │\n",
       "│ 0.2888889       ┆ 1       │\n",
       "│ 0.34            ┆ 1       │\n",
       "│ 0.372093        ┆ 1       │\n",
       "│ 0.414634        ┆ 1       │\n",
       "└─────────────────┴─────────┘"
      ]
     },
     "metadata": {},
     "output_type": "display_data"
    },
    {
     "data": {
      "text/html": [
       "<div><style>\n",
       ".dataframe > thead > tr,\n",
       ".dataframe > tbody > tr {\n",
       "  text-align: right;\n",
       "  white-space: pre-wrap;\n",
       "}\n",
       "</style>\n",
       "<small>shape: (15, 2)</small><table border=\"1\" class=\"dataframe\"><thead><tr><th>level2_second_occ</th><th>count</th></tr><tr><td>str</td><td>u32</td></tr></thead><tbody><tr><td>&quot;Missing&quot;</td><td>1443900</td></tr><tr><td>&quot;Culture-periph…</td><td>112624</td></tr><tr><td>&quot;Academia&quot;</td><td>100439</td></tr><tr><td>&quot;Politics&quot;</td><td>93102</td></tr><tr><td>&quot;Culture-core&quot;</td><td>84396</td></tr><tr><td>&hellip;</td><td>&hellip;</td></tr><tr><td>&quot;Other&quot;</td><td>39355</td></tr><tr><td>&quot;Religious&quot;</td><td>33965</td></tr><tr><td>&quot;Nobility&quot;</td><td>32096</td></tr><tr><td>&quot;Explorer/Inven…</td><td>30430</td></tr><tr><td>&quot;Sports/Games&quot;</td><td>18663</td></tr></tbody></table></div>"
      ],
      "text/plain": [
       "shape: (15, 2)\n",
       "┌─────────────────────────────┬─────────┐\n",
       "│ level2_second_occ           ┆ count   │\n",
       "│ ---                         ┆ ---     │\n",
       "│ str                         ┆ u32     │\n",
       "╞═════════════════════════════╪═════════╡\n",
       "│ Missing                     ┆ 1443900 │\n",
       "│ Culture-periphery           ┆ 112624  │\n",
       "│ Academia                    ┆ 100439  │\n",
       "│ Politics                    ┆ 93102   │\n",
       "│ Culture-core                ┆ 84396   │\n",
       "│ …                           ┆ …       │\n",
       "│ Other                       ┆ 39355   │\n",
       "│ Religious                   ┆ 33965   │\n",
       "│ Nobility                    ┆ 32096   │\n",
       "│ Explorer/Inventor/Developer ┆ 30430   │\n",
       "│ Sports/Games                ┆ 18663   │\n",
       "└─────────────────────────────┴─────────┘"
      ]
     },
     "metadata": {},
     "output_type": "display_data"
    },
    {
     "data": {
      "text/html": [
       "<div><style>\n",
       ".dataframe > thead > tr,\n",
       ".dataframe > tbody > tr {\n",
       "  text-align: right;\n",
       "  white-space: pre-wrap;\n",
       "}\n",
       "</style>\n",
       "<small>shape: (4_986, 2)</small><table border=\"1\" class=\"dataframe\"><thead><tr><th>level3_main_occ</th><th>count</th></tr><tr><td>str</td><td>u32</td></tr></thead><tbody><tr><td>&quot;politician&quot;</td><td>270513</td></tr><tr><td>&quot;football&quot;</td><td>250667</td></tr><tr><td>&quot;actor&quot;</td><td>121790</td></tr><tr><td>&quot;writer&quot;</td><td>74716</td></tr><tr><td>&quot;painter&quot;</td><td>60189</td></tr><tr><td>&hellip;</td><td>&hellip;</td></tr><tr><td>&quot;parlamento&quot;</td><td>1</td></tr><tr><td>&quot;capitão_do_por…</td><td>1</td></tr><tr><td>&quot;dermatologista…</td><td>1</td></tr><tr><td>&quot;carpinteir&quot;</td><td>1</td></tr><tr><td>&quot;_diener&quot;</td><td>1</td></tr></tbody></table></div>"
      ],
      "text/plain": [
       "shape: (4_986, 2)\n",
       "┌──────────────────┬────────┐\n",
       "│ level3_main_occ  ┆ count  │\n",
       "│ ---              ┆ ---    │\n",
       "│ str              ┆ u32    │\n",
       "╞══════════════════╪════════╡\n",
       "│ politician       ┆ 270513 │\n",
       "│ football         ┆ 250667 │\n",
       "│ actor            ┆ 121790 │\n",
       "│ writer           ┆ 74716  │\n",
       "│ painter          ┆ 60189  │\n",
       "│ …                ┆ …      │\n",
       "│ parlamento       ┆ 1      │\n",
       "│ capitão_do_porto ┆ 1      │\n",
       "│ dermatologista   ┆ 1      │\n",
       "│ carpinteir       ┆ 1      │\n",
       "│ _diener          ┆ 1      │\n",
       "└──────────────────┴────────┘"
      ]
     },
     "metadata": {},
     "output_type": "display_data"
    },
    {
     "data": {
      "text/html": [
       "<div><style>\n",
       ".dataframe > thead > tr,\n",
       ".dataframe > tbody > tr {\n",
       "  text-align: right;\n",
       "  white-space: pre-wrap;\n",
       "}\n",
       "</style>\n",
       "<small>shape: (6, 2)</small><table border=\"1\" class=\"dataframe\"><thead><tr><th>bigperiod_birth</th><th>count</th></tr><tr><td>str</td><td>u32</td></tr></thead><tbody><tr><td>&quot;5.Contemporary…</td><td>1486919</td></tr><tr><td>&quot;4.Mid Modern P…</td><td>480273</td></tr><tr><td>&quot;Missing&quot;</td><td>195919</td></tr><tr><td>&quot;3.Early Modern…</td><td>92494</td></tr><tr><td>&quot;2.Post-Classic…</td><td>31220</td></tr><tr><td>&quot;1.Ancient Hist…</td><td>4992</td></tr></tbody></table></div>"
      ],
      "text/plain": [
       "shape: (6, 2)\n",
       "┌───────────────────────────────────┬─────────┐\n",
       "│ bigperiod_birth                   ┆ count   │\n",
       "│ ---                               ┆ ---     │\n",
       "│ str                               ┆ u32     │\n",
       "╞═══════════════════════════════════╪═════════╡\n",
       "│ 5.Contemporary period 1901-2020A… ┆ 1486919 │\n",
       "│ 4.Mid Modern Period 1751-1900AD   ┆ 480273  │\n",
       "│ Missing                           ┆ 195919  │\n",
       "│ 3.Early Modern Period 1501-1750A… ┆ 92494   │\n",
       "│ 2.Post-Classical History 501-150… ┆ 31220   │\n",
       "│ 1.Ancient History Before 500AD    ┆ 4992    │\n",
       "└───────────────────────────────────┴─────────┘"
      ]
     },
     "metadata": {},
     "output_type": "display_data"
    },
    {
     "data": {
      "text/html": [
       "<div><style>\n",
       ".dataframe > thead > tr,\n",
       ".dataframe > tbody > tr {\n",
       "  text-align: right;\n",
       "  white-space: pre-wrap;\n",
       "}\n",
       "</style>\n",
       "<small>shape: (6, 2)</small><table border=\"1\" class=\"dataframe\"><thead><tr><th>bigperiod_death</th><th>count</th></tr><tr><td>str</td><td>u32</td></tr></thead><tbody><tr><td>&quot;Missing&quot;</td><td>1244507</td></tr><tr><td>&quot;5.Contemporary…</td><td>747803</td></tr><tr><td>&quot;4.Mid Modern P…</td><td>179485</td></tr><tr><td>&quot;3.Early Modern…</td><td>72769</td></tr><tr><td>&quot;2.Post-Classic…</td><td>39756</td></tr><tr><td>&quot;1.Ancient Hist…</td><td>7497</td></tr></tbody></table></div>"
      ],
      "text/plain": [
       "shape: (6, 2)\n",
       "┌───────────────────────────────────┬─────────┐\n",
       "│ bigperiod_death                   ┆ count   │\n",
       "│ ---                               ┆ ---     │\n",
       "│ str                               ┆ u32     │\n",
       "╞═══════════════════════════════════╪═════════╡\n",
       "│ Missing                           ┆ 1244507 │\n",
       "│ 5.Contemporary period 1901-2020A… ┆ 747803  │\n",
       "│ 4.Mid Modern Period 1751-1900AD   ┆ 179485  │\n",
       "│ 3.Early Modern Period 1501-1750A… ┆ 72769   │\n",
       "│ 2.Post-Classical History 501-150… ┆ 39756   │\n",
       "│ 1.Ancient History Before 500AD    ┆ 7497    │\n",
       "└───────────────────────────────────┴─────────┘"
      ]
     },
     "metadata": {},
     "output_type": "display_data"
    },
    {
     "data": {
      "text/html": [
       "<div><style>\n",
       ".dataframe > thead > tr,\n",
       ".dataframe > tbody > tr {\n",
       "  text-align: right;\n",
       "  white-space: pre-wrap;\n",
       "}\n",
       "</style>\n",
       "<small>shape: (230_735, 2)</small><table border=\"1\" class=\"dataframe\"><thead><tr><th>wiki_readers_2015_2018</th><th>count</th></tr><tr><td>i64</td><td>u32</td></tr></thead><tbody><tr><td>0</td><td>963</td></tr><tr><td>647</td><td>667</td></tr><tr><td>504</td><td>666</td></tr><tr><td>541</td><td>658</td></tr><tr><td>549</td><td>655</td></tr><tr><td>&hellip;</td><td>&hellip;</td></tr><tr><td>591064</td><td>1</td></tr><tr><td>278101</td><td>1</td></tr><tr><td>631988</td><td>1</td></tr><tr><td>147819</td><td>1</td></tr><tr><td>138808</td><td>1</td></tr></tbody></table></div>"
      ],
      "text/plain": [
       "shape: (230_735, 2)\n",
       "┌────────────────────────┬───────┐\n",
       "│ wiki_readers_2015_2018 ┆ count │\n",
       "│ ---                    ┆ ---   │\n",
       "│ i64                    ┆ u32   │\n",
       "╞════════════════════════╪═══════╡\n",
       "│ 0                      ┆ 963   │\n",
       "│ 647                    ┆ 667   │\n",
       "│ 504                    ┆ 666   │\n",
       "│ 541                    ┆ 658   │\n",
       "│ 549                    ┆ 655   │\n",
       "│ …                      ┆ …     │\n",
       "│ 591064                 ┆ 1     │\n",
       "│ 278101                 ┆ 1     │\n",
       "│ 631988                 ┆ 1     │\n",
       "│ 147819                 ┆ 1     │\n",
       "│ 138808                 ┆ 1     │\n",
       "└────────────────────────┴───────┘"
      ]
     },
     "metadata": {},
     "output_type": "display_data"
    },
    {
     "data": {
      "text/html": [
       "<div><style>\n",
       ".dataframe > thead > tr,\n",
       ".dataframe > tbody > tr {\n",
       "  text-align: right;\n",
       "  white-space: pre-wrap;\n",
       "}\n",
       "</style>\n",
       "<small>shape: (4, 2)</small><table border=\"1\" class=\"dataframe\"><thead><tr><th>non_missing_score</th><th>count</th></tr><tr><td>i64</td><td>u32</td></tr></thead><tbody><tr><td>3</td><td>2135295</td></tr><tr><td>2</td><td>153740</td></tr><tr><td>1</td><td>2781</td></tr><tr><td>0</td><td>1</td></tr></tbody></table></div>"
      ],
      "text/plain": [
       "shape: (4, 2)\n",
       "┌───────────────────┬─────────┐\n",
       "│ non_missing_score ┆ count   │\n",
       "│ ---               ┆ ---     │\n",
       "│ i64               ┆ u32     │\n",
       "╞═══════════════════╪═════════╡\n",
       "│ 3                 ┆ 2135295 │\n",
       "│ 2                 ┆ 153740  │\n",
       "│ 1                 ┆ 2781    │\n",
       "│ 0                 ┆ 1       │\n",
       "└───────────────────┴─────────┘"
      ]
     },
     "metadata": {},
     "output_type": "display_data"
    },
    {
     "data": {
      "text/html": [
       "<div><style>\n",
       ".dataframe > thead > tr,\n",
       ".dataframe > tbody > tr {\n",
       "  text-align: right;\n",
       "  white-space: pre-wrap;\n",
       "}\n",
       "</style>\n",
       "<small>shape: (43_463, 2)</small><table border=\"1\" class=\"dataframe\"><thead><tr><th>total_count_words_b</th><th>count</th></tr><tr><td>i64</td><td>u32</td></tr></thead><tbody><tr><td>1428</td><td>1375</td></tr><tr><td>1451</td><td>1361</td></tr><tr><td>1446</td><td>1357</td></tr><tr><td>1467</td><td>1342</td></tr><tr><td>1328</td><td>1341</td></tr><tr><td>&hellip;</td><td>&hellip;</td></tr><tr><td>46015</td><td>1</td></tr><tr><td>31585</td><td>1</td></tr><tr><td>227295</td><td>1</td></tr><tr><td>51178</td><td>1</td></tr><tr><td>31551</td><td>1</td></tr></tbody></table></div>"
      ],
      "text/plain": [
       "shape: (43_463, 2)\n",
       "┌─────────────────────┬───────┐\n",
       "│ total_count_words_b ┆ count │\n",
       "│ ---                 ┆ ---   │\n",
       "│ i64                 ┆ u32   │\n",
       "╞═════════════════════╪═══════╡\n",
       "│ 1428                ┆ 1375  │\n",
       "│ 1451                ┆ 1361  │\n",
       "│ 1446                ┆ 1357  │\n",
       "│ 1467                ┆ 1342  │\n",
       "│ 1328                ┆ 1341  │\n",
       "│ …                   ┆ …     │\n",
       "│ 46015               ┆ 1     │\n",
       "│ 31585               ┆ 1     │\n",
       "│ 227295              ┆ 1     │\n",
       "│ 51178               ┆ 1     │\n",
       "│ 31551               ┆ 1     │\n",
       "└─────────────────────┴───────┘"
      ]
     },
     "metadata": {},
     "output_type": "display_data"
    },
    {
     "data": {
      "text/html": [
       "<div><style>\n",
       ".dataframe > thead > tr,\n",
       ".dataframe > tbody > tr {\n",
       "  text-align: right;\n",
       "  white-space: pre-wrap;\n",
       "}\n",
       "</style>\n",
       "<small>shape: (197, 2)</small><table border=\"1\" class=\"dataframe\"><thead><tr><th>number_wiki_editions</th><th>count</th></tr><tr><td>i64</td><td>u32</td></tr></thead><tbody><tr><td>1</td><td>1210387</td></tr><tr><td>2</td><td>414158</td></tr><tr><td>3</td><td>199763</td></tr><tr><td>4</td><td>114299</td></tr><tr><td>5</td><td>74060</td></tr><tr><td>&hellip;</td><td>&hellip;</td></tr><tr><td>161</td><td>1</td></tr><tr><td>210</td><td>1</td></tr><tr><td>202</td><td>1</td></tr><tr><td>154</td><td>1</td></tr><tr><td>249</td><td>1</td></tr></tbody></table></div>"
      ],
      "text/plain": [
       "shape: (197, 2)\n",
       "┌──────────────────────┬─────────┐\n",
       "│ number_wiki_editions ┆ count   │\n",
       "│ ---                  ┆ ---     │\n",
       "│ i64                  ┆ u32     │\n",
       "╞══════════════════════╪═════════╡\n",
       "│ 1                    ┆ 1210387 │\n",
       "│ 2                    ┆ 414158  │\n",
       "│ 3                    ┆ 199763  │\n",
       "│ 4                    ┆ 114299  │\n",
       "│ 5                    ┆ 74060   │\n",
       "│ …                    ┆ …       │\n",
       "│ 161                  ┆ 1       │\n",
       "│ 210                  ┆ 1       │\n",
       "│ 202                  ┆ 1       │\n",
       "│ 154                  ┆ 1       │\n",
       "│ 249                  ┆ 1       │\n",
       "└──────────────────────┴─────────┘"
      ]
     },
     "metadata": {},
     "output_type": "display_data"
    },
    {
     "data": {
      "text/html": [
       "<div><style>\n",
       ".dataframe > thead > tr,\n",
       ".dataframe > tbody > tr {\n",
       "  text-align: right;\n",
       "  white-space: pre-wrap;\n",
       "}\n",
       "</style>\n",
       "<small>shape: (123, 2)</small><table border=\"1\" class=\"dataframe\"><thead><tr><th>total_noccur_links_b</th><th>count</th></tr><tr><td>i64</td><td>u32</td></tr></thead><tbody><tr><td>0</td><td>648242</td></tr><tr><td>1</td><td>381823</td></tr><tr><td>2</td><td>247897</td></tr><tr><td>3</td><td>185523</td></tr><tr><td>4</td><td>143226</td></tr><tr><td>&hellip;</td><td>&hellip;</td></tr><tr><td>116</td><td>1</td></tr><tr><td>124</td><td>1</td></tr><tr><td>101</td><td>1</td></tr><tr><td>108</td><td>1</td></tr><tr><td>123</td><td>1</td></tr></tbody></table></div>"
      ],
      "text/plain": [
       "shape: (123, 2)\n",
       "┌──────────────────────┬────────┐\n",
       "│ total_noccur_links_b ┆ count  │\n",
       "│ ---                  ┆ ---    │\n",
       "│ i64                  ┆ u32    │\n",
       "╞══════════════════════╪════════╡\n",
       "│ 0                    ┆ 648242 │\n",
       "│ 1                    ┆ 381823 │\n",
       "│ 2                    ┆ 247897 │\n",
       "│ 3                    ┆ 185523 │\n",
       "│ 4                    ┆ 143226 │\n",
       "│ …                    ┆ …      │\n",
       "│ 116                  ┆ 1      │\n",
       "│ 124                  ┆ 1      │\n",
       "│ 101                  ┆ 1      │\n",
       "│ 108                  ┆ 1      │\n",
       "│ 123                  ┆ 1      │\n",
       "└──────────────────────┴────────┘"
      ]
     },
     "metadata": {},
     "output_type": "display_data"
    },
    {
     "data": {
      "text/html": [
       "<div><style>\n",
       ".dataframe > thead > tr,\n",
       ".dataframe > tbody > tr {\n",
       "  text-align: right;\n",
       "  white-space: pre-wrap;\n",
       "}\n",
       "</style>\n",
       "<small>shape: (1_793_196, 2)</small><table border=\"1\" class=\"dataframe\"><thead><tr><th>sum_visib_ln_5criteria</th><th>count</th></tr><tr><td>f64</td><td>u32</td></tr></thead><tbody><tr><td>15.279765</td><td>17</td></tr><tr><td>14.941894</td><td>16</td></tr><tr><td>14.388793</td><td>16</td></tr><tr><td>14.557631</td><td>16</td></tr><tr><td>14.783787</td><td>15</td></tr><tr><td>&hellip;</td><td>&hellip;</td></tr><tr><td>21.852451</td><td>1</td></tr><tr><td>21.543238</td><td>1</td></tr><tr><td>24.453411</td><td>1</td></tr><tr><td>20.193954</td><td>1</td></tr><tr><td>22.013247</td><td>1</td></tr></tbody></table></div>"
      ],
      "text/plain": [
       "shape: (1_793_196, 2)\n",
       "┌────────────────────────┬───────┐\n",
       "│ sum_visib_ln_5criteria ┆ count │\n",
       "│ ---                    ┆ ---   │\n",
       "│ f64                    ┆ u32   │\n",
       "╞════════════════════════╪═══════╡\n",
       "│ 15.279765              ┆ 17    │\n",
       "│ 14.941894              ┆ 16    │\n",
       "│ 14.388793              ┆ 16    │\n",
       "│ 14.557631              ┆ 16    │\n",
       "│ 14.783787              ┆ 15    │\n",
       "│ …                      ┆ …     │\n",
       "│ 21.852451              ┆ 1     │\n",
       "│ 21.543238              ┆ 1     │\n",
       "│ 24.453411              ┆ 1     │\n",
       "│ 20.193954              ┆ 1     │\n",
       "│ 22.013247              ┆ 1     │\n",
       "└────────────────────────┴───────┘"
      ]
     },
     "metadata": {},
     "output_type": "display_data"
    },
    {
     "data": {
      "text/html": [
       "<div><style>\n",
       ".dataframe > thead > tr,\n",
       ".dataframe > tbody > tr {\n",
       "  text-align: right;\n",
       "  white-space: pre-wrap;\n",
       "}\n",
       "</style>\n",
       "<small>shape: (2_037_080, 2)</small><table border=\"1\" class=\"dataframe\"><thead><tr><th>ranking_visib_5criteria</th><th>count</th></tr><tr><td>f64</td><td>u32</td></tr></thead><tbody><tr><td>568043.5</td><td>8</td></tr><tr><td>1756537.5</td><td>6</td></tr><tr><td>2053427.5</td><td>6</td></tr><tr><td>401144.5</td><td>6</td></tr><tr><td>202331.5</td><td>6</td></tr><tr><td>&hellip;</td><td>&hellip;</td></tr><tr><td>402982.0</td><td>1</td></tr><tr><td>359457.0</td><td>1</td></tr><tr><td>154890.0</td><td>1</td></tr><tr><td>453953.0</td><td>1</td></tr><tr><td>344726.0</td><td>1</td></tr></tbody></table></div>"
      ],
      "text/plain": [
       "shape: (2_037_080, 2)\n",
       "┌─────────────────────────┬───────┐\n",
       "│ ranking_visib_5criteria ┆ count │\n",
       "│ ---                     ┆ ---   │\n",
       "│ f64                     ┆ u32   │\n",
       "╞═════════════════════════╪═══════╡\n",
       "│ 568043.5                ┆ 8     │\n",
       "│ 1756537.5               ┆ 6     │\n",
       "│ 2053427.5               ┆ 6     │\n",
       "│ 401144.5                ┆ 6     │\n",
       "│ 202331.5                ┆ 6     │\n",
       "│ …                       ┆ …     │\n",
       "│ 402982.0                ┆ 1     │\n",
       "│ 359457.0                ┆ 1     │\n",
       "│ 154890.0                ┆ 1     │\n",
       "│ 453953.0                ┆ 1     │\n",
       "│ 344726.0                ┆ 1     │\n",
       "└─────────────────────────┴───────┘"
      ]
     },
     "metadata": {},
     "output_type": "display_data"
    },
    {
     "data": {
      "text/html": [
       "<div><style>\n",
       ".dataframe > thead > tr,\n",
       ".dataframe > tbody > tr {\n",
       "  text-align: right;\n",
       "  white-space: pre-wrap;\n",
       "}\n",
       "</style>\n",
       "<small>shape: (7_616, 2)</small><table border=\"1\" class=\"dataframe\"><thead><tr><th>all_geography_groups</th><th>count</th></tr><tr><td>str</td><td>u32</td></tr></thead><tbody><tr><td>null</td><td>446840</td></tr><tr><td>&quot;US&quot;</td><td>338596</td></tr><tr><td>&quot;Germany&quot;</td><td>199764</td></tr><tr><td>&quot;France&quot;</td><td>138012</td></tr><tr><td>&quot;United_Kingdom…</td><td>109219</td></tr><tr><td>&hellip;</td><td>&hellip;</td></tr><tr><td>&quot;Poland,Vatican…</td><td>1</td></tr><tr><td>&quot;Canada,Germany…</td><td>1</td></tr><tr><td>&quot;Peru,Austria&quot;</td><td>1</td></tr><tr><td>&quot;China,Old_regi…</td><td>1</td></tr><tr><td>&quot;Principality_o…</td><td>1</td></tr></tbody></table></div>"
      ],
      "text/plain": [
       "shape: (7_616, 2)\n",
       "┌───────────────────────────────────┬────────┐\n",
       "│ all_geography_groups              ┆ count  │\n",
       "│ ---                               ┆ ---    │\n",
       "│ str                               ┆ u32    │\n",
       "╞═══════════════════════════════════╪════════╡\n",
       "│ null                              ┆ 446840 │\n",
       "│ US                                ┆ 338596 │\n",
       "│ Germany                           ┆ 199764 │\n",
       "│ France                            ┆ 138012 │\n",
       "│ United_Kingdom_of_Great_Britain_… ┆ 109219 │\n",
       "│ …                                 ┆ …      │\n",
       "│ Poland,Vatican_City,Poland        ┆ 1      │\n",
       "│ Canada,Germany,US                 ┆ 1      │\n",
       "│ Peru,Austria                      ┆ 1      │\n",
       "│ China,Old_regimes_in_/_of_China,… ┆ 1      │\n",
       "│ Principality_of_Anhalt-Zerbst,Ol… ┆ 1      │\n",
       "└───────────────────────────────────┴────────┘"
      ]
     },
     "metadata": {},
     "output_type": "display_data"
    },
    {
     "data": {
      "text/html": [
       "<div><style>\n",
       ".dataframe > thead > tr,\n",
       ".dataframe > tbody > tr {\n",
       "  text-align: right;\n",
       "  white-space: pre-wrap;\n",
       "}\n",
       "</style>\n",
       "<small>shape: (9_643, 2)</small><table border=\"1\" class=\"dataframe\"><thead><tr><th>string_citizenship_raw_d</th><th>count</th></tr><tr><td>str</td><td>u32</td></tr></thead><tbody><tr><td>null</td><td>446586</td></tr><tr><td>&quot;&#x27;US&#x27;&quot;</td><td>338566</td></tr><tr><td>&quot;&#x27;Germany&#x27;&quot;</td><td>199725</td></tr><tr><td>&quot;&#x27;France&#x27;&quot;</td><td>137643</td></tr><tr><td>&quot;&#x27;United_Kingdo…</td><td>82728</td></tr><tr><td>&hellip;</td><td>&hellip;</td></tr><tr><td>&quot;&#x27;Peru&#x27;_&#x27;Austri…</td><td>1</td></tr><tr><td>&quot;&#x27;South_Africa&#x27;…</td><td>1</td></tr><tr><td>&quot;&#x27;China&#x27;_&#x27;Song_…</td><td>1</td></tr><tr><td>&quot;&#x27;Germany&#x27;_&#x27;Kin…</td><td>1</td></tr><tr><td>&quot;&#x27;Principality_…</td><td>1</td></tr></tbody></table></div>"
      ],
      "text/plain": [
       "shape: (9_643, 2)\n",
       "┌───────────────────────────────────┬────────┐\n",
       "│ string_citizenship_raw_d          ┆ count  │\n",
       "│ ---                               ┆ ---    │\n",
       "│ str                               ┆ u32    │\n",
       "╞═══════════════════════════════════╪════════╡\n",
       "│ null                              ┆ 446586 │\n",
       "│ 'US'                              ┆ 338566 │\n",
       "│ 'Germany'                         ┆ 199725 │\n",
       "│ 'France'                          ┆ 137643 │\n",
       "│ 'United_Kingdom'                  ┆ 82728  │\n",
       "│ …                                 ┆ …      │\n",
       "│ 'Peru'_'Austria'                  ┆ 1      │\n",
       "│ 'South_Africa'_'Netherlands'      ┆ 1      │\n",
       "│ 'China'_'Song_Dynasty'_'Ming_dyn… ┆ 1      │\n",
       "│ 'Germany'_'Kingdom_of_Prussia'_'… ┆ 1      │\n",
       "│ 'Principality_of_Anhalt-Zerbst'_… ┆ 1      │\n",
       "└───────────────────────────────────┴────────┘"
      ]
     },
     "metadata": {},
     "output_type": "display_data"
    },
    {
     "data": {
      "text/html": [
       "<div><style>\n",
       ".dataframe > thead > tr,\n",
       ".dataframe > tbody > tr {\n",
       "  text-align: right;\n",
       "  white-space: pre-wrap;\n",
       "}\n",
       "</style>\n",
       "<small>shape: (234, 2)</small><table border=\"1\" class=\"dataframe\"><thead><tr><th>citizenship_1_b</th><th>count</th></tr><tr><td>str</td><td>u32</td></tr></thead><tbody><tr><td>&quot;US&quot;</td><td>405179</td></tr><tr><td>&quot;Germany&quot;</td><td>261320</td></tr><tr><td>&quot;United_Kingdom…</td><td>214110</td></tr><tr><td>&quot;France&quot;</td><td>150209</td></tr><tr><td>&quot;Italy&quot;</td><td>108896</td></tr><tr><td>&hellip;</td><td>&hellip;</td></tr><tr><td>&quot;Dominican_Repu…</td><td>4</td></tr><tr><td>&quot;Macau&quot;</td><td>4</td></tr><tr><td>&quot;Nagorno-Karaba…</td><td>3</td></tr><tr><td>&quot;Vatican_City&quot;</td><td>2</td></tr><tr><td>&quot;Overseas_Terri…</td><td>1</td></tr></tbody></table></div>"
      ],
      "text/plain": [
       "shape: (234, 2)\n",
       "┌───────────────────────────────────┬────────┐\n",
       "│ citizenship_1_b                   ┆ count  │\n",
       "│ ---                               ┆ ---    │\n",
       "│ str                               ┆ u32    │\n",
       "╞═══════════════════════════════════╪════════╡\n",
       "│ US                                ┆ 405179 │\n",
       "│ Germany                           ┆ 261320 │\n",
       "│ United_Kingdom                    ┆ 214110 │\n",
       "│ France                            ┆ 150209 │\n",
       "│ Italy                             ┆ 108896 │\n",
       "│ …                                 ┆ …      │\n",
       "│ Dominican_Republic                ┆ 4      │\n",
       "│ Macau                             ┆ 4      │\n",
       "│ Nagorno-Karabakh_Republic         ┆ 3      │\n",
       "│ Vatican_City                      ┆ 2      │\n",
       "│ Overseas_Territories_of_Australi… ┆ 1      │\n",
       "└───────────────────────────────────┴────────┘"
      ]
     },
     "metadata": {},
     "output_type": "display_data"
    },
    {
     "data": {
      "text/html": [
       "<div><style>\n",
       ".dataframe > thead > tr,\n",
       ".dataframe > tbody > tr {\n",
       "  text-align: right;\n",
       "  white-space: pre-wrap;\n",
       "}\n",
       "</style>\n",
       "<small>shape: (228, 2)</small><table border=\"1\" class=\"dataframe\"><thead><tr><th>citizenship_2_b</th><th>count</th></tr><tr><td>str</td><td>u32</td></tr></thead><tbody><tr><td>null</td><td>2199148</td></tr><tr><td>&quot;US&quot;</td><td>11388</td></tr><tr><td>&quot;United_Kingdom…</td><td>9747</td></tr><tr><td>&quot;Russia&quot;</td><td>7460</td></tr><tr><td>&quot;Germany&quot;</td><td>5672</td></tr><tr><td>&hellip;</td><td>&hellip;</td></tr><tr><td>&quot;SÃ£o_TomÃ©_and…</td><td>1</td></tr><tr><td>&quot;Scotland&quot;</td><td>1</td></tr><tr><td>&quot;Wales&quot;</td><td>1</td></tr><tr><td>&quot;Overseas_Terri…</td><td>1</td></tr><tr><td>&quot;Palau&quot;</td><td>1</td></tr></tbody></table></div>"
      ],
      "text/plain": [
       "shape: (228, 2)\n",
       "┌───────────────────────────────────┬─────────┐\n",
       "│ citizenship_2_b                   ┆ count   │\n",
       "│ ---                               ┆ ---     │\n",
       "│ str                               ┆ u32     │\n",
       "╞═══════════════════════════════════╪═════════╡\n",
       "│ null                              ┆ 2199148 │\n",
       "│ US                                ┆ 11388   │\n",
       "│ United_Kingdom                    ┆ 9747    │\n",
       "│ Russia                            ┆ 7460    │\n",
       "│ Germany                           ┆ 5672    │\n",
       "│ …                                 ┆ …       │\n",
       "│ SÃ£o_TomÃ©_and_PrÃ­ncipe          ┆ 1       │\n",
       "│ Scotland                          ┆ 1       │\n",
       "│ Wales                             ┆ 1       │\n",
       "│ Overseas_Territories_of_Australi… ┆ 1       │\n",
       "│ Palau                             ┆ 1       │\n",
       "└───────────────────────────────────┴─────────┘"
      ]
     },
     "metadata": {},
     "output_type": "display_data"
    },
    {
     "data": {
      "text/html": [
       "<div><style>\n",
       ".dataframe > thead > tr,\n",
       ".dataframe > tbody > tr {\n",
       "  text-align: right;\n",
       "  white-space: pre-wrap;\n",
       "}\n",
       "</style>\n",
       "<small>shape: (38_244, 2)</small><table border=\"1\" class=\"dataframe\"><thead><tr><th>list_areas_of_rattach</th><th>count</th></tr><tr><td>str</td><td>u32</td></tr></thead><tbody><tr><td>&quot;D:_&#x27;US&#x27;_matchB…</td><td>256489</td></tr><tr><td>&quot;D:_&#x27;Germany&#x27;_m…</td><td>185101</td></tr><tr><td>&quot;D:_&#x27;France&#x27;_ma…</td><td>129031</td></tr><tr><td>&quot;D:_&#x27;Italy&#x27;_mat…</td><td>69930</td></tr><tr><td>&quot;D:_&#x27;United_Kin…</td><td>65461</td></tr><tr><td>&hellip;</td><td>&hellip;</td></tr><tr><td>&quot;D:_&#x27;Germany&#x27;_&#x27;…</td><td>1</td></tr><tr><td>&quot;D:_&#x27;Principali…</td><td>1</td></tr><tr><td>&quot;D:_&#x27;Norway&#x27;_mi…</td><td>1</td></tr><tr><td>&quot;D:_&#x27;Canada&#x27;_mi…</td><td>1</td></tr><tr><td>&quot;D:_&#x27;Nigeria&#x27;_m…</td><td>1</td></tr></tbody></table></div>"
      ],
      "text/plain": [
       "shape: (38_244, 2)\n",
       "┌───────────────────────────────────┬────────┐\n",
       "│ list_areas_of_rattach             ┆ count  │\n",
       "│ ---                               ┆ ---    │\n",
       "│ str                               ┆ u32    │\n",
       "╞═══════════════════════════════════╪════════╡\n",
       "│ D:_'US'_matchB1_P:_'US'           ┆ 256489 │\n",
       "│ D:_'Germany'_matchB1_P:_'Germany… ┆ 185101 │\n",
       "│ D:_'France'_matchB1_P:_'France'   ┆ 129031 │\n",
       "│ D:_'Italy'_matchB1_P:_'Italy'     ┆ 69930  │\n",
       "│ D:_'United_Kingdom'_matchB1_P:_'… ┆ 65461  │\n",
       "│ …                                 ┆ …      │\n",
       "│ D:_'Germany'_'Kingdom_of_Prussia… ┆ 1      │\n",
       "│ D:_'Principality_of_Anhalt-Zerbs… ┆ 1      │\n",
       "│ D:_'Norway'_mismatchB2_P:_'Norwa… ┆ 1      │\n",
       "│ D:_'Canada'_mismatchB1B2_P:_'Kuw… ┆ 1      │\n",
       "│ D:_'Nigeria'_mismatchB1B2_P:_'Ge… ┆ 1      │\n",
       "└───────────────────────────────────┴────────┘"
      ]
     },
     "metadata": {},
     "output_type": "display_data"
    },
    {
     "data": {
      "text/html": [
       "<div><style>\n",
       ".dataframe > thead > tr,\n",
       ".dataframe > tbody > tr {\n",
       "  text-align: right;\n",
       "  white-space: pre-wrap;\n",
       "}\n",
       "</style>\n",
       "<small>shape: (427, 2)</small><table border=\"1\" class=\"dataframe\"><thead><tr><th>area1_of_rattachment</th><th>count</th></tr><tr><td>str</td><td>u32</td></tr></thead><tbody><tr><td>&quot;US&quot;</td><td>402542</td></tr><tr><td>&quot;United_Kingdom…</td><td>213969</td></tr><tr><td>&quot;France&quot;</td><td>148632</td></tr><tr><td>&quot;Old_(before_ye…</td><td>135395</td></tr><tr><td>&quot;Germany&quot;</td><td>125925</td></tr><tr><td>&hellip;</td><td>&hellip;</td></tr><tr><td>&quot;Trinidad_and_t…</td><td>1</td></tr><tr><td>&quot;Overseas_Terri…</td><td>1</td></tr><tr><td>&quot;Old_(before_ye…</td><td>1</td></tr><tr><td>&quot;Old_(before_ye…</td><td>1</td></tr><tr><td>&quot;Old_(before_ye…</td><td>1</td></tr></tbody></table></div>"
      ],
      "text/plain": [
       "shape: (427, 2)\n",
       "┌───────────────────────────────────┬────────┐\n",
       "│ area1_of_rattachment              ┆ count  │\n",
       "│ ---                               ┆ ---    │\n",
       "│ str                               ┆ u32    │\n",
       "╞═══════════════════════════════════╪════════╡\n",
       "│ US                                ┆ 402542 │\n",
       "│ United_Kingdom                    ┆ 213969 │\n",
       "│ France                            ┆ 148632 │\n",
       "│ Old_(before_year_1990_AD)_German… ┆ 135395 │\n",
       "│ Germany                           ┆ 125925 │\n",
       "│ …                                 ┆ …      │\n",
       "│ Trinidad_and_tobago               ┆ 1      │\n",
       "│ Overseas_Territories_Australia    ┆ 1      │\n",
       "│ Old_(before_year_1976_AD)_Seyche… ┆ 1      │\n",
       "│ Old_(before_year_1992_AD)_Serbia… ┆ 1      │\n",
       "│ Old_(before_year_1986_AD)_Marsha… ┆ 1      │\n",
       "└───────────────────────────────────┴────────┘"
      ]
     },
     "metadata": {},
     "output_type": "display_data"
    },
    {
     "data": {
      "text/html": [
       "<div><style>\n",
       ".dataframe > thead > tr,\n",
       ".dataframe > tbody > tr {\n",
       "  text-align: right;\n",
       "  white-space: pre-wrap;\n",
       "}\n",
       "</style>\n",
       "<small>shape: (388, 2)</small><table border=\"1\" class=\"dataframe\"><thead><tr><th>area2_of_rattachment</th><th>count</th></tr><tr><td>str</td><td>u32</td></tr></thead><tbody><tr><td>&quot;Missing&quot;</td><td>2199148</td></tr><tr><td>&quot;US&quot;</td><td>11177</td></tr><tr><td>&quot;United_Kingdom…</td><td>9747</td></tr><tr><td>&quot;France&quot;</td><td>4877</td></tr><tr><td>&quot;Old_(before_ye…</td><td>3546</td></tr><tr><td>&hellip;</td><td>&hellip;</td></tr><tr><td>&quot;Old_(before_ye…</td><td>1</td></tr><tr><td>&quot;Old_(before_ye…</td><td>1</td></tr><tr><td>&quot;Palau&quot;</td><td>1</td></tr><tr><td>&quot;Old_(before_ye…</td><td>1</td></tr><tr><td>&quot;Old_(before_ye…</td><td>1</td></tr></tbody></table></div>"
      ],
      "text/plain": [
       "shape: (388, 2)\n",
       "┌───────────────────────────────────┬─────────┐\n",
       "│ area2_of_rattachment              ┆ count   │\n",
       "│ ---                               ┆ ---     │\n",
       "│ str                               ┆ u32     │\n",
       "╞═══════════════════════════════════╪═════════╡\n",
       "│ Missing                           ┆ 2199148 │\n",
       "│ US                                ┆ 11177   │\n",
       "│ United_Kingdom                    ┆ 9747    │\n",
       "│ France                            ┆ 4877    │\n",
       "│ Old_(before_year_1990_AD)_German… ┆ 3546    │\n",
       "│ …                                 ┆ …       │\n",
       "│ Old_(before_year_1962_AD)_Rwanda  ┆ 1       │\n",
       "│ Old_(before_year_1989_AD)_Cambod… ┆ 1       │\n",
       "│ Palau                             ┆ 1       │\n",
       "│ Old_(before_year_1847_AD)_Liberi… ┆ 1       │\n",
       "│ Old_(before_year_1813_AD)_Liecht… ┆ 1       │\n",
       "└───────────────────────────────────┴─────────┘"
      ]
     },
     "metadata": {},
     "output_type": "display_data"
    },
    {
     "data": {
      "text/html": [
       "<div><style>\n",
       ".dataframe > thead > tr,\n",
       ".dataframe > tbody > tr {\n",
       "  text-align: right;\n",
       "  white-space: pre-wrap;\n",
       "}\n",
       "</style>\n",
       "<small>shape: (371_877, 2)</small><table border=\"1\" class=\"dataframe\"><thead><tr><th>list_wikipedia_editions</th><th>count</th></tr><tr><td>str</td><td>u32</td></tr></thead><tbody><tr><td>&quot;enwiki&quot;</td><td>643321</td></tr><tr><td>&quot;dewiki&quot;</td><td>258600</td></tr><tr><td>&quot;frwiki&quot;</td><td>105256</td></tr><tr><td>&quot;itwiki&quot;</td><td>62854</td></tr><tr><td>&quot;eswiki&quot;</td><td>60941</td></tr><tr><td>&hellip;</td><td>&hellip;</td></tr><tr><td>&quot;fiwiki|dewiki|…</td><td>1</td></tr><tr><td>&quot;fiwiki|dewiki|…</td><td>1</td></tr><tr><td>&quot;fiwiki|dewiki|…</td><td>1</td></tr><tr><td>&quot;fiwiki|dewiki|…</td><td>1</td></tr><tr><td>&quot;fiwiki|nowiki|…</td><td>1</td></tr></tbody></table></div>"
      ],
      "text/plain": [
       "shape: (371_877, 2)\n",
       "┌───────────────────────────────────┬────────┐\n",
       "│ list_wikipedia_editions           ┆ count  │\n",
       "│ ---                               ┆ ---    │\n",
       "│ str                               ┆ u32    │\n",
       "╞═══════════════════════════════════╪════════╡\n",
       "│ enwiki                            ┆ 643321 │\n",
       "│ dewiki                            ┆ 258600 │\n",
       "│ frwiki                            ┆ 105256 │\n",
       "│ itwiki                            ┆ 62854  │\n",
       "│ eswiki                            ┆ 60941  │\n",
       "│ …                                 ┆ …      │\n",
       "│ fiwiki|dewiki|enwiki|frwiki|nowi… ┆ 1      │\n",
       "│ fiwiki|dewiki|enwiki|frwiki|nowi… ┆ 1      │\n",
       "│ fiwiki|dewiki|enwiki|frwiki|nowi… ┆ 1      │\n",
       "│ fiwiki|dewiki|enwiki|frwiki|nowi… ┆ 1      │\n",
       "│ fiwiki|nowiki|plwiki|svwiki|dewi… ┆ 1      │\n",
       "└───────────────────────────────────┴────────┘"
      ]
     },
     "metadata": {},
     "output_type": "display_data"
    },
    {
     "data": {
      "text/html": [
       "<div><style>\n",
       ".dataframe > thead > tr,\n",
       ".dataframe > tbody > tr {\n",
       "  text-align: right;\n",
       "  white-space: pre-wrap;\n",
       "}\n",
       "</style>\n",
       "<small>shape: (6, 2)</small><table border=\"1\" class=\"dataframe\"><thead><tr><th>un_region</th><th>count</th></tr><tr><td>str</td><td>u32</td></tr></thead><tbody><tr><td>&quot;Europe&quot;</td><td>1248310</td></tr><tr><td>&quot;America&quot;</td><td>626491</td></tr><tr><td>&quot;Asia&quot;</td><td>215085</td></tr><tr><td>&quot;Oceania&quot;</td><td>81151</td></tr><tr><td>&quot;Africa&quot;</td><td>67213</td></tr><tr><td>null</td><td>53567</td></tr></tbody></table></div>"
      ],
      "text/plain": [
       "shape: (6, 2)\n",
       "┌───────────┬─────────┐\n",
       "│ un_region ┆ count   │\n",
       "│ ---       ┆ ---     │\n",
       "│ str       ┆ u32     │\n",
       "╞═══════════╪═════════╡\n",
       "│ Europe    ┆ 1248310 │\n",
       "│ America   ┆ 626491  │\n",
       "│ Asia      ┆ 215085  │\n",
       "│ Oceania   ┆ 81151   │\n",
       "│ Africa    ┆ 67213   │\n",
       "│ null      ┆ 53567   │\n",
       "└───────────┴─────────┘"
      ]
     },
     "metadata": {},
     "output_type": "display_data"
    },
    {
     "data": {
      "text/html": [
       "<div><style>\n",
       ".dataframe > thead > tr,\n",
       ".dataframe > tbody > tr {\n",
       "  text-align: right;\n",
       "  white-space: pre-wrap;\n",
       "}\n",
       "</style>\n",
       "<small>shape: (2, 2)</small><table border=\"1\" class=\"dataframe\"><thead><tr><th>group_wikipedia_editions</th><th>count</th></tr><tr><td>str</td><td>u32</td></tr></thead><tbody><tr><td>&quot;grA&quot;</td><td>1547174</td></tr><tr><td>&quot;grB&quot;</td><td>744643</td></tr></tbody></table></div>"
      ],
      "text/plain": [
       "shape: (2, 2)\n",
       "┌──────────────────────────┬─────────┐\n",
       "│ group_wikipedia_editions ┆ count   │\n",
       "│ ---                      ┆ ---     │\n",
       "│ str                      ┆ u32     │\n",
       "╞══════════════════════════╪═════════╡\n",
       "│ grA                      ┆ 1547174 │\n",
       "│ grB                      ┆ 744643  │\n",
       "└──────────────────────────┴─────────┘"
      ]
     },
     "metadata": {},
     "output_type": "display_data"
    },
    {
     "data": {
      "text/html": [
       "<div><style>\n",
       ".dataframe > thead > tr,\n",
       ".dataframe > tbody > tr {\n",
       "  text-align: right;\n",
       "  white-space: pre-wrap;\n",
       "}\n",
       "</style>\n",
       "<small>shape: (123_457, 2)</small><table border=\"1\" class=\"dataframe\"><thead><tr><th>bplo1</th><th>count</th></tr><tr><td>f64</td><td>u32</td></tr></thead><tbody><tr><td>null</td><td>587627</td></tr><tr><td>2.351389</td><td>17554</td></tr><tr><td>13.383333</td><td>15825</td></tr><tr><td>-74.0</td><td>15234</td></tr><tr><td>-0.1275</td><td>14228</td></tr><tr><td>&hellip;</td><td>&hellip;</td></tr><tr><td>13.0852</td><td>1</td></tr><tr><td>8.04306</td><td>1</td></tr><tr><td>-95.329445</td><td>1</td></tr><tr><td>-82.167778</td><td>1</td></tr><tr><td>8.308411</td><td>1</td></tr></tbody></table></div>"
      ],
      "text/plain": [
       "shape: (123_457, 2)\n",
       "┌────────────┬────────┐\n",
       "│ bplo1      ┆ count  │\n",
       "│ ---        ┆ ---    │\n",
       "│ f64        ┆ u32    │\n",
       "╞════════════╪════════╡\n",
       "│ null       ┆ 587627 │\n",
       "│ 2.351389   ┆ 17554  │\n",
       "│ 13.383333  ┆ 15825  │\n",
       "│ -74.0      ┆ 15234  │\n",
       "│ -0.1275    ┆ 14228  │\n",
       "│ …          ┆ …      │\n",
       "│ 13.0852    ┆ 1      │\n",
       "│ 8.04306    ┆ 1      │\n",
       "│ -95.329445 ┆ 1      │\n",
       "│ -82.167778 ┆ 1      │\n",
       "│ 8.308411   ┆ 1      │\n",
       "└────────────┴────────┘"
      ]
     },
     "metadata": {},
     "output_type": "display_data"
    },
    {
     "data": {
      "text/html": [
       "<div><style>\n",
       ".dataframe > thead > tr,\n",
       ".dataframe > tbody > tr {\n",
       "  text-align: right;\n",
       "  white-space: pre-wrap;\n",
       "}\n",
       "</style>\n",
       "<small>shape: (62_539, 2)</small><table border=\"1\" class=\"dataframe\"><thead><tr><th>dplo1</th><th>count</th></tr><tr><td>f64</td><td>u32</td></tr></thead><tbody><tr><td>null</td><td>1614372</td></tr><tr><td>2.351389</td><td>21586</td></tr><tr><td>12.482778</td><td>12439</td></tr><tr><td>13.383333</td><td>11784</td></tr><tr><td>-0.1275</td><td>10120</td></tr><tr><td>&hellip;</td><td>&hellip;</td></tr><tr><td>9.05611</td><td>1</td></tr><tr><td>86.7715</td><td>1</td></tr><tr><td>-0.327222</td><td>1</td></tr><tr><td>7.6975</td><td>1</td></tr><tr><td>-76.885399</td><td>1</td></tr></tbody></table></div>"
      ],
      "text/plain": [
       "shape: (62_539, 2)\n",
       "┌────────────┬─────────┐\n",
       "│ dplo1      ┆ count   │\n",
       "│ ---        ┆ ---     │\n",
       "│ f64        ┆ u32     │\n",
       "╞════════════╪═════════╡\n",
       "│ null       ┆ 1614372 │\n",
       "│ 2.351389   ┆ 21586   │\n",
       "│ 12.482778  ┆ 12439   │\n",
       "│ 13.383333  ┆ 11784   │\n",
       "│ -0.1275    ┆ 10120   │\n",
       "│ …          ┆ …       │\n",
       "│ 9.05611    ┆ 1       │\n",
       "│ 86.7715    ┆ 1       │\n",
       "│ -0.327222  ┆ 1       │\n",
       "│ 7.6975     ┆ 1       │\n",
       "│ -76.885399 ┆ 1       │\n",
       "└────────────┴─────────┘"
      ]
     },
     "metadata": {},
     "output_type": "display_data"
    },
    {
     "data": {
      "text/html": [
       "<div><style>\n",
       ".dataframe > thead > tr,\n",
       ".dataframe > tbody > tr {\n",
       "  text-align: right;\n",
       "  white-space: pre-wrap;\n",
       "}\n",
       "</style>\n",
       "<small>shape: (108_264, 2)</small><table border=\"1\" class=\"dataframe\"><thead><tr><th>bpla1</th><th>count</th></tr><tr><td>f64</td><td>u32</td></tr></thead><tbody><tr><td>null</td><td>587627</td></tr><tr><td>48.856945</td><td>17385</td></tr><tr><td>52.516666</td><td>16240</td></tr><tr><td>40.700001</td><td>15232</td></tr><tr><td>51.507221</td><td>14229</td></tr><tr><td>&hellip;</td><td>&hellip;</td></tr><tr><td>48.8769</td><td>1</td></tr><tr><td>51.8839</td><td>1</td></tr><tr><td>44.605278</td><td>1</td></tr><tr><td>29.253611</td><td>1</td></tr><tr><td>50.722382</td><td>1</td></tr></tbody></table></div>"
      ],
      "text/plain": [
       "shape: (108_264, 2)\n",
       "┌───────────┬────────┐\n",
       "│ bpla1     ┆ count  │\n",
       "│ ---       ┆ ---    │\n",
       "│ f64       ┆ u32    │\n",
       "╞═══════════╪════════╡\n",
       "│ null      ┆ 587627 │\n",
       "│ 48.856945 ┆ 17385  │\n",
       "│ 52.516666 ┆ 16240  │\n",
       "│ 40.700001 ┆ 15232  │\n",
       "│ 51.507221 ┆ 14229  │\n",
       "│ …         ┆ …      │\n",
       "│ 48.8769   ┆ 1      │\n",
       "│ 51.8839   ┆ 1      │\n",
       "│ 44.605278 ┆ 1      │\n",
       "│ 29.253611 ┆ 1      │\n",
       "│ 50.722382 ┆ 1      │\n",
       "└───────────┴────────┘"
      ]
     },
     "metadata": {},
     "output_type": "display_data"
    },
    {
     "data": {
      "text/html": [
       "<div><style>\n",
       ".dataframe > thead > tr,\n",
       ".dataframe > tbody > tr {\n",
       "  text-align: right;\n",
       "  white-space: pre-wrap;\n",
       "}\n",
       "</style>\n",
       "<small>shape: (56_928, 2)</small><table border=\"1\" class=\"dataframe\"><thead><tr><th>dpla1</th><th>count</th></tr><tr><td>f64</td><td>u32</td></tr></thead><tbody><tr><td>null</td><td>1614372</td></tr><tr><td>48.856945</td><td>21490</td></tr><tr><td>41.893055</td><td>12454</td></tr><tr><td>52.516666</td><td>11717</td></tr><tr><td>51.507221</td><td>10130</td></tr><tr><td>&hellip;</td><td>&hellip;</td></tr><tr><td>52.339699</td><td>1</td></tr><tr><td>48.938599</td><td>1</td></tr><tr><td>54.671299</td><td>1</td></tr><tr><td>47.858891</td><td>1</td></tr><tr><td>38.994671</td><td>1</td></tr></tbody></table></div>"
      ],
      "text/plain": [
       "shape: (56_928, 2)\n",
       "┌───────────┬─────────┐\n",
       "│ dpla1     ┆ count   │\n",
       "│ ---       ┆ ---     │\n",
       "│ f64       ┆ u32     │\n",
       "╞═══════════╪═════════╡\n",
       "│ null      ┆ 1614372 │\n",
       "│ 48.856945 ┆ 21490   │\n",
       "│ 41.893055 ┆ 12454   │\n",
       "│ 52.516666 ┆ 11717   │\n",
       "│ 51.507221 ┆ 10130   │\n",
       "│ …         ┆ …       │\n",
       "│ 52.339699 ┆ 1       │\n",
       "│ 48.938599 ┆ 1       │\n",
       "│ 54.671299 ┆ 1       │\n",
       "│ 47.858891 ┆ 1       │\n",
       "│ 38.994671 ┆ 1       │\n",
       "└───────────┴─────────┘"
      ]
     },
     "metadata": {},
     "output_type": "display_data"
    },
    {
     "data": {
      "text/html": [
       "<div><style>\n",
       ".dataframe > thead > tr,\n",
       ".dataframe > tbody > tr {\n",
       "  text-align: right;\n",
       "  white-space: pre-wrap;\n",
       "}\n",
       "</style>\n",
       "<small>shape: (2, 2)</small><table border=\"1\" class=\"dataframe\"><thead><tr><th>pantheon_1</th><th>count</th></tr><tr><td>i64</td><td>u32</td></tr></thead><tbody><tr><td>0</td><td>2280027</td></tr><tr><td>1</td><td>11790</td></tr></tbody></table></div>"
      ],
      "text/plain": [
       "shape: (2, 2)\n",
       "┌────────────┬─────────┐\n",
       "│ pantheon_1 ┆ count   │\n",
       "│ ---        ┆ ---     │\n",
       "│ i64        ┆ u32     │\n",
       "╞════════════╪═════════╡\n",
       "│ 0          ┆ 2280027 │\n",
       "│ 1          ┆ 11790   │\n",
       "└────────────┴─────────┘"
      ]
     },
     "metadata": {},
     "output_type": "display_data"
    },
    {
     "data": {
      "text/html": [
       "<div><style>\n",
       ".dataframe > thead > tr,\n",
       ".dataframe > tbody > tr {\n",
       "  text-align: right;\n",
       "  white-space: pre-wrap;\n",
       "}\n",
       "</style>\n",
       "<small>shape: (1_150_446, 2)</small><table border=\"1\" class=\"dataframe\"><thead><tr><th>level3_all_occ</th><th>count</th></tr><tr><td>str</td><td>u32</td></tr></thead><tbody><tr><td>&quot;D:_football_P:…</td><td>32329</td></tr><tr><td>&quot;D:_P:&quot;</td><td>15417</td></tr><tr><td>&quot;D:_politician_…</td><td>13686</td></tr><tr><td>&quot;D:_football_P:…</td><td>12250</td></tr><tr><td>&quot;D:_cricket_P:_…</td><td>11295</td></tr><tr><td>&hellip;</td><td>&hellip;</td></tr><tr><td>&quot;D:_ski_P:_ ski…</td><td>1</td></tr><tr><td>&quot;D:_ski_P:_ ski…</td><td>1</td></tr><tr><td>&quot;D:_ski_skier_P…</td><td>1</td></tr><tr><td>&quot;D:_artist_P:_ …</td><td>1</td></tr><tr><td>&quot;D:_skier_P:_cr…</td><td>1</td></tr></tbody></table></div>"
      ],
      "text/plain": [
       "shape: (1_150_446, 2)\n",
       "┌───────────────────────────────────┬───────┐\n",
       "│ level3_all_occ                    ┆ count │\n",
       "│ ---                               ┆ ---   │\n",
       "│ str                               ┆ u32   │\n",
       "╞═══════════════════════════════════╪═══════╡\n",
       "│ D:_football_P:_football_English   ┆ 32329 │\n",
       "│ D:_P:                             ┆ 15417 │\n",
       "│ D:_politician_P:_politiker_Germa… ┆ 13686 │\n",
       "│ D:_football_P:_football_player_E… ┆ 12250 │\n",
       "│ D:_cricket_P:_cricket_English     ┆ 11295 │\n",
       "│ …                                 ┆ …     │\n",
       "│ D:_ski_P:_ ski_jumper_olympic_En… ┆ 1     │\n",
       "│ D:_ski_P:_ ski_jumper_olympic_En… ┆ 1     │\n",
       "│ D:_ski_skier_P:_ ski_jumper_Engl… ┆ 1     │\n",
       "│ D:_artist_P:_ comic_artist_comic… ┆ 1     │\n",
       "│ D:_skier_P:_cross country_skier_… ┆ 1     │\n",
       "└───────────────────────────────────┴───────┘"
      ]
     },
     "metadata": {},
     "output_type": "display_data"
    }
   ],
   "source": [
    "for col in ext:\n",
    "    display(col.value_counts(sort=True))"
   ]
  }
 ],
 "metadata": {
  "kernelspec": {
   "display_name": "big_data_project",
   "language": "python",
   "name": "python3"
  },
  "language_info": {
   "codemirror_mode": {
    "name": "ipython",
    "version": 3
   },
   "file_extension": ".py",
   "mimetype": "text/x-python",
   "name": "python",
   "nbconvert_exporter": "python",
   "pygments_lexer": "ipython3",
   "version": "3.12.2"
  }
 },
 "nbformat": 4,
 "nbformat_minor": 2
}
